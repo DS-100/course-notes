{
  "cells": [
    {
      "cell_type": "raw",
      "metadata": {},
      "source": [
        "---\n",
        "title: Gradient Descent\n",
        "execute:\n",
        "  echo: true\n",
        "format:\n",
        "  html:\n",
        "    code-fold: true\n",
        "    code-tools: true\n",
        "    toc: true\n",
        "    toc-title: Gradient Descent\n",
        "    page-layout: full\n",
        "    theme:\n",
        "      - cosmo\n",
        "      - cerulean\n",
        "    callout-icon: false\n",
        "---"
      ]
    },
    {
      "attachments": {},
      "cell_type": "markdown",
      "metadata": {},
      "source": [
        "::: {.callout-note collapse=\"true\"}\n",
        "## Learning Outcomes\n",
        "* Understand the standard workflow for fitting models in `sklearn`\n",
        "* Describe the conceptual basis for gradient descent\n",
        "* Compute the gradient descent update on a provided dataset\n",
        ":::\n",
        "\n",
        "At this point, we've grown quite familiar with the modeling process. We've introduced the concept of loss, used it to fit several types of models, and, most recently, extended our analysis to multiple regression. Along the way, we've forged our way through the mathematics of deriving the optimal model parameters in all of its gory detail. It's time to make our lives a little easier – let's implement the modeling process in code!\n",
        "\n",
        "In this lecture, we'll explore three techniques for model fitting:\n",
        "\n",
        "1. Translating our derived formulas for regression to Python\n",
        "2. Using the `sklearn` Python package\n",
        "3. Applying gradient descent for numerical optimization\n",
        "\n",
        "## Implementing Derived Formulas in Code\n",
        "\n",
        "Throughout this lecture, we'll refer to the `penguins` dataset. "
      ]
    },
    {
      "cell_type": "code",
      "execution_count": 106,
      "metadata": {},
      "outputs": [
        {
          "data": {
            "text/html": [
              "<div>\n",
              "<style scoped>\n",
              "    .dataframe tbody tr th:only-of-type {\n",
              "        vertical-align: middle;\n",
              "    }\n",
              "\n",
              "    .dataframe tbody tr th {\n",
              "        vertical-align: top;\n",
              "    }\n",
              "\n",
              "    .dataframe thead th {\n",
              "        text-align: right;\n",
              "    }\n",
              "</style>\n",
              "<table border=\"1\" class=\"dataframe\">\n",
              "  <thead>\n",
              "    <tr style=\"text-align: right;\">\n",
              "      <th></th>\n",
              "      <th>species</th>\n",
              "      <th>island</th>\n",
              "      <th>bill_length_mm</th>\n",
              "      <th>bill_depth_mm</th>\n",
              "      <th>flipper_length_mm</th>\n",
              "      <th>body_mass_g</th>\n",
              "      <th>sex</th>\n",
              "    </tr>\n",
              "  </thead>\n",
              "  <tbody>\n",
              "    <tr>\n",
              "      <th>0</th>\n",
              "      <td>Adelie</td>\n",
              "      <td>Torgersen</td>\n",
              "      <td>39.1</td>\n",
              "      <td>18.7</td>\n",
              "      <td>181.0</td>\n",
              "      <td>3750.0</td>\n",
              "      <td>Male</td>\n",
              "    </tr>\n",
              "    <tr>\n",
              "      <th>1</th>\n",
              "      <td>Adelie</td>\n",
              "      <td>Torgersen</td>\n",
              "      <td>39.5</td>\n",
              "      <td>17.4</td>\n",
              "      <td>186.0</td>\n",
              "      <td>3800.0</td>\n",
              "      <td>Female</td>\n",
              "    </tr>\n",
              "    <tr>\n",
              "      <th>2</th>\n",
              "      <td>Adelie</td>\n",
              "      <td>Torgersen</td>\n",
              "      <td>40.3</td>\n",
              "      <td>18.0</td>\n",
              "      <td>195.0</td>\n",
              "      <td>3250.0</td>\n",
              "      <td>Female</td>\n",
              "    </tr>\n",
              "    <tr>\n",
              "      <th>4</th>\n",
              "      <td>Adelie</td>\n",
              "      <td>Torgersen</td>\n",
              "      <td>36.7</td>\n",
              "      <td>19.3</td>\n",
              "      <td>193.0</td>\n",
              "      <td>3450.0</td>\n",
              "      <td>Female</td>\n",
              "    </tr>\n",
              "    <tr>\n",
              "      <th>5</th>\n",
              "      <td>Adelie</td>\n",
              "      <td>Torgersen</td>\n",
              "      <td>39.3</td>\n",
              "      <td>20.6</td>\n",
              "      <td>190.0</td>\n",
              "      <td>3650.0</td>\n",
              "      <td>Male</td>\n",
              "    </tr>\n",
              "  </tbody>\n",
              "</table>\n",
              "</div>"
            ],
            "text/plain": [
              "  species     island  bill_length_mm  bill_depth_mm  flipper_length_mm  \\\n",
              "0  Adelie  Torgersen            39.1           18.7              181.0   \n",
              "1  Adelie  Torgersen            39.5           17.4              186.0   \n",
              "2  Adelie  Torgersen            40.3           18.0              195.0   \n",
              "4  Adelie  Torgersen            36.7           19.3              193.0   \n",
              "5  Adelie  Torgersen            39.3           20.6              190.0   \n",
              "\n",
              "   body_mass_g     sex  \n",
              "0       3750.0    Male  \n",
              "1       3800.0  Female  \n",
              "2       3250.0  Female  \n",
              "4       3450.0  Female  \n",
              "5       3650.0    Male  "
            ]
          },
          "execution_count": 106,
          "metadata": {},
          "output_type": "execute_result"
        }
      ],
      "source": [
        "import pandas as pd\n",
        "import seaborn as sns\n",
        "import numpy as np\n",
        "\n",
        "penguins = sns.load_dataset(\"penguins\")\n",
        "penguins = penguins[penguins[\"species\"] == \"Adelie\"].dropna()\n",
        "penguins.head(5)"
      ]
    },
    {
      "attachments": {},
      "cell_type": "markdown",
      "metadata": {},
      "source": [
        "Suppose our goal is to predict the value of the `'bill depth'` for a particular penguin given its `'flipper length'`."
      ]
    },
    {
      "cell_type": "code",
      "execution_count": 107,
      "metadata": {},
      "outputs": [],
      "source": [
        "#| code-fold: false\n",
        "\n",
        "# Define the design matrix, X...\n",
        "X = penguins[[\"flipper_length_mm\"]]\n",
        "\n",
        "# ...as well as the target variable, y\n",
        "y = penguins[[\"bill_depth_mm\"]]"
      ]
    },
    {
      "attachments": {},
      "cell_type": "markdown",
      "metadata": {},
      "source": [
        "## Simple Linear Regression (SLR)\n",
        "\n",
        "In the SLR framework we learned last week, this means we are saying our model for `bill depth`, $y$, is a linear function of `flipper length`, $x$:  \n",
        "\n",
        "$$\\hat{y} = \\theta_0 + \\theta_1 x$$\n",
        "\n",
        "Let's do some EDA first.\n"
      ]
    },
    {
      "cell_type": "code",
      "execution_count": 108,
      "metadata": {},
      "outputs": [
        {
          "data": {
            "text/plain": [
              "<matplotlib.collections.PathCollection at 0x1fc16ecb550>"
            ]
          },
          "execution_count": 108,
          "metadata": {},
          "output_type": "execute_result"
        },
        {
          "data": {
            "image/png": "[encoded data removed]",
            "text/plain": [
              "<Figure size 432x288 with 1 Axes>"
            ]
          },
          "metadata": {
            "needs_background": "light"
          },
          "output_type": "display_data"
        }
      ],
      "source": [
        "import matplotlib.pyplot as plt\n",
        "\n",
        "plt.xlabel(\"flipper length (mm)\")\n",
        "plt.ylabel(\"bill depth (mm)\")\n",
        "plt.scatter(data = penguins, x = \"flipper_length_mm\", y = \"bill_depth_mm\")"
      ]
    },
    {
      "attachments": {},
      "cell_type": "markdown",
      "metadata": {},
      "source": [
        "Based on our EDA, there is a linear relationship, though it is somewhat weak."
      ]
    },
    {
      "attachments": {},
      "cell_type": "markdown",
      "metadata": {},
      "source": [
        "### SLR w/ Derived Analytical Formulas\n",
        "\n",
        "Let $\\hat{\\theta}_0$ and $\\hat{\\theta}_1$ be the choices that minimize the Mean Squared Error.\n",
        "\n",
        "\n",
        "One approach to compute $\\hat{\\theta}_0$ and $\\hat{\\theta}_1$ is analytically, using the equations we derived in a previous lecture:\n",
        "\n",
        "$$\\hat{\\theta}_0 = \\bar{y} - \\hat{\\theta}_1 \\bar{x}$$\n",
        "\n",
        "$$\\hat{\\theta}_1 = r \\frac{\\sigma_y}{\\sigma_x}$$\n",
        "\n",
        "$$r = \\frac{1}{n} \\sum_{i=1}^{n}\\left( \\frac{x_i - x}{\\sigma_x} \\right) \\left( \\frac{y_i - y}{\\sigma_y} \\right) $$\n",
        "\n",
        "Let's implement these using the base numpy library, which provides many important functions such as `.mean` and `.std` ."
      ]
    },
    {
      "cell_type": "code",
      "execution_count": 109,
      "metadata": {},
      "outputs": [
        {
          "name": "stdout",
          "output_type": "stream",
          "text": [
            "bias parameter: 7.297305899612297, \n",
            "slope parameter: 0.058126223695067675\n"
          ]
        }
      ],
      "source": [
        "x = penguins[\"flipper_length_mm\"]\n",
        "y = penguins[\"bill_depth_mm\"]\n",
        "\n",
        "x_bar, sigma_x = np.mean(x), np.std(x)\n",
        "y_bar, sigma_y = np.mean(y), np.std(y)\n",
        "r = np.sum((x - x_bar) / sigma_x * (y - y_bar) / sigma_y) / len(x)\n",
        "\n",
        "theta1_hat = r * sigma_y / sigma_x\n",
        "\n",
        "theta0_hat = y_bar - theta1_hat * x_bar\n",
        "\n",
        "print(f\"bias parameter: {theta0_hat}, \\nslope parameter: {theta1_hat}\".format(theta0_hat,theta1_hat))"
      ]
    },
    {
      "attachments": {},
      "cell_type": "markdown",
      "metadata": {},
      "source": [
        "\n",
        "\n",
        "### SLR Analytical Approach Performance\n",
        "\n",
        "Let's first assess how \"good\"  this model is using a performance metric. For this exercise, let's use the MSE. As a review:\n",
        "\n",
        "**Mean Squared Error**: We can compute this explicitly by averaging the square of the residuals $e_i$:\n",
        "\n",
        "$$\\large MSE  = \\sum_{i=1}^n (y_i - \\hat{y}_i)^2 = \\frac{1}{n}\\sum_{i=1}^n (e_i)^2 = \\frac{1}{n}$$"
      ]
    },
    {
      "cell_type": "code",
      "execution_count": 110,
      "metadata": {},
      "outputs": [
        {
          "name": "stdout",
          "output_type": "stream",
          "text": [
            "MSE:  1.3338778799806363\n"
          ]
        }
      ],
      "source": [
        "# using our estimated parameter values to create a column containing our \n",
        "# SLR predictions and errors\n",
        "penguins[\"analytical_preds_slr\"] = theta0_hat + theta1_hat * penguins[\"flipper_length_mm\"]\n",
        "\n",
        "penguins[\"residual\"] = penguins[\"bill_depth_mm\"] - penguins[\"analytical_preds_slr\"]\n",
        "                                          \n",
        "penguins\n",
        "\n",
        "print(\"MSE: \", np.mean(penguins[\"residual\"]**2))"
      ]
    },
    {
      "attachments": {},
      "cell_type": "markdown",
      "metadata": {},
      "source": [
        "Let's plot plot our results.\n"
      ]
    },
    {
      "cell_type": "code",
      "execution_count": 111,
      "metadata": {},
      "outputs": [
        {
          "data": {
            "image/png": "[encoded data removed]",
            "text/plain": [
              "<Figure size 432x288 with 1 Axes>"
            ]
          },
          "metadata": {
            "needs_background": "light"
          },
          "output_type": "display_data"
        }
      ],
      "source": [
        "sns.scatterplot(data = penguins, x = \"flipper_length_mm\", y = \"bill_depth_mm\")\n",
        "plt.plot(penguins[\"flipper_length_mm\"], penguins[\"analytical_preds_slr\"], 'r') # a line\n",
        "plt.legend([r'$\\hat{y}$', '$y$']);"
      ]
    },
    {
      "attachments": {},
      "cell_type": "markdown",
      "metadata": {},
      "source": [
        "### SLR w/ `sklearn`\n",
        "\n",
        "We've already saved a lot of time (and avoided tedious calculations) by translating our derived formulas into code. However, we still had to go through the process of writing out the linear algebra ourselves. \n",
        "\n",
        "To make life *even easier*, we can turn to the `sklearn` Python library. `sklearn` is a robust library of machine learning tools used extensively in research and industry. It gives us a wide variety of in-built modeling frameworks and methods, so we'll keep returning to `sklearn` techniques as we progress through Data 100. \n",
        "\n",
        "Regardless of the specific type of model being implemented, `sklearn` follows a standard set of steps for creating a model. \n",
        "\n",
        "1. Create a model object. This generates a new instance of the model class. You can think of it as making a new copy of a standard \"template\" for a model. In pseudocode, this looks like:\n",
        "    ```\n",
        "    my_model = ModelName()\n",
        "    ```\n",
        "2. Fit the model to the `X` design matrix and `Y` target vector. This calculates the optimal model parameters \"behind the scenes\" without us explicitly working through the calculations ourselves. The fitted parameters are then stored within the model for use in future predictions:\n",
        "    ```\n",
        "    my_model.fit(X, Y)\n",
        "    ```\n",
        "3. Analyze the fitted parameters using `.coef_` or `.intercept_`, or use the fitted model to make predictions on the `X` input data using `.predict`. \n",
        "\n",
        "    ```\n",
        "    my_model.coef_\n",
        "\n",
        "    my_model.intercept_\n",
        "    \n",
        "    my_model.predict(X)\n",
        "    ```\n",
        "\n",
        "Let's put this into action with our multiple regression task. First, initialize an instance of the `LinearRegression` class."
      ]
    },
    {
      "cell_type": "code",
      "execution_count": 112,
      "metadata": {},
      "outputs": [],
      "source": [
        "#| code-fold: false\n",
        "from sklearn.linear_model import LinearRegression\n",
        "\n",
        "model = LinearRegression()\n"
      ]
    },
    {
      "cell_type": "markdown",
      "metadata": {},
      "source": [
        "Next, fit the model instance to the design matrix `X` and target vector `Y` by calling `.fit`."
      ]
    },
    {
      "cell_type": "code",
      "execution_count": 113,
      "metadata": {},
      "outputs": [
        {
          "data": {
            "text/plain": [
              "LinearRegression()"
            ]
          },
          "execution_count": 113,
          "metadata": {},
          "output_type": "execute_result"
        }
      ],
      "source": [
        "#| code-fold: false\n",
        "model.fit(X, y)"
      ]
    },
    {
      "attachments": {},
      "cell_type": "markdown",
      "metadata": {},
      "source": [
        "And, lastly, generate predictions for $\\hat{Y}$ using the `.predict` method. Here are the first 5 penguins in our dataset. How close are our analytical solution's predictions to our `sklearn` model's predictions?"
      ]
    },
    {
      "cell_type": "code",
      "execution_count": 114,
      "metadata": {},
      "outputs": [
        {
          "name": "stdout",
          "output_type": "stream",
          "text": [
            "Analytical solution:  [17.81815239 18.10878351 18.63191952 18.51566707 18.3412884 ]\n",
            "Sklearn solution:  [17.81815239 18.10878351 18.63191952 18.51566707 18.3412884 ]\n"
          ]
        }
      ],
      "source": [
        "#| code-fold: false\n",
        "# Like before, show just the first 5 predictions. The output of predict is usually a np.array\n",
        "penguins[\"sklearn_preds_slr\"] = model.predict(X)\n",
        "analytical_5 = penguins[\"sklearn_preds_slr\"][:5].to_numpy()\n",
        "print(\"Analytical solution: \", analytical_5)\n",
        "sklearn_5 = penguins[\"analytical_preds_slr\"][:5].to_numpy()\n",
        "print(\"Sklearn solution: \", sklearn_5)\n",
        "\n"
      ]
    },
    {
      "attachments": {},
      "cell_type": "markdown",
      "metadata": {},
      "source": [
        "You can also use the model to predict what the `bill depth` of a hypothetical penguin with `flipper length` of 185mm would have."
      ]
    },
    {
      "cell_type": "code",
      "execution_count": 115,
      "metadata": {},
      "outputs": [
        {
          "name": "stderr",
          "output_type": "stream",
          "text": [
            "c:\\Users\\phanm\\anaconda3\\lib\\site-packages\\sklearn\\base.py:450: UserWarning: X does not have valid feature names, but LinearRegression was fitted with feature names\n",
            "  warnings.warn(\n"
          ]
        },
        {
          "data": {
            "text/plain": [
              "array([18.05065728])"
            ]
          },
          "execution_count": 115,
          "metadata": {},
          "output_type": "execute_result"
        }
      ],
      "source": [
        "# this produces a warning since we\n",
        "# did not specify what X this refers\n",
        "# to, but since we only \n",
        "# have one input it is negligible\n",
        "\n",
        "model.predict([[185]]) \n"
      ]
    },
    {
      "attachments": {},
      "cell_type": "markdown",
      "metadata": {},
      "source": [
        "We can also check if the fitted parameters,$\\hat{\\theta}_0,\\hat{\\theta}_1$, themselves are similar to our analytical solution. Note that since we can have at most 1 intercept in a SLR or OLS model, so we always get back a `scalar` value from `.intercept`. However, when OLS can have multiple coefficient values, so `.coef` returns an array.\n",
        "\n"
      ]
    },
    {
      "cell_type": "code",
      "execution_count": 116,
      "metadata": {},
      "outputs": [
        {
          "name": "stdout",
          "output_type": "stream",
          "text": [
            "analytical bias term:  7.297305899612297\n",
            "sklearn bias term:  7.297305899612306\n",
            "analytical coefficient terms:  0.058126223695067675\n",
            "sklearn coefficient terms:  [0.05812622]\n"
          ]
        }
      ],
      "source": [
        "theta0 = model.intercept_      # this a scalar\n",
        "print(\"analytical bias term: \", theta0_hat)\n",
        "print(\"sklearn bias term: \", theta0)\n",
        "\n",
        "\n",
        "theta1 = model.coef_           # this an array\n",
        "print(\"analytical coefficient terms: \", theta1_hat)\n",
        "print(\"sklearn coefficient terms: \", theta1)"
      ]
    },
    {
      "attachments": {},
      "cell_type": "markdown",
      "metadata": {},
      "source": [
        "### SLR `sklearn` Performance\n",
        "\n",
        "The `sklearn` package also provides a function that computes the MSE from a list of observations and predictions. This avoids us having to manually compute MSE by first computing residuals.\n",
        "\n",
        "[documentation](https://scikit-learn.org/stable/modules/generated/sklearn.metrics.mean_squared_error.html)"
      ]
    },
    {
      "cell_type": "code",
      "execution_count": 122,
      "metadata": {},
      "outputs": [
        {
          "name": "stdout",
          "output_type": "stream",
          "text": [
            "MSE:  1.3338778799806374\n"
          ]
        }
      ],
      "source": [
        "from sklearn.metrics import mean_squared_error\n",
        "MSE_sklearn = mean_squared_error(penguins[\"bill_depth_mm\"], penguins[\"sklearn_preds_slr\"])\n",
        "print(\"MSE: \", MSE_sklearn)\n"
      ]
    },
    {
      "attachments": {},
      "cell_type": "markdown",
      "metadata": {},
      "source": [
        "We've generated the exact same predictions and error as before, but without any need for manipulating matrices ourselves!  \n"
      ]
    },
    {
      "attachments": {},
      "cell_type": "markdown",
      "metadata": {},
      "source": [
        "## Multiple Linear Regression (OLS)\n",
        "\n",
        "\n",
        "In the previous lecture, we expressed multiple linear regression using matrix notation.\n",
        "\n",
        "$$\\hat{\\mathbb{Y}} = \\mathbb{X}\\theta$$\n",
        "\n",
        "### OLS w/ Derived Analytical Formulas\n",
        "\n",
        "We used a geometric approach to derive the following expression for the optimal model parameters under MSE error:\n",
        "\n",
        "$$\\hat{\\theta} = (\\mathbb{X}^T \\mathbb{X})^{-1}\\mathbb{X}^T \\mathbb{Y}$$\n",
        "\n",
        "That's a whole lot of matrix manipulation. How do we implement it in Python?\n",
        "\n",
        "There are three operations we need to perform here: multiplying matrices, taking transposes, and finding inverses. \n",
        "\n",
        "* To perform matrix multiplication, use the `@` operator\n",
        "* To take a transpose, call the `.T` attribute of an array or DataFrame\n",
        "* To compute an inverse, use `numpy`'s in-built method `np.linalg.inv`\n",
        "\n"
      ]
    },
    {
      "cell_type": "code",
      "execution_count": 136,
      "metadata": {},
      "outputs": [
        {
          "data": {
            "text/plain": [
              "0     0.009828\n",
              "1     0.001477\n",
              "2    11.002995\n",
              "dtype: float64"
            ]
          },
          "execution_count": 136,
          "metadata": {},
          "output_type": "execute_result"
        }
      ],
      "source": [
        "#| code-fold: false\n",
        "X = penguins[[\"flipper_length_mm\", \"body_mass_g\"]].copy()\n",
        "\n",
        "X[\"bias\"] = np.ones(len(X))\n",
        "y = penguins[\"bill_depth_mm\"]\n",
        "\n",
        "\n",
        "theta_hat = np.linalg.inv(X.T @ X) @ X.T @ y\n",
        "theta_hat  "
      ]
    },
    {
      "attachments": {},
      "cell_type": "markdown",
      "metadata": {},
      "source": [
        "Note that since we added \"bias\" last, `theta_hat[2]` is our estimated value for the $\\theta_0$. To make predictions using our newly-fitted model coefficients, matrix-multiply `X` and `theta_hat`."
      ]
    },
    {
      "cell_type": "code",
      "execution_count": 137,
      "metadata": {},
      "outputs": [],
      "source": [
        "#| code-fold: false\n",
        "y_hat = X.to_numpy() @ theta_hat\n",
        "\n",
        "# Show just the first 5 predictions to save space on the page\n",
        "y_hat[:5]\n",
        "penguins[\"analytical_preds_ols\"] = y_hat"
      ]
    },
    {
      "attachments": {},
      "cell_type": "markdown",
      "metadata": {},
      "source": [
        "Note, this technique doesn't work if our X is **not invertible**. \n",
        "\n",
        "### OLS w/ `sklearn`\n",
        "\n",
        "We can actually compute the optimal parameters very easily using sklearn, using the exact code that we wrote earlier. Note: sklearn does NOT use the normal equations. Instead it uses  gradient descent, a technique we will learn about soon, which can minimize ANY function, not just the MSE.\n"
      ]
    },
    {
      "cell_type": "code",
      "execution_count": 138,
      "metadata": {},
      "outputs": [
        {
          "data": {
            "text/plain": [
              "LinearRegression()"
            ]
          },
          "execution_count": 138,
          "metadata": {},
          "output_type": "execute_result"
        }
      ],
      "source": [
        "# creating our design matrix.\n",
        "# Note:\n",
        "#  - no bias term needed here bc of sklearn automatically includes one\n",
        "#  - to remove the intercept term, set the fit_intercept = true in LinearRegression constructor.\n",
        "\n",
        "X_2d = penguins[[\"flipper_length_mm\", \"body_mass_g\"]]\n",
        "y = penguins[\"bill_depth_mm\"]\n",
        "model_2d = LinearRegression() # note fit_intercept=True by default\n",
        "model_2d.fit(X_2d, y)"
      ]
    },
    {
      "attachments": {},
      "cell_type": "markdown",
      "metadata": {},
      "source": [
        "Now we again have a model with which we can use to make predictions. For example, we can ask our model about a penguin's bill depth if they have 185-mm flipper length and 3750 g body mass."
      ]
    },
    {
      "cell_type": "code",
      "execution_count": 139,
      "metadata": {},
      "outputs": [
        {
          "name": "stderr",
          "output_type": "stream",
          "text": [
            "c:\\Users\\phanm\\anaconda3\\lib\\site-packages\\sklearn\\base.py:450: UserWarning: X does not have valid feature names, but LinearRegression was fitted with feature names\n",
            "  warnings.warn(\n"
          ]
        },
        {
          "data": {
            "text/plain": [
              "array([18.36187501])"
            ]
          },
          "execution_count": 139,
          "metadata": {},
          "output_type": "execute_result"
        }
      ],
      "source": [
        "penguins[\"sklearn_predictions_ols\"] = model_2d.predict(X_2d)\n",
        "model_2d.predict([[185, 3750]]) \n",
        "# since we have a 2d data matrix, we maintain the same \n",
        "# row-column expectation for our inputs. "
      ]
    },
    {
      "attachments": {},
      "cell_type": "markdown",
      "metadata": {},
      "source": [
        "Just like with SLR, we cam also extract the coefficient estimates using `.coef_` and `.intercept`. The reason why `.intercept` returns an array should now be more clear."
      ]
    },
    {
      "cell_type": "code",
      "execution_count": 145,
      "metadata": {},
      "outputs": [
        {
          "name": "stdout",
          "output_type": "stream",
          "text": [
            "(sklearn) theta0: 11.002995277447068\n",
            "(analytical) theta0 11.002995277447535\n",
            "(sklearn) theta1: 0.009828486885248712\n",
            "(analytical) theta1 0.0098284868852512\n",
            "(sklearn) theta2: 0.0014774959083212896\n",
            "(analytical) theta2 0.0014774959083213644\n"
          ]
        }
      ],
      "source": [
        "print(f\"(sklearn) theta0: {model_2d.intercept_}\")\n",
        "print(f\"(analytical) theta0 {theta_hat[2]}\")\n",
        "print(f\"(sklearn) theta1: {model_2d.coef_[0]}\")\n",
        "print(f\"(analytical) theta1 {theta_hat[0]}\")\n",
        "print(f\"(sklearn) theta2: {model_2d.coef_[1]}\")\n",
        "print(f\"(analytical) theta2 {theta_hat[1]}\")\n"
      ]
    },
    {
      "attachments": {},
      "cell_type": "markdown",
      "metadata": {},
      "source": [
        "### Visualizing Our 2D Linear Model Predictions"
      ]
    },
    {
      "attachments": {},
      "cell_type": "markdown",
      "metadata": {},
      "source": [
        "When we have two axis with which we can change an input, moving along this input plan creates a 2d plane with which we can get model outputs for. For example, for every single penguin with a `flipper length` , we also must specify a `body mass`. These two values in combination will help us predict the `bill depth`. Thus, we see that the predictions all lie in a 2d-plane. In higher dimensions, they all lie in a \"hyperplane\". "
      ]
    },
    {
      "cell_type": "code",
      "execution_count": 148,
      "metadata": {},
      "outputs": [
        {
          "data": {
            "text/plain": [
              "Text(0.5, 0.5, 'body_mass_g')"
            ]
          },
          "execution_count": 148,
          "metadata": {},
          "output_type": "execute_result"
        },
        {
          "data": {
            "image/png": "[encoded data removed]",
            "text/plain": [
              "<Figure size 432x288 with 1 Axes>"
            ]
          },
          "metadata": {
            "needs_background": "light"
          },
          "output_type": "display_data"
        }
      ],
      "source": [
        "from mpl_toolkits.mplot3d import Axes3D  # noqa: F401 unused import\n",
        "fig = plt.figure()\n",
        "ax = fig.add_subplot(111, projection='3d')\n",
        "ax.scatter(penguins[\"flipper_length_mm\"], penguins[\"body_mass_g\"], penguins[\"bill_depth_mm\"])\n",
        "plt.xlabel('flipper_length_mm')\n",
        "plt.ylabel('body_mass_g')\n"
      ]
    },
    {
      "cell_type": "code",
      "execution_count": 149,
      "metadata": {},
      "outputs": [
        {
          "data": {
            "image/png": "[encoded data removed]",
            "text/plain": [
              "<Figure size 432x288 with 1 Axes>"
            ]
          },
          "metadata": {
            "needs_background": "light"
          },
          "output_type": "display_data"
        }
      ],
      "source": [
        "fig = plt.figure()\n",
        "ax = fig.add_subplot(111, projection='3d')\n",
        "ax.scatter(penguins[\"flipper_length_mm\"], penguins[\"body_mass_g\"], penguins[\"bill_depth_mm\"])\n",
        "xx, yy = np.meshgrid(range(170, 220, 10), range(2500, 4500, 100))\n",
        "zz = ( 11.0029 + 0.00982 * xx + 0.001477 * yy) # thetas_using_sklearn\n",
        "ax.plot_surface(xx, yy, zz, alpha=0.2)\n",
        "plt.xlabel('flipper_length_mm')\n",
        "plt.ylabel('body_mass_g')\n",
        "plt.gcf().savefig(\"plane.png\", dpi = 300, bbox_inches = \"tight\")"
      ]
    },
    {
      "attachments": {},
      "cell_type": "markdown",
      "metadata": {},
      "source": [
        "\n",
        "## Gradient Descent\n",
        "\n",
        "At this point, we're fairly comfortable with fitting a regression model under MSE risk (indeed, we've done it three times now!). It's important to remember, however, that the results we've found previously apply to one very specific case: the equations we used above are only relevant to a linear regression model using MSE as the cost function. In reality, we'll be working with a wide range of model types and objective functions, not all of which are as straightforward as the scenario we've discussed previously. This means that we need some more generalizable way of fitting a model to minimize loss. \n",
        "\n",
        "To do this, we'll introduce the technique of **gradient descent**.\n",
        "\n",
        "### Minimizing a 1D Function\n",
        "\n",
        "Let's shift our focus away from MSE to consider some new, arbitrary cost function. You can think of this function as outputting the empirical risk associated with some parameter `theta`. \n",
        "\n",
        "<img src=\"images/arbitrary.png\" alt='arbitrary' width='600'>\n",
        "\n",
        "#### The Naive Approach: Guess and Check\n",
        "\n",
        "Above, we saw that the minimum is somewhere around 5.3ish. Let's see if we can figure out how to find the exact minimum algorithmically from scratch. One way very slow and terrible way would be manual guess-and-check."
      ]
    },
    {
      "cell_type": "code",
      "execution_count": 171,
      "metadata": {},
      "outputs": [
        {
          "data": {
            "text/plain": [
              "5.421052631578947"
            ]
          },
          "execution_count": 171,
          "metadata": {},
          "output_type": "execute_result"
        }
      ],
      "source": [
        "def arbitrary(x):\n",
        "    return (x**4 - 15*x**3 + 80*x**2 - 180*x + 144)/10\n",
        "\n",
        "def simple_minimize(f, xs):\n",
        "    # Takes in a function f and a set of values xs. \n",
        "    # Calculates the value of the function f at all values x in xs\n",
        "    # Takes the minimum value of f(x) and returns the corresponding value x \n",
        "    y = [f(x) for x in xs]  \n",
        "    return xs[np.argmin(y)]\n",
        "\n",
        "simple_minimize(arbitrary, np.linspace(1, 7, 20))"
      ]
    },
    {
      "attachments": {},
      "cell_type": "markdown",
      "metadata": {},
      "source": [
        "#### Scipy.optimize.minimize\n",
        "\n",
        "One way to minimize this mathematical function is to use the `scipy.optimize.minimize` function. It takes a function and a starting guess and tries to find the minimum."
      ]
    },
    {
      "cell_type": "code",
      "execution_count": 175,
      "metadata": {},
      "outputs": [
        {
          "data": {
            "text/plain": [
              "      fun: -0.13827491292966557\n",
              " hess_inv: array([[0.73848255]])\n",
              "      jac: array([6.48573041e-06])\n",
              "  message: 'Optimization terminated successfully.'\n",
              "     nfev: 20\n",
              "      nit: 3\n",
              "     njev: 10\n",
              "   status: 0\n",
              "  success: True\n",
              "        x: array([2.39275266])"
            ]
          },
          "execution_count": 175,
          "metadata": {},
          "output_type": "execute_result"
        }
      ],
      "source": [
        "from scipy.optimize import minimize\n",
        "\n",
        "# takes a function f and a starting point x0 and returns a readout \n",
        "# with the optimal input value of x which minimizes f\n",
        "minimize(arbitrary, x0 = 3.5)"
      ]
    },
    {
      "attachments": {},
      "cell_type": "markdown",
      "metadata": {},
      "source": [
        "Our choice of start point can affect the outcome. For example if we start to the left, we get stuck in the local minimum on the left side."
      ]
    },
    {
      "cell_type": "code",
      "execution_count": 173,
      "metadata": {},
      "outputs": [
        {
          "data": {
            "text/plain": [
              "      fun: -0.13827491294422317\n",
              " hess_inv: array([[0.74751575]])\n",
              "      jac: array([-3.7997961e-07])\n",
              "  message: 'Optimization terminated successfully.'\n",
              "     nfev: 16\n",
              "      nit: 7\n",
              "     njev: 8\n",
              "   status: 0\n",
              "  success: True\n",
              "        x: array([2.3927478])"
            ]
          },
          "execution_count": 173,
          "metadata": {},
          "output_type": "execute_result"
        }
      ],
      "source": [
        "minimize(arbitrary, x0 = 1)\n",
        "\n",
        "#here we see the optimal value is different from before"
      ]
    },
    {
      "attachments": {},
      "cell_type": "markdown",
      "metadata": {},
      "source": [
        "`scipy.optimize.minimize` is great. It may also seem a bit magical. How could you write a function that can find the minimum of any mathematical function? There are a number of ways to do this, which we'll explore in today's lecture, eventually arriving at the important idea of **gradient descent**, which is the principle that `scipy.optimize.minimize` uses.\n",
        "\n",
        "It turns out that under the hood, the `fit` method for `LinearRegression` models uses gradient descent. Gradient descent is also how much of machine learning works, including even advanced neural network models. \n",
        "\n",
        "In Data 100, the gradient descent process will usually be invisible to us, hidden beneath an abstraction layer. However, to be good data scientists, it's important that we know the basic principles beyond the optimization functions that harness to find optimal parmaeters."
      ]
    },
    {
      "attachments": {},
      "cell_type": "markdown",
      "metadata": {},
      "source": [
        "\n",
        "### Digging into Gradient Descent\n",
        "Looking at the function across this domain, it is clear that the function's minimum value occurs around $\\theta = 5.3$. Let's pretend for a moment that we *couldn't* see the full view of the cost function. How would we guess the value of $\\theta$ that minimizes the function? \n",
        "\n",
        "It turns out that the first derivative of the function can give us a clue. In the plots below, the line indicates the value of the derivative of each value of $\\theta$. The derivative is negative where it is red and positive where it is green.\n",
        "\n",
        "\n",
        "\n",
        "Say we make a guess for the minimizing value of $\\theta$. Remember that we read plots from left to right, and assume that our starting $\\theta$ value is to the left of the optimal $\\hat{\\theta}$. If the guess \"undershoots\" the true minimizing value – our guess for $\\theta$ is not quite at the value of the $\\hat{\\theta}$ that truly minimizes the function – the derivative will be **negative** in value. This means that if we increase $\\theta$ (move further to the right), then we **can decrease** our loss function further. If this guess \"overshoots\" the true minimizing value, the derivative will be positive in value, implying the converse.\n",
        "\n",
        "<img src=\"images/step.png\" alt='step' width='600'>\n",
        "\n",
        "We can use this pattern to help formulate our next guess for the optimal $\\hat{\\theta}$. Consider the case where we've undershot $\\theta$ by guessing too low of a value. We'll want our next guess to be greater in value than the previous guess – that is, we want to shift our guess to the right. You can think of this as following the slope \"downhill\" to the function's minimum value.\n",
        "\n",
        "<img src=\"images/neg_step.png\" alt='neg_step' width='600'>\n",
        "\n",
        "If we've overshot $\\hat{\\theta}$ by guessing too high of a value, we'll want our next guess to be lower in value – we want to shift our guess for $\\hat{\\theta}$ to the left. \n",
        "\n",
        "<img src=\"images/pos_step.png\" alt='pos_step' width='600'>\n",
        "\n",
        "### Formalizing Gradient Descent\n",
        "\n",
        "These observations lead us to the **gradient descent update rule**:\n",
        "$$\\theta^{(t+1)} = \\theta^{(t)} - \\alpha \\frac{dL}{d\\theta}$$\n",
        "\n",
        "Begin with our guess for $\\hat{\\theta}$ at timestep $t$. To find our guess for $\\hat{\\theta}$ at the next timestep, $t+1$, subtract a multiple of the objective function's derivative, $\\frac{dL}{d\\theta}$. We've replaced the generic function $f$ with $L$ to indicate that we are minimizing loss.\n",
        "\n",
        "* If our guess $\\theta^{(t)}$ was too low (undershooting $\\hat{\\theta}$), $\\frac{dL}{d\\theta}$ will be negative. Subtracting a negative number from $\\theta^{(t)}$ will *increase* the value of the next guess, $\\theta^{(t+1)}$. The guess will shift to the right.\n",
        "* If our guess $\\theta^{(t)}$ was too high (overshooting $\\hat{\\theta}$), $\\frac{dL}{d\\theta}$ will be positive. Subtracting a positive number from $\\theta^{(t)}$ will *decrease* the value of the next guess, $\\theta^{(t+1)}$. The guess will shift to the left.\n",
        "\n",
        "Put together, this captures the same behavior we reasoned through above. We repeatedly update our guess for the optimal $\\theta$ until we've completed a set number of updates, or until each additional update iteration does not change the value of $\\theta$. In this second case, we say that gradient descent has **converged** on a solution. \n",
        "\n",
        "The $\\alpha$ term in the update rule is known as the **learning rate**. It represents the size of each gradient descent update step – in other words, how \"far\" should we step to the left or right with each updated guess? A high value of $\\alpha$ will lead to large differences in value between consecutive guesses for $\\hat{\\theta}$; a low value of $\\alpha$ will result in smaller differences in value between consecutive guesses. This is the first example of a **hyperparameter**, a parameter that is hand picked by the data scientist that changes the model's behavior, in the course.\n"
      ]
    },
    {
      "cell_type": "code",
      "execution_count": 162,
      "metadata": {},
      "outputs": [
        {
          "data": {
            "text/plain": [
              "array([4.        , 4.12      , 4.26729664, 4.44272584, 4.64092624,\n",
              "       4.8461837 , 5.03211854, 5.17201478, 5.25648449, 5.29791149,\n",
              "       5.31542718, 5.3222606 , 5.32483298, 5.32578765, 5.32614004,\n",
              "       5.32626985, 5.32631764, 5.32633523, 5.3263417 , 5.32634408])"
            ]
          },
          "execution_count": 162,
          "metadata": {},
          "output_type": "execute_result"
        }
      ],
      "source": [
        "# define the derivative of the arbitrary function we want to minimize\n",
        "def derivative_arbitrary(x):\n",
        "    return (4*x**3 - 45*x**2 + 160*x - 180)/10\n",
        "\n",
        "def gradient_descent(df, initial_guess, alpha, n):\n",
        "    \"\"\"Performs n steps of gradient descent on df using learning rate alpha starting\n",
        "       from initial_guess. Returns a numpy array of all guesses over time.\"\"\"\n",
        "    guesses = [initial_guess]\n",
        "    current_guess = initial_guess\n",
        "    while len(guesses) < n:\n",
        "        current_guess = current_guess - alpha * df(current_guess)\n",
        "        guesses.append(current_guess)\n",
        "        \n",
        "    return np.array(guesses)\n",
        "\n",
        "# calling our function gives us the path that gradient descent takes for 20 steps \n",
        "# with a learning rate of 0.3 starting at theta = 4\n",
        "trajectory = gradient_descent(derivative_arbitrary, 4, 0.3, 20)\n",
        "trajectory"
      ]
    },
    {
      "attachments": {},
      "cell_type": "markdown",
      "metadata": {},
      "source": [
        "Above, we've simply run our algorithm a fixed number of times. More sophisticated implementations will stop based on a variety of different stopping criteria, e.g. error getting too small, error getting too large, etc. We will not discuss these in our course."
      ]
    },
    {
      "attachments": {},
      "cell_type": "markdown",
      "metadata": {},
      "source": [
        "### Loss Terminology\n",
        "\n",
        "We use the word \"loss\" in two different (but very related) contexts in this course.\n",
        "\n",
        "- In general, loss is the cost function that measures how far off model's prediction(s) is(are) from the actual value(s).\n",
        "\n",
        "    - Per-datapoint loss is a cost function that measures the cost of $y$ vs $\\hat{y}$ for a particular datapoint. \n",
        "    - Loss (without any adjectives) is generally a cost function measured across all datapoints. Often times, *empirical risk* is *average per-datapoint loss*.\n",
        "\n",
        "- We prioritize using the latter term, because we don't particularly look at a given datapoint's loss when optimizing a model.\n",
        "    \n",
        "    - In other words, the dataset-level loss is the objective function that we'd like to minimize using gradient descent.\n",
        "    - We achieve this minimization by using **per-datapoint** loss values.\n"
      ]
    },
    {
      "attachments": {},
      "cell_type": "markdown",
      "metadata": {},
      "source": [
        "### Application of 1D Gradient Descent\n",
        "\n",
        "We’ve seen how to find the optimal parameters for a 1D linear model for the penguin dataset:\n",
        "\n",
        "- Using the derived equations from Data 8.\n",
        "- Using `sklearn`.\n",
        "    - Uses gradient descent under the hood!\n",
        "\n",
        "In real practice in this course, we’ll usually use `sklearn`. But for now, let’s see how we can do the gradient descent ourselves.\n",
        "\n",
        "Let's consider a case where we have a linear model with no offset. \n",
        "\n",
        "$$\\hat{y} = \\theta_1 x$$\n",
        "\n",
        "We want to find the parameter $\\theta_1$ such that the L2 loss is minimized. In sklearn, this is easy. To avoid fitting an intercept, we set `fit_intercept` to false."
      ]
    },
    {
      "cell_type": "code",
      "execution_count": 164,
      "metadata": {},
      "outputs": [
        {
          "data": {
            "text/plain": [
              "array([0.1437319])"
            ]
          },
          "execution_count": 164,
          "metadata": {},
          "output_type": "execute_result"
        }
      ],
      "source": [
        "model = LinearRegression(fit_intercept = False)\n",
        "df = sns.load_dataset(\"tips\")\n",
        "model.fit(df[[\"total_bill\"]], df[\"tip\"])\n",
        "model.coef_ # the optimal tip percentage is 14.37%"
      ]
    },
    {
      "attachments": {},
      "cell_type": "markdown",
      "metadata": {},
      "source": [
        "### Creating an Explicit MSE Function\n",
        "\n",
        "To employ gradient descent and do this ourselves, we need to define a function upon which we can use gradient descent. Suppose we select the L2 loss as our loss function. In this case, our goal will be to minimize the mean squared error. \n",
        "\n",
        "Let's start by writing a function that computes the MSE for a given choice of $\\theta_1$ on our dataset."
      ]
    },
    {
      "cell_type": "code",
      "execution_count": 168,
      "metadata": {},
      "outputs": [
        {
          "data": {
            "text/plain": [
              "1.1781165940051928"
            ]
          },
          "execution_count": 168,
          "metadata": {},
          "output_type": "execute_result"
        }
      ],
      "source": [
        "def mse_single_arg(theta1):\n",
        "    \"\"\"Returns the MSE on our data for the given theta1\"\"\"\n",
        "    x = df[\"total_bill\"]\n",
        "    y_obs = df[\"tip\"]\n",
        "    y_hat = theta1 * x\n",
        "    return np.mean((y_hat - y_obs) ** 2)\n",
        "\n",
        "mse_single_arg(0.1437)\n",
        "# The minimum loss value that we can achieve is 1.178 dollars on average away from the truth"
      ]
    },
    {
      "attachments": {},
      "cell_type": "markdown",
      "metadata": {},
      "source": [
        "### Plotting the MSE Function\n",
        "\n",
        "Since we only have 1 parameter, we can simply cross reference our results with a simnple plot. We do not want to always do this since some functions can have thousands of inputs, making them difficult to plot. We can plot the MSE as a function of `theta1`. It turns out to look pretty smooth, and quite similar to a parabola."
      ]
    },
    {
      "cell_type": "code",
      "execution_count": 169,
      "metadata": {},
      "outputs": [
        {
          "data": {
            "image/png": "[encoded data removed]",
            "text/plain": [
              "<Figure size 432x288 with 1 Axes>"
            ]
          },
          "metadata": {
            "needs_background": "light"
          },
          "output_type": "display_data"
        }
      ],
      "source": [
        "theta1s = np.linspace(0, 0.2, 200)\n",
        "x = df[\"total_bill\"]\n",
        "y_obs = df[\"tip\"]\n",
        "\n",
        "MSEs = [mse_single_arg(theta1) for theta1 in theta1s]\n",
        "\n",
        "plt.plot(theta1s, MSEs)\n",
        "plt.xlabel(r\"Choice for $\\theta_1$\")\n",
        "plt.ylabel(r\"MSE\");"
      ]
    },
    {
      "attachments": {},
      "cell_type": "markdown",
      "metadata": {},
      "source": [
        "The minimum appears to be around $\\theta_1 = 0.14$. We can once again check this naively."
      ]
    },
    {
      "cell_type": "code",
      "execution_count": 176,
      "metadata": {},
      "outputs": [
        {
          "data": {
            "text/plain": [
              "0.14"
            ]
          },
          "execution_count": 176,
          "metadata": {},
          "output_type": "execute_result"
        }
      ],
      "source": [
        "simple_minimize(mse_single_arg, np.linspace(0, 0.2, 21))"
      ]
    },
    {
      "attachments": {},
      "cell_type": "markdown",
      "metadata": {},
      "source": [
        "As before, what we're doing is computing all the starred values below and then returning the $\\theta_1$ that goes with the minimum value."
      ]
    },
    {
      "cell_type": "code",
      "execution_count": 177,
      "metadata": {},
      "outputs": [
        {
          "data": {
            "image/png": "[encoded data removed]",
            "text/plain": [
              "<Figure size 432x288 with 1 Axes>"
            ]
          },
          "metadata": {
            "needs_background": "light"
          },
          "output_type": "display_data"
        }
      ],
      "source": [
        "theta1s = np.linspace(0, 0.2, 200)\n",
        "sparse_theta1s = np.linspace(0, 0.2, 21)\n",
        "\n",
        "loss = [mse_single_arg(theta1) for theta1 in theta1s]\n",
        "sparse_loss = [mse_single_arg(theta1) for theta1 in sparse_theta1s]\n",
        "\n",
        "plt.plot(theta1s, loss)\n",
        "plt.plot(sparse_theta1s, sparse_loss, 'r*')\n",
        "plt.xlabel(r\"Choice for $\\theta_1$\")\n",
        "plt.ylabel(r\"MSE\");"
      ]
    },
    {
      "attachments": {},
      "cell_type": "markdown",
      "metadata": {},
      "source": [
        "#### Using Scipy.Optimize.minimize"
      ]
    },
    {
      "cell_type": "code",
      "execution_count": null,
      "metadata": {},
      "outputs": [],
      "source": [
        "import scipy.optimize\n",
        "from scipy.optimize import minimize\n",
        "minimize(mse_single_arg, x0 = 0)"
      ]
    },
    {
      "attachments": {},
      "cell_type": "markdown",
      "metadata": {},
      "source": [
        "#### Using Our Gradient Descent Function\n",
        "\n",
        "Another approach is to use our 1D gradient descent algorithm from earlier. This is the exact same function as earlier. We can run it for 100 steps and see where it ultimately ends up."
      ]
    },
    {
      "cell_type": "code",
      "execution_count": 179,
      "metadata": {},
      "outputs": [
        {
          "data": {
            "text/plain": [
              "array([0.14372404, 0.14372478, 0.14372545, 0.14372605, 0.1437266 ])"
            ]
          },
          "execution_count": 179,
          "metadata": {},
          "output_type": "execute_result"
        }
      ],
      "source": [
        "def mse_loss_derivative_single_arg(theta_1):\n",
        "    \"\"\"Returns the derivative of the MSE on our data for the given theta1\"\"\"\n",
        "    x = df[\"total_bill\"]\n",
        "    y_obs = df[\"tip\"]\n",
        "    y_hat = theta_1 * x\n",
        "    \n",
        "    return np.mean(2 * (y_hat - y_obs) * x)\n",
        "\n",
        "gradient_descent(mse_loss_derivative_single_arg, 0.05, 0.0001, 100)[-5:]"
      ]
    },
    {
      "attachments": {},
      "cell_type": "markdown",
      "metadata": {},
      "source": [
        "### Gradient Notation\n",
        "\n",
        "Consider the 2D function: $$f(\\theta_0, \\theta_1) = 8\\theta_0^2 + 3\\theta_0\\theta_1$$\n",
        "\n",
        "For a function of 2 variables, $f(\\theta_0, \\theta_1)$ we define the gradient as $\\nabla_\\theta f = \\frac{\\partial f}{\\partial \\theta_0} \\vec{i} +  \\frac{\\partial f}{\\partial \\theta_1} \\vec{j} $, where $\\vec{i}$ and $\\vec{j}$ are the unit vectors in the $\\theta_0$ and $\\theta_1$ directions.\n",
        "\n",
        "$$\\frac{\\partial f}{\\partial \\theta_0} = 16\\theta_0 + 3\\theta_1$$\n",
        "\n",
        "$$\\frac{\\partial f}{\\partial \\theta_1} = 3\\theta_0$$\n",
        "\n",
        "$$\\nabla_\\theta f =  (16\\theta_0 + 3\\theta_1)\\vec{i} + (3\\theta_0)\\vec{j}$$\n",
        "\n",
        "We can also write it in column vector notation. \n",
        "\n",
        "$$\\nabla_\\theta f =  \\begin{bmatrix} \\frac{\\partial f}{\\partial \\theta_0} \\\\ \\frac{\\partial f}{\\partial \\theta_1} \\\\... \\end{bmatrix}$$\n",
        "\n",
        "EX: $\\nabla_\\theta f =  \\begin{bmatrix}16\\theta_0 + 3\\theta_1 \\\\ 3\\theta_0\\end{bmatrix}$\n",
        "\n",
        "You should read these gradients as:\n",
        "\n",
        "- $\\frac{\\partial f}{\\partial \\theta_0}$ : If I nudge the 1st model weight, what happens to loss?\n",
        "-  $\\frac{\\partial f}{\\partial \\theta_1}$ :If I nudge the 2nd model weight, what happens to loss?\n",
        "- etc.\n",
        "\n",
        "\n",
        "### Multidimensional Gradient Descent\n",
        "We're in good shape now: we've developed a technique to find the minimum value of a more complex objective function. \n",
        "\n",
        "The function we worked with above was one-dimensional – we were only minimizing the function with respect to a single parameter, $\\theta$. However, as we've seen before, we often need to optimize a cost function with respect to several parameters (for example, when selecting the best model parameters for multiple linear regression). We'll need to extend our gradient descent rule to *multidimensional* objective functions.\n",
        "\n",
        "Now suppose we improve our model so that we want to predict the tip from the total_bill plus a constant offset, in other words:\n",
        "\n",
        "$$\\textrm{tip} = \\theta_0 + \\theta_1 \\textrm{bill}$$\n",
        "\n",
        "To put this in more concrete terms what this means, let's return to the familiar case of simple linear regression with MSE loss.\n",
        "$$\\text{MSE}(\\theta_0,\\:\\theta_1) = \\frac{1}{n} \\sum_{i=1}^{n} (y_i - \\hat{y}_i)^2 = \\frac{1}{n} \\sum_{i=1}^{n} (y_i - \\theta_0 - \\theta_1 x)^2$$\n",
        "\n",
        "Now, loss is expressed in terms of *two* parameters, $\\theta_0$ and $\\theta_1$. Rather than a one-dimensional loss function as we had above, we are now dealing with a two-dimensional **loss surface**."
      ]
    },
    {
      "cell_type": "code",
      "execution_count": 160,
      "metadata": {},
      "outputs": [
        {
          "data": {
            "application/vnd.plotly.v1+json": {
              "config": {
                "plotlyServerURL": "https://plot.ly"
              },
              "data": [
                {
                  "type": "surface",
                  "x": [
                    [
                      0,
                      0.2222222222222222,
                      0.4444444444444444,
                      0.6666666666666666,
                      0.8888888888888888,
                      1.1111111111111112,
                      1.3333333333333333,
                      1.5555555555555554,
                      1.7777777777777777,
                      2
                    ],
                    [
                      0,
                      0.2222222222222222,
                      0.4444444444444444,
                      0.6666666666666666,
                      0.8888888888888888,
                      1.1111111111111112,
                      1.3333333333333333,
                      1.5555555555555554,
                      1.7777777777777777,
                      2
                    ],
                    [
                      0,
                      0.2222222222222222,
                      0.4444444444444444,
                      0.6666666666666666,
                      0.8888888888888888,
                      1.1111111111111112,
                      1.3333333333333333,
                      1.5555555555555554,
                      1.7777777777777777,
                      2
                    ],
                    [
                      0,
                      0.2222222222222222,
                      0.4444444444444444,
                      0.6666666666666666,
                      0.8888888888888888,
                      1.1111111111111112,
                      1.3333333333333333,
                      1.5555555555555554,
                      1.7777777777777777,
                      2
                    ],
                    [
                      0,
                      0.2222222222222222,
                      0.4444444444444444,
                      0.6666666666666666,
                      0.8888888888888888,
                      1.1111111111111112,
                      1.3333333333333333,
                      1.5555555555555554,
                      1.7777777777777777,
                      2
                    ],
                    [
                      0,
                      0.2222222222222222,
                      0.4444444444444444,
                      0.6666666666666666,
                      0.8888888888888888,
                      1.1111111111111112,
                      1.3333333333333333,
                      1.5555555555555554,
                      1.7777777777777777,
                      2
                    ],
                    [
                      0,
                      0.2222222222222222,
                      0.4444444444444444,
                      0.6666666666666666,
                      0.8888888888888888,
                      1.1111111111111112,
                      1.3333333333333333,
                      1.5555555555555554,
                      1.7777777777777777,
                      2
                    ],
                    [
                      0,
                      0.2222222222222222,
                      0.4444444444444444,
                      0.6666666666666666,
                      0.8888888888888888,
                      1.1111111111111112,
                      1.3333333333333333,
                      1.5555555555555554,
                      1.7777777777777777,
                      2
                    ],
                    [
                      0,
                      0.2222222222222222,
                      0.4444444444444444,
                      0.6666666666666666,
                      0.8888888888888888,
                      1.1111111111111112,
                      1.3333333333333333,
                      1.5555555555555554,
                      1.7777777777777777,
                      2
                    ],
                    [
                      0,
                      0.2222222222222222,
                      0.4444444444444444,
                      0.6666666666666666,
                      0.8888888888888888,
                      1.1111111111111112,
                      1.3333333333333333,
                      1.5555555555555554,
                      1.7777777777777777,
                      2
                    ]
                  ],
                  "y": [
                    [
                      0,
                      0,
                      0,
                      0,
                      0,
                      0,
                      0,
                      0,
                      0,
                      0
                    ],
                    [
                      0.022222222222222223,
                      0.022222222222222223,
                      0.022222222222222223,
                      0.022222222222222223,
                      0.022222222222222223,
                      0.022222222222222223,
                      0.022222222222222223,
                      0.022222222222222223,
                      0.022222222222222223,
                      0.022222222222222223
                    ],
                    [
                      0.044444444444444446,
                      0.044444444444444446,
                      0.044444444444444446,
                      0.044444444444444446,
                      0.044444444444444446,
                      0.044444444444444446,
                      0.044444444444444446,
                      0.044444444444444446,
                      0.044444444444444446,
                      0.044444444444444446
                    ],
                    [
                      0.06666666666666667,
                      0.06666666666666667,
                      0.06666666666666667,
                      0.06666666666666667,
                      0.06666666666666667,
                      0.06666666666666667,
                      0.06666666666666667,
                      0.06666666666666667,
                      0.06666666666666667,
                      0.06666666666666667
                    ],
                    [
                      0.08888888888888889,
                      0.08888888888888889,
                      0.08888888888888889,
                      0.08888888888888889,
                      0.08888888888888889,
                      0.08888888888888889,
                      0.08888888888888889,
                      0.08888888888888889,
                      0.08888888888888889,
                      0.08888888888888889
                    ],
                    [
                      0.11111111111111112,
                      0.11111111111111112,
                      0.11111111111111112,
                      0.11111111111111112,
                      0.11111111111111112,
                      0.11111111111111112,
                      0.11111111111111112,
                      0.11111111111111112,
                      0.11111111111111112,
                      0.11111111111111112
                    ],
                    [
                      0.13333333333333333,
                      0.13333333333333333,
                      0.13333333333333333,
                      0.13333333333333333,
                      0.13333333333333333,
                      0.13333333333333333,
                      0.13333333333333333,
                      0.13333333333333333,
                      0.13333333333333333,
                      0.13333333333333333
                    ],
                    [
                      0.15555555555555556,
                      0.15555555555555556,
                      0.15555555555555556,
                      0.15555555555555556,
                      0.15555555555555556,
                      0.15555555555555556,
                      0.15555555555555556,
                      0.15555555555555556,
                      0.15555555555555556,
                      0.15555555555555556
                    ],
                    [
                      0.17777777777777778,
                      0.17777777777777778,
                      0.17777777777777778,
                      0.17777777777777778,
                      0.17777777777777778,
                      0.17777777777777778,
                      0.17777777777777778,
                      0.17777777777777778,
                      0.17777777777777778,
                      0.17777777777777778
                    ],
                    [
                      0.2,
                      0.2,
                      0.2,
                      0.2,
                      0.2,
                      0.2,
                      0.2,
                      0.2,
                      0.2,
                      0.2
                    ]
                  ],
                  "z": [
                    [
                      10.896283606557375,
                      9.61309801659583,
                      8.428677858733051,
                      7.3430231329690345,
                      6.3561338393037845,
                      5.4680099777373,
                      4.678651548269581,
                      3.988058550900628,
                      3.3962309856304396,
                      2.9031688524590162
                    ],
                    [
                      8.123556369763206,
                      7.035787497065371,
                      6.046784056466302,
                      5.156546047965999,
                      4.365073471564461,
                      3.6723663272616873,
                      3.0784246150576804,
                      2.5832483349524393,
                      2.1868374869459624,
                      1.8891920710382517
                    ],
                    [
                      5.815433238615665,
                      4.923081083181542,
                      4.129494359846185,
                      3.434673068609593,
                      2.838617209471767,
                      2.3413267824327058,
                      1.9428017874924104,
                      1.6430422246508807,
                      1.442048093908116,
                      1.3398193952641166
                    ],
                    [
                      3.9719142131147542,
                      3.2749787749443433,
                      2.6768087688726983,
                      2.177404194899818,
                      1.7767650530257035,
                      1.474891343250354,
                      1.2717830655737705,
                      1.1674402199959524,
                      1.1618628065168994,
                      1.255050825136612
                    ],
                    [
                      2.592999293260474,
                      2.0914805723537744,
                      1.6887272835458407,
                      1.384739426836673,
                      1.1795170022262702,
                      1.0730600097146326,
                      1.0653684493017608,
                      1.1564423209876544,
                      1.346281624772313,
                      1.6348863606557378
                    ],
                    [
                      1.678688479052823,
                      1.372586475409836,
                      1.1652499038656143,
                      1.056678764420158,
                      1.046873057073467,
                      1.1358327818255416,
                      1.3235579386763814,
                      1.6100485276259866,
                      1.9953045486743575,
                      2.479326001821494
                    ],
                    [
                      1.2289817704918033,
                      1.118296484112528,
                      1.1063766298320177,
                      1.1932222076502732,
                      1.378833217567294,
                      1.66320965958308,
                      2.046351533697632,
                      2.5282588399109494,
                      3.108931578223032,
                      3.7883697486338797
                    ],
                    [
                      1.2438791675774135,
                      1.32861059846185,
                      1.5121074614450516,
                      1.7943697565270191,
                      2.175397483707751,
                      2.65519064298725,
                      3.2337492343655123,
                      3.9110732578425416,
                      4.687162713418336,
                      5.562017601092896
                    ],
                    [
                      1.7233806703096541,
                      2.0035288184578026,
                      2.3824423987047156,
                      2.8601214110503954,
                      3.4365658554948397,
                      4.1117757320380495,
                      4.885751040680025,
                      5.758491781420764,
                      6.729997954260271,
                      7.8002695591985445
                    ],
                    [
                      2.667486278688525,
                      3.1430511441003843,
                      3.717381441611011,
                      4.390477171220401,
                      5.162338332928559,
                      6.032964926735478,
                      7.002356952641167,
                      8.070514410645618,
                      9.237437300748836,
                      10.50312562295082
                    ]
                  ]
                },
                {
                  "marker": {
                    "color": "red",
                    "size": 10
                  },
                  "name": "Optimal Point",
                  "type": "scatter3d",
                  "x": [
                    0.8888888888888888
                  ],
                  "y": [
                    0.11111111111111112
                  ],
                  "z": [
                    1.046873057073467
                  ]
                }
              ],
              "layout": {
                "scene": {
                  "xaxis": {
                    "title": {
                      "text": "theta0"
                    }
                  },
                  "yaxis": {
                    "title": {
                      "text": "theta1"
                    }
                  },
                  "zaxis": {
                    "title": {
                      "text": "MSE"
                    }
                  }
                },
                "template": {
                  "data": {
                    "bar": [
                      {
                        "error_x": {
                          "color": "#2a3f5f"
                        },
                        "error_y": {
                          "color": "#2a3f5f"
                        },
                        "marker": {
                          "line": {
                            "color": "#E5ECF6",
                            "width": 0.5
                          },
                          "pattern": {
                            "fillmode": "overlay",
                            "size": 10,
                            "solidity": 0.2
                          }
                        },
                        "type": "bar"
                      }
                    ],
                    "barpolar": [
                      {
                        "marker": {
                          "line": {
                            "color": "#E5ECF6",
                            "width": 0.5
                          },
                          "pattern": {
                            "fillmode": "overlay",
                            "size": 10,
                            "solidity": 0.2
                          }
                        },
                        "type": "barpolar"
                      }
                    ],
                    "carpet": [
                      {
                        "aaxis": {
                          "endlinecolor": "#2a3f5f",
                          "gridcolor": "white",
                          "linecolor": "white",
                          "minorgridcolor": "white",
                          "startlinecolor": "#2a3f5f"
                        },
                        "baxis": {
                          "endlinecolor": "#2a3f5f",
                          "gridcolor": "white",
                          "linecolor": "white",
                          "minorgridcolor": "white",
                          "startlinecolor": "#2a3f5f"
                        },
                        "type": "carpet"
                      }
                    ],
                    "choropleth": [
                      {
                        "colorbar": {
                          "outlinewidth": 0,
                          "ticks": ""
                        },
                        "type": "choropleth"
                      }
                    ],
                    "contour": [
                      {
                        "colorbar": {
                          "outlinewidth": 0,
                          "ticks": ""
                        },
                        "colorscale": [
                          [
                            0,
                            "#0d0887"
                          ],
                          [
                            0.1111111111111111,
                            "#46039f"
                          ],
                          [
                            0.2222222222222222,
                            "#7201a8"
                          ],
                          [
                            0.3333333333333333,
                            "#9c179e"
                          ],
                          [
                            0.4444444444444444,
                            "#bd3786"
                          ],
                          [
                            0.5555555555555556,
                            "#d8576b"
                          ],
                          [
                            0.6666666666666666,
                            "#ed7953"
                          ],
                          [
                            0.7777777777777778,
                            "#fb9f3a"
                          ],
                          [
                            0.8888888888888888,
                            "#fdca26"
                          ],
                          [
                            1,
                            "#f0f921"
                          ]
                        ],
                        "type": "contour"
                      }
                    ],
                    "contourcarpet": [
                      {
                        "colorbar": {
                          "outlinewidth": 0,
                          "ticks": ""
                        },
                        "type": "contourcarpet"
                      }
                    ],
                    "heatmap": [
                      {
                        "colorbar": {
                          "outlinewidth": 0,
                          "ticks": ""
                        },
                        "colorscale": [
                          [
                            0,
                            "#0d0887"
                          ],
                          [
                            0.1111111111111111,
                            "#46039f"
                          ],
                          [
                            0.2222222222222222,
                            "#7201a8"
                          ],
                          [
                            0.3333333333333333,
                            "#9c179e"
                          ],
                          [
                            0.4444444444444444,
                            "#bd3786"
                          ],
                          [
                            0.5555555555555556,
                            "#d8576b"
                          ],
                          [
                            0.6666666666666666,
                            "#ed7953"
                          ],
                          [
                            0.7777777777777778,
                            "#fb9f3a"
                          ],
                          [
                            0.8888888888888888,
                            "#fdca26"
                          ],
                          [
                            1,
                            "#f0f921"
                          ]
                        ],
                        "type": "heatmap"
                      }
                    ],
                    "heatmapgl": [
                      {
                        "colorbar": {
                          "outlinewidth": 0,
                          "ticks": ""
                        },
                        "colorscale": [
                          [
                            0,
                            "#0d0887"
                          ],
                          [
                            0.1111111111111111,
                            "#46039f"
                          ],
                          [
                            0.2222222222222222,
                            "#7201a8"
                          ],
                          [
                            0.3333333333333333,
                            "#9c179e"
                          ],
                          [
                            0.4444444444444444,
                            "#bd3786"
                          ],
                          [
                            0.5555555555555556,
                            "#d8576b"
                          ],
                          [
                            0.6666666666666666,
                            "#ed7953"
                          ],
                          [
                            0.7777777777777778,
                            "#fb9f3a"
                          ],
                          [
                            0.8888888888888888,
                            "#fdca26"
                          ],
                          [
                            1,
                            "#f0f921"
                          ]
                        ],
                        "type": "heatmapgl"
                      }
                    ],
                    "histogram": [
                      {
                        "marker": {
                          "pattern": {
                            "fillmode": "overlay",
                            "size": 10,
                            "solidity": 0.2
                          }
                        },
                        "type": "histogram"
                      }
                    ],
                    "histogram2d": [
                      {
                        "colorbar": {
                          "outlinewidth": 0,
                          "ticks": ""
                        },
                        "colorscale": [
                          [
                            0,
                            "#0d0887"
                          ],
                          [
                            0.1111111111111111,
                            "#46039f"
                          ],
                          [
                            0.2222222222222222,
                            "#7201a8"
                          ],
                          [
                            0.3333333333333333,
                            "#9c179e"
                          ],
                          [
                            0.4444444444444444,
                            "#bd3786"
                          ],
                          [
                            0.5555555555555556,
                            "#d8576b"
                          ],
                          [
                            0.6666666666666666,
                            "#ed7953"
                          ],
                          [
                            0.7777777777777778,
                            "#fb9f3a"
                          ],
                          [
                            0.8888888888888888,
                            "#fdca26"
                          ],
                          [
                            1,
                            "#f0f921"
                          ]
                        ],
                        "type": "histogram2d"
                      }
                    ],
                    "histogram2dcontour": [
                      {
                        "colorbar": {
                          "outlinewidth": 0,
                          "ticks": ""
                        },
                        "colorscale": [
                          [
                            0,
                            "#0d0887"
                          ],
                          [
                            0.1111111111111111,
                            "#46039f"
                          ],
                          [
                            0.2222222222222222,
                            "#7201a8"
                          ],
                          [
                            0.3333333333333333,
                            "#9c179e"
                          ],
                          [
                            0.4444444444444444,
                            "#bd3786"
                          ],
                          [
                            0.5555555555555556,
                            "#d8576b"
                          ],
                          [
                            0.6666666666666666,
                            "#ed7953"
                          ],
                          [
                            0.7777777777777778,
                            "#fb9f3a"
                          ],
                          [
                            0.8888888888888888,
                            "#fdca26"
                          ],
                          [
                            1,
                            "#f0f921"
                          ]
                        ],
                        "type": "histogram2dcontour"
                      }
                    ],
                    "mesh3d": [
                      {
                        "colorbar": {
                          "outlinewidth": 0,
                          "ticks": ""
                        },
                        "type": "mesh3d"
                      }
                    ],
                    "parcoords": [
                      {
                        "line": {
                          "colorbar": {
                            "outlinewidth": 0,
                            "ticks": ""
                          }
                        },
                        "type": "parcoords"
                      }
                    ],
                    "pie": [
                      {
                        "automargin": true,
                        "type": "pie"
                      }
                    ],
                    "scatter": [
                      {
                        "marker": {
                          "colorbar": {
                            "outlinewidth": 0,
                            "ticks": ""
                          }
                        },
                        "type": "scatter"
                      }
                    ],
                    "scatter3d": [
                      {
                        "line": {
                          "colorbar": {
                            "outlinewidth": 0,
                            "ticks": ""
                          }
                        },
                        "marker": {
                          "colorbar": {
                            "outlinewidth": 0,
                            "ticks": ""
                          }
                        },
                        "type": "scatter3d"
                      }
                    ],
                    "scattercarpet": [
                      {
                        "marker": {
                          "colorbar": {
                            "outlinewidth": 0,
                            "ticks": ""
                          }
                        },
                        "type": "scattercarpet"
                      }
                    ],
                    "scattergeo": [
                      {
                        "marker": {
                          "colorbar": {
                            "outlinewidth": 0,
                            "ticks": ""
                          }
                        },
                        "type": "scattergeo"
                      }
                    ],
                    "scattergl": [
                      {
                        "marker": {
                          "colorbar": {
                            "outlinewidth": 0,
                            "ticks": ""
                          }
                        },
                        "type": "scattergl"
                      }
                    ],
                    "scattermapbox": [
                      {
                        "marker": {
                          "colorbar": {
                            "outlinewidth": 0,
                            "ticks": ""
                          }
                        },
                        "type": "scattermapbox"
                      }
                    ],
                    "scatterpolar": [
                      {
                        "marker": {
                          "colorbar": {
                            "outlinewidth": 0,
                            "ticks": ""
                          }
                        },
                        "type": "scatterpolar"
                      }
                    ],
                    "scatterpolargl": [
                      {
                        "marker": {
                          "colorbar": {
                            "outlinewidth": 0,
                            "ticks": ""
                          }
                        },
                        "type": "scatterpolargl"
                      }
                    ],
                    "scatterternary": [
                      {
                        "marker": {
                          "colorbar": {
                            "outlinewidth": 0,
                            "ticks": ""
                          }
                        },
                        "type": "scatterternary"
                      }
                    ],
                    "surface": [
                      {
                        "colorbar": {
                          "outlinewidth": 0,
                          "ticks": ""
                        },
                        "colorscale": [
                          [
                            0,
                            "#0d0887"
                          ],
                          [
                            0.1111111111111111,
                            "#46039f"
                          ],
                          [
                            0.2222222222222222,
                            "#7201a8"
                          ],
                          [
                            0.3333333333333333,
                            "#9c179e"
                          ],
                          [
                            0.4444444444444444,
                            "#bd3786"
                          ],
                          [
                            0.5555555555555556,
                            "#d8576b"
                          ],
                          [
                            0.6666666666666666,
                            "#ed7953"
                          ],
                          [
                            0.7777777777777778,
                            "#fb9f3a"
                          ],
                          [
                            0.8888888888888888,
                            "#fdca26"
                          ],
                          [
                            1,
                            "#f0f921"
                          ]
                        ],
                        "type": "surface"
                      }
                    ],
                    "table": [
                      {
                        "cells": {
                          "fill": {
                            "color": "#EBF0F8"
                          },
                          "line": {
                            "color": "white"
                          }
                        },
                        "header": {
                          "fill": {
                            "color": "#C8D4E3"
                          },
                          "line": {
                            "color": "white"
                          }
                        },
                        "type": "table"
                      }
                    ]
                  },
                  "layout": {
                    "annotationdefaults": {
                      "arrowcolor": "#2a3f5f",
                      "arrowhead": 0,
                      "arrowwidth": 1
                    },
                    "autotypenumbers": "strict",
                    "coloraxis": {
                      "colorbar": {
                        "outlinewidth": 0,
                        "ticks": ""
                      }
                    },
                    "colorscale": {
                      "diverging": [
                        [
                          0,
                          "#8e0152"
                        ],
                        [
                          0.1,
                          "#c51b7d"
                        ],
                        [
                          0.2,
                          "#de77ae"
                        ],
                        [
                          0.3,
                          "#f1b6da"
                        ],
                        [
                          0.4,
                          "#fde0ef"
                        ],
                        [
                          0.5,
                          "#f7f7f7"
                        ],
                        [
                          0.6,
                          "#e6f5d0"
                        ],
                        [
                          0.7,
                          "#b8e186"
                        ],
                        [
                          0.8,
                          "#7fbc41"
                        ],
                        [
                          0.9,
                          "#4d9221"
                        ],
                        [
                          1,
                          "#276419"
                        ]
                      ],
                      "sequential": [
                        [
                          0,
                          "#0d0887"
                        ],
                        [
                          0.1111111111111111,
                          "#46039f"
                        ],
                        [
                          0.2222222222222222,
                          "#7201a8"
                        ],
                        [
                          0.3333333333333333,
                          "#9c179e"
                        ],
                        [
                          0.4444444444444444,
                          "#bd3786"
                        ],
                        [
                          0.5555555555555556,
                          "#d8576b"
                        ],
                        [
                          0.6666666666666666,
                          "#ed7953"
                        ],
                        [
                          0.7777777777777778,
                          "#fb9f3a"
                        ],
                        [
                          0.8888888888888888,
                          "#fdca26"
                        ],
                        [
                          1,
                          "#f0f921"
                        ]
                      ],
                      "sequentialminus": [
                        [
                          0,
                          "#0d0887"
                        ],
                        [
                          0.1111111111111111,
                          "#46039f"
                        ],
                        [
                          0.2222222222222222,
                          "#7201a8"
                        ],
                        [
                          0.3333333333333333,
                          "#9c179e"
                        ],
                        [
                          0.4444444444444444,
                          "#bd3786"
                        ],
                        [
                          0.5555555555555556,
                          "#d8576b"
                        ],
                        [
                          0.6666666666666666,
                          "#ed7953"
                        ],
                        [
                          0.7777777777777778,
                          "#fb9f3a"
                        ],
                        [
                          0.8888888888888888,
                          "#fdca26"
                        ],
                        [
                          1,
                          "#f0f921"
                        ]
                      ]
                    },
                    "colorway": [
                      "#636efa",
                      "#EF553B",
                      "#00cc96",
                      "#ab63fa",
                      "#FFA15A",
                      "#19d3f3",
                      "#FF6692",
                      "#B6E880",
                      "#FF97FF",
                      "#FECB52"
                    ],
                    "font": {
                      "color": "#2a3f5f"
                    },
                    "geo": {
                      "bgcolor": "white",
                      "lakecolor": "white",
                      "landcolor": "#E5ECF6",
                      "showlakes": true,
                      "showland": true,
                      "subunitcolor": "white"
                    },
                    "hoverlabel": {
                      "align": "left"
                    },
                    "hovermode": "closest",
                    "mapbox": {
                      "style": "light"
                    },
                    "paper_bgcolor": "white",
                    "plot_bgcolor": "#E5ECF6",
                    "polar": {
                      "angularaxis": {
                        "gridcolor": "white",
                        "linecolor": "white",
                        "ticks": ""
                      },
                      "bgcolor": "#E5ECF6",
                      "radialaxis": {
                        "gridcolor": "white",
                        "linecolor": "white",
                        "ticks": ""
                      }
                    },
                    "scene": {
                      "xaxis": {
                        "backgroundcolor": "#E5ECF6",
                        "gridcolor": "white",
                        "gridwidth": 2,
                        "linecolor": "white",
                        "showbackground": true,
                        "ticks": "",
                        "zerolinecolor": "white"
                      },
                      "yaxis": {
                        "backgroundcolor": "#E5ECF6",
                        "gridcolor": "white",
                        "gridwidth": 2,
                        "linecolor": "white",
                        "showbackground": true,
                        "ticks": "",
                        "zerolinecolor": "white"
                      },
                      "zaxis": {
                        "backgroundcolor": "#E5ECF6",
                        "gridcolor": "white",
                        "gridwidth": 2,
                        "linecolor": "white",
                        "showbackground": true,
                        "ticks": "",
                        "zerolinecolor": "white"
                      }
                    },
                    "shapedefaults": {
                      "line": {
                        "color": "#2a3f5f"
                      }
                    },
                    "ternary": {
                      "aaxis": {
                        "gridcolor": "white",
                        "linecolor": "white",
                        "ticks": ""
                      },
                      "baxis": {
                        "gridcolor": "white",
                        "linecolor": "white",
                        "ticks": ""
                      },
                      "bgcolor": "#E5ECF6",
                      "caxis": {
                        "gridcolor": "white",
                        "linecolor": "white",
                        "ticks": ""
                      }
                    },
                    "title": {
                      "x": 0.05
                    },
                    "xaxis": {
                      "automargin": true,
                      "gridcolor": "white",
                      "linecolor": "white",
                      "ticks": "",
                      "title": {
                        "standoff": 15
                      },
                      "zerolinecolor": "white",
                      "zerolinewidth": 2
                    },
                    "yaxis": {
                      "automargin": true,
                      "gridcolor": "white",
                      "linecolor": "white",
                      "ticks": "",
                      "title": {
                        "standoff": 15
                      },
                      "zerolinecolor": "white",
                      "zerolinewidth": 2
                    }
                  }
                }
              }
            }
          },
          "metadata": {},
          "output_type": "display_data"
        }
      ],
      "source": [
        "# This code is for illustration purposes only\n",
        "# It contains a lot of syntax you have not seen\n",
        "import plotly.graph_objects as go\n",
        "\n",
        "model = LinearRegression(fit_intercept = False)\n",
        "df = sns.load_dataset(\"tips\")\n",
        "df[\"bias\"] = 1\n",
        "model.fit(df[[\"bias\",\"total_bill\"]], df[\"tip\"])\n",
        "model.coef_\n",
        "\n",
        "uvalues = np.linspace(0, 2, 10)\n",
        "vvalues = np.linspace(0, 0.2, 10)\n",
        "(u,v) = np.meshgrid(uvalues, vvalues)\n",
        "thetas = np.vstack((u.flatten(),v.flatten()))\n",
        "\n",
        "X = df[[\"bias\",\"total_bill\"]].to_numpy()\n",
        "Y = df[\"tip\"].to_numpy()\n",
        "\n",
        "def mse_loss_single_arg(theta):\n",
        "    return mse_loss(theta, X, Y)\n",
        "\n",
        "def mse_loss(theta, X, y_obs):\n",
        "    y_hat = X @ theta\n",
        "    return np.mean((y_hat - Y) ** 2)    \n",
        "\n",
        "MSE = np.array([mse_loss_single_arg(t) for t in thetas.T])\n",
        "\n",
        "loss_surface = go.Surface(x=u, y=v, z=np.reshape(MSE, u.shape))\n",
        "\n",
        "ind = np.argmin(MSE)\n",
        "optimal_point = go.Scatter3d(name = \"Optimal Point\",\n",
        "    x = [thetas.T[ind,0]], y = [thetas.T[ind,1]], \n",
        "    z = [MSE[ind]],\n",
        "    marker=dict(size=10, color=\"red\"))\n",
        "\n",
        "fig = go.Figure(data=[loss_surface, optimal_point])\n",
        "fig.update_layout(scene = dict(\n",
        "    xaxis_title = \"theta0\",\n",
        "    yaxis_title = \"theta1\",\n",
        "    zaxis_title = \"MSE\"))\n",
        "fig.show()"
      ]
    },
    {
      "attachments": {},
      "cell_type": "markdown",
      "metadata": {},
      "source": [
        "Though our objective function looks a little different, we can use the same principles as we did earlier to locate the optimal model parameters. Notice how the minimum value of MSE, marked by the red dot in the plot above, occurs in the \"valley\" of the loss surface. Like before, we want our guesses for the best pair of $(\\theta_0,\\:\\theta_1)$ to move \"downhill\" towards this minimum point. \n",
        "\n",
        "The difference now is that we need to update guesses for *both* $\\theta_0$ and $\\theta_1$:\n",
        "$$\\theta_0^{(t+1)} = \\theta_0^{(t)} - \\alpha \\frac{dL}{d\\theta_0} \\qquad \\qquad \\theta_1^{(t+1)} = \\theta_1^{(t)} - \\alpha \\frac{dL}{d\\theta_1}$$\n",
        "\n",
        "We can tidy this statement up by using vector notation:\n",
        "$$\\begin{bmatrix}\n",
        "           \\theta_{0}^{(t+1)} \\\\\n",
        "           \\theta_{1}^{(t+1)} \\\\\n",
        "         \\end{bmatrix}\n",
        "=\n",
        "\\begin{bmatrix}\n",
        "           \\theta_{0}^{(t)} \\\\\n",
        "           \\theta_{1}^{(t)} \\\\\n",
        "         \\end{bmatrix}\n",
        "- \\alpha\n",
        "\\begin{bmatrix}\n",
        "           \\frac{dL}{d\\theta_{0}} \\\\\n",
        "           \\frac{dL}{d\\theta_{1}} \\\\\n",
        "         \\end{bmatrix}\n",
        "$$\n",
        "\n",
        "To save ourselves from writing out long column vectors, we'll introduce some new notation. $\\vec{\\theta}^{(t)}$ is a column vector of guesses for each model parameter $\\theta_i$ at timestep $t$. We call $\\nabla_{\\vec{\\theta}} L$ the **gradient vector.** In plain English, it means \"take the derivative of loss, $L$, with respect to each model parameter in $\\vec{\\theta}$.\"\n",
        "\n",
        "$$\\vec{\\theta}^{(t+1)}\n",
        "= \\vec{\\theta}^{(t)} - \\alpha \\nabla_{\\vec{\\theta}} L\n",
        "$$\n",
        "\n",
        "### We have `Multidimensional Gradient Descent` at home\n",
        "\n",
        "First, we need to be able to easily determine the gradient for any pair of values, $\\theta_0, \\theta_1$."
      ]
    },
    {
      "cell_type": "code",
      "execution_count": 187,
      "metadata": {},
      "outputs": [
        {
          "name": "stdout",
          "output_type": "stream",
          "text": [
            "Gradient for values theta0 = 0 and theta1 = 0 : [  -5.99655738 -135.22631803]\n"
          ]
        }
      ],
      "source": [
        "tips_with_bias = df.copy()\n",
        "tips_with_bias[\"bias\"] = 1\n",
        "X = tips_with_bias[[\"bias\", \"total_bill\"]]\n",
        "X.head(5)\n",
        "\n",
        "def mse_gradient(theta, X, y_obs):\n",
        "    \"\"\"Returns the gradient of the MSE on our data for the given theta\"\"\"    \n",
        "    x0 = X.iloc[:, 0]\n",
        "    x1 = X.iloc[:, 1]\n",
        "    dth0 = np.mean(-2 * (y_obs - theta[0]*x0 - theta[1]*x1) * x0)\n",
        "    dth1 = np.mean(-2 * (y_obs - theta[0]*x0 - theta[1]*x1) * x1)\n",
        "    return np.array([dth0, dth1])\n",
        "\n",
        "def mse_gradient_single_arg(theta):\n",
        "    \"\"\"Returns the gradient of the MSE on our data for the given theta\"\"\"\n",
        "    X = tips_with_bias[[\"bias\", \"total_bill\"]]\n",
        "    y_obs = tips_with_bias[\"tip\"]\n",
        "    return mse_gradient(theta, X, y_obs)\n",
        "\n",
        "X = tips_with_bias[[\"bias\", \"total_bill\"]]\n",
        "y_obs = tips_with_bias[\"tip\"]\n",
        "ex1_mse = mse_gradient(np.array([0, 0]), X, y_obs)\n",
        "\n",
        "print(f\"Gradient for values theta0 = 0 and theta1 = 0 : {ex1_mse}\")"
      ]
    },
    {
      "attachments": {},
      "cell_type": "markdown",
      "metadata": {},
      "source": [
        "Using our previously previously defined `gradient_descent` function, we can see if our intuition extends to higher dimensions. "
      ]
    },
    {
      "cell_type": "code",
      "execution_count": 188,
      "metadata": {},
      "outputs": [],
      "source": [
        "#print out the last 10 guesses our algorithm outputs to save space\n",
        "guesses = gradient_descent(mse_gradient_single_arg, np.array([0, 0]), 0.001, 10000)[-10:]"
      ]
    },
    {
      "attachments": {},
      "cell_type": "markdown",
      "metadata": {},
      "source": [
        "\n",
        "### (Mini-)Batch, and Stochastic Descent\n",
        "\n",
        "Formally, the algorithm we derived above is called **batch gradient descent.** For each iteration of the algorithm, the derivative of loss is computed across the entire batch of available data. While this update rule works well in theory, it is not practical in all circumstances. For large datasets (with perhaps billions of data points), finding the gradient across all the data is incredibly computationally taxing. \n",
        "\n",
        "**Mini-batch gradient descent** tries to address this issue. In mini-batch descent, only a subset of the data is used to compute an estimate of the gradient. For example, we might consider only 10% of the total data at each gradient descent update step. At the next iteration, a different 10% of the data is sampled to perform the following update. Once the entire dataset has been used, the process is repeated. Each complete \"pass\" through the data is known as a **training epoch**.\n",
        "\n",
        "In the extreme case, we might choose a batch size of only 1 data point – that is, a single data point is used to estimate the gradient of loss with each update step. This is known as **stochastic gradient descent**.\n",
        "\n",
        "Batch gradient descent is a deterministic technique – because the entire dataset is used at each update iteration, the algorithm will always advance towards the minimum of the loss surface. In contrast, both mini-batch and stochastic gradient descent involve an element of randomness. Since only a subset of the full data is used to update the guess for $\\vec{\\theta}$ at each iteration, there's a chance the algorithm will not progress towards the true minimum of loss with each update. Over the longer term, these stochastic techniques should still converge towards the optimal solution. \n",
        "\n",
        "The diagrams below represent a \"bird's eye view\" of a loss surface from above. Notice that batch gradient descent takes a direct path towards the optimal $\\hat{\\theta}$. Stochastic gradient descent, in contrast, \"hops around\" on its path to the minimum point on the loss surface. This reflects the randomness of the sampling process at each update step.\n",
        "\n",
        "<img src=\"images/stochastic.png\" alt='stochastic' width='600'>\n"
      ]
    },
    {
      "attachments": {},
      "cell_type": "markdown",
      "metadata": {},
      "source": [
        "### A Word on Covexity\n",
        "In our analysis above, we focused our attention on the global minimum of the loss function. You may be wondering: what about the local minimum just to the left? \n",
        "\n",
        "If we had chosen a different starting guess for $\\theta$, or a different value for the learning rate $\\alpha$, we may have converged on the local minimum, rather than on the true optimum value of loss. \n",
        "\n",
        "<img src=\"images/local.png\" alt='local' width='600'>\n",
        "\n",
        "If the loss function is **convex**, gradient descent is guaranteed to find the global minimum of the objective function. Formally, a function $f$ is convex if:\n",
        "$$tf(a) + (1-t)f(b) \\geq f(ta + (1-t)b)$$\n",
        "\n",
        "To put this into words: if you drew a line between any two points on the curve, all values on the curve must be *on or below* the line. Importantly, any local minimum of a convex function is also its global minimum. \n",
        "\n",
        "<img src=\"images/convex.png\" alt='convex' width='600'>\n",
        "\n",
        "In summary, non-convex loss functions can cause problems with optimization. This means that our choice of loss function is an key factor in our modeling process. It turns out that MSE *is* convex, which is a major reason why it is such a popular choice of loss function."
      ]
    }
  ],
  "metadata": {
    "kernelspec": {
      "display_name": "Python (myenv)",
      "language": "python",
      "name": "myenv"
    },
    "language_info": {
      "codemirror_mode": {
        "name": "ipython",
        "version": 3
      },
      "file_extension": ".py",
      "mimetype": "text/x-python",
      "name": "python",
      "nbconvert_exporter": "python",
      "pygments_lexer": "ipython3",
      "version": "3.9.12"
    }
  },
  "nbformat": 4,
  "nbformat_minor": 4
}
