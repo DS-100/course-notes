{
 "cells": [
  {
   "cell_type": "raw",
   "metadata": {},
   "source": [
    "---\n",
    "title: Regular Expressions\n",
    "format:\n",
    "  html:\n",
    "    toc: true\n",
    "    toc-depth: 5\n",
    "    toc-location: right\n",
    "    code-fold: false\n",
    "    theme:\n",
    "      - cosmo\n",
    "      - cerulean\n",
    "    callout-icon: false\n",
    "---"
   ]
  },
  {
   "cell_type": "markdown",
   "metadata": {},
   "source": [
    "::: {.callout-note collapse=\"true\"}\n",
    "## Learning Outcomes\n",
    ":::"
   ]
  },
  {
   "cell_type": "markdown",
   "metadata": {},
   "source": [
    "## Why Work with Text?"
   ]
  },
  {
   "cell_type": "markdown",
   "metadata": {},
   "source": [
    "Last lecture, we learned of the difference between quantitative and qualitative variable types. The latter includes string data - the primary focus of today's lecture. In this note, we'll discuss the necessary tools to manipulate text: Python string manipulation and regular expressions. \n",
    "\n",
    "There are two main reasons for working with text.\n",
    "\n",
    "1. Canonicalization: Convert data that has multiple formats into a standard form.\n",
    "    - By manipulating text, we can join tables with mismatched string labels\n",
    "2. Extract information into a new feature.\n",
    "    - We can extract data and time features from raw log files"
   ]
  },
  {
   "cell_type": "markdown",
   "metadata": {},
   "source": [
    "## Python String Methods"
   ]
  },
  {
   "cell_type": "markdown",
   "metadata": {},
   "source": [
    "First, we'll introduce a few methods useful for string manipulation. The following table includes a number of string operations supported by Python and `pandas`. The Python functions operate on a single string, while their equivalent in `pandas` are  **vectorized** - they operate on a Series of string data."
   ]
  },
  {
   "cell_type": "markdown",
   "metadata": {},
   "source": [
    "+-----------------------+-----------------+---------------------------+\n",
    "| Operation             | Python          | Pandas (Series)           |\n",
    "+=======================+=================+===========================+\n",
    "| Transformation        | - `s.lower(_)`  | - `ser.str.lower(_)`      |\n",
    "|                       | - `s.upper(_)`  | - `ser.str.upper(_)`      |\n",
    "+-----------------------+-----------------+---------------------------+\n",
    "| Replacement + Deletion| - `s.replace(_)`| - `ser.str.replace(_)`    |\n",
    "|                       |                 |                           |\n",
    "+-----------------------+-----------------+---------------------------+\n",
    "| Split                 | - `s.split(_)`  | - `ser.str.split(_)`      |\n",
    "|                       |                 |                           |\n",
    "+-----------------------+-----------------+---------------------------+\n",
    "| Substring             | - `s[1:4]`      | - `ser.str[1:4]`          |\n",
    "|                       |                 |                           |\n",
    "+-----------------------+-----------------+---------------------------+\n",
    "| Membership            | - `'_' in s`    | - `ser.str.contains(_)`   |\n",
    "|                       |                 |                           |\n",
    "+-----------------------+-----------------+---------------------------+\n",
    "| Length                | - `len(s)`      | - `ser.str.len()`         |\n",
    "|                       |                 |                           |\n",
    "+-----------------------+-----------------+---------------------------+"
   ]
  },
  {
   "cell_type": "markdown",
   "metadata": {},
   "source": [
    "We'll discuss the differences between Python string functions and `pandas` Series methods in the following section on canonicalization."
   ]
  },
  {
   "cell_type": "markdown",
   "metadata": {},
   "source": [
    "### Canonicalization\n",
    "Assume we want to merge the given tables."
   ]
  },
  {
   "cell_type": "code",
   "execution_count": 114,
   "metadata": {},
   "outputs": [],
   "source": [
    "#| code-fold: true\n",
    "import pandas as pd\n",
    "\n",
    "with open('data/county_and_state.csv') as f:\n",
    "    county_and_state = pd.read_csv(f)\n",
    "    \n",
    "with open('data/county_and_population.csv') as f:\n",
    "    county_and_pop = pd.read_csv(f)"
   ]
  },
  {
   "cell_type": "code",
   "execution_count": 115,
   "metadata": {},
   "outputs": [
    {
     "data": {
      "text/html": [
       "<div>\n",
       "<style scoped>\n",
       "    .dataframe tbody tr th:only-of-type {\n",
       "        vertical-align: middle;\n",
       "    }\n",
       "\n",
       "    .dataframe tbody tr th {\n",
       "        vertical-align: top;\n",
       "    }\n",
       "\n",
       "    .dataframe thead th {\n",
       "        text-align: right;\n",
       "    }\n",
       "</style>\n",
       "<table border=\"1\" class=\"dataframe\">\n",
       "  <thead>\n",
       "    <tr style=\"text-align: right;\">\n",
       "      <th></th>\n",
       "      <th>County</th>\n",
       "      <th>State</th>\n",
       "    </tr>\n",
       "  </thead>\n",
       "  <tbody>\n",
       "    <tr>\n",
       "      <th>0</th>\n",
       "      <td>De Witt County</td>\n",
       "      <td>IL</td>\n",
       "    </tr>\n",
       "    <tr>\n",
       "      <th>1</th>\n",
       "      <td>Lac qui Parle County</td>\n",
       "      <td>MN</td>\n",
       "    </tr>\n",
       "    <tr>\n",
       "      <th>2</th>\n",
       "      <td>Lewis and Clark County</td>\n",
       "      <td>MT</td>\n",
       "    </tr>\n",
       "    <tr>\n",
       "      <th>3</th>\n",
       "      <td>St John the Baptist Parish</td>\n",
       "      <td>LS</td>\n",
       "    </tr>\n",
       "  </tbody>\n",
       "</table>\n",
       "</div>"
      ],
      "text/plain": [
       "                       County State\n",
       "0              De Witt County    IL\n",
       "1        Lac qui Parle County    MN\n",
       "2      Lewis and Clark County    MT\n",
       "3  St John the Baptist Parish    LS"
      ]
     },
     "metadata": {},
     "output_type": "display_data"
    },
    {
     "data": {
      "text/html": [
       "<div>\n",
       "<style scoped>\n",
       "    .dataframe tbody tr th:only-of-type {\n",
       "        vertical-align: middle;\n",
       "    }\n",
       "\n",
       "    .dataframe tbody tr th {\n",
       "        vertical-align: top;\n",
       "    }\n",
       "\n",
       "    .dataframe thead th {\n",
       "        text-align: right;\n",
       "    }\n",
       "</style>\n",
       "<table border=\"1\" class=\"dataframe\">\n",
       "  <thead>\n",
       "    <tr style=\"text-align: right;\">\n",
       "      <th></th>\n",
       "      <th>County</th>\n",
       "      <th>Population</th>\n",
       "    </tr>\n",
       "  </thead>\n",
       "  <tbody>\n",
       "    <tr>\n",
       "      <th>0</th>\n",
       "      <td>DeWitt</td>\n",
       "      <td>16798</td>\n",
       "    </tr>\n",
       "    <tr>\n",
       "      <th>1</th>\n",
       "      <td>Lac Qui Parle</td>\n",
       "      <td>8067</td>\n",
       "    </tr>\n",
       "    <tr>\n",
       "      <th>2</th>\n",
       "      <td>Lewis &amp; Clark</td>\n",
       "      <td>55716</td>\n",
       "    </tr>\n",
       "    <tr>\n",
       "      <th>3</th>\n",
       "      <td>St. John the Baptist</td>\n",
       "      <td>43044</td>\n",
       "    </tr>\n",
       "  </tbody>\n",
       "</table>\n",
       "</div>"
      ],
      "text/plain": [
       "                 County  Population\n",
       "0                DeWitt       16798\n",
       "1         Lac Qui Parle        8067\n",
       "2         Lewis & Clark       55716\n",
       "3  St. John the Baptist       43044"
      ]
     },
     "metadata": {},
     "output_type": "display_data"
    }
   ],
   "source": [
    "display(county_and_state), display(county_and_pop);"
   ]
  },
  {
   "cell_type": "markdown",
   "metadata": {},
   "source": [
    "Last time, we used a **primary key** and **foreign key** to join two tables. While neither of these keys exist in our DataFrames, the `County` columns look similar enough. Can we convert these columns into one standard, canonical form? \n",
    "\n",
    "The following function uses Python string manipulation to convert a single county name into canonical form. It does so by eliminating whitespace, punctuation, and unnecessary text. "
   ]
  },
  {
   "cell_type": "code",
   "execution_count": 116,
   "metadata": {},
   "outputs": [
    {
     "data": {
      "text/plain": [
       "'stjohnthebaptist'"
      ]
     },
     "execution_count": 116,
     "metadata": {},
     "output_type": "execute_result"
    }
   ],
   "source": [
    "def canonicalize_county(county_name):\n",
    "    return (\n",
    "        county_name\n",
    "            .lower()\n",
    "            .replace(' ', '')\n",
    "            .replace('&', 'and')\n",
    "            .replace('.', '')\n",
    "            .replace('county', '')\n",
    "            .replace('parish', '')\n",
    "    )\n",
    "\n",
    "canonicalize_county(\"St. John the Baptist\")"
   ]
  },
  {
   "cell_type": "markdown",
   "metadata": {},
   "source": [
    "We will use the `pandas` `map` function to apply the `canonicalize_county` function to every row in both DataFrames. Then, we can create new columns called `clean_county_python` containing the canonical form."
   ]
  },
  {
   "cell_type": "code",
   "execution_count": 117,
   "metadata": {},
   "outputs": [],
   "source": [
    "county_and_pop['clean_county_python'] = county_and_pop['County'].map(canonicalize_county)\n",
    "county_and_state['clean_county_python'] = county_and_state['County'].map(canonicalize_county)"
   ]
  },
  {
   "cell_type": "code",
   "execution_count": 118,
   "metadata": {},
   "outputs": [
    {
     "data": {
      "text/html": [
       "<div>\n",
       "<style scoped>\n",
       "    .dataframe tbody tr th:only-of-type {\n",
       "        vertical-align: middle;\n",
       "    }\n",
       "\n",
       "    .dataframe tbody tr th {\n",
       "        vertical-align: top;\n",
       "    }\n",
       "\n",
       "    .dataframe thead th {\n",
       "        text-align: right;\n",
       "    }\n",
       "</style>\n",
       "<table border=\"1\" class=\"dataframe\">\n",
       "  <thead>\n",
       "    <tr style=\"text-align: right;\">\n",
       "      <th></th>\n",
       "      <th>County</th>\n",
       "      <th>State</th>\n",
       "      <th>clean_county_python</th>\n",
       "    </tr>\n",
       "  </thead>\n",
       "  <tbody>\n",
       "    <tr>\n",
       "      <th>0</th>\n",
       "      <td>De Witt County</td>\n",
       "      <td>IL</td>\n",
       "      <td>dewitt</td>\n",
       "    </tr>\n",
       "    <tr>\n",
       "      <th>1</th>\n",
       "      <td>Lac qui Parle County</td>\n",
       "      <td>MN</td>\n",
       "      <td>lacquiparle</td>\n",
       "    </tr>\n",
       "    <tr>\n",
       "      <th>2</th>\n",
       "      <td>Lewis and Clark County</td>\n",
       "      <td>MT</td>\n",
       "      <td>lewisandclark</td>\n",
       "    </tr>\n",
       "    <tr>\n",
       "      <th>3</th>\n",
       "      <td>St John the Baptist Parish</td>\n",
       "      <td>LS</td>\n",
       "      <td>stjohnthebaptist</td>\n",
       "    </tr>\n",
       "  </tbody>\n",
       "</table>\n",
       "</div>"
      ],
      "text/plain": [
       "                       County State clean_county_python\n",
       "0              De Witt County    IL              dewitt\n",
       "1        Lac qui Parle County    MN         lacquiparle\n",
       "2      Lewis and Clark County    MT       lewisandclark\n",
       "3  St John the Baptist Parish    LS    stjohnthebaptist"
      ]
     },
     "metadata": {},
     "output_type": "display_data"
    },
    {
     "data": {
      "text/html": [
       "<div>\n",
       "<style scoped>\n",
       "    .dataframe tbody tr th:only-of-type {\n",
       "        vertical-align: middle;\n",
       "    }\n",
       "\n",
       "    .dataframe tbody tr th {\n",
       "        vertical-align: top;\n",
       "    }\n",
       "\n",
       "    .dataframe thead th {\n",
       "        text-align: right;\n",
       "    }\n",
       "</style>\n",
       "<table border=\"1\" class=\"dataframe\">\n",
       "  <thead>\n",
       "    <tr style=\"text-align: right;\">\n",
       "      <th></th>\n",
       "      <th>County</th>\n",
       "      <th>Population</th>\n",
       "      <th>clean_county_python</th>\n",
       "    </tr>\n",
       "  </thead>\n",
       "  <tbody>\n",
       "    <tr>\n",
       "      <th>0</th>\n",
       "      <td>DeWitt</td>\n",
       "      <td>16798</td>\n",
       "      <td>dewitt</td>\n",
       "    </tr>\n",
       "    <tr>\n",
       "      <th>1</th>\n",
       "      <td>Lac Qui Parle</td>\n",
       "      <td>8067</td>\n",
       "      <td>lacquiparle</td>\n",
       "    </tr>\n",
       "    <tr>\n",
       "      <th>2</th>\n",
       "      <td>Lewis &amp; Clark</td>\n",
       "      <td>55716</td>\n",
       "      <td>lewisandclark</td>\n",
       "    </tr>\n",
       "    <tr>\n",
       "      <th>3</th>\n",
       "      <td>St. John the Baptist</td>\n",
       "      <td>43044</td>\n",
       "      <td>stjohnthebaptist</td>\n",
       "    </tr>\n",
       "  </tbody>\n",
       "</table>\n",
       "</div>"
      ],
      "text/plain": [
       "                 County  Population clean_county_python\n",
       "0                DeWitt       16798              dewitt\n",
       "1         Lac Qui Parle        8067         lacquiparle\n",
       "2         Lewis & Clark       55716       lewisandclark\n",
       "3  St. John the Baptist       43044    stjohnthebaptist"
      ]
     },
     "metadata": {},
     "output_type": "display_data"
    }
   ],
   "source": [
    "display(county_and_state), display(county_and_pop);"
   ]
  },
  {
   "cell_type": "markdown",
   "metadata": {},
   "source": [
    "Alternatively, we can use `pandas` Series methods to create this standardized column. To do so, we must call the `.str` attribute of our Series prior to calling any methods, like `.lower` and `.replace`. Notice how these method names match their equivalent built-in Python string function.\n",
    "\n",
    "Chaining multiple Series methods in this manner eliminates the need to use the `map` function."
   ]
  },
  {
   "cell_type": "code",
   "execution_count": 119,
   "metadata": {},
   "outputs": [],
   "source": [
    "def canonicalize_county_series(county_series):\n",
    "    return (\n",
    "        county_series\n",
    "            .str.lower()\n",
    "            .str.replace(' ', '')\n",
    "            .str.replace('&', 'and')\n",
    "            .str.replace('.', '')\n",
    "            .str.replace('county', '')\n",
    "            .str.replace('parish', '')\n",
    "    )\n",
    "\n",
    "county_and_pop['clean_county_pandas'] = canonicalize_county_series(county_and_pop['County'])\n",
    "county_and_state['clean_county_pandas'] = canonicalize_county_series(county_and_state['County'])"
   ]
  },
  {
   "cell_type": "code",
   "execution_count": 120,
   "metadata": {},
   "outputs": [
    {
     "data": {
      "text/html": [
       "<div>\n",
       "<style scoped>\n",
       "    .dataframe tbody tr th:only-of-type {\n",
       "        vertical-align: middle;\n",
       "    }\n",
       "\n",
       "    .dataframe tbody tr th {\n",
       "        vertical-align: top;\n",
       "    }\n",
       "\n",
       "    .dataframe thead th {\n",
       "        text-align: right;\n",
       "    }\n",
       "</style>\n",
       "<table border=\"1\" class=\"dataframe\">\n",
       "  <thead>\n",
       "    <tr style=\"text-align: right;\">\n",
       "      <th></th>\n",
       "      <th>County</th>\n",
       "      <th>Population</th>\n",
       "      <th>clean_county_python</th>\n",
       "      <th>clean_county_pandas</th>\n",
       "    </tr>\n",
       "  </thead>\n",
       "  <tbody>\n",
       "    <tr>\n",
       "      <th>0</th>\n",
       "      <td>DeWitt</td>\n",
       "      <td>16798</td>\n",
       "      <td>dewitt</td>\n",
       "      <td>dewitt</td>\n",
       "    </tr>\n",
       "    <tr>\n",
       "      <th>1</th>\n",
       "      <td>Lac Qui Parle</td>\n",
       "      <td>8067</td>\n",
       "      <td>lacquiparle</td>\n",
       "      <td>lacquiparle</td>\n",
       "    </tr>\n",
       "    <tr>\n",
       "      <th>2</th>\n",
       "      <td>Lewis &amp; Clark</td>\n",
       "      <td>55716</td>\n",
       "      <td>lewisandclark</td>\n",
       "      <td>lewisandclark</td>\n",
       "    </tr>\n",
       "    <tr>\n",
       "      <th>3</th>\n",
       "      <td>St. John the Baptist</td>\n",
       "      <td>43044</td>\n",
       "      <td>stjohnthebaptist</td>\n",
       "      <td>stjohnthebaptist</td>\n",
       "    </tr>\n",
       "  </tbody>\n",
       "</table>\n",
       "</div>"
      ],
      "text/plain": [
       "                 County  Population clean_county_python clean_county_pandas\n",
       "0                DeWitt       16798              dewitt              dewitt\n",
       "1         Lac Qui Parle        8067         lacquiparle         lacquiparle\n",
       "2         Lewis & Clark       55716       lewisandclark       lewisandclark\n",
       "3  St. John the Baptist       43044    stjohnthebaptist    stjohnthebaptist"
      ]
     },
     "metadata": {},
     "output_type": "display_data"
    },
    {
     "data": {
      "text/html": [
       "<div>\n",
       "<style scoped>\n",
       "    .dataframe tbody tr th:only-of-type {\n",
       "        vertical-align: middle;\n",
       "    }\n",
       "\n",
       "    .dataframe tbody tr th {\n",
       "        vertical-align: top;\n",
       "    }\n",
       "\n",
       "    .dataframe thead th {\n",
       "        text-align: right;\n",
       "    }\n",
       "</style>\n",
       "<table border=\"1\" class=\"dataframe\">\n",
       "  <thead>\n",
       "    <tr style=\"text-align: right;\">\n",
       "      <th></th>\n",
       "      <th>County</th>\n",
       "      <th>State</th>\n",
       "      <th>clean_county_python</th>\n",
       "      <th>clean_county_pandas</th>\n",
       "    </tr>\n",
       "  </thead>\n",
       "  <tbody>\n",
       "    <tr>\n",
       "      <th>0</th>\n",
       "      <td>De Witt County</td>\n",
       "      <td>IL</td>\n",
       "      <td>dewitt</td>\n",
       "      <td>dewitt</td>\n",
       "    </tr>\n",
       "    <tr>\n",
       "      <th>1</th>\n",
       "      <td>Lac qui Parle County</td>\n",
       "      <td>MN</td>\n",
       "      <td>lacquiparle</td>\n",
       "      <td>lacquiparle</td>\n",
       "    </tr>\n",
       "    <tr>\n",
       "      <th>2</th>\n",
       "      <td>Lewis and Clark County</td>\n",
       "      <td>MT</td>\n",
       "      <td>lewisandclark</td>\n",
       "      <td>lewisandclark</td>\n",
       "    </tr>\n",
       "    <tr>\n",
       "      <th>3</th>\n",
       "      <td>St John the Baptist Parish</td>\n",
       "      <td>LS</td>\n",
       "      <td>stjohnthebaptist</td>\n",
       "      <td>stjohnthebaptist</td>\n",
       "    </tr>\n",
       "  </tbody>\n",
       "</table>\n",
       "</div>"
      ],
      "text/plain": [
       "                       County State clean_county_python clean_county_pandas\n",
       "0              De Witt County    IL              dewitt              dewitt\n",
       "1        Lac qui Parle County    MN         lacquiparle         lacquiparle\n",
       "2      Lewis and Clark County    MT       lewisandclark       lewisandclark\n",
       "3  St John the Baptist Parish    LS    stjohnthebaptist    stjohnthebaptist"
      ]
     },
     "metadata": {},
     "output_type": "display_data"
    }
   ],
   "source": [
    "display(county_and_pop), display(county_and_state);"
   ]
  },
  {
   "cell_type": "markdown",
   "metadata": {},
   "source": [
    "### Extraction"
   ]
  },
  {
   "cell_type": "markdown",
   "metadata": {},
   "source": [
    "Extraction explores the idea of obtaining useful information from text data. This will be particularily important in model building, which we'll study in a few weeks.\n",
    "\n",
    "Say we want to read some data from a `.txt` file."
   ]
  },
  {
   "cell_type": "code",
   "execution_count": 121,
   "metadata": {},
   "outputs": [],
   "source": [
    "with open('data/log.txt', 'r') as f:\n",
    "    log_lines = f.readlines()"
   ]
  },
  {
   "cell_type": "code",
   "execution_count": 122,
   "metadata": {},
   "outputs": [
    {
     "data": {
      "text/plain": [
       "['169.237.46.168 - - [26/Jan/2014:10:47:58 -0800] \"GET /stat141/Winter04/ HTTP/1.1\" 200 2585 \"http://anson.ucdavis.edu/courses/\"\\n',\n",
       " '193.205.203.3 - - [2/Feb/2005:17:23:6 -0800] \"GET /stat141/Notes/dim.html HTTP/1.0\" 404 302 \"http://eeyore.ucdavis.edu/stat141/Notes/session.html\"\\n',\n",
       " '169.237.46.240 - \"\" [3/Feb/2006:10:18:37 -0800] \"GET /stat141/homework/Solutions/hw1Sol.pdf HTTP/1.1\"\\n']"
      ]
     },
     "execution_count": 122,
     "metadata": {},
     "output_type": "execute_result"
    }
   ],
   "source": [
    "log_lines"
   ]
  },
  {
   "cell_type": "markdown",
   "metadata": {},
   "source": [
    "Suppose we want to extract the day, month, year, hour, minutes, seconds, and timezone. Unfortunately, these items are not in a fixed position from the beginning of the string. Slicing by some fixed offset won't work.\n",
    "\n",
    "Instead, we can use some clever thinking. Notice how the relevant information is contained within a set of brackets, seperated by `/` and `:`. We can hone in on this region of text, and split the data on these characters. Python's built-in `.split` function makes this easy."
   ]
  },
  {
   "cell_type": "code",
   "execution_count": 123,
   "metadata": {},
   "outputs": [
    {
     "data": {
      "text/plain": [
       "('26', 'Jan', '2014', '10', '47', '58', '-0800')"
      ]
     },
     "execution_count": 123,
     "metadata": {},
     "output_type": "execute_result"
    }
   ],
   "source": [
    "first = log_lines[0] # Only considering the first row of data\n",
    "\n",
    "pertinent = first.split(\"[\")[1].split(']')[0]\n",
    "day, month, rest = pertinent.split('/')\n",
    "year, hour, minute, rest = rest.split(':')\n",
    "seconds, time_zone = rest.split(' ')\n",
    "day, month, year, hour, minute, seconds, time_zone"
   ]
  },
  {
   "cell_type": "markdown",
   "metadata": {},
   "source": [
    "There are two problems with this code:\n",
    "\n",
    "1. Python's built-in functions limit us to extract data one row at a time\n",
    "    - This can be resolved using a map function or Pandas Series methods.\n",
    "2. The code is quite verbose\n",
    "    - This is a larger issue that is trickier to solve\n",
    "\n",
    "In the next section, we'll introduce regular expressions - a tool that solves problem 2)."
   ]
  },
  {
   "cell_type": "markdown",
   "metadata": {},
   "source": [
    "## Regex Basics"
   ]
  },
  {
   "cell_type": "markdown",
   "metadata": {},
   "source": [
    "A **regular expression (\"regex\")** is a sequence of characters that specifies a search pattern. They are written to extract specific information from text.\n",
    "\n",
    "The language of regular expressions - **regular language** - aims to replicate **formal language**, which is a way to describe conditions on a set of strings. Regular expressions are essentially part of a smaller programming language embedded in Python, made available through the `re` module. As such, they have a stand-alone syntax and methods for various capabilities.\n",
    "\n",
    "Regular expressions are useful in many applications beyond data science. For example, Social Security Numbers (SSNs) are often validated with regular expresions."
   ]
  },
  {
   "cell_type": "code",
   "execution_count": 124,
   "metadata": {},
   "outputs": [
    {
     "data": {
      "text/plain": [
       "'[0-9]{3}-[0-9]{2}-[0-9]{4}'"
      ]
     },
     "execution_count": 124,
     "metadata": {},
     "output_type": "execute_result"
    }
   ],
   "source": [
    "r\"[0-9]{3}-[0-9]{2}-[0-9]{4}\" # Regular Expression Syntax\n",
    "\n",
    "# 3 of any digit, then a dash,\n",
    "# then 2 of any digit, then a dash,\n",
    "# then 4 of any digit"
   ]
  },
  {
   "cell_type": "markdown",
   "metadata": {},
   "source": [
    "<!-- The goal of today is NOT to memorize regex. At a high level, we want you to:\n",
    "\n",
    "1. Understand what regex is capable of\n",
    "2. Parse and create regex, given a reference table -->"
   ]
  },
  {
   "cell_type": "markdown",
   "metadata": {},
   "source": [
    "There are a ton of resources to learn and experiment with regular expressions. A few are provided below:\n",
    "\n",
    "- [Official Regex Guide](https://docs.python.org/3/howto/regex.html)\n",
    "- [Data 100 Reference Sheet](https://ds100.org/sp22/resources/assets/hw/regex_reference.pdf) \n",
    "- [Regex101.com](https://regex101.com/)\n",
    "    - Be sure to check `Python` under the category on the left.\n"
   ]
  },
  {
   "cell_type": "markdown",
   "metadata": {},
   "source": [
    "### Basics Regex Syntax"
   ]
  },
  {
   "cell_type": "markdown",
   "metadata": {},
   "source": [
    "There are four basic operations with regular expressions."
   ]
  },
  {
   "cell_type": "markdown",
   "metadata": {},
   "source": [
    "+-----------------------+-----------------+----------------+-------------+-------------------+\n",
    "| Operation             | Order           | Syntax Example | Matches     | Doesn't Match     | \n",
    "+=======================+=================+================+=============+===================+\n",
    "| `Concatenation`       | 3               | AABAAB         | AABAAB      | every other string|\n",
    "|                       |                 |                |             |                   |\n",
    "+-----------------------+-----------------+----------------+-------------+-------------------+\n",
    "| `Or`: `|`             | 4               | AA|BAAB        | AA<br />    | every other string|\n",
    "|                       |                 |                | BAAB        |                   |\n",
    "+-----------------------+-----------------+----------------+-------------+-------------------+\n",
    "| `Closure`: `*` <br /> | 2               | AB*A           | AA          | AB <br />         |\n",
    "| (zero or more)        |                 |                | ABBBBBBA    | ABABA             |\n",
    "+-----------------------+-----------------+----------------+-------------+-------------------+\n",
    "| `Group`: `()` <br />  | 1               | A(A|B)AAB      | AAAAB       | every other string|\n",
    "| (parenthesis)         |                 | <br />         | ABAAB       | <br />            |\n",
    "|                       |                 | <br />         | <br />      | <br />            |\n",
    "|                       |                 | <br />         | <br />      | <br />            |\n",
    "|                       |                 | (AB)*A         | A           | AA <br />         |\n",
    "|                       |                 |                | ABABABABA   | ABBA              |\n",
    "+-----------------------+-----------------+----------------+-------------+-------------------+"
   ]
  },
  {
   "cell_type": "markdown",
   "metadata": {},
   "source": [
    "Notice how these metacharacter operations are ordered. Rather than being literal characters, these **metacharacters** manipulate adjacent characters. `()` takes precedence, followed by `*`, and finally `|`. This allows us to differentiate between very different regex commands like `AB*` and `(AB)*`. The former reads \"`A` then zero or more copies of `B`\", while the latter specifies \"zero or more copies of `AB`\"."
   ]
  },
  {
   "cell_type": "markdown",
   "metadata": {},
   "source": [
    "#### Examples\n",
    "\n",
    "**Question 1**: Give a regular expression that matches `moon`, `moooon`, etc. Your expression should match any even number of `o`s except zero (i.e. don’t match `mn`).\n",
    "\n",
    "**Answer 1**: `moo(oo)*n`\n",
    "\n",
    "- Hardcoding `oo` before the capture group ensures that `mn` is not matched.\n",
    "- A capture group of `(oo)*` ensures the number of `o`'s is even.\n",
    "\n",
    "**Question 2**: Using only basic operations, formulate a regex that matches `muun`, `muuuun`, `moon`, `moooon`, etc. Your expression should match any even number of `u`s or `o`s except zero (i.e. don’t match `mn`).\n",
    "\n",
    "**Answer 2**: `m(uu(uu)*|oo(oo)*)n`\n",
    "\n",
    "- The leading `m` and trailing `n` ensures that only strings beginning with `m` and ending with `n` are matched.\n",
    "- Notice how the outer capture group surrounds the `|`. This ensures.\n",
    "    - Consider the regex `m(uu(uu)*)|(oo(oo)*)n`. This incorrectly matches `muu` and `oooon`. \n",
    "        - Each OR clause is everything to the left and right of `|`. The incorrect solution matches only half of the string, and ignores either `m` or `n`\n",
    "        - A set of paranthesis must surround `|`. That way, each OR clause is everything to the left and right of `|` **within** the group."
   ]
  },
  {
   "cell_type": "markdown",
   "metadata": {},
   "source": [
    "## Regex Expanded"
   ]
  },
  {
   "cell_type": "markdown",
   "metadata": {},
   "source": [
    "Provided below are more complex regular expression functions. "
   ]
  },
  {
   "cell_type": "markdown",
   "metadata": {},
   "source": [
    "+------------------------------------------------+-----------------+----------------+------------------+\n",
    "| Operation                                      | Syntax Example  | Matches        |Doesn't Match     |\n",
    "+================================================+=================+================+==================+\n",
    "| `Any Character`: `.` <br />                    | .U.U.U.         | CUMULUS <br /> | SUCCUBUS         |\n",
    "| (except newline)                               |                 | JUGULUM        | TUMULTUOUS       |            \n",
    "+------------------------------------------------+-----------------+----------------+------------------+\n",
    "| `Character Class`: `[]`                        | [A-Za-z][a-z]*  | word <br />    | camelCase        |\n",
    "|                                                |                 | Capitalized    | 4illegal         |                   \n",
    "+------------------------------------------------+-----------------+----------------+------------------+\n",
    "| `Repeated \"a\" Times`: `{a}`<br />              | j[aeiou]{3}hn   | jaoehn <br />  | jhn <br />       |\n",
    "|                                                |                 | jooohn         | jaeiouhn         |\n",
    "+------------------------------------------------+-----------------+----------------+------------------+\n",
    "| `Repeated \"from a to b\" Times`: `{a, b}`<br /> | j[0u]{1,2}hn    | john <br />    | jhn <br />       | \n",
    "|                                                |                 | juohn          | jooohn           |\n",
    "|                                                |                 |                |                  | \n",
    "+------------------------------------------------+-----------------+----------------+------------------+\n",
    "| `At Least One`: `+`                            | jo+hn           | john  <br />   | jhn <br />       | \n",
    "|                                                |                 | joooooohn      | jjohn            |\n",
    "|                                                |                 |                |                  | \n",
    "+------------------------------------------------+-----------------+----------------+------------------+\n",
    "| `Zero or One`: `?`                             | joh?n           | jon <br />     | any other string | \n",
    "|                                                |                 | john           |                  |\n",
    "|                                                |                 |                |                  | \n",
    "+------------------------------------------------+-----------------+----------------+------------------+"
   ]
  },
  {
   "cell_type": "markdown",
   "metadata": {},
   "source": [
    "#### Examples\n",
    "\n",
    "Let's analyze a few examples of complex regular expressions."
   ]
  },
  {
   "cell_type": "markdown",
   "metadata": {},
   "source": [
    "+---------------------------------+---------------------------------+\n",
    "| Matches                         | Does Not Match                  |\n",
    "+=================================+=================================+\n",
    "| 1. `.*SPB.*`                    |                                 | \n",
    "|                                 |                                 | \n",
    "+---------------------------------+---------------------------------+\n",
    "| RASPBERRY <br />                | SUBSPACE <br />                 |\n",
    "| SPBOO                           | SUBSPECIES                      |\n",
    "+---------------------------------+---------------------------------+\n",
    "| 2. `[0-9]{3}-[0-9]{2}-[0-9]{4}` |                                 |\n",
    "|                                 |                                 |\n",
    "+---------------------------------+---------------------------------+\n",
    "| 231-41-5121 <br />              | 231415121 <br />                |\n",
    "| 573-57-1821                     | 57-3571821                      |\n",
    "+---------------------------------+---------------------------------+\n",
    "| 3. `[a-z]+@([a-z]+\\.)+(edu|com)`|                                 |\n",
    "|                                 |                                 |\n",
    "+---------------------------------+---------------------------------+\n",
    "| horse@pizza.com <br />          | frank_99@yahoo.com <br />       |\n",
    "| horse@pizza.food.com            | hug@cs                          |\n",
    "+---------------------------------+---------------------------------+"
   ]
  },
  {
   "cell_type": "markdown",
   "metadata": {},
   "source": [
    "**Explanations**\n",
    "\n",
    "1. `.*SPB.*` only matches strings that contain the substring `SPB`.\n",
    "    - The `.*` metacharacter matches any amount of non-negative characters. Newlines do not count.  \n",
    "2. This regular expression matches 3 of any digit, then a dash, then 2 of any digit, then a dash, then 4 of any digit\n",
    "    - You'll recognize this as the familiar Social Security Number regular expression\n",
    "3. Matches any email with a `com` or `edu` domain, where all characters of the email are letters.\n",
    "    - At least one `.` must preceed the domain name. Including a backslash `\\` before any metacharacter (in this case, the `.`) tells regex to match that character exactly."
   ]
  },
  {
   "cell_type": "markdown",
   "metadata": {},
   "source": [
    "## Convenient Regex"
   ]
  },
  {
   "cell_type": "markdown",
   "metadata": {},
   "source": [
    "Here are a few more convenient regular expressions. "
   ]
  },
  {
   "cell_type": "markdown",
   "metadata": {},
   "source": [
    "+------------------------------------------------+-----------------+----------------+------------------+\n",
    "| Operation                                      | Syntax Example  | Matches        |Doesn't Match     |\n",
    "+================================================+=================+================+==================+\n",
    "| `built in character class`                     | `\\w+` <br />    | Fawef_03 <br />|this person<br /> |\n",
    "|                                                | `\\d+`<br />     | 231123 <br />  |423 people<br />  |\n",
    "|                                                | `\\s+` <br />    | `whitespace`   | `non-whitespace` |\n",
    "+------------------------------------------------+-----------------+----------------+------------------+\n",
    "| `character class negation`: `[^]`              | [^a-z]+.        | PEPPERS3982    | porch <br />     |\n",
    "| (everything except the given characters)       |                 | 17211!↑å       | CLAMS            |                   \n",
    "+------------------------------------------------+-----------------+----------------+------------------+\n",
    "| `escape character`: `\\` <br />                 | cow\\.com        | jaoehn <br />  | jhn <br />       |\n",
    "|  (match the literal next character)            |                 | jooohn         | jaeiouhn         |\n",
    "+------------------------------------------------+-----------------+----------------+------------------+\n",
    "| `beginning of line`: `^`                       | ^ark            | ark two        | dark             | \n",
    "|                                                |                 | ark o ark      |                  |\n",
    "|                                                |                 |                |                  | \n",
    "+------------------------------------------------+-----------------+----------------+------------------+\n",
    "| `end of line`: `$`                             | ark$            | dark <br />    | ark two          | \n",
    "|                                                |                 | ark o ark      |                  |\n",
    "|                                                |                 |                |                  | \n",
    "+------------------------------------------------+-----------------+----------------+------------------+\n",
    "| `lazy version of zero or more` : `*?`          | 5.*?5           | 5005 <br />    | 5005005          | \n",
    "|                                                |                 | 55             |                  |\n",
    "|                                                |                 |                |                  | \n",
    "+------------------------------------------------+-----------------+----------------+------------------+"
   ]
  },
  {
   "cell_type": "markdown",
   "metadata": {},
   "source": [
    "#### Examples"
   ]
  },
  {
   "cell_type": "markdown",
   "metadata": {},
   "source": [
    "Let's revist our earlier problem of extracting date/time data from the given `.txt` files. Here is how the data looked."
   ]
  },
  {
   "cell_type": "code",
   "execution_count": 125,
   "metadata": {},
   "outputs": [
    {
     "data": {
      "text/plain": [
       "'169.237.46.168 - - [26/Jan/2014:10:47:58 -0800] \"GET /stat141/Winter04/ HTTP/1.1\" 200 2585 \"http://anson.ucdavis.edu/courses/\"\\n'"
      ]
     },
     "execution_count": 125,
     "metadata": {},
     "output_type": "execute_result"
    }
   ],
   "source": [
    "log_lines[0]"
   ]
  },
  {
   "cell_type": "markdown",
   "metadata": {},
   "source": [
    "**Question**: Give a regular expression that matches everything contained within and including the brackets - the day, month, year, hour, minutes, seconds, and timezone."
   ]
  },
  {
   "cell_type": "markdown",
   "metadata": {},
   "source": [
    "**Answer**: `\\[.*\\]`\n",
    "\n",
    "- Notice how matching the literal `[` and `]` is necessary. Therefore, an escape character `\\` is required before both `[` and `]` - otherwise these metacharacters will match character classes. \n",
    "- We need to match a particular format between `[` and `]`. For this example, `.*` will suffice.\n",
    "\n",
    "**Alternative Solution**: `\\[\\w+/\\w+/\\w+:\\w+:\\w+:\\w+\\s-\\w+\\]`\n",
    "\n",
    "- This solution is much safer. \n",
    "    - Imagine the data between `[` and `]` was garbage - `.*` will still match that. \n",
    "    - The alternate solution will only match data that follows the correct format."
   ]
  },
  {
   "cell_type": "markdown",
   "metadata": {},
   "source": [
    "## Regex in Python and Pandas (Regex Groups)"
   ]
  },
  {
   "cell_type": "markdown",
   "metadata": {},
   "source": [
    "### Canonicalization"
   ]
  },
  {
   "cell_type": "markdown",
   "metadata": {},
   "source": [
    "#### Canonicalization with Regex"
   ]
  },
  {
   "cell_type": "markdown",
   "metadata": {},
   "source": [
    "Earlier in this note, we examined the process of canonicalization using Python string manipulation and `pandas` Series methods. However, this approach had a major flaw: our code was unnecessarily verbose. Equipped with our knowledge of regular expressions, let's fix this.\n",
    "\n",
    "To do so, we need to understand a few functions in the `re` module. The first of these is the substitute function: `re.sub(pattern, rep1, text)`. It behaves similarily to Python's built-in `.replace` function, and returns text with all instances of `pattern` replaced by `rep1`. \n",
    "\n",
    "The regular expression here removes text surrounded by `<>` (also known as HTML tags)."
   ]
  },
  {
   "cell_type": "code",
   "execution_count": 126,
   "metadata": {},
   "outputs": [
    {
     "data": {
      "text/plain": [
       "'Moo'"
      ]
     },
     "execution_count": 126,
     "metadata": {},
     "output_type": "execute_result"
    }
   ],
   "source": [
    "import re\n",
    "\n",
    "text = \"<div><td valign='top'>Moo</td></div>\"\n",
    "pattern = r\"<[^>]+>\"\n",
    "re.sub(pattern, '', text) "
   ]
  },
  {
   "cell_type": "markdown",
   "metadata": {},
   "source": [
    "Notice the `r` preceeding the regular expression pattern; this specifies the regular expression is a raw string. Raw strings do not recognize escape sequences (ie the Python newline metacharacter `\\n`). This makes them useful for regular expressions, which often contain literal `\\` characters.\n",
    "\n",
    "In other words, don't forget to tag your regex with a `r`."
   ]
  },
  {
   "cell_type": "markdown",
   "metadata": {},
   "source": [
    "#### Canonicalization with Pandas"
   ]
  },
  {
   "cell_type": "markdown",
   "metadata": {},
   "source": [
    "We can also use regular expressions with Pandas Series methods. This gives us the benefit of operating on an entire column of data as opposed to a single value. The code is simple: <br /> `ser.str.replace(pattern, repl, regex=True`)."
   ]
  },
  {
   "cell_type": "markdown",
   "metadata": {},
   "source": [
    "Consider the following DataFrame `html_data` with a single column."
   ]
  },
  {
   "cell_type": "code",
   "execution_count": 127,
   "metadata": {},
   "outputs": [],
   "source": [
    "#| code-fold: true\n",
    "data = {\"HTML\": [\"<div><td valign='top'>Moo</td></div>\", \\\n",
    "                 \"<a href='http://ds100.org'>Link</a>\", \\\n",
    "                 \"<b>Bold text</b>\"]}\n",
    "html_data = pd.DataFrame(data)"
   ]
  },
  {
   "cell_type": "code",
   "execution_count": 128,
   "metadata": {},
   "outputs": [
    {
     "data": {
      "text/html": [
       "<div>\n",
       "<style scoped>\n",
       "    .dataframe tbody tr th:only-of-type {\n",
       "        vertical-align: middle;\n",
       "    }\n",
       "\n",
       "    .dataframe tbody tr th {\n",
       "        vertical-align: top;\n",
       "    }\n",
       "\n",
       "    .dataframe thead th {\n",
       "        text-align: right;\n",
       "    }\n",
       "</style>\n",
       "<table border=\"1\" class=\"dataframe\">\n",
       "  <thead>\n",
       "    <tr style=\"text-align: right;\">\n",
       "      <th></th>\n",
       "      <th>HTML</th>\n",
       "    </tr>\n",
       "  </thead>\n",
       "  <tbody>\n",
       "    <tr>\n",
       "      <th>0</th>\n",
       "      <td>&lt;div&gt;&lt;td valign='top'&gt;Moo&lt;/td&gt;&lt;/div&gt;</td>\n",
       "    </tr>\n",
       "    <tr>\n",
       "      <th>1</th>\n",
       "      <td>&lt;a href='http://ds100.org'&gt;Link&lt;/a&gt;</td>\n",
       "    </tr>\n",
       "    <tr>\n",
       "      <th>2</th>\n",
       "      <td>&lt;b&gt;Bold text&lt;/b&gt;</td>\n",
       "    </tr>\n",
       "  </tbody>\n",
       "</table>\n",
       "</div>"
      ],
      "text/plain": [
       "                                   HTML\n",
       "0  <div><td valign='top'>Moo</td></div>\n",
       "1   <a href='http://ds100.org'>Link</a>\n",
       "2                      <b>Bold text</b>"
      ]
     },
     "execution_count": 128,
     "metadata": {},
     "output_type": "execute_result"
    }
   ],
   "source": [
    "html_data"
   ]
  },
  {
   "cell_type": "code",
   "execution_count": 129,
   "metadata": {},
   "outputs": [
    {
     "data": {
      "text/plain": [
       "0          Moo\n",
       "1         Link\n",
       "2    Bold text\n",
       "Name: HTML, dtype: object"
      ]
     },
     "execution_count": 129,
     "metadata": {},
     "output_type": "execute_result"
    }
   ],
   "source": [
    "pattern = r\"<[^>]+>\"\n",
    "html_data['HTML'].str.replace(pattern, '', regex=True)"
   ]
  },
  {
   "cell_type": "markdown",
   "metadata": {},
   "source": [
    "### Extraction"
   ]
  },
  {
   "cell_type": "markdown",
   "metadata": {},
   "source": [
    "#### Extraction with Regex"
   ]
  },
  {
   "cell_type": "markdown",
   "metadata": {},
   "source": [
    "Just like with canonicalization, the `re` module provides capability to extract relevant text from a string: <br /> `re.findall(pattern, text)`. This function returns a list of all matches to `pattern`. "
   ]
  },
  {
   "cell_type": "markdown",
   "metadata": {},
   "source": [
    "Using the familiar regular expression for Social Security Numbers:"
   ]
  },
  {
   "cell_type": "code",
   "execution_count": 130,
   "metadata": {},
   "outputs": [
    {
     "data": {
      "text/plain": [
       "['123-45-6789', '321-45-6789']"
      ]
     },
     "execution_count": 130,
     "metadata": {},
     "output_type": "execute_result"
    }
   ],
   "source": [
    "text = \"My social security number is 123-45-6789 bro, or maybe it’s 321-45-6789.\"\n",
    "pattern = r\"[0-9]{3}-[0-9]{2}-[0-9]{4}\"\n",
    "re.findall(pattern, text)  "
   ]
  },
  {
   "cell_type": "markdown",
   "metadata": {},
   "source": [
    "#### Extraction with Pandas"
   ]
  },
  {
   "cell_type": "markdown",
   "metadata": {},
   "source": [
    "Pandas similarily provides extraction functionality on a Series of data: `ser.str.findall(pattern)`"
   ]
  },
  {
   "cell_type": "markdown",
   "metadata": {},
   "source": [
    "Consider the following DataFrame `ssn_data`."
   ]
  },
  {
   "cell_type": "code",
   "execution_count": 131,
   "metadata": {},
   "outputs": [],
   "source": [
    "#| code-fold: true\n",
    "data = {\"SSN\": [\"987-65-4321\", \"forty\", \\\n",
    "                \"123-45-6789 bro or 321-45-6789\",\n",
    "               \"999-99-9999\"]}\n",
    "ssn_data = pd.DataFrame(data)"
   ]
  },
  {
   "cell_type": "code",
   "execution_count": 132,
   "metadata": {},
   "outputs": [
    {
     "data": {
      "text/html": [
       "<div>\n",
       "<style scoped>\n",
       "    .dataframe tbody tr th:only-of-type {\n",
       "        vertical-align: middle;\n",
       "    }\n",
       "\n",
       "    .dataframe tbody tr th {\n",
       "        vertical-align: top;\n",
       "    }\n",
       "\n",
       "    .dataframe thead th {\n",
       "        text-align: right;\n",
       "    }\n",
       "</style>\n",
       "<table border=\"1\" class=\"dataframe\">\n",
       "  <thead>\n",
       "    <tr style=\"text-align: right;\">\n",
       "      <th></th>\n",
       "      <th>SSN</th>\n",
       "    </tr>\n",
       "  </thead>\n",
       "  <tbody>\n",
       "    <tr>\n",
       "      <th>0</th>\n",
       "      <td>987-65-4321</td>\n",
       "    </tr>\n",
       "    <tr>\n",
       "      <th>1</th>\n",
       "      <td>forty</td>\n",
       "    </tr>\n",
       "    <tr>\n",
       "      <th>2</th>\n",
       "      <td>123-45-6789 bro or 321-45-6789</td>\n",
       "    </tr>\n",
       "    <tr>\n",
       "      <th>3</th>\n",
       "      <td>999-99-9999</td>\n",
       "    </tr>\n",
       "  </tbody>\n",
       "</table>\n",
       "</div>"
      ],
      "text/plain": [
       "                              SSN\n",
       "0                     987-65-4321\n",
       "1                           forty\n",
       "2  123-45-6789 bro or 321-45-6789\n",
       "3                     999-99-9999"
      ]
     },
     "execution_count": 132,
     "metadata": {},
     "output_type": "execute_result"
    }
   ],
   "source": [
    "ssn_data"
   ]
  },
  {
   "cell_type": "code",
   "execution_count": 133,
   "metadata": {},
   "outputs": [
    {
     "data": {
      "text/plain": [
       "0                 [987-65-4321]\n",
       "1                            []\n",
       "2    [123-45-6789, 321-45-6789]\n",
       "3                 [999-99-9999]\n",
       "Name: SSN, dtype: object"
      ]
     },
     "execution_count": 133,
     "metadata": {},
     "output_type": "execute_result"
    }
   ],
   "source": [
    "ssn_data[\"SSN\"].str.findall(pattern)"
   ]
  },
  {
   "cell_type": "markdown",
   "metadata": {},
   "source": [
    "This function returns a list for every row containing the pattern matches in a given string."
   ]
  },
  {
   "cell_type": "markdown",
   "metadata": {},
   "source": [
    "### Regular Expression Capture Groups"
   ]
  },
  {
   "cell_type": "markdown",
   "metadata": {},
   "source": [
    "Earlier we used parentheses `(` `)` to specify the highest order of operation in regular expressions. However, they have another meaning; paranthesis are often used to represent **capture groups**. Capture groups are essentially, a set of smaller regular expressions that match multiple substrings in text data. \n",
    "\n",
    "Let's take a look at an example."
   ]
  },
  {
   "cell_type": "markdown",
   "metadata": {},
   "source": [
    "#### Example 1"
   ]
  },
  {
   "cell_type": "code",
   "execution_count": 134,
   "metadata": {},
   "outputs": [],
   "source": [
    "text = \"Observations: 03:04:53 - Horse awakens. \\\n",
    "        03:05:14 - Horse goes back to sleep.\""
   ]
  },
  {
   "cell_type": "markdown",
   "metadata": {},
   "source": [
    "Say we want to capture all occurences of time data (hour, minute, and second) as *seperate entities*."
   ]
  },
  {
   "cell_type": "code",
   "execution_count": 135,
   "metadata": {},
   "outputs": [
    {
     "data": {
      "text/plain": [
       "[('03', '04', '53'), ('03', '05', '14')]"
      ]
     },
     "execution_count": 135,
     "metadata": {},
     "output_type": "execute_result"
    }
   ],
   "source": [
    "pattern_1 = r\"(\\d\\d):(\\d\\d):(\\d\\d)\"\n",
    "re.findall(pattern_1, text)"
   ]
  },
  {
   "cell_type": "markdown",
   "metadata": {},
   "source": [
    "Notice how the given pattern has 3 capture groups, each specified by the regular expression `(\\d\\d)`. We then use `re.findall` to return these capture groups, each as tuples containing 3 matches.\n",
    "\n",
    "These regular expression capture groups can be different. We can use the `(\\d{2})` shorthand to extract the same data."
   ]
  },
  {
   "cell_type": "code",
   "execution_count": 136,
   "metadata": {},
   "outputs": [
    {
     "data": {
      "text/plain": [
       "[('03', '04', '53'), ('03', '05', '14')]"
      ]
     },
     "execution_count": 136,
     "metadata": {},
     "output_type": "execute_result"
    }
   ],
   "source": [
    "pattern_2 = r\"(\\d\\d):(\\d\\d):(\\d{2})\"\n",
    "re.findall(pattern_2, text)"
   ]
  },
  {
   "cell_type": "markdown",
   "metadata": {},
   "source": [
    "#### Example 2"
   ]
  },
  {
   "cell_type": "markdown",
   "metadata": {},
   "source": [
    "With the notion of capture groups, convince yourself how the following regular expression works."
   ]
  },
  {
   "cell_type": "code",
   "execution_count": 137,
   "metadata": {},
   "outputs": [
    {
     "data": {
      "text/plain": [
       "'169.237.46.168 - - [26/Jan/2014:10:47:58 -0800] \"GET /stat141/Winter04/ HTTP/1.1\" 200 2585 \"http://anson.ucdavis.edu/courses/\"\\n'"
      ]
     },
     "execution_count": 137,
     "metadata": {},
     "output_type": "execute_result"
    }
   ],
   "source": [
    "first = log_lines[0]\n",
    "first"
   ]
  },
  {
   "cell_type": "code",
   "execution_count": 138,
   "metadata": {},
   "outputs": [
    {
     "name": "stdout",
     "output_type": "stream",
     "text": [
      "26 Jan 2014 10 47 58 -0800\n"
     ]
    }
   ],
   "source": [
    "pattern = r'\\[(\\d+)\\/(\\w+)\\/(\\d+):(\\d+):(\\d+):(\\d+) (.+)\\]'\n",
    "day, month, year, hour, minute, second, time_zone = re.findall(pattern, first)[0]\n",
    "print(day, month, year, hour, minute, second, time_zone)"
   ]
  },
  {
   "cell_type": "markdown",
   "metadata": {},
   "source": [
    "## Limitations of Regular Expressions"
   ]
  },
  {
   "cell_type": "markdown",
   "metadata": {},
   "source": [
    "Today, we explored the capabilities of regular expressions in data wrangling with text data. However, there are a few things to be wary of.\n",
    "\n",
    "Writing regular expressions is like writing a program.\n",
    "\n",
    "- Need to know the syntax well.\n",
    "- Can be easier to write than to read.\n",
    "- Can be difficult to debug.\n",
    "\n",
    "Regular expressions are terrible at certain types of problems:\n",
    "\n",
    "- For parsing a hierarchical structure, such as JSON, use the `json.load()` parser, not regex!\n",
    "- Complex features (e.g. valid email address).\n",
    "- Counting (same number of instances of a and b). (impossible)\n",
    "- Complex properties (palindromes, balanced parentheses). (impossible)\n"
   ]
  }
 ],
 "metadata": {
  "kernelspec": {
   "display_name": "Python 3",
   "language": "python",
   "name": "python3"
  },
  "language_info": {
   "codemirror_mode": {
    "name": "ipython",
    "version": 3
   },
   "file_extension": ".py",
   "mimetype": "text/x-python",
   "name": "python",
   "nbconvert_exporter": "python",
   "pygments_lexer": "ipython3",
   "version": "3.8.5"
  }
 },
 "nbformat": 4,
 "nbformat_minor": 4
}
