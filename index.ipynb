{
 "cells": [
  {
   "cell_type": "markdown",
   "metadata": {},
   "source": [
    "# Welcome {.unnumbered}\n",
    "\n",
    "## About the Course Notes\n",
    "\n",
    "This text offers supplementary resources to accompany lectures presented in the Fall 2023 Edition of the UC Berkeley course Data 100: Principles and Techniques of Data Science. \n",
    "\n",
    "New notes will be added each week to accompany live lectures. See the full calendar of lectures on the [course website](https://ds100.org/fa23/). \n",
    "\n",
    "If you spot any typos or would like to suggest any changes, please email us. <br /> <br /> **Email**: data100.instructors@berkeley.edu"
   ]
  }
 ],
 "metadata": {
  "kernelspec": {
   "display_name": "Python 3 (ipykernel)",
   "language": "python",
   "name": "python3"
  },
  "language_info": {
   "codemirror_mode": {
    "name": "ipython",
    "version": 3
   },
   "file_extension": ".py",
   "mimetype": "text/x-python",
   "name": "python",
   "nbconvert_exporter": "python",
   "pygments_lexer": "ipython3",
   "version": "3.11.9"
  }
 },
 "nbformat": 4,
 "nbformat_minor": 4
}
