{
  "cells": [
    {
      "cell_type": "raw",
      "metadata": {},
      "source": [
        "---\n",
        "title: Pandas I\n",
        "format:\n",
        "  html:\n",
        "    toc: true\n",
        "    toc-depth: 5\n",
        "    toc-location: right\n",
        "    code-fold: false\n",
        "    theme:\n",
        "      - cosmo\n",
        "      - cerulean\n",
        "    callout-icon: false\n",
        "---"
      ]
    },
    {
      "attachments": {},
      "cell_type": "markdown",
      "metadata": {},
      "source": [
        "::: {.callout-note collapse=\"true\"}\n",
        "## Learning Outcomes\n",
        "\n",
        "- Build familiarity with basic `pandas` syntax\n",
        "- Learn the methods of selecting and filtering data from a DataFrame.\n",
        "- Understand the differences between DataFrames and Series\n",
        ":::\n",
        "\n",
        "Data scientists work with data stored in a variety of formats. The primary focus of this class is in understanding tabular data - one of the most widely used formats in data science. This note introduces DataFrames, which are among the most popular representations of tabular data. We’ll also introduce `pandas`, the standard Python package for manipulating data.\n"
      ]
    },
    {
      "attachments": {},
      "cell_type": "markdown",
      "metadata": {},
      "source": [
        "## DataFrames, Series, and Indices\n",
        "There are three fundamental data structures in pandas:\n",
        "* Series: 1D labeled array data. I usually think of it as columnar data.\n",
        "* Data Frame: 2D tabular data with both row and column labels\n",
        "* Index: A sequence of row/column labels.\n",
        "\n",
        "Here is an example of a DataFrame containing election data.\n",
        "\n",
        "\n",
        "\n"
      ]
    },
    {
      "cell_type": "code",
      "execution_count": 3,
      "metadata": {},
      "outputs": [
        {
          "data": {
            "text/html": [
              "<div>\n",
              "<style scoped>\n",
              "    .dataframe tbody tr th:only-of-type {\n",
              "        vertical-align: middle;\n",
              "    }\n",
              "\n",
              "    .dataframe tbody tr th {\n",
              "        vertical-align: top;\n",
              "    }\n",
              "\n",
              "    .dataframe thead th {\n",
              "        text-align: right;\n",
              "    }\n",
              "</style>\n",
              "<table border=\"1\" class=\"dataframe\">\n",
              "  <thead>\n",
              "    <tr style=\"text-align: right;\">\n",
              "      <th></th>\n",
              "      <th>Year</th>\n",
              "      <th>Candidate</th>\n",
              "      <th>Party</th>\n",
              "      <th>Popular vote</th>\n",
              "      <th>Result</th>\n",
              "      <th>%</th>\n",
              "    </tr>\n",
              "  </thead>\n",
              "  <tbody>\n",
              "    <tr>\n",
              "      <th>0</th>\n",
              "      <td>1824</td>\n",
              "      <td>Andrew Jackson</td>\n",
              "      <td>Democratic-Republican</td>\n",
              "      <td>151271</td>\n",
              "      <td>loss</td>\n",
              "      <td>57.210122</td>\n",
              "    </tr>\n",
              "    <tr>\n",
              "      <th>1</th>\n",
              "      <td>1824</td>\n",
              "      <td>John Quincy Adams</td>\n",
              "      <td>Democratic-Republican</td>\n",
              "      <td>113142</td>\n",
              "      <td>win</td>\n",
              "      <td>42.789878</td>\n",
              "    </tr>\n",
              "    <tr>\n",
              "      <th>2</th>\n",
              "      <td>1828</td>\n",
              "      <td>Andrew Jackson</td>\n",
              "      <td>Democratic</td>\n",
              "      <td>642806</td>\n",
              "      <td>win</td>\n",
              "      <td>56.203927</td>\n",
              "    </tr>\n",
              "    <tr>\n",
              "      <th>3</th>\n",
              "      <td>1828</td>\n",
              "      <td>John Quincy Adams</td>\n",
              "      <td>National Republican</td>\n",
              "      <td>500897</td>\n",
              "      <td>loss</td>\n",
              "      <td>43.796073</td>\n",
              "    </tr>\n",
              "    <tr>\n",
              "      <th>4</th>\n",
              "      <td>1832</td>\n",
              "      <td>Andrew Jackson</td>\n",
              "      <td>Democratic</td>\n",
              "      <td>702735</td>\n",
              "      <td>win</td>\n",
              "      <td>54.574789</td>\n",
              "    </tr>\n",
              "    <tr>\n",
              "      <th>...</th>\n",
              "      <td>...</td>\n",
              "      <td>...</td>\n",
              "      <td>...</td>\n",
              "      <td>...</td>\n",
              "      <td>...</td>\n",
              "      <td>...</td>\n",
              "    </tr>\n",
              "    <tr>\n",
              "      <th>177</th>\n",
              "      <td>2016</td>\n",
              "      <td>Jill Stein</td>\n",
              "      <td>Green</td>\n",
              "      <td>1457226</td>\n",
              "      <td>loss</td>\n",
              "      <td>1.073699</td>\n",
              "    </tr>\n",
              "    <tr>\n",
              "      <th>178</th>\n",
              "      <td>2020</td>\n",
              "      <td>Joseph Biden</td>\n",
              "      <td>Democratic</td>\n",
              "      <td>81268924</td>\n",
              "      <td>win</td>\n",
              "      <td>51.311515</td>\n",
              "    </tr>\n",
              "    <tr>\n",
              "      <th>179</th>\n",
              "      <td>2020</td>\n",
              "      <td>Donald Trump</td>\n",
              "      <td>Republican</td>\n",
              "      <td>74216154</td>\n",
              "      <td>loss</td>\n",
              "      <td>46.858542</td>\n",
              "    </tr>\n",
              "    <tr>\n",
              "      <th>180</th>\n",
              "      <td>2020</td>\n",
              "      <td>Jo Jorgensen</td>\n",
              "      <td>Libertarian</td>\n",
              "      <td>1865724</td>\n",
              "      <td>loss</td>\n",
              "      <td>1.177979</td>\n",
              "    </tr>\n",
              "    <tr>\n",
              "      <th>181</th>\n",
              "      <td>2020</td>\n",
              "      <td>Howard Hawkins</td>\n",
              "      <td>Green</td>\n",
              "      <td>405035</td>\n",
              "      <td>loss</td>\n",
              "      <td>0.255731</td>\n",
              "    </tr>\n",
              "  </tbody>\n",
              "</table>\n",
              "<p>182 rows × 6 columns</p>\n",
              "</div>"
            ],
            "text/plain": [
              "     Year          Candidate                  Party  Popular vote Result  \\\n",
              "0    1824     Andrew Jackson  Democratic-Republican        151271   loss   \n",
              "1    1824  John Quincy Adams  Democratic-Republican        113142    win   \n",
              "2    1828     Andrew Jackson             Democratic        642806    win   \n",
              "3    1828  John Quincy Adams    National Republican        500897   loss   \n",
              "4    1832     Andrew Jackson             Democratic        702735    win   \n",
              "..    ...                ...                    ...           ...    ...   \n",
              "177  2016         Jill Stein                  Green       1457226   loss   \n",
              "178  2020       Joseph Biden             Democratic      81268924    win   \n",
              "179  2020       Donald Trump             Republican      74216154   loss   \n",
              "180  2020       Jo Jorgensen            Libertarian       1865724   loss   \n",
              "181  2020     Howard Hawkins                  Green        405035   loss   \n",
              "\n",
              "             %  \n",
              "0    57.210122  \n",
              "1    42.789878  \n",
              "2    56.203927  \n",
              "3    43.796073  \n",
              "4    54.574789  \n",
              "..         ...  \n",
              "177   1.073699  \n",
              "178  51.311515  \n",
              "179  46.858542  \n",
              "180   1.177979  \n",
              "181   0.255731  \n",
              "\n",
              "[182 rows x 6 columns]"
            ]
          },
          "execution_count": 3,
          "metadata": {},
          "output_type": "execute_result"
        }
      ],
      "source": [
        "import pandas as pd\n",
        "\n",
        "elections = pd.read_csv(\"data/elections.csv\")\n",
        "elections"
      ]
    },
    {
      "attachments": {},
      "cell_type": "markdown",
      "metadata": {},
      "source": [
        "Let's dissect the code above. \n",
        "\n",
        "1. We first import the ````pandas```` library into our Python environment, using the alias `pd`. <br> &emsp;```` import pandas as pd ````\n",
        "\n",
        "2. There are a number of ways to read data into a DataFrame. In Data 100, our data are typically stored in a CSV (comma-seperated values) file format. We can import a CSV file into a DataFrame by passing the data path as an argument to the following ````pandas```` function. \n",
        "<br> &emsp;```` pd.read_csv(\"elections.csv\") ```` \n",
        "\n",
        "This code stores our DataFrame object into the ````elections```` variable. Upon inspection, our ````elections```` DataFrame has 182 rows and 6 columns. Each row represents a single record - in our example, a presedential candidate from some particular year. Each column represents a single attribute, or feature of the record.\n",
        "\n",
        "The API (application programming interface) for the DataFrame class is enormous. Let's dig deeper into what exactly a DataFrame is.\n",
        "\n",
        "````elections```` is an example of a DataFrame. Using the built-in ````type```` function, we can check that it is indeed a DataFrame object. "
      ]
    },
    {
      "cell_type": "code",
      "execution_count": 4,
      "metadata": {},
      "outputs": [
        {
          "data": {
            "text/plain": [
              "pandas.core.frame.DataFrame"
            ]
          },
          "execution_count": 4,
          "metadata": {},
          "output_type": "execute_result"
        }
      ],
      "source": [
        "type(elections)"
      ]
    },
    {
      "attachments": {},
      "cell_type": "markdown",
      "metadata": {},
      "source": [
        "### Series \n",
        "\n",
        "A `Series` is a 1-dimensional array-like object containing a sequence of values of the *same type* and an associated array of data labels, called its `index`. Think of this as the fundamental building block of Pandas. \n",
        "\n",
        "### Creating a Series\n",
        "\n",
        "Passing a list into the constructor will intialize a `Series` containing the same elements as the list passed in with a default numeric `Index`.\n",
        "\n"
      ]
    },
    {
      "cell_type": "code",
      "execution_count": 5,
      "metadata": {},
      "outputs": [],
      "source": [
        "# This creates a Series containing the number 1,2, and 3.\n",
        "s = pd.Series([1,2,3])"
      ]
    },
    {
      "attachments": {},
      "cell_type": "markdown",
      "metadata": {},
      "source": [
        "### Setting an Index\n",
        "The `Index` serves as a way of identifying the items in a Series. Sometimes, this is prefered not to be just integers. For example, if you are working with data that corresponds to a person, then you can set the `Index` to be the names of each person. This can help in making your code more interpretable.\n",
        "\n",
        "Setting an `Index` can be done through the constructor's `index = ...` argument **or** by setting the `.index` attribute to be a list. "
      ]
    },
    {
      "cell_type": "code",
      "execution_count": 24,
      "metadata": {},
      "outputs": [
        {
          "data": {
            "text/plain": [
              "Alice      150\n",
              "Bob        160\n",
              "Candice    155\n",
              "dtype: int64"
            ]
          },
          "execution_count": 24,
          "metadata": {},
          "output_type": "execute_result"
        }
      ],
      "source": [
        "# Let's imagine we have a Series that contains the heights of 3 people: \n",
        "# Alice, Bob, and Candace. \n",
        "# Setting the heights array to have an Index can inform us of the person each value belongs to. \n",
        "\n",
        "heights = pd.Series([150, 160, 155], index = [\"Alice\",\"Bob\",\"Candice\"])\n",
        "heights\n",
        "\n"
      ]
    },
    {
      "attachments": {},
      "cell_type": "markdown",
      "metadata": {},
      "source": [
        "### Selection in Series\n",
        "\n",
        "We can select a single value or a set of values from a Series using a variety of methods. All of these methods require the name of the `Series` followed by square brackets `[]` containing an argument:\n",
        "\n",
        "1. A single label. \n",
        "    - This will return the value(s) associated with the label in the `Index`. Each label in the `Index` will have at least one value associated with it at all times.  \n",
        "\n",
        "2. A list of labels\n",
        "    - This will return all values associated with the each label in the list. This is similar to the first method.\n",
        "    \n",
        "3. A filtering condition\n",
        "    - How this method works will be clarified in a future section. However, it essntially compares every value in the `Series` using the operator and the other argument. Every value for which the expression evaluates to `True` will be returned. \n",
        "\n"
      ]
    },
    {
      "cell_type": "code",
      "execution_count": 29,
      "metadata": {},
      "outputs": [
        {
          "name": "stdout",
          "output_type": "stream",
          "text": [
            "5\n",
            "B    10\n",
            "D    20\n",
            "dtype: int64\n",
            "C    15\n",
            "D    20\n",
            "dtype: int64\n"
          ]
        }
      ],
      "source": [
        "s = pd.Series([5,10,15, 20], index = [\"A\",\"B\",\"C\",\"D\"])\n",
        "#Selecting a single value using a single label\n",
        "#Note: this returns back an integer because each value is an integer\n",
        "s[\"A\"]\n",
        "\n",
        "#Selecting a list of values using a list of labels.\n",
        "#Note: this returns back a Series\n",
        "s[[\"B\",\"D\"]]\n",
        "\n",
        "#Selecting all values greater than 11\n",
        "s[s>11]\n",
        "\n",
        "\n"
      ]
    },
    {
      "attachments": {},
      "cell_type": "markdown",
      "metadata": {},
      "source": [
        "### DataFrames\n",
        "\n",
        "The `DataFrame` object is specialized for storing **2D tabular** data. The 2 dimensions are called the rows and columns. **Rows** contain sepearate units of observation(people, days, etc.), and are typically oriented on the **vertically**. **Columns** represent features(a person's height, a day's temperature) of the data, and are oriented **horizontally**. Each column has a name and each row has an index value. These identifying values **should** be unique. While its possible to have duplicate row indices and column names, it is highly discouraged as it can lead to confusion.\n",
        "\n",
        "\n",
        "\n",
        "### Creating a DataFrame\n",
        "\n",
        "There are three common approaches:\n",
        "\n",
        "1. Using a `collection` of `list` objects for values and column name\n",
        "    - The `collection` should contain a `list` that will be used as a row in the resulting DataFrame. Each `list` should have the same number of items.\n",
        "\n",
        "2. From a `Dictionary` of {column name : `list`}\n",
        "3. From a `Dictionary` of {column name : `Series`}\n",
        "\n",
        "    - Contrary to the first method, the second and third method is helpful if we want to define the data by *column* instead of by row. Each key in our `Dictionary` will become a column name in our DataFrame, with the value corresponding to the key becoming the Series that the DataFrame uses to represent that column. The value can be defined as either a `list` or a `Series`, but will ultimately still end up as a column."
      ]
    },
    {
      "cell_type": "code",
      "execution_count": 30,
      "metadata": {},
      "outputs": [],
      "source": [
        "#Using a collection of list objects, one for each row\n",
        "ex1 = pd.DataFrame([[1,'one'],[2,'two'],[3,'three']],columns = [\"Numbers\",\"Words\"])\n",
        "\n",
        "#Using a dictionary of list objects\n",
        "ex2 = pd.DataFrame({\"Numbers\" : [1,2,3], \"Words\":['one','two','three']})\n",
        "\n",
        "#Using a dictionary of Series objects\n",
        "number_series = pd.Series([1,2,3])\n",
        "word_series = pd.Series(['one','two','three'])\n",
        "ex3 = pd.DataFrame({\"Numbers\" : number_series, \"Words\":word_series })\n"
      ]
    },
    {
      "attachments": {},
      "cell_type": "markdown",
      "metadata": {},
      "source": [
        "### The Relationship Between DataFrames, Series, and Indices\n",
        "\n",
        "A DataFrame is equivalent to a collection of multiple Series, which all share the same `Index`, a special `Series` used to represent row indices. Notice how the `Index` of a Series is equivalent to the `Index` (or row labels) of the DataFrame it comes from (this will come up again later). However, a DataFrame index doesn't have to be an integer, nor does it have to be unique. For example, we can set our index to be the name of our presedential candidates:\n",
        "\n",
        "![](images/index_comparison_1.png)\n",
        "\n",
        "To retrieve the row indices of a DataFrame, simply use the `.index` attribute, and to get the column names of a DataFrame, simply use the `.columns` attribute."
      ]
    },
    {
      "cell_type": "code",
      "execution_count": 7,
      "metadata": {},
      "outputs": [
        {
          "data": {
            "text/plain": [
              "Index(['Year', 'Candidate', 'Party', 'Popular vote', 'Result', '%'], dtype='object')"
            ]
          },
          "execution_count": 7,
          "metadata": {},
          "output_type": "execute_result"
        }
      ],
      "source": [
        "elections.columns"
      ]
    },
    {
      "cell_type": "code",
      "execution_count": 8,
      "metadata": {},
      "outputs": [
        {
          "data": {
            "text/plain": [
              "RangeIndex(start=0, stop=182, step=1)"
            ]
          },
          "execution_count": 8,
          "metadata": {},
          "output_type": "execute_result"
        }
      ],
      "source": [
        "elections.index"
      ]
    },
    {
      "attachments": {},
      "cell_type": "markdown",
      "metadata": {},
      "source": [
        "Knowing the column names of a DataFrame is important because this is the primary way of accessing a column. This will be further elaborated during the next section, but a key fact to know is that column names should be **unique**!"
      ]
    },
    {
      "cell_type": "code",
      "execution_count": 33,
      "metadata": {},
      "outputs": [
        {
          "data": {
            "text/html": [
              "<div>\n",
              "<style scoped>\n",
              "    .dataframe tbody tr th:only-of-type {\n",
              "        vertical-align: middle;\n",
              "    }\n",
              "\n",
              "    .dataframe tbody tr th {\n",
              "        vertical-align: top;\n",
              "    }\n",
              "\n",
              "    .dataframe thead th {\n",
              "        text-align: right;\n",
              "    }\n",
              "</style>\n",
              "<table border=\"1\" class=\"dataframe\">\n",
              "  <thead>\n",
              "    <tr style=\"text-align: right;\">\n",
              "      <th></th>\n",
              "      <th>A</th>\n",
              "      <th>A</th>\n",
              "    </tr>\n",
              "  </thead>\n",
              "  <tbody>\n",
              "    <tr>\n",
              "      <th>0</th>\n",
              "      <td>1</td>\n",
              "      <td>one</td>\n",
              "    </tr>\n",
              "    <tr>\n",
              "      <th>1</th>\n",
              "      <td>2</td>\n",
              "      <td>two</td>\n",
              "    </tr>\n",
              "    <tr>\n",
              "      <th>2</th>\n",
              "      <td>3</td>\n",
              "      <td>three</td>\n",
              "    </tr>\n",
              "  </tbody>\n",
              "</table>\n",
              "</div>"
            ],
            "text/plain": [
              "   A      A\n",
              "0  1    one\n",
              "1  2    two\n",
              "2  3  three"
            ]
          },
          "execution_count": 33,
          "metadata": {},
          "output_type": "execute_result"
        }
      ],
      "source": [
        "# What happens when a column is not unique? You can't have one without the other. \n",
        "# Trust that this can get annoying\n",
        "\n",
        "bad_df = pd.DataFrame([[1,'one'],[2,'two'],[3,'three']],columns = [\"A\",\"A\"])\n",
        "bad_df[\"A\"]"
      ]
    },
    {
      "attachments": {},
      "cell_type": "markdown",
      "metadata": {},
      "source": [
        "We can change the `index` of our DataFrame to be any `Series` object we choose. Here is a demonstration of how to turn the `Candidate` column into the `Index` of our `elections` DataFrame."
      ]
    },
    {
      "cell_type": "code",
      "execution_count": 9,
      "metadata": {},
      "outputs": [
        {
          "data": {
            "text/plain": [
              "0         Andrew Jackson\n",
              "1      John Quincy Adams\n",
              "2         Andrew Jackson\n",
              "3      John Quincy Adams\n",
              "4         Andrew Jackson\n",
              "             ...        \n",
              "177           Jill Stein\n",
              "178         Joseph Biden\n",
              "179         Donald Trump\n",
              "180         Jo Jorgensen\n",
              "181       Howard Hawkins\n",
              "Name: Candidate, Length: 182, dtype: object"
            ]
          },
          "execution_count": 9,
          "metadata": {},
          "output_type": "execute_result"
        }
      ],
      "source": [
        "elections['Candidate']"
      ]
    },
    {
      "cell_type": "code",
      "execution_count": 10,
      "metadata": {},
      "outputs": [],
      "source": [
        "elections.set_index(\"Candidate\", inplace=True) # This sets the index to the \"Candidate\" column"
      ]
    },
    {
      "attachments": {},
      "cell_type": "markdown",
      "metadata": {},
      "source": [
        "![](images/index_comparison_2.png)"
      ]
    },
    {
      "cell_type": "code",
      "execution_count": 11,
      "metadata": {},
      "outputs": [],
      "source": [
        "elections.reset_index(inplace=True) # This resets the index"
      ]
    },
    {
      "cell_type": "markdown",
      "metadata": {},
      "source": [
        "Earlier, we mentioned that a Series was just a column of data. What if we wanted a single column as a DataFrame? To obtain this, we can pass in a list containing a single column to the `[]` selection operator."
      ]
    },
    {
      "cell_type": "code",
      "execution_count": 12,
      "metadata": {},
      "outputs": [
        {
          "data": {
            "text/html": [
              "<div>\n",
              "<style scoped>\n",
              "    .dataframe tbody tr th:only-of-type {\n",
              "        vertical-align: middle;\n",
              "    }\n",
              "\n",
              "    .dataframe tbody tr th {\n",
              "        vertical-align: top;\n",
              "    }\n",
              "\n",
              "    .dataframe thead th {\n",
              "        text-align: right;\n",
              "    }\n",
              "</style>\n",
              "<table border=\"1\" class=\"dataframe\">\n",
              "  <thead>\n",
              "    <tr style=\"text-align: right;\">\n",
              "      <th></th>\n",
              "      <th>Party</th>\n",
              "    </tr>\n",
              "  </thead>\n",
              "  <tbody>\n",
              "    <tr>\n",
              "      <th>0</th>\n",
              "      <td>Democratic-Republican</td>\n",
              "    </tr>\n",
              "    <tr>\n",
              "      <th>1</th>\n",
              "      <td>Democratic-Republican</td>\n",
              "    </tr>\n",
              "    <tr>\n",
              "      <th>2</th>\n",
              "      <td>Democratic</td>\n",
              "    </tr>\n",
              "    <tr>\n",
              "      <th>3</th>\n",
              "      <td>National Republican</td>\n",
              "    </tr>\n",
              "    <tr>\n",
              "      <th>4</th>\n",
              "      <td>Democratic</td>\n",
              "    </tr>\n",
              "    <tr>\n",
              "      <th>...</th>\n",
              "      <td>...</td>\n",
              "    </tr>\n",
              "    <tr>\n",
              "      <th>177</th>\n",
              "      <td>Green</td>\n",
              "    </tr>\n",
              "    <tr>\n",
              "      <th>178</th>\n",
              "      <td>Democratic</td>\n",
              "    </tr>\n",
              "    <tr>\n",
              "      <th>179</th>\n",
              "      <td>Republican</td>\n",
              "    </tr>\n",
              "    <tr>\n",
              "      <th>180</th>\n",
              "      <td>Libertarian</td>\n",
              "    </tr>\n",
              "    <tr>\n",
              "      <th>181</th>\n",
              "      <td>Green</td>\n",
              "    </tr>\n",
              "  </tbody>\n",
              "</table>\n",
              "<p>182 rows × 1 columns</p>\n",
              "</div>"
            ],
            "text/plain": [
              "                     Party\n",
              "0    Democratic-Republican\n",
              "1    Democratic-Republican\n",
              "2               Democratic\n",
              "3      National Republican\n",
              "4               Democratic\n",
              "..                     ...\n",
              "177                  Green\n",
              "178             Democratic\n",
              "179             Republican\n",
              "180            Libertarian\n",
              "181                  Green\n",
              "\n",
              "[182 rows x 1 columns]"
            ]
          },
          "execution_count": 12,
          "metadata": {},
          "output_type": "execute_result"
        }
      ],
      "source": [
        "elections[[\"Party\"]] # [\"Party\"] is the argument - a list with a single element"
      ]
    },
    {
      "attachments": {},
      "cell_type": "markdown",
      "metadata": {},
      "source": [
        "## Slicing in DataFrames\n",
        "\n",
        "The most fundamental way to manipulate a DataFrame is to extract a subset of rows and columns. This is called **slicing**. We will do so with three primary methods of the DataFrame class:\n",
        "\n",
        "1. `.loc`\n",
        "2. `.iloc`\n",
        "3. `[]`\n",
        "\n",
        "### Indexing with .loc\n",
        "\n",
        "The `.loc` operator selects rows and columns in a DataFrame by their row and column label(s), respectively. The **row label** (commonly referred to as the **index**) is the bold text on the far *left* of a DataFrame, while the **column label** is the text found at the *top* of a DataFrame. By default, row labels in `pandas` are the sequential list of integers beginning from 0. The column labels in our `elections` DataFrame are the column names themselves: `Year`, `Candidate`, `Party`, `Popular Vote`, `Result`, and `%`.\n",
        "\n",
        "`.loc` lets us grab data by specifying the appropriate row and column label(s) where the data exists. The row labels are the first argument to the `.loc` function; the column labels are the second. For example, to select the the row labeled `0` and the column labeled `Candidate` from our `elections` DataFrame we can write:"
      ]
    },
    {
      "cell_type": "code",
      "execution_count": 13,
      "metadata": {},
      "outputs": [
        {
          "data": {
            "text/plain": [
              "'Andrew Jackson'"
            ]
          },
          "execution_count": 13,
          "metadata": {},
          "output_type": "execute_result"
        }
      ],
      "source": [
        "elections.loc[0, 'Candidate']"
      ]
    },
    {
      "cell_type": "markdown",
      "metadata": {},
      "source": [
        "To select *multiple* rows and columns, we can use Python slice notation. We can select the first four rows and first four columns."
      ]
    },
    {
      "cell_type": "code",
      "execution_count": 14,
      "metadata": {},
      "outputs": [
        {
          "data": {
            "text/html": [
              "<div>\n",
              "<style scoped>\n",
              "    .dataframe tbody tr th:only-of-type {\n",
              "        vertical-align: middle;\n",
              "    }\n",
              "\n",
              "    .dataframe tbody tr th {\n",
              "        vertical-align: top;\n",
              "    }\n",
              "\n",
              "    .dataframe thead th {\n",
              "        text-align: right;\n",
              "    }\n",
              "</style>\n",
              "<table border=\"1\" class=\"dataframe\">\n",
              "  <thead>\n",
              "    <tr style=\"text-align: right;\">\n",
              "      <th></th>\n",
              "      <th>Year</th>\n",
              "      <th>Party</th>\n",
              "      <th>Popular vote</th>\n",
              "    </tr>\n",
              "  </thead>\n",
              "  <tbody>\n",
              "    <tr>\n",
              "      <th>0</th>\n",
              "      <td>1824</td>\n",
              "      <td>Democratic-Republican</td>\n",
              "      <td>151271</td>\n",
              "    </tr>\n",
              "    <tr>\n",
              "      <th>1</th>\n",
              "      <td>1824</td>\n",
              "      <td>Democratic-Republican</td>\n",
              "      <td>113142</td>\n",
              "    </tr>\n",
              "    <tr>\n",
              "      <th>2</th>\n",
              "      <td>1828</td>\n",
              "      <td>Democratic</td>\n",
              "      <td>642806</td>\n",
              "    </tr>\n",
              "    <tr>\n",
              "      <th>3</th>\n",
              "      <td>1828</td>\n",
              "      <td>National Republican</td>\n",
              "      <td>500897</td>\n",
              "    </tr>\n",
              "  </tbody>\n",
              "</table>\n",
              "</div>"
            ],
            "text/plain": [
              "   Year                  Party  Popular vote\n",
              "0  1824  Democratic-Republican        151271\n",
              "1  1824  Democratic-Republican        113142\n",
              "2  1828             Democratic        642806\n",
              "3  1828    National Republican        500897"
            ]
          },
          "execution_count": 14,
          "metadata": {},
          "output_type": "execute_result"
        }
      ],
      "source": [
        "elections.loc[0:3, 'Year':'Popular vote']"
      ]
    },
    {
      "cell_type": "markdown",
      "metadata": {},
      "source": [
        "Suppose that instead, we wanted *every* column value for the first four rows in the `elections` DataFrame. The shorthand `:` is useful for this."
      ]
    },
    {
      "cell_type": "code",
      "execution_count": 15,
      "metadata": {},
      "outputs": [
        {
          "data": {
            "text/html": [
              "<div>\n",
              "<style scoped>\n",
              "    .dataframe tbody tr th:only-of-type {\n",
              "        vertical-align: middle;\n",
              "    }\n",
              "\n",
              "    .dataframe tbody tr th {\n",
              "        vertical-align: top;\n",
              "    }\n",
              "\n",
              "    .dataframe thead th {\n",
              "        text-align: right;\n",
              "    }\n",
              "</style>\n",
              "<table border=\"1\" class=\"dataframe\">\n",
              "  <thead>\n",
              "    <tr style=\"text-align: right;\">\n",
              "      <th></th>\n",
              "      <th>Candidate</th>\n",
              "      <th>Year</th>\n",
              "      <th>Party</th>\n",
              "      <th>Popular vote</th>\n",
              "      <th>Result</th>\n",
              "      <th>%</th>\n",
              "    </tr>\n",
              "  </thead>\n",
              "  <tbody>\n",
              "    <tr>\n",
              "      <th>0</th>\n",
              "      <td>Andrew Jackson</td>\n",
              "      <td>1824</td>\n",
              "      <td>Democratic-Republican</td>\n",
              "      <td>151271</td>\n",
              "      <td>loss</td>\n",
              "      <td>57.210122</td>\n",
              "    </tr>\n",
              "    <tr>\n",
              "      <th>1</th>\n",
              "      <td>John Quincy Adams</td>\n",
              "      <td>1824</td>\n",
              "      <td>Democratic-Republican</td>\n",
              "      <td>113142</td>\n",
              "      <td>win</td>\n",
              "      <td>42.789878</td>\n",
              "    </tr>\n",
              "    <tr>\n",
              "      <th>2</th>\n",
              "      <td>Andrew Jackson</td>\n",
              "      <td>1828</td>\n",
              "      <td>Democratic</td>\n",
              "      <td>642806</td>\n",
              "      <td>win</td>\n",
              "      <td>56.203927</td>\n",
              "    </tr>\n",
              "    <tr>\n",
              "      <th>3</th>\n",
              "      <td>John Quincy Adams</td>\n",
              "      <td>1828</td>\n",
              "      <td>National Republican</td>\n",
              "      <td>500897</td>\n",
              "      <td>loss</td>\n",
              "      <td>43.796073</td>\n",
              "    </tr>\n",
              "  </tbody>\n",
              "</table>\n",
              "</div>"
            ],
            "text/plain": [
              "           Candidate  Year                  Party  Popular vote Result  \\\n",
              "0     Andrew Jackson  1824  Democratic-Republican        151271   loss   \n",
              "1  John Quincy Adams  1824  Democratic-Republican        113142    win   \n",
              "2     Andrew Jackson  1828             Democratic        642806    win   \n",
              "3  John Quincy Adams  1828    National Republican        500897   loss   \n",
              "\n",
              "           %  \n",
              "0  57.210122  \n",
              "1  42.789878  \n",
              "2  56.203927  \n",
              "3  43.796073  "
            ]
          },
          "execution_count": 15,
          "metadata": {},
          "output_type": "execute_result"
        }
      ],
      "source": [
        "elections.loc[0:3, :]"
      ]
    },
    {
      "cell_type": "markdown",
      "metadata": {},
      "source": [
        "There are a couple of things we should note. Unlike conventional Python, Pandas allows us to slice string values (in our example, the column labels). Secondly, slicing with `.loc` is *inclusive*. Notice how our resulting DataFrame includes every row and column between and including the slice labels we specified.\n",
        "\n",
        "Equivalently, we can use a list to obtain multiple rows and columns in our `elections` DataFrame. "
      ]
    },
    {
      "cell_type": "code",
      "execution_count": 16,
      "metadata": {},
      "outputs": [
        {
          "data": {
            "text/html": [
              "<div>\n",
              "<style scoped>\n",
              "    .dataframe tbody tr th:only-of-type {\n",
              "        vertical-align: middle;\n",
              "    }\n",
              "\n",
              "    .dataframe tbody tr th {\n",
              "        vertical-align: top;\n",
              "    }\n",
              "\n",
              "    .dataframe thead th {\n",
              "        text-align: right;\n",
              "    }\n",
              "</style>\n",
              "<table border=\"1\" class=\"dataframe\">\n",
              "  <thead>\n",
              "    <tr style=\"text-align: right;\">\n",
              "      <th></th>\n",
              "      <th>Year</th>\n",
              "      <th>Candidate</th>\n",
              "      <th>Party</th>\n",
              "      <th>Popular vote</th>\n",
              "    </tr>\n",
              "  </thead>\n",
              "  <tbody>\n",
              "    <tr>\n",
              "      <th>0</th>\n",
              "      <td>1824</td>\n",
              "      <td>Andrew Jackson</td>\n",
              "      <td>Democratic-Republican</td>\n",
              "      <td>151271</td>\n",
              "    </tr>\n",
              "    <tr>\n",
              "      <th>1</th>\n",
              "      <td>1824</td>\n",
              "      <td>John Quincy Adams</td>\n",
              "      <td>Democratic-Republican</td>\n",
              "      <td>113142</td>\n",
              "    </tr>\n",
              "    <tr>\n",
              "      <th>2</th>\n",
              "      <td>1828</td>\n",
              "      <td>Andrew Jackson</td>\n",
              "      <td>Democratic</td>\n",
              "      <td>642806</td>\n",
              "    </tr>\n",
              "    <tr>\n",
              "      <th>3</th>\n",
              "      <td>1828</td>\n",
              "      <td>John Quincy Adams</td>\n",
              "      <td>National Republican</td>\n",
              "      <td>500897</td>\n",
              "    </tr>\n",
              "  </tbody>\n",
              "</table>\n",
              "</div>"
            ],
            "text/plain": [
              "   Year          Candidate                  Party  Popular vote\n",
              "0  1824     Andrew Jackson  Democratic-Republican        151271\n",
              "1  1824  John Quincy Adams  Democratic-Republican        113142\n",
              "2  1828     Andrew Jackson             Democratic        642806\n",
              "3  1828  John Quincy Adams    National Republican        500897"
            ]
          },
          "execution_count": 16,
          "metadata": {},
          "output_type": "execute_result"
        }
      ],
      "source": [
        "elections.loc[[0, 1, 2, 3], ['Year', 'Candidate', 'Party', 'Popular vote']]"
      ]
    },
    {
      "cell_type": "markdown",
      "metadata": {},
      "source": [
        "Lastly, we can interchange list and slicing notation."
      ]
    },
    {
      "cell_type": "code",
      "execution_count": 17,
      "metadata": {},
      "outputs": [
        {
          "data": {
            "text/html": [
              "<div>\n",
              "<style scoped>\n",
              "    .dataframe tbody tr th:only-of-type {\n",
              "        vertical-align: middle;\n",
              "    }\n",
              "\n",
              "    .dataframe tbody tr th {\n",
              "        vertical-align: top;\n",
              "    }\n",
              "\n",
              "    .dataframe thead th {\n",
              "        text-align: right;\n",
              "    }\n",
              "</style>\n",
              "<table border=\"1\" class=\"dataframe\">\n",
              "  <thead>\n",
              "    <tr style=\"text-align: right;\">\n",
              "      <th></th>\n",
              "      <th>Candidate</th>\n",
              "      <th>Year</th>\n",
              "      <th>Party</th>\n",
              "      <th>Popular vote</th>\n",
              "      <th>Result</th>\n",
              "      <th>%</th>\n",
              "    </tr>\n",
              "  </thead>\n",
              "  <tbody>\n",
              "    <tr>\n",
              "      <th>0</th>\n",
              "      <td>Andrew Jackson</td>\n",
              "      <td>1824</td>\n",
              "      <td>Democratic-Republican</td>\n",
              "      <td>151271</td>\n",
              "      <td>loss</td>\n",
              "      <td>57.210122</td>\n",
              "    </tr>\n",
              "    <tr>\n",
              "      <th>1</th>\n",
              "      <td>John Quincy Adams</td>\n",
              "      <td>1824</td>\n",
              "      <td>Democratic-Republican</td>\n",
              "      <td>113142</td>\n",
              "      <td>win</td>\n",
              "      <td>42.789878</td>\n",
              "    </tr>\n",
              "    <tr>\n",
              "      <th>2</th>\n",
              "      <td>Andrew Jackson</td>\n",
              "      <td>1828</td>\n",
              "      <td>Democratic</td>\n",
              "      <td>642806</td>\n",
              "      <td>win</td>\n",
              "      <td>56.203927</td>\n",
              "    </tr>\n",
              "    <tr>\n",
              "      <th>3</th>\n",
              "      <td>John Quincy Adams</td>\n",
              "      <td>1828</td>\n",
              "      <td>National Republican</td>\n",
              "      <td>500897</td>\n",
              "      <td>loss</td>\n",
              "      <td>43.796073</td>\n",
              "    </tr>\n",
              "  </tbody>\n",
              "</table>\n",
              "</div>"
            ],
            "text/plain": [
              "           Candidate  Year                  Party  Popular vote Result  \\\n",
              "0     Andrew Jackson  1824  Democratic-Republican        151271   loss   \n",
              "1  John Quincy Adams  1824  Democratic-Republican        113142    win   \n",
              "2     Andrew Jackson  1828             Democratic        642806    win   \n",
              "3  John Quincy Adams  1828    National Republican        500897   loss   \n",
              "\n",
              "           %  \n",
              "0  57.210122  \n",
              "1  42.789878  \n",
              "2  56.203927  \n",
              "3  43.796073  "
            ]
          },
          "execution_count": 17,
          "metadata": {},
          "output_type": "execute_result"
        }
      ],
      "source": [
        "elections.loc[[0, 1, 2, 3], :]"
      ]
    },
    {
      "cell_type": "markdown",
      "metadata": {},
      "source": [
        "### Indexing with .iloc\n",
        "\n",
        "Slicing with `.iloc` works similarily to `.loc`, although `.iloc` uses the integer positions of rows and columns rather the labels. The arguments to the `.iloc` function also behave similarly - single values, lists, indices, and any combination of these are permitted. \n",
        "\n",
        "Let's begin reproducing our results from above. We'll begin by selecting for the first presedential candidate in our `elections` DataFrame:"
      ]
    },
    {
      "cell_type": "code",
      "execution_count": 18,
      "metadata": {},
      "outputs": [
        {
          "data": {
            "text/plain": [
              "1824"
            ]
          },
          "execution_count": 18,
          "metadata": {},
          "output_type": "execute_result"
        }
      ],
      "source": [
        "# elections.loc[0, \"Candidate\"] - Previous approach\n",
        "elections.iloc[0, 1]"
      ]
    },
    {
      "cell_type": "markdown",
      "metadata": {},
      "source": [
        "Notice how the first argument to both `.loc` and `.iloc` are the same. This is because the row with a label of 0 is conveniently in the 0^th^ (or first) position of the `elections` DataFrame. Generally, this is true of any DataFrame where the row labels are incremented in ascending order from 0.\n",
        "\n",
        "However, when we select for the first four rows and columns using `.iloc`, we notice something."
      ]
    },
    {
      "cell_type": "code",
      "execution_count": 19,
      "metadata": {},
      "outputs": [
        {
          "data": {
            "text/html": [
              "<div>\n",
              "<style scoped>\n",
              "    .dataframe tbody tr th:only-of-type {\n",
              "        vertical-align: middle;\n",
              "    }\n",
              "\n",
              "    .dataframe tbody tr th {\n",
              "        vertical-align: top;\n",
              "    }\n",
              "\n",
              "    .dataframe thead th {\n",
              "        text-align: right;\n",
              "    }\n",
              "</style>\n",
              "<table border=\"1\" class=\"dataframe\">\n",
              "  <thead>\n",
              "    <tr style=\"text-align: right;\">\n",
              "      <th></th>\n",
              "      <th>Candidate</th>\n",
              "      <th>Year</th>\n",
              "      <th>Party</th>\n",
              "      <th>Popular vote</th>\n",
              "    </tr>\n",
              "  </thead>\n",
              "  <tbody>\n",
              "    <tr>\n",
              "      <th>0</th>\n",
              "      <td>Andrew Jackson</td>\n",
              "      <td>1824</td>\n",
              "      <td>Democratic-Republican</td>\n",
              "      <td>151271</td>\n",
              "    </tr>\n",
              "    <tr>\n",
              "      <th>1</th>\n",
              "      <td>John Quincy Adams</td>\n",
              "      <td>1824</td>\n",
              "      <td>Democratic-Republican</td>\n",
              "      <td>113142</td>\n",
              "    </tr>\n",
              "    <tr>\n",
              "      <th>2</th>\n",
              "      <td>Andrew Jackson</td>\n",
              "      <td>1828</td>\n",
              "      <td>Democratic</td>\n",
              "      <td>642806</td>\n",
              "    </tr>\n",
              "    <tr>\n",
              "      <th>3</th>\n",
              "      <td>John Quincy Adams</td>\n",
              "      <td>1828</td>\n",
              "      <td>National Republican</td>\n",
              "      <td>500897</td>\n",
              "    </tr>\n",
              "  </tbody>\n",
              "</table>\n",
              "</div>"
            ],
            "text/plain": [
              "           Candidate  Year                  Party  Popular vote\n",
              "0     Andrew Jackson  1824  Democratic-Republican        151271\n",
              "1  John Quincy Adams  1824  Democratic-Republican        113142\n",
              "2     Andrew Jackson  1828             Democratic        642806\n",
              "3  John Quincy Adams  1828    National Republican        500897"
            ]
          },
          "execution_count": 19,
          "metadata": {},
          "output_type": "execute_result"
        }
      ],
      "source": [
        "# elections.loc[0:3, 'Year':'Popular vote'] - Previous approach\n",
        "elections.iloc[0:4, 0:4]"
      ]
    },
    {
      "cell_type": "markdown",
      "metadata": {},
      "source": [
        "Slicing is no longer inclusive in `.iloc` - it's *exclusive*. This is one of Pandas syntatical subtleties; you'll get used to with practice.\n",
        "\n",
        "List behavior works just as expected."
      ]
    },
    {
      "cell_type": "code",
      "execution_count": 20,
      "metadata": {},
      "outputs": [
        {
          "data": {
            "text/html": [
              "<div>\n",
              "<style scoped>\n",
              "    .dataframe tbody tr th:only-of-type {\n",
              "        vertical-align: middle;\n",
              "    }\n",
              "\n",
              "    .dataframe tbody tr th {\n",
              "        vertical-align: top;\n",
              "    }\n",
              "\n",
              "    .dataframe thead th {\n",
              "        text-align: right;\n",
              "    }\n",
              "</style>\n",
              "<table border=\"1\" class=\"dataframe\">\n",
              "  <thead>\n",
              "    <tr style=\"text-align: right;\">\n",
              "      <th></th>\n",
              "      <th>Candidate</th>\n",
              "      <th>Year</th>\n",
              "      <th>Party</th>\n",
              "      <th>Popular vote</th>\n",
              "    </tr>\n",
              "  </thead>\n",
              "  <tbody>\n",
              "    <tr>\n",
              "      <th>0</th>\n",
              "      <td>Andrew Jackson</td>\n",
              "      <td>1824</td>\n",
              "      <td>Democratic-Republican</td>\n",
              "      <td>151271</td>\n",
              "    </tr>\n",
              "    <tr>\n",
              "      <th>1</th>\n",
              "      <td>John Quincy Adams</td>\n",
              "      <td>1824</td>\n",
              "      <td>Democratic-Republican</td>\n",
              "      <td>113142</td>\n",
              "    </tr>\n",
              "    <tr>\n",
              "      <th>2</th>\n",
              "      <td>Andrew Jackson</td>\n",
              "      <td>1828</td>\n",
              "      <td>Democratic</td>\n",
              "      <td>642806</td>\n",
              "    </tr>\n",
              "    <tr>\n",
              "      <th>3</th>\n",
              "      <td>John Quincy Adams</td>\n",
              "      <td>1828</td>\n",
              "      <td>National Republican</td>\n",
              "      <td>500897</td>\n",
              "    </tr>\n",
              "  </tbody>\n",
              "</table>\n",
              "</div>"
            ],
            "text/plain": [
              "           Candidate  Year                  Party  Popular vote\n",
              "0     Andrew Jackson  1824  Democratic-Republican        151271\n",
              "1  John Quincy Adams  1824  Democratic-Republican        113142\n",
              "2     Andrew Jackson  1828             Democratic        642806\n",
              "3  John Quincy Adams  1828    National Republican        500897"
            ]
          },
          "execution_count": 20,
          "metadata": {},
          "output_type": "execute_result"
        }
      ],
      "source": [
        "#elections.loc[[0, 1, 2, 3], ['Year', 'Candidate', 'Party', 'Popular vote']] - Previous Approach\n",
        "elections.iloc[[0, 1, 2, 3], [0, 1, 2, 3]]"
      ]
    },
    {
      "cell_type": "markdown",
      "metadata": {},
      "source": [
        "This discussion begs the question: when should we use `.loc` vs `.iloc`? In most cases, `.loc` is generally safer to use. You can imagine `.iloc` may return incorrect values when applied to a dataset where the ordering of data can change. \n",
        "\n",
        "### Indexing with []\n",
        "\n",
        "The `[]` selection operator is the most baffling of all, yet it is the commonly used. It only takes a single argument, which may be one of the following:\n",
        "\n",
        "1. A slice of row numbers\n",
        "2. A list of column labels\n",
        "3. A single column label\n",
        "\n",
        "That is, `[]` is *context dependent*. Let's see some examples.\n",
        "\n",
        "#### A slice of row numbers\n",
        "\n",
        "Say we wanted the first four rows of our `elections` DataFrame."
      ]
    },
    {
      "cell_type": "code",
      "execution_count": 21,
      "metadata": {},
      "outputs": [
        {
          "data": {
            "text/html": [
              "<div>\n",
              "<style scoped>\n",
              "    .dataframe tbody tr th:only-of-type {\n",
              "        vertical-align: middle;\n",
              "    }\n",
              "\n",
              "    .dataframe tbody tr th {\n",
              "        vertical-align: top;\n",
              "    }\n",
              "\n",
              "    .dataframe thead th {\n",
              "        text-align: right;\n",
              "    }\n",
              "</style>\n",
              "<table border=\"1\" class=\"dataframe\">\n",
              "  <thead>\n",
              "    <tr style=\"text-align: right;\">\n",
              "      <th></th>\n",
              "      <th>Candidate</th>\n",
              "      <th>Year</th>\n",
              "      <th>Party</th>\n",
              "      <th>Popular vote</th>\n",
              "      <th>Result</th>\n",
              "      <th>%</th>\n",
              "    </tr>\n",
              "  </thead>\n",
              "  <tbody>\n",
              "    <tr>\n",
              "      <th>0</th>\n",
              "      <td>Andrew Jackson</td>\n",
              "      <td>1824</td>\n",
              "      <td>Democratic-Republican</td>\n",
              "      <td>151271</td>\n",
              "      <td>loss</td>\n",
              "      <td>57.210122</td>\n",
              "    </tr>\n",
              "    <tr>\n",
              "      <th>1</th>\n",
              "      <td>John Quincy Adams</td>\n",
              "      <td>1824</td>\n",
              "      <td>Democratic-Republican</td>\n",
              "      <td>113142</td>\n",
              "      <td>win</td>\n",
              "      <td>42.789878</td>\n",
              "    </tr>\n",
              "    <tr>\n",
              "      <th>2</th>\n",
              "      <td>Andrew Jackson</td>\n",
              "      <td>1828</td>\n",
              "      <td>Democratic</td>\n",
              "      <td>642806</td>\n",
              "      <td>win</td>\n",
              "      <td>56.203927</td>\n",
              "    </tr>\n",
              "    <tr>\n",
              "      <th>3</th>\n",
              "      <td>John Quincy Adams</td>\n",
              "      <td>1828</td>\n",
              "      <td>National Republican</td>\n",
              "      <td>500897</td>\n",
              "      <td>loss</td>\n",
              "      <td>43.796073</td>\n",
              "    </tr>\n",
              "  </tbody>\n",
              "</table>\n",
              "</div>"
            ],
            "text/plain": [
              "           Candidate  Year                  Party  Popular vote Result  \\\n",
              "0     Andrew Jackson  1824  Democratic-Republican        151271   loss   \n",
              "1  John Quincy Adams  1824  Democratic-Republican        113142    win   \n",
              "2     Andrew Jackson  1828             Democratic        642806    win   \n",
              "3  John Quincy Adams  1828    National Republican        500897   loss   \n",
              "\n",
              "           %  \n",
              "0  57.210122  \n",
              "1  42.789878  \n",
              "2  56.203927  \n",
              "3  43.796073  "
            ]
          },
          "execution_count": 21,
          "metadata": {},
          "output_type": "execute_result"
        }
      ],
      "source": [
        "elections[0:4]"
      ]
    },
    {
      "cell_type": "markdown",
      "metadata": {},
      "source": [
        "#### A list of column labels\n",
        "\n",
        "Suppose we now want the first four columns."
      ]
    },
    {
      "cell_type": "code",
      "execution_count": 22,
      "metadata": {},
      "outputs": [
        {
          "data": {
            "text/html": [
              "<div>\n",
              "<style scoped>\n",
              "    .dataframe tbody tr th:only-of-type {\n",
              "        vertical-align: middle;\n",
              "    }\n",
              "\n",
              "    .dataframe tbody tr th {\n",
              "        vertical-align: top;\n",
              "    }\n",
              "\n",
              "    .dataframe thead th {\n",
              "        text-align: right;\n",
              "    }\n",
              "</style>\n",
              "<table border=\"1\" class=\"dataframe\">\n",
              "  <thead>\n",
              "    <tr style=\"text-align: right;\">\n",
              "      <th></th>\n",
              "      <th>Year</th>\n",
              "      <th>Candidate</th>\n",
              "      <th>Party</th>\n",
              "      <th>Popular vote</th>\n",
              "    </tr>\n",
              "  </thead>\n",
              "  <tbody>\n",
              "    <tr>\n",
              "      <th>0</th>\n",
              "      <td>1824</td>\n",
              "      <td>Andrew Jackson</td>\n",
              "      <td>Democratic-Republican</td>\n",
              "      <td>151271</td>\n",
              "    </tr>\n",
              "    <tr>\n",
              "      <th>1</th>\n",
              "      <td>1824</td>\n",
              "      <td>John Quincy Adams</td>\n",
              "      <td>Democratic-Republican</td>\n",
              "      <td>113142</td>\n",
              "    </tr>\n",
              "    <tr>\n",
              "      <th>2</th>\n",
              "      <td>1828</td>\n",
              "      <td>Andrew Jackson</td>\n",
              "      <td>Democratic</td>\n",
              "      <td>642806</td>\n",
              "    </tr>\n",
              "    <tr>\n",
              "      <th>3</th>\n",
              "      <td>1828</td>\n",
              "      <td>John Quincy Adams</td>\n",
              "      <td>National Republican</td>\n",
              "      <td>500897</td>\n",
              "    </tr>\n",
              "    <tr>\n",
              "      <th>4</th>\n",
              "      <td>1832</td>\n",
              "      <td>Andrew Jackson</td>\n",
              "      <td>Democratic</td>\n",
              "      <td>702735</td>\n",
              "    </tr>\n",
              "    <tr>\n",
              "      <th>...</th>\n",
              "      <td>...</td>\n",
              "      <td>...</td>\n",
              "      <td>...</td>\n",
              "      <td>...</td>\n",
              "    </tr>\n",
              "    <tr>\n",
              "      <th>177</th>\n",
              "      <td>2016</td>\n",
              "      <td>Jill Stein</td>\n",
              "      <td>Green</td>\n",
              "      <td>1457226</td>\n",
              "    </tr>\n",
              "    <tr>\n",
              "      <th>178</th>\n",
              "      <td>2020</td>\n",
              "      <td>Joseph Biden</td>\n",
              "      <td>Democratic</td>\n",
              "      <td>81268924</td>\n",
              "    </tr>\n",
              "    <tr>\n",
              "      <th>179</th>\n",
              "      <td>2020</td>\n",
              "      <td>Donald Trump</td>\n",
              "      <td>Republican</td>\n",
              "      <td>74216154</td>\n",
              "    </tr>\n",
              "    <tr>\n",
              "      <th>180</th>\n",
              "      <td>2020</td>\n",
              "      <td>Jo Jorgensen</td>\n",
              "      <td>Libertarian</td>\n",
              "      <td>1865724</td>\n",
              "    </tr>\n",
              "    <tr>\n",
              "      <th>181</th>\n",
              "      <td>2020</td>\n",
              "      <td>Howard Hawkins</td>\n",
              "      <td>Green</td>\n",
              "      <td>405035</td>\n",
              "    </tr>\n",
              "  </tbody>\n",
              "</table>\n",
              "<p>182 rows × 4 columns</p>\n",
              "</div>"
            ],
            "text/plain": [
              "     Year          Candidate                  Party  Popular vote\n",
              "0    1824     Andrew Jackson  Democratic-Republican        151271\n",
              "1    1824  John Quincy Adams  Democratic-Republican        113142\n",
              "2    1828     Andrew Jackson             Democratic        642806\n",
              "3    1828  John Quincy Adams    National Republican        500897\n",
              "4    1832     Andrew Jackson             Democratic        702735\n",
              "..    ...                ...                    ...           ...\n",
              "177  2016         Jill Stein                  Green       1457226\n",
              "178  2020       Joseph Biden             Democratic      81268924\n",
              "179  2020       Donald Trump             Republican      74216154\n",
              "180  2020       Jo Jorgensen            Libertarian       1865724\n",
              "181  2020     Howard Hawkins                  Green        405035\n",
              "\n",
              "[182 rows x 4 columns]"
            ]
          },
          "execution_count": 22,
          "metadata": {},
          "output_type": "execute_result"
        }
      ],
      "source": [
        "elections[[\"Year\", \"Candidate\", \"Party\", \"Popular vote\"]]"
      ]
    },
    {
      "cell_type": "markdown",
      "metadata": {},
      "source": [
        "#### A single column label\n",
        "\n",
        "Lastly, if we only want the `Candidate` column."
      ]
    },
    {
      "cell_type": "code",
      "execution_count": 23,
      "metadata": {},
      "outputs": [
        {
          "data": {
            "text/plain": [
              "0         Andrew Jackson\n",
              "1      John Quincy Adams\n",
              "2         Andrew Jackson\n",
              "3      John Quincy Adams\n",
              "4         Andrew Jackson\n",
              "             ...        \n",
              "177           Jill Stein\n",
              "178         Joseph Biden\n",
              "179         Donald Trump\n",
              "180         Jo Jorgensen\n",
              "181       Howard Hawkins\n",
              "Name: Candidate, Length: 182, dtype: object"
            ]
          },
          "execution_count": 23,
          "metadata": {},
          "output_type": "execute_result"
        }
      ],
      "source": [
        "elections[\"Candidate\"]"
      ]
    },
    {
      "attachments": {},
      "cell_type": "markdown",
      "metadata": {},
      "source": [
        "### Parting Note\n",
        "\n",
        "The `pandas` library is enormous and contains many useful functions. Here is a link to [documentation](https://pandas.pydata.org/docs/).\n",
        "\n",
        "This lecture and the next will cover important methods you should be fluent in. However, we want you to get familiar with the real world programming practice of ...Googling! Answers to your questions can be found in documentation, Stack Overflow, etc. \n",
        "\n",
        "With that, we will move on to learning how to manipulate and access the data stored in the `pandas` data structures.\n"
      ]
    }
  ],
  "metadata": {
    "kernelspec": {
      "display_name": "Python 3.9.13 64-bit (microsoft store)",
      "language": "python",
      "name": "python3"
    },
    "language_info": {
      "codemirror_mode": {
        "name": "ipython",
        "version": 3
      },
      "file_extension": ".py",
      "mimetype": "text/x-python",
      "name": "python",
      "nbconvert_exporter": "python",
      "pygments_lexer": "ipython3",
      "version": "3.9.13 (tags/v3.9.13:6de2ca5, May 17 2022, 16:36:42) [MSC v.1929 64 bit (AMD64)]"
    },
    "vscode": {
      "interpreter": {
        "hash": "aea83e800b3f611b156506e3451d6446f84c720051bc83a1d66a677713fe7b36"
      }
    }
  },
  "nbformat": 4,
  "nbformat_minor": 4
}
