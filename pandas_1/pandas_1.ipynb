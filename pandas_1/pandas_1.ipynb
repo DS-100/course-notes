{
  "cells": [
    {
      "cell_type": "raw",
      "metadata": {},
      "source": [
        "---\n",
        "title: Pandas I\n",
        "format:\n",
        "  html:\n",
        "    toc: true\n",
        "    toc-depth: 5\n",
        "    toc-location: right\n",
        "    code-fold: false\n",
        "    theme:\n",
        "      - cosmo\n",
        "      - cerulean\n",
        "    callout-icon: false\n",
        "---"
      ]
    },
    {
      "cell_type": "markdown",
      "metadata": {},
      "source": [
        "::: {.callout-note collapse=\"false\"}\n",
        "## Learning Outcomes\n",
        "\n",
        "- Build familiarity with basic `pandas` syntax\n",
        "- Learn key data structures: DataFrames, Series, and Indices\n",
        "- Understand methods for extracting data: `.loc`, `.iloc`, and `[]`\n",
        ":::\n",
        "\n",
        "In this sequence of lectures, we will dive right into things by having you explore and manipulate real-world data. We'll first start with introducing `pandas`, a popular Python library for interacting with **tabular data**.\n",
        "\n",
        "## Tabular Data\n",
        "\n",
        "Data scientists work with data stored in a variety of formats. The primary focus of this class is understanding *tabular data* — data that is stored in a table.\n",
        "\n",
        "Tabular data is one of the most common systems that data scientists use to organize data. This is in large part due to the simplicity and flexibility of tables. Tables allow us to represent each **observation**, or instance of collecting data from an individual, as its own row. We can record distinct charactersitics, or **features**, of each observation in seperate columns.\n",
        "\n",
        "To see this in action, we'll explore the `elections` dataset, which stores information about political candidates who ran for president of the United States in previous years."
      ]
    },
    {
      "cell_type": "code",
      "metadata": {},
      "source": [
        "#| code-fold: true\n",
        "import pandas as pd\n",
        "pd.read_csv(\"data/elections.csv\")"
      ],
      "execution_count": null,
      "outputs": []
    },
    {
      "cell_type": "markdown",
      "metadata": {},
      "source": [
        "In the `elections` dataset, each row represents one instance of a candidate running for president in a particular year. For example, the first row represents Andrew Jackson running for president in the year 1824. Each column represents one characteristic piece of information about each presidential candidate. For example, the column named \"Result\" stores whether or not the candidate won the election. \n",
        "\n",
        "Your work in Data 8 helped you grow very familiar with using and interpreting data stored in a tabular format. Back then, you used the `Table` class of the `datascience` library, a special programming library specifically for Data 8 students.\n",
        "\n",
        "In Data 100, we will be working with the programming library `pandas`, which is generally accepted in the data science community as the industry- and academia-standard tool for manipulating tabular data (as well as the inspiration for Petey, our panda bear mascot).\n",
        "\n",
        "Using pandas, we can:\n",
        "- Arrange data in a tabular format\n",
        "- Extract useful information filtered by specific conditions\n",
        "- Operate on data to gain new insights\n",
        "- Apply NumPy functions to our data (our friends from Data 8)\n",
        "- Perform vectorized computations to speed up our analysis (Lab 1)\n",
        "\n",
        "## Series, DataFrames, and Indices\n",
        "\n",
        "To begin our studies in `pandas`, we must first import the library into our Python environment. This will allow us to use `pandas` data structures and methods in our code."
      ]
    },
    {
      "cell_type": "code",
      "metadata": {},
      "source": [
        "# pd` is the conventional alias for Pandas, as `np` is for NumPy\n",
        "import pandas as pd"
      ],
      "execution_count": null,
      "outputs": []
    },
    {
      "cell_type": "markdown",
      "metadata": {},
      "source": [
        "There are three fundamental data structures in `pandas`:\n",
        "\n",
        "1. **Series**: 1D labeled array data; best thought of as columnar data\n",
        "2. **DataFrame**: 2D tabular data with rows and columns\n",
        "3. **Index**: A sequence of row/column labels\n",
        "\n",
        "DataFrames, Series, and Indices can be represented visually in the following diagram, which considers the first few rows of the `elections` dataset.\n",
        "\n",
        "![](images/df_elections.png)\n",
        "\n",
        "Notice how the **DataFrame** is a two-dimensional object — it contains both rows and columns. The **Series** above is a singular column of this DataFrame, namely the `Result` column. Both contain an **Index**, or a shared list of row labels (the integers from 0 to 4, inclusive).\n",
        "\n",
        "### Series\n",
        "\n",
        "A Series represents a column of a DataFrame; more generally, it can be any 1-dimensional array-like object containing values of the same type with associated data labels, called its index. In the cell below, we create a Series named `s`."
      ]
    },
    {
      "cell_type": "code",
      "metadata": {},
      "source": [
        "s = pd.Series([-1, 10, 2])\n",
        "s"
      ],
      "execution_count": null,
      "outputs": []
    },
    {
      "cell_type": "code",
      "metadata": {},
      "source": [
        "s.values # Data contained within the Series"
      ],
      "execution_count": null,
      "outputs": []
    },
    {
      "cell_type": "code",
      "metadata": {},
      "source": [
        "s.index # The Index of the Series"
      ],
      "execution_count": null,
      "outputs": []
    },
    {
      "cell_type": "markdown",
      "metadata": {},
      "source": [
        "By default, the Index of a Series is a sequential list of integers beginning from 0. Optionally, a manually specified list of desired indices can be passed to the `index` argument."
      ]
    },
    {
      "cell_type": "code",
      "metadata": {},
      "source": [
        "s = pd.Series([-1, 10, 2], index = [\"a\", \"b\", \"c\"])\n",
        "print(s)"
      ],
      "execution_count": null,
      "outputs": []
    },
    {
      "cell_type": "markdown",
      "metadata": {},
      "source": [
        "Indices can also be changed after initialization."
      ]
    },
    {
      "cell_type": "code",
      "metadata": {},
      "source": [
        "s.index = [\"first\", \"second\", \"third\"]\n",
        "print(s)"
      ],
      "execution_count": null,
      "outputs": []
    },
    {
      "cell_type": "markdown",
      "metadata": {},
      "source": [
        "#### Selection in Series\n",
        "\n",
        "Much like when working with NumPy arrays, we can select a single value or a set of values from a Series. There are 3 primary methods of selecting data:\n",
        "\n",
        "1. A single index label\n",
        "2. A list of index labels\n",
        "3. A filtering condition\n",
        "\n",
        "To demonstrate this, let's define the Series `ser`."
      ]
    },
    {
      "cell_type": "code",
      "metadata": {},
      "source": [
        "ser = pd.Series([4, -2, 0, 6], index = [\"a\", \"b\", \"c\", \"d\"])\n",
        "ser"
      ],
      "execution_count": null,
      "outputs": []
    },
    {
      "cell_type": "markdown",
      "metadata": {},
      "source": [
        "##### A Single Index Label"
      ]
    },
    {
      "cell_type": "code",
      "metadata": {},
      "source": [
        "ser[\"a\"] # We return the value stored at the Index label \"a\""
      ],
      "execution_count": null,
      "outputs": []
    },
    {
      "cell_type": "markdown",
      "metadata": {},
      "source": [
        "##### A List of Index Labels"
      ]
    },
    {
      "cell_type": "code",
      "metadata": {},
      "source": [
        "ser[[\"a\", \"c\"]] # We return a *Series* of the values stored at labels \"a\" and \"c\""
      ],
      "execution_count": null,
      "outputs": []
    },
    {
      "cell_type": "markdown",
      "metadata": {},
      "source": [
        "##### A Filtering Condition\n",
        "\n",
        "Perhaps the most interesting (and useful) method of selecting data from a Series is with a filtering condition. \n",
        "\n",
        "First, we apply a boolean operation to the Series. This creates **a new Series of boolean values**."
      ]
    },
    {
      "cell_type": "code",
      "metadata": {},
      "source": [
        "ser > 0 # Filter condition: select all elements greater than 0"
      ],
      "execution_count": null,
      "outputs": []
    },
    {
      "cell_type": "markdown",
      "metadata": {},
      "source": [
        "We then use this boolean condition to index into our original Series. `pandas` will select only the entries in the original Series that satisfy the condition."
      ]
    },
    {
      "cell_type": "code",
      "metadata": {},
      "source": [
        "ser[ser > 0] "
      ],
      "execution_count": null,
      "outputs": []
    },
    {
      "cell_type": "markdown",
      "metadata": {},
      "source": [
        "### DataFrames\n",
        "\n",
        "In Data 8, you encountered the `Table` class of the `datascience` library, which represented tabular data. In Data 100, we'll be using the `DataFrame` class of the `pandas` library.\n",
        "\n",
        "With our new understanding of `pandas` in hand, let's return to the `elections` dataset from before. Now, we recognize that it is represented as a `pandas` DataFrame."
      ]
    },
    {
      "cell_type": "code",
      "metadata": {},
      "source": [
        "import pandas as pd\n",
        "\n",
        "elections = pd.read_csv(\"data/elections.csv\")\n",
        "elections"
      ],
      "execution_count": null,
      "outputs": []
    },
    {
      "cell_type": "markdown",
      "metadata": {},
      "source": [
        "Let's dissect the code above. \n",
        "\n",
        "1. We first import the ````pandas```` library into our Python environment, using the alias `pd`. <br> &emsp;```` import pandas as pd ````\n",
        "\n",
        "2. There are a number of ways to read data into a DataFrame. In Data 100, our data are typically stored in a CSV (comma-seperated values) file format. We can import a CSV file into a DataFrame by passing the data path as an argument to the following ````pandas```` function. \n",
        "<br> &emsp;```` pd.read_csv(\"elections.csv\") ```` \n",
        "\n",
        "This code stores our DataFrame object in the ````elections```` variable. Upon inspection, our ````elections```` DataFrame has 182 rows and 6 columns (`Year`, `Candidate`, `Party`, `Popular Vote`, `Result`, `%`). Each row represents a single record — in our example, a presidential candidate from some particular year. Each column represents a single attribute, or feature of the record.\n",
        "\n",
        "In the example above, we constructed a DataFrame object using data from a CSV file. As we'll explore in the next section, we can also create a DataFrame with data of our own.\n",
        "\n",
        "#### Creating a DataFrame\n",
        "\n",
        "There are many ways to create a DataFrame. Here, we will cover the most popular approaches.\n",
        "\n",
        "1. Using a list and column names\n",
        "2. From a dictionary\n",
        "3. From a Series\n",
        "\n",
        "##### Using a List and Column Names\n",
        "\n",
        "Consider the following examples. The first code cell creates a DataFrame with a single column `Numbers`. The second creates a DataFrame with the columns `Numbers` and `Description`. Notice how a 2D list of values is required to initialize the second DataFrame — each nested list represents a single row of data."
      ]
    },
    {
      "cell_type": "code",
      "metadata": {},
      "source": [
        "df_list = pd.DataFrame([1, 2, 3], columns=[\"Numbers\"])\n",
        "df_list"
      ],
      "execution_count": null,
      "outputs": []
    },
    {
      "cell_type": "code",
      "metadata": {},
      "source": [
        "df_list = pd.DataFrame([[1, \"one\"], [2, \"two\"]], columns = [\"Number\", \"Description\"])\n",
        "df_list"
      ],
      "execution_count": null,
      "outputs": []
    },
    {
      "cell_type": "markdown",
      "metadata": {},
      "source": [
        "##### From a Dictionary\n",
        "\n",
        "A second (and more common) way to create a DataFrame is with a dictionary. The dictionary keys represent the column names, and the dictionary values represent the column values."
      ]
    },
    {
      "cell_type": "code",
      "metadata": {},
      "source": [
        "df_dict = pd.DataFrame({\"Fruit\": [\"Strawberry\", \"Orange\"], \"Price\": [5.49, 3.99]})\n",
        "df_dict"
      ],
      "execution_count": null,
      "outputs": []
    },
    {
      "cell_type": "markdown",
      "metadata": {},
      "source": [
        "##### From a Series\n",
        "\n",
        "Earlier, we explained how a Series was synonymous to a column in a DataFrame. It follows then, that a DataFrame is equivalent to a collection of Series, which all share the same index. \n",
        "\n",
        "In fact, we can initialize a DataFrame by merging two or more Series."
      ]
    },
    {
      "cell_type": "code",
      "metadata": {},
      "source": [
        "# Notice how our indices, or row labels, are the same\n",
        "\n",
        "s_a = pd.Series([\"a1\", \"a2\", \"a3\"], index = [\"r1\", \"r2\", \"r3\"])\n",
        "s_b = pd.Series([\"b1\", \"b2\", \"b3\"], index = [\"r1\", \"r2\", \"r3\"])\n",
        "\n",
        "pd.DataFrame({\"A-column\": s_a, \"B-column\": s_b})"
      ],
      "execution_count": null,
      "outputs": []
    },
    {
      "cell_type": "markdown",
      "metadata": {},
      "source": [
        "### Indices\n",
        "\n",
        "The major takeaway: we can think of a **DataFrame** as a collection of **Series** that all share the same **Index**.\n",
        "\n",
        "On a more technical note, an Index doesn't have to be an integer, nor does it have to be unique. For example, we can set the index of the `elections` Dataframe to be the name of presedential candidates. Selecting a new Series from this modified DataFrame yields the following."
      ]
    },
    {
      "cell_type": "code",
      "metadata": {},
      "source": [
        "# This sets the index to the \"Candidate\" column\n",
        "elections.set_index(\"Candidate\", inplace=True)\n",
        "elections.index"
      ],
      "execution_count": null,
      "outputs": []
    },
    {
      "cell_type": "markdown",
      "metadata": {},
      "source": [
        "And, if we'd like, we can revert the index back to the default list of integers."
      ]
    },
    {
      "cell_type": "code",
      "metadata": {},
      "source": [
        "# This resets the index to be the default list of integers\n",
        "elections.reset_index(inplace=True) \n",
        "elections.index"
      ],
      "execution_count": null,
      "outputs": []
    },
    {
      "cell_type": "markdown",
      "metadata": {},
      "source": [
        "## Slicing in DataFrames\n",
        "\n",
        "Now that we've learned how to create DataFrames, let's dive deeper into their capabilities. \n",
        "\n",
        "The API (application programming interface) for the DataFrame class is enormous. In this section, we'll discuss several methods of the DataFrame API that allow us to extract subsets of data.\n",
        "\n",
        "The simplest way to manipulate a DataFrame is to extract a subset of rows and columns, known as **slicing**. We will do so with three primary methods of the DataFrame class:\n",
        "\n",
        "1. `.head` and `.tail`\n",
        "2. `.loc`\n",
        "3. `.iloc`\n",
        "4. `[]`\n",
        "\n",
        "### Extracting data with `.head` and `.tail`\n",
        "\n",
        "The simplest scenario in which we want to extract data is when we simply want to select the first or last few rows of the DataFrame.\n",
        "\n",
        "To extract the first `n` rows of a DataFrame `df`, we use the syntax `df.head(n)`."
      ]
    },
    {
      "cell_type": "code",
      "metadata": {},
      "source": [
        "# Extract the first 5 rows of the DataFrame\n",
        "elections.head(5)"
      ],
      "execution_count": null,
      "outputs": []
    },
    {
      "cell_type": "markdown",
      "metadata": {},
      "source": [
        "Similarly, calling `df.tail(n)` allows us to extract the last `n` rows of the DataFrame.  "
      ]
    },
    {
      "cell_type": "code",
      "metadata": {},
      "source": [
        "# Extract the last 5 rows of the DataFrame\n",
        "elections.tail(5)"
      ],
      "execution_count": null,
      "outputs": []
    },
    {
      "cell_type": "markdown",
      "metadata": {},
      "source": [
        "### Indexing with .loc\n",
        "\n",
        "The `.loc` operator selects rows and columns in a DataFrame by their row and column label(s), respectively. The **row labels** (commonly referred to as the **indices**) are the bold text on the far *left* of a DataFrame, while the **column labels** are the column names found at the *top* of a DataFrame.\n",
        "\n",
        "To grab data with `.loc`, we must specify the row and column label(s) where the data exists. The row labels are the first argument to the `.loc` function; the column labels are the second. For example, we can select the the row labeled `0` and the column labeled `Candidate` from the `elections` DataFrame."
      ]
    },
    {
      "cell_type": "code",
      "metadata": {},
      "source": [
        "elections.loc[0, 'Candidate']"
      ],
      "execution_count": null,
      "outputs": []
    },
    {
      "cell_type": "markdown",
      "metadata": {},
      "source": [
        "To select *multiple* rows and columns, we can use Python slice notation. Here, we select the rows from labels `0` to `3` and the columns from labels `\"Year\"` to `\"Popular vote\"`.    "
      ]
    },
    {
      "cell_type": "code",
      "metadata": {},
      "source": [
        "elections.loc[0:3, 'Year':'Popular vote']"
      ],
      "execution_count": null,
      "outputs": []
    },
    {
      "cell_type": "markdown",
      "metadata": {},
      "source": [
        "Suppose that instead, we wanted *every* column value for the first four rows in the `elections` DataFrame. The shorthand `:` is useful for this."
      ]
    },
    {
      "cell_type": "code",
      "metadata": {},
      "source": [
        "elections.loc[0:3, :]"
      ],
      "execution_count": null,
      "outputs": []
    },
    {
      "cell_type": "markdown",
      "metadata": {},
      "source": [
        "There are a couple of things we should note. Firstly, unlike conventional Python, Pandas allows us to slice string values (in our example, the column labels). Secondly, slicing with `.loc` is *inclusive*. Notice how our resulting DataFrame includes every row and column between and including the slice labels we specified.\n",
        "\n",
        "Equivalently, we can use a list to obtain multiple rows and columns in our `elections` DataFrame. "
      ]
    },
    {
      "cell_type": "code",
      "metadata": {},
      "source": [
        "elections.loc[[0, 1, 2, 3], ['Year', 'Candidate', 'Party', 'Popular vote']]"
      ],
      "execution_count": null,
      "outputs": []
    },
    {
      "cell_type": "markdown",
      "metadata": {},
      "source": [
        "Lastly, we can interchange list and slicing notation."
      ]
    },
    {
      "cell_type": "code",
      "metadata": {},
      "source": [
        "elections.loc[[0, 1, 2, 3], :]"
      ],
      "execution_count": null,
      "outputs": []
    },
    {
      "cell_type": "markdown",
      "metadata": {},
      "source": [
        "### Indexing with .iloc\n",
        "\n",
        "Slicing with `.iloc` works similarily to `.loc`. However, `.iloc` uses the *index positions* of rows and columns rather than the labels (think to yourself: **l**oc uses **l**ables; **i**loc uses **i**ndices). The arguments to the `.iloc` function also behave similarly — single values, lists, indices, and any combination of these are permitted. \n",
        "\n",
        "Let's begin reproducing our results from above. We'll begin by selecting for the first presidential candidate in our `elections` DataFrame:"
      ]
    },
    {
      "cell_type": "code",
      "metadata": {},
      "source": [
        "# elections.loc[0, \"Candidate\"] - Previous approach\n",
        "elections.iloc[0, 1]"
      ],
      "execution_count": null,
      "outputs": []
    },
    {
      "cell_type": "markdown",
      "metadata": {},
      "source": [
        "Notice how the first argument to both `.loc` and `.iloc` are the same. This is because the row with a label of 0 is conveniently in the 0^th^ (equivalently, the first position) of the `elections` DataFrame. Generally, this is true of any DataFrame where the row labels are incremented in ascending order from 0.\n",
        "\n",
        "However, when we select the first four rows and columns using `.iloc`, we notice something."
      ]
    },
    {
      "cell_type": "code",
      "metadata": {},
      "source": [
        "# elections.loc[0:3, 'Year':'Popular vote'] - Previous approach\n",
        "elections.iloc[0:4, 0:4]"
      ],
      "execution_count": null,
      "outputs": []
    },
    {
      "cell_type": "markdown",
      "metadata": {},
      "source": [
        "Slicing is no longer inclusive in `.iloc` — it's *exclusive*. In other words, the right-end of a slice is not included when using `.iloc`. This is one of subtleties of `pandas` syntax; you will get used to with practice.\n",
        "\n",
        "List behavior works just as expected."
      ]
    },
    {
      "cell_type": "code",
      "metadata": {},
      "source": [
        "#elections.loc[[0, 1, 2, 3], ['Year', 'Candidate', 'Party', 'Popular vote']] - Previous Approach\n",
        "elections.iloc[[0, 1, 2, 3], [0, 1, 2, 3]]"
      ],
      "execution_count": null,
      "outputs": []
    },
    {
      "cell_type": "markdown",
      "metadata": {},
      "source": [
        "This discussion begs the question: when should we use `.loc` vs `.iloc`? In most cases, `.loc` is generally safer to use. You can imagine `.iloc` may return incorrect values when applied to a dataset where the ordering of data can change. \n",
        "\n",
        "### Indexing with []\n",
        "\n",
        "The `[]` selection operator is the most baffling of all, yet the commonly used. It only takes a single argument, which may be one of the following:\n",
        "\n",
        "1. A slice of row numbers\n",
        "2. A list of column labels\n",
        "3. A single-column label\n",
        "\n",
        "That is, `[]` is *context dependent*. Let's see some examples.\n",
        "\n",
        "#### A slice of row numbers\n",
        "\n",
        "Say we wanted the first four rows of our `elections` DataFrame."
      ]
    },
    {
      "cell_type": "code",
      "metadata": {},
      "source": [
        "elections[0:4]"
      ],
      "execution_count": null,
      "outputs": []
    },
    {
      "cell_type": "markdown",
      "metadata": {},
      "source": [
        "#### A list of column labels\n",
        "\n",
        "Suppose we now want the first four columns."
      ]
    },
    {
      "cell_type": "code",
      "metadata": {},
      "source": [
        "elections[[\"Year\", \"Candidate\", \"Party\", \"Popular vote\"]]"
      ],
      "execution_count": null,
      "outputs": []
    },
    {
      "cell_type": "markdown",
      "metadata": {},
      "source": [
        "#### A single-column label\n",
        "\n",
        "Lastly, `[]` allows us to extract only the `Candidate` column."
      ]
    },
    {
      "cell_type": "code",
      "metadata": {},
      "source": [
        "elections[\"Candidate\"]"
      ],
      "execution_count": null,
      "outputs": []
    },
    {
      "cell_type": "markdown",
      "metadata": {},
      "source": [
        "The output looks like a Series! In this course, we'll become very comfortable with `[]`, especially for selecting columns. In practice, `[]` is much more common than `.loc`.\n",
        "\n",
        "## Parting Note\n",
        "\n",
        "The `pandas` library is enormous and contains many useful functions. Here is a link to [documentation](https://pandas.pydata.org/docs/). We certainly don't expect you to memorize each and every method of the library.\n",
        "\n",
        "The introductory Data 100 `pandas` lectures will provide a high-level view of the key data structures and methods that will form the foundation of your `pandas` knowledge. A goal of this course is to help you build your familiarity with the real-world programming practice of ...Googling! Answers to your questions can be found in documentation, Stack Overflow, etc. Being able to search for, read, and implement documentation is an important life skill for any data scientist. \n",
        "\n",
        "With that, we will move on to Pandas II.\n"
      ]
    }
  ],
  "metadata": {
    "kernelspec": {
      "name": "python3",
      "language": "python",
      "display_name": "Python 3 (ipykernel)"
    }
  },
  "nbformat": 4,
  "nbformat_minor": 4
}