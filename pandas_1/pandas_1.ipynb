{
 "cells": [
  {
   "cell_type": "raw",
   "id": "6b7f9ab8",
   "metadata": {},
   "source": [
    "---\n",
    "title: Pandas I\n",
    "format:\n",
    "  html:\n",
    "    toc: true\n",
    "    toc-depth: 5\n",
    "    toc-location: right\n",
    "    code-fold: false\n",
    "    theme:\n",
    "      - cosmo\n",
    "      - cerulean\n",
    "    callout-icon: false\n",
    "---"
   ]
  },
  {
   "cell_type": "markdown",
   "id": "77a35945",
   "metadata": {},
   "source": [
    "::: {.callout-note collapse=\"false\"}\n",
    "## Learning Outcomes\n",
    "\n",
    "- Build familiarity with `pandas` and `pandas` syntax.\n",
    "- Learn key data structures: `DataFrame`, `Series`, and `Index`.\n",
    "- Understand methods for extracting data: `.loc`, `.iloc`, and `[]`.\n",
    ":::\n",
    "\n",
    "In this sequence of lectures, we will dive right into things by having you explore and manipulate real-world data. We'll first introduce `pandas`, a popular Python library for interacting with **tabular data**.\n",
    "\n",
    "## Tabular Data\n",
    "\n",
    "Data scientists work with data stored in a variety of formats. This class focuses primarily on *tabular data* — data that is stored in a table.\n",
    "\n",
    "Tabular data is one of the most common systems that data scientists use to organize data. This is in large part due to the simplicity and flexibility of tables. Tables allow us to represent each **observation**, or instance of collecting data from an individual, as its own *row*. We can record each observation's distinct characteristics, or **features**, in separate *columns*.\n",
    "\n",
    "\n",
    "To see this in action, we'll explore the `elections` dataset, which stores information about political candidates who ran for president of the United States in previous years.\n",
    "\n",
    "In the `elections` dataset, each row (blue box) represents one instance of a candidate running for president in a particular year. For example, the first row represents Andrew Jackson running for president in the year 1824. Each column (yellow box) represents one characteristic piece of information about each presidential candidate. For example, the column named \"Result\" stores whether or not the candidate won the election. \n",
    "\n",
    "<center><img src = \"images/row_col.png\" width = \"600\"></img></a></center>\n",
    "\n",
    "Your work in Data 8 helped you grow very familiar with using and interpreting data stored in a tabular format. Back then, you used the `Table` class of the `datascience` library, a special programming library created specifically for Data 8 students.\n",
    "\n",
    "In Data 100, we will be working with the programming library `pandas`, which is generally accepted in the data science community as the industry- and academia-standard tool for manipulating tabular data (as well as the inspiration for Petey, our panda bear mascot).\n",
    "\n",
    "Using `pandas`, we can\n",
    "\n",
    "- Arrange data in a tabular format.\n",
    "- Extract useful information filtered by specific conditions.\n",
    "- Operate on data to gain new insights.\n",
    "- Apply `NumPy` functions to our data (our friends from Data 8).\n",
    "- Perform vectorized computations to speed up our analysis (Lab 1).\n",
    "\n",
    "## `Series`, `DataFrame`s, and Indices\n",
    "\n",
    "To begin our work in `pandas`, we must first import the library into our Python environment. This will allow us to use `pandas` data structures and methods in our code.\n"
   ]
  },
  {
   "cell_type": "code",
   "execution_count": 1,
   "id": "ba9c33ca",
   "metadata": {},
   "outputs": [],
   "source": [
    "# `pd` is the conventional alias for Pandas, as `np` is for NumPy\n",
    "import pandas as pd"
   ]
  },
  {
   "cell_type": "markdown",
   "id": "ff5d57ab",
   "metadata": {},
   "source": [
    "There are three fundamental data structures in `pandas`:\n",
    "\n",
    "1. **`Series`**: 1D labeled array data; best thought of as columnar data.\n",
    "2. **`DataFrame`**: 2D tabular data with rows and columns.\n",
    "3. **`Index`**: A sequence of row/column labels.\n",
    "\n",
    "`DataFrame`s, `Series`, and Indices can be represented visually in the following diagram, which considers the first few rows of the `elections` dataset.\n",
    "\n",
    "<center><img src = \"images/df_elections.png\" width = \"600\"></img></a></center>\n",
    "\n",
    "Notice how the **DataFrame** is a two-dimensional object — it contains both rows and columns. The **Series** above is a singular column of this `DataFrame`, namely the `Result` column. Both contain an **Index**, or a shared list of row labels (the integers from 0 to 4, inclusive).\n",
    "\n",
    "### Series\n",
    "\n",
    "A `Series` represents a column of a `DataFrame`; more generally, it can be any 1-dimensional array-like object. It contains both:\n",
    "\n",
    "- A sequence of **values** of the same type.\n",
    "- A sequence of data labels called the **index**.\n",
    "\n",
    "In the cell below, we create a `Series` named `s`.\n"
   ]
  },
  {
   "cell_type": "code",
   "execution_count": 2,
   "id": "50488941",
   "metadata": {},
   "outputs": [
    {
     "data": {
      "text/plain": [
       "0     welcome\n",
       "1          to\n",
       "2    data 100\n",
       "dtype: object"
      ]
     },
     "execution_count": 2,
     "metadata": {},
     "output_type": "execute_result"
    }
   ],
   "source": [
    "s = pd.Series([\"welcome\", \"to\", \"data 100\"])\n",
    "s"
   ]
  },
  {
   "cell_type": "code",
   "execution_count": 3,
   "id": "0a00e47d",
   "metadata": {},
   "outputs": [
    {
     "data": {
      "text/plain": [
       "array(['welcome', 'to', 'data 100'], dtype=object)"
      ]
     },
     "execution_count": 3,
     "metadata": {},
     "output_type": "execute_result"
    }
   ],
   "source": [
    " # Accessing data values within the Series\n",
    " s.values"
   ]
  },
  {
   "cell_type": "code",
   "execution_count": 4,
   "id": "0d9b208a",
   "metadata": {},
   "outputs": [
    {
     "data": {
      "text/plain": [
       "RangeIndex(start=0, stop=3, step=1)"
      ]
     },
     "execution_count": 4,
     "metadata": {},
     "output_type": "execute_result"
    }
   ],
   "source": [
    " # Accessing the Index of the Series\n",
    " s.index"
   ]
  },
  {
   "cell_type": "markdown",
   "id": "9e325c69",
   "metadata": {},
   "source": [
    "By default, the `index` of a `Series` is a sequential list of integers beginning from 0. Optionally, a manually specified list of desired indices can be passed to the `index` argument.\n"
   ]
  },
  {
   "cell_type": "code",
   "execution_count": 5,
   "id": "d352d610",
   "metadata": {},
   "outputs": [
    {
     "data": {
      "text/plain": [
       "a    -1\n",
       "b    10\n",
       "c     2\n",
       "dtype: int64"
      ]
     },
     "execution_count": 5,
     "metadata": {},
     "output_type": "execute_result"
    }
   ],
   "source": [
    "s = pd.Series([-1, 10, 2], index = [\"a\", \"b\", \"c\"])\n",
    "s"
   ]
  },
  {
   "cell_type": "code",
   "execution_count": 6,
   "id": "ee900aa5",
   "metadata": {},
   "outputs": [
    {
     "data": {
      "text/plain": [
       "Index(['a', 'b', 'c'], dtype='object')"
      ]
     },
     "execution_count": 6,
     "metadata": {},
     "output_type": "execute_result"
    }
   ],
   "source": [
    "s.index"
   ]
  },
  {
   "cell_type": "markdown",
   "id": "189917c6",
   "metadata": {},
   "source": [
    "Indices can also be changed after initialization.\n"
   ]
  },
  {
   "cell_type": "code",
   "execution_count": 7,
   "id": "968862b8",
   "metadata": {},
   "outputs": [
    {
     "data": {
      "text/plain": [
       "first     -1\n",
       "second    10\n",
       "third      2\n",
       "dtype: int64"
      ]
     },
     "execution_count": 7,
     "metadata": {},
     "output_type": "execute_result"
    }
   ],
   "source": [
    "s.index = [\"first\", \"second\", \"third\"]\n",
    "s"
   ]
  },
  {
   "cell_type": "code",
   "execution_count": 8,
   "id": "38134f67",
   "metadata": {},
   "outputs": [
    {
     "data": {
      "text/plain": [
       "Index(['first', 'second', 'third'], dtype='object')"
      ]
     },
     "execution_count": 8,
     "metadata": {},
     "output_type": "execute_result"
    }
   ],
   "source": [
    "s.index"
   ]
  },
  {
   "cell_type": "markdown",
   "id": "5957a616",
   "metadata": {},
   "source": [
    "#### Selection in `Series`\n",
    "\n",
    "Much like when working with `NumPy` arrays, we can select a single value or a set of values from a `Series`. To do so, there are three primary methods:\n",
    "\n",
    "1. A single label.\n",
    "2. A list of labels.\n",
    "3. A filtering condition.\n",
    "\n",
    "To demonstrate this, let's define the Series `ser`.\n"
   ]
  },
  {
   "cell_type": "code",
   "execution_count": 9,
   "id": "aa29d412",
   "metadata": {},
   "outputs": [
    {
     "data": {
      "text/plain": [
       "a    4\n",
       "b   -2\n",
       "c    0\n",
       "d    6\n",
       "dtype: int64"
      ]
     },
     "execution_count": 9,
     "metadata": {},
     "output_type": "execute_result"
    }
   ],
   "source": [
    "ser = pd.Series([4, -2, 0, 6], index = [\"a\", \"b\", \"c\", \"d\"])\n",
    "ser"
   ]
  },
  {
   "cell_type": "markdown",
   "id": "6d65e6fa",
   "metadata": {},
   "source": [
    "##### A Single Label\n"
   ]
  },
  {
   "cell_type": "code",
   "execution_count": 10,
   "id": "4ac1c0c0",
   "metadata": {},
   "outputs": [
    {
     "data": {
      "text/plain": [
       "4"
      ]
     },
     "execution_count": 10,
     "metadata": {},
     "output_type": "execute_result"
    }
   ],
   "source": [
    "# We return the value stored at the index label \"a\"\n",
    "ser[\"a\"] "
   ]
  },
  {
   "cell_type": "markdown",
   "id": "045df690",
   "metadata": {},
   "source": [
    "##### A List of Labels\n"
   ]
  },
  {
   "cell_type": "code",
   "execution_count": 11,
   "id": "e9241de4",
   "metadata": {},
   "outputs": [
    {
     "data": {
      "text/plain": [
       "a    4\n",
       "c    0\n",
       "dtype: int64"
      ]
     },
     "execution_count": 11,
     "metadata": {},
     "output_type": "execute_result"
    }
   ],
   "source": [
    "# We return a Series of the values stored at the index labels \"a\" and \"c\"\n",
    "ser[[\"a\", \"c\"]] "
   ]
  },
  {
   "cell_type": "markdown",
   "id": "a2a4b7ae",
   "metadata": {},
   "source": [
    "##### A Filtering Condition\n",
    "\n",
    "Perhaps the most interesting (and useful) method of selecting data from a `Series` is by using a filtering condition. \n",
    "\n",
    "First, we apply a boolean operation to the `Series`. This creates **a new `Series` of boolean values**.\n"
   ]
  },
  {
   "cell_type": "code",
   "execution_count": 12,
   "id": "917cec97",
   "metadata": {},
   "outputs": [
    {
     "data": {
      "text/plain": [
       "a     True\n",
       "b    False\n",
       "c    False\n",
       "d     True\n",
       "dtype: bool"
      ]
     },
     "execution_count": 12,
     "metadata": {},
     "output_type": "execute_result"
    }
   ],
   "source": [
    "# Filter condition: select all elements greater than 0\n",
    "ser > 0 "
   ]
  },
  {
   "cell_type": "markdown",
   "id": "42ff0487",
   "metadata": {},
   "source": [
    "We then use this boolean condition to index into our original `Series`. `pandas` will select only the entries in the original `Series` that satisfy the condition.\n"
   ]
  },
  {
   "cell_type": "code",
   "execution_count": 13,
   "id": "8647c892",
   "metadata": {},
   "outputs": [
    {
     "data": {
      "text/plain": [
       "a    4\n",
       "d    6\n",
       "dtype: int64"
      ]
     },
     "execution_count": 13,
     "metadata": {},
     "output_type": "execute_result"
    }
   ],
   "source": [
    "ser[ser > 0] "
   ]
  },
  {
   "cell_type": "markdown",
   "id": "3906c38a",
   "metadata": {},
   "source": [
    "### `DataFrames`\n",
    "\n",
    "Typically, we will work with `Series` using the perspective that they are columns in a `DataFrame`. We can think of a **`DataFrame`** as a collection of **`Series`** that all share the same **`Index`**. \n",
    "\n",
    "In Data 8, you encountered the `Table` class of the `datascience` library, which represented tabular data. In Data 100, we'll be using the `DataFrame` class of the `pandas` library.\n",
    "\n",
    "#### Creating a `DataFrame`\n",
    "\n",
    "There are many ways to create a `DataFrame`. Here, we will cover the most popular approaches:\n",
    "\n",
    "1. From a CSV file.\n",
    "2. Using a list and column name(s).\n",
    "3. From a dictionary.\n",
    "4. From a `Series`.\n",
    "\n",
    "More generally, the syntax for creating a `DataFrame` is: \n",
    "        \n",
    "     pandas.DataFrame(data, index, columns)\n",
    "\n",
    "##### From a CSV file\n",
    "In Data 100, our data are typically stored in a CSV (comma-separated values) file format. We can import a CSV file into a `DataFrame` by passing the data path as an argument to the following ````pandas```` function. \n",
    "<br> &emsp;```` pd.read_csv(\"filename.csv\") ```` \n",
    "\n",
    "With our new understanding of `pandas` in hand, let's return to the `elections` dataset from before. Now, we can recognize that it is represented as a `pandas` `DataFrame`.\n"
   ]
  },
  {
   "cell_type": "code",
   "execution_count": 14,
   "id": "e0a7085b",
   "metadata": {},
   "outputs": [
    {
     "data": {
      "text/html": [
       "<div>\n",
       "<style scoped>\n",
       "    .dataframe tbody tr th:only-of-type {\n",
       "        vertical-align: middle;\n",
       "    }\n",
       "\n",
       "    .dataframe tbody tr th {\n",
       "        vertical-align: top;\n",
       "    }\n",
       "\n",
       "    .dataframe thead th {\n",
       "        text-align: right;\n",
       "    }\n",
       "</style>\n",
       "<table border=\"1\" class=\"dataframe\">\n",
       "  <thead>\n",
       "    <tr style=\"text-align: right;\">\n",
       "      <th></th>\n",
       "      <th>Year</th>\n",
       "      <th>Candidate</th>\n",
       "      <th>Party</th>\n",
       "      <th>Popular vote</th>\n",
       "      <th>Result</th>\n",
       "      <th>%</th>\n",
       "    </tr>\n",
       "  </thead>\n",
       "  <tbody>\n",
       "    <tr>\n",
       "      <th>0</th>\n",
       "      <td>1824</td>\n",
       "      <td>Andrew Jackson</td>\n",
       "      <td>Democratic-Republican</td>\n",
       "      <td>151271</td>\n",
       "      <td>loss</td>\n",
       "      <td>57.210122</td>\n",
       "    </tr>\n",
       "    <tr>\n",
       "      <th>1</th>\n",
       "      <td>1824</td>\n",
       "      <td>John Quincy Adams</td>\n",
       "      <td>Democratic-Republican</td>\n",
       "      <td>113142</td>\n",
       "      <td>win</td>\n",
       "      <td>42.789878</td>\n",
       "    </tr>\n",
       "    <tr>\n",
       "      <th>2</th>\n",
       "      <td>1828</td>\n",
       "      <td>Andrew Jackson</td>\n",
       "      <td>Democratic</td>\n",
       "      <td>642806</td>\n",
       "      <td>win</td>\n",
       "      <td>56.203927</td>\n",
       "    </tr>\n",
       "    <tr>\n",
       "      <th>3</th>\n",
       "      <td>1828</td>\n",
       "      <td>John Quincy Adams</td>\n",
       "      <td>National Republican</td>\n",
       "      <td>500897</td>\n",
       "      <td>loss</td>\n",
       "      <td>43.796073</td>\n",
       "    </tr>\n",
       "    <tr>\n",
       "      <th>4</th>\n",
       "      <td>1832</td>\n",
       "      <td>Andrew Jackson</td>\n",
       "      <td>Democratic</td>\n",
       "      <td>702735</td>\n",
       "      <td>win</td>\n",
       "      <td>54.574789</td>\n",
       "    </tr>\n",
       "    <tr>\n",
       "      <th>...</th>\n",
       "      <td>...</td>\n",
       "      <td>...</td>\n",
       "      <td>...</td>\n",
       "      <td>...</td>\n",
       "      <td>...</td>\n",
       "      <td>...</td>\n",
       "    </tr>\n",
       "    <tr>\n",
       "      <th>177</th>\n",
       "      <td>2016</td>\n",
       "      <td>Jill Stein</td>\n",
       "      <td>Green</td>\n",
       "      <td>1457226</td>\n",
       "      <td>loss</td>\n",
       "      <td>1.073699</td>\n",
       "    </tr>\n",
       "    <tr>\n",
       "      <th>178</th>\n",
       "      <td>2020</td>\n",
       "      <td>Joseph Biden</td>\n",
       "      <td>Democratic</td>\n",
       "      <td>81268924</td>\n",
       "      <td>win</td>\n",
       "      <td>51.311515</td>\n",
       "    </tr>\n",
       "    <tr>\n",
       "      <th>179</th>\n",
       "      <td>2020</td>\n",
       "      <td>Donald Trump</td>\n",
       "      <td>Republican</td>\n",
       "      <td>74216154</td>\n",
       "      <td>loss</td>\n",
       "      <td>46.858542</td>\n",
       "    </tr>\n",
       "    <tr>\n",
       "      <th>180</th>\n",
       "      <td>2020</td>\n",
       "      <td>Jo Jorgensen</td>\n",
       "      <td>Libertarian</td>\n",
       "      <td>1865724</td>\n",
       "      <td>loss</td>\n",
       "      <td>1.177979</td>\n",
       "    </tr>\n",
       "    <tr>\n",
       "      <th>181</th>\n",
       "      <td>2020</td>\n",
       "      <td>Howard Hawkins</td>\n",
       "      <td>Green</td>\n",
       "      <td>405035</td>\n",
       "      <td>loss</td>\n",
       "      <td>0.255731</td>\n",
       "    </tr>\n",
       "  </tbody>\n",
       "</table>\n",
       "<p>182 rows × 6 columns</p>\n",
       "</div>"
      ],
      "text/plain": [
       "     Year          Candidate                  Party  Popular vote Result  \\\n",
       "0    1824     Andrew Jackson  Democratic-Republican        151271   loss   \n",
       "1    1824  John Quincy Adams  Democratic-Republican        113142    win   \n",
       "2    1828     Andrew Jackson             Democratic        642806    win   \n",
       "3    1828  John Quincy Adams    National Republican        500897   loss   \n",
       "4    1832     Andrew Jackson             Democratic        702735    win   \n",
       "..    ...                ...                    ...           ...    ...   \n",
       "177  2016         Jill Stein                  Green       1457226   loss   \n",
       "178  2020       Joseph Biden             Democratic      81268924    win   \n",
       "179  2020       Donald Trump             Republican      74216154   loss   \n",
       "180  2020       Jo Jorgensen            Libertarian       1865724   loss   \n",
       "181  2020     Howard Hawkins                  Green        405035   loss   \n",
       "\n",
       "             %  \n",
       "0    57.210122  \n",
       "1    42.789878  \n",
       "2    56.203927  \n",
       "3    43.796073  \n",
       "4    54.574789  \n",
       "..         ...  \n",
       "177   1.073699  \n",
       "178  51.311515  \n",
       "179  46.858542  \n",
       "180   1.177979  \n",
       "181   0.255731  \n",
       "\n",
       "[182 rows x 6 columns]"
      ]
     },
     "execution_count": 14,
     "metadata": {},
     "output_type": "execute_result"
    }
   ],
   "source": [
    "elections = pd.read_csv(\"data/elections.csv\")\n",
    "elections"
   ]
  },
  {
   "cell_type": "markdown",
   "id": "aed057d8",
   "metadata": {},
   "source": [
    "This code stores our `DataFrame` object in the ````elections```` variable. Upon inspection, our ````elections```` `DataFrame` has 182 rows and 6 columns (`Year`, `Candidate`, `Party`, `Popular Vote`, `Result`, `%`). Each row represents a single record — in our example, a presidential candidate from some particular year. Each column represents a single attribute or feature of the record.\n",
    "\n",
    "##### Using a List and Column Name(s)\n",
    "\n",
    "We'll now explore creating a `DataFrame` with data of our own.\n",
    "\n",
    "Consider the following examples. The first code cell creates a `DataFrame` with a single column `Numbers`. \n"
   ]
  },
  {
   "cell_type": "code",
   "execution_count": 15,
   "id": "97be2184",
   "metadata": {},
   "outputs": [
    {
     "data": {
      "text/html": [
       "<div>\n",
       "<style scoped>\n",
       "    .dataframe tbody tr th:only-of-type {\n",
       "        vertical-align: middle;\n",
       "    }\n",
       "\n",
       "    .dataframe tbody tr th {\n",
       "        vertical-align: top;\n",
       "    }\n",
       "\n",
       "    .dataframe thead th {\n",
       "        text-align: right;\n",
       "    }\n",
       "</style>\n",
       "<table border=\"1\" class=\"dataframe\">\n",
       "  <thead>\n",
       "    <tr style=\"text-align: right;\">\n",
       "      <th></th>\n",
       "      <th>Numbers</th>\n",
       "    </tr>\n",
       "  </thead>\n",
       "  <tbody>\n",
       "    <tr>\n",
       "      <th>0</th>\n",
       "      <td>1</td>\n",
       "    </tr>\n",
       "    <tr>\n",
       "      <th>1</th>\n",
       "      <td>2</td>\n",
       "    </tr>\n",
       "    <tr>\n",
       "      <th>2</th>\n",
       "      <td>3</td>\n",
       "    </tr>\n",
       "  </tbody>\n",
       "</table>\n",
       "</div>"
      ],
      "text/plain": [
       "   Numbers\n",
       "0        1\n",
       "1        2\n",
       "2        3"
      ]
     },
     "execution_count": 15,
     "metadata": {},
     "output_type": "execute_result"
    }
   ],
   "source": [
    "df_list = pd.DataFrame([1, 2, 3], columns=[\"Numbers\"])\n",
    "df_list"
   ]
  },
  {
   "cell_type": "markdown",
   "id": "13151f39",
   "metadata": {},
   "source": [
    "The second creates a `DataFrame` with the columns `Numbers` and `Description`. Notice how a 2D list of values is required to initialize the second `DataFrame` — each nested list represents a single row of data.\n"
   ]
  },
  {
   "cell_type": "code",
   "execution_count": 16,
   "id": "7fb0f6e4",
   "metadata": {},
   "outputs": [
    {
     "data": {
      "text/html": [
       "<div>\n",
       "<style scoped>\n",
       "    .dataframe tbody tr th:only-of-type {\n",
       "        vertical-align: middle;\n",
       "    }\n",
       "\n",
       "    .dataframe tbody tr th {\n",
       "        vertical-align: top;\n",
       "    }\n",
       "\n",
       "    .dataframe thead th {\n",
       "        text-align: right;\n",
       "    }\n",
       "</style>\n",
       "<table border=\"1\" class=\"dataframe\">\n",
       "  <thead>\n",
       "    <tr style=\"text-align: right;\">\n",
       "      <th></th>\n",
       "      <th>Number</th>\n",
       "      <th>Description</th>\n",
       "    </tr>\n",
       "  </thead>\n",
       "  <tbody>\n",
       "    <tr>\n",
       "      <th>0</th>\n",
       "      <td>1</td>\n",
       "      <td>one</td>\n",
       "    </tr>\n",
       "    <tr>\n",
       "      <th>1</th>\n",
       "      <td>2</td>\n",
       "      <td>two</td>\n",
       "    </tr>\n",
       "  </tbody>\n",
       "</table>\n",
       "</div>"
      ],
      "text/plain": [
       "   Number Description\n",
       "0       1         one\n",
       "1       2         two"
      ]
     },
     "execution_count": 16,
     "metadata": {},
     "output_type": "execute_result"
    }
   ],
   "source": [
    "df_list = pd.DataFrame([[1, \"one\"], [2, \"two\"]], columns = [\"Number\", \"Description\"])\n",
    "df_list"
   ]
  },
  {
   "cell_type": "markdown",
   "id": "4e072529",
   "metadata": {},
   "source": [
    "##### From a Dictionary\n",
    "\n",
    "A third (and more common) way to create a `DataFrame` is with a dictionary. The dictionary keys represent the column names, and the dictionary values represent the column values.\n",
    "\n",
    "Below are two ways of implementing this approach. The first is based on specifying the columns of the `DataFrame`, whereas the second is based on specifying the rows of the `DataFrame`.\n"
   ]
  },
  {
   "cell_type": "code",
   "execution_count": 17,
   "id": "5b7d743b",
   "metadata": {},
   "outputs": [
    {
     "data": {
      "text/html": [
       "<div>\n",
       "<style scoped>\n",
       "    .dataframe tbody tr th:only-of-type {\n",
       "        vertical-align: middle;\n",
       "    }\n",
       "\n",
       "    .dataframe tbody tr th {\n",
       "        vertical-align: top;\n",
       "    }\n",
       "\n",
       "    .dataframe thead th {\n",
       "        text-align: right;\n",
       "    }\n",
       "</style>\n",
       "<table border=\"1\" class=\"dataframe\">\n",
       "  <thead>\n",
       "    <tr style=\"text-align: right;\">\n",
       "      <th></th>\n",
       "      <th>Fruit</th>\n",
       "      <th>Price</th>\n",
       "    </tr>\n",
       "  </thead>\n",
       "  <tbody>\n",
       "    <tr>\n",
       "      <th>0</th>\n",
       "      <td>Strawberry</td>\n",
       "      <td>5.49</td>\n",
       "    </tr>\n",
       "    <tr>\n",
       "      <th>1</th>\n",
       "      <td>Orange</td>\n",
       "      <td>3.99</td>\n",
       "    </tr>\n",
       "  </tbody>\n",
       "</table>\n",
       "</div>"
      ],
      "text/plain": [
       "        Fruit  Price\n",
       "0  Strawberry   5.49\n",
       "1      Orange   3.99"
      ]
     },
     "execution_count": 17,
     "metadata": {},
     "output_type": "execute_result"
    }
   ],
   "source": [
    "df_dict = pd.DataFrame({\n",
    "    \"Fruit\": [\"Strawberry\", \"Orange\"], \n",
    "    \"Price\": [5.49, 3.99]\n",
    "})\n",
    "df_dict"
   ]
  },
  {
   "cell_type": "code",
   "execution_count": 18,
   "id": "7f5e10a7",
   "metadata": {},
   "outputs": [
    {
     "data": {
      "text/html": [
       "<div>\n",
       "<style scoped>\n",
       "    .dataframe tbody tr th:only-of-type {\n",
       "        vertical-align: middle;\n",
       "    }\n",
       "\n",
       "    .dataframe tbody tr th {\n",
       "        vertical-align: top;\n",
       "    }\n",
       "\n",
       "    .dataframe thead th {\n",
       "        text-align: right;\n",
       "    }\n",
       "</style>\n",
       "<table border=\"1\" class=\"dataframe\">\n",
       "  <thead>\n",
       "    <tr style=\"text-align: right;\">\n",
       "      <th></th>\n",
       "      <th>Fruit</th>\n",
       "      <th>Price</th>\n",
       "    </tr>\n",
       "  </thead>\n",
       "  <tbody>\n",
       "    <tr>\n",
       "      <th>0</th>\n",
       "      <td>Strawberry</td>\n",
       "      <td>5.49</td>\n",
       "    </tr>\n",
       "    <tr>\n",
       "      <th>1</th>\n",
       "      <td>Orange</td>\n",
       "      <td>3.99</td>\n",
       "    </tr>\n",
       "  </tbody>\n",
       "</table>\n",
       "</div>"
      ],
      "text/plain": [
       "        Fruit  Price\n",
       "0  Strawberry   5.49\n",
       "1      Orange   3.99"
      ]
     },
     "execution_count": 18,
     "metadata": {},
     "output_type": "execute_result"
    }
   ],
   "source": [
    "df_dict = pd.DataFrame(\n",
    "    [\n",
    "        {\"Fruit\":\"Strawberry\", \"Price\":5.49}, \n",
    "        {\"Fruit\": \"Orange\", \"Price\":3.99}\n",
    "    ]\n",
    ")\n",
    "df_dict"
   ]
  },
  {
   "cell_type": "markdown",
   "id": "eff3f0b8",
   "metadata": {},
   "source": [
    "##### From a `Series`\n",
    "\n",
    "Earlier, we explained how a `Series` was synonymous to a column in a `DataFrame`. It follows, then, that a `DataFrame` is equivalent to a collection of `Series`, which all share the same `Index`. \n",
    "\n",
    "In fact, we can initialize a `DataFrame` by merging two or more `Series`. Consider the `Series` `s_a` and `s_b`.\n"
   ]
  },
  {
   "cell_type": "code",
   "execution_count": 19,
   "id": "925bf1a1",
   "metadata": {},
   "outputs": [],
   "source": [
    "# Notice how our indices, or row labels, are the same\n",
    "\n",
    "s_a = pd.Series([\"a1\", \"a2\", \"a3\"], index = [\"r1\", \"r2\", \"r3\"])\n",
    "s_b = pd.Series([\"b1\", \"b2\", \"b3\"], index = [\"r1\", \"r2\", \"r3\"])"
   ]
  },
  {
   "cell_type": "markdown",
   "id": "a10045de",
   "metadata": {},
   "source": [
    "We can turn individual `Series` into a `DataFrame` using two common methods (shown below): \n"
   ]
  },
  {
   "cell_type": "code",
   "execution_count": 20,
   "id": "a8f617be",
   "metadata": {},
   "outputs": [
    {
     "data": {
      "text/html": [
       "<div>\n",
       "<style scoped>\n",
       "    .dataframe tbody tr th:only-of-type {\n",
       "        vertical-align: middle;\n",
       "    }\n",
       "\n",
       "    .dataframe tbody tr th {\n",
       "        vertical-align: top;\n",
       "    }\n",
       "\n",
       "    .dataframe thead th {\n",
       "        text-align: right;\n",
       "    }\n",
       "</style>\n",
       "<table border=\"1\" class=\"dataframe\">\n",
       "  <thead>\n",
       "    <tr style=\"text-align: right;\">\n",
       "      <th></th>\n",
       "      <th>0</th>\n",
       "    </tr>\n",
       "  </thead>\n",
       "  <tbody>\n",
       "    <tr>\n",
       "      <th>r1</th>\n",
       "      <td>a1</td>\n",
       "    </tr>\n",
       "    <tr>\n",
       "      <th>r2</th>\n",
       "      <td>a2</td>\n",
       "    </tr>\n",
       "    <tr>\n",
       "      <th>r3</th>\n",
       "      <td>a3</td>\n",
       "    </tr>\n",
       "  </tbody>\n",
       "</table>\n",
       "</div>"
      ],
      "text/plain": [
       "     0\n",
       "r1  a1\n",
       "r2  a2\n",
       "r3  a3"
      ]
     },
     "execution_count": 20,
     "metadata": {},
     "output_type": "execute_result"
    }
   ],
   "source": [
    "pd.DataFrame(s_a)"
   ]
  },
  {
   "cell_type": "code",
   "execution_count": 21,
   "id": "eaac6a7d",
   "metadata": {},
   "outputs": [
    {
     "data": {
      "text/html": [
       "<div>\n",
       "<style scoped>\n",
       "    .dataframe tbody tr th:only-of-type {\n",
       "        vertical-align: middle;\n",
       "    }\n",
       "\n",
       "    .dataframe tbody tr th {\n",
       "        vertical-align: top;\n",
       "    }\n",
       "\n",
       "    .dataframe thead th {\n",
       "        text-align: right;\n",
       "    }\n",
       "</style>\n",
       "<table border=\"1\" class=\"dataframe\">\n",
       "  <thead>\n",
       "    <tr style=\"text-align: right;\">\n",
       "      <th></th>\n",
       "      <th>0</th>\n",
       "    </tr>\n",
       "  </thead>\n",
       "  <tbody>\n",
       "    <tr>\n",
       "      <th>r1</th>\n",
       "      <td>b1</td>\n",
       "    </tr>\n",
       "    <tr>\n",
       "      <th>r2</th>\n",
       "      <td>b2</td>\n",
       "    </tr>\n",
       "    <tr>\n",
       "      <th>r3</th>\n",
       "      <td>b3</td>\n",
       "    </tr>\n",
       "  </tbody>\n",
       "</table>\n",
       "</div>"
      ],
      "text/plain": [
       "     0\n",
       "r1  b1\n",
       "r2  b2\n",
       "r3  b3"
      ]
     },
     "execution_count": 21,
     "metadata": {},
     "output_type": "execute_result"
    }
   ],
   "source": [
    "s_b.to_frame()"
   ]
  },
  {
   "cell_type": "markdown",
   "id": "a3804ee1",
   "metadata": {},
   "source": [
    "To merge the two `Series` and specify their column names, we use the following syntax:\n"
   ]
  },
  {
   "cell_type": "code",
   "execution_count": 22,
   "id": "72b51e1e",
   "metadata": {},
   "outputs": [
    {
     "data": {
      "text/html": [
       "<div>\n",
       "<style scoped>\n",
       "    .dataframe tbody tr th:only-of-type {\n",
       "        vertical-align: middle;\n",
       "    }\n",
       "\n",
       "    .dataframe tbody tr th {\n",
       "        vertical-align: top;\n",
       "    }\n",
       "\n",
       "    .dataframe thead th {\n",
       "        text-align: right;\n",
       "    }\n",
       "</style>\n",
       "<table border=\"1\" class=\"dataframe\">\n",
       "  <thead>\n",
       "    <tr style=\"text-align: right;\">\n",
       "      <th></th>\n",
       "      <th>A-column</th>\n",
       "      <th>B-column</th>\n",
       "    </tr>\n",
       "  </thead>\n",
       "  <tbody>\n",
       "    <tr>\n",
       "      <th>r1</th>\n",
       "      <td>a1</td>\n",
       "      <td>b1</td>\n",
       "    </tr>\n",
       "    <tr>\n",
       "      <th>r2</th>\n",
       "      <td>a2</td>\n",
       "      <td>b2</td>\n",
       "    </tr>\n",
       "    <tr>\n",
       "      <th>r3</th>\n",
       "      <td>a3</td>\n",
       "      <td>b3</td>\n",
       "    </tr>\n",
       "  </tbody>\n",
       "</table>\n",
       "</div>"
      ],
      "text/plain": [
       "   A-column B-column\n",
       "r1       a1       b1\n",
       "r2       a2       b2\n",
       "r3       a3       b3"
      ]
     },
     "execution_count": 22,
     "metadata": {},
     "output_type": "execute_result"
    }
   ],
   "source": [
    "pd.DataFrame({\n",
    "    \"A-column\": s_a, \n",
    "    \"B-column\": s_b\n",
    "})"
   ]
  },
  {
   "cell_type": "markdown",
   "id": "76dcc425",
   "metadata": {},
   "source": [
    "### Indices\n",
    "\n",
    "On a more technical note, an index doesn't have to be an integer, nor does it have to be unique. For example, we can set the index of the `elections` `DataFrame` to be the name of presidential candidates. \n"
   ]
  },
  {
   "cell_type": "code",
   "execution_count": 23,
   "id": "2a01b66d",
   "metadata": {},
   "outputs": [
    {
     "data": {
      "text/html": [
       "<div>\n",
       "<style scoped>\n",
       "    .dataframe tbody tr th:only-of-type {\n",
       "        vertical-align: middle;\n",
       "    }\n",
       "\n",
       "    .dataframe tbody tr th {\n",
       "        vertical-align: top;\n",
       "    }\n",
       "\n",
       "    .dataframe thead th {\n",
       "        text-align: right;\n",
       "    }\n",
       "</style>\n",
       "<table border=\"1\" class=\"dataframe\">\n",
       "  <thead>\n",
       "    <tr style=\"text-align: right;\">\n",
       "      <th></th>\n",
       "      <th>Year</th>\n",
       "      <th>Party</th>\n",
       "      <th>Popular vote</th>\n",
       "      <th>Result</th>\n",
       "      <th>%</th>\n",
       "    </tr>\n",
       "    <tr>\n",
       "      <th>Candidate</th>\n",
       "      <th></th>\n",
       "      <th></th>\n",
       "      <th></th>\n",
       "      <th></th>\n",
       "      <th></th>\n",
       "    </tr>\n",
       "  </thead>\n",
       "  <tbody>\n",
       "    <tr>\n",
       "      <th>Andrew Jackson</th>\n",
       "      <td>1824</td>\n",
       "      <td>Democratic-Republican</td>\n",
       "      <td>151271</td>\n",
       "      <td>loss</td>\n",
       "      <td>57.210122</td>\n",
       "    </tr>\n",
       "    <tr>\n",
       "      <th>John Quincy Adams</th>\n",
       "      <td>1824</td>\n",
       "      <td>Democratic-Republican</td>\n",
       "      <td>113142</td>\n",
       "      <td>win</td>\n",
       "      <td>42.789878</td>\n",
       "    </tr>\n",
       "    <tr>\n",
       "      <th>Andrew Jackson</th>\n",
       "      <td>1828</td>\n",
       "      <td>Democratic</td>\n",
       "      <td>642806</td>\n",
       "      <td>win</td>\n",
       "      <td>56.203927</td>\n",
       "    </tr>\n",
       "    <tr>\n",
       "      <th>John Quincy Adams</th>\n",
       "      <td>1828</td>\n",
       "      <td>National Republican</td>\n",
       "      <td>500897</td>\n",
       "      <td>loss</td>\n",
       "      <td>43.796073</td>\n",
       "    </tr>\n",
       "    <tr>\n",
       "      <th>Andrew Jackson</th>\n",
       "      <td>1832</td>\n",
       "      <td>Democratic</td>\n",
       "      <td>702735</td>\n",
       "      <td>win</td>\n",
       "      <td>54.574789</td>\n",
       "    </tr>\n",
       "    <tr>\n",
       "      <th>...</th>\n",
       "      <td>...</td>\n",
       "      <td>...</td>\n",
       "      <td>...</td>\n",
       "      <td>...</td>\n",
       "      <td>...</td>\n",
       "    </tr>\n",
       "    <tr>\n",
       "      <th>Jill Stein</th>\n",
       "      <td>2016</td>\n",
       "      <td>Green</td>\n",
       "      <td>1457226</td>\n",
       "      <td>loss</td>\n",
       "      <td>1.073699</td>\n",
       "    </tr>\n",
       "    <tr>\n",
       "      <th>Joseph Biden</th>\n",
       "      <td>2020</td>\n",
       "      <td>Democratic</td>\n",
       "      <td>81268924</td>\n",
       "      <td>win</td>\n",
       "      <td>51.311515</td>\n",
       "    </tr>\n",
       "    <tr>\n",
       "      <th>Donald Trump</th>\n",
       "      <td>2020</td>\n",
       "      <td>Republican</td>\n",
       "      <td>74216154</td>\n",
       "      <td>loss</td>\n",
       "      <td>46.858542</td>\n",
       "    </tr>\n",
       "    <tr>\n",
       "      <th>Jo Jorgensen</th>\n",
       "      <td>2020</td>\n",
       "      <td>Libertarian</td>\n",
       "      <td>1865724</td>\n",
       "      <td>loss</td>\n",
       "      <td>1.177979</td>\n",
       "    </tr>\n",
       "    <tr>\n",
       "      <th>Howard Hawkins</th>\n",
       "      <td>2020</td>\n",
       "      <td>Green</td>\n",
       "      <td>405035</td>\n",
       "      <td>loss</td>\n",
       "      <td>0.255731</td>\n",
       "    </tr>\n",
       "  </tbody>\n",
       "</table>\n",
       "<p>182 rows × 5 columns</p>\n",
       "</div>"
      ],
      "text/plain": [
       "                   Year                  Party  Popular vote Result          %\n",
       "Candidate                                                                     \n",
       "Andrew Jackson     1824  Democratic-Republican        151271   loss  57.210122\n",
       "John Quincy Adams  1824  Democratic-Republican        113142    win  42.789878\n",
       "Andrew Jackson     1828             Democratic        642806    win  56.203927\n",
       "John Quincy Adams  1828    National Republican        500897   loss  43.796073\n",
       "Andrew Jackson     1832             Democratic        702735    win  54.574789\n",
       "...                 ...                    ...           ...    ...        ...\n",
       "Jill Stein         2016                  Green       1457226   loss   1.073699\n",
       "Joseph Biden       2020             Democratic      81268924    win  51.311515\n",
       "Donald Trump       2020             Republican      74216154   loss  46.858542\n",
       "Jo Jorgensen       2020            Libertarian       1865724   loss   1.177979\n",
       "Howard Hawkins     2020                  Green        405035   loss   0.255731\n",
       "\n",
       "[182 rows x 5 columns]"
      ]
     },
     "execution_count": 23,
     "metadata": {},
     "output_type": "execute_result"
    }
   ],
   "source": [
    "# Creating a DataFrame from a CSV file and specifying the index column\n",
    "elections = pd.read_csv(\"data/elections.csv\", index_col = \"Candidate\")\n",
    "elections"
   ]
  },
  {
   "cell_type": "markdown",
   "id": "97a312cc",
   "metadata": {},
   "source": [
    "We can also select a new column and set it as the index of the `DataFrame`. For example, we can set the index of the `elections` `DataFrame` to represent the candidate's party.\n"
   ]
  },
  {
   "cell_type": "code",
   "execution_count": 24,
   "id": "78136b33",
   "metadata": {},
   "outputs": [
    {
     "data": {
      "text/html": [
       "<div>\n",
       "<style scoped>\n",
       "    .dataframe tbody tr th:only-of-type {\n",
       "        vertical-align: middle;\n",
       "    }\n",
       "\n",
       "    .dataframe tbody tr th {\n",
       "        vertical-align: top;\n",
       "    }\n",
       "\n",
       "    .dataframe thead th {\n",
       "        text-align: right;\n",
       "    }\n",
       "</style>\n",
       "<table border=\"1\" class=\"dataframe\">\n",
       "  <thead>\n",
       "    <tr style=\"text-align: right;\">\n",
       "      <th></th>\n",
       "      <th>Candidate</th>\n",
       "      <th>Year</th>\n",
       "      <th>Popular vote</th>\n",
       "      <th>Result</th>\n",
       "      <th>%</th>\n",
       "    </tr>\n",
       "    <tr>\n",
       "      <th>Party</th>\n",
       "      <th></th>\n",
       "      <th></th>\n",
       "      <th></th>\n",
       "      <th></th>\n",
       "      <th></th>\n",
       "    </tr>\n",
       "  </thead>\n",
       "  <tbody>\n",
       "    <tr>\n",
       "      <th>Democratic-Republican</th>\n",
       "      <td>Andrew Jackson</td>\n",
       "      <td>1824</td>\n",
       "      <td>151271</td>\n",
       "      <td>loss</td>\n",
       "      <td>57.210122</td>\n",
       "    </tr>\n",
       "    <tr>\n",
       "      <th>Democratic-Republican</th>\n",
       "      <td>John Quincy Adams</td>\n",
       "      <td>1824</td>\n",
       "      <td>113142</td>\n",
       "      <td>win</td>\n",
       "      <td>42.789878</td>\n",
       "    </tr>\n",
       "    <tr>\n",
       "      <th>Democratic</th>\n",
       "      <td>Andrew Jackson</td>\n",
       "      <td>1828</td>\n",
       "      <td>642806</td>\n",
       "      <td>win</td>\n",
       "      <td>56.203927</td>\n",
       "    </tr>\n",
       "    <tr>\n",
       "      <th>National Republican</th>\n",
       "      <td>John Quincy Adams</td>\n",
       "      <td>1828</td>\n",
       "      <td>500897</td>\n",
       "      <td>loss</td>\n",
       "      <td>43.796073</td>\n",
       "    </tr>\n",
       "    <tr>\n",
       "      <th>Democratic</th>\n",
       "      <td>Andrew Jackson</td>\n",
       "      <td>1832</td>\n",
       "      <td>702735</td>\n",
       "      <td>win</td>\n",
       "      <td>54.574789</td>\n",
       "    </tr>\n",
       "    <tr>\n",
       "      <th>...</th>\n",
       "      <td>...</td>\n",
       "      <td>...</td>\n",
       "      <td>...</td>\n",
       "      <td>...</td>\n",
       "      <td>...</td>\n",
       "    </tr>\n",
       "    <tr>\n",
       "      <th>Green</th>\n",
       "      <td>Jill Stein</td>\n",
       "      <td>2016</td>\n",
       "      <td>1457226</td>\n",
       "      <td>loss</td>\n",
       "      <td>1.073699</td>\n",
       "    </tr>\n",
       "    <tr>\n",
       "      <th>Democratic</th>\n",
       "      <td>Joseph Biden</td>\n",
       "      <td>2020</td>\n",
       "      <td>81268924</td>\n",
       "      <td>win</td>\n",
       "      <td>51.311515</td>\n",
       "    </tr>\n",
       "    <tr>\n",
       "      <th>Republican</th>\n",
       "      <td>Donald Trump</td>\n",
       "      <td>2020</td>\n",
       "      <td>74216154</td>\n",
       "      <td>loss</td>\n",
       "      <td>46.858542</td>\n",
       "    </tr>\n",
       "    <tr>\n",
       "      <th>Libertarian</th>\n",
       "      <td>Jo Jorgensen</td>\n",
       "      <td>2020</td>\n",
       "      <td>1865724</td>\n",
       "      <td>loss</td>\n",
       "      <td>1.177979</td>\n",
       "    </tr>\n",
       "    <tr>\n",
       "      <th>Green</th>\n",
       "      <td>Howard Hawkins</td>\n",
       "      <td>2020</td>\n",
       "      <td>405035</td>\n",
       "      <td>loss</td>\n",
       "      <td>0.255731</td>\n",
       "    </tr>\n",
       "  </tbody>\n",
       "</table>\n",
       "<p>182 rows × 5 columns</p>\n",
       "</div>"
      ],
      "text/plain": [
       "                               Candidate  Year  Popular vote Result          %\n",
       "Party                                                                         \n",
       "Democratic-Republican     Andrew Jackson  1824        151271   loss  57.210122\n",
       "Democratic-Republican  John Quincy Adams  1824        113142    win  42.789878\n",
       "Democratic                Andrew Jackson  1828        642806    win  56.203927\n",
       "National Republican    John Quincy Adams  1828        500897   loss  43.796073\n",
       "Democratic                Andrew Jackson  1832        702735    win  54.574789\n",
       "...                                  ...   ...           ...    ...        ...\n",
       "Green                         Jill Stein  2016       1457226   loss   1.073699\n",
       "Democratic                  Joseph Biden  2020      81268924    win  51.311515\n",
       "Republican                  Donald Trump  2020      74216154   loss  46.858542\n",
       "Libertarian                 Jo Jorgensen  2020       1865724   loss   1.177979\n",
       "Green                     Howard Hawkins  2020        405035   loss   0.255731\n",
       "\n",
       "[182 rows x 5 columns]"
      ]
     },
     "execution_count": 24,
     "metadata": {},
     "output_type": "execute_result"
    }
   ],
   "source": [
    "elections.reset_index(inplace = True) # Resetting the index so we can set it again\n",
    "# This sets the index to the \"Party\" column\n",
    "elections.set_index(\"Party\")"
   ]
  },
  {
   "cell_type": "markdown",
   "id": "02e89881",
   "metadata": {},
   "source": [
    "And, if we'd like, we can revert the index back to the default list of integers.\n"
   ]
  },
  {
   "cell_type": "code",
   "execution_count": 25,
   "id": "bfb28b1d",
   "metadata": {},
   "outputs": [
    {
     "data": {
      "text/plain": [
       "RangeIndex(start=0, stop=182, step=1)"
      ]
     },
     "execution_count": 25,
     "metadata": {},
     "output_type": "execute_result"
    }
   ],
   "source": [
    "# This resets the index to be the default list of integer\n",
    "elections.reset_index(inplace=True) \n",
    "elections.index"
   ]
  },
  {
   "cell_type": "markdown",
   "id": "fddb73a4",
   "metadata": {},
   "source": [
    "It is also important to note that the row labels that constitute an index don't have to be unique. While index values can be unique and numeric, acting as a row number, they can also be named and non-unique. \n",
    "\n",
    "Here we see unique and numeric index values.\n",
    "\n",
    "<center><img src = \"images/uniqueindex.png\" width = \"400\"></img></a></center>\n",
    "\n",
    "However, here the index values are not unique. \n",
    "\n",
    "<center><img src = \"images/non-uniqueindex.png\" width = \"400\"></img></a></center>\n",
    "\n",
    "\n",
    "## `DataFrame` Attributes: Index, Columns, and Shape\n",
    "\n",
    "On the other hand, column names in a `DataFrame` are almost always unique. Looking back to the `elections` dataset, it wouldn't make sense to have two columns named `\"Candidate\"`. Sometimes, you'll want to extract these different values, in particular, the list of row and column labels.\n",
    "\n",
    "For index/row labels, use `DataFrame.index`:\n"
   ]
  },
  {
   "cell_type": "code",
   "execution_count": 26,
   "id": "23677af1",
   "metadata": {},
   "outputs": [
    {
     "data": {
      "text/plain": [
       "Index(['Democratic-Republican', 'Democratic-Republican', 'Democratic',\n",
       "       'National Republican', 'Democratic', 'National Republican',\n",
       "       'Anti-Masonic', 'Whig', 'Democratic', 'Whig',\n",
       "       ...\n",
       "       'Constitution', 'Republican', 'Independent', 'Libertarian',\n",
       "       'Democratic', 'Green', 'Democratic', 'Republican', 'Libertarian',\n",
       "       'Green'],\n",
       "      dtype='object', name='Party', length=182)"
      ]
     },
     "execution_count": 26,
     "metadata": {},
     "output_type": "execute_result"
    }
   ],
   "source": [
    "elections.set_index(\"Party\", inplace = True)\n",
    "elections.index"
   ]
  },
  {
   "cell_type": "markdown",
   "id": "d6db8255",
   "metadata": {},
   "source": [
    "For column labels, use `DataFrame.columns`:\n"
   ]
  },
  {
   "cell_type": "code",
   "execution_count": 27,
   "id": "15c92d74",
   "metadata": {},
   "outputs": [
    {
     "data": {
      "text/plain": [
       "Index(['index', 'Candidate', 'Year', 'Popular vote', 'Result', '%'], dtype='object')"
      ]
     },
     "execution_count": 27,
     "metadata": {},
     "output_type": "execute_result"
    }
   ],
   "source": [
    "elections.columns"
   ]
  },
  {
   "cell_type": "markdown",
   "id": "126653fc",
   "metadata": {},
   "source": [
    "And for the shape of the `DataFrame`, we can use `DataFrame.shape` to get the number of rows followed by the number of columns:\n"
   ]
  },
  {
   "cell_type": "code",
   "execution_count": 28,
   "id": "67d4ca88",
   "metadata": {},
   "outputs": [
    {
     "data": {
      "text/plain": [
       "(182, 6)"
      ]
     },
     "execution_count": 28,
     "metadata": {},
     "output_type": "execute_result"
    }
   ],
   "source": [
    "elections.shape"
   ]
  },
  {
   "cell_type": "markdown",
   "id": "676314a9",
   "metadata": {},
   "source": [
    "## Slicing in `DataFrame`s\n",
    "\n",
    "Now that we've learned more about `DataFrame`s, let's dive deeper into their capabilities. \n",
    "\n",
    "The API (Application Programming Interface) for the `DataFrame` class is enormous. In this section, we'll discuss several methods of the `DataFrame` API that allow us to extract subsets of data.\n",
    "\n",
    "The simplest way to manipulate a `DataFrame` is to extract a subset of rows and columns, known as **slicing**. \n",
    "\n",
    "Common ways we may want to extract data are grabbing:\n",
    "\n",
    "- The first or last `n` rows in the `DataFrame`.\n",
    "- Data with a certain label.\n",
    "- Data at a certain position.\n",
    "\n",
    "We will do so with four primary methods of the `DataFrame` class:\n",
    "\n",
    "1. `.head` and `.tail`\n",
    "2. `.loc`\n",
    "3. `.iloc`\n",
    "4. `[]`\n",
    "\n",
    "### Extracting data with `.head` and `.tail`\n",
    "\n",
    "The simplest scenario in which we want to extract data is when we simply want to select the first or last few rows of the `DataFrame`.\n",
    "\n",
    "To extract the first `n` rows of a `DataFrame` `df`, we use the syntax `df.head(n)`.\n"
   ]
  },
  {
   "cell_type": "code",
   "execution_count": 29,
   "id": "0095d51f",
   "metadata": {},
   "outputs": [],
   "source": [
    "#| code-fold: true\n",
    "elections = pd.read_csv(\"data/elections.csv\")"
   ]
  },
  {
   "cell_type": "code",
   "execution_count": 30,
   "id": "69575e37",
   "metadata": {},
   "outputs": [
    {
     "data": {
      "text/html": [
       "<div>\n",
       "<style scoped>\n",
       "    .dataframe tbody tr th:only-of-type {\n",
       "        vertical-align: middle;\n",
       "    }\n",
       "\n",
       "    .dataframe tbody tr th {\n",
       "        vertical-align: top;\n",
       "    }\n",
       "\n",
       "    .dataframe thead th {\n",
       "        text-align: right;\n",
       "    }\n",
       "</style>\n",
       "<table border=\"1\" class=\"dataframe\">\n",
       "  <thead>\n",
       "    <tr style=\"text-align: right;\">\n",
       "      <th></th>\n",
       "      <th>Year</th>\n",
       "      <th>Candidate</th>\n",
       "      <th>Party</th>\n",
       "      <th>Popular vote</th>\n",
       "      <th>Result</th>\n",
       "      <th>%</th>\n",
       "    </tr>\n",
       "  </thead>\n",
       "  <tbody>\n",
       "    <tr>\n",
       "      <th>0</th>\n",
       "      <td>1824</td>\n",
       "      <td>Andrew Jackson</td>\n",
       "      <td>Democratic-Republican</td>\n",
       "      <td>151271</td>\n",
       "      <td>loss</td>\n",
       "      <td>57.210122</td>\n",
       "    </tr>\n",
       "    <tr>\n",
       "      <th>1</th>\n",
       "      <td>1824</td>\n",
       "      <td>John Quincy Adams</td>\n",
       "      <td>Democratic-Republican</td>\n",
       "      <td>113142</td>\n",
       "      <td>win</td>\n",
       "      <td>42.789878</td>\n",
       "    </tr>\n",
       "    <tr>\n",
       "      <th>2</th>\n",
       "      <td>1828</td>\n",
       "      <td>Andrew Jackson</td>\n",
       "      <td>Democratic</td>\n",
       "      <td>642806</td>\n",
       "      <td>win</td>\n",
       "      <td>56.203927</td>\n",
       "    </tr>\n",
       "    <tr>\n",
       "      <th>3</th>\n",
       "      <td>1828</td>\n",
       "      <td>John Quincy Adams</td>\n",
       "      <td>National Republican</td>\n",
       "      <td>500897</td>\n",
       "      <td>loss</td>\n",
       "      <td>43.796073</td>\n",
       "    </tr>\n",
       "    <tr>\n",
       "      <th>4</th>\n",
       "      <td>1832</td>\n",
       "      <td>Andrew Jackson</td>\n",
       "      <td>Democratic</td>\n",
       "      <td>702735</td>\n",
       "      <td>win</td>\n",
       "      <td>54.574789</td>\n",
       "    </tr>\n",
       "  </tbody>\n",
       "</table>\n",
       "</div>"
      ],
      "text/plain": [
       "   Year          Candidate                  Party  Popular vote Result  \\\n",
       "0  1824     Andrew Jackson  Democratic-Republican        151271   loss   \n",
       "1  1824  John Quincy Adams  Democratic-Republican        113142    win   \n",
       "2  1828     Andrew Jackson             Democratic        642806    win   \n",
       "3  1828  John Quincy Adams    National Republican        500897   loss   \n",
       "4  1832     Andrew Jackson             Democratic        702735    win   \n",
       "\n",
       "           %  \n",
       "0  57.210122  \n",
       "1  42.789878  \n",
       "2  56.203927  \n",
       "3  43.796073  \n",
       "4  54.574789  "
      ]
     },
     "execution_count": 30,
     "metadata": {},
     "output_type": "execute_result"
    }
   ],
   "source": [
    "# Extract the first 5 rows of the DataFrame\n",
    "elections.head(5)"
   ]
  },
  {
   "cell_type": "markdown",
   "id": "7f6c6df6",
   "metadata": {},
   "source": [
    "Similarly, calling `df.tail(n)` allows us to extract the last `n` rows of the `DataFrame`.  \n"
   ]
  },
  {
   "cell_type": "code",
   "execution_count": 31,
   "id": "dd1fdb7b",
   "metadata": {},
   "outputs": [
    {
     "data": {
      "text/html": [
       "<div>\n",
       "<style scoped>\n",
       "    .dataframe tbody tr th:only-of-type {\n",
       "        vertical-align: middle;\n",
       "    }\n",
       "\n",
       "    .dataframe tbody tr th {\n",
       "        vertical-align: top;\n",
       "    }\n",
       "\n",
       "    .dataframe thead th {\n",
       "        text-align: right;\n",
       "    }\n",
       "</style>\n",
       "<table border=\"1\" class=\"dataframe\">\n",
       "  <thead>\n",
       "    <tr style=\"text-align: right;\">\n",
       "      <th></th>\n",
       "      <th>Year</th>\n",
       "      <th>Candidate</th>\n",
       "      <th>Party</th>\n",
       "      <th>Popular vote</th>\n",
       "      <th>Result</th>\n",
       "      <th>%</th>\n",
       "    </tr>\n",
       "  </thead>\n",
       "  <tbody>\n",
       "    <tr>\n",
       "      <th>177</th>\n",
       "      <td>2016</td>\n",
       "      <td>Jill Stein</td>\n",
       "      <td>Green</td>\n",
       "      <td>1457226</td>\n",
       "      <td>loss</td>\n",
       "      <td>1.073699</td>\n",
       "    </tr>\n",
       "    <tr>\n",
       "      <th>178</th>\n",
       "      <td>2020</td>\n",
       "      <td>Joseph Biden</td>\n",
       "      <td>Democratic</td>\n",
       "      <td>81268924</td>\n",
       "      <td>win</td>\n",
       "      <td>51.311515</td>\n",
       "    </tr>\n",
       "    <tr>\n",
       "      <th>179</th>\n",
       "      <td>2020</td>\n",
       "      <td>Donald Trump</td>\n",
       "      <td>Republican</td>\n",
       "      <td>74216154</td>\n",
       "      <td>loss</td>\n",
       "      <td>46.858542</td>\n",
       "    </tr>\n",
       "    <tr>\n",
       "      <th>180</th>\n",
       "      <td>2020</td>\n",
       "      <td>Jo Jorgensen</td>\n",
       "      <td>Libertarian</td>\n",
       "      <td>1865724</td>\n",
       "      <td>loss</td>\n",
       "      <td>1.177979</td>\n",
       "    </tr>\n",
       "    <tr>\n",
       "      <th>181</th>\n",
       "      <td>2020</td>\n",
       "      <td>Howard Hawkins</td>\n",
       "      <td>Green</td>\n",
       "      <td>405035</td>\n",
       "      <td>loss</td>\n",
       "      <td>0.255731</td>\n",
       "    </tr>\n",
       "  </tbody>\n",
       "</table>\n",
       "</div>"
      ],
      "text/plain": [
       "     Year       Candidate        Party  Popular vote Result          %\n",
       "177  2016      Jill Stein        Green       1457226   loss   1.073699\n",
       "178  2020    Joseph Biden   Democratic      81268924    win  51.311515\n",
       "179  2020    Donald Trump   Republican      74216154   loss  46.858542\n",
       "180  2020    Jo Jorgensen  Libertarian       1865724   loss   1.177979\n",
       "181  2020  Howard Hawkins        Green        405035   loss   0.255731"
      ]
     },
     "execution_count": 31,
     "metadata": {},
     "output_type": "execute_result"
    }
   ],
   "source": [
    "# Extract the last 5 rows of the DataFrame\n",
    "elections.tail(5)"
   ]
  },
  {
   "cell_type": "markdown",
   "id": "6e03e126",
   "metadata": {},
   "source": [
    "### Label-based Extraction: Indexing with `.loc`\n",
    "\n",
    "For the more complex task of extracting data with specific column or index labels, we can use `.loc`. The `.loc` accessor allows us to specify the ***labels*** of rows and columns we wish to extract. The **labels** (commonly referred to as the **indices**) are the bold text on the far *left* of a `DataFrame`, while the **column labels** are the column names found at the *top* of a `DataFrame`.\n",
    "\n",
    "<center><img src = \"images/locgraphic.png\" width = \"800\"></img></a></center>\n",
    "\n",
    "\n",
    "To grab data with `.loc`, we must specify the row and column label(s) where the data exists. The row labels are the first argument to the `.loc` function; the column labels are the second.\n",
    "\n",
    "Arguments to `.loc` can be:\n",
    "\n",
    "- A single value.\n",
    "- A slice.\n",
    "- A list.\n",
    "\n",
    "For example, to select a single value, we can select the row labeled `0` and the column labeled `Candidate` from the `elections` `DataFrame`.\n"
   ]
  },
  {
   "cell_type": "code",
   "execution_count": 32,
   "id": "73c45b84",
   "metadata": {},
   "outputs": [
    {
     "data": {
      "text/plain": [
       "'Andrew Jackson'"
      ]
     },
     "execution_count": 32,
     "metadata": {},
     "output_type": "execute_result"
    }
   ],
   "source": [
    "elections.loc[0, 'Candidate']"
   ]
  },
  {
   "cell_type": "markdown",
   "id": "f5dd22b5",
   "metadata": {},
   "source": [
    "Keep in mind that passing in just one argument as a single value will produce a `Series`. Below, we've extracted a subset of the `\"Popular vote\"` column as a `Series`.\n"
   ]
  },
  {
   "cell_type": "code",
   "execution_count": 33,
   "id": "c3e034f5",
   "metadata": {},
   "outputs": [
    {
     "data": {
      "text/plain": [
       "87     15761254\n",
       "25       848019\n",
       "179    74216154\n",
       "Name: Popular vote, dtype: int64"
      ]
     },
     "execution_count": 33,
     "metadata": {},
     "output_type": "execute_result"
    }
   ],
   "source": [
    "elections.loc[[87, 25, 179], \"Popular vote\"]"
   ]
  },
  {
   "cell_type": "markdown",
   "id": "280021c8",
   "metadata": {},
   "source": [
    "To select *multiple* rows and columns, we can use Python slice notation. Here, we select the rows from labels `0` to `3` and the columns from labels `\"Year\"` to `\"Popular vote\"`. Notice that unlike Python slicing, `.loc` is *inclusive* of the right upper bound.\n"
   ]
  },
  {
   "cell_type": "code",
   "execution_count": 34,
   "id": "472bd598",
   "metadata": {},
   "outputs": [
    {
     "data": {
      "text/html": [
       "<div>\n",
       "<style scoped>\n",
       "    .dataframe tbody tr th:only-of-type {\n",
       "        vertical-align: middle;\n",
       "    }\n",
       "\n",
       "    .dataframe tbody tr th {\n",
       "        vertical-align: top;\n",
       "    }\n",
       "\n",
       "    .dataframe thead th {\n",
       "        text-align: right;\n",
       "    }\n",
       "</style>\n",
       "<table border=\"1\" class=\"dataframe\">\n",
       "  <thead>\n",
       "    <tr style=\"text-align: right;\">\n",
       "      <th></th>\n",
       "      <th>Year</th>\n",
       "      <th>Candidate</th>\n",
       "      <th>Party</th>\n",
       "      <th>Popular vote</th>\n",
       "    </tr>\n",
       "  </thead>\n",
       "  <tbody>\n",
       "    <tr>\n",
       "      <th>0</th>\n",
       "      <td>1824</td>\n",
       "      <td>Andrew Jackson</td>\n",
       "      <td>Democratic-Republican</td>\n",
       "      <td>151271</td>\n",
       "    </tr>\n",
       "    <tr>\n",
       "      <th>1</th>\n",
       "      <td>1824</td>\n",
       "      <td>John Quincy Adams</td>\n",
       "      <td>Democratic-Republican</td>\n",
       "      <td>113142</td>\n",
       "    </tr>\n",
       "    <tr>\n",
       "      <th>2</th>\n",
       "      <td>1828</td>\n",
       "      <td>Andrew Jackson</td>\n",
       "      <td>Democratic</td>\n",
       "      <td>642806</td>\n",
       "    </tr>\n",
       "    <tr>\n",
       "      <th>3</th>\n",
       "      <td>1828</td>\n",
       "      <td>John Quincy Adams</td>\n",
       "      <td>National Republican</td>\n",
       "      <td>500897</td>\n",
       "    </tr>\n",
       "  </tbody>\n",
       "</table>\n",
       "</div>"
      ],
      "text/plain": [
       "   Year          Candidate                  Party  Popular vote\n",
       "0  1824     Andrew Jackson  Democratic-Republican        151271\n",
       "1  1824  John Quincy Adams  Democratic-Republican        113142\n",
       "2  1828     Andrew Jackson             Democratic        642806\n",
       "3  1828  John Quincy Adams    National Republican        500897"
      ]
     },
     "execution_count": 34,
     "metadata": {},
     "output_type": "execute_result"
    }
   ],
   "source": [
    "elections.loc[0:3, 'Year':'Popular vote']"
   ]
  },
  {
   "cell_type": "markdown",
   "id": "9ac2c16b",
   "metadata": {},
   "source": [
    "Suppose that instead, we want to extract *all* column values for the first four rows in the `elections` `DataFrame`. The shorthand `:` is useful for this.\n"
   ]
  },
  {
   "cell_type": "code",
   "execution_count": 35,
   "id": "47e29369",
   "metadata": {},
   "outputs": [
    {
     "data": {
      "text/html": [
       "<div>\n",
       "<style scoped>\n",
       "    .dataframe tbody tr th:only-of-type {\n",
       "        vertical-align: middle;\n",
       "    }\n",
       "\n",
       "    .dataframe tbody tr th {\n",
       "        vertical-align: top;\n",
       "    }\n",
       "\n",
       "    .dataframe thead th {\n",
       "        text-align: right;\n",
       "    }\n",
       "</style>\n",
       "<table border=\"1\" class=\"dataframe\">\n",
       "  <thead>\n",
       "    <tr style=\"text-align: right;\">\n",
       "      <th></th>\n",
       "      <th>Year</th>\n",
       "      <th>Candidate</th>\n",
       "      <th>Party</th>\n",
       "      <th>Popular vote</th>\n",
       "      <th>Result</th>\n",
       "      <th>%</th>\n",
       "    </tr>\n",
       "  </thead>\n",
       "  <tbody>\n",
       "    <tr>\n",
       "      <th>0</th>\n",
       "      <td>1824</td>\n",
       "      <td>Andrew Jackson</td>\n",
       "      <td>Democratic-Republican</td>\n",
       "      <td>151271</td>\n",
       "      <td>loss</td>\n",
       "      <td>57.210122</td>\n",
       "    </tr>\n",
       "    <tr>\n",
       "      <th>1</th>\n",
       "      <td>1824</td>\n",
       "      <td>John Quincy Adams</td>\n",
       "      <td>Democratic-Republican</td>\n",
       "      <td>113142</td>\n",
       "      <td>win</td>\n",
       "      <td>42.789878</td>\n",
       "    </tr>\n",
       "    <tr>\n",
       "      <th>2</th>\n",
       "      <td>1828</td>\n",
       "      <td>Andrew Jackson</td>\n",
       "      <td>Democratic</td>\n",
       "      <td>642806</td>\n",
       "      <td>win</td>\n",
       "      <td>56.203927</td>\n",
       "    </tr>\n",
       "    <tr>\n",
       "      <th>3</th>\n",
       "      <td>1828</td>\n",
       "      <td>John Quincy Adams</td>\n",
       "      <td>National Republican</td>\n",
       "      <td>500897</td>\n",
       "      <td>loss</td>\n",
       "      <td>43.796073</td>\n",
       "    </tr>\n",
       "  </tbody>\n",
       "</table>\n",
       "</div>"
      ],
      "text/plain": [
       "   Year          Candidate                  Party  Popular vote Result  \\\n",
       "0  1824     Andrew Jackson  Democratic-Republican        151271   loss   \n",
       "1  1824  John Quincy Adams  Democratic-Republican        113142    win   \n",
       "2  1828     Andrew Jackson             Democratic        642806    win   \n",
       "3  1828  John Quincy Adams    National Republican        500897   loss   \n",
       "\n",
       "           %  \n",
       "0  57.210122  \n",
       "1  42.789878  \n",
       "2  56.203927  \n",
       "3  43.796073  "
      ]
     },
     "execution_count": 35,
     "metadata": {},
     "output_type": "execute_result"
    }
   ],
   "source": [
    "elections.loc[0:3, :]"
   ]
  },
  {
   "cell_type": "markdown",
   "id": "0838585b",
   "metadata": {},
   "source": [
    "We can use the same shorthand to extract all rows. \n"
   ]
  },
  {
   "cell_type": "code",
   "execution_count": 36,
   "id": "e852e628",
   "metadata": {},
   "outputs": [
    {
     "data": {
      "text/html": [
       "<div>\n",
       "<style scoped>\n",
       "    .dataframe tbody tr th:only-of-type {\n",
       "        vertical-align: middle;\n",
       "    }\n",
       "\n",
       "    .dataframe tbody tr th {\n",
       "        vertical-align: top;\n",
       "    }\n",
       "\n",
       "    .dataframe thead th {\n",
       "        text-align: right;\n",
       "    }\n",
       "</style>\n",
       "<table border=\"1\" class=\"dataframe\">\n",
       "  <thead>\n",
       "    <tr style=\"text-align: right;\">\n",
       "      <th></th>\n",
       "      <th>Year</th>\n",
       "      <th>Candidate</th>\n",
       "      <th>Result</th>\n",
       "    </tr>\n",
       "  </thead>\n",
       "  <tbody>\n",
       "    <tr>\n",
       "      <th>0</th>\n",
       "      <td>1824</td>\n",
       "      <td>Andrew Jackson</td>\n",
       "      <td>loss</td>\n",
       "    </tr>\n",
       "    <tr>\n",
       "      <th>1</th>\n",
       "      <td>1824</td>\n",
       "      <td>John Quincy Adams</td>\n",
       "      <td>win</td>\n",
       "    </tr>\n",
       "    <tr>\n",
       "      <th>2</th>\n",
       "      <td>1828</td>\n",
       "      <td>Andrew Jackson</td>\n",
       "      <td>win</td>\n",
       "    </tr>\n",
       "    <tr>\n",
       "      <th>3</th>\n",
       "      <td>1828</td>\n",
       "      <td>John Quincy Adams</td>\n",
       "      <td>loss</td>\n",
       "    </tr>\n",
       "    <tr>\n",
       "      <th>4</th>\n",
       "      <td>1832</td>\n",
       "      <td>Andrew Jackson</td>\n",
       "      <td>win</td>\n",
       "    </tr>\n",
       "    <tr>\n",
       "      <th>...</th>\n",
       "      <td>...</td>\n",
       "      <td>...</td>\n",
       "      <td>...</td>\n",
       "    </tr>\n",
       "    <tr>\n",
       "      <th>177</th>\n",
       "      <td>2016</td>\n",
       "      <td>Jill Stein</td>\n",
       "      <td>loss</td>\n",
       "    </tr>\n",
       "    <tr>\n",
       "      <th>178</th>\n",
       "      <td>2020</td>\n",
       "      <td>Joseph Biden</td>\n",
       "      <td>win</td>\n",
       "    </tr>\n",
       "    <tr>\n",
       "      <th>179</th>\n",
       "      <td>2020</td>\n",
       "      <td>Donald Trump</td>\n",
       "      <td>loss</td>\n",
       "    </tr>\n",
       "    <tr>\n",
       "      <th>180</th>\n",
       "      <td>2020</td>\n",
       "      <td>Jo Jorgensen</td>\n",
       "      <td>loss</td>\n",
       "    </tr>\n",
       "    <tr>\n",
       "      <th>181</th>\n",
       "      <td>2020</td>\n",
       "      <td>Howard Hawkins</td>\n",
       "      <td>loss</td>\n",
       "    </tr>\n",
       "  </tbody>\n",
       "</table>\n",
       "<p>182 rows × 3 columns</p>\n",
       "</div>"
      ],
      "text/plain": [
       "     Year          Candidate Result\n",
       "0    1824     Andrew Jackson   loss\n",
       "1    1824  John Quincy Adams    win\n",
       "2    1828     Andrew Jackson    win\n",
       "3    1828  John Quincy Adams   loss\n",
       "4    1832     Andrew Jackson    win\n",
       "..    ...                ...    ...\n",
       "177  2016         Jill Stein   loss\n",
       "178  2020       Joseph Biden    win\n",
       "179  2020       Donald Trump   loss\n",
       "180  2020       Jo Jorgensen   loss\n",
       "181  2020     Howard Hawkins   loss\n",
       "\n",
       "[182 rows x 3 columns]"
      ]
     },
     "execution_count": 36,
     "metadata": {},
     "output_type": "execute_result"
    }
   ],
   "source": [
    "elections.loc[:, [\"Year\", \"Candidate\", \"Result\"]]"
   ]
  },
  {
   "cell_type": "markdown",
   "id": "1d094a98",
   "metadata": {},
   "source": [
    "There are a couple of things we should note. Firstly, unlike conventional Python, `pandas` allows us to slice string values (in our example, the column labels). Secondly, slicing with `.loc` is *inclusive*. Notice how our resulting `DataFrame` includes every row and column between and including the slice labels we specified.\n",
    "\n",
    "Equivalently, we can use a list to obtain multiple rows and columns in our `elections` `DataFrame`. \n"
   ]
  },
  {
   "cell_type": "code",
   "execution_count": 37,
   "id": "34b0799f",
   "metadata": {},
   "outputs": [
    {
     "data": {
      "text/html": [
       "<div>\n",
       "<style scoped>\n",
       "    .dataframe tbody tr th:only-of-type {\n",
       "        vertical-align: middle;\n",
       "    }\n",
       "\n",
       "    .dataframe tbody tr th {\n",
       "        vertical-align: top;\n",
       "    }\n",
       "\n",
       "    .dataframe thead th {\n",
       "        text-align: right;\n",
       "    }\n",
       "</style>\n",
       "<table border=\"1\" class=\"dataframe\">\n",
       "  <thead>\n",
       "    <tr style=\"text-align: right;\">\n",
       "      <th></th>\n",
       "      <th>Year</th>\n",
       "      <th>Candidate</th>\n",
       "      <th>Party</th>\n",
       "      <th>Popular vote</th>\n",
       "    </tr>\n",
       "  </thead>\n",
       "  <tbody>\n",
       "    <tr>\n",
       "      <th>0</th>\n",
       "      <td>1824</td>\n",
       "      <td>Andrew Jackson</td>\n",
       "      <td>Democratic-Republican</td>\n",
       "      <td>151271</td>\n",
       "    </tr>\n",
       "    <tr>\n",
       "      <th>1</th>\n",
       "      <td>1824</td>\n",
       "      <td>John Quincy Adams</td>\n",
       "      <td>Democratic-Republican</td>\n",
       "      <td>113142</td>\n",
       "    </tr>\n",
       "    <tr>\n",
       "      <th>2</th>\n",
       "      <td>1828</td>\n",
       "      <td>Andrew Jackson</td>\n",
       "      <td>Democratic</td>\n",
       "      <td>642806</td>\n",
       "    </tr>\n",
       "    <tr>\n",
       "      <th>3</th>\n",
       "      <td>1828</td>\n",
       "      <td>John Quincy Adams</td>\n",
       "      <td>National Republican</td>\n",
       "      <td>500897</td>\n",
       "    </tr>\n",
       "  </tbody>\n",
       "</table>\n",
       "</div>"
      ],
      "text/plain": [
       "   Year          Candidate                  Party  Popular vote\n",
       "0  1824     Andrew Jackson  Democratic-Republican        151271\n",
       "1  1824  John Quincy Adams  Democratic-Republican        113142\n",
       "2  1828     Andrew Jackson             Democratic        642806\n",
       "3  1828  John Quincy Adams    National Republican        500897"
      ]
     },
     "execution_count": 37,
     "metadata": {},
     "output_type": "execute_result"
    }
   ],
   "source": [
    "elections.loc[[0, 1, 2, 3], ['Year', 'Candidate', 'Party', 'Popular vote']]"
   ]
  },
  {
   "cell_type": "markdown",
   "id": "9d5eab26",
   "metadata": {},
   "source": [
    "Lastly, we can interchange list and slicing notation.\n"
   ]
  },
  {
   "cell_type": "code",
   "execution_count": 38,
   "id": "8c9c897e",
   "metadata": {},
   "outputs": [
    {
     "data": {
      "text/html": [
       "<div>\n",
       "<style scoped>\n",
       "    .dataframe tbody tr th:only-of-type {\n",
       "        vertical-align: middle;\n",
       "    }\n",
       "\n",
       "    .dataframe tbody tr th {\n",
       "        vertical-align: top;\n",
       "    }\n",
       "\n",
       "    .dataframe thead th {\n",
       "        text-align: right;\n",
       "    }\n",
       "</style>\n",
       "<table border=\"1\" class=\"dataframe\">\n",
       "  <thead>\n",
       "    <tr style=\"text-align: right;\">\n",
       "      <th></th>\n",
       "      <th>Year</th>\n",
       "      <th>Candidate</th>\n",
       "      <th>Party</th>\n",
       "      <th>Popular vote</th>\n",
       "      <th>Result</th>\n",
       "      <th>%</th>\n",
       "    </tr>\n",
       "  </thead>\n",
       "  <tbody>\n",
       "    <tr>\n",
       "      <th>0</th>\n",
       "      <td>1824</td>\n",
       "      <td>Andrew Jackson</td>\n",
       "      <td>Democratic-Republican</td>\n",
       "      <td>151271</td>\n",
       "      <td>loss</td>\n",
       "      <td>57.210122</td>\n",
       "    </tr>\n",
       "    <tr>\n",
       "      <th>1</th>\n",
       "      <td>1824</td>\n",
       "      <td>John Quincy Adams</td>\n",
       "      <td>Democratic-Republican</td>\n",
       "      <td>113142</td>\n",
       "      <td>win</td>\n",
       "      <td>42.789878</td>\n",
       "    </tr>\n",
       "    <tr>\n",
       "      <th>2</th>\n",
       "      <td>1828</td>\n",
       "      <td>Andrew Jackson</td>\n",
       "      <td>Democratic</td>\n",
       "      <td>642806</td>\n",
       "      <td>win</td>\n",
       "      <td>56.203927</td>\n",
       "    </tr>\n",
       "    <tr>\n",
       "      <th>3</th>\n",
       "      <td>1828</td>\n",
       "      <td>John Quincy Adams</td>\n",
       "      <td>National Republican</td>\n",
       "      <td>500897</td>\n",
       "      <td>loss</td>\n",
       "      <td>43.796073</td>\n",
       "    </tr>\n",
       "  </tbody>\n",
       "</table>\n",
       "</div>"
      ],
      "text/plain": [
       "   Year          Candidate                  Party  Popular vote Result  \\\n",
       "0  1824     Andrew Jackson  Democratic-Republican        151271   loss   \n",
       "1  1824  John Quincy Adams  Democratic-Republican        113142    win   \n",
       "2  1828     Andrew Jackson             Democratic        642806    win   \n",
       "3  1828  John Quincy Adams    National Republican        500897   loss   \n",
       "\n",
       "           %  \n",
       "0  57.210122  \n",
       "1  42.789878  \n",
       "2  56.203927  \n",
       "3  43.796073  "
      ]
     },
     "execution_count": 38,
     "metadata": {},
     "output_type": "execute_result"
    }
   ],
   "source": [
    "elections.loc[[0, 1, 2, 3], :]"
   ]
  },
  {
   "cell_type": "markdown",
   "id": "b2ff0446",
   "metadata": {},
   "source": [
    "### Integer-based Extraction: Indexing with `.iloc`\n",
    "\n",
    "Slicing with `.iloc` works similarly to `.loc`. However, `.iloc` uses the *index positions* of rows and columns rather than the labels (think to yourself: **l**oc uses **l**ables; **i**loc uses **i**ndices). The arguments to the `.iloc` function also behave similarly — single values, lists, indices, and any combination of these are permitted. \n",
    "\n",
    "Let's begin reproducing our results from above. We'll begin by selecting the first presidential candidate in our `elections` `DataFrame`:\n"
   ]
  },
  {
   "cell_type": "code",
   "execution_count": 39,
   "id": "916ba093",
   "metadata": {},
   "outputs": [
    {
     "data": {
      "text/plain": [
       "'Andrew Jackson'"
      ]
     },
     "execution_count": 39,
     "metadata": {},
     "output_type": "execute_result"
    }
   ],
   "source": [
    "# elections.loc[0, \"Candidate\"] - Previous approach\n",
    "elections.iloc[0, 1]"
   ]
  },
  {
   "cell_type": "markdown",
   "id": "0311e82a",
   "metadata": {},
   "source": [
    "Notice how the first argument to both `.loc` and `.iloc` are the same. This is because the row with a label of `0` is conveniently in the $0^{\\text{th}}$ (equivalently, the first position) of the `elections` `DataFrame`. Generally, this is true of any `DataFrame` where the row labels are incremented in ascending order from 0.\n",
    "\n",
    "And, as before, if we were to pass in only one single value argument, our result would be a `Series`.\n"
   ]
  },
  {
   "cell_type": "code",
   "execution_count": 40,
   "id": "0af4f906",
   "metadata": {},
   "outputs": [
    {
     "data": {
      "text/plain": [
       "1    John Quincy Adams\n",
       "2       Andrew Jackson\n",
       "3    John Quincy Adams\n",
       "Name: Candidate, dtype: object"
      ]
     },
     "execution_count": 40,
     "metadata": {},
     "output_type": "execute_result"
    }
   ],
   "source": [
    "elections.iloc[[1,2,3],1]"
   ]
  },
  {
   "cell_type": "markdown",
   "id": "e06cfb54",
   "metadata": {},
   "source": [
    "However, when we select the first four rows and columns using `.iloc`, we notice something.\n"
   ]
  },
  {
   "cell_type": "code",
   "execution_count": 41,
   "id": "738bbdd3",
   "metadata": {},
   "outputs": [
    {
     "data": {
      "text/html": [
       "<div>\n",
       "<style scoped>\n",
       "    .dataframe tbody tr th:only-of-type {\n",
       "        vertical-align: middle;\n",
       "    }\n",
       "\n",
       "    .dataframe tbody tr th {\n",
       "        vertical-align: top;\n",
       "    }\n",
       "\n",
       "    .dataframe thead th {\n",
       "        text-align: right;\n",
       "    }\n",
       "</style>\n",
       "<table border=\"1\" class=\"dataframe\">\n",
       "  <thead>\n",
       "    <tr style=\"text-align: right;\">\n",
       "      <th></th>\n",
       "      <th>Year</th>\n",
       "      <th>Candidate</th>\n",
       "      <th>Party</th>\n",
       "      <th>Popular vote</th>\n",
       "    </tr>\n",
       "  </thead>\n",
       "  <tbody>\n",
       "    <tr>\n",
       "      <th>0</th>\n",
       "      <td>1824</td>\n",
       "      <td>Andrew Jackson</td>\n",
       "      <td>Democratic-Republican</td>\n",
       "      <td>151271</td>\n",
       "    </tr>\n",
       "    <tr>\n",
       "      <th>1</th>\n",
       "      <td>1824</td>\n",
       "      <td>John Quincy Adams</td>\n",
       "      <td>Democratic-Republican</td>\n",
       "      <td>113142</td>\n",
       "    </tr>\n",
       "    <tr>\n",
       "      <th>2</th>\n",
       "      <td>1828</td>\n",
       "      <td>Andrew Jackson</td>\n",
       "      <td>Democratic</td>\n",
       "      <td>642806</td>\n",
       "    </tr>\n",
       "    <tr>\n",
       "      <th>3</th>\n",
       "      <td>1828</td>\n",
       "      <td>John Quincy Adams</td>\n",
       "      <td>National Republican</td>\n",
       "      <td>500897</td>\n",
       "    </tr>\n",
       "  </tbody>\n",
       "</table>\n",
       "</div>"
      ],
      "text/plain": [
       "   Year          Candidate                  Party  Popular vote\n",
       "0  1824     Andrew Jackson  Democratic-Republican        151271\n",
       "1  1824  John Quincy Adams  Democratic-Republican        113142\n",
       "2  1828     Andrew Jackson             Democratic        642806\n",
       "3  1828  John Quincy Adams    National Republican        500897"
      ]
     },
     "execution_count": 41,
     "metadata": {},
     "output_type": "execute_result"
    }
   ],
   "source": [
    "# elections.loc[0:3, 'Year':'Popular vote'] - Previous approach\n",
    "elections.iloc[0:4, 0:4]"
   ]
  },
  {
   "cell_type": "markdown",
   "id": "e28622ed",
   "metadata": {},
   "source": [
    "Slicing is no longer inclusive in `.iloc` — it's *exclusive*. In other words, the right end of a slice is not included when using `.iloc`. This is one of the subtleties of `pandas` syntax; you will get used to it with practice.\n",
    "\n",
    "List behavior works just as expected.\n"
   ]
  },
  {
   "cell_type": "code",
   "execution_count": 42,
   "id": "abf271d1",
   "metadata": {},
   "outputs": [
    {
     "data": {
      "text/html": [
       "<div>\n",
       "<style scoped>\n",
       "    .dataframe tbody tr th:only-of-type {\n",
       "        vertical-align: middle;\n",
       "    }\n",
       "\n",
       "    .dataframe tbody tr th {\n",
       "        vertical-align: top;\n",
       "    }\n",
       "\n",
       "    .dataframe thead th {\n",
       "        text-align: right;\n",
       "    }\n",
       "</style>\n",
       "<table border=\"1\" class=\"dataframe\">\n",
       "  <thead>\n",
       "    <tr style=\"text-align: right;\">\n",
       "      <th></th>\n",
       "      <th>Year</th>\n",
       "      <th>Candidate</th>\n",
       "      <th>Party</th>\n",
       "      <th>Popular vote</th>\n",
       "    </tr>\n",
       "  </thead>\n",
       "  <tbody>\n",
       "    <tr>\n",
       "      <th>0</th>\n",
       "      <td>1824</td>\n",
       "      <td>Andrew Jackson</td>\n",
       "      <td>Democratic-Republican</td>\n",
       "      <td>151271</td>\n",
       "    </tr>\n",
       "    <tr>\n",
       "      <th>1</th>\n",
       "      <td>1824</td>\n",
       "      <td>John Quincy Adams</td>\n",
       "      <td>Democratic-Republican</td>\n",
       "      <td>113142</td>\n",
       "    </tr>\n",
       "    <tr>\n",
       "      <th>2</th>\n",
       "      <td>1828</td>\n",
       "      <td>Andrew Jackson</td>\n",
       "      <td>Democratic</td>\n",
       "      <td>642806</td>\n",
       "    </tr>\n",
       "    <tr>\n",
       "      <th>3</th>\n",
       "      <td>1828</td>\n",
       "      <td>John Quincy Adams</td>\n",
       "      <td>National Republican</td>\n",
       "      <td>500897</td>\n",
       "    </tr>\n",
       "  </tbody>\n",
       "</table>\n",
       "</div>"
      ],
      "text/plain": [
       "   Year          Candidate                  Party  Popular vote\n",
       "0  1824     Andrew Jackson  Democratic-Republican        151271\n",
       "1  1824  John Quincy Adams  Democratic-Republican        113142\n",
       "2  1828     Andrew Jackson             Democratic        642806\n",
       "3  1828  John Quincy Adams    National Republican        500897"
      ]
     },
     "execution_count": 42,
     "metadata": {},
     "output_type": "execute_result"
    }
   ],
   "source": [
    "#elections.loc[[0, 1, 2, 3], ['Year', 'Candidate', 'Party', 'Popular vote']] - Previous Approach\n",
    "elections.iloc[[0, 1, 2, 3], [0, 1, 2, 3]]"
   ]
  },
  {
   "cell_type": "markdown",
   "id": "bcbff7ea",
   "metadata": {},
   "source": [
    "And just like with `.loc`, we can use a colon with `.iloc` to extract all rows or columns.\n"
   ]
  },
  {
   "cell_type": "code",
   "execution_count": 43,
   "id": "8e3bfad5",
   "metadata": {},
   "outputs": [
    {
     "data": {
      "text/html": [
       "<div>\n",
       "<style scoped>\n",
       "    .dataframe tbody tr th:only-of-type {\n",
       "        vertical-align: middle;\n",
       "    }\n",
       "\n",
       "    .dataframe tbody tr th {\n",
       "        vertical-align: top;\n",
       "    }\n",
       "\n",
       "    .dataframe thead th {\n",
       "        text-align: right;\n",
       "    }\n",
       "</style>\n",
       "<table border=\"1\" class=\"dataframe\">\n",
       "  <thead>\n",
       "    <tr style=\"text-align: right;\">\n",
       "      <th></th>\n",
       "      <th>Year</th>\n",
       "      <th>Candidate</th>\n",
       "      <th>Party</th>\n",
       "    </tr>\n",
       "  </thead>\n",
       "  <tbody>\n",
       "    <tr>\n",
       "      <th>0</th>\n",
       "      <td>1824</td>\n",
       "      <td>Andrew Jackson</td>\n",
       "      <td>Democratic-Republican</td>\n",
       "    </tr>\n",
       "    <tr>\n",
       "      <th>1</th>\n",
       "      <td>1824</td>\n",
       "      <td>John Quincy Adams</td>\n",
       "      <td>Democratic-Republican</td>\n",
       "    </tr>\n",
       "    <tr>\n",
       "      <th>2</th>\n",
       "      <td>1828</td>\n",
       "      <td>Andrew Jackson</td>\n",
       "      <td>Democratic</td>\n",
       "    </tr>\n",
       "    <tr>\n",
       "      <th>3</th>\n",
       "      <td>1828</td>\n",
       "      <td>John Quincy Adams</td>\n",
       "      <td>National Republican</td>\n",
       "    </tr>\n",
       "    <tr>\n",
       "      <th>4</th>\n",
       "      <td>1832</td>\n",
       "      <td>Andrew Jackson</td>\n",
       "      <td>Democratic</td>\n",
       "    </tr>\n",
       "    <tr>\n",
       "      <th>...</th>\n",
       "      <td>...</td>\n",
       "      <td>...</td>\n",
       "      <td>...</td>\n",
       "    </tr>\n",
       "    <tr>\n",
       "      <th>177</th>\n",
       "      <td>2016</td>\n",
       "      <td>Jill Stein</td>\n",
       "      <td>Green</td>\n",
       "    </tr>\n",
       "    <tr>\n",
       "      <th>178</th>\n",
       "      <td>2020</td>\n",
       "      <td>Joseph Biden</td>\n",
       "      <td>Democratic</td>\n",
       "    </tr>\n",
       "    <tr>\n",
       "      <th>179</th>\n",
       "      <td>2020</td>\n",
       "      <td>Donald Trump</td>\n",
       "      <td>Republican</td>\n",
       "    </tr>\n",
       "    <tr>\n",
       "      <th>180</th>\n",
       "      <td>2020</td>\n",
       "      <td>Jo Jorgensen</td>\n",
       "      <td>Libertarian</td>\n",
       "    </tr>\n",
       "    <tr>\n",
       "      <th>181</th>\n",
       "      <td>2020</td>\n",
       "      <td>Howard Hawkins</td>\n",
       "      <td>Green</td>\n",
       "    </tr>\n",
       "  </tbody>\n",
       "</table>\n",
       "<p>182 rows × 3 columns</p>\n",
       "</div>"
      ],
      "text/plain": [
       "     Year          Candidate                  Party\n",
       "0    1824     Andrew Jackson  Democratic-Republican\n",
       "1    1824  John Quincy Adams  Democratic-Republican\n",
       "2    1828     Andrew Jackson             Democratic\n",
       "3    1828  John Quincy Adams    National Republican\n",
       "4    1832     Andrew Jackson             Democratic\n",
       "..    ...                ...                    ...\n",
       "177  2016         Jill Stein                  Green\n",
       "178  2020       Joseph Biden             Democratic\n",
       "179  2020       Donald Trump             Republican\n",
       "180  2020       Jo Jorgensen            Libertarian\n",
       "181  2020     Howard Hawkins                  Green\n",
       "\n",
       "[182 rows x 3 columns]"
      ]
     },
     "execution_count": 43,
     "metadata": {},
     "output_type": "execute_result"
    }
   ],
   "source": [
    "elections.iloc[:, 0:3]"
   ]
  },
  {
   "cell_type": "markdown",
   "id": "eaee1d42",
   "metadata": {},
   "source": [
    "This discussion begs the question: when should we use `.loc` vs. `.iloc`? In most cases, `.loc` is generally safer to use. You can imagine `.iloc` may return incorrect values when applied to a dataset where the ordering of data can change. However, `.iloc` can still be useful — for example, if you are looking at a `DataFrame` of sorted movie earnings and want to get the median earnings for a given year, you can use `.iloc` to index into the middle.\n",
    "\n",
    "Overall, it is important to remember that:\n",
    "\n",
    "- `.loc` performances **l**abel-based extraction.\n",
    "- `.iloc` performs **i**nteger-based extraction.\n",
    "\n",
    "### Context-dependent Extraction: Indexing with `[]`\n",
    "\n",
    "The `[]` selection operator is the most baffling of all, yet the most commonly used. It only takes a single argument, which may be one of the following:\n",
    "\n",
    "1. A slice of row numbers.\n",
    "2. A list of column labels.\n",
    "3. A single-column label.\n",
    "\n",
    "That is, `[]` is *context-dependent*. Let's see some examples.\n",
    "\n",
    "#### A slice of row numbers\n",
    "\n",
    "Say we wanted the first four rows of our `elections` `DataFrame`.\n"
   ]
  },
  {
   "cell_type": "code",
   "execution_count": 44,
   "id": "a15b98af",
   "metadata": {},
   "outputs": [
    {
     "data": {
      "text/html": [
       "<div>\n",
       "<style scoped>\n",
       "    .dataframe tbody tr th:only-of-type {\n",
       "        vertical-align: middle;\n",
       "    }\n",
       "\n",
       "    .dataframe tbody tr th {\n",
       "        vertical-align: top;\n",
       "    }\n",
       "\n",
       "    .dataframe thead th {\n",
       "        text-align: right;\n",
       "    }\n",
       "</style>\n",
       "<table border=\"1\" class=\"dataframe\">\n",
       "  <thead>\n",
       "    <tr style=\"text-align: right;\">\n",
       "      <th></th>\n",
       "      <th>Year</th>\n",
       "      <th>Candidate</th>\n",
       "      <th>Party</th>\n",
       "      <th>Popular vote</th>\n",
       "      <th>Result</th>\n",
       "      <th>%</th>\n",
       "    </tr>\n",
       "  </thead>\n",
       "  <tbody>\n",
       "    <tr>\n",
       "      <th>0</th>\n",
       "      <td>1824</td>\n",
       "      <td>Andrew Jackson</td>\n",
       "      <td>Democratic-Republican</td>\n",
       "      <td>151271</td>\n",
       "      <td>loss</td>\n",
       "      <td>57.210122</td>\n",
       "    </tr>\n",
       "    <tr>\n",
       "      <th>1</th>\n",
       "      <td>1824</td>\n",
       "      <td>John Quincy Adams</td>\n",
       "      <td>Democratic-Republican</td>\n",
       "      <td>113142</td>\n",
       "      <td>win</td>\n",
       "      <td>42.789878</td>\n",
       "    </tr>\n",
       "    <tr>\n",
       "      <th>2</th>\n",
       "      <td>1828</td>\n",
       "      <td>Andrew Jackson</td>\n",
       "      <td>Democratic</td>\n",
       "      <td>642806</td>\n",
       "      <td>win</td>\n",
       "      <td>56.203927</td>\n",
       "    </tr>\n",
       "    <tr>\n",
       "      <th>3</th>\n",
       "      <td>1828</td>\n",
       "      <td>John Quincy Adams</td>\n",
       "      <td>National Republican</td>\n",
       "      <td>500897</td>\n",
       "      <td>loss</td>\n",
       "      <td>43.796073</td>\n",
       "    </tr>\n",
       "  </tbody>\n",
       "</table>\n",
       "</div>"
      ],
      "text/plain": [
       "   Year          Candidate                  Party  Popular vote Result  \\\n",
       "0  1824     Andrew Jackson  Democratic-Republican        151271   loss   \n",
       "1  1824  John Quincy Adams  Democratic-Republican        113142    win   \n",
       "2  1828     Andrew Jackson             Democratic        642806    win   \n",
       "3  1828  John Quincy Adams    National Republican        500897   loss   \n",
       "\n",
       "           %  \n",
       "0  57.210122  \n",
       "1  42.789878  \n",
       "2  56.203927  \n",
       "3  43.796073  "
      ]
     },
     "execution_count": 44,
     "metadata": {},
     "output_type": "execute_result"
    }
   ],
   "source": [
    "elections[0:4]"
   ]
  },
  {
   "cell_type": "markdown",
   "id": "e5382305",
   "metadata": {},
   "source": [
    "#### A list of column labels\n",
    "\n",
    "Suppose we now want the first four columns.\n"
   ]
  },
  {
   "cell_type": "code",
   "execution_count": 45,
   "id": "3c13ec88",
   "metadata": {},
   "outputs": [
    {
     "data": {
      "text/html": [
       "<div>\n",
       "<style scoped>\n",
       "    .dataframe tbody tr th:only-of-type {\n",
       "        vertical-align: middle;\n",
       "    }\n",
       "\n",
       "    .dataframe tbody tr th {\n",
       "        vertical-align: top;\n",
       "    }\n",
       "\n",
       "    .dataframe thead th {\n",
       "        text-align: right;\n",
       "    }\n",
       "</style>\n",
       "<table border=\"1\" class=\"dataframe\">\n",
       "  <thead>\n",
       "    <tr style=\"text-align: right;\">\n",
       "      <th></th>\n",
       "      <th>Year</th>\n",
       "      <th>Candidate</th>\n",
       "      <th>Party</th>\n",
       "      <th>Popular vote</th>\n",
       "    </tr>\n",
       "  </thead>\n",
       "  <tbody>\n",
       "    <tr>\n",
       "      <th>0</th>\n",
       "      <td>1824</td>\n",
       "      <td>Andrew Jackson</td>\n",
       "      <td>Democratic-Republican</td>\n",
       "      <td>151271</td>\n",
       "    </tr>\n",
       "    <tr>\n",
       "      <th>1</th>\n",
       "      <td>1824</td>\n",
       "      <td>John Quincy Adams</td>\n",
       "      <td>Democratic-Republican</td>\n",
       "      <td>113142</td>\n",
       "    </tr>\n",
       "    <tr>\n",
       "      <th>2</th>\n",
       "      <td>1828</td>\n",
       "      <td>Andrew Jackson</td>\n",
       "      <td>Democratic</td>\n",
       "      <td>642806</td>\n",
       "    </tr>\n",
       "    <tr>\n",
       "      <th>3</th>\n",
       "      <td>1828</td>\n",
       "      <td>John Quincy Adams</td>\n",
       "      <td>National Republican</td>\n",
       "      <td>500897</td>\n",
       "    </tr>\n",
       "    <tr>\n",
       "      <th>4</th>\n",
       "      <td>1832</td>\n",
       "      <td>Andrew Jackson</td>\n",
       "      <td>Democratic</td>\n",
       "      <td>702735</td>\n",
       "    </tr>\n",
       "    <tr>\n",
       "      <th>...</th>\n",
       "      <td>...</td>\n",
       "      <td>...</td>\n",
       "      <td>...</td>\n",
       "      <td>...</td>\n",
       "    </tr>\n",
       "    <tr>\n",
       "      <th>177</th>\n",
       "      <td>2016</td>\n",
       "      <td>Jill Stein</td>\n",
       "      <td>Green</td>\n",
       "      <td>1457226</td>\n",
       "    </tr>\n",
       "    <tr>\n",
       "      <th>178</th>\n",
       "      <td>2020</td>\n",
       "      <td>Joseph Biden</td>\n",
       "      <td>Democratic</td>\n",
       "      <td>81268924</td>\n",
       "    </tr>\n",
       "    <tr>\n",
       "      <th>179</th>\n",
       "      <td>2020</td>\n",
       "      <td>Donald Trump</td>\n",
       "      <td>Republican</td>\n",
       "      <td>74216154</td>\n",
       "    </tr>\n",
       "    <tr>\n",
       "      <th>180</th>\n",
       "      <td>2020</td>\n",
       "      <td>Jo Jorgensen</td>\n",
       "      <td>Libertarian</td>\n",
       "      <td>1865724</td>\n",
       "    </tr>\n",
       "    <tr>\n",
       "      <th>181</th>\n",
       "      <td>2020</td>\n",
       "      <td>Howard Hawkins</td>\n",
       "      <td>Green</td>\n",
       "      <td>405035</td>\n",
       "    </tr>\n",
       "  </tbody>\n",
       "</table>\n",
       "<p>182 rows × 4 columns</p>\n",
       "</div>"
      ],
      "text/plain": [
       "     Year          Candidate                  Party  Popular vote\n",
       "0    1824     Andrew Jackson  Democratic-Republican        151271\n",
       "1    1824  John Quincy Adams  Democratic-Republican        113142\n",
       "2    1828     Andrew Jackson             Democratic        642806\n",
       "3    1828  John Quincy Adams    National Republican        500897\n",
       "4    1832     Andrew Jackson             Democratic        702735\n",
       "..    ...                ...                    ...           ...\n",
       "177  2016         Jill Stein                  Green       1457226\n",
       "178  2020       Joseph Biden             Democratic      81268924\n",
       "179  2020       Donald Trump             Republican      74216154\n",
       "180  2020       Jo Jorgensen            Libertarian       1865724\n",
       "181  2020     Howard Hawkins                  Green        405035\n",
       "\n",
       "[182 rows x 4 columns]"
      ]
     },
     "execution_count": 45,
     "metadata": {},
     "output_type": "execute_result"
    }
   ],
   "source": [
    "elections[[\"Year\", \"Candidate\", \"Party\", \"Popular vote\"]]"
   ]
  },
  {
   "cell_type": "markdown",
   "id": "7871189d",
   "metadata": {},
   "source": [
    "#### A single-column label\n",
    "\n",
    "Lastly, `[]` allows us to extract only the `\"Candidate\"` column.\n"
   ]
  },
  {
   "cell_type": "code",
   "execution_count": 46,
   "id": "0ae0225e",
   "metadata": {},
   "outputs": [
    {
     "data": {
      "text/plain": [
       "0         Andrew Jackson\n",
       "1      John Quincy Adams\n",
       "2         Andrew Jackson\n",
       "3      John Quincy Adams\n",
       "4         Andrew Jackson\n",
       "             ...        \n",
       "177           Jill Stein\n",
       "178         Joseph Biden\n",
       "179         Donald Trump\n",
       "180         Jo Jorgensen\n",
       "181       Howard Hawkins\n",
       "Name: Candidate, Length: 182, dtype: object"
      ]
     },
     "execution_count": 46,
     "metadata": {},
     "output_type": "execute_result"
    }
   ],
   "source": [
    "elections[\"Candidate\"]"
   ]
  },
  {
   "cell_type": "markdown",
   "id": "b68f826e",
   "metadata": {},
   "source": [
    "The output is a `Series`! In this course, we'll become very comfortable with `[]`, especially for selecting columns. In practice, `[]` is much more common than `.loc`, especially since it is far more concise.\n",
    "\n",
    "## Parting Note\n",
    "\n",
    "The `pandas` library is enormous and contains many useful functions. Here is a link to its [documentation](https://pandas.pydata.org/docs/). We certainly don't expect you to memorize each and every method of the library, and we will give you a reference sheet for exams.\n",
    "\n",
    "The introductory Data 100 `pandas` lectures will provide a high-level view of the key data structures and methods that will form the foundation of your `pandas` knowledge. A goal of this course is to help you build your familiarity with the real-world programming practice of ... Googling! Answers to your questions can be found in documentation, Stack Overflow, etc. Being able to search for, read, and implement documentation is an important life skill for any data scientist. \n",
    "\n",
    "With that, we will move on to Pandas II!\n"
   ]
  }
 ],
 "metadata": {
  "kernelspec": {
   "display_name": "Python 3 (ipykernel)",
   "language": "python",
   "name": "python3"
  },
  "language_info": {
   "codemirror_mode": {
    "name": "ipython",
    "version": 3
   },
   "file_extension": ".py",
   "mimetype": "text/x-python",
   "name": "python",
   "nbconvert_exporter": "python",
   "pygments_lexer": "ipython3",
   "version": "3.11.5"
  }
 },
 "nbformat": 4,
 "nbformat_minor": 5
}
