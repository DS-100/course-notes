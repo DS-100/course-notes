{
  "cells": [
    {
      "cell_type": "markdown",
      "metadata": {},
      "source": [
        "---\n",
        "title: Pandas I\n",
        "format:\n",
        "  html:\n",
        "    toc: true\n",
        "    toc-depth: 5\n",
        "    toc-location: right\n",
        "    code-fold: false\n",
        "    theme:\n",
        "      - cosmo\n",
        "      - cerulean\n",
        "    callout-icon: false\n",
        "jupyter: python3\n",
        "---\n",
        "\n",
        "::: {.callout-note collapse=\"false\"}\n",
        "## Learning Outcomes\n",
        "\n",
        "- Learn more key data structures: `DataFrame` and `Index`.\n",
        "- Understand methods for extracting data: `.loc`, `.iloc`, and `[]`.\n",
        ":::\n",
        "\n",
        "We continue learning tabular data abstraction, going over `DataFrame` and `Index` objects.\n",
        "\n",
        "## `DataFrame`s and Indices\n",
        "\n",
        "### `DataFrame`"
      ],
      "id": "0a3e3dcf"
    },
    {
      "cell_type": "code",
      "metadata": {},
      "source": [
        "import pandas as pd\n",
        "elections = pd.read_csv(\"data/elections.csv\")\n",
        "elections"
      ],
      "id": "986517db",
      "execution_count": null,
      "outputs": []
    },
    {
      "cell_type": "markdown",
      "metadata": {},
      "source": [
        "The code above code stores our `DataFrame` object in the ````elections```` variable. Upon inspection, our ````elections```` `DataFrame` has 182 rows and 6 columns (`Year`, `Candidate`, `Party`, `Popular Vote`, `Result`, `%`). Each row represents a single record — in our example, a presidential candidate from some particular year. Each column represents a single attribute or feature of the record.\n",
        "\n",
        "##### Using a List and Column Name(s)\n",
        "\n",
        "We'll now explore creating a `DataFrame` with data of our own.\n",
        "\n",
        "Consider the following examples. The first code cell creates a `DataFrame` with a single column `Numbers`. "
      ],
      "id": "9adf9480"
    },
    {
      "cell_type": "code",
      "metadata": {},
      "source": [
        "df_list = pd.DataFrame([1, 2, 3], columns=[\"Numbers\"])\n",
        "df_list"
      ],
      "id": "d5a5d2ff",
      "execution_count": null,
      "outputs": []
    },
    {
      "cell_type": "markdown",
      "metadata": {},
      "source": [
        "The second creates a `DataFrame` with the columns `Numbers` and `Description`. Notice how a 2D list of values is required to initialize the second `DataFrame` — each nested list represents a single row of data."
      ],
      "id": "69cb8c16"
    },
    {
      "cell_type": "code",
      "metadata": {},
      "source": [
        "df_list = pd.DataFrame([[1, \"one\"], [2, \"two\"]], columns = [\"Number\", \"Description\"])\n",
        "df_list"
      ],
      "id": "ceee4632",
      "execution_count": null,
      "outputs": []
    },
    {
      "cell_type": "markdown",
      "metadata": {},
      "source": [
        "##### From a Dictionary\n",
        "\n",
        "A third (and more common) way to create a `DataFrame` is with a dictionary. The dictionary keys represent the column names, and the dictionary values represent the column values.\n",
        "\n",
        "Below are two ways of implementing this approach. The first is based on specifying the columns of the `DataFrame`, whereas the second is based on specifying the rows of the `DataFrame`."
      ],
      "id": "86a69119"
    },
    {
      "cell_type": "code",
      "metadata": {},
      "source": [
        "df_dict = pd.DataFrame({\n",
        "    \"Fruit\": [\"Strawberry\", \"Orange\"], \n",
        "    \"Price\": [5.49, 3.99]\n",
        "})\n",
        "df_dict"
      ],
      "id": "ba35d4f9",
      "execution_count": null,
      "outputs": []
    },
    {
      "cell_type": "code",
      "metadata": {},
      "source": [
        "df_dict = pd.DataFrame(\n",
        "    [\n",
        "        {\"Fruit\":\"Strawberry\", \"Price\":5.49}, \n",
        "        {\"Fruit\": \"Orange\", \"Price\":3.99}\n",
        "    ]\n",
        ")\n",
        "df_dict"
      ],
      "id": "e2f49e02",
      "execution_count": null,
      "outputs": []
    },
    {
      "cell_type": "markdown",
      "metadata": {},
      "source": [
        "##### From a `Series`\n",
        "\n",
        "Earlier, we explained how a `Series` was synonymous to a column in a `DataFrame`. It follows, then, that a `DataFrame` is equivalent to a collection of `Series`, which all share the same `Index`. \n",
        "\n",
        "In fact, we can initialize a `DataFrame` by merging two or more `Series`. Consider the `Series` `s_a` and `s_b`."
      ],
      "id": "e42cb0a5"
    },
    {
      "cell_type": "code",
      "metadata": {},
      "source": [
        "# Notice how our indices, or row labels, are the same\n",
        "\n",
        "s_a = pd.Series([\"a1\", \"a2\", \"a3\"], index = [\"r1\", \"r2\", \"r3\"])\n",
        "s_b = pd.Series([\"b1\", \"b2\", \"b3\"], index = [\"r1\", \"r2\", \"r3\"])"
      ],
      "id": "956b3c91",
      "execution_count": null,
      "outputs": []
    },
    {
      "cell_type": "markdown",
      "metadata": {},
      "source": [
        "We can turn individual `Series` into a `DataFrame` using two common methods (shown below): "
      ],
      "id": "407c865a"
    },
    {
      "cell_type": "code",
      "metadata": {},
      "source": [
        "pd.DataFrame(s_a)"
      ],
      "id": "6d586b12",
      "execution_count": null,
      "outputs": []
    },
    {
      "cell_type": "code",
      "metadata": {},
      "source": [
        "s_b.to_frame()"
      ],
      "id": "df8e0d56",
      "execution_count": null,
      "outputs": []
    },
    {
      "cell_type": "markdown",
      "metadata": {},
      "source": [
        "To merge the two `Series` and specify their column names, we use the following syntax:"
      ],
      "id": "ae6b7a55"
    },
    {
      "cell_type": "code",
      "metadata": {},
      "source": [
        "pd.DataFrame({\n",
        "    \"A-column\": s_a, \n",
        "    \"B-column\": s_b\n",
        "})"
      ],
      "id": "9341c5d8",
      "execution_count": null,
      "outputs": []
    },
    {
      "cell_type": "markdown",
      "metadata": {},
      "source": [
        "### Indices\n",
        "\n",
        "On a more technical note, an index doesn't have to be an integer, nor does it have to be unique. For example, we can set the index of the `elections` `DataFrame` to be the name of presidential candidates. "
      ],
      "id": "62b8ec4e"
    },
    {
      "cell_type": "code",
      "metadata": {},
      "source": [
        "# Creating a DataFrame from a CSV file and specifying the index column\n",
        "elections = pd.read_csv(\"data/elections.csv\", index_col = \"Candidate\")\n",
        "elections"
      ],
      "id": "23e0a178",
      "execution_count": null,
      "outputs": []
    },
    {
      "cell_type": "markdown",
      "metadata": {},
      "source": [
        "We can also select a new column and set it as the index of the `DataFrame`. For example, we can set the index of the `elections` `DataFrame` to represent the candidate's party."
      ],
      "id": "3cbb88f6"
    },
    {
      "cell_type": "code",
      "metadata": {},
      "source": [
        "elections.reset_index(inplace = True) # Resetting the index so we can set it again\n",
        "# This sets the index to the \"Party\" column\n",
        "elections.set_index(\"Party\")"
      ],
      "id": "7f95fb29",
      "execution_count": null,
      "outputs": []
    },
    {
      "cell_type": "markdown",
      "metadata": {},
      "source": [
        "And, if we'd like, we can revert the index back to the default list of integers."
      ],
      "id": "39aec656"
    },
    {
      "cell_type": "code",
      "metadata": {},
      "source": [
        "# This resets the index to be the default list of integer\n",
        "elections.reset_index(inplace=True) \n",
        "elections.index"
      ],
      "id": "260ce466",
      "execution_count": null,
      "outputs": []
    },
    {
      "cell_type": "markdown",
      "metadata": {},
      "source": [
        "It is also important to note that the row labels that constitute an index don't have to be unique. While index values can be unique and numeric, acting as a row number, they can also be named and non-unique. \n",
        "\n",
        "Here we see unique and numeric index values.\n",
        "\n",
        "<center><img src = \"images/uniqueindex.png\" width = \"400\"></img></a></center>\n",
        "\n",
        "However, here the index values are not unique. \n",
        "\n",
        "<center><img src = \"images/non-uniqueindex.png\" width = \"400\"></img></a></center>\n",
        "\n",
        "\n",
        "## `DataFrame` Attributes: Index, Columns, and Shape\n",
        "\n",
        "On the other hand, column names in a `DataFrame` are almost always unique. Looking back to the `elections` dataset, it wouldn't make sense to have two columns named `\"Candidate\"`. Sometimes, you'll want to extract these different values, in particular, the list of row and column labels.\n",
        "\n",
        "For index/row labels, use `DataFrame.index`:"
      ],
      "id": "a52a722e"
    },
    {
      "cell_type": "code",
      "metadata": {},
      "source": [
        "elections.set_index(\"Party\", inplace = True)\n",
        "elections.index"
      ],
      "id": "17748701",
      "execution_count": null,
      "outputs": []
    },
    {
      "cell_type": "markdown",
      "metadata": {},
      "source": [
        "For column labels, use `DataFrame.columns`:"
      ],
      "id": "a3a8eff9"
    },
    {
      "cell_type": "code",
      "metadata": {},
      "source": [
        "elections.columns"
      ],
      "id": "b550d7cc",
      "execution_count": null,
      "outputs": []
    },
    {
      "cell_type": "markdown",
      "metadata": {},
      "source": [
        "And for the shape of the `DataFrame`, we can use `DataFrame.shape` to get the number of rows followed by the number of columns:"
      ],
      "id": "43b6c4d5"
    },
    {
      "cell_type": "code",
      "metadata": {},
      "source": [
        "elections.shape"
      ],
      "id": "f532983e",
      "execution_count": null,
      "outputs": []
    },
    {
      "cell_type": "markdown",
      "metadata": {},
      "source": [
        "## Slicing in `DataFrame`s\n",
        "\n",
        "Now that we've learned more about `DataFrame`s, let's dive deeper into their capabilities. \n",
        "\n",
        "The API (Application Programming Interface) for the `DataFrame` class is enormous. In this section, we'll discuss several methods of the `DataFrame` API that allow us to extract subsets of data.\n",
        "\n",
        "The simplest way to manipulate a `DataFrame` is to extract a subset of rows and columns, known as **slicing**. \n",
        "\n",
        "Common ways we may want to extract data are grabbing:\n",
        "\n",
        "- The first or last `n` rows in the `DataFrame`.\n",
        "- Data with a certain label.\n",
        "- Data at a certain position.\n",
        "\n",
        "We will do so with four primary methods of the `DataFrame` class:\n",
        "\n",
        "1. `.head` and `.tail`\n",
        "2. `.loc`\n",
        "3. `.iloc`\n",
        "4. `[]`\n",
        "\n",
        "### Extracting data with `.head` and `.tail`\n",
        "\n",
        "The simplest scenario in which we want to extract data is when we simply want to select the first or last few rows of the `DataFrame`.\n",
        "\n",
        "To extract the first `n` rows of a `DataFrame` `df`, we use the syntax `df.head(n)`."
      ],
      "id": "f29609b5"
    },
    {
      "cell_type": "code",
      "metadata": {},
      "source": [
        "#| code-fold: true\n",
        "elections = pd.read_csv(\"data/elections.csv\")"
      ],
      "id": "1dbfcc48",
      "execution_count": null,
      "outputs": []
    },
    {
      "cell_type": "code",
      "metadata": {},
      "source": [
        "# Extract the first 5 rows of the DataFrame\n",
        "elections.head(5)"
      ],
      "id": "d3448a0b",
      "execution_count": null,
      "outputs": []
    },
    {
      "cell_type": "markdown",
      "metadata": {},
      "source": [
        "Similarly, calling `df.tail(n)` allows us to extract the last `n` rows of the `DataFrame`.  "
      ],
      "id": "cb3a9df1"
    },
    {
      "cell_type": "code",
      "metadata": {},
      "source": [
        "# Extract the last 5 rows of the DataFrame\n",
        "elections.tail(5)"
      ],
      "id": "91975520",
      "execution_count": null,
      "outputs": []
    },
    {
      "cell_type": "markdown",
      "metadata": {},
      "source": [
        "### Label-based Extraction: Indexing with `.loc`\n",
        "\n",
        "For the more complex task of extracting data with specific column or index labels, we can use `.loc`. The `.loc` accessor allows us to specify the ***labels*** of rows and columns we wish to extract. The **labels** (commonly referred to as the **indices**) are the bold text on the far *left* of a `DataFrame`, while the **column labels** are the column names found at the *top* of a `DataFrame`.\n",
        "\n",
        "<center><img src = \"images/locgraphic.png\" width = \"800\"></img></a></center>\n",
        "\n",
        "\n",
        "To grab data with `.loc`, we must specify the row and column label(s) where the data exists. The row labels are the first argument to the `.loc` function; the column labels are the second.\n",
        "\n",
        "Arguments to `.loc` can be:\n",
        "\n",
        "- A single value.\n",
        "- A slice.\n",
        "- A list.\n",
        "\n",
        "For example, to select a single value, we can select the row labeled `0` and the column labeled `Candidate` from the `elections` `DataFrame`."
      ],
      "id": "d4e794c3"
    },
    {
      "cell_type": "code",
      "metadata": {},
      "source": [
        "elections.loc[0, 'Candidate']"
      ],
      "id": "1fe9e7a8",
      "execution_count": null,
      "outputs": []
    },
    {
      "cell_type": "markdown",
      "metadata": {},
      "source": [
        "Keep in mind that passing in just one argument as a single value will produce a `Series`. Below, we've extracted a subset of the `\"Popular vote\"` column as a `Series`."
      ],
      "id": "647aa531"
    },
    {
      "cell_type": "code",
      "metadata": {},
      "source": [
        "elections.loc[[87, 25, 179], \"Popular vote\"]"
      ],
      "id": "4c336b34",
      "execution_count": null,
      "outputs": []
    },
    {
      "cell_type": "markdown",
      "metadata": {},
      "source": [
        "Note that if we pass `\"Popular vote\"` as a list, the output will be a `DataFrame`."
      ],
      "id": "00783c21"
    },
    {
      "cell_type": "code",
      "metadata": {},
      "source": [
        "elections.loc[[87, 25, 179], [\"Popular vote\"]]"
      ],
      "id": "2d636174",
      "execution_count": null,
      "outputs": []
    },
    {
      "cell_type": "markdown",
      "metadata": {},
      "source": [
        "To select *multiple* rows and columns, we can use Python slice notation. Here, we select the rows from labels `0` to `3` and the columns from labels `\"Year\"` to `\"Popular vote\"`. Notice that unlike Python slicing, `.loc` is *inclusive* of the right upper bound."
      ],
      "id": "b04ad67f"
    },
    {
      "cell_type": "code",
      "metadata": {},
      "source": [
        "elections.loc[0:3, 'Year':'Popular vote']"
      ],
      "id": "992e89aa",
      "execution_count": null,
      "outputs": []
    },
    {
      "cell_type": "markdown",
      "metadata": {},
      "source": [
        "Suppose that instead, we want to extract *all* column values for the first four rows in the `elections` `DataFrame`. The shorthand `:` is useful for this."
      ],
      "id": "fe015b70"
    },
    {
      "cell_type": "code",
      "metadata": {},
      "source": [
        "elections.loc[0:3, :]"
      ],
      "id": "f14da7a3",
      "execution_count": null,
      "outputs": []
    },
    {
      "cell_type": "markdown",
      "metadata": {},
      "source": [
        "We can use the same shorthand to extract all rows. "
      ],
      "id": "27fc6698"
    },
    {
      "cell_type": "code",
      "metadata": {},
      "source": [
        "elections.loc[:, [\"Year\", \"Candidate\", \"Result\"]]"
      ],
      "id": "82d8d6b5",
      "execution_count": null,
      "outputs": []
    },
    {
      "cell_type": "markdown",
      "metadata": {},
      "source": [
        "There are a couple of things we should note. Firstly, unlike conventional Python, `pandas` allows us to slice string values (in our example, the column labels). Secondly, slicing with `.loc` is *inclusive*. Notice how our resulting `DataFrame` includes every row and column between and including the slice labels we specified.\n",
        "\n",
        "Equivalently, we can use a list to obtain multiple rows and columns in our `elections` `DataFrame`. "
      ],
      "id": "c47eef0b"
    },
    {
      "cell_type": "code",
      "metadata": {},
      "source": [
        "elections.loc[[0, 1, 2, 3], ['Year', 'Candidate', 'Party', 'Popular vote']]"
      ],
      "id": "12ed4a4a",
      "execution_count": null,
      "outputs": []
    },
    {
      "cell_type": "markdown",
      "metadata": {},
      "source": [
        "Lastly, we can interchange list and slicing notation."
      ],
      "id": "80a32c85"
    },
    {
      "cell_type": "code",
      "metadata": {},
      "source": [
        "elections.loc[[0, 1, 2, 3], :]"
      ],
      "id": "ca23fd90",
      "execution_count": null,
      "outputs": []
    },
    {
      "cell_type": "markdown",
      "metadata": {},
      "source": [
        "### Integer-based Extraction: Indexing with `.iloc`\n",
        "\n",
        "Slicing with `.iloc` works similarly to `.loc`. However, `.iloc` uses the *index positions* of rows and columns rather than the labels (think to yourself: **l**oc uses **l**ables; **i**loc uses **i**ndices). The arguments to the `.iloc` function also behave similarly — single values, lists, indices, and any combination of these are permitted. \n",
        "\n",
        "Let's begin reproducing our results from above. We'll begin by selecting the first presidential candidate in our `elections` `DataFrame`:"
      ],
      "id": "5d3f0fec"
    },
    {
      "cell_type": "code",
      "metadata": {},
      "source": [
        "# elections.loc[0, \"Candidate\"] - Previous approach\n",
        "elections.iloc[0, 1]"
      ],
      "id": "89b8374d",
      "execution_count": null,
      "outputs": []
    },
    {
      "cell_type": "markdown",
      "metadata": {},
      "source": [
        "Notice how the first argument to both `.loc` and `.iloc` are the same. This is because the row with a label of `0` is conveniently in the $0^{\\text{th}}$ (equivalently, the first position) of the `elections` `DataFrame`. Generally, this is true of any `DataFrame` where the row labels are incremented in ascending order from 0.\n",
        "\n",
        "And, as before, if we were to pass in only one single value argument, our result would be a `Series`."
      ],
      "id": "66eac1d3"
    },
    {
      "cell_type": "code",
      "metadata": {},
      "source": [
        "elections.iloc[[1,2,3],1]"
      ],
      "id": "02dcb295",
      "execution_count": null,
      "outputs": []
    },
    {
      "cell_type": "markdown",
      "metadata": {},
      "source": [
        "However, when we select the first four rows and columns using `.iloc`, we notice something."
      ],
      "id": "7d93913a"
    },
    {
      "cell_type": "code",
      "metadata": {},
      "source": [
        "# elections.loc[0:3, 'Year':'Popular vote'] - Previous approach\n",
        "elections.iloc[0:4, 0:4]"
      ],
      "id": "15c3faca",
      "execution_count": null,
      "outputs": []
    },
    {
      "cell_type": "markdown",
      "metadata": {},
      "source": [
        "Slicing is no longer inclusive in `.iloc` — it's *exclusive*. In other words, the right end of a slice is not included when using `.iloc`. This is one of the subtleties of `pandas` syntax; you will get used to it with practice.\n",
        "\n",
        "List behavior works just as expected."
      ],
      "id": "27ded01e"
    },
    {
      "cell_type": "code",
      "metadata": {},
      "source": [
        "#elections.loc[[0, 1, 2, 3], ['Year', 'Candidate', 'Party', 'Popular vote']] - Previous Approach\n",
        "elections.iloc[[0, 1, 2, 3], [0, 1, 2, 3]]"
      ],
      "id": "216f26ae",
      "execution_count": null,
      "outputs": []
    },
    {
      "cell_type": "markdown",
      "metadata": {},
      "source": [
        "And just like with `.loc`, we can use a colon with `.iloc` to extract all rows or columns."
      ],
      "id": "9186dd74"
    },
    {
      "cell_type": "code",
      "metadata": {},
      "source": [
        "elections.iloc[:, 0:3]"
      ],
      "id": "be91a966",
      "execution_count": null,
      "outputs": []
    },
    {
      "cell_type": "markdown",
      "metadata": {},
      "source": [
        "This discussion begs the question: when should we use `.loc` vs. `.iloc`? In most cases, `.loc` is generally safer to use. You can imagine `.iloc` may return incorrect values when applied to a dataset where the ordering of data can change. However, `.iloc` can still be useful — for example, if you are looking at a `DataFrame` of sorted movie earnings and want to get the median earnings for a given year, you can use `.iloc` to index into the middle.\n",
        "\n",
        "Overall, it is important to remember that:\n",
        "\n",
        "- `.loc` performances **l**abel-based extraction.\n",
        "- `.iloc` performs **i**nteger-based extraction.\n",
        "\n",
        "### Context-dependent Extraction: Indexing with `[]`\n",
        "\n",
        "The `[]` selection operator is the most baffling of all, yet the most commonly used. It only takes a single argument, which may be one of the following:\n",
        "\n",
        "1. A slice of row numbers.\n",
        "2. A list of column labels.\n",
        "3. A single-column label.\n",
        "\n",
        "That is, `[]` is *context-dependent*. Let's see some examples.\n",
        "\n",
        "#### A slice of row numbers\n",
        "\n",
        "Say we wanted the first four rows of our `elections` `DataFrame`."
      ],
      "id": "bfe578a4"
    },
    {
      "cell_type": "code",
      "metadata": {},
      "source": [
        "elections[0:4]"
      ],
      "id": "d6e773bc",
      "execution_count": null,
      "outputs": []
    },
    {
      "cell_type": "markdown",
      "metadata": {},
      "source": [
        "#### A list of column labels\n",
        "\n",
        "Suppose we now want the first four columns."
      ],
      "id": "eb4d0b51"
    },
    {
      "cell_type": "code",
      "metadata": {},
      "source": [
        "elections[[\"Year\", \"Candidate\", \"Party\", \"Popular vote\"]]"
      ],
      "id": "9f826ae3",
      "execution_count": null,
      "outputs": []
    },
    {
      "cell_type": "markdown",
      "metadata": {},
      "source": [
        "#### A single-column label\n",
        "\n",
        "Lastly, `[]` allows us to extract only the `\"Candidate\"` column."
      ],
      "id": "02fed33d"
    },
    {
      "cell_type": "code",
      "metadata": {},
      "source": [
        "elections[\"Candidate\"]"
      ],
      "id": "67c37e1b",
      "execution_count": null,
      "outputs": []
    },
    {
      "cell_type": "markdown",
      "metadata": {},
      "source": [
        "The output is a `Series`! In this course, we'll become very comfortable with `[]`, especially for selecting columns. In practice, `[]` is much more common than `.loc`, especially since it is far more concise.\n",
        "\n",
        "## Parting Note\n",
        "\n",
        "The `pandas` library is enormous and contains many useful functions. Here is a link to its [documentation](https://pandas.pydata.org/docs/). We certainly don't expect you to memorize each and every method of the library, and we will give you a reference sheet for exams.\n",
        "\n",
        "The introductory Data 100 `pandas` lectures will provide a high-level view of the key data structures and methods that will form the foundation of your `pandas` knowledge. A goal of this course is to help you build your familiarity with the real-world programming practice of ... Googling! Answers to your questions can be found in documentation, Stack Overflow, etc. Being able to search for, read, and implement documentation is an important life skill for any data scientist. \n",
        "\n",
        "With that, we will move on to Pandas II!\n"
      ],
      "id": "0209d889"
    }
  ],
  "metadata": {
    "kernelspec": {
      "name": "python3",
      "language": "python",
      "display_name": "Python 3 (ipykernel)",
      "path": "/Library/Frameworks/Python.framework/Versions/3.12/share/jupyter/kernels/python3"
    }
  },
  "nbformat": 4,
  "nbformat_minor": 5
}