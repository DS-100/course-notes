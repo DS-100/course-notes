{
  "cells": [
    {
      "cell_type": "raw",
      "metadata": {},
      "source": [
        "---\n",
        "title: Introduction\n",
        "format:\n",
        "  html:\n",
        "    toc: true\n",
        "    toc-depth: 5\n",
        "    toc-location: right\n",
        "    code-fold: false\n",
        "    theme:\n",
        "      - cosmo\n",
        "      - cerulean\n",
        "    callout-icon: false\n",
        "---"
      ]
    },
    {
      "attachments": {},
      "cell_type": "markdown",
      "metadata": {},
      "source": [
        "::: {.callout-note collapse=\"true\"}\n",
        "## Learning Outcomes\n",
        "\n",
        "- Data science can start with either data or a question.\n",
        "- The goal of data science is to understand the world through understanding data. \n",
        "\n",
        ":::\n",
        "\n",
        "The day-to-day work of data scientists is highly variable and can be difficult to fully explain in a single page. However, the higher-level goals of a data scientist can be destilled into 4 steps to aid in better understanding the mission of data scientists.  \n",
        "\n",
        "## Data Science Lifecycle\n",
        "\n",
        "The data science lifecycle is a tool that provides high-level descriptions of the different parts of a data science workflow. There are many variations of this key idea, and this one is read as a flow diagram. Notice that there are two entry points at the top which are equally valid. \n",
        "\n",
        "![Lifecycle diagram](data_life_cycle.PNG)"
      ]
    },
    {
      "attachments": {},
      "cell_type": "markdown",
      "metadata": {},
      "source": [
        "### Ask a Question \n",
        "\n",
        "Whether by curiosity or necessity, data scientists will constantly be asking questions. In the world of business, we can be interested in what decisions will result in the highest profits. In medicine, we could ask whether certain patients are likely to benefit from treatment. This is one of the ways the data science life cycle begins. Before proceeding past this phase, it helps to fully define the question. Some questions to ask are:\n",
        "\n",
        "1. What do we want to know? \n",
        "    - A question that is too ambiguous may lead to confusion.\n",
        "2. What problems are we trying to solve?\n",
        "    - The goal of asking a question should be clear in order to justify your efforts to stakeholders.\n",
        "3. What are the hypotheses we want to test?\n",
        "    - This gives a clear perspective from which to analyze final results.\n",
        "4. What are the metrics for our success?\n",
        "    - This gives a clear point to know when to finish the project.\n",
        "\n",
        "![Ask a Question](ask_question.PNG)"
      ]
    },
    {
      "attachments": {},
      "cell_type": "markdown",
      "metadata": {},
      "source": [
        "### Obtain Data \n",
        "No data science project can start without the actual data. We can either start with data we have readily avaliable or collect specific data in order to answer a question we have. When collecting data, its crucial to ask the following:  \n",
        "\n",
        "\n",
        "- What data do we have and what data do we need?\n",
        "    - Define the units of the data (people, cities, points in time, etc.) and what features to measure.\n",
        "- How will we sample more data?\n",
        "    - Scrape the web, collect manually, etc.\n",
        "- Is our data representative of the population we want to study?\n",
        "    - If our data is not representative of our population of interest, then we can come to incorrect conclusions.\n",
        "\n",
        "Key procedures: *data acquisition*, *data cleaning*\n",
        "\n",
        "![Obtain Data](data_acquisition.PNG)"
      ]
    },
    {
      "attachments": {},
      "cell_type": "markdown",
      "metadata": {},
      "source": [
        "### Understand the Data\n",
        "\n",
        "Raw data itself is not inherently useful. It's impossible to know everything about a set of data without actually taking the time to analyze it. Here, we turn raw data into insights. Here are some helpful questions to ask yourself throughout this phase:\n",
        "\n",
        "\n",
        "- How is our data organized and what does it contain?\n",
        "    - Knowing what the data says about the world helps us better understand the world. \n",
        "- Do we have relevant data?\n",
        "    - If the data we have collected is not useful to the question at hand, then we must collected more data.\n",
        "- What are the biases, anomalies, or other issues with the data?\n",
        "    - These can lead to many false conclusions if ignored, so data scientists must always be aware of these issues. \n",
        "- How do we transform the data to enable effective analysis?\n",
        "    - Data is not always easy to interpret at first glance, so a data scientist should reveal these hidden insights. \n",
        "\n",
        "Key procedures: *Exploratory data analysis*, creating *visualizations*.\n",
        "\n",
        "![Understand the Data](understand_data.PNG)"
      ]
    },
    {
      "attachments": {},
      "cell_type": "markdown",
      "metadata": {},
      "source": [
        "### Understand the World\n",
        "After learning all that we can about the data in a vacuum, we transition to the \"so what?\" part of the life cycle. Translating from pure data to worldly insights is a key job of a data scientist. Some important questions to ask are:\n",
        "\n",
        "- What does the data say about the world?\n",
        "    - Given our models, the data will lead us to certain conclusions about the real world.   \n",
        "- Does it answer our questions or accurately solve the problem?\n",
        "    - If our model and data can not accomplish our goals, then we must reform our question, model, or both.  \n",
        "- How robust are our conclusions and can we trust the predictions?\n",
        "    - Inaccurate models can lead to untrue conclusions.\n",
        "\n",
        "Key procedures: Building and tuning *models*, conducting *inference*, creating *predictions*.\n",
        "\n",
        "\n",
        "![Understand the World](understand_world.PNG)"
      ]
    },
    {
      "attachments": {},
      "cell_type": "markdown",
      "metadata": {},
      "source": [
        "## Conclusion\n",
        "\n",
        "The data science life cycle is meant more as a set of guidelines rather than hard rules. The details of each step will be fleshed out in future sections. Hopefully this provided a clearer picture as to what a data scientist's job looks like!"
      ]
    },
    {
      "cell_type": "markdown",
      "metadata": {},
      "source": []
    }
  ],
  "metadata": {
    "kernelspec": {
      "display_name": "base",
      "language": "python",
      "name": "python3"
    },
    "language_info": {
      "codemirror_mode": {
        "name": "ipython",
        "version": 3
      },
      "file_extension": ".py",
      "mimetype": "text/x-python",
      "name": "python",
      "nbconvert_exporter": "python",
      "pygments_lexer": "ipython3",
      "version": "3.9.13 (main, Aug 25 2022, 23:51:50) [MSC v.1916 64 bit (AMD64)]"
    },
    "vscode": {
      "interpreter": {
        "hash": "88279d2366fe020547cde40dd65aa0e3aa662a6ec1f3ca12d88834876c85e1a6"
      }
    }
  },
  "nbformat": 4,
  "nbformat_minor": 4
}
