{
  "cells": [
    {
      "cell_type": "markdown",
      "metadata": {},
      "source": [
        "---\n",
        "title: Introduction\n",
        "format:\n",
        "  html:\n",
        "    toc: true\n",
        "    toc-depth: 5\n",
        "    toc-location: right\n",
        "    code-fold: false\n",
        "    theme:\n",
        "      - cosmo\n",
        "      - cerulean\n",
        "    callout-icon: false\n",
        "jupyter:\n",
        "  jupytext:\n",
        "    text_representation:\n",
        "      extension: .qmd\n",
        "      format_name: quarto\n",
        "      format_version: '1.0'\n",
        "      jupytext_version: 1.16.1\n",
        "  kernelspec:\n",
        "    display_name: Python 3 (ipykernel)\n",
        "    language: python\n",
        "    name: python3\n",
        "---\n",
        "\n",
        "::: {.callout-note collapse=\"false\"}\n",
        "## Learning Outcomes\n",
        "- Acquaint yourself with the overarching goals of Data 100.\n",
        "- Understand the stages of the data science lifecycle.\n",
        "- Build familiarity with `pandas` and `pandas` syntax.\n",
        "- Learn a key data structure: `Series`.\n",
        ":::\n",
        "\n",
        "Data science is an interdisciplinary field with a variety of applications and offers great potential to address challenging societal issues. By building data science skills, you can empower yourself to participate in and drive conversations that shape your life and society as a whole, whether that be fighting against climate change, launching diversity initiatives, or more. \n",
        "\n",
        "The field of data science is rapidly evolving; many of the key technical underpinnings in modern-day data science have been popularized during the early 21^st^ century, and you will learn them throughout the course. It has a wide range of applications from science and medicine to sports. \n",
        "\n",
        "While data science has immense potential to address challenging problems facing society by enhancing our critical thinking, it can also be used obscure complex decisions and reinforce historical trends and biases. This course will implore you to consider the ethics of data science within its applications. \n",
        "\n",
        "Data science is fundamentally human-centered and facilitates decision-making by quantitatively balancing tradeoffs. To quantify things reliably, we must use and analyze data appropriately, apply critical thinking and skepticism at every step of the way, and consider how our decisions affect others.\n",
        "\n",
        "Ultimately, data science is the application of data-centric, computational, and inferential thinking to:\n",
        "\n",
        "- Understand the world (science).\n",
        "- Solve problems (engineering).\n",
        "\n",
        "<div style=\"text-align: center;\"> <img src=\"images/venn.png\" alt='venn' width='450'></div>\n",
        "\n",
        "A true mastery of data science requires a deep theoretical understanding and strong grasp of domain expertise. This course will help you build on the former -- specifically, the foundation of your technical knowledge, allowing you to take data and produce useful insights on the world's most challenging and ambiguous problems. \n",
        "\n",
        "::: {.callout-note collapse=\"true\"}\n",
        "## Course Goals\n",
        "- Prepare you for advanced Berkeley courses in **data management, machine learning, and statistics.**\n",
        "- Enable you to launch a career as a data scientist by providing experience working with **real-world data, tools, and techniques**.\n",
        "- Empower you to apply computational and inferential thinking to address **real-world problems**.\n",
        ":::\n",
        "\n",
        "::: {.callout-note collapse=\"true\"}\n",
        "## Some Topics We'll Cover\n",
        "- `pandas` and `NumPy`\n",
        "- Exploratory Data Analysis\n",
        "- Regular Expressions\n",
        "- Visualization\n",
        "- Sampling\n",
        "- Model Design and Loss Formulation\n",
        "- Linear Regression\n",
        "- Gradient Descent\n",
        "- Logistic Regression\n",
        "- Clustering \n",
        "- PCA\n",
        ":::\n",
        "\n",
        "::: {.callout-note collapse=\"true\"}\n",
        "## Prerequisites\n",
        "To ensure that you can get the most out of the course content, please make sure that you are familiar with: \n",
        "\n",
        "- Using Python.\n",
        "- Using Jupyter notebooks.\n",
        "- Inference from Data 8.\n",
        "- Linear algebra\n",
        ":::\n",
        "\n",
        "To set you up for success, we've organized concepts in Data 100 around the **data science lifecycle**: an *iterative* process that encompasses the various statistical and computational building blocks of data science. \n",
        "\n",
        "## Data Science Lifecycle\n",
        "\n",
        "The data science lifecycle is a *high-level overview* of the data science workflow. It's a cycle of stages that a data scientist should explore as they conduct a thorough analysis of a data-driven problem. \n",
        "\n",
        "There are many variations of the key ideas present in the data science lifecycle. In Data 100, we visualize the stages of the lifecycle using a flow diagram. Notice how there are two entry points. \n",
        "\n",
        "<div style=\"text-align: center;\"><img src=\"images/data_life_cycle.PNG\" alt='data_life_cycle' width='500'></div>\n",
        "\n",
        "### Ask a Question \n",
        "\n",
        "Whether by curiosity or necessity, data scientists constantly ask questions. For example, in the business world, data scientists may be interested in predicting the profit generated by a certain investment. In the field of medicine, they may ask whether some patients are more likely than others to benefit from a treatment. \n",
        "\n",
        "Posing questions is one of the primary ways the data science lifecycle begins. It helps to fully define the question. Here are some things you should ask yourself before framing a question.\n",
        "\n",
        "- What do we want to know? \n",
        "    - A question that is too ambiguous may lead to confusion.\n",
        "- What problems are we trying to solve?\n",
        "    - The goal of asking a question should be clear in order to justify your efforts to stakeholders.\n",
        "- What are the hypotheses we want to test?\n",
        "    - This gives a clear perspective from which to analyze final results.\n",
        "- What are the metrics for our success?\n",
        "    - This establishes a clear point to know when to conclude the project.\n",
        "\n",
        "<div style=\"text-align: center;\"> <img src=\"images/ask_question.PNG\" alt='ask_question' width='450'></div>\n",
        "\n",
        "### Obtain Data \n",
        "\n",
        "The second entry point to the lifecycle is by obtaining data. A careful analysis of any problem requires the use of data. Data may be readily available to us, or we may have to embark on a process to collect it. When doing so, it is crucial to ask the following:  \n",
        "\n",
        "- What data do we have, and what data do we need?\n",
        "    - Define the units of the data (people, cities, points in time, etc.) and what features to measure.\n",
        "- How will we sample more data?\n",
        "    - Scrape the web, collect manually, run experiments, etc.\n",
        "- Is our data representative of the population we want to study?\n",
        "    - If our data is not representative of our population of interest, then we can come to incorrect conclusions.\n",
        "    \n",
        "Key procedures: *data acquisition*, *data cleaning*\n",
        "\n",
        "\n",
        "<div style=\"text-align: center;\"> <img src=\"images/data_acquisition.PNG\" alt='data_acquisition' width='500'></div>\n",
        "\n",
        "### Understand the Data\n",
        "\n",
        "Raw data itself is not inherently useful. It's impossible to discern all the patterns and relationships between variables without carefully investigating them. Therefore, translating pure data into actionable insights is a key job of a data scientist. For example, we may choose to ask:\n",
        "\n",
        "- How is our data organized, and what does it contain?\n",
        "    - Knowing what the data says about the world helps us better understand the world. \n",
        "- Do we have relevant data?\n",
        "    - If the data we have collected is not useful to the question at hand, then we must collect more data.\n",
        "- What are the biases, anomalies, or other issues with the data?\n",
        "    - These can lead to many false conclusions if ignored, so data scientists must always be aware of these issues. \n",
        "- How do we transform the data to enable effective analysis?\n",
        "    - Data is not always easy to interpret at first glance, so a data scientist should strive to reveal the hidden insights. \n",
        "    \n",
        "Key procedures: *exploratory data analysis*, *data visualization*.\n",
        "\n",
        "\n",
        "<div style=\"text-align: center;\"><img src=\"images/understand_data.PNG\" alt='understanding_data' width='500'></div>\n",
        "\n",
        "### Understand the World\n",
        "\n",
        "After observing the patterns in our data, we can begin answering our questions. This may require that we predict a quantity (machine learning) or measure the effect of some treatment (inference). \n",
        "\n",
        "From here, we may choose to report our results, or possibly conduct more analysis. We may not be satisfied with our findings, or our initial exploration may have brought up new questions that require new data.\n",
        "\n",
        "- What does the data say about the world?\n",
        "    - Given our models, the data will lead us to certain conclusions about the real world.   \n",
        "- Does it answer our questions or accurately solve the problem?\n",
        "    - If our model and data can not accomplish our goals, then we must reform our question, model, or both.  \n",
        "- How robust are our conclusions and can we trust the predictions?\n",
        "    - Inaccurate models can lead to false conclusions.\n",
        "\n",
        "Key procedures: *model creation*, *prediction*, *inference*.\n",
        "\n",
        "\n",
        "<div style=\"text-align: center;\"><img src=\"images/understand_world.PNG\" alt='understand_world' width='500'></div>\n",
        "\n",
        "The data science lifecycle is meant to be a set of general guidelines rather than a hard set of requirements. In our journey exploring the lifecycle, we'll cover both the underlying theory and technologies used in data science. By the end of the course, we hope that you start to see yourself as a data scientist.\n",
        "\n",
        "With that, we'll begin by introducing one of the most important tools in exploratory data analysis: `pandas`.\n",
        "\n",
        "---\n",
        "\n",
        "In this sequence of lectures, we will dive right into things by having you explore and manipulate real-world data. We'll first introduce `pandas`, a popular Python library for interacting with **tabular data**.\n",
        "\n",
        "## Tabular Data and `pandas`\n",
        "\n",
        "Data scientists work with data stored in a variety of formats. This class focuses primarily on *tabular data* — data that is stored in a table.\n",
        "\n",
        "Tabular data is one of the most common systems that data scientists use to organize data. This is in large part due to the simplicity and flexibility of tables. Tables allow us to represent each **observation**, or instance of collecting data from an individual, as its own *row*. We can record each observation's distinct characteristics, or **features**, in separate *columns*.\n",
        "\n",
        "\n",
        "To see this in action, we'll explore the `elections` dataset, which stores information about political candidates who ran for president of the United States in previous years.\n",
        "\n",
        "In the `elections` dataset, each row (blue box) represents one instance of a candidate running for president in a particular year. For example, the first row represents Andrew Jackson running for president in the year 1824. Each column (yellow box) represents one characteristic piece of information about each presidential candidate. For example, the column named \"Result\" stores whether or not the candidate won the election. \n",
        "\n",
        "<center><img src = \"images/row_col.png\" width = \"600\"></img></a></center>\n",
        "\n",
        "Your work in Data 8 helped you grow very familiar with using and interpreting data stored in a tabular format. Back then, you used the `Table` class of the `datascience` library, a special programming library created specifically for Data 8 students.\n",
        "\n",
        "In Data 100, we will be working with the programming library `pandas`, which is generally accepted in the data science community as the industry- and academia-standard tool for manipulating tabular data (as well as the inspiration for Petey, our panda bear mascot).\n",
        "\n",
        "Using `pandas`, we can\n",
        "\n",
        "- Arrange data in a tabular format.\n",
        "- Extract useful information filtered by specific conditions.\n",
        "- Operate on data to gain new insights.\n",
        "- Apply `NumPy` functions to our data (our friends from Data 8).\n",
        "- Perform vectorized computations to speed up our analysis (Lab 1).\n",
        "\n",
        "To begin our work in `pandas`, we must first import the library into our Python environment. This will allow us to use `pandas` data structures and methods in our code."
      ],
      "id": "6a9051cf"
    },
    {
      "cell_type": "code",
      "metadata": {},
      "source": [
        "# `pd` is the conventional alias for Pandas, as `np` is for NumPy\n",
        "import pandas as pd"
      ],
      "id": "63cfa988",
      "execution_count": null,
      "outputs": []
    },
    {
      "cell_type": "markdown",
      "metadata": {},
      "source": [
        "There are three fundamental data structures in `pandas`:\n",
        "\n",
        "1. **`Series`**: 1D labeled array data; best thought of as columnar data.\n",
        "2. **`DataFrame`**: 2D tabular data with rows and columns.\n",
        "3. **`Index`**: A sequence of row/column labels.\n",
        "\n",
        "`DataFrame`s, `Series`, and Indices can be represented visually in the following diagram, which considers the first few rows of the `elections` dataset.\n",
        "\n",
        "<center><img src = \"images/df_elections.png\" width = \"600\"></img></a></center>\n",
        "\n",
        "Notice how the **DataFrame** is a two-dimensional object — it contains both rows and columns. The **Series** above is a singular column of this `DataFrame`, namely the `Result` column. Both contain an **Index**, or a shared list of row labels (the integers from 0 to 4, inclusive).\n",
        "\n",
        "Today, we will start off from `Series` object.\n",
        "\n",
        "## `Series`\n",
        "\n",
        "A `Series` represents a column of a `DataFrame`; more generally, it can be any 1-dimensional array-like object. It contains both:\n",
        "\n",
        "- A sequence of **values** of the same type.\n",
        "- A sequence of data labels called the **index**.\n",
        "\n",
        "In the cell below, we create a `Series` named `s`."
      ],
      "id": "34a00aa6"
    },
    {
      "cell_type": "code",
      "metadata": {},
      "source": [
        "s = pd.Series([\"welcome\", \"to\", \"data 100\"])\n",
        "s"
      ],
      "id": "08d31048",
      "execution_count": null,
      "outputs": []
    },
    {
      "cell_type": "code",
      "metadata": {},
      "source": [
        " # Accessing data values within the Series\n",
        " s.values"
      ],
      "id": "00289eb3",
      "execution_count": null,
      "outputs": []
    },
    {
      "cell_type": "code",
      "metadata": {},
      "source": [
        " # Accessing the Index of the Series\n",
        " s.index"
      ],
      "id": "99f642ff",
      "execution_count": null,
      "outputs": []
    },
    {
      "cell_type": "markdown",
      "metadata": {},
      "source": [
        "By default, the `index` of a `Series` is a sequential list of integers beginning from 0. Optionally, a manually specified list of desired indices can be passed to the `index` argument."
      ],
      "id": "925b47a8"
    },
    {
      "cell_type": "code",
      "metadata": {},
      "source": [
        "s = pd.Series([-1, 10, 2], index = [\"a\", \"b\", \"c\"])\n",
        "s"
      ],
      "id": "ce57b417",
      "execution_count": null,
      "outputs": []
    },
    {
      "cell_type": "code",
      "metadata": {},
      "source": [
        "s.index"
      ],
      "id": "710e1a5c",
      "execution_count": null,
      "outputs": []
    },
    {
      "cell_type": "markdown",
      "metadata": {},
      "source": [
        "Indices can also be changed after initialization."
      ],
      "id": "1eba6658"
    },
    {
      "cell_type": "code",
      "metadata": {},
      "source": [
        "s.index = [\"first\", \"second\", \"third\"]\n",
        "s"
      ],
      "id": "6a125237",
      "execution_count": null,
      "outputs": []
    },
    {
      "cell_type": "code",
      "metadata": {},
      "source": [
        "s.index"
      ],
      "id": "2de04f2b",
      "execution_count": null,
      "outputs": []
    },
    {
      "cell_type": "markdown",
      "metadata": {},
      "source": [
        "#### Selection in `Series`\n",
        "\n",
        "Much like when working with `NumPy` arrays, we can select a single value or a set of values from a `Series`. To do so, there are three primary methods:\n",
        "\n",
        "1. A single label.\n",
        "2. A list of labels.\n",
        "3. A filtering condition.\n",
        "\n",
        "To demonstrate this, let's define a new Series `s`."
      ],
      "id": "20a12fb8"
    },
    {
      "cell_type": "code",
      "metadata": {},
      "source": [
        "s = pd.Series([4, -2, 0, 6], index = [\"a\", \"b\", \"c\", \"d\"])\n",
        "s"
      ],
      "id": "bc7d3a55",
      "execution_count": null,
      "outputs": []
    },
    {
      "cell_type": "markdown",
      "metadata": {},
      "source": [
        "##### A Single Label"
      ],
      "id": "82af6139"
    },
    {
      "cell_type": "code",
      "metadata": {},
      "source": [
        "# We return the value stored at the index label \"a\"\n",
        "s[\"a\"] "
      ],
      "id": "d31ee6a0",
      "execution_count": null,
      "outputs": []
    },
    {
      "cell_type": "markdown",
      "metadata": {},
      "source": [
        "##### A List of Labels"
      ],
      "id": "91052e34"
    },
    {
      "cell_type": "code",
      "metadata": {},
      "source": [
        "# We return a Series of the values stored at the index labels \"a\" and \"c\"\n",
        "s[[\"a\", \"c\"]] "
      ],
      "id": "737edc38",
      "execution_count": null,
      "outputs": []
    },
    {
      "cell_type": "markdown",
      "metadata": {},
      "source": [
        "##### A Filtering Condition\n",
        "\n",
        "Perhaps the most interesting (and useful) method of selecting data from a `Series` is by using a filtering condition. \n",
        "\n",
        "First, we apply a boolean operation to the `Series`. This creates **a new `Series` of boolean values**."
      ],
      "id": "1bb95d93"
    },
    {
      "cell_type": "code",
      "metadata": {},
      "source": [
        "# Filter condition: select all elements greater than 0\n",
        "s > 0 "
      ],
      "id": "5c33c08d",
      "execution_count": null,
      "outputs": []
    },
    {
      "cell_type": "markdown",
      "metadata": {},
      "source": [
        "We then use this boolean condition to index into our original `Series`. `pandas` will select only the entries in the original `Series` that satisfy the condition."
      ],
      "id": "aaa1df4e"
    },
    {
      "cell_type": "code",
      "metadata": {},
      "source": [
        "s[s > 0] "
      ],
      "id": "b7c6cecb",
      "execution_count": null,
      "outputs": []
    }
  ],
  "metadata": {
    "kernelspec": {
      "display_name": "Python 3 (ipykernel)",
      "language": "python",
      "name": "python3"
    },
    "jupytext": {
      "text_representation": {
        "extension": ".qmd",
        "format_name": "quarto",
        "format_version": "1.0",
        "jupytext_version": "1.16.1"
      }
    }
  },
  "nbformat": 4,
  "nbformat_minor": 5
}