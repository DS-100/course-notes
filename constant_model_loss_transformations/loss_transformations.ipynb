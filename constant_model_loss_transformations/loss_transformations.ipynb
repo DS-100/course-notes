{
  "cells": [
    {
      "cell_type": "raw",
      "metadata": {},
      "source": [
        "---\n",
        "title: 'Constant Model, Loss, and Transformations'\n",
        "execute:\n",
        "  echo: true\n",
        "format:\n",
        "  html:\n",
        "    code-fold: true\n",
        "    code-tools: true\n",
        "    toc: true\n",
        "    toc-title: 'Constant Model, Loss, and Transformations'\n",
        "    page-layout: full\n",
        "    theme:\n",
        "      - cosmo\n",
        "      - cerulean\n",
        "    callout-icon: false\n",
        "---"
      ]
    },
    {
      "cell_type": "markdown",
      "metadata": {},
      "source": [
        "::: {.callout-note collapse=\"false\"}\n",
        "\n",
        "## Learning Outcomes\n",
        "\n",
        "- Derive the optimal model parameters for the constant model under MSE and MAE cost functions.\n",
        "- Evaluate the differences between MSE and MAE risk.\n",
        "- Understand the need for linearization of variables and apply the Tukey-Mosteller bulge diagram for transformations.\n",
        "  :::\n",
        "\n",
        "Last time, we introduced the modeling process. We set up a framework to predict target variables as functions of our features, following a set workflow:\n",
        "\n",
        "1. Choose a model - how should we represent the world?\n",
        "2. Choose a loss function - how do we quantify prediction error?\n",
        "3. Fit the model - how do we choose the best parameter of our model given our data?\n",
        "4. Evaluate model performance - how do we evaluate whether this process gave rise to a good model?\n",
        "\n",
        "To illustrate this process, we derived the optimal model parameters under simple linear regression (SLR) with mean squared error (MSE) as the cost function. A summary of the SLR modeling process is shown below:\n",
        "\n",
        "<div align=\"middle\">\n",
        "<img src=\"images/slr_modeling_process.png\" alt='error' width='600'>\n",
        "</div>\n",
        "\n",
        "In this lecture, we'll dive deeper into step 4 - evaluating model performance - using SLR as an example. Additionally, we'll also explore the modeling process with new models, continue familiarizing ourselves with the modeling process by finding the best model parameters under a new model, the constant model, and test out two different loss functions to understand how our choice of loss influences model design. Later on, we'll consider what happens when a linear model isn't the best choice to capture trends in our data and what solutions there are to create better models.\n",
        "\n",
        "Before we get into Step 4, let's quickly review some important terminology.\n",
        "\n",
        "### Prediction vs. Estimation\n",
        "\n",
        "The terms prediction and estimation are often used somewhat interchangeably, but there is a subtle difference between them. **Estimation** is the task of using data to calculate model parameters. **Prediction** is the task of using a model to predict outputs for unseen data. In our simple linear regression model\n",
        "\n",
        "$$\\hat{y} = \\hat{\\theta_0} + \\hat{\\theta_1}$$\n",
        "\n",
        "we **estimate** the parameters by minimizing average loss; then, we **predict** using these estimations. **Least Squares Estimation** is when we choose the parameters that minimize MSE.\n",
        "\n",
        "## Step 4: Evaluating the SLR Model\n",
        "\n",
        "Now that we've explored the mathematics behind (1) choosing a model, (2) choosing a loss function, and (3) fitting the model, we're left with one final question – how \"good\" are the predictions made by this \"best\" fitted model? To determine this, we can:\n",
        "\n",
        "1. Visualize data and compute statistics:\n",
        "   - Plot the original data.\n",
        "   - Compute each column's mean and standard deviation. If the mean and standard deviation of our predictions are close to those of the original observed $y_i$s, we might be inclined to say that our model has done well.\n",
        "   - (If we're fitting a linear model) compute the correlation $r$. A large magnitude for the correlation coefficient between the feature and response variables could also indicate that our model has done well.\n",
        "2. Performance metrics:\n",
        "\n",
        "   - We can take the **Root Mean Squared Error (RMSE)**.\n",
        "     - It's the square root of the mean squared error (MSE), which is the average loss that we've been minimizing to determine optimal model parameters.\n",
        "     - RMSE is in the same units as $y$.\n",
        "     - A lower RMSE indicates more \"accurate\" predictions, as we have a lower \"average loss\" across the data.\n",
        "\n",
        "   $$\\text{RMSE} = \\sqrt{\\frac{1}{n} \\sum_{i=1}^n (y_i - \\hat{y}_i)^2}$$\n",
        "\n",
        "3. Visualization:\n",
        "   - Look at the residual plot of $e_i = y_i - \\hat{y_i}$ to visualize the difference between actual and predicted values. The good residual plot should not show any pattern between input/features $x_i$ and residual values $e_i$.\n",
        "\n",
        "To illustrate this process, let's take a look at **Anscombe's quartet**.\n",
        "\n",
        "### Four Mysterious Datasets (Anscombe’s quartet)\n",
        "\n",
        "Let's take a look at four different datasets.\n"
      ]
    },
    {
      "cell_type": "code",
      "execution_count": null,
      "metadata": {
        "vscode": {
          "languageId": "python"
        }
      },
      "outputs": [],
      "source": [
        "#| code-fold: true\n",
        "import numpy as np\n",
        "import pandas as pd\n",
        "import matplotlib.pyplot as plt\n",
        "%matplotlib inline\n",
        "import seaborn as sns\n",
        "import itertools\n",
        "from mpl_toolkits.mplot3d import Axes3D"
      ]
    },
    {
      "cell_type": "code",
      "execution_count": null,
      "metadata": {
        "vscode": {
          "languageId": "python"
        }
      },
      "outputs": [],
      "source": [
        "# | code-fold: true\n",
        "# Big font helper\n",
        "def adjust_fontsize(size=None):\n",
        "    SMALL_SIZE = 8\n",
        "    MEDIUM_SIZE = 10\n",
        "    BIGGER_SIZE = 12\n",
        "    if size != None:\n",
        "        SMALL_SIZE = MEDIUM_SIZE = BIGGER_SIZE = size\n",
        "\n",
        "    plt.rc(\"font\", size=SMALL_SIZE)  # controls default text sizes\n",
        "    plt.rc(\"axes\", titlesize=SMALL_SIZE)  # fontsize of the axes title\n",
        "    plt.rc(\"axes\", labelsize=MEDIUM_SIZE)  # fontsize of the x and y labels\n",
        "    plt.rc(\"xtick\", labelsize=SMALL_SIZE)  # fontsize of the tick labels\n",
        "    plt.rc(\"ytick\", labelsize=SMALL_SIZE)  # fontsize of the tick labels\n",
        "    plt.rc(\"legend\", fontsize=SMALL_SIZE)  # legend fontsize\n",
        "    plt.rc(\"figure\", titlesize=BIGGER_SIZE)  # fontsize of the figure title\n",
        "\n",
        "\n",
        "# Helper functions\n",
        "def standard_units(x):\n",
        "    return (x - np.mean(x)) / np.std(x)\n",
        "\n",
        "\n",
        "def correlation(x, y):\n",
        "    return np.mean(standard_units(x) * standard_units(y))\n",
        "\n",
        "\n",
        "def slope(x, y):\n",
        "    return correlation(x, y) * np.std(y) / np.std(x)\n",
        "\n",
        "\n",
        "def intercept(x, y):\n",
        "    return np.mean(y) - slope(x, y) * np.mean(x)\n",
        "\n",
        "\n",
        "def fit_least_squares(x, y):\n",
        "    theta_0 = intercept(x, y)\n",
        "    theta_1 = slope(x, y)\n",
        "    return theta_0, theta_1\n",
        "\n",
        "\n",
        "def predict(x, theta_0, theta_1):\n",
        "    return theta_0 + theta_1 * x\n",
        "\n",
        "\n",
        "def compute_mse(y, yhat):\n",
        "    return np.mean((y - yhat) ** 2)\n",
        "\n",
        "\n",
        "plt.style.use(\"default\")  # Revert style to default mpl"
      ]
    },
    {
      "cell_type": "code",
      "execution_count": null,
      "metadata": {
        "vscode": {
          "languageId": "python"
        }
      },
      "outputs": [],
      "source": [
        "plt.style.use(\"default\")  # Revert style to default mpl\n",
        "NO_VIZ, RESID, RESID_SCATTER = range(3)\n",
        "\n",
        "\n",
        "def least_squares_evaluation(x, y, visualize=NO_VIZ):\n",
        "    # statistics\n",
        "    print(f\"x_mean : {np.mean(x):.2f}, y_mean : {np.mean(y):.2f}\")\n",
        "    print(f\"x_stdev: {np.std(x):.2f}, y_stdev: {np.std(y):.2f}\")\n",
        "    print(f\"r = Correlation(x, y): {correlation(x, y):.3f}\")\n",
        "\n",
        "    # Performance metrics\n",
        "    ahat, bhat = fit_least_squares(x, y)\n",
        "    yhat = predict(x, ahat, bhat)\n",
        "    print(f\"\\theta_0: {ahat:.2f}, \\theta_1: {bhat:.2f}\")\n",
        "    print(f\"RMSE: {np.sqrt(compute_mse(y, yhat)):.3f}\")\n",
        "\n",
        "    # visualization\n",
        "    fig, ax_resid = None, None\n",
        "    if visualize == RESID_SCATTER:\n",
        "        fig, axs = plt.subplots(1, 2, figsize=(8, 3))\n",
        "        axs[0].scatter(x, y)\n",
        "        axs[0].plot(x, yhat)\n",
        "        axs[0].set_title(\"LS fit\")\n",
        "        ax_resid = axs[1]\n",
        "    elif visualize == RESID:\n",
        "        fig = plt.figure(figsize=(4, 3))\n",
        "        ax_resid = plt.gca()\n",
        "\n",
        "    if ax_resid is not None:\n",
        "        ax_resid.scatter(x, y - yhat, color=\"red\")\n",
        "        ax_resid.plot([4, 14], [0, 0], color=\"black\")\n",
        "        ax_resid.set_title(\"Residuals\")\n",
        "\n",
        "    return fig"
      ]
    },
    {
      "cell_type": "code",
      "execution_count": null,
      "metadata": {
        "vscode": {
          "languageId": "python"
        }
      },
      "outputs": [],
      "source": [
        "# | code-fold: true\n",
        "# Load in four different datasets: I, II, III, IV\n",
        "x = [10, 8, 13, 9, 11, 14, 6, 4, 12, 7, 5]\n",
        "y1 = [8.04, 6.95, 7.58, 8.81, 8.33, 9.96, 7.24, 4.26, 10.84, 4.82, 5.68]\n",
        "y2 = [9.14, 8.14, 8.74, 8.77, 9.26, 8.10, 6.13, 3.10, 9.13, 7.26, 4.74]\n",
        "y3 = [7.46, 6.77, 12.74, 7.11, 7.81, 8.84, 6.08, 5.39, 8.15, 6.42, 5.73]\n",
        "x4 = [8, 8, 8, 8, 8, 8, 8, 19, 8, 8, 8]\n",
        "y4 = [6.58, 5.76, 7.71, 8.84, 8.47, 7.04, 5.25, 12.50, 5.56, 7.91, 6.89]\n",
        "\n",
        "anscombe = {\n",
        "    \"I\": pd.DataFrame(list(zip(x, y1)), columns=[\"x\", \"y\"]),\n",
        "    \"II\": pd.DataFrame(list(zip(x, y2)), columns=[\"x\", \"y\"]),\n",
        "    \"III\": pd.DataFrame(list(zip(x, y3)), columns=[\"x\", \"y\"]),\n",
        "    \"IV\": pd.DataFrame(list(zip(x4, y4)), columns=[\"x\", \"y\"]),\n",
        "}\n",
        "\n",
        "# Plot the scatter plot and line of best fit\n",
        "fig, axs = plt.subplots(2, 2, figsize=(10, 10))\n",
        "\n",
        "for i, dataset in enumerate([\"I\", \"II\", \"III\", \"IV\"]):\n",
        "    ans = anscombe[dataset]\n",
        "    x, y = ans[\"x\"], ans[\"y\"]\n",
        "    ahat, bhat = fit_least_squares(x, y)\n",
        "    yhat = predict(x, ahat, bhat)\n",
        "    axs[i // 2, i % 2].scatter(x, y, alpha=0.6, color=\"red\")  # plot the x, y points\n",
        "    axs[i // 2, i % 2].plot(x, yhat)  # plot the line of best fit\n",
        "    axs[i // 2, i % 2].set_xlabel(f\"$x_{i+1}$\")\n",
        "    axs[i // 2, i % 2].set_ylabel(f\"$y_{i+1}$\")\n",
        "    axs[i // 2, i % 2].set_title(f\"Dataset {dataset}\")\n",
        "\n",
        "plt.show()"
      ]
    },
    {
      "cell_type": "markdown",
      "metadata": {},
      "source": [
        "While these four sets of datapoints look very different, they actually all have identical $\\bar x$, $\\bar y$, $\\sigma_x$, $\\sigma_y$, correlation $r$, and RMSE! If we only look at these statistics, we would probably be inclined to say that these datasets are similar.\n"
      ]
    },
    {
      "cell_type": "code",
      "execution_count": null,
      "metadata": {
        "vscode": {
          "languageId": "python"
        }
      },
      "outputs": [],
      "source": [
        "# | code-fold: true\n",
        "for dataset in [\"I\", \"II\", \"III\", \"IV\"]:\n",
        "    print(f\">>> Dataset {dataset}:\")\n",
        "    ans = anscombe[dataset]\n",
        "    fig = least_squares_evaluation(ans[\"x\"], ans[\"y\"], visualize=NO_VIZ)\n",
        "    print()\n",
        "    print()"
      ]
    },
    {
      "cell_type": "markdown",
      "metadata": {},
      "source": [
        "We may also wish to visualize the model's **residuals**, defined as the difference between the observed and predicted $y_i$ value ($e_i = y_i - \\hat{y}_i$). This gives a high-level view of how \"off\" each prediction is from the true observed value. Recall that you explored this concept in [Data 8](https://inferentialthinking.com/chapters/15/5/Visual_Diagnostics.html?highlight=heteroscedasticity#detecting-heteroscedasticity): a good regression fit should display no clear pattern in its plot of residuals. The residual plots for Anscombe's quartet are displayed below. Note how only the first plot shows no clear pattern to the magnitude of residuals. This is an indication that SLR is not the best choice of model for the remaining three sets of points.\n",
        "\n",
        "<!-- <img src=\"images/residual.png\" alt='residual' width='600'> -->\n"
      ]
    },
    {
      "cell_type": "code",
      "execution_count": null,
      "metadata": {
        "vscode": {
          "languageId": "python"
        }
      },
      "outputs": [],
      "source": [
        "# | code-fold: true\n",
        "# Residual visualization\n",
        "fig, axs = plt.subplots(2, 2, figsize=(10, 10))\n",
        "\n",
        "for i, dataset in enumerate([\"I\", \"II\", \"III\", \"IV\"]):\n",
        "    ans = anscombe[dataset]\n",
        "    x, y = ans[\"x\"], ans[\"y\"]\n",
        "    ahat, bhat = fit_least_squares(x, y)\n",
        "    yhat = predict(x, ahat, bhat)\n",
        "    axs[i // 2, i % 2].scatter(\n",
        "        x, y - yhat, alpha=0.6, color=\"red\"\n",
        "    )  # plot the x, y points\n",
        "    axs[i // 2, i % 2].plot(\n",
        "        x, np.zeros_like(x), color=\"black\"\n",
        "    )  # plot the residual line\n",
        "    axs[i // 2, i % 2].set_xlabel(f\"$x_{i+1}$\")\n",
        "    axs[i // 2, i % 2].set_ylabel(f\"$e_{i+1}$\")\n",
        "    axs[i // 2, i % 2].set_title(f\"Dataset {dataset} Residuals\")\n",
        "\n",
        "plt.show()"
      ]
    },
    {
      "cell_type": "markdown",
      "metadata": {},
      "source": [
        "## Constant Model + MSE\n",
        "\n",
        "Now, we'll shift from the SLR model to the **constant model**, also known as a summary statistic. The constant model is slightly different from the simple linear regression model we've explored previously. Rather than generating predictions from an inputted feature variable, the constant model always _predicts the same constant number_. This ignores any relationships between variables. For example, let's say we want to predict the number of drinks a boba shop sells in a day. Boba tea sales likely depend on the time of year, the weather, how the customers feel, whether school is in session, etc., but the constant model ignores these factors in favor of a simpler model. In other words, the constant model employs a **simplifying assumption**.\n",
        "\n",
        "It is also a parametric, statistical model:\n",
        "\n",
        "$$\\hat{y}_i = \\theta_0$$\n",
        "\n",
        "$\\theta_0$ is the parameter of the constant model, just as $\\theta_0$ and $\\theta_1$ were the parameters in SLR.\n",
        "Since our parameter $\\theta_0$ is 1-dimensional ($\\theta_0 \\in \\mathbb{R}$), we now have no input to our model and will always predict $\\hat{y}_i = \\theta_0$.\n",
        "\n",
        "### Deriving the optimal $\\theta_0$\n",
        "\n",
        "Our task now is to determine what value of $\\theta_0$ best represents the optimal model – in other words, what number should we guess each time to have the lowest possible **average loss** on our data?\n",
        "\n",
        "Like before, we'll use Mean Squared Error (MSE). Recall that the MSE is average squared loss (L2 loss) over the data $D = \\{y_1, y_2, ..., y_n\\}$.\n",
        "\n",
        "$$\\hat{R}(\\theta) = \\frac{1}{n}\\sum^{n}_{i=1} (y_i - \\hat{y_i})^2 $$\n",
        "\n",
        "Our modeling process now looks like this:\n",
        "\n",
        "1. Choose a model: constant model\n",
        "2. Choose a loss function: L2 loss\n",
        "3. Fit the model\n",
        "4. Evaluate model performance\n",
        "\n",
        "Given the **constant model** $\\hat{y}_i = \\theta_0$, we can rewrite the MSE equation as\n",
        "\n",
        "$$\\hat{R}(\\theta) = \\frac{1}{n}\\sum^{n}_{i=1} (y_i - \\theta_0)^2 $$\n",
        "\n",
        "We can fit **the model** by finding the optimal $\\theta_0$ that minimizes the MSE using a calculus approach.\n",
        "\n",
        "1. Differentiate with respect to $\\theta_0$\n",
        "\n",
        "$$\n",
        "\\begin{align}\n",
        "\\frac{d}{d\\theta_0}\\text{R}(\\theta) & = \\frac{d}{d\\theta_0}\\frac{1}{n}\\sum^{n}_{i=1} (y_i - \\theta_0)^2\n",
        "\\\\ &= {n}\\sum^{n}_{i=1} \\frac{d}{d\\theta_0}  (y_i - \\theta_0)^2 \\quad \\quad \\text{derivative of sum is a sum of derivatives}\n",
        "\\\\ &= {n}\\sum^{n}_{i=1} 2 (y_i - \\theta_0) (-1) \\quad \\quad \\text{chain rule}\n",
        "\\\\ &= {\\frac{-2}{n}}\\sum^{n}_{i=1} (y_i - \\theta_0) \\quad \\quad \\text{simply constants}\n",
        "\\end{align}\n",
        "$$\n",
        "\n",
        "2. Set equal to 0\n",
        "\n",
        "   $$\n",
        "   0 = {\\frac{-2}{n}}\\sum^{n}_{i=1} (y_i - \\hat{\\theta_0})\n",
        "   $$\n",
        "\n",
        "3. Solve for $\\hat{\\theta_0}$\n",
        "\n",
        "$$\n",
        "\\begin{align}\n",
        "0 &= {\\frac{-2}{n}}\\sum^{n}_{i=1} (y_i - \\hat{\\theta_0})\n",
        "\\\\ &= \\sum^{n}_{i=1} (y_i - \\hat{\\theta_0}) \\quad \\quad \\text{divide both sides by} \\frac{-2}{n}\n",
        "\\\\ &= \\sum^{n}_{i=1} y_i - \\sum^{n}_{i=1} \\theta_0 \\quad \\quad \\text{separate sums}\n",
        "\\\\ &= \\sum^{n}_{i=1} y_i - n * \\hat{\\theta_0} \\quad \\quad  \\text{c + c + … + c = nc}\n",
        "\\\\ n * \\hat{\\theta_0} &= \\sum^{n}_{i=1} y_i\n",
        "\\\\ \\hat{\\theta_0} &= \\frac{1}{n} \\sum^{n}_{i=1} y_i\n",
        "\\\\ \\hat{\\theta_0} &= \\bar{y}\n",
        "\\end{align}\n",
        "$$\n",
        "\n",
        "Let's take a moment to interpret this result. $\\hat{\\theta_0} = \\bar{y}$ is the optimal parameter for constant model + MSE.\n",
        "It holds true regardless of what data sample you have, and it provides some formal reasoning as to why the mean is such a common summary statistic.\n",
        "\n",
        "Our optimal model parameter is the value of the parameter that minimizes the cost function. This minimum value of the cost function can be expressed:\n",
        "\n",
        "$$R(\\hat{\\theta_0}) = \\min_{\\theta_0} R(\\theta_0)$$\n",
        "\n",
        "To restate the above in plain English: we are looking at the value of the cost function when it takes the best parameter as input. This optimal model parameter, $\\hat{\\theta_0}$, is the value of $\\theta_0$ that minimizes the cost $R$.\n",
        "\n",
        "For modeling purposes, we care less about the minimum value of cost, $R(\\hat{\\theta_0})$, and more about the _value of $\\theta$_ that results in this lowest average loss. In other words, we concern ourselves with finding the best parameter value such that:\n",
        "\n",
        "$$\\hat{\\theta} = \\underset{\\theta}{\\operatorname{\\arg\\min}}\\:R(\\theta)$$\n",
        "\n",
        "That is, we want to find the **arg**ument $\\theta$ that **min**imizes the cost function.\n",
        "\n",
        "### Comparing Two Different Models, Both Fit with MSE\n",
        "\n",
        "Now that we've explored the constant model with an L2 loss, we can compare it to the SLR model that we learned last lecture. Consider the dataset below, which contains information about the ages and lengths of dugongs. Supposed we wanted to predict dugong ages:\n",
        "\n",
        "|                        | Constant Model                                                   | Simple Linear Regression                                                        |\n",
        "| ---------------------- | ---------------------------------------------------------------- | ------------------------------------------------------------------------------- |\n",
        "| model                  | $\\hat{y} = \\theta_0$                                             | $\\hat{y} = \\theta_0 + \\theta1 x$                                                |\n",
        "| data                   | sample of ages $D = \\{y_1, y_2, ..., y_m\\}$                      | sample of ages $D = \\{(x_1, y_1), (x_2, y_2), ..., (x_n, y_n)\\}$                |\n",
        "| dimensions             | $\\hat{\\theta_0}$ is 1-D                                          | $\\hat{\\theta} = [\\hat{\\theta_0}, \\hat{\\theta_1}]$ is 2-D                        |\n",
        "| loss surface           | 2-D ![](images/constant_loss_surface.png)                        | 3-D ![](images/slr_loss_surface.png)                                            |\n",
        "| Loss Model             | $\\hat{R}(\\theta) = \\frac{1}{n}\\sum^{n}_{i=1} (y_i - \\theta_0)^2$ | $\\hat{R}(\\theta) = \\frac{1}{n}\\sum^{n}_{i=1} (y_i - (\\theta_0 + \\theta_1 x))^2$ |\n",
        "| RMSE                   | 7.72                                                             | 4.31                                                                            |\n",
        "| predictions visualized | rug plot ![](images/dugong_rug.png)                              | scatter plot ![](images/dugong_scatter.png)                                     |\n",
        "\n",
        "(Notice how the points for our SLR scatter plot are visually not a great linear fit. We'll come back to this).\n",
        "\n",
        "The code for generating the graphs and models is included below, but we won't go over it in too much depth.\n"
      ]
    },
    {
      "cell_type": "code",
      "execution_count": null,
      "metadata": {
        "vscode": {
          "languageId": "python"
        }
      },
      "outputs": [],
      "source": [
        "# | code-fold: true\n",
        "dugongs = pd.read_csv(\"data/dugongs.csv\")\n",
        "data_constant = dugongs[\"Age\"]\n",
        "data_linear = dugongs[[\"Length\", \"Age\"]]"
      ]
    },
    {
      "cell_type": "code",
      "execution_count": null,
      "metadata": {
        "vscode": {
          "languageId": "python"
        }
      },
      "outputs": [],
      "source": [
        "#| code-fold: true\n",
        "# Constant Model + MSE\n",
        "plt.style.use('default') # Revert style to default mpl\n",
        "adjust_fontsize(size=16)\n",
        "%matplotlib inline\n",
        "\n",
        "def mse_constant(theta, data):\n",
        "    return np.mean(np.array([(y_obs - theta) ** 2 for y_obs in data]), axis=0)\n",
        "\n",
        "thetas = np.linspace(-20, 42, 1000)\n",
        "l2_loss_thetas = mse_constant(thetas, data_constant)\n",
        "\n",
        "# Plotting the loss surface\n",
        "plt.plot(thetas, l2_loss_thetas)\n",
        "plt.xlabel(r'$\\theta_0$')\n",
        "plt.ylabel(r'MSE')\n",
        "\n",
        "# Optimal point\n",
        "thetahat = np.mean(data_constant)\n",
        "plt.scatter([thetahat], [mse_constant(thetahat, data_constant)], s=50, label = r\"$\\hat{\\theta}_0$\")\n",
        "plt.legend();\n",
        "# plt.show()"
      ]
    },
    {
      "cell_type": "code",
      "execution_count": null,
      "metadata": {
        "vscode": {
          "languageId": "python"
        }
      },
      "outputs": [],
      "source": [
        "# | code-fold: true\n",
        "# SLR + MSE\n",
        "def mse_linear(theta_0, theta_1, data_linear):\n",
        "    data_x, data_y = data_linear.iloc[:, 0], data_linear.iloc[:, 1]\n",
        "    return np.mean(\n",
        "        np.array([(y - (theta_0 + theta_1 * x)) ** 2 for x, y in zip(data_x, data_y)]),\n",
        "        axis=0,\n",
        "    )\n",
        "\n",
        "\n",
        "# plotting the loss surface\n",
        "theta_0_values = np.linspace(-80, 20, 80)\n",
        "theta_1_values = np.linspace(-10, 30, 80)\n",
        "mse_values = np.array(\n",
        "    [[mse_linear(x, y, data_linear) for x in theta_0_values] for y in theta_1_values]\n",
        ")\n",
        "\n",
        "# Optimal point\n",
        "data_x, data_y = data_linear.iloc[:, 0], data_linear.iloc[:, 1]\n",
        "theta_1_hat = np.corrcoef(data_x, data_y)[0, 1] * np.std(data_y) / np.std(data_x)\n",
        "theta_0_hat = np.mean(data_y) - theta_1_hat * np.mean(data_x)\n",
        "\n",
        "# Create the 3D plot\n",
        "fig = plt.figure(figsize=(7, 5))\n",
        "ax = fig.add_subplot(111, projection=\"3d\")\n",
        "\n",
        "X, Y = np.meshgrid(theta_0_values, theta_1_values)\n",
        "surf = ax.plot_surface(\n",
        "    X, Y, mse_values, cmap=\"viridis\", alpha=0.6\n",
        ")  # Use alpha to make it slightly transparent\n",
        "\n",
        "# Scatter point using matplotlib\n",
        "sc = ax.scatter(\n",
        "    [theta_0_hat],\n",
        "    [theta_1_hat],\n",
        "    [mse_linear(theta_0_hat, theta_1_hat, data_linear)],\n",
        "    marker=\"o\",\n",
        "    color=\"red\",\n",
        "    s=100,\n",
        "    label=\"theta hat\",\n",
        ")\n",
        "\n",
        "# Create a colorbar\n",
        "cbar = fig.colorbar(surf, ax=ax, shrink=0.5, aspect=10)\n",
        "cbar.set_label(\"Cost Value\")\n",
        "\n",
        "ax.set_title(\"MSE for different $\\\\theta_0, \\\\theta_1$\")\n",
        "ax.set_xlabel(\"$\\\\theta_0$\")\n",
        "ax.set_ylabel(\"$\\\\theta_1$\")\n",
        "ax.set_zlabel(\"MSE\")\n",
        "\n",
        "# plt.show()"
      ]
    },
    {
      "cell_type": "code",
      "execution_count": null,
      "metadata": {
        "vscode": {
          "languageId": "python"
        }
      },
      "outputs": [],
      "source": [
        "# | code-fold: true\n",
        "# Predictions\n",
        "yobs = data_linear[\"Age\"]  # The true observations y\n",
        "xs = data_linear[\"Length\"]  # Needed for linear predictions\n",
        "n = len(yobs)  # Predictions\n",
        "\n",
        "yhats_constant = [thetahat for i in range(n)]  # Not used, but food for thought\n",
        "yhats_linear = [theta_0_hat + theta_1_hat * x for x in xs]"
      ]
    },
    {
      "cell_type": "code",
      "execution_count": null,
      "metadata": {
        "vscode": {
          "languageId": "python"
        }
      },
      "outputs": [],
      "source": [
        "#| code-fold: true\n",
        "# Constant Model Rug Plot\n",
        "# In case we're in a weird style state\n",
        "sns.set_theme()\n",
        "adjust_fontsize(size=16)\n",
        "%matplotlib inline\n",
        "\n",
        "fig = plt.figure(figsize=(8, 1.5))\n",
        "sns.rugplot(yobs, height=0.25, lw=2) ;\n",
        "plt.axvline(thetahat, color='red', lw=4, label=r\"$\\hat{\\theta}_0$\");\n",
        "plt.legend()\n",
        "plt.yticks([]);\n",
        "# plt.show()"
      ]
    },
    {
      "cell_type": "code",
      "execution_count": null,
      "metadata": {
        "vscode": {
          "languageId": "python"
        }
      },
      "outputs": [],
      "source": [
        "#| code-fold: true\n",
        "# SLR model scatter plot \n",
        "# In case we're in a weird style state\n",
        "sns.set_theme()\n",
        "adjust_fontsize(size=16)\n",
        "%matplotlib inline\n",
        "\n",
        "sns.scatterplot(x=xs, y=yobs)\n",
        "plt.plot(xs, yhats_linear, color='red', lw=4);\n",
        "# plt.savefig('dugong_line.png', bbox_inches = 'tight');\n",
        "# plt.show()"
      ]
    },
    {
      "cell_type": "markdown",
      "metadata": {},
      "source": [
        "Interpreting the RMSE (Root Mean Squared Error):\n",
        "\n",
        "- The constant error is HIGHER than the linear error.\n",
        "\n",
        "Hence,\n",
        "\n",
        "- The constant model is WORSE than the linear model (at least for this metric).\n",
        "\n",
        "## Constant Model + MAE\n",
        "\n",
        "We see now that changing the model used for prediction leads to a wildly different result for the optimal model parameter. What happens if we instead change the loss function used in model evaluation?\n",
        "\n",
        "This time, we will consider the constant model with L1 (absolute loss) as the loss function. This means that the average loss will be expressed as the **Mean Absolute Error (MAE)**.\n",
        "\n",
        "1. Choose a model: constant model\n",
        "2. Choose a loss function: L1 loss\n",
        "3. Fit the model\n",
        "4. Evaluate model performance\n",
        "\n",
        "### Deriving the optimal $\\theta_0$\n",
        "\n",
        "Recall that the MAE is average **absolute** loss (L1 loss) over the data $D = \\{y_1, y_2, ..., y_m\\}$.\n",
        "\n",
        "$$\\hat{R}(\\theta) = \\frac{1}{n}\\sum^{n}_{i=1} |y_i - \\hat{y_i}| $$\n",
        "\n",
        "Given the constant model $\\hat{y} = \\theta_0$, we can write the MAE as:\n",
        "\n",
        "$$\\hat{R}(\\theta) = \\frac{1}{n}\\sum^{n}_{i=1} |y_i - \\theta_0| $$\n",
        "\n",
        "To fit the model, we find the optimal parameter value $\\hat{\\theta}$ by differentiating using a calculus approach:\n",
        "\n",
        "1. Differentiate with respect to $\\hat{\\theta_0}$.\n",
        "\n",
        "$$\\hat{R}(\\theta) = \\frac{1}{n}\\sum^{n}_{i=1} |y_i - \\theta| $$\n",
        "\n",
        "$$\\frac{d}{d\\theta} R(\\theta) = \\frac{d}{d\\theta} \\left(\\frac{1}{n} \\sum^{n}_{i=1} |y_i - \\theta| \\right)$$\n",
        "\n",
        "$$\n",
        "= \\frac{1}{n} \\sum^{n}_{i=1} \\frac{d}{d\\theta} |y_i - \\theta|\n",
        "$$\n",
        "\n",
        "- Here, we seem to have run into a problem: the derivative of an absolute value is undefined when the argument is 0 (i.e. when $y_i = \\theta$). For now, we'll ignore this issue. It turns out that disregarding this case doesn't influence our final result.\n",
        "- To perform the derivative, consider two cases. When $\\theta$ is _less than or equal to_ $y_i$, the term $y_i - \\theta$ will be positive and the absolute value has no impact. When $\\theta$ is _greater than_ $y_i$, the term $y_i - \\theta$ will be negative. Applying the absolute value will convert this to a positive value, which we can express by saying $-(y_i - \\theta) = \\theta - y_i$.\n",
        "\n",
        "$$|y_i - \\theta| = \\begin{cases} y_i - \\theta \\quad \\text{ if } \\theta \\le y_i \\\\ \\theta - y_i \\quad \\text{if }\\theta > y_i \\end{cases}$$\n",
        "\n",
        "- Taking derivatives:\n",
        "\n",
        "$$\\frac{d}{d\\theta} |y_i - \\theta| = \\begin{cases} \\frac{d}{d\\theta} (y_i - \\theta) = -1 \\quad \\text{if }\\theta < y_i \\\\ \\frac{d}{d\\theta} (\\theta - y_i) = 1 \\quad \\text{if }\\theta > y_i \\end{cases}$$\n",
        "\n",
        "- This means that we obtain a different value for the derivative for data points where $\\theta < y_i$ and where $\\theta > y_i$. We can summarize this by saying:\n",
        "\n",
        "$$\n",
        "\\frac{d}{d\\theta} R(\\theta) = \\frac{1}{n} \\sum^{n}_{i=1} \\frac{d}{d\\theta} |y_i - \\theta| \\\\\n",
        "= \\frac{1}{n} \\left[\\sum_{\\hat{\\theta_0} < y_i} (-1) + \\sum_{\\hat{\\theta_0} > y_i} (+1) \\right]\n",
        "$$\n",
        "\n",
        "- In other words, we take the sum of values for $i = 1, 2, ..., n$:\n",
        "  - $-1$ if our observation $y_i$ is _greater than_ our prediction $\\hat{\\theta_0}$\n",
        "  - $+1$ if our observation $y_i$ is _smaller than_ our prediction $\\hat{\\theta_0}$\n",
        "\n",
        "2. Set equal to 0.\n",
        "   $$ 0 = \\frac{1}{n}\\sum*{\\hat{\\theta_0} < y_i} (-1) + \\frac{1}{n}\\sum*{\\hat{\\theta_0} > y_i} (+1) $$\n",
        "\n",
        "3. Solve for $\\hat{\\theta_0}$.\n",
        "   $$ 0 = -\\frac{1}{n}\\sum*{\\hat{\\theta_0} < y_i} (1) + \\frac{1}{n}\\sum*{\\hat{\\theta_0} > y_i} (1)$$\n",
        "\n",
        "$$\\sum_{\\hat{\\theta_0} < y_i} (1) = \\sum_{\\hat{\\theta_0} > y_i} (1) $$\n",
        "\n",
        "Thus, the constant model parameter $\\theta = \\hat{\\theta_0}$ that minimizes MAE must satisfy:\n",
        "\n",
        "$$ \\sum*{\\hat{\\theta_0} < y_i} (1) = \\sum*{\\hat{\\theta_0} > y_i} (1) $$\n",
        "\n",
        "In other words, the number of observations greater than $\\theta_0$ must be equal to the number of observations less than $\\theta_0$; there must be an equal number of points on the left and right sides of the equation. This is the definition of median, so our optimal value is\n",
        "$$ \\hat{\\theta_0} = median(y) $$\n",
        "\n",
        "## Summary: Loss Optimization, Calculus, and Critical Points\n",
        "\n",
        "First, define the **objective function** as average loss.\n",
        "\n",
        "- Plug in L1 or L2 loss.\n",
        "- Plug in the model so that the resulting expression is a function of $\\theta$.\n",
        "\n",
        "Then, find the minimum of the objective function:\n",
        "\n",
        "1. Differentiate with respect to $\\theta$.\n",
        "2. Set equal to 0.\n",
        "3. Solve for $\\hat{\\theta}$.\n",
        "4. (If we have multiple parameters) repeat steps 1-3 with partial derivatives.\n",
        "\n",
        "Recall critical points from calculus: $R(\\hat{\\theta})$ could be a minimum, maximum, or saddle point!\n",
        "\n",
        "- We should technically also perform the second derivative test, i.e., show $R''(\\hat{\\theta}) > 0$.\n",
        "- MSE has a property—**convexity**—that guarantees that $R(\\hat{\\theta})$ is a global minimum.\n",
        "- The proof of convexity for MAE is beyond this course.\n",
        "\n",
        "## Comparing Loss Functions\n",
        "\n",
        "We've now tried our hand at fitting a model under both MSE and MAE cost functions. How do the two results compare?\n",
        "\n",
        "Let's consider a dataset where each entry represents the number of drinks sold at a bubble tea store each day. We'll fit a constant model to predict the number of drinks that will be sold tomorrow.\n"
      ]
    },
    {
      "cell_type": "code",
      "execution_count": null,
      "metadata": {
        "vscode": {
          "languageId": "python"
        }
      },
      "outputs": [],
      "source": [
        "# | code-fold: false\n",
        "drinks = np.array([20, 21, 22, 29, 33])\n",
        "drinks"
      ]
    },
    {
      "cell_type": "markdown",
      "metadata": {},
      "source": [
        "From our derivations above, we know that the optimal model parameter under MSE cost is the mean of the dataset. Under MAE cost, the optimal parameter is the median of the dataset.\n"
      ]
    },
    {
      "cell_type": "code",
      "execution_count": null,
      "metadata": {
        "vscode": {
          "languageId": "python"
        }
      },
      "outputs": [],
      "source": [
        "# | code-fold: false\n",
        "np.mean(drinks), np.median(drinks)"
      ]
    },
    {
      "cell_type": "markdown",
      "metadata": {},
      "source": [
        "If we plot each empirical risk function across several possible values of $\\theta$, we find that each $\\hat{\\theta}$ does indeed correspond to the lowest value of error:\n",
        "\n",
        "<img src=\"images/error.png\" alt='error' width='600'>\n",
        "\n",
        "Notice that the MSE above is a **smooth** function – it is differentiable at all points, making it easy to minimize using numerical methods. The MAE, in contrast, is not differentiable at each of its \"kinks.\" We'll explore how the smoothness of the cost function can impact our ability to apply numerical optimization in a few weeks.\n",
        "\n",
        "How do outliers affect each cost function? Imagine we replace the largest value in the dataset with 1000. The mean of the data increases substantially, while the median is nearly unaffected.\n"
      ]
    },
    {
      "cell_type": "code",
      "execution_count": null,
      "metadata": {
        "vscode": {
          "languageId": "python"
        }
      },
      "outputs": [],
      "source": [
        "# | code-fold: false\n",
        "drinks_with_outlier = np.append(drinks, 1033)\n",
        "display(drinks_with_outlier)\n",
        "np.mean(drinks_with_outlier), np.median(drinks_with_outlier)"
      ]
    },
    {
      "cell_type": "markdown",
      "metadata": {},
      "source": [
        "This means that under the MSE, the optimal model parameter $\\hat{\\theta}$ is strongly affected by the presence of outliers. Under the MAE, the optimal parameter is not as influenced by outlying data. We can generalize this by saying that the MSE is **sensitive** to outliers, while the MAE is **robust** to outliers.\n",
        "\n",
        "Let's try another experiment. This time, we'll add an additional, non-outlying datapoint to the data.\n"
      ]
    },
    {
      "cell_type": "code",
      "execution_count": null,
      "metadata": {
        "vscode": {
          "languageId": "python"
        }
      },
      "outputs": [],
      "source": [
        "# | code-fold: false\n",
        "drinks_with_additional_observation = np.append(drinks, 35)\n",
        "drinks_with_additional_observation"
      ]
    },
    {
      "cell_type": "markdown",
      "metadata": {},
      "source": [
        "When we again visualize the cost functions, we find that the MAE now plots a horizontal line between 22 and 29. This means that there are _infinitely_ many optimal values for the model parameter: any value $\\hat{\\theta} \\in [22, 29]$ will minimize the MAE. In contrast, the MSE still has a single best value for $\\hat{\\theta}$. In other words, the MSE has a **unique** solution for $\\hat{\\theta}$; the MAE is not guaranteed to have a single unique solution.\n",
        "\n",
        "<!-- <div align=\"middle\">\n",
        "<table style=\"width:100%\">\n",
        "      <tr align=\"center\">\n",
        "        <td><img src=\"images/mse_loss.png\" align=\"middle\" width=\"300vw\" />\n",
        "        </td>\n",
        "        <td><img src=\"images/mae_loss.png\" align=\"middle\" width=\"300vw\" />\n",
        "        </td>\n",
        "      </tr>\n",
        "    </table>\n",
        "</div> -->\n",
        "\n",
        "![](images/mse_loss.png) ![](images/mae_loss.png)\n",
        "\n",
        "To summarize our example,\n",
        "\n",
        "| --                          | MSE (Mean Squared Loss)                                                                                         | MAE (Mean Absolute Loss)                                                             |\n",
        "| --------------------------- | --------------------------------------------------------------------------------------------------------------- | ------------------------------------------------------------------------------------ | -------------- | --- |\n",
        "| Loss Function               | $\\hat{R}(\\theta) = \\frac{1}{n}\\sum^{n}_{i=1} (y_i - \\theta_0)^2$                                                | $\\hat{R}(\\theta) = \\frac{1}{n}\\sum^{n}\\_{i=1}                                        | y_i - \\theta_0 | $   |\n",
        "| optimal $\\hat{\\theta_0}$    | $\\hat{\\theta_0} = mean(y) = \\bar{y}$                                                                            | $\\hat{\\theta_0} = median(y)$                                                         |\n",
        "| loss surface                | ![](images/mse_loss.png)                                                                                        | ![](images/mae_loss.png)                                                             |\n",
        "| shape                       | **Smooth** - easy to minimize using numerical methods (in a few weeks)                                          | **Piecewise** - at each of the “kinks,” it’s not differentiable. Harder to minimize. |\n",
        "| outliers                    | **Sensitive** to outliers (since they change mean substantially). Sensitivity also depends on the dataset size. | **More robust** to outliers.                                                         |\n",
        "| $\\hat{\\theta_0}$ uniqueness | **unique** $\\hat{\\theta_0}$                                                                                     | **Infinitely many** $\\hat{\\theta_0}$                                                 |\n",
        "\n",
        "## Transformations to fit Linear Models\n",
        "\n",
        "At this point, we have an effective method of fitting models to predict linear relationships. Given a feature variable and target, we can apply our four-step process to find the optimal model parameters.\n",
        "\n",
        "A key word above is _linear_. When we computed parameter estimates earlier, we assumed that $x_i$ and $y_i$ shared a roughly linear relationship. Data in the real world isn't always so straightforward, but we can transform the data to try and obtain linearity.\n",
        "\n",
        "The **Tukey-Mosteller Bulge Diagram** is a useful tool for summarizing what transformations can linearize the relationship between two variables. To determine what transformations might be appropriate, trace the shape of the \"bulge\" made by your data. Find the quadrant of the diagram that matches this bulge. The transformations shown on the vertical and horizontal axes of this quadrant can help improve the fit between the variables.\n",
        "\n",
        "<img src=\"images/bulge.png\" alt='bulge' width='600'>\n",
        "\n",
        "Note that:\n",
        "\n",
        "- There are multiple solutions. Some will fit better than others.\n",
        "- sqrt and log make a value “smaller.”\n",
        "- Raising to a power makes a value “bigger.”\n",
        "- Each of these transformations equates to increasing or decreasing the scale of an axis.\n",
        "\n",
        "Other goals in addition to linearity are possible, for example, making data appear more symmetric.\n",
        "Linearity allows us to fit lines to the transformed data.\n",
        "\n",
        "Let's revisit our dugongs example. The lengths and ages are plotted below:\n"
      ]
    },
    {
      "cell_type": "code",
      "execution_count": null,
      "metadata": {
        "vscode": {
          "languageId": "python"
        }
      },
      "outputs": [],
      "source": [
        "# | code-fold: true\n",
        "# `corrcoef` computes the correlation coefficient between two variables\n",
        "# `std` finds the standard deviation\n",
        "x = dugongs[\"Length\"]\n",
        "y = dugongs[\"Age\"]\n",
        "r = np.corrcoef(x, y)[0, 1]\n",
        "theta_1 = r * np.std(y) / np.std(x)\n",
        "theta_0 = np.mean(y) - theta_1 * np.mean(x)\n",
        "\n",
        "fig, ax = plt.subplots(1, 2, dpi=200, figsize=(8, 3))\n",
        "ax[0].scatter(x, y)\n",
        "ax[0].set_xlabel(\"Length\")\n",
        "ax[0].set_ylabel(\"Age\")\n",
        "\n",
        "ax[1].scatter(x, y)\n",
        "ax[1].plot(x, theta_0 + theta_1 * x, \"tab:red\")\n",
        "ax[1].set_xlabel(\"Length\")\n",
        "ax[1].set_ylabel(\"Age\")"
      ]
    },
    {
      "cell_type": "markdown",
      "metadata": {},
      "source": [
        "Looking at the plot on the left, we see that there is a slight curvature to the data points. Plotting the SLR curve on the right results in a poor fit.\n",
        "\n",
        "For SLR to perform well, we'd like there to be a rough linear trend relating `\"Age\"` and `\"Length\"`. What is making the raw data deviate from a linear relationship? Notice that the data points with `\"Length\"` greater than 2.6 have disproportionately high values of `\"Age\"` relative to the rest of the data. If we could manipulate these data points to have lower `\"Age\"` values, we'd \"shift\" these points downwards and reduce the curvature in the data. Applying a logarithmic transformation to $y_i$ (that is, taking $\\log($ `\"Age\"` $)$ ) would achieve just that.\n",
        "\n",
        "An important word on $\\log$: in Data 100 (and most upper-division STEM courses), $\\log$ denotes the natural logarithm with base $e$. The base-10 logarithm, where relevant, is indicated by $\\log_{10}$.\n"
      ]
    },
    {
      "cell_type": "code",
      "execution_count": null,
      "metadata": {
        "vscode": {
          "languageId": "python"
        }
      },
      "outputs": [],
      "source": [
        "# | code-fold: true\n",
        "z = np.log(y)\n",
        "\n",
        "r = np.corrcoef(x, z)[0, 1]\n",
        "theta_1 = r * np.std(z) / np.std(x)\n",
        "theta_0 = np.mean(z) - theta_1 * np.mean(x)\n",
        "\n",
        "fig, ax = plt.subplots(1, 2, dpi=200, figsize=(8, 3))\n",
        "ax[0].scatter(x, z)\n",
        "ax[0].set_xlabel(\"Length\")\n",
        "ax[0].set_ylabel(r\"$\\log{(Age)}$\")\n",
        "\n",
        "ax[1].scatter(x, z)\n",
        "ax[1].plot(x, theta_0 + theta_1 * x, \"tab:red\")\n",
        "ax[1].set_xlabel(\"Length\")\n",
        "ax[1].set_ylabel(r\"$\\log{(Age)}$\")\n",
        "\n",
        "plt.subplots_adjust(wspace=0.3)"
      ]
    },
    {
      "cell_type": "markdown",
      "metadata": {},
      "source": [
        "Our SLR fit looks a lot better! We now have a new target variable: the SLR model is now trying to predict the _log_ of `\"Age\"`, rather than the untransformed `\"Age\"`. In other words, we are applying the transformation $z_i = \\log{(y_i)}$. Notice that the resulting model is still **linear in the parameters** $\\theta = [\\theta_0, \\theta_1]$. The SLR model becomes:\n",
        "\n",
        "$$\\log{\\hat{(y_i)}} = \\theta_0 + \\theta_1 x_i$$\n",
        "$$\\hat{z}_i = \\theta_0 + \\theta_1 x_i$$\n",
        "\n",
        "It turns out that this linearized relationship can help us understand the underlying relationship between $x_i$ and $y_i$. If we rearrange the relationship above, we find:\n",
        "\n",
        "$$\n",
        "\\log{(y_i)} = \\theta_0 + \\theta_1 x_i \\\\\n",
        "y_i = e^{\\theta_0 + \\theta_1 x_i} \\\\\n",
        "y_i = (e^{\\theta_0})e^{\\theta_1 x_i} \\\\\n",
        "y_i = C e^{k x_i}\n",
        "$$\n",
        "\n",
        "For some constants $C$ and $k$.\n",
        "\n",
        "$y_i$ is an _exponential_ function of $x_i$. Applying an exponential fit to the untransformed variables corroborates this finding.\n"
      ]
    },
    {
      "cell_type": "code",
      "execution_count": null,
      "metadata": {
        "vscode": {
          "languageId": "python"
        }
      },
      "outputs": [],
      "source": [
        "# | code-fold: true\n",
        "plt.figure(dpi=120, figsize=(4, 3))\n",
        "\n",
        "plt.scatter(x, y)\n",
        "plt.plot(x, np.exp(theta_0) * np.exp(theta_1 * x), \"tab:red\")\n",
        "plt.xlabel(\"Length\")\n",
        "plt.ylabel(\"Age\")"
      ]
    },
    {
      "cell_type": "markdown",
      "metadata": {},
      "source": [
        "You may wonder: why did we choose to apply a log transformation specifically? Why not some other function to linearize the data?\n",
        "\n",
        "Practically, many other mathematical operations that modify the relative scales of `\"Age\"` and `\"Length\"` could have worked here.\n",
        "\n",
        "## Terminology for Multiple Linear Regression\n",
        "\n",
        "There are several equivalent terms in the context of regression. The ones we use most often for this course are bolded.\n",
        "\n",
        "- $x$ can be called a\n",
        "  - **Feature(s)**\n",
        "  - Covariate(s)\n",
        "  - **Independent variable(s)**\n",
        "  - Explanatory variable(s)\n",
        "  - Predictor(s)\n",
        "  - Input(s)\n",
        "  - Regressor(s)\n",
        "- $y$ can be called an\n",
        "  - **Output**\n",
        "  - Outcome\n",
        "  - **Response**\n",
        "  - Dependent variable\n",
        "- $\\hat{y}$ can be called a\n",
        "  - **Prediction**\n",
        "  - Predicted response\n",
        "  - Estimated value\n",
        "- $\\theta$ can be called a\n",
        "  - **Weight(s)**\n",
        "  - **Parameter(s)**\n",
        "  - Coefficient(s)\n",
        "- $\\hat{\\theta}$ can be called a\n",
        "  - **Estimator(s)**\n",
        "  - **Optimal parameter(s)**\n",
        "- A datapoint $(x, y)$ is also called an observation.\n",
        "\n",
        "## Multiple Linear Regression\n",
        "\n",
        "Multiple linear regression is an extension of simple linear regression that adds additional features to the model. The multiple linear regression model takes the form:\n",
        "\n",
        "$$\\hat{y} = \\theta_0\\:+\\:\\theta_1x_{1}\\:+\\:\\theta_2 x_{2}\\:+\\:...\\:+\\:\\theta_p x_{p}$$\n",
        "\n",
        "Our predicted value of $y$, $\\hat{y}$, is a linear combination of the single **observations** (features), $x_i$, and the parameters, $\\theta_i$.\n",
        "\n",
        "We'll dive deeper into Multiple Linear Regression in the next lecture.\n",
        "\n",
        "## Bonus: Calculating Constant Model MSE Using an Algebraic Trick\n",
        "\n",
        "Earlier, we calculated the constant model MSE using calculus. It turns out that there is a much more elegant way of performing this same minimization algebraically, without using calculus at all.\n",
        "\n",
        "In this calculation, we use the fact that the **sum of deviations from the mean is 0** or that $\\sum_{i=1}^{n} (y_i - \\bar{y}) = 0$.\n",
        "\n",
        "Let's quickly walk through the proof for this:\n",
        "$$\\sum_{i=1}^{n} (y_i - \\bar{y}) = \\sum_{i=1}^{n} y_i - \\sum_{i=1}^{n} \\bar{y}$$\n",
        "\n",
        "$$ = \\sum\\_{i=1}^{n} y_i - n\\bar{y}$$\n",
        "\n",
        "$$ = \\sum*{i=1}^{n} y_i - n\\frac{1}{n}\\sum*{i=1}^{n}y$$\n",
        "\n",
        "$$ = \\sum*{i=1}^{n} y_i - \\sum*{i=1}^{n}y_i$$\n",
        "\n",
        "In our calculations, we'll also be using the definition of the variance as a sample. As a refresher:\n",
        "\n",
        "$$\\sigma_y^2 = \\frac{1}{n}\\sum_{i=1}^{n} (y_i - \\bar{y})^2$$\n",
        "\n",
        "Getting into our calculation for MSE minimization:\n",
        "\n",
        "$$\n",
        "\\begin{align}\n",
        "R(\\theta) &= {\\frac{1}{n}}\\sum^{n}_{i=1} (y_i - \\theta)^2\n",
        "\\\\ &= \\frac{1}{n}\\sum^{n}_{i=1} [(y_i - \\bar{y}) + (\\bar{y} - \\theta)]^2\\quad \\quad \\text{using trick that a-b can be written as (a-c) + (c-b) where a, b, and c are any numbers}\n",
        "\\\\ &= \\frac{1}{n}\\sum^{n}_{i=1} [(y_i - \\bar{y})^2 + 2(y_i - \\bar{y})(\\bar{y} - \\theta) + (\\bar{y} - \\theta)^2]\n",
        "\\\\ &= \\frac{1}{n}[\\sum^{n}_{i=1}(y_i - \\bar{y})^2 + 2(\\bar{y} - \\theta)\\sum^{n}_{i=1}(y_i - \\bar{y}) + n(\\bar{y} - \\theta)^2 \\quad \\quad  \\text{distribute the sum to individual terms}\n",
        "\\\\ &= \\frac{1}{n}\\sum^{n}_{i=1}(y_i - \\bar{y})^2 + \\frac{2}{n}(\\bar{y} - \\theta)\\cdot0 + (\\bar{y} - \\theta)^2 \\quad \\quad  \\text{using property that sum of deviations from mean is 0}\n",
        "\\\\ &= \\sigma_y^2 + (\\bar{y} - \\theta)^2\n",
        "\\end{align}\n",
        "$$\n",
        "\n",
        "Since variance can't be negative, we know that our first term, $\\sigma_y^2$ is greater than or equal to 0. Also note, that the first term doesn't involve $\\theta$ at all, meaning changing our model won't change this value. For the purposes of determining $\\hat{\\theta}#, we can essentially then ignore this term.\n",
        "\n",
        "Looking at the second term, $(\\bar{y} - \\theta)^2$, since it is squared, we know it must be greater than or equal to 0. As this term does involve $\\theta$, picking the value of $\\theta$ that minimizes this term will allow us to minimize our average loss. For the second term to equal 0, $\\theta = \\bar{y}$, or in other words, $\\hat{\\theta} = \\bar{y} = mean(y)$.\n",
        "\n",
        "##### Note\n",
        "\n",
        "In the derivation above, we decompose the expected loss, $R(\\theta)$, into two key components: the variance of the data, $\\sigma_y^2$, and the square of the bias, $(\\bar{y} - \\theta)^2$. This decomposition is insightful for understanding the behavior of estimators in statistical models.\n",
        "\n",
        "- **Variance, $\\sigma_y^2$**: This term represents the spread of the data points around their mean, $\\bar{y}$, and is a measure of the data's inherent variability. Importantly, it does not depend on the choice of $\\theta$, meaning it's a fixed property of the data. Variance serves as an indicator of the data's dispersion and is crucial in understanding the dataset's structure, but it remains constant regardless of how we adjust our model parameter $\\theta$.\n",
        "\n",
        "- **Bias Squared, $(\\bar{y} - \\theta)^2$**: This term captures the bias of the estimator, defined as the square of the difference between the mean of the data points, $\\bar{y}$, and the parameter $\\theta$. The bias quantifies the systematic error introduced when estimating $\\theta$. Minimizing this term is essential for improving the accuracy of the estimator. When $\\theta = \\bar{y}$, the bias is zero, indicating that the estimator is unbiased for the parameter it estimates. This highlights a critical principle in statistical estimation: choosing $\\theta$ to be the sample mean, $\\bar{y}$, minimizes the average loss, rendering the estimator both efficient and unbiased for the population mean.\n"
      ]
    }
  ],
  "metadata": {
    "jupytext": {
      "text_representation": {
        "extension": ".qmd",
        "format_name": "quarto",
        "format_version": "1.0",
        "jupytext_version": "1.16.1"
      }
    },
    "kernelspec": {
      "display_name": "Python 3 (ipykernel)",
      "language": "python",
      "name": "python3"
    }
  },
  "nbformat": 4,
  "nbformat_minor": 4
}
