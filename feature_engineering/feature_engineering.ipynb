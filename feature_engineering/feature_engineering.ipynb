{
  "cells": [
    {
      "cell_type": "raw",
      "metadata": {},
      "source": [
        "---\n",
        "title: Feature Engineering\n",
        "execute:\n",
        "  echo: true\n",
        "  warning: false\n",
        "format:\n",
        "  html:\n",
        "    code-fold: true\n",
        "    code-tools: true\n",
        "    toc: true\n",
        "    toc-title: Feature Engineering\n",
        "    page-layout: full\n",
        "    theme:\n",
        "      - cosmo\n",
        "      - cerulean\n",
        "    callout-icon: false\n",
        "---"
      ]
    },
    {
      "attachments": {},
      "cell_type": "markdown",
      "metadata": {},
      "source": [
        "::: {.callout-note collapse=\"true\"}\n",
        "## Learning Outcomes\n",
        "* Recognize the value of feature engineering as a tool to improve model performance\n",
        "* Implement polynominal feature generation and one hot encoding\n",
        "* Understand the interactions between model complexity, model variance, and training error\n",
        ":::\n",
        "\n",
        "At this point in the course, we've equipped ourselves with some powerful techniques to build and optimize models. We've explored how to develop models of multiple variables, as well as how to fit these models to maximize their performance.\n",
        "\n",
        "All of this was done with one major caveat: the regression models we've worked with so far are all **linear in the input variables**. We've assumed that our predictions should be some combination of linear variables. While this works well in some cases, the real world isn't always so straightforward. In today's lecture, we'll learn an important method to address this issue – and consider some new problems that can arise when we do so.\n",
        "\n",
        "## Feature Engineering\n",
        "\n",
        "Feature Engineering is the process of *transforming* the raw features into *more informative features* that can be used in modeling or EDA tasks.\n",
        "\n",
        "Feature engineering allows you to:\n",
        "Capture domain knowledge (e.g. periodicity or relationships between features).\n",
        "Express non-linear relationships using simple linear models.\n",
        "Encode non-numeric features to be used as inputs to models.\n",
        "Example: Using the country of origin of a car as an input to modeling its efficiency.\n",
        "\n",
        "\n",
        "Why doesn’t sklearn doesn’t have SquareRegression /PolynomialRegression.\n",
        "\n",
        "- We can translate these into linear models with features that are polynomials of x.\n",
        "- Feature engineering saves `sklearn` a lot of redundancy in their library.\n",
        "- Linear models have really nice properties.\n",
        "\n",
        "\n",
        "\n",
        "## Feature Functions\n",
        "\n",
        "A feature function takes our original d dimensional input, $\\mathbb{X}$, and transforms it into a $d'$ dimensional input $\\Phi$.\n",
        "\n",
        "For example, when we add the squared term of an existing column, we are effectively using kind of feature function, taking a $n \\times 1$ matrix, $[hp]$, and turning it into an $n \\times 2$ matrix $[hp,hp^2]$ \n",
        "\n",
        "As number of features grows, we can capture arbitrarily complex relationships.\n",
        "\n",
        "Let's take a moment to dig further in to remind ourselves where this linearity comes from. Consider the following dataset on vehicles:"
      ]
    },
    {
      "cell_type": "code",
      "execution_count": 1,
      "metadata": {},
      "outputs": [
        {
          "data": {
            "text/html": [
              "<div>\n",
              "<style scoped>\n",
              "    .dataframe tbody tr th:only-of-type {\n",
              "        vertical-align: middle;\n",
              "    }\n",
              "\n",
              "    .dataframe tbody tr th {\n",
              "        vertical-align: top;\n",
              "    }\n",
              "\n",
              "    .dataframe thead th {\n",
              "        text-align: right;\n",
              "    }\n",
              "</style>\n",
              "<table border=\"1\" class=\"dataframe\">\n",
              "  <thead>\n",
              "    <tr style=\"text-align: right;\">\n",
              "      <th></th>\n",
              "      <th>mpg</th>\n",
              "      <th>cylinders</th>\n",
              "      <th>displacement</th>\n",
              "      <th>hp</th>\n",
              "      <th>weight</th>\n",
              "      <th>acceleration</th>\n",
              "      <th>model_year</th>\n",
              "      <th>origin</th>\n",
              "      <th>name</th>\n",
              "    </tr>\n",
              "  </thead>\n",
              "  <tbody>\n",
              "    <tr>\n",
              "      <th>0</th>\n",
              "      <td>18.0</td>\n",
              "      <td>8</td>\n",
              "      <td>307.0</td>\n",
              "      <td>130.0</td>\n",
              "      <td>3504</td>\n",
              "      <td>12.0</td>\n",
              "      <td>70</td>\n",
              "      <td>usa</td>\n",
              "      <td>chevrolet chevelle malibu</td>\n",
              "    </tr>\n",
              "    <tr>\n",
              "      <th>1</th>\n",
              "      <td>15.0</td>\n",
              "      <td>8</td>\n",
              "      <td>350.0</td>\n",
              "      <td>165.0</td>\n",
              "      <td>3693</td>\n",
              "      <td>11.5</td>\n",
              "      <td>70</td>\n",
              "      <td>usa</td>\n",
              "      <td>buick skylark 320</td>\n",
              "    </tr>\n",
              "    <tr>\n",
              "      <th>2</th>\n",
              "      <td>18.0</td>\n",
              "      <td>8</td>\n",
              "      <td>318.0</td>\n",
              "      <td>150.0</td>\n",
              "      <td>3436</td>\n",
              "      <td>11.0</td>\n",
              "      <td>70</td>\n",
              "      <td>usa</td>\n",
              "      <td>plymouth satellite</td>\n",
              "    </tr>\n",
              "    <tr>\n",
              "      <th>3</th>\n",
              "      <td>16.0</td>\n",
              "      <td>8</td>\n",
              "      <td>304.0</td>\n",
              "      <td>150.0</td>\n",
              "      <td>3433</td>\n",
              "      <td>12.0</td>\n",
              "      <td>70</td>\n",
              "      <td>usa</td>\n",
              "      <td>amc rebel sst</td>\n",
              "    </tr>\n",
              "    <tr>\n",
              "      <th>4</th>\n",
              "      <td>17.0</td>\n",
              "      <td>8</td>\n",
              "      <td>302.0</td>\n",
              "      <td>140.0</td>\n",
              "      <td>3449</td>\n",
              "      <td>10.5</td>\n",
              "      <td>70</td>\n",
              "      <td>usa</td>\n",
              "      <td>ford torino</td>\n",
              "    </tr>\n",
              "  </tbody>\n",
              "</table>\n",
              "</div>"
            ],
            "text/plain": [
              "    mpg  cylinders  displacement     hp  weight  acceleration  model_year  \\\n",
              "0  18.0          8         307.0  130.0    3504          12.0          70   \n",
              "1  15.0          8         350.0  165.0    3693          11.5          70   \n",
              "2  18.0          8         318.0  150.0    3436          11.0          70   \n",
              "3  16.0          8         304.0  150.0    3433          12.0          70   \n",
              "4  17.0          8         302.0  140.0    3449          10.5          70   \n",
              "\n",
              "  origin                       name  \n",
              "0    usa  chevrolet chevelle malibu  \n",
              "1    usa          buick skylark 320  \n",
              "2    usa         plymouth satellite  \n",
              "3    usa              amc rebel sst  \n",
              "4    usa                ford torino  "
            ]
          },
          "execution_count": 1,
          "metadata": {},
          "output_type": "execute_result"
        }
      ],
      "source": [
        "import seaborn as sns\n",
        "vehicles = sns.load_dataset(\"mpg\").rename(columns={\"horsepower\":\"hp\"}).dropna()\n",
        "vehicles.head(5)"
      ]
    },
    {
      "cell_type": "markdown",
      "metadata": {},
      "source": [
        "Suppose we wish to develop a model to predict a vehicle's fuel efficiency (`\"mpg\"`) as a function of its horsepower (`\"hp\"`). Glancing at the plot below, we see that the relationship between `\"mpg\"` and `\"hp\"` is non-linear – an SLR fit doesn't capture the relationship between the two variables.\n",
        "\n",
        "<img src=\"images/degree_1.png\" alt='degree_1' width='600'>\n",
        "\n",
        "Recall our standard multiple linear regression model. In its current form, it is linear in terms of both $\\theta_i$ and $x$:\n",
        "\n",
        "$$\\hat{y} = \\theta_0 + \\theta_1 x + \\theta_2 x\\:+\\:...$$\n",
        "\n",
        "Just by eyeballing the `vehicle` data plotted above, it seems that a *quadratic* model might be more appropriate. In other words, a model of the form below would likely do a better job of capturing the non-linear relationship between the two variables:\n",
        "\n",
        "$$\\hat{y} = \\theta_0 + \\theta_1 x + \\theta_2 x^2$$\n",
        "\n",
        "This looks fairly similar to our original multiple regression framework! Importantly, it is **still linear in $\\theta_i$** – the prediction $\\hat{y}$ is a linear combination of the model parameters. This means that we can use the same linear algebra methods as before to derive the optimal model parameters when fitting the model.\n",
        "\n",
        "You may be wondering: how can this be a linear model if there is now a $x^2$ term? Although the model contains non-linear $x$ terms, it is linear with respect to the *model parameters*, $\\theta_i$. Because our OLS derivation relied on assuming a linear model of $\\theta_i$, the method is still valid to fit this new model.\n",
        "\n",
        "If we refit the model with `\"hp\"` squared as its own feature, we see that the model follows the data much more closely.\n",
        "\n",
        "$$\\hat{\\text{mpg}} = \\theta_0 + \\theta_1 (\\text{hp}) + \\theta_2 (\\text{hp})^2$$\n",
        "\n",
        "<img src=\"images/degree_2.png\" alt='degree_2' width='600'>\n",
        "\n",
        "Looks much better! What we've done here is called **feature engineering**: the process of transforming the raw features of a dataset into more informative features for modeling. By squaring the `\"hp\"` feature, we were able to create a new feature that signficantly improved the quality of our model.\n",
        "\n",
        "We perform feature engineering by defining a **feature function**. A feature function is some function applied to the original variables in the data to generate one or more new features. More formally, a feature function is said to take a $d$ dimensional input and transform it to a $p$ dimensional input. This results in a new, feature-engineered design matrix that we rename $\\Phi$.\n",
        "\n",
        "$$\\mathbb{X} \\in \\mathbb{R}^{n \\times d} \\longrightarrow \\Phi \\in \\mathbb{R}^{n \\times p}$$\n",
        "\n",
        "In the `vehicles` example above, we applied a feature function to transform the original input with $d=1$ features into an engineered design matrix with $p=2$ features.\n",
        "\n",
        "## One Hot Encoding\n",
        "Feature engineering opens up a whole new set of possibilities for designing better performing models. As you will see in lab and homework, feature engineering is one of the most important parts of the entire modeling process.\n",
        "\n",
        "A particularly powerful use of feature engineering is to allow us to perform regression on non-numeric features. **One hot encoding** is a feature engineering technique that generates numeric features from categorical data, allowing us to use our usual methods to fit a regression model on the data. \n",
        "\n",
        "To illustrate how this works, we'll refer back to the `tips` data from last lecture. Consider the `\"day\"` column of the dataset:"
      ]
    },
    {
      "cell_type": "code",
      "execution_count": 2,
      "metadata": {},
      "outputs": [
        {
          "data": {
            "text/html": [
              "<div>\n",
              "<style scoped>\n",
              "    .dataframe tbody tr th:only-of-type {\n",
              "        vertical-align: middle;\n",
              "    }\n",
              "\n",
              "    .dataframe tbody tr th {\n",
              "        vertical-align: top;\n",
              "    }\n",
              "\n",
              "    .dataframe thead th {\n",
              "        text-align: right;\n",
              "    }\n",
              "</style>\n",
              "<table border=\"1\" class=\"dataframe\">\n",
              "  <thead>\n",
              "    <tr style=\"text-align: right;\">\n",
              "      <th></th>\n",
              "      <th>day</th>\n",
              "    </tr>\n",
              "  </thead>\n",
              "  <tbody>\n",
              "    <tr>\n",
              "      <th>54</th>\n",
              "      <td>Sun</td>\n",
              "    </tr>\n",
              "    <tr>\n",
              "      <th>46</th>\n",
              "      <td>Sun</td>\n",
              "    </tr>\n",
              "    <tr>\n",
              "      <th>86</th>\n",
              "      <td>Thur</td>\n",
              "    </tr>\n",
              "    <tr>\n",
              "      <th>199</th>\n",
              "      <td>Thur</td>\n",
              "    </tr>\n",
              "    <tr>\n",
              "      <th>106</th>\n",
              "      <td>Sat</td>\n",
              "    </tr>\n",
              "  </tbody>\n",
              "</table>\n",
              "</div>"
            ],
            "text/plain": [
              "      day\n",
              "54    Sun\n",
              "46    Sun\n",
              "86   Thur\n",
              "199  Thur\n",
              "106   Sat"
            ]
          },
          "execution_count": 2,
          "metadata": {},
          "output_type": "execute_result"
        }
      ],
      "source": [
        "import numpy as np\n",
        "np.random.seed(1337)\n",
        "tips = sns.load_dataset(\"tips\").sample(100)\n",
        "tips[[\"day\"]].head(5)"
      ]
    },
    {
      "cell_type": "markdown",
      "metadata": {},
      "source": [
        "   At first glance, it doesn't seem possible to fit a regression model to this data – we can't directly perform any mathematical operations on the entry \"Thur\". \n",
        "  \n",
        "To resolve this, we instead create a new table with a feature for each unique value in the original `\"day\"` column. We then iterate through the `\"day\"` column. For each entry in `\"day\"` we fill the corresponding feature in the new table with 1. All other features are set to 0.\n",
        "\n",
        "<img src=\"images/ohe.png\" alt='ohe' width='600'>\n",
        "\n",
        "This can be implemented in code using `pd.get_dummies` to generate the one hot encoding, then calling `pd.concat` to combine these new features with the original DataFrame."
      ]
    },
    {
      "cell_type": "code",
      "execution_count": 3,
      "metadata": {},
      "outputs": [
        {
          "data": {
            "text/html": [
              "<div>\n",
              "<style scoped>\n",
              "    .dataframe tbody tr th:only-of-type {\n",
              "        vertical-align: middle;\n",
              "    }\n",
              "\n",
              "    .dataframe tbody tr th {\n",
              "        vertical-align: top;\n",
              "    }\n",
              "\n",
              "    .dataframe thead th {\n",
              "        text-align: right;\n",
              "    }\n",
              "</style>\n",
              "<table border=\"1\" class=\"dataframe\">\n",
              "  <thead>\n",
              "    <tr style=\"text-align: right;\">\n",
              "      <th></th>\n",
              "      <th>total_bill</th>\n",
              "      <th>tip</th>\n",
              "      <th>sex</th>\n",
              "      <th>smoker</th>\n",
              "      <th>day</th>\n",
              "      <th>time</th>\n",
              "      <th>size</th>\n",
              "      <th>Thur</th>\n",
              "      <th>Fri</th>\n",
              "      <th>Sat</th>\n",
              "      <th>Sun</th>\n",
              "    </tr>\n",
              "  </thead>\n",
              "  <tbody>\n",
              "    <tr>\n",
              "      <th>54</th>\n",
              "      <td>25.56</td>\n",
              "      <td>4.34</td>\n",
              "      <td>Male</td>\n",
              "      <td>No</td>\n",
              "      <td>Sun</td>\n",
              "      <td>Dinner</td>\n",
              "      <td>4</td>\n",
              "      <td>0</td>\n",
              "      <td>0</td>\n",
              "      <td>0</td>\n",
              "      <td>1</td>\n",
              "    </tr>\n",
              "    <tr>\n",
              "      <th>46</th>\n",
              "      <td>22.23</td>\n",
              "      <td>5.00</td>\n",
              "      <td>Male</td>\n",
              "      <td>No</td>\n",
              "      <td>Sun</td>\n",
              "      <td>Dinner</td>\n",
              "      <td>2</td>\n",
              "      <td>0</td>\n",
              "      <td>0</td>\n",
              "      <td>0</td>\n",
              "      <td>1</td>\n",
              "    </tr>\n",
              "    <tr>\n",
              "      <th>86</th>\n",
              "      <td>13.03</td>\n",
              "      <td>2.00</td>\n",
              "      <td>Male</td>\n",
              "      <td>No</td>\n",
              "      <td>Thur</td>\n",
              "      <td>Lunch</td>\n",
              "      <td>2</td>\n",
              "      <td>1</td>\n",
              "      <td>0</td>\n",
              "      <td>0</td>\n",
              "      <td>0</td>\n",
              "    </tr>\n",
              "    <tr>\n",
              "      <th>199</th>\n",
              "      <td>13.51</td>\n",
              "      <td>2.00</td>\n",
              "      <td>Male</td>\n",
              "      <td>Yes</td>\n",
              "      <td>Thur</td>\n",
              "      <td>Lunch</td>\n",
              "      <td>2</td>\n",
              "      <td>1</td>\n",
              "      <td>0</td>\n",
              "      <td>0</td>\n",
              "      <td>0</td>\n",
              "    </tr>\n",
              "    <tr>\n",
              "      <th>106</th>\n",
              "      <td>20.49</td>\n",
              "      <td>4.06</td>\n",
              "      <td>Male</td>\n",
              "      <td>Yes</td>\n",
              "      <td>Sat</td>\n",
              "      <td>Dinner</td>\n",
              "      <td>2</td>\n",
              "      <td>0</td>\n",
              "      <td>0</td>\n",
              "      <td>1</td>\n",
              "      <td>0</td>\n",
              "    </tr>\n",
              "  </tbody>\n",
              "</table>\n",
              "</div>"
            ],
            "text/plain": [
              "     total_bill   tip   sex smoker   day    time  size  Thur  Fri  Sat  Sun\n",
              "54        25.56  4.34  Male     No   Sun  Dinner     4     0    0    0    1\n",
              "46        22.23  5.00  Male     No   Sun  Dinner     2     0    0    0    1\n",
              "86        13.03  2.00  Male     No  Thur   Lunch     2     1    0    0    0\n",
              "199       13.51  2.00  Male    Yes  Thur   Lunch     2     1    0    0    0\n",
              "106       20.49  4.06  Male    Yes   Sat  Dinner     2     0    0    1    0"
            ]
          },
          "execution_count": 3,
          "metadata": {},
          "output_type": "execute_result"
        }
      ],
      "source": [
        "#| code-fold: false\n",
        "import pandas as pd\n",
        "\n",
        "# Perform the one hot encoding\n",
        "ohe = pd.get_dummies(tips[\"day\"])\n",
        "\n",
        "# Combine with original features\n",
        "tips = pd.concat([tips, ohe], axis=1)\n",
        "tips.head(5)"
      ]
    },
    {
      "attachments": {},
      "cell_type": "markdown",
      "metadata": {},
      "source": [
        "Now, the data is ready to fit a model.\n",
        "\n",
        "## Higher-order Polynomial Example\n",
        "\n",
        "Let’s return to where we started today: Creating higher-order polynomial features for the mpg dataset.\n",
        "\n",
        "What happens if we add a feature corresponding to the horsepower cubed?\n",
        " -Will we get better results?\n",
        " -What will the model look like?\n",
        "\n",
        "Let’s try it out:"
      ]
    },
    {
      "cell_type": "code",
      "execution_count": 41,
      "metadata": {},
      "outputs": [],
      "source": [
        "from sklearn.pipeline import Pipeline\n",
        "from sklearn.preprocessing import PolynomialFeatures\n",
        "from sklearn.metrics import mean_squared_error\n",
        "from sklearn.linear_model import LinearRegression\n",
        "import matplotlib.pyplot as plt\n",
        "\n",
        "\n",
        "vehicle_data = sns.load_dataset(\"mpg\")\n",
        "vehicle_data = vehicle_data.rename(columns = {\"horsepower\": \"hp\"})\n",
        "vehicle_data = vehicle_data.dropna()\n",
        "\n",
        "\n",
        "def get_MSE_for_degree_k_model(k):\n",
        "    pipelined_model = Pipeline([\n",
        "        ('poly_transform', PolynomialFeatures(degree = k)),\n",
        "        ('regression', LinearRegression(fit_intercept = True))    \n",
        "    ])\n",
        "    pipelined_model.fit(vehicle_data[[\"hp\"]], vehicle_data[\"mpg\"])\n",
        "    return mean_squared_error(pipelined_model.predict(vehicle_data[[\"hp\"]]), vehicle_data[\"mpg\"])\n",
        "\n",
        "ks = np.array(range(0, 7))\n",
        "MSEs = [get_MSE_for_degree_k_model(k) for k in ks]\n",
        "MSEs_and_k = pd.DataFrame({\"k\": ks, \"MSE\": MSEs})\n",
        "MSEs_and_k.set_index(\"k\")\n",
        "\n",
        "\n",
        "\n",
        "\n",
        "def plot_degree_k_model(k):\n",
        "    pipelined_model = Pipeline([\n",
        "        ('poly_transform', PolynomialFeatures(degree = k)),\n",
        "        ('regression', LinearRegression(fit_intercept = True))    \n",
        "    ])\n",
        "    pipelined_model.fit(vehicle_data[[\"hp\"]], vehicle_data[\"mpg\"])\n",
        "    \n",
        "    fig,ax = plt.subplots()\n",
        "\n",
        "    ax.scatter(x=vehicle_data['hp'], y = vehicle_data['mpg'])\n",
        "    \n",
        "    x_range = np.linspace(45, 210, 100)\n",
        "\n",
        "    ax.plot(x_range, pipelined_model.predict(x_range.reshape(-1, 1)), color = \"red\")\n",
        "    ax.set_xlabel(\"hp\")\n",
        "    ax.set_ylabel(\"mpg\")\n",
        "    return fig\n",
        "\n"
      ]
    },
    {
      "attachments": {},
      "cell_type": "markdown",
      "metadata": {},
      "source": [
        "We can plot each polynomial separately and analyze their performance."
      ]
    },
    {
      "cell_type": "code",
      "execution_count": 55,
      "metadata": {},
      "outputs": [
        {
          "name": "stdout",
          "output_type": "stream",
          "text": [
            "k       1.000000\n",
            "MSE    23.943663\n",
            "Name: 1, dtype: float64\n"
          ]
        },
        {
          "name": "stderr",
          "output_type": "stream",
          "text": [
            "c:\\Users\\phanm\\anaconda3\\lib\\site-packages\\sklearn\\base.py:450: UserWarning:\n",
            "\n",
            "X does not have valid feature names, but PolynomialFeatures was fitted with feature names\n",
            "\n"
          ]
        },
        {
          "data": {
            "image/png": "[encoded data removed]",
            "text/plain": [
              "<Figure size 432x288 with 1 Axes>"
            ]
          },
          "metadata": {
            "needs_background": "light"
          },
          "output_type": "display_data"
        }
      ],
      "source": [
        "plot_degree_k_model(1);\n",
        "print(MSEs_and_k.loc[1,:])"
      ]
    },
    {
      "attachments": {},
      "cell_type": "markdown",
      "metadata": {},
      "source": [
        "Not that good, there seems to be a pattern in our errors."
      ]
    },
    {
      "cell_type": "code",
      "execution_count": 54,
      "metadata": {},
      "outputs": [
        {
          "name": "stdout",
          "output_type": "stream",
          "text": [
            "k       2.000000\n",
            "MSE    18.984769\n",
            "Name: 2, dtype: float64\n"
          ]
        },
        {
          "name": "stderr",
          "output_type": "stream",
          "text": [
            "c:\\Users\\phanm\\anaconda3\\lib\\site-packages\\sklearn\\base.py:450: UserWarning:\n",
            "\n",
            "X does not have valid feature names, but PolynomialFeatures was fitted with feature names\n",
            "\n"
          ]
        },
        {
          "data": {
            "image/png": "[encoded data removed]",
            "text/plain": [
              "<Figure size 432x288 with 1 Axes>"
            ]
          },
          "metadata": {
            "needs_background": "light"
          },
          "output_type": "display_data"
        }
      ],
      "source": [
        "plot_degree_k_model(2);\n",
        "print(MSEs_and_k.loc[2,:])"
      ]
    },
    {
      "attachments": {},
      "cell_type": "markdown",
      "metadata": {},
      "source": [
        "This plot seems to match our data much more consistently across `hp` values"
      ]
    },
    {
      "cell_type": "code",
      "execution_count": 53,
      "metadata": {},
      "outputs": [
        {
          "name": "stdout",
          "output_type": "stream",
          "text": [
            "k       3.00000\n",
            "MSE    18.94499\n",
            "Name: 3, dtype: float64\n"
          ]
        },
        {
          "name": "stderr",
          "output_type": "stream",
          "text": [
            "c:\\Users\\phanm\\anaconda3\\lib\\site-packages\\sklearn\\base.py:450: UserWarning:\n",
            "\n",
            "X does not have valid feature names, but PolynomialFeatures was fitted with feature names\n",
            "\n"
          ]
        },
        {
          "data": {
            "image/png": "[encoded data removed]",
            "text/plain": [
              "<Figure size 432x288 with 1 Axes>"
            ]
          },
          "metadata": {
            "needs_background": "light"
          },
          "output_type": "display_data"
        }
      ],
      "source": [
        "plot_degree_k_model(3);\n",
        "print(MSEs_and_k.loc[3,:])"
      ]
    },
    {
      "attachments": {},
      "cell_type": "markdown",
      "metadata": {},
      "source": [
        "With a cubic term, we observe a small improvement in MSE.\n",
        "\n",
        "Qualitatively, the curve looks quite similar. Only slightly better prediction power, but what happens if we add even higher order features?\n",
        "\n",
        "\n"
      ]
    },
    {
      "cell_type": "code",
      "execution_count": 58,
      "metadata": {},
      "outputs": [
        {
          "name": "stdout",
          "output_type": "stream",
          "text": [
            "k       4.000000\n",
            "MSE    18.876333\n",
            "Name: 4, dtype: float64\n"
          ]
        },
        {
          "name": "stderr",
          "output_type": "stream",
          "text": [
            "c:\\Users\\phanm\\anaconda3\\lib\\site-packages\\sklearn\\base.py:450: UserWarning:\n",
            "\n",
            "X does not have valid feature names, but PolynomialFeatures was fitted with feature names\n",
            "\n"
          ]
        },
        {
          "data": {
            "image/png": "[encoded data removed]",
            "text/plain": [
              "<Figure size 432x288 with 1 Axes>"
            ]
          },
          "metadata": {
            "needs_background": "light"
          },
          "output_type": "display_data"
        }
      ],
      "source": [
        "plot_degree_k_model(4);\n",
        "print(MSEs_and_k.loc[4,:])\n"
      ]
    },
    {
      "cell_type": "code",
      "execution_count": 59,
      "metadata": {},
      "outputs": [
        {
          "name": "stdout",
          "output_type": "stream",
          "text": [
            "k       5.000000\n",
            "MSE    18.426969\n",
            "Name: 5, dtype: float64\n"
          ]
        },
        {
          "name": "stderr",
          "output_type": "stream",
          "text": [
            "c:\\Users\\phanm\\anaconda3\\lib\\site-packages\\sklearn\\base.py:450: UserWarning:\n",
            "\n",
            "X does not have valid feature names, but PolynomialFeatures was fitted with feature names\n",
            "\n"
          ]
        },
        {
          "data": {
            "image/png": "[encoded data removed]",
            "text/plain": [
              "<Figure size 432x288 with 1 Axes>"
            ]
          },
          "metadata": {
            "needs_background": "light"
          },
          "output_type": "display_data"
        }
      ],
      "source": [
        "plot_degree_k_model(5);\n",
        "print(MSEs_and_k.loc[5,:])"
      ]
    },
    {
      "attachments": {},
      "cell_type": "markdown",
      "metadata": {},
      "source": [
        "It seems we have hit a plateau ever since we reached 18mpg. However, it is still improving bit by bit. This trend will continue as we add more and more terms to our model. However, there ain't no free lunch. This decreasing of the MSE is coming at a major cost!"
      ]
    },
    {
      "attachments": {},
      "cell_type": "markdown",
      "metadata": {},
      "source": [
        "\n",
        "## Variance and Training Error\n",
        "\n",
        "We've seen now that feature engineering allows us to build all sorts of features to improve the performance of the model. In particular, we saw that designing a more complex feature (squaring `\"hp\"` in the `vehicles` data previously) substantially improved the model's ability to capture non-linear relationships. To take full advantage of this, we might be inclined to design increasingly complex features. Consider the following three models, each of different order (the maximum exponent power of each model):\n",
        "\n",
        "* Model with order 1: $\\hat{\\text{mpg}} = \\theta_0 + \\theta_1 (\\text{hp})$\n",
        "* Model with order 2: $\\hat{\\text{mpg}} = \\theta_0 + \\theta_1 (\\text{hp}) + \\theta_2 (\\text{hp})^2$\n",
        "* Model with order 4: $\\hat{\\text{mpg}} = \\theta_0 + \\theta_1 (\\text{hp}) + \\theta_2 (\\text{hp})^2 + \\theta_3 (\\text{hp})^3 + \\theta_4 (\\text{hp})^4$\n",
        "\n",
        "<br/>\n",
        "\n",
        "<img src=\"images/degree_comparison.png\" alt='degree_comparison' width='800'>\n",
        "\n",
        "When we use our model to make predictions on the same data that was used to fit the model, we find that the MSE decreases with increasingly complex models. The **training error** is the model's error when generating predictions from the same data that was used for training purposes. We can conclude that the training error goes down as the complexity of the model increases. \n",
        "\n",
        "<img src=\"images/train_error.png\" alt='train_error' width='500'>\n",
        "\n",
        "This seems like good news – when working on the **training data**, we can improve model performance by designing increasingly complex models. \n",
        "\n",
        "However, high model complexity comes with its own set of issues. When a model has many complicated features, it becomes increasingly sensitive to the data used to fit it. Even a small variation in the data points used to train the model may result in wildly different results for the fitted model. The plots below illustrate this idea. In each case, we've fit a model to two very similar sets of data (in fact, they only differ by two data points!). Notice that the model with order 2 appears roughly the same across the two sets of data; in contrast, the model with order 4 changes erratically across the two datasets.\n",
        "\n",
        "<img src=\"images/model_variance.png\" alt='model_variance' width='600'>\n",
        "\n",
        "The sensitivity of the model to the data used to train it is called the **model variance**. As we saw above, model variance tends to increase with model complexity. \n",
        "\n",
        "<img src=\"images/bvt.png\" alt='bvt' width='500'>\n",
        "\n",
        "## Overfitting\n",
        "\n",
        "We can see that there is a clear \"trade-off\" that comes from the complexity of our model. As model complexity increases, the model's error on the training data decreases. At the same time, the model's variance tends to increase.\n",
        "\n",
        "Why does this matter? To answer this question, let's take a moment to review our modeling workflow when making predictions on new data. \n",
        "\n",
        "1. Sample a dataset of training data from the real world\n",
        "2. Use this training data to fit a model\n",
        "3. Apply this fitted model to generate predictions on unseen data \n",
        "\n",
        "This first step – sampling training data – is important to remember in our analysis. As we saw above, a highly complex model may produce results that vary wildly across different samples of training data. If we happen to sample a set of training data that is a poor representation of the population we are trying to model, our model may perform poorly on any new set of data it has not seen before.\n",
        "\n",
        "To see why, consider a model fit using the training data shown on the left. Because the model is so complex, it achieves zero error on the training set – it perfectly predicts each value in the training data! When we go to use this model to make predictions on a new sample of data, however, things aren't so good. The model now has enormous error on the unseen data. \n",
        "\n",
        "<img src=\"images/overfit.png\" alt='overfit' width='600'>\n",
        "\n",
        "The phenomenon above is called **overfitting**. The model effectively just memorized the training data it encountered when it was fitted, leaving it unable to handle new situations. "
      ]
    },
    {
      "attachments": {},
      "cell_type": "markdown",
      "metadata": {},
      "source": [
        "The takeaway here: we need to strike a balance in the complexity of our models. A model that is too simple won't be able to capture the key relationships between our variables of interest; a model that is too complex runs the risk of overfitting. \n",
        "\n",
        "This begs the question: how do we control the complexity of a model? Stay tuned for the next lecture."
      ]
    },
    {
      "cell_type": "markdown",
      "metadata": {},
      "source": []
    }
  ],
  "metadata": {
    "kernelspec": {
      "display_name": "Python (myenv)",
      "language": "python",
      "name": "myenv"
    },
    "language_info": {
      "codemirror_mode": {
        "name": "ipython",
        "version": 3
      },
      "file_extension": ".py",
      "mimetype": "text/x-python",
      "name": "python",
      "nbconvert_exporter": "python",
      "pygments_lexer": "ipython3",
      "version": "3.9.12"
    }
  },
  "nbformat": 4,
  "nbformat_minor": 4
}
