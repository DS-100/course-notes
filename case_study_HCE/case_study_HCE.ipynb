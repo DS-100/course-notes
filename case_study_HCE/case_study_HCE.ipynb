{
 "cells": [
  {
   "cell_type": "raw",
   "metadata": {},
   "source": [
    "---\n",
    "title: Case Study in Human Contexts and Ethics\n",
    "execute:\n",
    "  echo: true\n",
    "format:\n",
    "  html:\n",
    "    code-fold: true\n",
    "    code-tools: true\n",
    "    toc: true\n",
    "    toc-title: Case Study in Human Contexts and Ethics\n",
    "    page-layout: full\n",
    "    theme:\n",
    "      - cosmo\n",
    "      - cerulean\n",
    "    callout-icon: false\n",
    "---"
   ]
  },
  {
   "attachments": {},
   "cell_type": "markdown",
   "metadata": {},
   "source": [
    "::: {.callout-note collapse=\"true\"}\n",
    "## Learning Outcomes\n",
    "* Learn about the ethical dilemmas that data scientists face.\n",
    "* Know how critique models using contextual knowledge about data. \n",
    ":::\n",
    "\n",
    "## The Problem\n",
    "\n",
    "<img src = \"images/vis_1.png\"></img>\n",
    "\n",
    "<img src = \"images/vis_2.png\"></img>\n",
    "\n",
    "\n",
    "[source](https://apps.chicagotribune.com/news/watchdog/cook-county-property-tax-divide/assessments.html)\n",
    "\n",
    "\n",
    "<img src = \"images/vis_3.jpg\"></img>\n",
    "\n",
    "[source](https://www.clccrul.org/bpnc-v-berrios-facts?rq=berrios)\n",
    "\n",
    "\n",
    "## The Response\n",
    "\n",
    "\n",
    "## Key Takeaways\n",
    "\n",
    "## Lessons for Data Science Practice\n"
   ]
  },
  {
   "cell_type": "raw",
   "metadata": {},
   "source": []
  }
 ],
 "metadata": {
  "language_info": {
   "name": "python"
  },
  "orig_nbformat": 4
 },
 "nbformat": 4,
 "nbformat_minor": 2
}
