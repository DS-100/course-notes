{
  "cells": [
    {
      "cell_type": "markdown",
      "metadata": {},
      "source": [
        "---\n",
        "title: Visualization II\n",
        "format:\n",
        "  html:\n",
        "    toc: true\n",
        "    toc-depth: 5\n",
        "    toc-location: right\n",
        "    code-fold: false\n",
        "    theme:\n",
        "      - cosmo\n",
        "      - cerulean\n",
        "    callout-icon: false\n",
        "jupyter:\n",
        "  jupytext:\n",
        "    text_representation:\n",
        "      extension: .qmd\n",
        "      format_name: quarto\n",
        "      format_version: '1.0'\n",
        "      jupytext_version: 1.16.1\n",
        "  kernelspec:\n",
        "    display_name: Python 3 (ipykernel)\n",
        "    language: python\n",
        "    name: python3\n",
        "---\n",
        "\n",
        "::: {.callout-note collapse=\"false\"}\n",
        "## Learning Outcomes\n",
        "- Understanding KDE for plotting distributions and estimating density curves.\n",
        "- Using transformations to analyze the relationship between two variables.\n",
        "- Evaluating the quality of a visualization based on visualization theory concepts.\n",
        ":::\n",
        "\n",
        "## Kernel Density Estimation\n",
        "Often, we want to identify general trends across a distribution, rather than focus on detail. Smoothing a distribution helps generalize the structure of the data and eliminate noise.\n",
        "\n",
        "### KDE Theory\n",
        "\n",
        "A **kernel density estimate (KDE)** is a smooth, continuous function that approximates a curve. It allows us to represent general trends in a distribution without focusing on the details, which is useful for analyzing the broad structure of a dataset. \n",
        "\n",
        "More formally, a KDE attempts to approximate the underlying **probability distribution** from which our dataset was drawn. You may have encountered the idea of a probability distribution in your other classes; if not, we'll discuss it at length in the next lecture. For now, you can think of a probability distribution as a description of how likely it is for us to sample a particular value in our dataset. \n",
        "\n",
        "A KDE curve estimates the probability density function of a random variable. Consider the example below, where we have used `sns.displot` to plot both a histogram (containing the data points we actually collected) and a KDE curve (representing the *approximated* probability distribution from which this data was drawn) using data from the World Bank dataset (`wb`)."
      ]
    },
    {
      "cell_type": "code",
      "metadata": {},
      "source": [
        "#| code-fold: true\n",
        "\n",
        "import pandas as pd\n",
        "import numpy as np\n",
        "import matplotlib.pyplot as plt\n",
        "import seaborn as sns\n",
        "\n",
        "wb = pd.read_csv(\"data/world_bank.csv\", index_col=0)\n",
        "wb = wb.rename(columns={'Antiretroviral therapy coverage: % of people living with HIV: 2015':\"HIV rate\",\n",
        "                       'Gross national income per capita, Atlas method: $: 2016':'gni'})\n",
        "wb.head()"
      ],
      "execution_count": null,
      "outputs": []
    },
    {
      "cell_type": "code",
      "metadata": {},
      "source": [
        "import seaborn as sns\n",
        "import matplotlib.pyplot as plt\n",
        "\n",
        "sns.displot(data = wb, x = 'HIV rate', \\\n",
        "                       kde = True, stat = \"density\")\n",
        "\n",
        "plt.title(\"Distribution of HIV rates\");"
      ],
      "execution_count": null,
      "outputs": []
    },
    {
      "cell_type": "markdown",
      "metadata": {},
      "source": [
        "Notice that the smooth KDE curve is higher when the histogram bins are taller. You can think of the height of the KDE curve as representing how \"probable\" it is that we randomly sample a datapoint with the corresponding value. This intuitively makes sense – if we have already collected more datapoints with a particular value (resulting in a tall histogram bin), it is more likely that, if we randomly sample another datapoint, we will sample one with a similar value (resulting in a high KDE curve).\n",
        "\n",
        "The area under a probability density function should always integrate to 1, representing the fact that the total probability of a distribution should always sum to 100%. Hence, a KDE curve will always have an area under the curve of 1.\n",
        "\n",
        "### Constructing a KDE\n",
        "\n",
        "We perform kernel density estimation using three steps.\n",
        "\n",
        "1. Place a kernel at each datapoint.\n",
        "2. Normalize the kernels to have a total area of 1 (across all kernels).\n",
        "3. Sum the normalized kernels.\n",
        "\n",
        "We'll explain what a \"kernel\" is momentarily.\n",
        "\n",
        "To make things simpler, let's construct a KDE for a small, artificially generated dataset of 5 datapoints: $[2.2, 2.8, 3.7, 5.3, 5.7]$. In the plot below, each vertical bar represents one data point."
      ]
    },
    {
      "cell_type": "code",
      "metadata": {},
      "source": [
        "#| code-fold: true\n",
        "data = [2.2, 2.8, 3.7, 5.3, 5.7]\n",
        "\n",
        "sns.rugplot(data, height=0.3)\n",
        "\n",
        "plt.xlabel(\"Data\")\n",
        "plt.ylabel(\"Density\")\n",
        "plt.xlim(-3, 10)\n",
        "plt.ylim(0, 0.5);"
      ],
      "execution_count": null,
      "outputs": []
    },
    {
      "cell_type": "markdown",
      "metadata": {},
      "source": [
        "Our goal is to create the following KDE curve, which was generated automatically by `sns.kdeplot`."
      ]
    },
    {
      "cell_type": "code",
      "metadata": {},
      "source": [
        "#| code-fold: true\n",
        "sns.kdeplot(data)\n",
        "\n",
        "plt.xlabel(\"Data\")\n",
        "plt.xlim(-3, 10)\n",
        "plt.ylim(0, 0.5);"
      ],
      "execution_count": null,
      "outputs": []
    },
    {
      "cell_type": "markdown",
      "metadata": {},
      "source": [
        "#### Step 1: Place a Kernel at Each Data Point\n",
        "\n",
        "To begin generating a density curve, we need to choose a **kernel** and **bandwidth value ($\\alpha$)**. What are these exactly? \n",
        "\n",
        "A **kernel** is a density curve. It is the mathematical function that attempts to capture the randomness of each data point in our sampled data. To explain what this means, consider just *one* of the datapoints in our dataset: $2.2$. We obtained this datapoint by randomly sampling some information out in the real world (you can imagine $2.2$ as representing a single measurement taken in an experiment, for example). If we were to sample a new datapoint, we may obtain a slightly different value. It could be higher than $2.2$; it could also be lower than $2.2$. We make the assumption that any future sampled datapoints will likely be similar in value to the data we've already drawn. This means that our *kernel* – our description of the probability of randomly sampling any new value – will be greatest at the datapoint we've already drawn but still have non-zero probability above and below it. The area under any kernel should integrate to 1, representing the total probability of drawing a new datapoint.\n",
        "\n",
        "A **bandwidth value**, usually denoted by $\\alpha$, represents the width of the kernel. A large value of $\\alpha$ will result in a wide, short kernel function, while a small value with result in a narrow, tall kernel.\n",
        "\n",
        "Below, we place a **Gaussian kernel**, plotted in orange, over the datapoint $2.2$. A Gaussian kernel is simply the normal distribution, which you may have called a bell curve in Data 8. "
      ]
    },
    {
      "cell_type": "code",
      "metadata": {},
      "source": [
        "#| code-fold: true\n",
        "\n",
        "def gaussian_kernel(x, z, a):\n",
        "    # We'll discuss where this mathematical formulation came from later\n",
        "    return (1/np.sqrt(2*np.pi*a**2)) * np.exp((-(x - z)**2 / (2 * a**2)))\n",
        "\n",
        "# Plot our datapoint\n",
        "sns.rugplot([2.2], height=0.3)\n",
        "\n",
        "# Plot the kernel\n",
        "x = np.linspace(-3, 10, 1000)\n",
        "plt.plot(x, gaussian_kernel(x, 2.2, 1))\n",
        "\n",
        "plt.xlabel(\"Data\")\n",
        "plt.ylabel(\"Density\")\n",
        "plt.xlim(-3, 10)\n",
        "plt.ylim(0, 0.5);"
      ],
      "execution_count": null,
      "outputs": []
    },
    {
      "cell_type": "markdown",
      "metadata": {},
      "source": [
        "To begin creating our KDE, we place a kernel on *each* datapoint in our dataset. For our dataset of 5 points, we will have 5 kernels."
      ]
    },
    {
      "cell_type": "code",
      "metadata": {},
      "source": [
        "#| code-fold: true\n",
        "\n",
        "# You will work with the functions below in Lab 4\n",
        "def create_kde(kernel, pts, a):\n",
        "    # Takes in a kernel, set of points, and alpha\n",
        "    # Returns the KDE as a function\n",
        "    def f(x):\n",
        "        output = 0\n",
        "        for pt in pts:\n",
        "            output += kernel(x, pt, a)\n",
        "        return output / len(pts) # Normalization factor\n",
        "    return f\n",
        "\n",
        "def plot_kde(kernel, pts, a):\n",
        "    # Calls create_kde and plots the corresponding KDE\n",
        "    f = create_kde(kernel, pts, a)\n",
        "    x = np.linspace(min(pts) - 5, max(pts) + 5, 1000)\n",
        "    y = [f(xi) for xi in x]\n",
        "    plt.plot(x, y);\n",
        "    \n",
        "def plot_separate_kernels(kernel, pts, a, norm=False):\n",
        "    # Plots individual kernels, which are then summed to create the KDE\n",
        "    x = np.linspace(min(pts) - 5, max(pts) + 5, 1000)\n",
        "    for pt in pts:\n",
        "        y = kernel(x, pt, a)\n",
        "        if norm:\n",
        "            y /= len(pts)\n",
        "        plt.plot(x, y)\n",
        "    \n",
        "    plt.show();\n",
        "    \n",
        "plt.xlim(-3, 10)\n",
        "plt.ylim(0, 0.5)\n",
        "plt.xlabel(\"Data\")\n",
        "plt.ylabel(\"Density\")\n",
        "\n",
        "plot_separate_kernels(gaussian_kernel, data, a = 1)"
      ],
      "execution_count": null,
      "outputs": []
    },
    {
      "cell_type": "markdown",
      "metadata": {},
      "source": [
        "#### Step 2: Normalize Kernels to Have a Total Area of 1\n",
        "\n",
        "Above, we said that *each* kernel has an area of 1. Earlier, we also said that our goal is to construct a KDE curve using these kernels with a *total* area of 1. If we were to directly sum the kernels as they are, we would produce a KDE curve with an integrated area of (5 kernels) $\\times$ (area of 1 each) = 5. To avoid this, we will **normalize** each of our kernels. This involves multiplying each kernel by $\\frac{1}{\\#\\:\\text{datapoints}}$. \n",
        "\n",
        "In the cell below, we multiply each of our 5 kernels by $\\frac{1}{5}$ to apply normalization."
      ]
    },
    {
      "cell_type": "code",
      "metadata": {},
      "source": [
        "#| code-fold: true\n",
        "plt.xlim(-3, 10)\n",
        "plt.ylim(0, 0.5)\n",
        "plt.xlabel(\"Data\")\n",
        "plt.ylabel(\"Density\")\n",
        "\n",
        "# The `norm` argument specifies whether or not to normalize the kernels\n",
        "plot_separate_kernels(gaussian_kernel, data, a = 1, norm = True)"
      ],
      "execution_count": null,
      "outputs": []
    },
    {
      "cell_type": "markdown",
      "metadata": {},
      "source": [
        "#### Step 3: Sum the Normalized Kernels\n",
        "\n",
        "Our KDE curve is the sum of the normalized kernels. Notice that the final curve is identical to the plot generated by `sns.kdeplot` we saw earlier!"
      ]
    },
    {
      "cell_type": "code",
      "metadata": {},
      "source": [
        "#| code-fold: true\n",
        "plt.xlim(-3, 10)\n",
        "plt.ylim(0, 0.5)\n",
        "plt.xlabel(\"Data\")\n",
        "plt.ylabel(\"Density\")\n",
        "\n",
        "plot_kde(gaussian_kernel, data, a = 1)"
      ],
      "execution_count": null,
      "outputs": []
    },
    {
      "cell_type": "markdown",
      "metadata": {},
      "source": [
        "### Kernel Functions and Bandwidths\n",
        "\n",
        "<center><img src = \"images/kde_function.png\" width = \"345\"></img></a></center>\n",
        "\n",
        "A general “KDE formula” function is given above.\n",
        "\n",
        "1. $K_{\\alpha}(x, x_i)$ is the kernel centered on the observation `i`. \n",
        "    - Each kernel individually has area 1.\n",
        "    - x represents any number on the number line. It is the input to our function.\n",
        "2. $n$ is the number of observed datapoints that we have.\n",
        "    - We multiply by $\\frac{1}{n}$ so that the total area of the KDE is still 1.\n",
        "3. Each $x_i \\in \\{x_1, x_2, \\dots, x_n\\}$ represents an observed datapoint. \n",
        "    - These are what we use to create our KDE by summing multiple shifted kernels centered at these points.\n",
        "\n",
        "* $\\alpha$ (alpha) is the bandwidth or smoothing parameter. \n",
        "\n",
        "A **kernel** (for our purposes) is a valid density function. This means it:\n",
        "\n",
        "- Must be non-negative for all inputs.\n",
        "- Must integrate to 1.\n",
        "\n",
        "#### Gaussian Kernel\n",
        "\n",
        "The most common kernel is the **Gaussian kernel**. The Gaussian kernel is equivalent to the Gaussian probability density function (the Normal distribution), centered at the observed value with a standard deviation of (this is known as the **bandwidth** parameter).\n",
        "\n",
        "$$K_a(x, x_i) = \\frac{1}{\\sqrt{2\\pi\\alpha^{2}}}e^{-\\frac{(x-x_i)^{2}}{2\\alpha^{2}}}$$\n",
        "\n",
        "In this formula:\n",
        "\n",
        "* $x$ (no subscript) represents any value along the x-axis of our plot\n",
        "* $x_i$ represents the $i$ -th datapoint in our dataset. It is one of the values that we have actually collected in our data sampling process. In our example earlier, $x_i=2.2$. Those of you who have taken a probability class may recognize $x_i$ as the **mean** of the normal distribution.\n",
        "* Each kernel is **centered** on our observed values, so its distribution mean is $x_i$.\n",
        "* $\\alpha$ is the bandwidth parameter, representing the width of our kernel. More formally, $\\alpha$ is the **standard deviation** of the Gaussian curve.\n",
        "    * A large value of $\\alpha$ will produce a kernel that is wider and shorter – this leads to a smoother KDE when the kernels are summed together.\n",
        "    * A small value of $\\alpha$ will produce a narrower, taller kernel, and, with it, a noisier KDE.\n",
        "\n",
        "The details of this (admittedly intimidating) formula are less important than understanding its role in kernel density estimation – this equation gives us the shape of each kernel.\n",
        "\n",
        "| Gaussian Kernel, $\\alpha$ = 0.1 | Gaussian Kernel, $\\alpha$ = 1 | \n",
        "| --- | --- |\n",
        "| <img src=\"images/gaussian_0.1.png\" alt='gaussian_0.1' width='345'> | <img src=\"images/gaussian_1.png\" alt='gaussian_1' width='345'> | \n",
        "\n",
        "| Gaussian Kernel, $\\alpha$ = 2 | Gaussian Kernel, $\\alpha$ = 10 | \n",
        "|  --- | --- | \n",
        "| <img src=\"images/gaussian_2.png\" alt='gaussian_2' width='345'> | <img src=\"images/gaussian_10.png\" alt='gaussian_10' width='345'> | \n",
        "\n",
        "#### Boxcar Kernel\n",
        "\n",
        "Another example of a kernel is the **Boxcar kernel**. The boxcar kernel assigns a uniform density to points within a \"window\" of the observation, and a density of 0 elsewhere. The equation below is a boxcar kernel with the center at $x_i$ and the bandwidth of $\\alpha$.\n",
        "\n",
        "$$K_a(x, x_i) = \\begin{cases}\n",
        "        \\frac{1}{\\alpha}, & |x - x_i| \\le \\frac{\\alpha}{2}\\\\\n",
        "        0, & \\text{else }\n",
        "    \\end{cases}$$\n",
        "    \n",
        "The boxcar kernel is seldom used in practice – we include it here to demonstrate that a kernel function can take whatever form you would like, provided it integrates to 1 and does not output negative values."
      ]
    },
    {
      "cell_type": "code",
      "metadata": {},
      "source": [
        "#| code-fold: true\n",
        "#| fig-cap: The Boxcar kernel centered at 0 with bandwidth $\\alpha$ = 1.\n",
        "\n",
        "def boxcar_kernel(alpha, x, z):\n",
        "    return (((x-z)>=-alpha/2)&((x-z)<=alpha/2))/alpha\n",
        "\n",
        "xs = np.linspace(-5, 5, 200)\n",
        "alpha=1\n",
        "kde_curve = [boxcar_kernel(alpha, x, 0) for x in xs]\n",
        "plt.plot(xs, kde_curve);"
      ],
      "execution_count": null,
      "outputs": []
    },
    {
      "cell_type": "markdown",
      "metadata": {},
      "source": [
        "The diagram on the right is how the density curve for our 5 point dataset would have looked had we used the Boxcar kernel with bandwidth $\\alpha$ = 1.\n",
        "\n",
        "| KDE | Boxcar | \n",
        "| --- | --- | \n",
        "| <img src=\"images/gaussian_kernel.png\" alt='kde_step_3' width='350'> | <img src=\"images/boxcar_kernel.png\" alt='boxcar_kernel' width='350'> | \n",
        "\n",
        "## Diving Deeper into `displot`\n",
        "\n",
        "As we saw earlier, we can use `seaborn`'s `displot` function to plot various distributions. In particular, `displot` allows you to specify the `kind` of plot and is a wrapper for `histplot`, `kdeplot`, and `ecdfplot`.\n",
        "\n",
        "Below, we can see a couple of examples of how `sns.displot` can be used to plot various distributions.\n",
        "\n",
        "First, we can plot a histogram by setting `kind` to `\"hist\"`. Note that here we've specified `stat = density` to normalize the histogram such that the area under the histogram is equal to 1."
      ]
    },
    {
      "cell_type": "code",
      "metadata": {
        "vscode": {
          "languageId": "python"
        }
      },
      "source": [
        "sns.displot(data=wb, \n",
        "            x=\"gni\", \n",
        "            kind=\"hist\", \n",
        "            stat=\"density\") # default: stat=count and density integrates to 1\n",
        "plt.title(\"Distribution of gross national income per capita\");"
      ],
      "execution_count": null,
      "outputs": []
    },
    {
      "cell_type": "markdown",
      "metadata": {},
      "source": [
        "Now, what if we want to generate a KDE plot? We can set `kind` = to `\"kde\"`! "
      ]
    },
    {
      "cell_type": "code",
      "metadata": {
        "vscode": {
          "languageId": "python"
        }
      },
      "source": [
        "sns.displot(data=wb, \n",
        "            x=\"gni\", \n",
        "            kind='kde')\n",
        "plt.title(\"Distribution of gross national income per capita\");"
      ],
      "execution_count": null,
      "outputs": []
    },
    {
      "cell_type": "markdown",
      "metadata": {},
      "source": [
        "And finally, if we want to generate an Empirical Cumulative Distribution Function (ECDF), we can specify `kind = \"ecdf\"`."
      ]
    },
    {
      "cell_type": "code",
      "metadata": {
        "vscode": {
          "languageId": "python"
        }
      },
      "source": [
        "sns.displot(data=wb, \n",
        "            x=\"gni\", \n",
        "            kind='ecdf')\n",
        "plt.title(\"Cumulative Distribution of gross national income per capita\");"
      ],
      "execution_count": null,
      "outputs": []
    },
    {
      "cell_type": "markdown",
      "metadata": {},
      "source": [
        "## Relationships Between Quantitative Variables\n",
        "\n",
        "Up until now, we've discussed how to visualize single-variable distributions. Going beyond this, we want to understand the relationship between pairs of numerical variables.\n",
        "\n",
        "#### Scatter Plots\n",
        "\n",
        "**Scatter plots** are one of the most useful tools in representing the relationship between **pairs** of quantitative variables. They are particularly important in gauging the strength, or correlation, of the relationship between variables. Knowledge of these relationships can then motivate decisions in our modeling process.\n",
        "\n",
        "In `matplotlib`, we use the function `plt.scatter` to generate a scatter plot. Notice that, unlike our examples of plotting single-variable distributions, now we specify sequences of values to be plotted along the x-axis *and* the y-axis. "
      ]
    },
    {
      "cell_type": "code",
      "metadata": {
        "vscode": {
          "languageId": "python"
        }
      },
      "source": [
        "plt.scatter(wb[\"per capita: % growth: 2016\"], \\\n",
        "            wb['Adult literacy rate: Female: % ages 15 and older: 2005-14'])\n",
        "\n",
        "plt.xlabel(\"% growth per capita\")\n",
        "plt.ylabel(\"Female adult literacy rate\")\n",
        "plt.title(\"Female adult literacy against % growth\");"
      ],
      "execution_count": null,
      "outputs": []
    },
    {
      "cell_type": "markdown",
      "metadata": {},
      "source": [
        "In `seaborn`, we call the function `sns.scatterplot`. We use the `x` and `y` parameters to indicate the values to be plotted along the x and y axes, respectively. By using the `hue` parameter, we can specify a third variable to be used for coloring each scatter point."
      ]
    },
    {
      "cell_type": "code",
      "metadata": {
        "vscode": {
          "languageId": "python"
        }
      },
      "source": [
        "sns.scatterplot(data = wb, x = \"per capita: % growth: 2016\", \\\n",
        "               y = \"Adult literacy rate: Female: % ages 15 and older: 2005-14\", \n",
        "               hue = \"Continent\")\n",
        "\n",
        "plt.title(\"Female adult literacy against % growth\");"
      ],
      "execution_count": null,
      "outputs": []
    },
    {
      "cell_type": "markdown",
      "metadata": {},
      "source": [
        "##### Overplotting \n",
        "\n",
        "Although the plots above communicate the general relationship between the two plotted variables, they both suffer a major limitation – **overplotting**. Overplotting occurs when scatter points with similar values are stacked on top of one another, making it difficult to see the number of scatter points actually plotted in the visualization. Notice how in the upper righthand region of the plots, we cannot easily tell just how many points have been plotted. This makes our visualizations difficult to interpret. \n",
        "\n",
        "We have a few methods to help reduce overplotting:\n",
        "\n",
        "* Decreasing the size of the scatter point markers can improve readability. We do this by setting a new value to the size parameter, `s`, of `plt.scatter` or `sns.scatterplot`.\n",
        "* **Jittering** is the process of adding a small amount of random noise to all x and y values to slightly shift the position of each datapoint. By randomly shifting all the data by some small distance, we can discern individual points more clearly without modifying the major trends of the original dataset.\n",
        "\n",
        "In the cell below, we first jitter the data using `np.random.uniform`, then re-plot it with smaller markers. The resulting plot is much easier to interpret."
      ]
    },
    {
      "cell_type": "code",
      "metadata": {
        "vscode": {
          "languageId": "python"
        }
      },
      "source": [
        "# Setting a seed ensures that we produce the same plot each time\n",
        "# This means that the course notes will not change each time you access them\n",
        "np.random.seed(150)\n",
        "\n",
        "# This call to np.random.uniform generates random numbers between -1 and 1\n",
        "# We add these random numbers to the original x data to jitter it slightly\n",
        "x_noise = np.random.uniform(-1, 1, len(wb))\n",
        "jittered_x = wb[\"per capita: % growth: 2016\"] + x_noise\n",
        "\n",
        "# Repeat for y data\n",
        "y_noise = np.random.uniform(-5, 5, len(wb))\n",
        "jittered_y = wb[\"Adult literacy rate: Female: % ages 15 and older: 2005-14\"] + y_noise\n",
        "\n",
        "# Setting the size parameter `s` changes the size of each point\n",
        "plt.scatter(jittered_x, jittered_y, s=15)\n",
        "\n",
        "plt.xlabel(\"% growth per capita (jittered)\")\n",
        "plt.ylabel(\"Female adult literacy rate (jittered)\")\n",
        "plt.title(\"Female adult literacy against % growth\");"
      ],
      "execution_count": null,
      "outputs": []
    },
    {
      "cell_type": "markdown",
      "metadata": {},
      "source": [
        "#### `lmplot` and `jointplot`\n",
        "\n",
        "`seaborn` also includes several built-in functions for creating more sophisticated scatter plots. Two of the most commonly used examples are `sns.lmplot` and `sns.jointplot`. \n",
        "\n",
        "`sns.lmplot` plots both a scatter plot *and* a linear regression line, all in one function call. We'll discuss linear regression in a few lectures. "
      ]
    },
    {
      "cell_type": "code",
      "metadata": {
        "vscode": {
          "languageId": "python"
        }
      },
      "source": [
        "sns.lmplot(data = wb, x = \"per capita: % growth: 2016\", \\\n",
        "           y = \"Adult literacy rate: Female: % ages 15 and older: 2005-14\")\n",
        "\n",
        "plt.title(\"Female adult literacy against % growth\");"
      ],
      "execution_count": null,
      "outputs": []
    },
    {
      "cell_type": "markdown",
      "metadata": {},
      "source": [
        "`sns.jointplot` creates a visualization with three components: a scatter plot, a histogram of the distribution of x values, and a histogram of the distribution of y values."
      ]
    },
    {
      "cell_type": "code",
      "metadata": {
        "vscode": {
          "languageId": "python"
        }
      },
      "source": [
        "sns.jointplot(data = wb, x = \"per capita: % growth: 2016\", \\\n",
        "           y = \"Adult literacy rate: Female: % ages 15 and older: 2005-14\")\n",
        "\n",
        "# plt.suptitle allows us to shift the title up so it does not overlap with the histogram\n",
        "plt.suptitle(\"Female adult literacy against % growth\")\n",
        "plt.subplots_adjust(top=0.9);"
      ],
      "execution_count": null,
      "outputs": []
    },
    {
      "cell_type": "markdown",
      "metadata": {},
      "source": [
        "#### Hex plots\n",
        "For datasets with a very large number of datapoints, jittering is unlikely to fully resolve the issue of overplotting. In these cases, we can attempt to visualize our data by its *density*, rather than displaying each individual datapoint.\n",
        "\n",
        "**Hex plots** can be thought of as two-dimensional histograms that show the joint distribution between two variables. This is particularly useful when working with very dense data. In a hex plot, the x-y plane is binned into hexagons. Hexagons that are darker in color indicate a greater density of data – that is, there are more data points that lie in the region enclosed by the hexagon.\n",
        "\n",
        "We can generate a hex plot using `sns.jointplot` modified with the `kind` parameter."
      ]
    },
    {
      "cell_type": "code",
      "metadata": {
        "vscode": {
          "languageId": "python"
        }
      },
      "source": [
        "sns.jointplot(data = wb, x = \"per capita: % growth: 2016\", \\\n",
        "              y = \"Adult literacy rate: Female: % ages 15 and older: 2005-14\", \\\n",
        "              kind = \"hex\")\n",
        "\n",
        "# plt.suptitle allows us to shift the title up so it does not overlap with the histogram\n",
        "plt.suptitle(\"Female adult literacy against % growth\")\n",
        "plt.subplots_adjust(top=0.9);"
      ],
      "execution_count": null,
      "outputs": []
    },
    {
      "cell_type": "markdown",
      "metadata": {},
      "source": [
        "#### Contour Plots\n",
        "\n",
        "**Contour plots** are an alternative way of plotting the joint distribution of two variables. You can think of them as the 2-dimensional versions of KDE plots. A contour plot can be interpreted in a similar way to a [topographic map](https://gisgeography.com/contour-lines-topographic-map/). Each contour line represents an area that has the same *density* of datapoints throughout the region. Contours marked with darker colors contain more datapoints (a higher density) in that region.\n",
        "\n",
        "`sns.kdeplot` will generate a contour plot if we specify both x and y data."
      ]
    },
    {
      "cell_type": "code",
      "metadata": {
        "vscode": {
          "languageId": "python"
        }
      },
      "source": [
        "sns.kdeplot(data = wb, x = \"per capita: % growth: 2016\", \\\n",
        "            y = \"Adult literacy rate: Female: % ages 15 and older: 2005-14\", \\\n",
        "            fill = True)\n",
        "\n",
        "plt.title(\"Female adult literacy against % growth\");"
      ],
      "execution_count": null,
      "outputs": []
    },
    {
      "cell_type": "markdown",
      "metadata": {},
      "source": [
        "## Transformations\n",
        "We have now covered visualizations in great depth, looking into various forms of visualizations, plotting libraries, and high-level theory.\n",
        "\n",
        "Much of this was done to uncover insights in data, which will prove necessary when we begin building models of data later in the course. A strong graphical correlation between two variables hints at an underlying relationship that we may want to study in greater detail. However, relying on visual relationships alone is limiting - not all plots show association. The presence of outliers and other statistical anomalies makes it hard to interpret data.\n",
        "\n",
        "**Transformations** are the process of manipulating data to find significant relationships between variables. These are often found by applying mathematical functions to variables that \"transform\" their range of possible values and highlight some previously hidden associations between data.\n",
        "\n",
        "To see why we may want to transform data, consider the following plot of adult literacy rates against gross national income."
      ]
    },
    {
      "cell_type": "code",
      "metadata": {
        "vscode": {
          "languageId": "python"
        }
      },
      "source": [
        "#| code-fold: true\n",
        "\n",
        "# Some data cleaning to help with the next example\n",
        "df = pd.DataFrame(index=wb.index)\n",
        "df['lit'] = wb['Adult literacy rate: Female: % ages 15 and older: 2005-14'] \\\n",
        "            + wb[\"Adult literacy rate: Male: % ages 15 and older: 2005-14\"]\n",
        "df['inc'] = wb['gni']\n",
        "df.dropna(inplace=True)\n",
        "\n",
        "plt.scatter(df[\"inc\"], df[\"lit\"])\n",
        "plt.xlabel(\"Gross national income per capita\")\n",
        "plt.ylabel(\"Adult literacy rate\")\n",
        "plt.title(\"Adult literacy rate against GNI per capita\");"
      ],
      "execution_count": null,
      "outputs": []
    },
    {
      "cell_type": "markdown",
      "metadata": {},
      "source": [
        "This plot is difficult to interpret for two reasons:\n",
        "\n",
        "* The data shown in the visualization appears almost \"smushed\" – it is heavily concentrated in the upper lefthand region of the plot. Even if we jittered the dataset, we likely would not be able to fully assess all datapoints in that area.\n",
        "* It is hard to generalize a clear relationship between the two plotted variables. While adult literacy rate appears to share some positive relationship with gross national income, we are not able to describe the specifics of this trend in much detail.\n",
        "\n",
        "A transformation would allow us to visualize this data more clearly, which, in turn, would enable us to describe the underlying relationship between our variables of interest.\n",
        "\n",
        "We will most commonly apply a transformation to **linearize a relationship** between variables. If we find a transformation to make a scatter plot of two variables linear, we can \"backtrack\" to find the exact relationship between the variables. This helps us in two major ways. Firstly, linear relationships are particularly simple to interpret – we have an intuitive sense of what the slope and intercept of a linear trend represent, and how they can help us understand the relationship between two variables. Secondly, linear relationships are the backbone of linear models. We will begin exploring linear modeling in great detail next week. As we'll soon see, linear models become much more effective when we are working with linearized data.  \n",
        "\n",
        "In the remainder of this note, we will discuss how to linearize a dataset to produce the result below. Notice that the resulting plot displays a rough linear relationship between the values plotted on the x and y axes.\n",
        "\n",
        "<img src=\"images/linearize.png\" alt='linearize' width='800'>\n",
        "\n",
        "### Linearization and Applying Transformations\n",
        "\n",
        "To linearize a relationship, begin by asking yourself: what makes the data non-linear? It is helpful to repeat this question for each variable in your visualization.\n",
        "\n",
        "Let's start by considering the gross national income variable in our plot above. Looking at the y values in the scatter plot, we can see that many large y values are all clumped together, compressing the vertical axis. The scale of the horizontal axis is also being distorted by the few large outlying x values on the right. \n",
        "\n",
        "<img src=\"images/horizontal.png\" alt='horizontal' width='450'>\n",
        "\n",
        "If we decreased the size of these outliers relative to the bulk of the data, we could reduce the distortion of the horizontal axis. How can we do this? We need a transformation that will:\n",
        "\n",
        "* Decrease the magnitude of large x values by a significant amount.\n",
        "* Not drastically change the magnitude of small x values.\n",
        "\n",
        "One function that produces this result is the **log transformation**. When we take the logarithm of a large number, the original number will decrease in magnitude dramatically. Conversely, when we take the logarithm of a small number, the original number does not change its value by as significant of an amount (to illustrate this, consider the difference between $\\log{(100)} = 4.61$ and $\\log{(10)} = 2.3$).\n",
        "\n",
        "In Data 100 (and most upper-division STEM classes), $\\log$ is used to refer to the natural logarithm with base $e$."
      ]
    },
    {
      "cell_type": "code",
      "metadata": {
        "vscode": {
          "languageId": "python"
        }
      },
      "source": [
        "# np.log takes the logarithm of an array or Series\n",
        "plt.scatter(np.log(df[\"inc\"]), df[\"lit\"])\n",
        "\n",
        "plt.xlabel(\"Log(gross national income per capita)\")\n",
        "plt.ylabel(\"Adult literacy rate\")\n",
        "plt.title(\"Adult literacy rate against Log(GNI per capita)\");"
      ],
      "execution_count": null,
      "outputs": []
    },
    {
      "cell_type": "markdown",
      "metadata": {},
      "source": [
        "After taking the logarithm of our x values, our plot appears much more balanced in its horizontal scale. We no longer have many datapoints clumped on one end and a few outliers out at extreme values. \n",
        "\n",
        "Let's repeat this reasoning for the y values. Considering only the vertical axis of the plot, notice how there are many datapoints concentrated at large y values. Only a few datapoints lie at smaller values of y.\n",
        "\n",
        "If we were to \"spread out\" these large values of y more, we would no longer see the dense concentration in one region of the y-axis. We need a transformation that will:\n",
        "\n",
        "* Increase the magnitude of large values of y so these datapoints are distributed more broadly on the vertical scale,\n",
        "* Not substantially alter the scaling of small values of y (we do not want to drastically modify the lower end of the y axis, which is already distributed evenly on the vertical scale).\n",
        "\n",
        "In this case, it is helpful to apply a **power transformation** – that is, raise our y values to a power. Let's try raising our adult literacy rate values to the power of 4. Large values raised to the power of 4 will increase in magnitude proportionally much more than small values raised to the power of 4 (consider the difference between $2^4 = 16$ and $200^4 = 1600000000$). "
      ]
    },
    {
      "cell_type": "code",
      "metadata": {
        "vscode": {
          "languageId": "python"
        }
      },
      "source": [
        "# Apply a log transformation to the x values and a power transformation to the y values\n",
        "plt.scatter(np.log(df[\"inc\"]), df[\"lit\"]**4)\n",
        "\n",
        "plt.xlabel(\"Log(gross national income per capita)\")\n",
        "plt.ylabel(\"Adult literacy rate (4th power)\")\n",
        "plt.suptitle(\"Adult literacy rate (4th power) against Log(GNI per capita)\")\n",
        "plt.subplots_adjust(top=0.9);"
      ],
      "execution_count": null,
      "outputs": []
    },
    {
      "cell_type": "markdown",
      "metadata": {},
      "source": [
        "Our scatter plot is looking a lot better! Now, we are plotting the log of our original x values on the horizontal axis, and the 4th power of our original y values on the vertical axis. We start to see an approximate *linear* relationship between our transformed variables. \n",
        "\n",
        "What can we take away from this? We now know that the log of gross national income and adult literacy to the power of 4 are roughly linearly related. If we denote the original, untransformed gross national income values as $x$ and the original adult literacy rate values as $y$, we can use the standard form of a linear fit to express this relationship:\n",
        "\n",
        "$$y^4 = m(\\log{x}) + b$$\n",
        "\n",
        "Where $m$ represents the slope of the linear fit, while $b$ represents the intercept. \n",
        "\n",
        "The cell below computes $m$ and $b$ for our transformed data. We'll discuss how this code was generated in a future lecture."
      ]
    },
    {
      "cell_type": "code",
      "metadata": {
        "vscode": {
          "languageId": "python"
        }
      },
      "source": [
        "#| code-fold: true\n",
        "# The code below fits a linear regression model. We'll discuss it at length in a future lecture\n",
        "from sklearn.linear_model import LinearRegression\n",
        "\n",
        "model = LinearRegression()\n",
        "model.fit(np.log(df[[\"inc\"]]), df[\"lit\"]**4)\n",
        "m, b = model.coef_[0], model.intercept_\n",
        "\n",
        "print(f\"The slope, m, of the transformed data is: {m}\")\n",
        "print(f\"The intercept, b, of the transformed data is: {b}\")\n",
        "\n",
        "df = df.sort_values(\"inc\")\n",
        "plt.scatter(np.log(df[\"inc\"]), df[\"lit\"]**4, label=\"Transformed data\")\n",
        "plt.plot(np.log(df[\"inc\"]), m*np.log(df[\"inc\"])+b, c=\"red\", label=\"Linear regression\")\n",
        "plt.xlabel(\"Log(gross national income per capita)\")\n",
        "plt.ylabel(\"Adult literacy rate (4th power)\")\n",
        "plt.legend();"
      ],
      "execution_count": null,
      "outputs": []
    },
    {
      "cell_type": "markdown",
      "metadata": {},
      "source": [
        "What if we want to understand the *underlying* relationship between our original variables, before they were transformed? We can simply rearrange our linear expression above! \n",
        "\n",
        "Recall our linear relationship between the transformed variables $\\log{x}$ and $y^4$. \n",
        "\n",
        "$$y^4 = m(\\log{x}) + b$$\n",
        "\n",
        "By rearranging the equation, we find a relationship between the untransformed variables $x$ and $y$. \n",
        "\n",
        "$$y = [m(\\log{x}) + b]^{(1/4)}$$\n",
        "\n",
        "When we plug in the values for $m$ and $b$ computed above, something interesting happens."
      ]
    },
    {
      "cell_type": "code",
      "metadata": {
        "vscode": {
          "languageId": "python"
        }
      },
      "source": [
        "#| code-fold: true\n",
        "# Now, plug the values for m and b into the relationship between the untransformed x and y\n",
        "plt.scatter(df[\"inc\"], df[\"lit\"], label=\"Untransformed data\")\n",
        "plt.plot(df[\"inc\"], (m*np.log(df[\"inc\"])+b)**(1/4), c=\"red\", label=\"Modeled relationship\")\n",
        "plt.xlabel(\"Gross national income per capita\")\n",
        "plt.ylabel(\"Adult literacy rate\")\n",
        "plt.legend();"
      ],
      "execution_count": null,
      "outputs": []
    },
    {
      "cell_type": "markdown",
      "metadata": {},
      "source": [
        "We have found a relationship between our original variables – gross national income and adult literacy rate!\n",
        "\n",
        "Transformations are powerful tools for understanding our data in greater detail. To summarize what we just achieved:\n",
        "\n",
        "* We identified appropriate transformations to **linearize** the original data.\n",
        "* We used our knowledge of linear curves to compute the slope and intercept of the transformed data.\n",
        "* We used this slope and intercept information to derive a relationship in the untransformed data.\n",
        "\n",
        "Linearization will be an important tool as we begin our work on linear modeling next week.\n",
        "\n",
        "#### Tukey-Mosteller Bulge Diagram\n",
        "\n",
        "The **Tukey-Mosteller Bulge Diagram** is a good guide when determining possible transformations to achieve linearity. It is a visual summary of the reasoning we just worked through above. \n",
        "\n",
        "<img src=\"images/tukey_mosteller.png\" alt='tukey_mosteller' width='300'>\n",
        "\n",
        "How does it work? Each curved \"bulge\" represents a possible shape of non-linear data. To use the diagram, find which of the four bulges resembles your dataset the most closely. Then, look at the axes of the quadrant for this bulge. The horizontal axis will list possible transformations that could be applied to your x data for linearization. Similarly, the vertical axis will list possible transformations that could be applied to your y data. Note that each axis lists two possible transformations. While *either* of these transformations has the *potential* to linearize your dataset, note that this is an iterative process. It's important to try out these transformations and look at the results to see whether you've actually achieved linearity. If not, you'll need to continue testing other possible transformations.\n",
        "\n",
        "Generally:\n",
        "\n",
        "* $\\sqrt{}$ and $\\log{}$ will reduce the magnitude of large values.\n",
        "* Powers ($^2$ and $^3$) will increase the spread in magnitude of large values.\n",
        "\n",
        "\n",
        "<center><img src=\"images/bulge.png\" alt='bulge' width='800'></img></a></center>\n",
        "\n",
        "\n",
        "**Important:** You should still understand the *logic* we worked through to determine how best to transform the data. The bulge diagram is just a summary of this same reasoning. You will be expected to be able to explain why a given transformation is or is not appropriate for linearization.\n",
        "\n",
        "### Additional Remarks\n",
        "\n",
        "Visualization requires a lot of thought!\n",
        "\n",
        "- There are many tools for visualizing distributions.\n",
        "    - Distribution of a single variable:\n",
        "        1. Rugplot\n",
        "        2. Histogram\n",
        "        3. Density plot\n",
        "        4. Box plot\n",
        "        5. Violin plot\n",
        "    - Joint distribution of two quantitative variables: \n",
        "        1. Scatter plot\n",
        "        2. Hex plot\n",
        "        3. Contour plot\n",
        "\n",
        "This class primarily uses `seaborn` and `matplotlib`, but `pandas` also has basic built-in plotting methods. Many other visualization libraries exist, and `plotly` is one of them.\n",
        "\n",
        "- `plotly` creates very easily creates interactive plots.\n",
        "- `plotly` will occasionally appear in lecture code, labs, and assignments! \n",
        "\n",
        "Next, we’ll go deeper into the theory behind visualization.\n",
        "\n",
        "## Visualization Theory\n",
        "\n",
        "This section marks a pivot to the second major topic of this lecture - visualization theory. We'll discuss the abstract nature of visualizations and analyze how they convey information.\n",
        "\n",
        "Remember, we had two goals for visualizing data. This section is particularly important in:\n",
        "\n",
        "1. Helping us understand the data and results,\n",
        "2. Communicating our results and conclusions with others.\n",
        "\n",
        "### Information Channels\n",
        "\n",
        "Visualizations are able to convey information through various encodings. In the remainder of this lecture, we'll look at the use of color, scale, and depth, to name a few. \n",
        "\n",
        "#### Encodings in Rugplots\n",
        "\n",
        "One detail that we may have overlooked in our earlier discussion of rugplots is the importance of encodings. Rugplots are effective visuals because they utilize line thickness to encode frequency. Consider the following diagram:\n",
        "\n",
        "<img src=\"images/rugplot_encoding.png\" alt='rugplot_encoding' width='600'> \n",
        "\n",
        "#### Multi-Dimensional Encodings\n",
        "\n",
        "Encodings are also useful for representing multi-dimensional data. Notice how the following visual highlights four distinct \"dimensions\" of data:\n",
        "\n",
        "- X-axis\n",
        "- Y-axis\n",
        "- Area\n",
        "- Color\n",
        "\n",
        "<img src=\"images/mutli_dim_encodings.png\" alt='multi_dim_encoding' width='400'> \n",
        "\n",
        "The human visual perception system is only capable of visualizing data in a three-dimensional plane, but as you've seen, we can encode many more channels of information.\n",
        "\n",
        "### Harnessing the Axes\n",
        "\n",
        "#### Consider the Scale of the Data\n",
        "\n",
        "However, we should be careful to not misrepresent relationships in our data by manipulating the scale or axes. The visualization below improperly portrays two seemingly independent relationships on the same plot. The authors have clearly changed the scale of the y-axis to mislead their audience.\n",
        "\n",
        "<img src=\"images/wrong_scale_viz.png\" alt='wrong_scale_viz' width='350'> \n",
        "\n",
        "Notice how the downwards-facing line segment contains values in the millions, while the upwards-trending segment only contains values near three hundred thousand. These lines should not be intersecting.\n",
        "\n",
        "When there is a large difference in the magnitude of the data, it's advised to analyze percentages instead of counts. The following diagrams correctly display the trends in cancer screening and abortion rates. \n",
        "\n",
        ":::: {.columns}\n",
        "\n",
        "\n",
        "::: {.column width=\"30%\"}\n",
        "<img src=\"images/good_viz_scale_1.png\" alt='good_viz_scale_1' width='345'>\n",
        ":::\n",
        "\n",
        "::: {.column width=\"20%\"}\n",
        "<!-- empty column to create gap -->\n",
        ":::\n",
        "\n",
        "::: {.column width=\"30%\"}\n",
        "<img src=\"images/good_viz_scale_2.png\" alt='good_viz_scale_2' width='345'>\n",
        ":::\n",
        "\n",
        "::::\n",
        "\n",
        "#### Reveal the Data\n",
        "\n",
        "Great visualizations not only consider the scale of the data but also utilize the axes in a way that best conveys information. For example, data scientists commonly set certain axes limits to highlight parts of the visualization they are most interested in.\n",
        "\n",
        ":::: {.columns}\n",
        "\n",
        "\n",
        "::: {.column width=\"30%\"}\n",
        "<img src=\"images/unrevealed_viz.png\" alt='unrevealed_viz' width='345'>\n",
        ":::\n",
        "\n",
        "::: {.column width=\"20%\"}\n",
        "<!-- empty column to create gap -->\n",
        ":::\n",
        "\n",
        "::: {.column width=\"30%\"}\n",
        "<img src=\"images/revealed_viz.png\" alt='revealed_viz' width='345'>\n",
        ":::\n",
        "\n",
        "::::\n",
        "\n",
        "The visualization on the right captures the trend in coronavirus cases during March of 2020. From only looking at the visualization on the left, a viewer may incorrectly believe that coronavirus began to skyrocket on March 4^th^, 2020. However, the second illustration tells a different story - cases rose closer to March 21^th^, 2020.\n",
        "\n",
        "### Harnessing Color\n",
        "\n",
        "Color is another important feature in visualizations that does more than what meets the eye. \n",
        "\n",
        "We already explored using color to encode a categorical variable in our scatter plot. Let's now discuss the uses of color in novel visualizations like colormaps and heatmaps.\n",
        "\n",
        "5-8% of the world is red-green color blind, so we have to be very particular about our color scheme. We want to make these as accessible as possible. Choosing a set of colors that work together is evidently a challenging task!\n",
        "\n",
        "#### Colormaps\n",
        "\n",
        "Colormaps are mappings from pixel data to color values, and they're often used to highlight distinct parts of an image. Let's investigate a few properties of colormaps.\n",
        "\n",
        ":::: {.columns}\n",
        "\n",
        "\n",
        "::: {.column width=\"30%\"}\n",
        "**Jet Colormap**\n",
        "<img src=\"images/jet_colormap.png\" alt='jet_colormap' width='250'>\n",
        ":::\n",
        "\n",
        "::: {.column width=\"20%\"}\n",
        "<!-- empty column to create gap -->\n",
        ":::\n",
        "\n",
        "::: {.column width=\"30%\"}\n",
        "**Viridis Colormap**\n",
        "<img src=\"images/viridis_colormap.png\" alt='viridis_colormap' width='250'>\n",
        ":::\n",
        "\n",
        "::::\n",
        "\n",
        "The jet colormap is infamous for being misleading. While it seems more vibrant than viridis, the aggressive colors poorly encode numerical data. To understand why, let's analyze the following images.\n",
        "\n",
        ":::: {.columns}\n",
        "\n",
        "\n",
        "::: {.column width=\"30%\"}\n",
        "<img src=\"images/jet_four_by_four.png\" alt='four_by_four_colormap' width='300'>\n",
        ":::\n",
        "\n",
        "::: {.column width=\"20%\"}\n",
        "<!-- empty column to create gap -->\n",
        ":::\n",
        "\n",
        "::: {.column width=\"30%\"}\n",
        "<img src=\"images/jet_3_images.png\" alt='jet_3_colormap' width='250'>\n",
        ":::\n",
        "\n",
        "::::\n",
        "\n",
        "The diagram on the left compares how a variety of colormaps represent pixel data that transitions from a high to low intensity. These include the jet colormap (row a) and grayscale (row b). Notice how the grayscale images do the best job in smoothly transitioning between pixel data. The jet colormap is the worst at this - the four images in row (a) look like a conglomeration of individual colors. \n",
        "\n",
        "The difference is also evident in the images labeled (a) and (b) on the left side. The grayscale image is better at preserving finer detail in the vertical line strokes. Additionally, grayscale is preferred in X-ray scans for being more neutral. The intensity of the dark red color in the jet colormap is frightening and indicates something is wrong.\n",
        "\n",
        "Why is the jet colormap so much worse? The answer lies in how its color composition is perceived to the human eye.\n",
        "\n",
        ":::: {.columns}\n",
        "\n",
        "\n",
        "::: {.column width=\"30%\"}\n",
        "**Jet Colormap Perception**\n",
        "<img src=\"images/jet_perceptually_uniform.png\" alt='jet_perceptually_uniform' width='300'>\n",
        ":::\n",
        "\n",
        "::: {.column width=\"20%\"}\n",
        "<!-- empty column to create gap -->\n",
        ":::\n",
        "\n",
        "::: {.column width=\"30%\"}\n",
        "**Viridis Colormap Perception**\n",
        "<img src=\"images/viridis_perceptually_uniform.png\" alt='viridis_perceptually_uniform' width='336'>\n",
        ":::\n",
        "\n",
        "::::\n",
        "\n",
        "The jet colormap is largely misleading because it is not perceptually uniform. **Perceptually uniform colormaps** have the property that if the pixel data goes from 0.1 to 0.2, the perceptual change is the same as when the data goes from 0.8 to 0.9.\n",
        "\n",
        "Notice how the said uniformity is present within the linear trend displayed in the viridis colormap. On the other hand, the jet colormap is largely non-linear - this is precisely why it's considered a worse colormap.\n",
        "\n",
        "### Harnessing Markings\n",
        "\n",
        "In our earlier discussion of multi-dimensional encodings, we analyzed a scatter plot with four pseudo-dimensions: the two axes, area, and color. Were these appropriate to use? The following diagram analyzes how well the human eye can distinguish between these \"markings\".\n",
        "\n",
        "<img src=\"images/markings_viz.png\" alt='markings_viz' width='400'>\n",
        "\n",
        "There are a few key takeaways from this diagram\n",
        "\n",
        "- Lengths are easy to discern. Don't use plots with jiggled baselines - keep everything axis-aligned.\n",
        "- Avoid pie charts! Angle judgments are inaccurate.\n",
        "- Areas and volumes are hard to distinguish (area charts, word clouds, etc.).\n",
        "\n",
        "### Harnessing Conditioning\n",
        "\n",
        "Conditioning is the process of comparing data that belong to separate groups. We've seen this before in overlayed distributions, side-by-side box plots, and scatter plots with categorical encodings. Here, we'll introduce terminology that formalizes these examples.\n",
        "\n",
        "Consider an example where we want to analyze income earnings for males and females with varying levels of education. There are multiple ways to compare this data. \n",
        "\n",
        ":::: {.columns}\n",
        "\n",
        "\n",
        "::: {.column width=\"30%\"}\n",
        "<img src=\"images/male_female_earnings_barplot.png\" alt='jet_perceptually_uniform' width='360'>\n",
        ":::\n",
        "\n",
        "::: {.column width=\"20%\"}\n",
        "<!-- empty column to create gap -->\n",
        ":::\n",
        "\n",
        "::: {.column width=\"30%\"}\n",
        "<img src=\"images/male_female_earnings_scatterplot.png\" alt='viridis_perceptually_uniform' width='340'>\n",
        ":::\n",
        "\n",
        "::::\n",
        "\n",
        "The barplot is an example of **juxtaposition**: placing multiple plots side by side, with the same scale. The scatter plot is an example of **superposition**: placing multiple density curves and scatter plots on top of each other. \n",
        "\n",
        "Which is better depends on the problem at hand. Here, superposition makes the precise wage difference very clear from a quick glance. However, many sophisticated plots convey information that favors the use of juxtaposition. Below is one example.\n",
        "\n",
        "<img src=\"images/small_multiples.png\" alt='small_multiples' width='600'>\n",
        "                                                        \n",
        "\n",
        "### Harnessing Context\n",
        "\n",
        "The last component of a great visualization is perhaps the most critical - the use of context. Adding informative titles, axis labels, and descriptive captions are all best practices that we've heard repeatedly in Data 8.\n",
        "\n",
        "A publication-ready plot (and every Data 100 plot) needs:\n",
        "\n",
        "- Informative title (takeaway, not description),\n",
        "- Axis labels,\n",
        "- Reference lines, markers, etc,\n",
        "- Legends, if appropriate,\n",
        "- Captions that describe data,\n",
        "\n",
        "Captions should:\n",
        "\n",
        "- Be comprehensive and self-contained,\n",
        "- Describe what has been graphed,\n",
        "- Draw attention to important features,\n",
        "- Describe conclusions drawn from graphs."
      ]
    }
  ],
  "metadata": {
    "kernelspec": {
      "display_name": "Python 3 (ipykernel)",
      "language": "python",
      "name": "python3"
    },
    "jupytext": {
      "text_representation": {
        "extension": ".qmd",
        "format_name": "quarto",
        "format_version": "1.0",
        "jupytext_version": "1.16.1"
      }
    }
  },
  "nbformat": 4,
  "nbformat_minor": 4
}