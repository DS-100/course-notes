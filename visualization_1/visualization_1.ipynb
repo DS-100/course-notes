{
  "cells": [
    {
      "cell_type": "raw",
      "metadata": {},
      "source": [
        "---\n",
        "title: Visualization I\n",
        "format:\n",
        "  html:\n",
        "    toc: true\n",
        "    toc-depth: 5\n",
        "    toc-location: right\n",
        "    code-fold: false\n",
        "    theme:\n",
        "      - cosmo\n",
        "      - cerulean\n",
        "    callout-icon: false\n",
        "---"
      ]
    },
    {
      "attachments": {},
      "cell_type": "markdown",
      "metadata": {},
      "source": [
        "::: {.callout-note collapse=\"true\"}\n",
        "## Learning Outcomes\n",
        "- Use `matplotlib`, `seaborn`, and `plotly` to create data visualization.\n",
        "- Analyze histogram and identify outliers, mode, and skewness.\n",
        "- Using `boxplot` and `violinplot` to compare two distributions.\n",
        ":::\n",
        "\n",
        "In our journey of the data science lifecycle, we have begun to explore the vast world of exploratory data analysis. More recently, we learned how to pre-process data using various data manipulation techniques. As we work towards understanding our data, there is one key component missing in our arsenal - the ability to visualize and discern relationships in existing data.\n",
        "\n",
        "These next two lectures will introduce you to various examples of data visualizations and their underlying theory. In doing so, we'll motivate their importace in real-world examples with the use of plotting libraries.\n",
        "\n",
        "## Visualizations in Data 8 and Data 100 (so far)\n",
        "\n",
        "You've likely encountered several forms of data visualizations in your studies. You may remember two such examples from Data 8: line charts and histograms. Each of these served a unique purpose. For example, line charts displayed how numerical quantities changed over time, while histograms were useful in understanding a variable's distribution. \n",
        "\n",
        ":::: {.columns}\n",
        "\n",
        "::: {.column width=\"30%\"}\n",
        "**Line Chart**\n",
        "\n",
        "<img src=\"images/line_chart_viz.png\" alt='line_chart_viz' width='300'>\n",
        ":::\n",
        "\n",
        "::: {.column width=\"30%\"}\n",
        "<!-- empty column to create gap -->\n",
        ":::\n",
        "\n",
        "::: {.column width=\"30%\"}\n",
        "**Histogram**\n",
        "\n",
        "<img src=\"images/histogram_viz.png\" alt='histogram_viz' width='300'>\n",
        ":::\n",
        "\n",
        "::::\n",
        "\n",
        "## Goals of Visualization\n",
        "\n",
        "Visualizations are useful for a number of reasons. In Data 100, we consider two areas in particular:\n",
        "\n",
        "1. To broaden your understanding of the data\n",
        "    - Key part in exploratory data analysis.\n",
        "    - Useful in investigating relationships between variables.\n",
        "2. To communicate results/conclusions to others \n",
        "    - Visualization theory is especially important here.\n",
        "\n",
        "One of the most common applications of visualizations is in understanding a distribution of data.\n",
        "\n",
        "## An Overview of Distributions\n",
        "\n",
        "A distribution describes the frequency of unique values in a variable. Distributions must satisfy two properties:\n",
        "\n",
        "   1. Each data point must belong to only one category.\n",
        "   2. The total frequency of all categories must sum to 100%. In other words, their total count should equal the number of values in consideration.\n",
        "   \n",
        ":::: {.columns}\n",
        "\n",
        "::: {.column width=\"30%\"}\n",
        "**Not a Valid Distribution**\n",
        "\n",
        "<img src=\"images/bad_distro.png\" alt='bad_distro' width='300'>\n",
        ":::\n",
        "\n",
        "::: {.column width=\"30%\"}\n",
        "<!-- empty column to create gap -->\n",
        ":::\n",
        "\n",
        "::: {.column width=\"30%\"}\n",
        "**Valid Distribution**\n",
        "\n",
        "<img src=\"images/good_distro.png\" alt='good_distro' width='300'>\n",
        ":::\n",
        "\n",
        "::::\n",
        "\n",
        "Left Diagram: This is not a valid distribution since individuals can be associated to more than one category and the bar values demonstrate values in minutes and not probability \n",
        "\n",
        "Right Diagram: This example satisfies the two properties of distributions, so it is a valid distribution.\n",
        "\n",
        "## Bar Plots\n",
        "\n",
        "As we saw above, a **bar plot** is one of the most common ways of displaying the distribution of a **qualitative** (categorical) variable. The length of a bar plot encodes the frequency of a category; the width encodes no useful information.\n",
        "\n",
        "Let's contextualize this in an example. We will use the familiar `births` dataset from Data 8 in our analysis."
      ]
    },
    {
      "cell_type": "code",
      "execution_count": null,
      "metadata": {
        "tags": []
      },
      "outputs": [],
      "source": [
        "#| code-fold: true\n",
        "import pandas as pd\n",
        "\n",
        "births = pd.read_csv(\"data/baby.csv\")\n",
        "births.head(5)"
      ]
    },
    {
      "cell_type": "markdown",
      "metadata": {},
      "source": [
        "We can visualize the distribution of the `Maternal Smoker` column using a bar plot. There are a few ways to do this.\n",
        "\n",
        "### Plotting in Pandas"
      ]
    },
    {
      "cell_type": "code",
      "execution_count": null,
      "metadata": {
        "tags": []
      },
      "outputs": [],
      "source": [
        "births['Maternal Smoker'].value_counts().plot(kind = 'bar');"
      ]
    },
    {
      "cell_type": "markdown",
      "metadata": {},
      "source": [
        "Recall that `.value_counts()` returns a `Series` with the total count of each unique value. We call `.plot(kind = 'bar')` on this result to visualize these counts as a bar plot.\n",
        "\n",
        "Plotting methods in `pandas` are the least preferred and not supported in Data 100, as their functionality is limited. Instead, future examples will focus on other libaries built specifically for visualizing data. The most well-known library here is `matplotlib`.\n",
        "\n",
        "### Plotting in Matplotlib"
      ]
    },
    {
      "cell_type": "code",
      "execution_count": null,
      "metadata": {},
      "outputs": [],
      "source": [
        "import matplotlib.pyplot as plt\n",
        "\n",
        "ms = births['Maternal Smoker'].value_counts()\n",
        "plt.bar(ms.index.astype('string'), ms)\n",
        "plt.xlabel('Maternal Smoker')\n",
        "plt.ylabel('Count');"
      ]
    },
    {
      "cell_type": "markdown",
      "metadata": {},
      "source": [
        "While more code is required to achieve the same result, `matplotlib` is often used over `pandas` for its ability to plot more complex visualizations, some of which are discussed shortly.\n",
        "\n",
        "However, notice how we need to explicitly specify the type of the value for the x-axis to `string`. In absence of conversion, the x-axis will be a range of integers rather than the two categories, `True` and `False`. This is because `matplotlib` coerces `True` to a value of 1 and `False` to 0. Also, note how we needed to label the axes with `plt.xlabel` and `plt.ylabel` - `matplotlib` does not support automatic axis labeling. To get around these inconveniences, we can use a more effecient plotting library, `seaborn`.\n",
        "\n",
        "### Plotting in Seaborn"
      ]
    },
    {
      "cell_type": "code",
      "execution_count": null,
      "metadata": {
        "tags": []
      },
      "outputs": [],
      "source": [
        "import seaborn as sns\n",
        "sns.countplot(data = births, x = 'Maternal Smoker');"
      ]
    },
    {
      "attachments": {},
      "cell_type": "markdown",
      "metadata": {},
      "source": [
        "`seaborn.countplot` both counts and visualizes the number of unique values in a given column. This column is specified by the `x` argument to `sns.countplot`, while the `DataFrame` is specified by the `data` argument.\n",
        "\n",
        "For the vast majority of visualizations, `seaborn` is far more concise and aesthetically pleasing than `matplotlib`. However, the color scheme of this particular bar plot is abritrary - it encodes no additional information about the categories themselves. This is not always true; color may signify meaningful detail in other visualizations. We'll explore this more in-depth during the next lecture.\n",
        "\n",
        "### Plotting in Plotly\n",
        "\n",
        "<img src=\"images/plotly_viz.png\" alt='plotly_viz' width='600'>\n",
        "\n",
        "`plotly` is one of the most versatile plottling libraries and widely used in industry. However, `plotly` has various dependencies that make it difficult to support in Data 100. Therfore, we have intentionally excluded the code to generate the plot above.\n",
        "\n",
        "By now, you'll have noticed that each of these plotting libraries have a very different syntax. As with `pandas`, we'll teach you the important methods in `matplotlib` and `seaborn`, but you'll learn more through documentation.\n",
        "\n",
        "1. [Matplotlib Documentation](https://matplotlib.org/stable/index.html)\n",
        "2. [Seaborn Documentation](https://seaborn.pydata.org/)\n",
        "\n",
        "Example Questions:\n",
        "\n",
        "- What colors should we use?\n",
        "- How wide should the bars be?\n",
        "- Should the legend exist?\n",
        "- Should the bars and axes have dark borders?\n",
        "\n",
        "To accomplish goal 2, here are some ways we can improve plot:\n",
        "\n",
        "- Introducing different colors for each bar\n",
        "- Including a legend\n",
        "- Including a title\n",
        "- Labeling the y-axis\n",
        "- Using color-blind friendly palettes\n",
        "- Re-orienting the labels\n",
        "- Increase the font size\n",
        "\n",
        "\n",
        "## Histograms\n",
        "\n",
        "**Histograms** are a natural extension to bar plots; they visualize the distribution of **quantitative** (numerical) data.\n",
        "\n",
        "Revisiting our example with the `births` DataFrame, let's plot the distribution of the `Maternal Pregnancy Weight` column."
      ]
    },
    {
      "cell_type": "code",
      "execution_count": null,
      "metadata": {},
      "outputs": [],
      "source": [
        "#| code-fold: true\n",
        "births.head(5)"
      ]
    },
    {
      "cell_type": "markdown",
      "metadata": {},
      "source": [
        "How should we define our categories for this variable? In the previous example, these were the unique values of the `Maternal Smoker` column: `True` and `False`. If we use similar logic here, our categories are the different numerical weights contained in the `Maternal Pregnancy Weight` column.\n",
        "\n",
        "Under this assumption, let's plot this distribution using the `seaborn.countplot` function."
      ]
    },
    {
      "cell_type": "code",
      "execution_count": null,
      "metadata": {},
      "outputs": [],
      "source": [
        "sns.countplot(data = births, x = 'Maternal Pregnancy Weight');"
      ]
    },
    {
      "cell_type": "markdown",
      "metadata": {},
      "source": [
        "This histogram clearly suffers from **overplotting**. This is somewhat expected for `Maternal Pregnancy Weight` - it is a quantitative variable that takes on a wide range of values.\n",
        "\n",
        "To combat this problem, statisticians use bins to categorize numerical data. Luckily, `seaborn` provides a helpful plotting function that automatically bins our data."
      ]
    },
    {
      "cell_type": "code",
      "execution_count": null,
      "metadata": {},
      "outputs": [],
      "source": [
        "sns.histplot(data = births, x = 'Maternal Pregnancy Weight');"
      ]
    },
    {
      "cell_type": "markdown",
      "metadata": {},
      "source": [
        "This diagram is known as a histogram. While it looks more reasonable, notice how we lose fine-grain information on the distribution of data contained within each bin. We can introduce rug plots to minimize this information loss. An overlaid \"rug plot\" displays the within-bin distribution of our data, as denoted by the thickness of the colored line on the x-axis."
      ]
    },
    {
      "cell_type": "code",
      "execution_count": null,
      "metadata": {},
      "outputs": [],
      "source": [
        "sns.histplot(data = births, x = 'Maternal Pregnancy Weight');\n",
        "sns.rugplot(data = births, x = 'Maternal Pregnancy Weight', color = 'red');"
      ]
    },
    {
      "cell_type": "markdown",
      "metadata": {},
      "source": [
        "You may have seen histograms drawn differently - perhaps with an overlaid **density curve** and normalized y-axis. We can display both with a few tweaks to our code. \n",
        "\n",
        "To visualize a density curve, we can set the the `kde = True` argument of the `sns.histplot`. Setting the argument `stat = 'density'` normalizes our histogram and displays densities, instead of counts, on the y-axis. You'll notice that the area under the density curve is 1."
      ]
    },
    {
      "cell_type": "code",
      "execution_count": null,
      "metadata": {},
      "outputs": [],
      "source": [
        "sns.histplot(data = births, x = 'Maternal Pregnancy Weight', kde = True, \n",
        "             stat = 'density')\n",
        "sns.rugplot(data = births, x = 'Maternal Pregnancy Weight', color = 'red');"
      ]
    },
    {
      "cell_type": "markdown",
      "metadata": {},
      "source": [
        "## Evaluating Histograms\n",
        "\n",
        "Histograms allow us to assess a distribution by their shape. There are a few properties of histograms we can analyze:\n",
        "\n",
        "1. Skewness and Tails\n",
        "    - Skewed left vs skewed right\n",
        "    - Left tail vs right tail\n",
        "2. Outliers\n",
        "    - Defined arbitrarily for now\n",
        "3. Modes\n",
        "    - Most commonly occuring data\n",
        "\n",
        "### Skewness and Tails\n",
        "\n",
        "If a distribution has a long right tail (such as `Maternal Pregancy Weight`), it is **skewed right**. In a right-skewed distribution, the few large outliers \"pull\" the mean to the **right** of the median.\n",
        "\n",
        "If a distribution has a long left tail, it is **skewed left**. In a left-skewed distribution, the few small outliers \"pull\" the mean to the **left** of the median. \n",
        "\n",
        "In the case where a distribution has equal-sized right and left tails, it is **symmetric**. The mean is approximately **equal** to the median. Think of mean as the balancing point of the distribution"
      ]
    },
    {
      "cell_type": "code",
      "execution_count": null,
      "metadata": {
        "tags": []
      },
      "outputs": [],
      "source": [
        "import numpy as np\n",
        "\n",
        "sns.histplot(data = births, x = 'Maternal Pregnancy Weight');\n",
        "df_mean = np.mean(births['Maternal Pregnancy Weight'])\n",
        "df_median = np.median(births['Maternal Pregnancy Weight'])\n",
        "print(\"The mean is: {} and the median is {}\".format(df_mean,df_median))"
      ]
    },
    {
      "cell_type": "markdown",
      "metadata": {},
      "source": [
        "### Outliers\n",
        "\n",
        "Loosely speaking, an **outlier** is defined as a data point that lies an abnormally large distance away from other values. We'll define the statistical measure for this shortly.\n",
        "\n",
        "Outliers disproportionately influce the mean because their magnitude is directly involved in computing the average. However, the median is largely unaffected - the magnitude of an outlier is irrelevant; we only care that it is some non-zero distance away from the midpoint of the data."
      ]
    },
    {
      "cell_type": "code",
      "execution_count": null,
      "metadata": {
        "tags": []
      },
      "outputs": [],
      "source": [
        "sns.histplot(data = births, x = 'Maternal Pregnancy Weight');\n",
        "## Where do we draw the line of outlier? \n",
        "plt.axvline(df_mean*1.75, color = 'red');"
      ]
    },
    {
      "cell_type": "markdown",
      "metadata": {},
      "source": [
        "### Modes\n",
        "\n",
        "A **mode** of a distribution is a local or global maximum. A distribution with a single clear maximum is **unimodal**, distributions with two modes are **bimodal**, and those with 3 or more are **multimodal**. You need to distinguish between **modes** and *random noise*.\n",
        "\n",
        "\n",
        "For example, the distribution of birth weights for maternal smokers is (weakly) multimodal."
      ]
    },
    {
      "cell_type": "code",
      "execution_count": null,
      "metadata": {},
      "outputs": [],
      "source": [
        "births_maternal_smoker = births[births['Maternal Smoker'] == True]\n",
        "sns.histplot(data = births_maternal_smoker, x = 'Maternal Pregnancy Weight')\\\n",
        "            .set(title = 'Maternal Smoker histogram');"
      ]
    },
    {
      "cell_type": "markdown",
      "metadata": {},
      "source": [
        "On the other hand, the distribution of birth weights for maternal non-smokers is weakly bi-modal."
      ]
    },
    {
      "cell_type": "code",
      "execution_count": null,
      "metadata": {},
      "outputs": [],
      "source": [
        "births_maternal_non_smoker = births[births['Maternal Smoker'] == False]\n",
        "sns.histplot(data = births_maternal_non_smoker, x = 'Maternal Pregnancy Weight')\\\n",
        "            .set(title = 'Maternal Non-Smoker histogram');"
      ]
    },
    {
      "cell_type": "markdown",
      "metadata": {},
      "source": [
        "However, changing the bins reveals that the data is not bi-modal."
      ]
    },
    {
      "cell_type": "code",
      "execution_count": null,
      "metadata": {},
      "outputs": [],
      "source": [
        "sns.histplot(data = births_maternal_non_smoker, x = 'Maternal Pregnancy Weight',\\\n",
        "             bins = 20);"
      ]
    },
    {
      "attachments": {},
      "cell_type": "markdown",
      "metadata": {},
      "source": [
        "## Density Curves\n",
        "\n",
        "Instead of a discrete histogram, we can visualize what a continuous distribution corresponding to that same data could look like using a curve.\n",
        "- The smooth curve drawn on top of the histogram here is called a density curve.\n",
        "\n",
        "In lecture 8, we will study how exactly to compute these density curves (using a technique is called Kernel Density Estimation). \n",
        "\n",
        "If we plot `birth weights` of babies of *smoking mothers*, we get a histogram that appears bimodal.\n",
        "\n",
        "- Density curve reinforces belief in this bimodality.\n",
        "\n",
        "However, if we plot `birth weights` of babies of *non-smoking mothers*, we get a histogram that appears unimodal.\n",
        "\n",
        "From a goal 1 perspective, this is EDA which tells us there may be something interesting here worth pursuing.\n",
        "\n",
        "- Deeper analysis necessary!\n",
        "- If we found something truly interesting, we’d have to cautiously write up an argument and create goal 2 level visualizations."
      ]
    },
    {
      "cell_type": "code",
      "execution_count": null,
      "metadata": {},
      "outputs": [],
      "source": [
        "births_non_maternal_smoker = births[births['Maternal Smoker'] == False]\n",
        "births_maternal_smoker = births[births['Maternal Smoker'] == True]\n",
        " \n",
        "sns.histplot(data = births_maternal_smoker , x = 'Birth Weight',\\\n",
        "             kde = True);"
      ]
    },
    {
      "cell_type": "code",
      "execution_count": null,
      "metadata": {},
      "outputs": [],
      "source": [
        "sns.histplot(data = births_non_maternal_smoker , x = 'Birth Weight',\\\n",
        "             kde = True);"
      ]
    },
    {
      "cell_type": "markdown",
      "metadata": {},
      "source": [
        "### Histograms and Density\n",
        "\n",
        "Rather than labeling by counts, we can instead plot the density, as shown below. Density gives us a measure that is invariant to the total number of observed units. The numerical values on the Y-axis for a sample of 100 units would be the same for when we observe a sample of 10000 units instead. We can still calculate the absolute number of observed units using density.\n",
        "\n",
        "Example: There are 1174 observations total.\n",
        "- Total area of this bin should be: 120/1174  = ~10%\n",
        "- Density of this bin is therefore: 10% / (115 - 110) = 0.02\n",
        "\n",
        "<img src=\"images/example_density.png\" alt='example_density.png' width='500'>\n",
        "\n",
        "## Box Plots and Violin Plots\n",
        "\n",
        "### Boxplots\n",
        "\n",
        "**Boxplots** are an alternative to histograms that visualize numerical distributions. They are especially useful in graphicaly summarizing several characteristics of a distribution. These include:\n",
        "\n",
        "1. Lower Quartile ($1^{st}$ Quartile)\n",
        "2. Median ($2^{nd}$ Quartile)\n",
        "3. Upper Quartile ($3^{rd}$ Quartile)\n",
        "4. Interquartile Range (IQR)\n",
        "5. Whiskers\n",
        "6. Outliers\n",
        "\n",
        "The **lower quartile**, **median**, and **uper quartile** are the $25^{th}$, $50^{th}$, and $75^{th}$ percentiles of data, respectively. The **interquartile range** measures the spread of the middle $50$% of the distribution, calculated as the ($3^{rd}$ Quartile $-$ $1^{st}$ Quartile).\n",
        "\n",
        "The **whiskers** of a box-plot are the two points that lie at the \\[$1^{st}$ Quartile $-$ ($1.5\\times$ IQR)\\], and the \\[$3^{rd}$ Quartile $+$ ($1.5\\times$ IQR)\\]. They are the lower and upper ranges of \"normal\" data (the points excluding outliers). Subsequently, the **outliers** are the data points that fall beyond the whiskers, or further than ($1.5 \\times$ IQR) from the extreme quartiles.\n",
        "\n",
        "Let's visualize a box-plot of the `Birth Weight` column."
      ]
    },
    {
      "cell_type": "code",
      "execution_count": 1,
      "metadata": {},
      "outputs": [
        {
          "ename": "NameError",
          "evalue": "name 'sns' is not defined",
          "output_type": "error",
          "traceback": [
            "\u001b[1;31m---------------------------------------------------------------------------\u001b[0m",
            "\u001b[1;31mNameError\u001b[0m                                 Traceback (most recent call last)",
            "\u001b[1;32m~\\AppData\\Local\\Temp/ipykernel_19552/1797785207.py\u001b[0m in \u001b[0;36m<module>\u001b[1;34m\u001b[0m\n\u001b[0;32m      1\u001b[0m \u001b[1;31m#| code-fold: true\u001b[0m\u001b[1;33m\u001b[0m\u001b[1;33m\u001b[0m\u001b[0m\n\u001b[0;32m      2\u001b[0m \u001b[1;33m\u001b[0m\u001b[0m\n\u001b[1;32m----> 3\u001b[1;33m \u001b[0msns\u001b[0m\u001b[1;33m.\u001b[0m\u001b[0mboxplot\u001b[0m\u001b[1;33m(\u001b[0m\u001b[0mdata\u001b[0m \u001b[1;33m=\u001b[0m \u001b[0mbirths\u001b[0m\u001b[1;33m,\u001b[0m \u001b[0my\u001b[0m \u001b[1;33m=\u001b[0m \u001b[1;34m'Birth Weight'\u001b[0m\u001b[1;33m)\u001b[0m\u001b[1;33m;\u001b[0m\u001b[1;33m\u001b[0m\u001b[1;33m\u001b[0m\u001b[0m\n\u001b[0m\u001b[0;32m      4\u001b[0m \u001b[1;33m\u001b[0m\u001b[0m\n\u001b[0;32m      5\u001b[0m \u001b[0mbweights\u001b[0m \u001b[1;33m=\u001b[0m \u001b[0mbirths\u001b[0m\u001b[1;33m[\u001b[0m\u001b[1;34m'Birth Weight'\u001b[0m\u001b[1;33m]\u001b[0m\u001b[1;33m\u001b[0m\u001b[1;33m\u001b[0m\u001b[0m\n",
            "\u001b[1;31mNameError\u001b[0m: name 'sns' is not defined"
          ]
        }
      ],
      "source": [
        "#| code-fold: true\n",
        "\n",
        "sns.boxplot(data = births, y = 'Birth Weight');\n",
        "\n",
        "bweights = births['Birth Weight']\n",
        "q1 = np.percentile(bweights, 25)\n",
        "q2 = np.percentile(bweights, 50)\n",
        "q3 = np.percentile(bweights, 75)\n",
        "iqr = q3 - q1\n",
        "whisk1 = q1 - (1.5 * iqr)\n",
        "whisk2 = q3 + (1.5 * iqr)\n",
        "\n",
        "print(\"The first quartile is {}\".format(q1))\n",
        "print(\"The second quartile is {}\".format(q2))\n",
        "print(\"The third quartile is {}\".format(q3))\n",
        "print(\"The interquartile range is {}\".format(iqr))\n",
        "print(\"The whiskers are {} and {}\".format(whisk1, whisk2))"
      ]
    },
    {
      "cell_type": "markdown",
      "metadata": {},
      "source": [
        "Here is a helpful visual that summarizes our discussion above.\n",
        "\n",
        "<img src=\"images/box-plot_vis.png\" alt='box-plot_vis' width='500'>\n",
        "\n",
        "### Violin Plots\n",
        "\n",
        "Another diagram that is useful in visualizing a variable's distribution is the violin plot. A **violin plot** supplements a box-plot with a smoothed density curve on either side of the plot. These density curves highlight the relative frequency of variable's possible values. If you look closely, you'll be able to discern the quartiles, whiskers, and other hallmark features of the box-plot."
      ]
    },
    {
      "cell_type": "code",
      "execution_count": null,
      "metadata": {},
      "outputs": [],
      "source": [
        "sns.violinplot(data = births, y = 'Birth Weight');"
      ]
    },
    {
      "cell_type": "markdown",
      "metadata": {},
      "source": [
        "## Comparing Quantitative Distributions\n",
        "\n",
        "Earlier in our discussion of the mode, we visualized two histograms that described the distribution of birth weights for maternal smokers and non-smokers. However, comparing these histograms was difficult because they were displayed on seperate plots. Can we overlay the two to tell a more compelling story?\n",
        "\n",
        "In `seaborn`, multiple calls to a plotting library in the same code cell will overlay the plots. For example:"
      ]
    },
    {
      "cell_type": "code",
      "execution_count": null,
      "metadata": {
        "tags": []
      },
      "outputs": [],
      "source": [
        "births_maternal_smoker = births[births['Maternal Smoker'] == False]\n",
        "births_non_maternal_smoker = births[births['Maternal Smoker'] == True]\n",
        "\n",
        "sns.histplot(data = births_maternal_smoker, x = 'Birth Weight',\n",
        "             color = 'orange', label = 'smoker')\n",
        "sns.histplot(data = births_non_maternal_smoker, x = 'Birth Weight',\n",
        "             color = 'blue', label = 'nonsmoker')\n",
        "plt.legend();"
      ]
    },
    {
      "cell_type": "markdown",
      "metadata": {},
      "source": [
        "However, notice how this diagram suffers from overplotting. We can fix this with a call to `sns.kdeplot`. This will remove the bins and overlay the histogram with a density curve that better summarizes the distribution."
      ]
    },
    {
      "cell_type": "code",
      "execution_count": null,
      "metadata": {
        "tags": []
      },
      "outputs": [],
      "source": [
        "sns.kdeplot(data = births_maternal_smoker, x = 'Birth Weight', color = 'orange', label = 'smoker')\n",
        "sns.kdeplot(data = births_non_maternal_smoker, x = 'Birth Weight', color = 'blue', label = 'nonsmoker')\n",
        "plt.legend();"
      ]
    },
    {
      "cell_type": "markdown",
      "metadata": {},
      "source": [
        "Unfortunately, we lose critical information in our distribution by removing small details. Therefore, we typically prefer to use box-plots and violin plots when comparing distributions. These are more concise and allow us to compare summary statistics across many distributions."
      ]
    },
    {
      "cell_type": "code",
      "execution_count": null,
      "metadata": {
        "tags": []
      },
      "outputs": [],
      "source": [
        "sns.violinplot(data = births, x = 'Maternal Smoker', y = 'Birth Weight');"
      ]
    },
    {
      "cell_type": "code",
      "execution_count": null,
      "metadata": {
        "tags": []
      },
      "outputs": [],
      "source": [
        "sns.boxplot(data=births, x = 'Maternal Smoker', y = 'Birth Weight');"
      ]
    },
    {
      "cell_type": "markdown",
      "metadata": {},
      "source": [
        "## Ridge Plots\n",
        "Ridge plots show many density curves offset from one another with minimal overlap. They are useful when the specific shape of each curve is important.\n",
        "\n",
        "<img src = \"images/example_ridge.png\" alt =\"example_ridge.png\" ></img>\n"
      ]
    }
  ],
  "metadata": {
    "kernelspec": {
      "display_name": "Python 3",
      "language": "python",
      "name": "python3"
    },
    "language_info": {
      "codemirror_mode": {
        "name": "ipython",
        "version": 3
      },
      "file_extension": ".py",
      "mimetype": "text/x-python",
      "name": "python",
      "nbconvert_exporter": "python",
      "pygments_lexer": "ipython3",
      "version": "3.9.13"
    },
    "vscode": {
      "interpreter": {
        "hash": "aea83e800b3f611b156506e3451d6446f84c720051bc83a1d66a677713fe7b36"
      }
    }
  },
  "nbformat": 4,
  "nbformat_minor": 4
}
