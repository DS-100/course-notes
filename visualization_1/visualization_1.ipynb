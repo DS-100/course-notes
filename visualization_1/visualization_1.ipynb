{
  "cells": [
    {
      "cell_type": "raw",
      "metadata": {},
      "source": [
        "---\n",
        "title: Visualization I\n",
        "format:\n",
        "  html:\n",
        "    toc: true\n",
        "    toc-depth: 5\n",
        "    toc-location: right\n",
        "    code-fold: false\n",
        "    theme:\n",
        "      - cosmo\n",
        "      - cerulean\n",
        "    callout-icon: false\n",
        "---"
      ]
    },
    {
      "cell_type": "markdown",
      "metadata": {},
      "source": [
        "::: {.callout-note collapse=\"false\"}\n",
        "## Learning Outcomes\n",
        "- Use `matplotlib` and `seaborn` to create data visualizations.\n",
        "- Analyze histograms and identify the skewness, potential outliers, and the mode.\n",
        "- Use `boxplot` and `violinplot` to compare two distributions.\n",
        ":::\n",
        "\n",
        "**This content is covered in lecture 7.**\n",
        "\n",
        "In our journey of the data science lifecycle, we have begun to explore the vast world of exploratory data analysis. More recently, we learned how to pre-process data using various data manipulation techniques. As we work towards understanding our data, there is one key component missing in our arsenal — the ability to visualize and discern relationships in existing data.\n",
        "\n",
        "These next two lectures will introduce you to various examples of data visualizations and their underlying theory. In doing so, we'll motivate their importance in real-world examples with the use of plotting libraries.\n",
        "\n",
        "## Visualizations in Data 8 and Data 100 (so far)\n",
        "\n",
        "You've likely encountered several forms of data visualizations in your studies. You may remember two such examples from Data 8: line plots and histograms. Each of these served a unique purpose. For example, line plots displayed how numerical quantities changed over time, while histograms were useful in understanding a variable's distribution. \n",
        "\n",
        ":::: {.columns}\n",
        "\n",
        "::: {.column width=\"30%\"}\n",
        "**Line Chart**\n",
        "\n",
        "<img src=\"images/line_chart_viz.png\" alt='line_chart_viz' width='300'>\n",
        ":::\n",
        "\n",
        "::: {.column width=\"30%\"}\n",
        "<!-- empty column to create gap -->\n",
        ":::\n",
        "\n",
        "::: {.column width=\"30%\"}\n",
        "**Histogram**\n",
        "\n",
        "<img src=\"images/histogram_viz.png\" alt='histogram_viz' width='300'>\n",
        ":::\n",
        "\n",
        "::::\n",
        "\n",
        "## Goals of Visualization\n",
        "\n",
        "Visualizations are useful for a number of reasons. In Data 100, we consider two areas in particular:\n",
        "\n",
        "1. To broaden your understanding of the data\n",
        "    - Key part in exploratory data analysis.\n",
        "    - Useful in investigating relationships between variables.\n",
        "2. To communicate results/conclusions to others \n",
        "    - Visualization theory is especially important here.\n",
        "\n",
        "One of the most common applications of visualizations is in understanding a distribution of data.\n",
        "\n",
        "This course note will focus on the first half of visualization topics in Data 100. The goal here is to understand how to choose the \"right\" plot depending on different variable types and, secondly, how to generate these plots using code.\n",
        "\n",
        "## An Overview of Distributions\n",
        "\n",
        "A distribution describes the frequency of unique values in a variable. Distributions must satisfy two properties:\n",
        "\n",
        "   1. Each data point must belong to only one category.\n",
        "   2. The total frequency of all categories must sum to 100%. In other words, their total count should equal the number of values in consideration.\n",
        "   \n",
        ":::: {.columns}\n",
        "\n",
        "::: {.column width=\"30%\"}\n",
        "**Not a Valid Distribution**\n",
        "\n",
        "<img src=\"images/bad_distro.png\" alt='bad_distro' width='300'>\n",
        ":::\n",
        "\n",
        "::: {.column width=\"30%\"}\n",
        "<!-- empty column to create gap -->\n",
        ":::\n",
        "\n",
        "::: {.column width=\"30%\"}\n",
        "**Valid Distribution**\n",
        "\n",
        "<img src=\"images/good_distro.png\" alt='good_distro' width='300'>\n",
        ":::\n",
        "\n",
        "::::\n",
        "\n",
        "Left Diagram: This is not a valid distribution since individuals can be associated with more than one category and the bar values demonstrate values in minutes and not probability. \n",
        "\n",
        "Right Diagram: This example satisfies the two properties of distributions, so it is a valid distribution.\n",
        "\n",
        "## Variable Types Should Inform Plot Choice\n",
        "\n",
        "Different plots are more or less suited for displaying particular types of variables, laid out in the diagram below:\n",
        "\n",
        "<img src=\"images/variable_types_vis_1.png\" alt='variable_types_diagram' width='600'>\n",
        "\n",
        "\n",
        "## Bar Plots\n",
        "\n",
        "As we saw above, a **bar plot** is one of the most common ways of displaying the distribution of a **qualitative** (categorical) variable. The length of a bar plot encodes the frequency of a category; the width encodes no useful information. The color *could* indicate a sub-category, but this is not necessarily the case. \n",
        "\n",
        "Let's contextualize this in an example. We will use the World Bank dataset (`wb`) in our analysis."
      ]
    },
    {
      "cell_type": "code",
      "execution_count": null,
      "metadata": {
        "tags": [],
        "vscode": {
          "languageId": "python"
        }
      },
      "outputs": [],
      "source": [
        "#| code-fold: true\n",
        "import pandas as pd\n",
        "import numpy as np\n",
        "\n",
        "wb = pd.read_csv(\"data/world_bank.csv\", index_col=0)\n",
        "wb.head()"
      ]
    },
    {
      "cell_type": "markdown",
      "metadata": {},
      "source": [
        "We can visualize the distribution of the `Continent` column using a bar plot. There are a few ways to do this.\n",
        "\n",
        "### Plotting in Pandas"
      ]
    },
    {
      "cell_type": "code",
      "execution_count": null,
      "metadata": {
        "tags": [],
        "vscode": {
          "languageId": "python"
        }
      },
      "outputs": [],
      "source": [
        "wb['Continent'].value_counts().plot(kind = 'bar');"
      ]
    },
    {
      "cell_type": "markdown",
      "metadata": {},
      "source": [
        "Recall that `.value_counts()` returns a `Series` with the total count of each unique value. We call `.plot(kind = 'bar')` on this result to visualize these counts as a bar plot.\n",
        "\n",
        "Plotting methods in `pandas` are the least preferred and not supported in Data 100, as their functionality is limited. Instead, future examples will focus on other libraries built specifically for visualizing data. The most well-known library here is `matplotlib`.\n",
        "\n",
        "### Plotting in Matplotlib"
      ]
    },
    {
      "cell_type": "code",
      "execution_count": null,
      "metadata": {
        "vscode": {
          "languageId": "python"
        }
      },
      "outputs": [],
      "source": [
        "import matplotlib.pyplot as plt # matplotlib is typically given the alias plt\n",
        "\n",
        "continent = wb['Continent'].value_counts()\n",
        "plt.bar(continent.index, continent)\n",
        "plt.xlabel('Continent')\n",
        "plt.ylabel('Count');"
      ]
    },
    {
      "cell_type": "markdown",
      "metadata": {},
      "source": [
        "While more code is required to achieve the same result, `matplotlib` is often used over `pandas` for its ability to plot more complex visualizations, some of which are discussed shortly.\n",
        "\n",
        "However, note how we needed to label the axes with `plt.xlabel` and `plt.ylabel` - `matplotlib` does not support automatic axis labeling. To get around these inconveniences, we can use a more efficient plotting library, `seaborn`.\n",
        "\n",
        "### Plotting in Seaborn"
      ]
    },
    {
      "cell_type": "code",
      "execution_count": null,
      "metadata": {
        "tags": [],
        "vscode": {
          "languageId": "python"
        }
      },
      "outputs": [],
      "source": [
        "import seaborn as sns # seaborn is typically given the alias sns\n",
        "sns.countplot(data = wb, x = 'Continent');"
      ]
    },
    {
      "cell_type": "markdown",
      "metadata": {},
      "source": [
        "`seaborn.countplot` both counts and visualizes the number of unique values in a given column. This column is specified by the `x` argument to `sns.countplot`, while the `DataFrame` is specified by the `data` argument. In contrast to `matplotlib`, the general structure of a `seaborn` call involves passing in an entire `DataFrame`, and then specifying what column(s) to plot.\n",
        "\n",
        "For the vast majority of visualizations, `seaborn` is far more concise and aesthetically pleasing than `matplotlib`. However, the color scheme of this particular bar plot is arbitrary - it encodes no additional information about the categories themselves. This is not always true; color may signify meaningful detail in other visualizations. We'll explore this more in-depth during the next lecture.\n",
        "\n",
        "By now, you'll have noticed that each of these plotting libraries have a very different syntax. As with `pandas`, we'll teach you the important methods in `matplotlib` and `seaborn`, but you'll learn more through documentation.\n",
        "\n",
        "1. [Matplotlib Documentation](https://matplotlib.org/stable/index.html)\n",
        "2. [Seaborn Documentation](https://seaborn.pydata.org/)\n",
        "\n",
        "Thinking back to our second goal, when we want to use visualizations to communicate results/conclusions to others, we must consider:\n",
        "\n",
        "- What colors should we use?\n",
        "- How wide should the bars be?\n",
        "- Should the legend exist?\n",
        "- Should the bars and axes have dark borders?\n",
        "\n",
        "To accomplish this, here are some ways we can improve a plot:\n",
        "\n",
        "- Introducing different colors for each bar\n",
        "- Including a legend\n",
        "- Including a title\n",
        "- Labeling the y-axis\n",
        "- Using color-blind friendly palettes\n",
        "- Re-orienting the labels\n",
        "- Increase the font size\n",
        "\n",
        "\n",
        "## Distributions of Quantitative Variables\n",
        "\n",
        "Revisiting our example with the `wb` DataFrame, let's plot the distribution of `Gross national income per capita`."
      ]
    },
    {
      "cell_type": "code",
      "execution_count": null,
      "metadata": {
        "vscode": {
          "languageId": "python"
        }
      },
      "outputs": [],
      "source": [
        "#| code-fold: true\n",
        "wb.head(5)"
      ]
    },
    {
      "cell_type": "markdown",
      "metadata": {},
      "source": [
        "How should we define our categories for this variable? In the previous example, these were a few unique values of the `Continent` column. If we use similar logic here, our categories are the different numerical values contained in the `Gross national income per capita` column.\n",
        "\n",
        "Under this assumption, let's plot this distribution using the `seaborn.countplot` function."
      ]
    },
    {
      "cell_type": "code",
      "execution_count": null,
      "metadata": {
        "vscode": {
          "languageId": "python"
        }
      },
      "outputs": [],
      "source": [
        "sns.countplot(data = wb, x = 'Gross national income per capita, Atlas method: $: 2016');"
      ]
    },
    {
      "cell_type": "markdown",
      "metadata": {},
      "source": [
        "What happened? A bar plot (either `plt.bar` or `sns.countplot`) will create a separate bar for each unique value of a variable. With a continuous variable, we may not have a finite number of possible values, which can lead to situations where we would need many, many bars to display each unique value.\n",
        "\n",
        "Specifically, we can say this histogram suffers from **overplotting** as we are unable to interpret the plot and gain any meaningful insight. \n",
        "\n",
        "Rather than bar plots, to visualize the distribution of a continuous variable, we use one of the following types of plots:\n",
        "\n",
        "- Histogram\n",
        "- Box plot\n",
        "- Violin plot\n",
        "\n",
        "## Box Plots and Violin Plots\n",
        "\n",
        "Box plots and violin plots are two very similar kinds of visualizations. Both display the distribution of a variable using information about quartiles.\n",
        "\n",
        "In a box plot, the width of the box at any point does not encode meaning. In a violin plot, the width of the plot indicates the density of the distribution at each possible value."
      ]
    },
    {
      "cell_type": "code",
      "execution_count": null,
      "metadata": {
        "vscode": {
          "languageId": "python"
        }
      },
      "outputs": [],
      "source": [
        "sns.boxplot(data=wb, y='Gross national income per capita, Atlas method: $: 2016');"
      ]
    },
    {
      "cell_type": "code",
      "execution_count": null,
      "metadata": {
        "vscode": {
          "languageId": "python"
        }
      },
      "outputs": [],
      "source": [
        "sns.violinplot(data=wb, y=\"Gross national income per capita, Atlas method: $: 2016\");"
      ]
    },
    {
      "cell_type": "markdown",
      "metadata": {},
      "source": [
        "A quartile represents a 25% portion of the data. We say that:\n",
        "\n",
        "- The first quartile (Q1) represents the 25th percentile – 25% of the data lies below the first quartile.\n",
        "- The second quartile (Q2) represents the 50th percentile, also known as the median – 50% of the data lies below the second quartile.\n",
        "- The third quartile (Q3) represents the 75th percentile – 75% of the data lies below the third quartile.\n",
        "\n",
        "This means that the middle 50% of the data lies between the first and third quartiles. This is demonstrated in the histogram below. The three quartiles are marked with red vertical bars."
      ]
    },
    {
      "cell_type": "code",
      "execution_count": null,
      "metadata": {
        "vscode": {
          "languageId": "python"
        }
      },
      "outputs": [],
      "source": [
        "gdp = wb['Gross domestic product: % growth : 2016']\n",
        "gdp = gdp[~gdp.isna()]\n",
        "\n",
        "q1, q2, q3 = np.percentile(gdp, [25, 50, 75])\n",
        "\n",
        "wb_quartiles = wb.copy()\n",
        "wb_quartiles['category'] = None\n",
        "wb_quartiles.loc[(wb_quartiles['Gross domestic product: % growth : 2016'] < q1) | (wb_quartiles['Gross domestic product: % growth : 2016'] > q3), 'category'] = 'Outside of the middle 50%'\n",
        "wb_quartiles.loc[(wb_quartiles['Gross domestic product: % growth : 2016'] > q1) & (wb_quartiles['Gross domestic product: % growth : 2016'] < q3), 'category'] = 'In the middle 50%'\n",
        "\n",
        "sns.histplot(wb_quartiles, x=\"Gross domestic product: % growth : 2016\", hue=\"category\")\n",
        "sns.rugplot([q1, q2, q3], c=\"firebrick\", lw=6, height=0.1);"
      ]
    },
    {
      "cell_type": "markdown",
      "metadata": {},
      "source": [
        "In a box plot, the lower extent of the box lies at Q1, while the upper extent of the box lies at Q3. The horizontal line in the middle of the box corresponds to Q2 (equivalently, the median)."
      ]
    },
    {
      "cell_type": "code",
      "execution_count": null,
      "metadata": {
        "vscode": {
          "languageId": "python"
        }
      },
      "outputs": [],
      "source": [
        "sns.boxplot(data=wb, y='Gross domestic product: % growth : 2016');"
      ]
    },
    {
      "cell_type": "markdown",
      "metadata": {},
      "source": [
        "The **whiskers** of a box-plot are the two points that lie at the \\[$1^{st}$ Quartile $-$ ($1.5\\times$ IQR)\\], and the \\[$3^{rd}$ Quartile $+$ ($1.5\\times$ IQR)\\]. They are the lower and upper ranges of \"normal\" data (the points excluding outliers). \n",
        "\n",
        "The different forms of information contained in a box plot can be summarised as follows:\n",
        "\n",
        "<img src=\"images/box_plot_diagram.png\" alt='box_plot_diagram' width='600'>\n",
        "\n",
        "A violin plot displays quartile information, albeit a bit more subtly. Look closely at the center vertical bar of the violin plot below!"
      ]
    },
    {
      "cell_type": "code",
      "execution_count": null,
      "metadata": {
        "vscode": {
          "languageId": "python"
        }
      },
      "outputs": [],
      "source": [
        "sns.violinplot(data=wb, y='Gross domestic product: % growth : 2016');"
      ]
    },
    {
      "cell_type": "markdown",
      "metadata": {},
      "source": [
        "## Side-by-Side Box and Violin Plots\n",
        "\n",
        "Plotting side-by-side box or violin plots allows us to compare distributions across different categories. In other words, they enable us to plot both a qualitative variable and a quantitative continuous variable in one visualization.\n",
        "\n",
        "With `seaborn`, we can easily create side-by-side plots by specifying both an x and y column."
      ]
    },
    {
      "cell_type": "code",
      "execution_count": null,
      "metadata": {
        "vscode": {
          "languageId": "python"
        }
      },
      "outputs": [],
      "source": [
        "sns.boxplot(data=wb, x=\"Continent\", y='Gross domestic product: % growth : 2016');"
      ]
    },
    {
      "cell_type": "markdown",
      "metadata": {},
      "source": [
        "## Plotting Histograms\n",
        "\n",
        "You are likely familiar with histograms from Data 8. A histogram collects continuous data into bins, then plots this binned data. Each bin reflects the density of datapoints with values that lie between the left and right ends of the bin."
      ]
    },
    {
      "cell_type": "code",
      "execution_count": null,
      "metadata": {
        "vscode": {
          "languageId": "python"
        }
      },
      "outputs": [],
      "source": [
        "# The `edgecolor` argument controls the color of the bin edges\n",
        "gni = wb[\"Gross national income per capita, Atlas method: $: 2016\"]\n",
        "plt.hist(gni, density=True, edgecolor=\"white\")\n",
        "\n",
        "# Add labels\n",
        "plt.xlabel(\"Gross national income per capita\")\n",
        "plt.ylabel(\"Density\")\n",
        "plt.title(\"Distribution of gross national income per capita\");"
      ]
    },
    {
      "cell_type": "code",
      "execution_count": null,
      "metadata": {
        "vscode": {
          "languageId": "python"
        }
      },
      "outputs": [],
      "source": [
        "sns.histplot(data=wb, x=\"Gross national income per capita, Atlas method: $: 2016\", stat=\"density\")\n",
        "plt.title(\"Distribution of gross national income per capita\");"
      ]
    },
    {
      "cell_type": "markdown",
      "metadata": {},
      "source": [
        "### Overlaid Histograms\n",
        "\n",
        "We can overlay histograms (or density curves) to compare distributions across qualitative categories.\n",
        "\n",
        "The `hue` parameter of `sns.histplot` specifies the column that should be used to determine the color of each category. `hue` can be used in many `seaborn` plotting functions.\n",
        "\n",
        "Notice that the resulting plot includes a legend describing which color corresponds to each hemisphere – a legend should always be included if color is used to encode information in a visualization!"
      ]
    },
    {
      "cell_type": "code",
      "execution_count": null,
      "metadata": {
        "vscode": {
          "languageId": "python"
        }
      },
      "outputs": [],
      "source": [
        "# Create a new variable to store the hemisphere in which each country is located\n",
        "north = [\"Asia\", \"Europe\", \"N. America\"]\n",
        "south = [\"Africa\", \"Oceania\", \"S. America\"]\n",
        "wb.loc[wb[\"Continent\"].isin(north), \"Hemisphere\"] = \"Northern\"\n",
        "wb.loc[wb[\"Continent\"].isin(south), \"Hemisphere\"] = \"Southern\""
      ]
    },
    {
      "cell_type": "code",
      "execution_count": null,
      "metadata": {
        "vscode": {
          "languageId": "python"
        }
      },
      "outputs": [],
      "source": [
        "sns.histplot(data=wb, x=\"Gross national income per capita, Atlas method: $: 2016\", hue=\"Hemisphere\", stat=\"density\")\n",
        "plt.title(\"Distribution of gross national income per capita\");"
      ]
    },
    {
      "cell_type": "markdown",
      "metadata": {},
      "source": [
        "Each bin of a histogram is scaled such that its area is equal to the percentage of all datapoints that it contains."
      ]
    },
    {
      "cell_type": "code",
      "execution_count": null,
      "metadata": {
        "vscode": {
          "languageId": "python"
        }
      },
      "outputs": [],
      "source": [
        "densities, bins, _ = plt.hist(gni, density=True, edgecolor=\"white\", bins=5)\n",
        "plt.xlabel(\"Gross national income per capita\")\n",
        "plt.ylabel(\"Density\")\n",
        "\n",
        "print(f\"First bin has width {bins[1]-bins[0]} and height {densities[0]}\")\n",
        "print(f\"This corresponds to {bins[1]-bins[0]} * {densities[0]} = {(bins[1]-bins[0])*densities[0]*100}% of the data\")"
      ]
    },
    {
      "cell_type": "markdown",
      "metadata": {},
      "source": [
        "## Evaluating Histograms\n",
        "\n",
        "Histograms allow us to assess a distribution by their shape. There are a few properties of histograms we can analyze:\n",
        "\n",
        "1. Skewness and Tails\n",
        "    - Skewed left vs skewed right\n",
        "    - Left tail vs right tail\n",
        "2. Outliers\n",
        "    - Using percentiles\n",
        "3. Modes\n",
        "    - Most commonly occuring data\n",
        "\n",
        "### Skewness and Tails\n",
        "\n",
        "The skew of a histogram describes the direction in which its \"tail\" extends.\n",
        "- A distribution with a long right tail is **skewed right** (such as `Gross national income per capita`). In a right-skewed distribution, the few large outliers \"pull\" the mean to the **right** of the median. \n",
        "- A distribution with a long left tail is **skewed left** (such as `Access to an improved water source`). In a left-skewed distribution, the few small outliers \"pull\" the mean to the **left** of the median. \n",
        "\n",
        "In the case where a distribution has equal-sized right and left tails, it is **symmetric**. The mean is approximately **equal** to the median. Think of mean as the balancing point of the distribution."
      ]
    },
    {
      "cell_type": "code",
      "execution_count": null,
      "metadata": {
        "vscode": {
          "languageId": "python"
        }
      },
      "outputs": [],
      "source": [
        "sns.histplot(data = wb, x = 'Gross national income per capita, Atlas method: $: 2016', stat = 'density');\n",
        "plt.title('Distribution with a long right tail')"
      ]
    },
    {
      "cell_type": "code",
      "execution_count": null,
      "metadata": {
        "vscode": {
          "languageId": "python"
        }
      },
      "outputs": [],
      "source": [
        "sns.histplot(data = wb, x = 'Access to an improved water source: % of population: 2015', stat = 'density');\n",
        "plt.title('Distribution with a long left tail')"
      ]
    },
    {
      "cell_type": "markdown",
      "metadata": {},
      "source": [
        "### Outliers\n",
        "\n",
        "Loosely speaking, an **outlier** is defined as a data point that lies an abnormally large distance away from other values. Let's make this more concrete. As you may have observed in the box plot infographic earlier, we define **outliers** to be the data points that fall beyond the whiskers. Specifically, values that are less than the \\[$1^{st}$ Quartile $-$ ($1.5\\times$ IQR)\\], or greater than \\[$3^{rd}$ Quartile $+$ ($1.5\\times$ IQR).\\]\n",
        "\n",
        "### Modes\n",
        "\n",
        "In Data 100, we describe a \"mode\" of a histogram as a peak in the distribution. Often, however, it is difficult to determine what counts as its own \"peak.\" For example, the number of peaks in the distribution of HIV rates across different countries varies depending on the number of histogram bins we plot.\n",
        "\n",
        "If we set the number of bins to 5, the distribution appears unimodal."
      ]
    },
    {
      "cell_type": "code",
      "execution_count": null,
      "metadata": {
        "vscode": {
          "languageId": "python"
        }
      },
      "outputs": [],
      "source": [
        "# Rename the very long column name for convenience\n",
        "wb = wb.rename(columns={'Antiretroviral therapy coverage: % of people living with HIV: 2015':\"HIV rate\"})\n",
        "# With 5 bins, it seems that there is only one peak\n",
        "sns.histplot(data=wb, x=\"HIV rate\", stat=\"density\", bins=5)\n",
        "plt.title(\"5 histogram bins\");"
      ]
    },
    {
      "cell_type": "code",
      "execution_count": null,
      "metadata": {
        "vscode": {
          "languageId": "python"
        }
      },
      "outputs": [],
      "source": [
        "# With 10 bins, there seem to be two peaks\n",
        "\n",
        "sns.histplot(data=wb, x=\"HIV rate\", stat=\"density\", bins=10)\n",
        "plt.title(\"10 histogram bins\");"
      ]
    },
    {
      "cell_type": "code",
      "execution_count": null,
      "metadata": {
        "vscode": {
          "languageId": "python"
        }
      },
      "outputs": [],
      "source": [
        "# And with 20 bins, it becomes hard to say what counts as a \"peak\"!\n",
        "\n",
        "sns.histplot(data=wb, x =\"HIV rate\", stat=\"density\", bins=20)\n",
        "plt.title(\"20 histogram bins\");"
      ]
    },
    {
      "cell_type": "markdown",
      "metadata": {},
      "source": [
        "In part, it is these ambiguities that motivate us to consider using Kernel Density Estimation (KDE), which we will explore more in the next lecture.\n"
      ]
    }
  ],
  "metadata": {
    "kernelspec": {
      "display_name": "Python 3 (ipykernel)",
      "language": "python",
      "name": "python3"
    }
  },
  "nbformat": 4,
  "nbformat_minor": 4
}
