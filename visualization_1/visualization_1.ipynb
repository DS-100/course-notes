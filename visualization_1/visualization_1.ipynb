{
 "cells": [
  {
   "cell_type": "markdown",
   "metadata": {},
   "source": [
    "---\n",
    "title: Visualization I\n",
    "format:\n",
    "  html:\n",
    "    toc: true\n",
    "    toc-depth: 5\n",
    "    toc-location: right\n",
    "    code-fold: false\n",
    "    theme:\n",
    "      - cosmo\n",
    "      - cerulean\n",
    "    callout-icon: false\n",
    "jupyter: python3\n",
    "---\n",
    "\n",
    "::: {.callout-note collapse=\"false\"}\n",
    "## Learning Outcomes\n",
    "- Understand the theories behind effective visualizations and start to generate plots of our own with `matplotlib` and `seaborn`.\n",
    "- Analyze histograms and identify the skewness, potential outliers, and the mode.\n",
    "- Use `boxplot` and `violinplot` to compare two distributions.\n",
    ":::\n",
    "\n",
    "In our journey of the data science lifecycle, we have begun to explore the vast world of exploratory data analysis. More recently, we learned how to pre-process data using various data manipulation techniques. As we work towards understanding our data, there is one key component missing in our arsenal — the ability to visualize and discern relationships in existing data.\n",
    "\n",
    "These next two lectures will introduce you to various examples of data visualizations and their underlying theory. In doing so, we'll motivate their importance in real-world examples with the use of plotting libraries.\n",
    "\n",
    "## Visualizations in Data 8 and Data 100 (so far)\n",
    "\n",
    "You've likely encountered several forms of data visualizations in your studies. You may remember two such examples from Data 8: line plots, scatter plots, and histograms. Each of these served a unique purpose. For example, line plots displayed how numerical quantities changed over time, while histograms were useful in understanding a variable's distribution. \n",
    "\n",
    "| Line Chart | Scatter Plot | \n",
    "| --- | --- | \n",
    "| <img src=\"images/line_chart_viz.png\" alt='bad_distro' width='300'> |  <img src=\"images/scatter.png\" alt='bad_distro' width='300'> | \n",
    "\n",
    "| Histogram | \n",
    "| --- |\n",
    "| <img src=\"images/histogram_viz.png\" alt='bad_distro' width='400'> |\n",
    "\n",
    "## Goals of Visualization\n",
    "\n",
    "Visualizations are useful for a number of reasons. In Data 100, we consider two areas in particular:\n",
    "\n",
    "1. To broaden your understanding of the data. Summarizing trends visually before in-depth analysis is a key part of exploratory data analysis. Creating these graphs is a lightweight, iterative and flexible process that helps us investigate relationships between variables.\n",
    "2. To communicate results/conclusions to others. These visualizations are highly editorial, selective, and fine-tuned to achieve a communications goal, so be thoughtful and careful about its clarity, accessibility, and necessary context.\n",
    "\n",
    "Altogether, these goals emphasize the fact that visualizations aren't a matter of making \"pretty\" pictures; we need to do a lot of thinking about what stylistic choices communicate ideas most effectively.\n",
    "\n",
    "This course note will focus on the first half of visualization topics in Data 100. The goal here is to understand how to choose the \"right\" plot depending on different variable types and, secondly, how to generate these plots using code.\n",
    "\n",
    "## An Overview of Distributions\n",
    "\n",
    "A distribution describes both the set of values that a single variable can take and the frequency of unique values in a single variable. For example, if we're interested in the distribution of students across Data 100 discussion sections, the set of possible values is a list of discussion sections (10-11am, 11-12pm, etc.), and the frequency that each of those values occur is the number of students enrolled in each section. In other words, we're interested in how a variable is distributed across it's possible values. Therefore, distributions must satisfy two properties:\n",
    "\n",
    "   1. The total frequency of all categories must sum to 100%\n",
    "   2. Total count should sum to the total number of datapoints if we're using raw counts.\n",
    "   \n",
    "| Not a Valid Distribution | Valid Distribution | \n",
    "| --- | --- | \n",
    "| <img src=\"images/bad_distro.png\" alt='bad_distro' width='350'> | <img src=\"images/good_distro.png\" alt='good_distro' width='300'> | \n",
    "| This is not a valid distribution since individuals can be associated with more than one category and the bar values demonstrate values in minutes and not probability. | This example satisfies the two properties of distributions, so it is a valid distribution. | \n",
    "\n",
    "## Variable Types Should Inform Plot Choice\n",
    "\n",
    "Different plots are more or less suited for displaying particular types of variables, laid out in the diagram below:\n",
    "\n",
    "<center><img src = \"images/variables.png\" width = \"500\"></img></a></center>\n",
    "\n",
    "The first step of any visualization is to identify the type(s) of variables we're working with. From here, we can select an appropriate plot type: \n",
    "\n",
    "## Qualitative Variables: Bar Plots\n",
    "\n",
    "A **bar plot** is one of the most common ways of displaying the **distribution** of a **qualitative** (categorical) variable. The length of a bar plot encodes the frequency of a category; the width encodes no useful information. The color *could* indicate a sub-category, but this is not necessarily the case. \n",
    "\n",
    "Let's contextualize this in an example. We will use the World Bank dataset (`wb`) in our analysis."
   ]
  },
  {
   "cell_type": "code",
   "execution_count": null,
   "metadata": {},
   "outputs": [],
   "source": [
    "#| code-fold: true\n",
    "import pandas as pd\n",
    "import numpy as np\n",
    "import warnings \n",
    "\n",
    "warnings.filterwarnings(\"ignore\", \"use_inf_as_na\") # Supresses distracting deprecation warnings\n",
    "\n",
    "wb = pd.read_csv(\"data/world_bank.csv\", index_col=0)\n",
    "wb.head()"
   ]
  },
  {
   "cell_type": "markdown",
   "metadata": {},
   "source": [
    "We can visualize the distribution of the `Continent` column using a bar plot. There are a few ways to do this.\n",
    "\n",
    "### Plotting in Pandas"
   ]
  },
  {
   "cell_type": "code",
   "execution_count": null,
   "metadata": {},
   "outputs": [],
   "source": [
    "wb['Continent'].value_counts().plot(kind='bar');"
   ]
  },
  {
   "cell_type": "markdown",
   "metadata": {},
   "source": [
    "Recall that `.value_counts()` returns a `Series` with the total count of each unique value. We call `.plot(kind='bar')` on this result to visualize these counts as a bar plot.\n",
    "\n",
    "Plotting methods in `pandas` are the least preferred and not supported in Data 100, as their functionality is limited. Instead, future examples will focus on other libraries built specifically for visualizing data. The most well-known library here is `matplotlib`.\n",
    "\n",
    "### Plotting in Matplotlib"
   ]
  },
  {
   "cell_type": "code",
   "execution_count": null,
   "metadata": {},
   "outputs": [],
   "source": [
    "import matplotlib.pyplot as plt # matplotlib is typically given the alias plt\n",
    "\n",
    "continent = wb['Continent'].value_counts()\n",
    "plt.bar(continent.index, continent)\n",
    "plt.xlabel('Continent')\n",
    "plt.ylabel('Count');"
   ]
  },
  {
   "cell_type": "markdown",
   "metadata": {},
   "source": [
    "While more code is required to achieve the same result, `matplotlib` is often used over `pandas` for its ability to plot more complex visualizations, some of which are discussed shortly.\n",
    "\n",
    "However, note how we needed to label the axes with `plt.xlabel` and `plt.ylabel`, as `matplotlib` does not support automatic axis labeling. To get around these inconveniences, we can use a more efficient plotting library: `seaborn`.\n",
    "\n",
    "### Plotting in `Seaborn`"
   ]
  },
  {
   "cell_type": "code",
   "execution_count": null,
   "metadata": {},
   "outputs": [],
   "source": [
    "import seaborn as sns # seaborn is typically given the alias sns\n",
    "sns.countplot(data = wb, x = 'Continent');"
   ]
  },
  {
   "cell_type": "markdown",
   "metadata": {},
   "source": [
    "In contrast to `matplotlib`, the general structure of a `seaborn` call involves passing in an entire `DataFrame`, and then specifying what column(s) to plot. `seaborn.countplot` both counts and visualizes the number of unique values in a given column. This column is specified by the `x` argument to `sns.countplot`, while the `DataFrame` is specified by the `data` argument. \n",
    "\n",
    "> `seaborn` is built on `matplotlib`! When using `seaborn`, you’re actually using `matplotlib` under the hood, but with an easier-to-use interface for working with `DataFrame`s and creating certain types of plots.\n",
    "\n",
    "For the vast majority of visualizations, `seaborn` is far more concise and aesthetically pleasing than `matplotlib`. However, the color scheme of this particular bar plot is arbitrary - it encodes no additional information about the categories themselves. This is not always true; color may signify meaningful detail in other visualizations. We'll explore this more in-depth during the next lecture.\n",
    "\n",
    "By now, you'll have noticed that each of these plotting libraries have a very different syntax. As with `pandas`, we'll teach you the important methods in `matplotlib` and `seaborn`, but you'll learn more through documentation.\n",
    "\n",
    "1. [Matplotlib Documentation](https://matplotlib.org/stable/index.html)\n",
    "2. [Seaborn Documentation](https://seaborn.pydata.org/)\n",
    "\n",
    "## Distributions of Quantitative Variables\n",
    "\n",
    "Revisiting our example with the `wb` DataFrame, let's plot the distribution of `Gross national income per capita`."
   ]
  },
  {
   "cell_type": "code",
   "execution_count": null,
   "metadata": {},
   "outputs": [],
   "source": [
    "#| code-fold: true\n",
    "wb.head(5)"
   ]
  },
  {
   "cell_type": "markdown",
   "metadata": {},
   "source": [
    "How should we define our categories for this variable? In the previous example, these were a few unique values of the `Continent` column. If we use similar logic here, our categories are the different numerical values contained in the `Gross national income per capita` column.\n",
    "\n",
    "Under this assumption, let's plot this distribution using the `seaborn.countplot` function."
   ]
  },
  {
   "cell_type": "code",
   "execution_count": null,
   "metadata": {},
   "outputs": [],
   "source": [
    "sns.countplot(data = wb, x = 'Gross national income per capita, Atlas method: $: 2016');"
   ]
  },
  {
   "cell_type": "markdown",
   "metadata": {},
   "source": [
    "What happened? A bar plot (either `plt.bar` or `sns.countplot`) will create a separate bar for each unique value of a variable. With a quantitative variable, we may not have a finite number of possible values, which can lead to situations like above where we would need many, many bars to display each unique value.\n",
    "\n",
    "Specifically, we can say this histogram suffers from **overplotting** as we are unable to interpret the plot and gain any meaningful insight. \n",
    "\n",
    "Rather than bar plots, to visualize the distribution of a quantitative variable, we use one of the following types of plots:\n",
    "\n",
    "- Histogram\n",
    "- Box plot\n",
    "- Violin plot\n",
    "\n",
    "\n",
    "### Histograms\n",
    "\n",
    "You are likely familiar with histograms from Data 8. A histogram collects quantitative data into bins, then plots this binned data. \\\n",
    "\\\n",
    "Each bin reflects the density of datapoints with values that lie between the left and right ends of the bin; in other words, the **area**  (not height!) of each bin is proportional to the **percentage** of datapoints it contains. \n",
    "\n",
    "#### Plotting Histograms\n",
    "Below, we plot a histogram using matplotlib and seaborn. Which graph do you prefer? "
   ]
  },
  {
   "cell_type": "code",
   "execution_count": null,
   "metadata": {},
   "outputs": [],
   "source": [
    "# The `edgecolor` argument controls the color of the bin edges\n",
    "gni = wb[\"Gross national income per capita, Atlas method: $: 2016\"]\n",
    "plt.hist(gni, density=True, edgecolor=\"white\")\n",
    "\n",
    "# Add labels\n",
    "plt.xlabel(\"Gross national income per capita\")\n",
    "plt.ylabel(\"Density\")\n",
    "plt.title(\"Distribution of gross national income per capita\");"
   ]
  },
  {
   "cell_type": "code",
   "execution_count": null,
   "metadata": {},
   "outputs": [],
   "source": [
    "sns.histplot(data=wb, x=\"Gross national income per capita, Atlas method: $: 2016\", stat=\"density\")\n",
    "plt.title(\"Distribution of gross national income per capita\");"
   ]
  },
  {
   "cell_type": "markdown",
   "metadata": {},
   "source": [
    "#### Overlaid Histograms\n",
    "\n",
    "We can overlay histograms (or density curves) to compare **quantitative** distributions across **qualitative** categories.\n",
    "\n",
    "The `hue` parameter of `sns.histplot` specifies the column that should be used to determine the color of each category. `hue` can be used in many `seaborn` plotting functions.\n",
    "\n",
    "Notice that the resulting plot includes a legend describing which color corresponds to each hemisphere – a legend should always be included if color is used to encode information in a visualization!"
   ]
  },
  {
   "cell_type": "code",
   "execution_count": null,
   "metadata": {},
   "outputs": [],
   "source": [
    "# Create a new variable to store the hemisphere in which each country is located\n",
    "north = [\"Asia\", \"Europe\", \"N. America\"]\n",
    "south = [\"Africa\", \"Oceania\", \"S. America\"]\n",
    "wb.loc[wb[\"Continent\"].isin(north), \"Hemisphere\"] = \"Northern\"\n",
    "wb.loc[wb[\"Continent\"].isin(south), \"Hemisphere\"] = \"Southern\""
   ]
  },
  {
   "cell_type": "code",
   "execution_count": null,
   "metadata": {},
   "outputs": [],
   "source": [
    "sns.histplot(data=wb, x=\"Gross national income per capita, Atlas method: $: 2016\", hue=\"Hemisphere\", stat=\"density\")\n",
    "plt.title(\"Distribution of gross national income per capita\");"
   ]
  },
  {
   "cell_type": "markdown",
   "metadata": {},
   "source": [
    "Again, each bin of a histogram is scaled such that its **area** is proportional to the **percentage** of all datapoints that it contains."
   ]
  },
  {
   "cell_type": "code",
   "execution_count": null,
   "metadata": {},
   "outputs": [],
   "source": [
    "densities, bins, _ = plt.hist(gni, density=True, edgecolor=\"white\", bins=5)\n",
    "plt.xlabel(\"Gross national income per capita\")\n",
    "plt.ylabel(\"Density\")\n",
    "\n",
    "print(f\"First bin has width {bins[1]-bins[0]} and height {densities[0]}\")\n",
    "print(f\"This corresponds to {bins[1]-bins[0]} * {densities[0]} = {(bins[1]-bins[0])*densities[0]*100}% of the data\")"
   ]
  },
  {
   "cell_type": "markdown",
   "metadata": {},
   "source": [
    "#### Interpreting Histograms\n",
    "\n",
    "Histograms allow us to assess a distribution by their shape. There are a few properties of histograms we can analyze:\n",
    "\n",
    "1. Skewness and Tails\n",
    "    - Skewed left (negative skew) vs skewed right (positive skew)\n",
    "    - Left tail vs right tail\n",
    "2. Modes\n",
    "    - Most commonly occuring data\n",
    "3. Outliers\n",
    "    -  Using quartiles/percentiles\n",
    "\n",
    "##### Skewness and Tails\n",
    "\n",
    "The skew of a histogram describes the direction in which its \"tail\" extends.\n",
    "\n",
    "- A distribution with a long right tail is **skewed right**, or has **positive skew** (such as `Gross national income per capita`). In a right-skewed distribution, the few large outliers \"pull\" the **mean** to the **right** of the **median**.\n",
    "- A good way to remember this is that it looks like a \"**P**\" on its side for **P**ositive skew! "
   ]
  },
  {
   "cell_type": "code",
   "execution_count": null,
   "metadata": {},
   "outputs": [],
   "source": [
    "sns.histplot(data = wb, x = 'Gross national income per capita, Atlas method: $: 2016', stat = 'density');\n",
    "plt.title('Distribution with a long right tail')"
   ]
  },
  {
   "cell_type": "markdown",
   "metadata": {},
   "source": [
    "- A distribution with a long left tail is **skewed left**  (has **negative skew**) (such as `Access to an improved water source`). In a left-skewed distribution, the few small outliers \"pull\" the **mean** to the **left** of the **median**. "
   ]
  },
  {
   "cell_type": "code",
   "execution_count": null,
   "metadata": {},
   "outputs": [],
   "source": [
    "sns.histplot(data = wb, x = 'Access to an improved water source: % of population: 2015', stat = 'density');\n",
    "plt.title('Distribution with a long left tail')"
   ]
  },
  {
   "cell_type": "markdown",
   "metadata": {},
   "source": [
    "In the case where a distribution has equal-sized right and left tails, it is **symmetric**. The mean is approximately **equal** to the median. Think of mean as the balancing point of the distribution.\n",
    "\n",
    "##### Modes\n",
    "\n",
    "The **mode** is the **mo**st frequent value in a distribution. In Data 100, we describe a \"mode\" of a histogram as a peak in the distribution. As there may be multiple \"peaks\" in a distribution, we can talk about multiple modes. Often, however, it is difficult to determine what counts as its own \"peak.\" For example, the number of peaks in the distribution of HIV rates across different countries varies depending on the number of histogram bins we plot.\n",
    "\n",
    "If we set the number of bins to 5, the distribution appears **unimodal** (has one clear peak/mode)."
   ]
  },
  {
   "cell_type": "code",
   "execution_count": null,
   "metadata": {},
   "outputs": [],
   "source": [
    "# Rename the very long column name for convenience\n",
    "wb = wb.rename(columns={'Antiretroviral therapy coverage: % of people living with HIV: 2015':\"HIV rate\"})\n",
    "# With 5 bins, it seems that there is only one peak\n",
    "sns.histplot(data=wb, x=\"HIV rate\", stat=\"density\", bins=5)\n",
    "plt.title(\"5 histogram bins\");"
   ]
  },
  {
   "cell_type": "code",
   "execution_count": null,
   "metadata": {},
   "outputs": [],
   "source": [
    "# With 10 bins, there seem to be two peaks\n",
    "\n",
    "sns.histplot(data=wb, x=\"HIV rate\", stat=\"density\", bins=10)\n",
    "plt.title(\"10 histogram bins\");"
   ]
  },
  {
   "cell_type": "markdown",
   "metadata": {},
   "source": [
    "If a distribution has two peaks/modes, it is called **bimodal**. If a distribution has more peaks than that, we say it is **multimodal**."
   ]
  },
  {
   "cell_type": "code",
   "execution_count": null,
   "metadata": {},
   "outputs": [],
   "source": [
    "# And with 20 bins, it becomes hard to say what counts as a \"peak\"!\n",
    "\n",
    "sns.histplot(data=wb, x =\"HIV rate\", stat=\"density\", bins=20)\n",
    "plt.title(\"20 histogram bins\");"
   ]
  },
  {
   "cell_type": "markdown",
   "metadata": {},
   "source": [
    "In part, it is these ambiguities that motivate us to consider using Kernel Density Estimation (KDE), which we will explore more later in this note.\n",
    "\n",
    "##### Outliers\n",
    "\n",
    "In a loose sense, an **outlier** is a data point that lies an abnormally large distance away from other values. However, in order to make this more concrete, we define outliers using quartiles.\n",
    "\n",
    "###### Quartiles\n",
    "Quartiles are a way of dividing data points into four quarters of roughly equal size. Each of the four quartiles is defined by its percentile.\n",
    "\n",
    "For a quantitative variable:\n",
    "\n",
    "- The **1st quartile** (**Q1**) is the 25th percentile of the distribution; 25% of the data is smaller than or equal to Q1.\n",
    "- The **2nd quartile** (**Q2**) is the 50th percentile of the distribution, or equivalently the **median** of the distribution. 50% of the data is smaller than or equal to Q2.\n",
    "- The **3rd quartile** (**Q3**) is the 75th percentile of the distribution; 75% of the data is smaller than or equal to Q3.\n",
    "\n",
    "The interval **[Q1, Q3]** contains the \"middle 50% of the data.\"\n",
    "\n",
    "This concept is illustrated in the histogram below, where the three quartiles are marked with red vertical bars.R)"
   ]
  },
  {
   "cell_type": "code",
   "execution_count": null,
   "metadata": {},
   "outputs": [],
   "source": [
    "#| code-fold: true\n",
    "gdp = wb['Gross domestic product: % growth : 2016']\n",
    "gdp = gdp[~gdp.isna()]\n",
    "\n",
    "q1, q2, q3 = np.percentile(gdp, [25, 50, 75])\n",
    "\n",
    "wb_quartiles = wb.copy()\n",
    "wb_quartiles['category'] = None\n",
    "wb_quartiles.loc[(wb_quartiles['Gross domestic product: % growth : 2016'] < q1) | (wb_quartiles['Gross domestic product: % growth : 2016'] > q3), 'category'] = 'Outside of the middle 50%'\n",
    "wb_quartiles.loc[(wb_quartiles['Gross domestic product: % growth : 2016'] > q1) & (wb_quartiles['Gross domestic product: % growth : 2016'] < q3), 'category'] = 'In the middle 50%'\n",
    "\n",
    "sns.histplot(wb_quartiles, x=\"Gross domestic product: % growth : 2016\", hue=\"category\")\n",
    "sns.rugplot([q1, q2, q3], c=\"firebrick\", lw=6, height=0.1);"
   ]
  },
  {
   "cell_type": "markdown",
   "metadata": {},
   "source": [
    "\\\n",
    "The **Interquartile range (IQR)** is a measure of spread of a distribution. You can calculate the IQR of a distribution with the formula below.\n",
    "\n",
    "- IQR = Q3 - Q1\n",
    "\n",
    "We define **outliers** by the following formula:\n",
    "\n",
    "- Values > Q3 $+$ ($1.5\\times$ IQR)\n",
    "- Values < Q1 $-$ ($1.5\\times$ IQR)\n",
    "\n",
    "### Box Plots\n",
    "\n",
    "Box plots display the distribution of a variable using information about **quartiles**.\n",
    "\n",
    "In a box plot, the lower extent of the box lies at Q1, while the upper extent of the box lies at Q3. The horizontal line in the middle of the box corresponds to Q2 (equivalently, the median). This can be seen in the box plot below."
   ]
  },
  {
   "cell_type": "code",
   "execution_count": null,
   "metadata": {},
   "outputs": [],
   "source": [
    "sns.boxplot(data=wb, y='Gross domestic product: % growth : 2016');"
   ]
  },
  {
   "cell_type": "markdown",
   "metadata": {},
   "source": [
    "The **whiskers** of a box-plot are the two points that lie at the \\[$1^{st}$ Quartile $-$ ($1.5\\times$ IQR)\\], and the \\[$3^{rd}$ Quartile $+$ ($1.5\\times$ IQR)\\]. They are the lower and upper ranges of \"normal\" data (the points excluding outliers). \n",
    "\n",
    "The different forms of information contained in a box plot can be summarised as follows:\n",
    "\n",
    "<center><img src = \"images/box_plot_diagram_updated_2.png\" width = \"600\"></img></a></center>\n",
    "\n",
    "### Side-by-Side Box plots\n",
    "\n",
    "Plotting side-by-side box plots allows us to compare distributions across different categories. In other words, they enable us to plot both a qualitative variable and a quantitative variable in one visualization.\n",
    "\n",
    "With `seaborn`, we can easily create side-by-side plots by specifying both an x and y column.\n",
    "\n",
    "In the example below, we plot the distribution of a quantitative variable, GDP % growth, across different categories, which are different continents in this case"
   ]
  },
  {
   "cell_type": "code",
   "execution_count": null,
   "metadata": {},
   "outputs": [],
   "source": [
    "sns.boxplot(data=wb, x=\"Continent\", y='Gross domestic product: % growth : 2016');"
   ]
  },
  {
   "cell_type": "markdown",
   "metadata": {},
   "source": [
    "### Violin Plots\n",
    "\n",
    "Violin plots are just box plots with smoothed density curves. The width indicates the density of points. Q1, the median, Q3, and whiskers are still present, just harder to see at first. "
   ]
  },
  {
   "cell_type": "code",
   "execution_count": null,
   "metadata": {},
   "outputs": [],
   "source": [
    "sns.violinplot(data=wb, y=\"Gross national income per capita, Atlas method: $: 2016\");"
   ]
  },
  {
   "cell_type": "markdown",
   "metadata": {},
   "source": [
    "Look closely at the center vertical bar of the violin plot above; the three quartiles and \"whiskers\" are still present!\n",
    "\n",
    "Important note about Violin plots:\n",
    "\n",
    "<details>\n",
    "  <summary>Can violin plots or box plots display modality?</summary>\n",
    "  \n",
    "  Violin plots **can** display modality, and box plots **cannot**! The distribution in the violin plot above is (arguably) multimodal. We see one peak/mode around the median, and two others at higher values.You cannot tell this from a boxplot of the same information alone (We plotted this same distribution as a box plot earlier in these notes).\n",
    "\n",
    "  \n",
    "\n",
    "  <center><img src = \"images/box_vs_violin_width.png\" width = \"600\"></img></a></center>\n",
    "\n",
    "Observe that the width of a box in a box plot has no meaning, but the width in a violin plot is meaningful, and gives us information about the density of data points at a given range of values!\n",
    "\n",
    "Since a violin plot contains all the information that a box plot, as well as information about modality/density of points, you may wonder why we still use box plots. The choice between a box plot and a violin plot will depend on if the density of points is useful information about the distribution you're trying to visualize. If the density of points is not useful information, it can distract from information you are trying to highlight about the distribution.\n",
    "  \n",
    "  \n",
    "</details>\n",
    "\n",
    "## Kernel Density Estimation\n",
    "Often, we want to identify general trends across a distribution, rather than focus on detail. Smoothing a distribution helps generalize the structure of the data and eliminate noise.\n",
    "\n",
    "### KDE Theory\n",
    "\n",
    "A **kernel density estimate (KDE)** is a smooth, continuous function that approximates a curve. It allows us to represent general trends in a distribution without focusing on the details, which is useful for analyzing the broad structure of a dataset. \n",
    "\n",
    "More formally, a KDE attempts to approximate the underlying **probability distribution** from which our dataset was drawn. You may have encountered the idea of a probability distribution in your other classes; if not, we'll discuss it at length in the next lecture. For now, you can think of a probability distribution as a description of how likely it is for us to sample a particular value in our dataset. \n",
    "\n",
    "A KDE curve estimates the probability density function of a random variable. Consider the example below, where we have used `sns.displot` to plot both a histogram (containing the data points we actually collected) and a KDE curve (representing the *approximated* probability distribution from which this data was drawn) using data from the World Bank dataset (`wb`)."
   ]
  },
  {
   "cell_type": "code",
   "execution_count": null,
   "metadata": {},
   "outputs": [],
   "source": [
    "#| code-fold: true\n",
    "\n",
    "import pandas as pd\n",
    "import numpy as np\n",
    "import matplotlib.pyplot as plt\n",
    "import seaborn as sns\n",
    "import warnings \n",
    "\n",
    "warnings.filterwarnings(\"ignore\", \"use_inf_as_na\") # Supresses distracting deprecation warnings\n",
    "\n",
    "wb = pd.read_csv(\"data/world_bank.csv\", index_col=0)\n",
    "wb = wb.rename(columns={'Antiretroviral therapy coverage: % of people living with HIV: 2015':\"HIV rate\",\n",
    "                       'Gross national income per capita, Atlas method: $: 2016':'gni'})\n",
    "wb.head()"
   ]
  },
  {
   "cell_type": "code",
   "execution_count": null,
   "metadata": {},
   "outputs": [],
   "source": [
    "import seaborn as sns\n",
    "import matplotlib.pyplot as plt\n",
    "\n",
    "sns.displot(data = wb, x = 'HIV rate', \\\n",
    "                       kde = True, stat = \"density\")\n",
    "\n",
    "plt.title(\"Distribution of HIV rates\");"
   ]
  },
  {
   "cell_type": "markdown",
   "metadata": {},
   "source": [
    "Notice that the smooth KDE curve is higher when the histogram bins are taller. You can think of the height of the KDE curve as representing how \"probable\" it is that we randomly sample a datapoint with the corresponding value. This intuitively makes sense – if we have already collected more datapoints with a particular value (resulting in a tall histogram bin), it is more likely that, if we randomly sample another datapoint, we will sample one with a similar value (resulting in a high KDE curve).\n",
    "\n",
    "The area under a probability density function should always integrate to 1, representing the fact that the total probability of a distribution should always sum to 100%. Hence, a KDE curve will always have an area under the curve of 1.\n",
    "\n",
    "### Constructing a KDE\n",
    "\n",
    "We perform kernel density estimation using three steps.\n",
    "\n",
    "1. Place a kernel at each datapoint.\n",
    "2. Normalize the kernels to have a total area of 1 (across all kernels).\n",
    "3. Sum the normalized kernels.\n",
    "\n",
    "We'll explain what a \"kernel\" is momentarily.\n",
    "\n",
    "To make things simpler, let's construct a KDE for a small, artificially generated dataset of 5 datapoints: $[2.2, 2.8, 3.7, 5.3, 5.7]$. In the plot below, each vertical bar represents one data point."
   ]
  },
  {
   "cell_type": "code",
   "execution_count": null,
   "metadata": {},
   "outputs": [],
   "source": [
    "#| code-fold: true\n",
    "data = [2.2, 2.8, 3.7, 5.3, 5.7]\n",
    "\n",
    "sns.rugplot(data, height=0.3)\n",
    "\n",
    "plt.xlabel(\"Data\")\n",
    "plt.ylabel(\"Density\")\n",
    "plt.xlim(-3, 10)\n",
    "plt.ylim(0, 0.5);"
   ]
  },
  {
   "cell_type": "markdown",
   "metadata": {},
   "source": [
    "Our goal is to create the following KDE curve, which was generated automatically by `sns.kdeplot`."
   ]
  },
  {
   "cell_type": "code",
   "execution_count": null,
   "metadata": {},
   "outputs": [],
   "source": [
    "#| code-fold: true\n",
    "plt.xlabel(\"Data\")\n",
    "plt.xlim(-3, 10)\n",
    "plt.ylim(0, 0.5)\n",
    "\n",
    "sns.kdeplot(data, bw_method=0.65) \n",
    "sns.histplot(data, stat='density', bins=2);"
   ]
  },
  {
   "cell_type": "markdown",
   "metadata": {},
   "source": [
    "Alternatively, we can use `sns.histplot`. You can also get a very similar result in a single call by requesting the KDE be added to the histogram, with `kde=True` and some extra keywords:"
   ]
  },
  {
   "cell_type": "code",
   "execution_count": null,
   "metadata": {},
   "outputs": [],
   "source": [
    "#| code-fold: true\n",
    "plt.xlabel(\"Data\")\n",
    "plt.xlim(-3, 10)\n",
    "plt.ylim(0, 0.5)\n",
    "\n",
    "sns.histplot(data, bins=2, kde=True, stat=\"density\", kde_kws=dict(cut=3, bw_method=0.65));"
   ]
  },
  {
   "cell_type": "markdown",
   "metadata": {},
   "source": [
    "#### Step 1: Place a Kernel at Each Data Point\n",
    "\n",
    "To begin generating a density curve, we need to choose a **kernel** and **bandwidth value ($\\alpha$)**. What are these exactly? \n",
    "\n",
    "A **kernel** is a density curve. It is the mathematical function that attempts to capture the randomness of each data point in our sampled data. To explain what this means, consider just *one* of the datapoints in our dataset: $2.2$. We obtained this datapoint by randomly sampling some information out in the real world (you can imagine $2.2$ as representing a single measurement taken in an experiment, for example). If we were to sample a new datapoint, we may obtain a slightly different value. It could be higher than $2.2$; it could also be lower than $2.2$. We make the assumption that any future sampled datapoints will likely be similar in value to the data we've already drawn. This means that our *kernel* – our description of the probability of randomly sampling any new value – will be greatest at the datapoint we've already drawn but still have non-zero probability above and below it. The area under any kernel should integrate to 1, representing the total probability of drawing a new datapoint.\n",
    "\n",
    "A **bandwidth value**, usually denoted by $\\alpha$, represents the width of the kernel. A large value of $\\alpha$ will result in a wide, short kernel function, while a small value with result in a narrow, tall kernel.\n",
    "\n",
    "Below, we place a **Gaussian kernel**, plotted in orange, over the datapoint $2.2$. A Gaussian kernel is simply the normal distribution, which you may have called a bell curve in Data 8. "
   ]
  },
  {
   "cell_type": "code",
   "execution_count": null,
   "metadata": {},
   "outputs": [],
   "source": [
    "#| code-fold: true\n",
    "\n",
    "def gaussian_kernel(x, z, a):\n",
    "    # We'll discuss where this mathematical formulation came from later\n",
    "    return (1/np.sqrt(2*np.pi*a**2)) * np.exp((-(x - z)**2 / (2 * a**2)))\n",
    "\n",
    "# Plot our datapoint\n",
    "sns.rugplot([2.2], height=0.3)\n",
    "\n",
    "# Plot the kernel\n",
    "x = np.linspace(-3, 10, 1000)\n",
    "plt.plot(x, gaussian_kernel(x, 2.2, 1))\n",
    "\n",
    "plt.xlabel(\"Data\")\n",
    "plt.ylabel(\"Density\")\n",
    "plt.xlim(-3, 10)\n",
    "plt.ylim(0, 0.5);"
   ]
  },
  {
   "cell_type": "markdown",
   "metadata": {},
   "source": [
    "To begin creating our KDE, we place a kernel on *each* datapoint in our dataset. For our dataset of 5 points, we will have 5 kernels."
   ]
  },
  {
   "cell_type": "code",
   "execution_count": null,
   "metadata": {},
   "outputs": [],
   "source": [
    "#| code-fold: true\n",
    "\n",
    "# You will work with the functions below in Lab 4\n",
    "def create_kde(kernel, pts, a):\n",
    "    # Takes in a kernel, set of points, and alpha\n",
    "    # Returns the KDE as a function\n",
    "    def f(x):\n",
    "        output = 0\n",
    "        for pt in pts:\n",
    "            output += kernel(x, pt, a)\n",
    "        return output / len(pts) # Normalization factor\n",
    "    return f\n",
    "\n",
    "def plot_kde(kernel, pts, a):\n",
    "    # Calls create_kde and plots the corresponding KDE\n",
    "    f = create_kde(kernel, pts, a)\n",
    "    x = np.linspace(min(pts) - 5, max(pts) + 5, 1000)\n",
    "    y = [f(xi) for xi in x]\n",
    "    plt.plot(x, y);\n",
    "    \n",
    "def plot_separate_kernels(kernel, pts, a, norm=False):\n",
    "    # Plots individual kernels, which are then summed to create the KDE\n",
    "    x = np.linspace(min(pts) - 5, max(pts) + 5, 1000)\n",
    "    for pt in pts:\n",
    "        y = kernel(x, pt, a)\n",
    "        if norm:\n",
    "            y /= len(pts)\n",
    "        plt.plot(x, y)\n",
    "    \n",
    "    plt.show();\n",
    "    \n",
    "plt.xlim(-3, 10)\n",
    "plt.ylim(0, 0.5)\n",
    "plt.xlabel(\"Data\")\n",
    "plt.ylabel(\"Density\")\n",
    "\n",
    "plot_separate_kernels(gaussian_kernel, data, a = 1)"
   ]
  },
  {
   "cell_type": "markdown",
   "metadata": {},
   "source": [
    "#### Step 2: Normalize Kernels to Have a Total Area of 1\n",
    "\n",
    "Above, we said that *each* kernel has an area of 1. Earlier, we also said that our goal is to construct a KDE curve using these kernels with a *total* area of 1. If we were to directly sum the kernels as they are, we would produce a KDE curve with an integrated area of (5 kernels) $\\times$ (area of 1 each) = 5. To avoid this, we will **normalize** each of our kernels. This involves multiplying each kernel by $\\frac{1}{\\#\\:\\text{datapoints}}$. \n",
    "\n",
    "In the cell below, we multiply each of our 5 kernels by $\\frac{1}{5}$ to apply normalization."
   ]
  },
  {
   "cell_type": "code",
   "execution_count": null,
   "metadata": {},
   "outputs": [],
   "source": [
    "#| code-fold: true\n",
    "plt.xlim(-3, 10)\n",
    "plt.ylim(0, 0.5)\n",
    "plt.xlabel(\"Data\")\n",
    "plt.ylabel(\"Density\")\n",
    "\n",
    "# The `norm` argument specifies whether or not to normalize the kernels\n",
    "plot_separate_kernels(gaussian_kernel, data, a = 1, norm = True)"
   ]
  },
  {
   "cell_type": "markdown",
   "metadata": {},
   "source": [
    "#### Step 3: Sum the Normalized Kernels\n",
    "\n",
    "Our KDE curve is the sum of the normalized kernels. Notice that the final curve is identical to the plot generated by `sns.kdeplot` we saw earlier!"
   ]
  },
  {
   "cell_type": "code",
   "execution_count": null,
   "metadata": {},
   "outputs": [],
   "source": [
    "#| code-fold: true\n",
    "plt.xlim(-3, 10)\n",
    "plt.ylim(0, 0.5)\n",
    "plt.xlabel(\"Data\")\n",
    "plt.ylabel(\"Density\")\n",
    "\n",
    "plot_kde(gaussian_kernel, data, a=1)"
   ]
  },
  {
   "cell_type": "markdown",
   "metadata": {},
   "source": [
    "Note that it would be equivalent to sum the kernels and then normalize the result.\n",
    "\n",
    "### Mathematical Notation of KDE\n",
    "\n",
    "<center><img src = \"images/kde_function.png\" width = \"345\"></img></a></center>\n",
    "\n",
    "A general “KDE formula” function is given above.\n",
    "\n",
    "1. $f_{\\alpha}(x)$ is the end result.$\\rightarrow$ **Height** of the final KDE curve at any x-value.\n",
    "\n",
    "2. $K_{\\alpha}(x, x_i)$ is the kernel centered on the observation `i`. \n",
    "    - Each kernel individually has area 1.\n",
    "    - x represents any number on the number line. It is the input to our function.\n",
    "3. $n$ is the number of observed datapoints that we have.\n",
    "    - We multiply by $\\frac{1}{n}$ so that the total area of the KDE is still 1.\n",
    "4. Each $x_i \\in \\{x_1, x_2, \\dots, x_n\\}$ represents an observed datapoint. \n",
    "    - These are what we use to create our KDE by summing multiple shifted kernels centered at these points.\n",
    "\n",
    "* $\\alpha$ (alpha) is the bandwidth or smoothing parameter. \n",
    "\n",
    "A **kernel** (for our purposes) is a valid density function. This means it:\n",
    "\n",
    "- Must be non-negative for all inputs.\n",
    "- Must integrate to 1.\n",
    "\n",
    "#### Gaussian Kernel\n",
    "\n",
    "The most common kernel is the **Gaussian kernel**. The Gaussian kernel is equivalent to the Gaussian probability density function (the Normal distribution), centered at the observed value with a standard deviation of $\\alpha$ (this is known as the **bandwidth** parameter).\n",
    "\n",
    "$$K_a(x, x_i) = \\frac{1}{\\sqrt{2\\pi\\alpha^{2}}}e^{-\\frac{(x-x_i)^{2}}{2\\alpha^{2}}}$$\n",
    "\n",
    "In this formula:\n",
    "\n",
    "* $x$ (no subscript) represents any value along the x-axis of our plot\n",
    "* $x_i$ represents the $i$ -th datapoint in our dataset. It is one of the values that we have actually collected in our data sampling process. In our example earlier, $x_i=2.2$. Those of you who have taken a probability class may recognize $x_i$ as the **mean** of the normal distribution.\n",
    "* Each kernel is **centered** on our observed values, so its distribution mean is $x_i$.\n",
    "* $\\alpha$ is the bandwidth parameter, representing the width of our kernel. More formally, $\\alpha$ is the **standard deviation** of the Gaussian curve.\n",
    "    * A large value of $\\alpha$ will produce a kernel that is wider and shorter – this leads to a smoother KDE when the kernels are summed together.\n",
    "    * A small value of $\\alpha$ will produce a narrower, taller kernel, and, with it, a noisier KDE.\n",
    "\n",
    "The details of this (admittedly intimidating) formula are less important than understanding its role in kernel density estimation – this equation gives us the shape of each kernel.\n",
    "\n",
    "| Gaussian Kernel, $\\alpha$ = 0.1 | Gaussian Kernel, $\\alpha$ = 1 | \n",
    "| --- | --- |\n",
    "| <img src=\"images/gaussian_0.1.png\" alt='gaussian_0.1' width='345'> | <img src=\"images/gaussian_1.png\" alt='gaussian_1' width='345'> | \n",
    "\n",
    "| Gaussian Kernel, $\\alpha$ = 2 | Gaussian Kernel, $\\alpha$ = 5 | \n",
    "|  --- | --- | \n",
    "| <img src=\"images/gaussian_2.png\" alt='gaussian_2' width='345'> | <img src=\"images/gaussian_5.png\" alt='gaussian_5' width='345'> | \n",
    "\n",
    "#### Boxcar Kernel\n",
    "\n",
    "Another example of a kernel is the **Boxcar kernel**. The boxcar kernel assigns a uniform density to points within a \"window\" of the observation, and a density of 0 elsewhere. The equation below is a boxcar kernel with the center at $x_i$ and the bandwidth of $\\alpha$.\n",
    "\n",
    "$$K_a(x, x_i) = \\begin{cases}\n",
    "        \\frac{1}{\\alpha}, & |x - x_i| \\le \\frac{\\alpha}{2}\\\\\n",
    "        0, & \\text{else }\n",
    "    \\end{cases}$$\n",
    "    \n",
    "The boxcar kernel is seldom used in practice – we include it here to demonstrate that a kernel function can take whatever form you would like, provided it integrates to 1 and does not output negative values."
   ]
  },
  {
   "cell_type": "code",
   "execution_count": null,
   "metadata": {},
   "outputs": [],
   "source": [
    "#| code-fold: true\n",
    "#| fig-cap: The Boxcar kernel centered at 0 with bandwidth $\\alpha$ = 1.\n",
    "\n",
    "def boxcar_kernel(alpha, x, z):\n",
    "    return (((x-z)>=-alpha/2)&((x-z)<=alpha/2))/alpha\n",
    "\n",
    "xs = np.linspace(-5, 5, 200)\n",
    "alpha=1\n",
    "kde_curve = [boxcar_kernel(alpha, x, 0) for x in xs]\n",
    "plt.plot(xs, kde_curve);"
   ]
  },
  {
   "cell_type": "markdown",
   "metadata": {},
   "source": [
    "The diagram on the right is how the density curve for our 5 point dataset would have looked had we used the Boxcar kernel with bandwidth $\\alpha$ = 1.\n",
    "\n",
    "| KDE | Boxcar | \n",
    "| --- | --- | \n",
    "| <img src=\"images/gaussian_kernel.png\" alt='kde_step_3' width='350'> | <img src=\"images/boxcar_kernel.png\" alt='boxcar_kernel' width='350'> | \n",
    "\n",
    "We'll continue covering visualization in the next lecture!\n"
   ]
  }
 ],
 "metadata": {
  "kernelspec": {
   "display_name": "Python 3 (ipykernel)",
   "language": "python",
   "name": "python3"
  },
  "language_info": {
   "codemirror_mode": {
    "name": "ipython",
    "version": 3
   },
   "file_extension": ".py",
   "mimetype": "text/x-python",
   "name": "python",
   "nbconvert_exporter": "python",
   "pygments_lexer": "ipython3",
   "version": "3.11.9"
  }
 },
 "nbformat": 4,
 "nbformat_minor": 4
}
