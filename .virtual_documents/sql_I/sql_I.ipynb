


#| code-fold: true
# Load the SQL Alchemy Python library and DuckDB
import sqlalchemy
import duckdb


# Load %%sql cell magic
%load_ext sql


# Connect to the database
%sql duckdb:///data/example_duck.db --alias duck





%%sql
SELECT * FROM Dragon;





%%sql
SELECT * 
FROM sqlite_master
WHERE type='table'





%%sql
SELECT *
FROM Dragon;





%%sql
SELECT cute, year
FROM Dragon;





%%sql
SELECT cute AS cuteness, year AS birth
FROM Dragon;





%%sql
SELECT DISTINCT year
FROM Dragon;





%%sql
SELECT name, year
FROM Dragon
WHERE cute > 0;





%%sql
SELECT name, year
FROM Dragon
WHERE cute > 0 OR year > 2013;





%%sql
SELECT name, year
FROM Dragon
WHERE name IN ('hiccup', 'puff');





%%sql
SELECT name, cute
FROM Dragon
WHERE cute IS NOT NULL;





%%sql
SELECT *
FROM Dragon
ORDER BY cute;





%%sql
SELECT *
FROM Dragon
ORDER BY cute DESC;





%%sql
SELECT *
FROM Dragon
ORDER BY year, cute DESC;





%%sql
SELECT *
FROM Dragon
LIMIT 2;





%%sql
SELECT *
FROM Dragon
LIMIT 2
OFFSET 1;





%%sql
SELECT * 
FROM Dragon
ORDER BY RANDOM()
LIMIT 2;





%%sql
SELECT *
FROM Dragon USING SAMPLE reservoir(2 ROWS) REPEATABLE (100);



