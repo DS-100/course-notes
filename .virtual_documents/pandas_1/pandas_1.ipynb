


import pandas as pd
elections = pd.read_csv("data/elections.csv")
elections





df_list = pd.DataFrame([1, 2, 3], columns=["Numbers"])
df_list





df_list = pd.DataFrame([[1, "one"], [2, "two"]], columns = ["Number", "Description"])
df_list





df_dict = pd.DataFrame({
    "Fruit": ["Strawberry", "Orange"], 
    "Price": [5.49, 3.99]
})
df_dict


df_dict = pd.DataFrame(
    [
        {"Fruit":"Strawberry", "Price":5.49}, 
        {"Fruit": "Orange", "Price":3.99}
    ]
)
df_dict





# Notice how our indices, or row labels, are the same

s_a = pd.Series(["a1", "a2", "a3"], index = ["r1", "r2", "r3"])
s_b = pd.Series(["b1", "b2", "b3"], index = ["r1", "r2", "r3"])





pd.DataFrame(s_a)


s_b.to_frame()





pd.DataFrame({
    "A-column": s_a, 
    "B-column": s_b
})





# Creating a DataFrame from a CSV file and specifying the index column
elections = pd.read_csv("data/elections.csv", index_col = "Candidate")
elections





elections.reset_index(inplace = True) # Resetting the index so we can set it again
# This sets the index to the "Party" column
elections.set_index("Party")





# This resets the index to be the default list of integer
elections.reset_index(inplace=True) 
elections.index





elections.set_index("Party", inplace = True)
elections.index





elections.columns





elections.shape





#| code-fold: true
elections = pd.read_csv("data/elections.csv")


# Extract the first 5 rows of the DataFrame
elections.head(5)





# Extract the last 5 rows of the DataFrame
elections.tail(5)





elections.loc[0, 'Candidate']





elections.loc[[87, 25, 179], "Popular vote"]





elections.loc[[87, 25, 179], ["Popular vote"]]





elections.loc[0:3, 'Year':'Popular vote']





elections.loc[0:3, :]





elections.loc[:, ["Year", "Candidate", "Result"]]





elections.loc[[0, 1, 2, 3], ['Year', 'Candidate', 'Party', 'Popular vote']]





elections.loc[[0, 1, 2, 3], :]





# elections.loc[0, "Candidate"] - Previous approach
elections.iloc[0, 1]





elections.iloc[[1,2,3],1]





# elections.loc[0:3, 'Year':'Popular vote'] - Previous approach
elections.iloc[0:4, 0:4]





#elections.loc[[0, 1, 2, 3], ['Year', 'Candidate', 'Party', 'Popular vote']] - Previous Approach
elections.iloc[[0, 1, 2, 3], [0, 1, 2, 3]]





elections.iloc[:, 0:3]





elections[0:4]





elections[["Year", "Candidate", "Party", "Popular vote"]]





elections["Candidate"]



