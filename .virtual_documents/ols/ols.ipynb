


#| code-fold: true
import pandas as pd
nba = pd.read_csv('data/nba18-19.csv', index_col=0)
nba.index.name = None # Drops name of index (players are ordered by rank)


nba.head(5)





nba[['FG', 'AST', '3PA', 'PTS']].head()



