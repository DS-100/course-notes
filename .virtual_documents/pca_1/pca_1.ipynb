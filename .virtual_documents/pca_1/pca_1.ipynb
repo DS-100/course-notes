


#| code-fold: true
import pandas as pd
import numpy as np
import scipy as sp
import plotly.express as px
import seaborn as sns


#| code-fold: true
mpg = sns.load_dataset("mpg").dropna()
mpg.head()





#| code-fold: true
px.histogram(mpg, x="displacement")





#| code-fold: true
px.scatter(mpg, x="displacement", y="horsepower")





#| code-fold: true
fig = px.scatter_3d(mpg, x="displacement", y="horsepower", z="weight",
                    width=800, height=800)
fig.update_traces(marker=dict(size=3))





#| code-fold: true
fig = px.scatter_3d(mpg, x="displacement", 
                    y="horsepower", 
                    z="weight", 
                    color="model_year",
                    width=800, height=800, 
                    opacity=.7)
fig.update_traces(marker=dict(size=5))





#| code-fold: true
fig = px.scatter_3d(mpg, x="displacement", 
                    y="horsepower", 
                    z="weight", 
                    color="model_year",
                    size="mpg",
                    symbol="origin",
                    width=900, height=800, 
                    opacity=.7)
# hide color scale legend on the plotly fig
fig.update_layout(coloraxis_showscale=False)



