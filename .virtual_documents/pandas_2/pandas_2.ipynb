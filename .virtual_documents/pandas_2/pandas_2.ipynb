


#| code-fold: true
# This code pulls census data and loads it into a DataFrame
# We won't cover it explicitly in this class, but you are welcome to explore it on your own
import pandas as pd
import numpy as np
import urllib.request
import os.path
import zipfile

data_url = "https://www.ssa.gov/oact/babynames/state/namesbystate.zip"
local_filename = "data/babynamesbystate.zip"
if not os.path.exists(local_filename): # If the data exists don't download again
    with urllib.request.urlopen(data_url) as resp, open(local_filename, 'wb') as f:
        f.write(resp.read())

zf = zipfile.ZipFile(local_filename, 'r')

ca_name = 'STATE.CA.TXT'
field_names = ['State', 'Sex', 'Year', 'Name', 'Count']
with zf.open(ca_name) as fh:
    babynames = pd.read_csv(fh, header=None, names=field_names)

babynames.head()





#| code-fold: false
# Ask yourself: why is :9 is the correct slice to select the first 10 rows?
babynames_first_10_rows = babynames.loc[:9, :]

# Notice how we have exactly 10 elements in our boolean array argument
babynames_first_10_rows[[True, False, True, False, True, False, True, False, True, False]]





#| code-fold: false
babynames_first_10_rows.loc[[True, False, True, False, True, False, True, False, True, False], :]





#| code-fold: false

# First, use a logical condition to generate a boolean array
logical_operator = (babynames["Sex"] == "F")

# Then, use this boolean array to filter the DataFrame
babynames[logical_operator].head()





#| code-fold: true
print("There are a total of {} values in 'logical_operator'".format(len(logical_operator)))





#| code-fold: true
print("The 0th item in this 'logical_operator' is: {}".format(logical_operator.iloc[0]))
print("The 239536th item in this 'logical_operator' is: {}".format(logical_operator.iloc[239536]))
print("The 239537th item in this 'logical_operator' is: {}".format(logical_operator.iloc[239537]))





#| code-fold: false
babynames.loc[babynames["Sex"] == "F"].head()





#| code-fold: false
babynames[(babynames["Sex"] == "F") & (babynames["Year"] < 2000)].head()





#| code-fold: false
# This line of code will raise a ValueError
# babynames[(babynames["Sex"] == "F") and (babynames["Year"] < 2000)].head()





#| code-fold: false
babynames[(babynames["Sex"] == "F") | (babynames["Year"] < 2000)].head()





#| code-fold: false
# Note: The parentheses surrounding the code make it possible to break the code on to multiple lines for readability
(
    babynames[(babynames["Name"] == "Bella") | 
              (babynames["Name"] == "Alex") |
              (babynames["Name"] == "Ani") |
              (babynames["Name"] == "Lisa")]
).head()





#| code-fold: false

names = ["Bella", "Alex", "Narges", "Lisa"]
babynames["Name"].isin(names).head()


babynames[babynames["Name"].isin(names)].head()





#| code-fold: false
# Identify whether names begin with the letter "N"
babynames["Name"].str.startswith("N").head()


# Extracting names that begin with the letter "N"
babynames[babynames["Name"].str.startswith("N")].head()





#| code-fold: false
# Create a Series of the length of each name. 
babyname_lengths = babynames["Name"].str.len()

# Add a column named "name_lengths" that includes the length of each name
babynames["name_lengths"] = babyname_lengths
babynames.head(5)





#| code-fold: false
# Modify the “name_lengths” column to be one less than its original value
babynames["name_lengths"] = babynames["name_lengths"] - 1
babynames.head()





#| code-fold: false
# Rename “name_lengths” to “Length”
babynames = babynames.rename(columns={"name_lengths":"Length"})
babynames.head()





#| code-fold: false
# Drop our new "Length" column from the DataFrame
babynames = babynames.drop("Length", axis="columns")
babynames.head(5)





#| code-fold: false
# This creates a copy of `babynames` and removes the column "Name"...
babynames.drop("Name", axis="columns")

# ...but the original `babynames` is unchanged! 
# Notice that the "Name" column is still present
babynames.head(5)





#| code-fold: false
# Pull out the number of babies named Yash each year
yash_count = babynames[babynames["Name"] == "Yash"]["Count"]
yash_count.head()


#| code-fold: false

# Average number of babies named Yash each year
np.mean(yash_count)


#| code-fold: false

# Max number of babies named Yash born in any one year
np.max(yash_count)





#| code-fold: false
# Return the shape of the DataFrame, in the format (num_rows, num_columns)
babynames.shape


#| code-fold: false
# Return the size of the DataFrame, equal to num_rows * num_columns
babynames.size





#| code-fold: false

babynames.describe()





#| code-fold: false

babynames["Sex"].describe()





#| code-fold: false
# Sample a single row
babynames.sample()





#| code-fold: false
# Sample 5 random rows, and select all columns after column 2
babynames.sample(5).iloc[:, 2:]


#| code-fold: false
# Randomly sample 4 names from the year 2000, with replacement, and select all columns after column 2
babynames[babynames["Year"] == 2000].sample(4, replace = True).iloc[:, 2:]





#| code-fold: false

babynames["Name"].value_counts().head()





#| code-fold: false

babynames["Name"].unique()





#| code-fold: false
# Sort the "Count" column from highest to lowest
babynames.sort_values(by="Count", ascending=False).head()





#| code-fold: false
# Sort the "Name" Series alphabetically
babynames["Name"].sort_values(ascending=True).head()





#| code-fold: true
# This code pulls census data and loads it into a DataFrame
# We won't cover it explicitly in this class, but you are welcome to explore it on your own
import warnings
warnings.simplefilter(action='ignore', category=FutureWarning)

import pandas as pd
import numpy as np
import urllib.request
import os.path
import zipfile

data_url = "https://www.ssa.gov/oact/babynames/state/namesbystate.zip"
local_filename = "data/babynamesbystate.zip"
if not os.path.exists(local_filename): # If the data exists don't download again
    with urllib.request.urlopen(data_url) as resp, open(local_filename, 'wb') as f:
        f.write(resp.read())

zf = zipfile.ZipFile(local_filename, 'r')

ca_name = 'STATE.CA.TXT'
field_names = ['State', 'Sex', 'Year', 'Name', 'Count']
with zf.open(ca_name) as fh:
    babynames = pd.read_csv(fh, header=None, names=field_names)

babynames.tail(10)





# Create a Series of the length of each name
babyname_lengths = babynames["Name"].str.len()

# Add a column named "name_lengths" that includes the length of each name
babynames["name_lengths"] = babyname_lengths
babynames.head(5)





# Sort by the temporary column
babynames = babynames.sort_values(by="name_lengths", ascending=False)
babynames.head(5)





# Drop the 'name_length' column
babynames = babynames.drop("name_lengths", axis='columns')
babynames.head(5)





babynames.sort_values("Name", key=lambda x: x.str.len(), ascending=False).head()





# First, define a function to count the number of times "dr" or "ea" appear in each name
def dr_ea_count(string):
    return string.count('dr') + string.count('ea')

# Then, use `map` to apply `dr_ea_count` to each name in the "Name" column
babynames["dr_ea_count"] = babynames["Name"].map(dr_ea_count)

# Sort the DataFrame by the new "dr_ea_count" column so we can see our handiwork
babynames = babynames.sort_values(by="dr_ea_count", ascending=False)
babynames.head()





# Drop the `dr_ea_count` column
babynames = babynames.drop("dr_ea_count", axis = 'columns')
babynames.head(5)



