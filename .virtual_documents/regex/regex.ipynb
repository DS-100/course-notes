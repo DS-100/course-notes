


#| code-fold: true
import pandas as pd

with open('data/county_and_state.csv') as f:
    county_and_state = pd.read_csv(f)
    
with open('data/county_and_population.csv') as f:
    county_and_pop = pd.read_csv(f)


#| code-fold: false
display(county_and_state), display(county_and_pop);





#| code-fold: false
def canonicalize_county(county_name):
    return (
        county_name
            .lower()
            .replace(' ', '')
            .replace('&', 'and')
            .replace('.', '')
            .replace('county', '')
            .replace('parish', '')
    )

canonicalize_county("St. John the Baptist")





#| code-fold: false
def canonicalize_county_series(county_series):
    return (
        county_series
            .str.lower()
            .str.replace(' ', '')
            .str.replace('&', 'and')
            .str.replace('.', '')
            .str.replace('county', '')
            .str.replace('parish', '')
    )

county_and_pop['clean_county_pandas'] = canonicalize_county_series(county_and_pop['County'])
county_and_state['clean_county_pandas'] = canonicalize_county_series(county_and_state['County'])
display(county_and_pop), display(county_and_state);





#| code-fold: false
with open('data/log.txt', 'r') as f:
    log_lines = f.readlines()

log_lines





#| code-fold: false
first = log_lines[0] # Only considering the first row of data

pertinent = first.split("[")[1].split(']')[0]
day, month, rest = pertinent.split('/')
year, hour, minute, rest = rest.split(':')
seconds, time_zone = rest.split(' ')
day, month, year, hour, minute, seconds, time_zone





#| code-fold: false
r"[0-9]{3}-[0-9]{2}-[0-9]{4}" # Regular Expression Syntax

# 3 of any digit, then a dash,
# then 2 of any digit, then a dash,
# then 4 of any digit





#| code-fold: false
log_lines[0]





#| code-fold: false
import re

text = "<div><td valign='top'>Moo</td></div>"
pattern = r"<[^>]+>"
re.sub(pattern, '', text) 





#| code-fold: true
data = {"HTML": ["<div><td valign='top'>Moo</td></div>", \
                 "<a href='http://ds100.org'>Link</a>", \
                 "<b>Bold text</b>"]}
html_data = pd.DataFrame(data)


#| code-fold: false
html_data


#| code-fold: false
pattern = r"<[^>]+>"
html_data['HTML'].str.replace(pattern, '', regex=True)





#| code-fold: false
text = "My social security number is 123-45-6789 bro, or maybe it’s 321-45-6789."
pattern = r"[0-9]{3}-[0-9]{2}-[0-9]{4}"
re.findall(pattern, text)  





#| code-fold: true
data = {"SSN": ["987-65-4321", "forty", \
                "123-45-6789 bro or 321-45-6789",
               "999-99-9999"]}
ssn_data = pd.DataFrame(data)


#| code-fold: false
ssn_data


#| code-fold: false
ssn_data["SSN"].str.findall(pattern)





#| code-fold: false
pattern_cg = r"([0-9]{3})-([0-9]{2})-([0-9]{4})"
ssn_data["SSN"].str.extract(pattern_cg)


#| code-fold: false
ssn_data["SSN"].str.extractall(pattern_cg)





#| code-fold: false
text = "Observations: 03:04:53 - Horse awakens. \
        03:05:14 - Horse goes back to sleep."





#| code-fold: false
pattern_1 = r"(\d\d):(\d\d):(\d\d)"
re.findall(pattern_1, text)





#| code-fold: false
pattern_2 = r"(\d\d):(\d\d):(\d{2})"
re.findall(pattern_2, text)





#| code-fold: false
first = log_lines[0]
first


#| code-fold: false
pattern = r'\[(\d+)\/(\w+)\/(\d+):(\d+):(\d+):(\d+) (.+)\]'
day, month, year, hour, minute, second, time_zone = re.findall(pattern, first)[0]
print(day, month, year, hour, minute, second, time_zone)



