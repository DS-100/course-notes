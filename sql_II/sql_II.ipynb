{
  "cells": [
    {
      "cell_type": "raw",
      "metadata": {},
      "source": [
        "---\n",
        "title: SQL II\n",
        "execute:\n",
        "  echo: true\n",
        "format:\n",
        "  html:\n",
        "    code-fold: false\n",
        "    code-tools: true\n",
        "    toc: true\n",
        "    toc-title: SQL II\n",
        "    page-layout: full\n",
        "    theme:\n",
        "      - cosmo\n",
        "      - cerulean\n",
        "    callout-icon: false\n",
        "---"
      ]
    },
    {
      "cell_type": "markdown",
      "metadata": {},
      "source": [
        "::: {.callout-note collapse=\"false\"}\n",
        "## Learning Outcomes\n",
        "* Introduce the ability to filter groups\n",
        "* Perform data cleaning and text manipulation in SQL\n",
        "* Join data across tables\n",
        ":::\n",
        "\n",
        "In this lecture, we'll continue our work from last time to introduce some advanced SQL syntax. "
      ]
    },
    {
      "cell_type": "markdown",
      "metadata": {},
      "source": [
        "First, let's load in the database from last lecture."
      ]
    },
    {
      "cell_type": "code",
      "execution_count": 23,
      "metadata": {},
      "outputs": [],
      "source": [
        "# Load the SQL Alchemy Python library\n",
        "import sqlalchemy\n",
        "import pandas as pd"
      ]
    },
    {
      "cell_type": "code",
      "execution_count": 24,
      "metadata": {},
      "outputs": [
        {
          "name": "stdout",
          "output_type": "stream",
          "text": [
            "The sql extension is already loaded. To reload it, use:\n",
            "  %reload_ext sql\n"
          ]
        }
      ],
      "source": [
        "%load_ext sql"
      ]
    },
    {
      "cell_type": "code",
      "execution_count": 25,
      "metadata": {},
      "outputs": [],
      "source": [
        "%%sql\n",
        "sqlite:///data/basic_examples.db "
      ]
    },
    {
      "cell_type": "markdown",
      "metadata": {},
      "source": [
        "## Filtering Groups\n",
        "\n",
        "`HAVING` filters groups by applying some condition across all rows in each group. We interpret it as a a way to keep only the groups `HAVING` some condition. Note the difference between `WHERE` and `HAVING`: we use `WHERE` to filter rows, whereas we use `HAVING` to filter groups. `WHERE` precedes `HAVING` in terms of how SQL executes a query.\n",
        "\n",
        "Let's take a look at the `Dish` table to see how we can use `HAVING`."
      ]
    },
    {
      "cell_type": "code",
      "execution_count": 26,
      "metadata": {},
      "outputs": [
        {
          "name": "stdout",
          "output_type": "stream",
          "text": [
            " * sqlite:///data/basic_examples.db\n",
            "   sqlite:///data/imdbmini.db\n",
            "Done.\n"
          ]
        },
        {
          "data": {
            "text/html": [
              "<table>\n",
              "    <thead>\n",
              "        <tr>\n",
              "            <th>name</th>\n",
              "            <th>type</th>\n",
              "            <th>cost</th>\n",
              "        </tr>\n",
              "    </thead>\n",
              "    <tbody>\n",
              "        <tr>\n",
              "            <td>ravioli</td>\n",
              "            <td>entree</td>\n",
              "            <td>10</td>\n",
              "        </tr>\n",
              "        <tr>\n",
              "            <td>ramen</td>\n",
              "            <td>entree</td>\n",
              "            <td>13</td>\n",
              "        </tr>\n",
              "        <tr>\n",
              "            <td>taco</td>\n",
              "            <td>entree</td>\n",
              "            <td>7</td>\n",
              "        </tr>\n",
              "        <tr>\n",
              "            <td>edamame</td>\n",
              "            <td>appetizer</td>\n",
              "            <td>4</td>\n",
              "        </tr>\n",
              "        <tr>\n",
              "            <td>fries</td>\n",
              "            <td>appetizer</td>\n",
              "            <td>4</td>\n",
              "        </tr>\n",
              "        <tr>\n",
              "            <td>potsticker</td>\n",
              "            <td>appetizer</td>\n",
              "            <td>4</td>\n",
              "        </tr>\n",
              "        <tr>\n",
              "            <td>ice cream</td>\n",
              "            <td>dessert</td>\n",
              "            <td>5</td>\n",
              "        </tr>\n",
              "    </tbody>\n",
              "</table>"
            ],
            "text/plain": [
              "[('ravioli', 'entree', 10),\n",
              " ('ramen', 'entree', 13),\n",
              " ('taco', 'entree', 7),\n",
              " ('edamame', 'appetizer', 4),\n",
              " ('fries', 'appetizer', 4),\n",
              " ('potsticker', 'appetizer', 4),\n",
              " ('ice cream', 'dessert', 5)]"
            ]
          },
          "execution_count": 26,
          "metadata": {},
          "output_type": "execute_result"
        }
      ],
      "source": [
        "%%sql\n",
        "SELECT *\n",
        "FROM Dish;"
      ]
    },
    {
      "cell_type": "markdown",
      "metadata": {},
      "source": [
        "The code below groups the different dishes by type, and only keeps those groups wherein the max cost is still than 8."
      ]
    },
    {
      "cell_type": "code",
      "execution_count": 27,
      "metadata": {},
      "outputs": [
        {
          "name": "stdout",
          "output_type": "stream",
          "text": [
            " * sqlite:///data/basic_examples.db\n",
            "   sqlite:///data/imdbmini.db\n",
            "Done.\n"
          ]
        },
        {
          "data": {
            "text/html": [
              "<table>\n",
              "    <thead>\n",
              "        <tr>\n",
              "            <th>type</th>\n",
              "            <th>COUNT(*)</th>\n",
              "        </tr>\n",
              "    </thead>\n",
              "    <tbody>\n",
              "        <tr>\n",
              "            <td>appetizer</td>\n",
              "            <td>3</td>\n",
              "        </tr>\n",
              "        <tr>\n",
              "            <td>dessert</td>\n",
              "            <td>1</td>\n",
              "        </tr>\n",
              "    </tbody>\n",
              "</table>"
            ],
            "text/plain": [
              "[('appetizer', 3), ('dessert', 1)]"
            ]
          },
          "execution_count": 27,
          "metadata": {},
          "output_type": "execute_result"
        }
      ],
      "source": [
        "%%sql\n",
        "SELECT type, COUNT(*)\n",
        "FROM Dish\n",
        "GROUP BY type\n",
        "HAVING MAX(cost) < 8;"
      ]
    },
    {
      "cell_type": "markdown",
      "metadata": {},
      "source": [
        "In contrast, the code below first filters for rows where the cost is less than 8, and then does the grouping. Note the difference in outputs - in this case, \"taco\" is also included, whereas other entries in the same group having cost greater than or equal to 8 are not included."
      ]
    },
    {
      "cell_type": "code",
      "execution_count": 28,
      "metadata": {},
      "outputs": [
        {
          "name": "stdout",
          "output_type": "stream",
          "text": [
            " * sqlite:///data/basic_examples.db\n",
            "   sqlite:///data/imdbmini.db\n",
            "Done.\n"
          ]
        },
        {
          "data": {
            "text/html": [
              "<table>\n",
              "    <thead>\n",
              "        <tr>\n",
              "            <th>type</th>\n",
              "            <th>COUNT(*)</th>\n",
              "        </tr>\n",
              "    </thead>\n",
              "    <tbody>\n",
              "        <tr>\n",
              "            <td>appetizer</td>\n",
              "            <td>3</td>\n",
              "        </tr>\n",
              "        <tr>\n",
              "            <td>dessert</td>\n",
              "            <td>1</td>\n",
              "        </tr>\n",
              "        <tr>\n",
              "            <td>entree</td>\n",
              "            <td>1</td>\n",
              "        </tr>\n",
              "    </tbody>\n",
              "</table>"
            ],
            "text/plain": [
              "[('appetizer', 3), ('dessert', 1), ('entree', 1)]"
            ]
          },
          "execution_count": 28,
          "metadata": {},
          "output_type": "execute_result"
        }
      ],
      "source": [
        "%%sql\n",
        "SELECT type, COUNT(*)\n",
        "FROM Dish\n",
        "WHERE cost < 8\n",
        "GROUP BY type;"
      ]
    },
    {
      "cell_type": "markdown",
      "metadata": {},
      "source": [
        "## EDA in SQL\n",
        "In the last lecture, we mostly worked under the assumption that our data had already been cleaned. However, as we saw in our first pass through the data science lifecycle, we're very unlikely to be given data that is free of formatting issues. With this in mind, we'll want to learn how to clean and transform data in SQL. \n",
        "\n",
        "Our typical workflow when working with \"big data\" is:\n",
        "\n",
        "1. Use SQL to query data from a database\n",
        "2. Use `python` (with `pandas`) to analyze this data in detail\n",
        "\n",
        "We can, however, still perform simple data cleaning and re-structuring using SQL directly. To do so, we'll use the `Title` table from the `imdbmini` database.\n",
        "\n",
        "### Matching Text using `LIKE`\n",
        "\n",
        "One common task we encountered in our first look at EDA was needing to match string data. For example, we might want to remove entries beginning with the same prefix as part of the data cleaning process.\n",
        "\n",
        "In SQL, we use the `LIKE` operator to (you guessed it) look for strings that are *like* a given string pattern. "
      ]
    },
    {
      "cell_type": "code",
      "execution_count": 29,
      "metadata": {},
      "outputs": [],
      "source": [
        "%%sql\n",
        "sqlite:///data/imdbmini.db "
      ]
    },
    {
      "cell_type": "code",
      "execution_count": 30,
      "metadata": {},
      "outputs": [
        {
          "name": "stdout",
          "output_type": "stream",
          "text": [
            "   sqlite:///data/basic_examples.db\n",
            " * sqlite:///data/imdbmini.db\n",
            "Done.\n"
          ]
        },
        {
          "data": {
            "text/html": [
              "<table>\n",
              "    <thead>\n",
              "        <tr>\n",
              "            <th>titleType</th>\n",
              "            <th>primaryTitle</th>\n",
              "        </tr>\n",
              "    </thead>\n",
              "    <tbody>\n",
              "        <tr>\n",
              "            <td>movie</td>\n",
              "            <td>Star Wars: Episode I - The Phantom Menace</td>\n",
              "        </tr>\n",
              "    </tbody>\n",
              "</table>"
            ],
            "text/plain": [
              "[('movie', 'Star Wars: Episode I - The Phantom Menace')]"
            ]
          },
          "execution_count": 30,
          "metadata": {},
          "output_type": "execute_result"
        }
      ],
      "source": [
        "%%sql\n",
        "SELECT titleType, primaryTitle\n",
        "FROM Title\n",
        "WHERE primaryTitle LIKE \"Star Wars: Episode I - The Phantom Menace\""
      ]
    },
    {
      "cell_type": "markdown",
      "metadata": {},
      "source": [
        "What if we wanted to find *all* Star Wars movies? `%` is the wildcard operator, it means \"look for any character, any number of times\". This makes it helpful for identifying strings that are similar to our desired pattern, even when we don't know the full text of what we aim to extract. In contrast, you `_` means \"look for exactly 1 character\", as you can see in the Harry Potter example that follows."
      ]
    },
    {
      "cell_type": "code",
      "execution_count": 31,
      "metadata": {},
      "outputs": [
        {
          "name": "stdout",
          "output_type": "stream",
          "text": [
            "   sqlite:///data/basic_examples.db\n",
            " * sqlite:///data/imdbmini.db\n",
            "Done.\n"
          ]
        },
        {
          "data": {
            "text/html": [
              "<table>\n",
              "    <thead>\n",
              "        <tr>\n",
              "            <th>titleType</th>\n",
              "            <th>primaryTitle</th>\n",
              "        </tr>\n",
              "    </thead>\n",
              "    <tbody>\n",
              "        <tr>\n",
              "            <td>movie</td>\n",
              "            <td>Star Wars: Episode IV - A New Hope</td>\n",
              "        </tr>\n",
              "        <tr>\n",
              "            <td>movie</td>\n",
              "            <td>Star Wars: Episode V - The Empire Strikes Back</td>\n",
              "        </tr>\n",
              "        <tr>\n",
              "            <td>movie</td>\n",
              "            <td>Star Wars: Episode VI - Return of the Jedi</td>\n",
              "        </tr>\n",
              "        <tr>\n",
              "            <td>movie</td>\n",
              "            <td>Star Wars: Episode I - The Phantom Menace</td>\n",
              "        </tr>\n",
              "        <tr>\n",
              "            <td>movie</td>\n",
              "            <td>Star Wars: Episode II - Attack of the Clones</td>\n",
              "        </tr>\n",
              "        <tr>\n",
              "            <td>movie</td>\n",
              "            <td>Star Wars: Episode III - Revenge of the Sith</td>\n",
              "        </tr>\n",
              "        <tr>\n",
              "            <td>tvSeries</td>\n",
              "            <td>Star Wars: Clone Wars</td>\n",
              "        </tr>\n",
              "        <tr>\n",
              "            <td>tvSeries</td>\n",
              "            <td>Star Wars: The Clone Wars</td>\n",
              "        </tr>\n",
              "        <tr>\n",
              "            <td>movie</td>\n",
              "            <td>Star Wars: The Clone Wars</td>\n",
              "        </tr>\n",
              "        <tr>\n",
              "            <td>movie</td>\n",
              "            <td>Star Wars: Episode VII - The Force Awakens</td>\n",
              "        </tr>\n",
              "    </tbody>\n",
              "</table>"
            ],
            "text/plain": [
              "[('movie', 'Star Wars: Episode IV - A New Hope'),\n",
              " ('movie', 'Star Wars: Episode V - The Empire Strikes Back'),\n",
              " ('movie', 'Star Wars: Episode VI - Return of the Jedi'),\n",
              " ('movie', 'Star Wars: Episode I - The Phantom Menace'),\n",
              " ('movie', 'Star Wars: Episode II - Attack of the Clones'),\n",
              " ('movie', 'Star Wars: Episode III - Revenge of the Sith'),\n",
              " ('tvSeries', 'Star Wars: Clone Wars'),\n",
              " ('tvSeries', 'Star Wars: The Clone Wars'),\n",
              " ('movie', 'Star Wars: The Clone Wars'),\n",
              " ('movie', 'Star Wars: Episode VII - The Force Awakens')]"
            ]
          },
          "execution_count": 31,
          "metadata": {},
          "output_type": "execute_result"
        }
      ],
      "source": [
        "%%sql\n",
        "SELECT titleType, primaryTitle\n",
        "FROM Title\n",
        "WHERE primaryTitle LIKE \"%Star Wars%\"\n",
        "LIMIT 10;"
      ]
    },
    {
      "cell_type": "code",
      "execution_count": 32,
      "metadata": {},
      "outputs": [
        {
          "name": "stdout",
          "output_type": "stream",
          "text": [
            "   sqlite:///data/basic_examples.db\n",
            " * sqlite:///data/imdbmini.db\n",
            "Done.\n"
          ]
        },
        {
          "data": {
            "text/html": [
              "<table>\n",
              "    <thead>\n",
              "        <tr>\n",
              "            <th>titleType</th>\n",
              "            <th>primaryTitle</th>\n",
              "        </tr>\n",
              "    </thead>\n",
              "    <tbody>\n",
              "        <tr>\n",
              "            <td>movie</td>\n",
              "            <td>Harry Potter and the Deathly Hallows: Part 1</td>\n",
              "        </tr>\n",
              "        <tr>\n",
              "            <td>movie</td>\n",
              "            <td>Harry Potter and the Deathly Hallows: Part 2</td>\n",
              "        </tr>\n",
              "    </tbody>\n",
              "</table>"
            ],
            "text/plain": [
              "[('movie', 'Harry Potter and the Deathly Hallows: Part 1'),\n",
              " ('movie', 'Harry Potter and the Deathly Hallows: Part 2')]"
            ]
          },
          "execution_count": 32,
          "metadata": {},
          "output_type": "execute_result"
        }
      ],
      "source": [
        "%%sql\n",
        "SELECT titleType, primaryTitle\n",
        "FROM Title\n",
        "WHERE primaryTitle LIKE \"Harry Potter and the Deathly Hallows: Part _\""
      ]
    },
    {
      "cell_type": "markdown",
      "metadata": {},
      "source": [
        "### `CAST`ing Data Types\n",
        "\n",
        "A common data cleaning task is converting data to the correct variable type. The `CAST` keyword is used to generate a new output column. Each entry in this output column is the result of converting the data in an existing column to a new data type. For example, we may wish to convert numeric data stored as a string to an integer."
      ]
    },
    {
      "cell_type": "code",
      "execution_count": 33,
      "metadata": {},
      "outputs": [
        {
          "name": "stdout",
          "output_type": "stream",
          "text": [
            "   sqlite:///data/basic_examples.db\n",
            " * sqlite:///data/imdbmini.db\n",
            "Done.\n"
          ]
        },
        {
          "data": {
            "text/html": [
              "<table>\n",
              "    <thead>\n",
              "        <tr>\n",
              "            <th>primaryTitle</th>\n",
              "            <th>CAST(runtimeMinutes AS INT)</th>\n",
              "            <th>CAST(startYear AS INT)</th>\n",
              "        </tr>\n",
              "    </thead>\n",
              "    <tbody>\n",
              "        <tr>\n",
              "            <td>A Trip to the Moon</td>\n",
              "            <td>13</td>\n",
              "            <td>1902</td>\n",
              "        </tr>\n",
              "        <tr>\n",
              "            <td>The Birth of a Nation</td>\n",
              "            <td>195</td>\n",
              "            <td>1915</td>\n",
              "        </tr>\n",
              "        <tr>\n",
              "            <td>The Cabinet of Dr. Caligari</td>\n",
              "            <td>76</td>\n",
              "            <td>1920</td>\n",
              "        </tr>\n",
              "        <tr>\n",
              "            <td>The Kid</td>\n",
              "            <td>68</td>\n",
              "            <td>1921</td>\n",
              "        </tr>\n",
              "        <tr>\n",
              "            <td>Nosferatu</td>\n",
              "            <td>94</td>\n",
              "            <td>1922</td>\n",
              "        </tr>\n",
              "    </tbody>\n",
              "</table>"
            ],
            "text/plain": [
              "[('A Trip to the Moon', 13, 1902),\n",
              " ('The Birth of a Nation', 195, 1915),\n",
              " ('The Cabinet of Dr. Caligari', 76, 1920),\n",
              " ('The Kid', 68, 1921),\n",
              " ('Nosferatu', 94, 1922)]"
            ]
          },
          "execution_count": 33,
          "metadata": {},
          "output_type": "execute_result"
        }
      ],
      "source": [
        "%%sql\n",
        "SELECT primaryTitle, CAST(runtimeMinutes AS INT), CAST(startYear AS INT)\n",
        "FROM Title\n",
        "LIMIT 5"
      ]
    },
    {
      "cell_type": "markdown",
      "metadata": {},
      "source": [
        "We use `CAST` when `SELECT`ing colunns for our output table. In the example above, we want to `SELECT` the columns of integer year and runtime data that is created by the `CAST`. \n",
        "\n",
        "SQL will automatically name a new column according to the command used to `SELECT` it, which can lead to unwieldy column names. We can rename the `CAST`ed column using the `AS` keyword."
      ]
    },
    {
      "cell_type": "code",
      "execution_count": 34,
      "metadata": {},
      "outputs": [
        {
          "name": "stdout",
          "output_type": "stream",
          "text": [
            "   sqlite:///data/basic_examples.db\n",
            " * sqlite:///data/imdbmini.db\n",
            "Done.\n"
          ]
        },
        {
          "data": {
            "text/html": [
              "<table>\n",
              "    <thead>\n",
              "        <tr>\n",
              "            <th>title</th>\n",
              "            <th>minutes</th>\n",
              "            <th>year</th>\n",
              "        </tr>\n",
              "    </thead>\n",
              "    <tbody>\n",
              "        <tr>\n",
              "            <td>A Trip to the Moon</td>\n",
              "            <td>13</td>\n",
              "            <td>1902</td>\n",
              "        </tr>\n",
              "        <tr>\n",
              "            <td>The Birth of a Nation</td>\n",
              "            <td>195</td>\n",
              "            <td>1915</td>\n",
              "        </tr>\n",
              "        <tr>\n",
              "            <td>The Cabinet of Dr. Caligari</td>\n",
              "            <td>76</td>\n",
              "            <td>1920</td>\n",
              "        </tr>\n",
              "        <tr>\n",
              "            <td>The Kid</td>\n",
              "            <td>68</td>\n",
              "            <td>1921</td>\n",
              "        </tr>\n",
              "        <tr>\n",
              "            <td>Nosferatu</td>\n",
              "            <td>94</td>\n",
              "            <td>1922</td>\n",
              "        </tr>\n",
              "    </tbody>\n",
              "</table>"
            ],
            "text/plain": [
              "[('A Trip to the Moon', 13, 1902),\n",
              " ('The Birth of a Nation', 195, 1915),\n",
              " ('The Cabinet of Dr. Caligari', 76, 1920),\n",
              " ('The Kid', 68, 1921),\n",
              " ('Nosferatu', 94, 1922)]"
            ]
          },
          "execution_count": 34,
          "metadata": {},
          "output_type": "execute_result"
        }
      ],
      "source": [
        "%%sql\n",
        "SELECT primaryTitle AS title, CAST(runtimeMinutes AS INT) AS minutes, CAST(startYear AS INT) AS year\n",
        "FROM Title\n",
        "LIMIT 5;"
      ]
    },
    {
      "cell_type": "markdown",
      "metadata": {},
      "source": [
        "### Using Conditional Statements with `CASE`\n",
        "\n",
        "When working with `pandas`, we often ran into situations where we wanted to generate new columns using some form of conditional statement. For example, say we wanted to describe a film title as \"old,\" \"mid-aged,\" or \"new,\" depending on the year of its release.\n",
        "\n",
        "In SQL, conditional operations are performed using a `CASE` clause. Conceptually, `CASE` behaves much like the `CAST` operation: it creates a new column that we can then `SELECT` to appear in the output. The syntax for a `CASE` clause is as follows:\n",
        "\n",
        "    CASE WHEN <condition> THEN <value>\n",
        "         WHEN <other condition> THEN <other value>\n",
        "         ...\n",
        "         ELSE <yet another value>\n",
        "    END\n",
        "\n",
        "Scanning through the skeleton code above, you can see that the logic is similar to that of an `if` statement in `python`. The conditional statement is first opened by calling `CASE`. Each new condition is specified by `WHEN`, with `THEN` indicating what value should be filled if the condition is met. `ELSE` specifies the value that should be filled if no other conditions are met. Lastly, `END` indicates the end of the conditional statement; once `END` has been called, SQL will continue evaluating the query as usual. \n",
        "\n",
        "Let's see this in action. In the example below, we give the new column created by the `CASE` statement the name `movie_age`."
      ]
    },
    {
      "cell_type": "code",
      "execution_count": 35,
      "metadata": {},
      "outputs": [
        {
          "name": "stdout",
          "output_type": "stream",
          "text": [
            "   sqlite:///data/basic_examples.db\n",
            " * sqlite:///data/imdbmini.db\n",
            "Done.\n"
          ]
        },
        {
          "data": {
            "text/html": [
              "<table>\n",
              "    <thead>\n",
              "        <tr>\n",
              "            <th>titleType</th>\n",
              "            <th>startYear</th>\n",
              "            <th>movie_age</th>\n",
              "        </tr>\n",
              "    </thead>\n",
              "    <tbody>\n",
              "        <tr>\n",
              "            <td>short</td>\n",
              "            <td>1902</td>\n",
              "            <td>old</td>\n",
              "        </tr>\n",
              "        <tr>\n",
              "            <td>movie</td>\n",
              "            <td>1915</td>\n",
              "            <td>old</td>\n",
              "        </tr>\n",
              "        <tr>\n",
              "            <td>movie</td>\n",
              "            <td>1920</td>\n",
              "            <td>old</td>\n",
              "        </tr>\n",
              "        <tr>\n",
              "            <td>movie</td>\n",
              "            <td>1921</td>\n",
              "            <td>old</td>\n",
              "        </tr>\n",
              "        <tr>\n",
              "            <td>movie</td>\n",
              "            <td>1922</td>\n",
              "            <td>old</td>\n",
              "        </tr>\n",
              "        <tr>\n",
              "            <td>movie</td>\n",
              "            <td>1924</td>\n",
              "            <td>old</td>\n",
              "        </tr>\n",
              "        <tr>\n",
              "            <td>movie</td>\n",
              "            <td>1925</td>\n",
              "            <td>old</td>\n",
              "        </tr>\n",
              "        <tr>\n",
              "            <td>movie</td>\n",
              "            <td>1925</td>\n",
              "            <td>old</td>\n",
              "        </tr>\n",
              "        <tr>\n",
              "            <td>movie</td>\n",
              "            <td>1927</td>\n",
              "            <td>old</td>\n",
              "        </tr>\n",
              "        <tr>\n",
              "            <td>movie</td>\n",
              "            <td>1926</td>\n",
              "            <td>old</td>\n",
              "        </tr>\n",
              "    </tbody>\n",
              "</table>"
            ],
            "text/plain": [
              "[('short', '1902', 'old'),\n",
              " ('movie', '1915', 'old'),\n",
              " ('movie', '1920', 'old'),\n",
              " ('movie', '1921', 'old'),\n",
              " ('movie', '1922', 'old'),\n",
              " ('movie', '1924', 'old'),\n",
              " ('movie', '1925', 'old'),\n",
              " ('movie', '1925', 'old'),\n",
              " ('movie', '1927', 'old'),\n",
              " ('movie', '1926', 'old')]"
            ]
          },
          "execution_count": 35,
          "metadata": {},
          "output_type": "execute_result"
        }
      ],
      "source": [
        "%%sql\n",
        "/* If a movie was filmed before 1950, it is \"old\"\n",
        "Otherwise, if a movie was filmed before 2000, it is \"mid-aged\"\n",
        "Else, a movie is \"new\" */\n",
        "\n",
        "SELECT titleType, startYear,\n",
        "CASE WHEN startYear < 1950 THEN \"old\"\n",
        "     WHEN startYear < 2000 THEN \"mid-aged\"\n",
        "     ELSE \"new\"\n",
        "     END AS movie_age\n",
        "FROM Title\n",
        "LIMIT 10;"
      ]
    },
    {
      "cell_type": "markdown",
      "metadata": {},
      "source": [
        "## `JOIN`ing Tables\n",
        "\n",
        "At this point, we're well-versed in using SQL as a tool to clean, manipulate, and transform data in a table. Notice that this sentence referred to one *table*, specifically. What happens if the data we need is distributed across multiple tables? This is an important consideration when using SQL – recall that we first introduced SQL as a language to query from databases. Databases often store data in a multidimensional structure. In other words, information is stored across several tables, with each table containing a small subset of all the data housed by the database. \n",
        "\n",
        "A common way of organizing a database is by using a **star schema**. A star schema is composed of two types of tables. A **fact table** is the central table of the database – it contains the information needed to link entries across several **dimension tables**, which contain more detailed information about the data. \n",
        "\n",
        "Say we were working with a database about boba offerings in Berkeley. The dimension tables of the database might contain information about tea varieties and boba toppings. The fact table would be used to link this information across the various dimension tables.\n",
        "\n",
        "<div style=\"text-align: center;\">\n",
        "<img src=\"images/multidimensional.png\" alt='multidimensional' width='850'>\n",
        "</div> \n",
        "\n",
        "If we explicitly mark the relationships between tables, we start to see the star-like structure of the star schema.\n",
        "\n",
        "<div style=\"text-align: center;\">\n",
        "<img src=\"images/star.png\" alt='star' width='650'>\n",
        "</div> \n",
        "\n",
        "To join data across multiple tables, we'll use the (creatively named) `JOIN` keyword. We'll make things easier for now by first considering the simpler `cats` dataset, which consists of the tables `s` and `t`.\n",
        "\n",
        "<div style=\"text-align: center;\">\n",
        "<img src=\"images/cats.png\" alt='cats' width='500'>\n",
        "</div> \n",
        "\n",
        "To perform a join, we amend the `FROM` clause. You can think of this as saying, \"`SELECT` my data `FROM` tables that have  been `JOIN`ed together.\" \n",
        "\n",
        "Remember: SQL does not consider newlines or whitespace when interpreting queries. The indentation given in the example below is to help improve readability. If you wish, you can write code that does not follow this formatting.\n",
        "\n",
        "    SELECT <column list>\n",
        "    FROM table_1 \n",
        "        JOIN table_2 \n",
        "        ON key_1 = key_2;\n",
        "\n",
        "We also need to specify what column from each table should be used to determine matching entries. By defining these keys, we provide SQL with the information it needs to pair rows of data together.\n",
        "\n",
        "In a **cross join**, *all* possible combinations of rows appear in the output table, regardless of whether or not rows share a matching key. Because all rows are joined, even if there is no matching key, it is not necessary to specify what keys to consider in an `ON` statement. A cross join is also known as a cartesian product.\n",
        "\n",
        "<div style=\"text-align: center;\">\n",
        "<img src=\"images/cross.png\" alt='cross' width='800'>\n",
        "</div> \n",
        "\n",
        "The most commonly used type of SQL `JOIN` is the **inner join**. It turns out you're already familiar with what an inner join does, and how it works – this is the type of join we've been using in `pandas` all along! In an inner join, we combine every row in our first table with its matching entry in the second table. If a row from either table does not have a match in the other table, it is omitted from the output. \n",
        "\n",
        "<div style=\"text-align: center;\">\n",
        "<img src=\"images/inner.png\" alt='inner' width='800'>\n",
        "</div> \n",
        "\n",
        "Another way of interpreting the inner join: perform a cross join, then remove all rows that do not share a matching key. Notice that the output of the inner join above contains all rows of the cross join example that contain a single color across the entire row.\n",
        "\n",
        "In a **full outer join**, all rows that have a match between the two tables are joined together. If a row has no match in the second table, then the values of the columns for that second table are filled with null. In other words, a full outer join performs an inner join *while still keeping* rows that have no match in the other table. This is best understood visually:\n",
        "\n",
        "<div style=\"text-align: center;\">\n",
        "<img src=\"images/full.png\" alt='full' width='800'>\n",
        "</div> \n",
        "\n",
        "We have kept the same output achieved using an inner join, with the addition of partially-null rows for entries in `s` and `t` that had no match in the second table. Note that `FULL OUTER JOIN` is not supported by SQLite, the \"flavor\" of SQL that will be used in lab and homework.\n",
        "\n",
        "A **left outer join** is similar to a full outer join. In a left outer join, *all* rows in the left table are kept in the output table. If a row in the right table shares a match with the left table, this row will be kept; otherwise, the rows in the right table are omitted from the output. \n",
        "\n",
        "<div style=\"text-align: center;\">\n",
        "<img src=\"images/left.png\" alt='left' width='800'>\n",
        "</div> \n",
        "\n",
        "A **right outer join** keeps all rows in the right table. Rows in the left table are only kept if they share a match in the right table. Right outer joins are not supported by SQLite. \n",
        "\n",
        "<div style=\"text-align: center;\">\n",
        "<img src=\"images/right.png\" alt='right' width='800'>\n",
        "</div> \n",
        "\n",
        "In the examples above, we performed our joins by checking for equality between the two tables (i.e., by setting `s.id = t.id`). SQL also supports joining rows on *inequalities*, which is something we weren't able to do when working in `pandas`. Consider a new dataset that contains information about students and teachers.\n",
        "\n",
        "<div style=\"text-align: center;\">\n",
        "<img src=\"images/student.png\" alt='student' width='400'>\n",
        "</div> \n",
        "\n",
        "Often, we wish to compare the relative values of rows in different tables, rather than check that they are exactly equal. For example, we may want to join rows where students are older than the corresponding teacher. We can do so by specifying an inequality in our `ON` statement.\n",
        "\n",
        "<div style=\"text-align: center;\">\n",
        "<img src=\"images/inequality.png\" alt='inequality' width='800'>\n",
        "</div> \n"
      ]
    }
  ],
  "metadata": {
    "kernelspec": {
      "display_name": "Python 3 (ipykernel)",
      "language": "python",
      "name": "python3"
    },
    "language_info": {
      "codemirror_mode": {
        "name": "ipython",
        "version": 3
      },
      "file_extension": ".py",
      "mimetype": "text/x-python",
      "name": "python",
      "nbconvert_exporter": "python",
      "pygments_lexer": "ipython3",
      "version": "3.10.10"
    }
  },
  "nbformat": 4,
  "nbformat_minor": 4
}
