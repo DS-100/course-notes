{
 "cells": [
  {
   "cell_type": "markdown",
   "id": "2fd3d9fa",
   "metadata": {},
   "source": [
    "---\n",
    "title: SQL II (from Spring 2025)\n",
    "execute:\n",
    "  echo: true\n",
    "  eval: false\n",
    "format:\n",
    "  html:\n",
    "    code-fold: false\n",
    "    code-tools: true\n",
    "    toc: true\n",
    "    toc-title: SQL II\n",
    "    page-layout: full\n",
    "    theme:\n",
    "      - cosmo\n",
    "      - cerulean\n",
    "    callout-icon: false\n",
    "jupyter:\n",
    "  jupytext:\n",
    "    text_representation:\n",
    "      extension: .qmd\n",
    "      format_name: quarto\n",
    "      format_version: '1.0'\n",
    "      jupytext_version: 1.16.6\n",
    "  kernelspec:\n",
    "    display_name: Python 3 (ipykernel)\n",
    "    language: python\n",
    "    name: python3\n",
    "---\n",
    "\n",
    "::: {.callout-note collapse=\"false\"}\n",
    "## Learning Outcomes\n",
    "* Perform aggregations using `GROUP BY`\n",
    "* Introduce the ability to filter groups\n",
    "* Perform data cleaning and text manipulation in SQL\n",
    "* Join data across tables\n",
    ":::\n",
    "\n",
    "In this lecture, we'll continue our work from last time to introduce some advanced SQL syntax. \n",
    "\n",
    "First, let's load in the `basic_examples.db` database."
   ]
  },
  {
   "cell_type": "code",
   "execution_count": 1,
   "id": "b2c56efc",
   "metadata": {},
   "outputs": [],
   "source": [
    "#| code-fold: true\n",
    "# Load the SQL Alchemy Python library and DuckDB\n",
    "import sqlalchemy\n",
    "import duckdb"
   ]
  },
  {
   "cell_type": "code",
   "execution_count": 2,
   "id": "caa1d43d",
   "metadata": {},
   "outputs": [],
   "source": [
    "# Load %%sql cell magic\n",
    "%load_ext sql"
   ]
  },
  {
   "cell_type": "code",
   "execution_count": 3,
   "id": "2f97e0f1",
   "metadata": {},
   "outputs": [],
   "source": [
    "# Connect to the database\n",
    "%sql duckdb:///data/basic_examples.db --alias basic"
   ]
  },
  {
   "cell_type": "markdown",
   "id": "3add144f",
   "metadata": {},
   "source": [
    "## Finish Basic Queries\n",
    "See the [SQL I course note](https://ds100.org/course-notes/sql_I/sql_I.html) for all of the basic queries that we looked at so far, including `SELECT`ing, applying `WHERE` conditions, and sorting or restricting the output of tables. Let's look at one more basic query before we go to more advanced queries.\n",
    "\n",
    "### Sampling the Dataset\n",
    "We can use `RANDOM` or `SAMPLE` to get a sample of the dataset. The `RANDOM` keyword randomizes the entire table (reordering rows randomly). In the example below, we randomize and returns the first two rows as requested."
   ]
  },
  {
   "cell_type": "code",
   "execution_count": 4,
   "id": "cae88acb",
   "metadata": {},
   "outputs": [],
   "source": [
    "%%sql\n",
    "SELECT * \n",
    "FROM Dragon\n",
    "ORDER BY RANDOM()\n",
    "LIMIT 2;"
   ]
  },
  {
   "cell_type": "markdown",
   "id": "fe8be928",
   "metadata": {},
   "source": [
    "The `SAMPLE` keyword instead uses a seed to randomly draw samples from the table, and it's more efficient than ordering the entire table using `RANDOM`. In the example below, we randomly draw two samples from the table, and the `REPEATABLE` keyword is used here as a seed so that the same rows are drawn each time we run this."
   ]
  },
  {
   "cell_type": "code",
   "execution_count": 5,
   "id": "b8d0f8d2",
   "metadata": {},
   "outputs": [],
   "source": [
    "%%sql\n",
    "SELECT *\n",
    "FROM Dragon USING SAMPLE reservoir(2 ROWS) REPEATABLE (100);"
   ]
  },
  {
   "cell_type": "markdown",
   "id": "31865a62",
   "metadata": {},
   "source": [
    "## Aggregating with `GROUP BY`\n",
    "\n",
    "At this point, we've seen that SQL offers much of the same functionality that was given to us by `pandas`. We can extract data from a table, filter it, and reorder it to suit our needs.\n",
    "\n",
    "In `pandas`, much of our analysis work relied heavily on being able to use `.groupby()` to aggregate across the rows of our dataset. SQL's answer to this task is the (very conveniently named) `GROUP BY` clause. While the outputs of `GROUP BY` are similar to those of `.groupby()` — in both cases, we obtain an output table where some column has been used for grouping — the syntax and logic used to group data in SQL are fairly different to the `pandas` implementation.\n",
    "\n",
    "To illustrate `GROUP BY`, we will consider the `Dish` table from our database."
   ]
  },
  {
   "cell_type": "code",
   "execution_count": 6,
   "id": "023cb3e7",
   "metadata": {},
   "outputs": [],
   "source": [
    "%%sql\n",
    "SELECT * \n",
    "FROM Dish;"
   ]
  },
  {
   "cell_type": "markdown",
   "id": "832b9dae",
   "metadata": {},
   "source": [
    "Notice that there are multiple dishes of the same `type`. What if we wanted to find the total costs of dishes of a certain `type`? To accomplish this, we would write the following code."
   ]
  },
  {
   "cell_type": "code",
   "execution_count": 7,
   "id": "ec71d988",
   "metadata": {},
   "outputs": [],
   "source": [
    "%%sql\n",
    "SELECT type, SUM(cost)\n",
    "FROM Dish\n",
    "GROUP BY type;"
   ]
  },
  {
   "cell_type": "markdown",
   "id": "0e9aa5fb",
   "metadata": {},
   "source": [
    "What is going on here? The statement `GROUP BY type` tells SQL to group the data based on the value contained in the `type` column (whether a record is an appetizer, entree, or dessert). `SUM(cost)` sums up the costs of dishes in each `type` and displays the result in the output table.\n",
    "\n",
    "You may be wondering: why does `SUM(cost)` come before the command to `GROUP BY type`? Don't we need to form groups before we can count the number of entries in each? Remember that SQL is a *declarative* programming language — a SQL programmer simply states what end result they would like to see, and leaves the task of figuring out *how* to obtain this result to SQL itself. This means that SQL queries sometimes don't follow what a reader sees as a \"logical\" sequence of thought. Instead, SQL requires that we follow its set order of operations when constructing queries. So long as we follow this order, SQL will handle the underlying logic.\n",
    "\n",
    "In practical terms: our goal with this query was to output the total `cost`s of each `type`. To communicate this to SQL, we say that we want to `SELECT` the `SUM`med `cost` values for each `type` group. \n",
    "\n",
    "There are many aggregation functions that can be used to aggregate the data contained in each group. Some common examples are:\n",
    "\n",
    "* `COUNT`: count the number of rows associated with each group\n",
    "* `MIN`: find the minimum value of each group\n",
    "* `MAX`: find the maximum value of each group\n",
    "* `SUM`: sum across all records in each group\n",
    "* `AVG`: find the average value of each group\n",
    "\n",
    "We can easily compute multiple aggregations all at once (a task that was very tricky in `pandas`)."
   ]
  },
  {
   "cell_type": "code",
   "execution_count": 8,
   "id": "5abe24c0",
   "metadata": {},
   "outputs": [],
   "source": [
    "%%sql\n",
    "SELECT type, SUM(cost), MIN(cost), MAX(name)\n",
    "FROM Dish\n",
    "GROUP BY type;"
   ]
  },
  {
   "cell_type": "markdown",
   "id": "a2b6981f",
   "metadata": {},
   "source": [
    "To count the number of rows associated with each group, we use the `COUNT` keyword. Calling `COUNT(*)` will compute the total number of rows in each group, including rows with null values. Its `pandas` equivalent is `.groupby().size()`.\n",
    "\n",
    "Recall the `Dragon` table from the previous lecture:"
   ]
  },
  {
   "cell_type": "code",
   "execution_count": 9,
   "id": "a11b2d7a",
   "metadata": {},
   "outputs": [],
   "source": [
    "%%sql\n",
    "SELECT * FROM Dragon;"
   ]
  },
  {
   "cell_type": "markdown",
   "id": "24a5450b",
   "metadata": {},
   "source": [
    "Notice that `COUNT(*)` and `COUNT(cute)` result in different outputs."
   ]
  },
  {
   "cell_type": "code",
   "execution_count": 10,
   "id": "c4f72aca",
   "metadata": {},
   "outputs": [],
   "source": [
    "%%sql\n",
    "SELECT year, COUNT(*)\n",
    "FROM Dragon\n",
    "GROUP BY year;"
   ]
  },
  {
   "cell_type": "code",
   "execution_count": 11,
   "id": "2d2d9c59",
   "metadata": {},
   "outputs": [],
   "source": [
    "%%sql\n",
    "SELECT year, COUNT(cute)\n",
    "FROM Dragon\n",
    "GROUP BY year;"
   ]
  },
  {
   "cell_type": "markdown",
   "id": "97fb66e2",
   "metadata": {},
   "source": [
    "With this definition of `GROUP BY` in hand, let's update our SQL order of operations. Remember: *every* SQL query must list clauses in this order. \n",
    "\n",
    "    SELECT <column expression list>\n",
    "    FROM <table>\n",
    "    [WHERE <predicate>]\n",
    "    [GROUP BY <column list>]\n",
    "    [ORDER BY <column list>]\n",
    "    [LIMIT <number of rows>]\n",
    "    [OFFSET <number of rows>];\n",
    "\n",
    "Note that we can use the `AS` keyword to rename columns during the selection process and that column expressions may include aggregation functions (`MAX`, `MIN`, etc.).\n",
    "\n",
    "## Filtering Groups\n",
    "\n",
    "Now, what if we only want groups that meet a certain condition? `HAVING` filters groups by applying some condition across all rows in each group. We interpret it as a way to keep only the groups `HAVING` some condition. Note the difference between `WHERE` and `HAVING`: we use `WHERE` to filter rows, whereas we use `HAVING` to filter *groups*. `WHERE` precedes `HAVING` in terms of how SQL executes a query.\n",
    "\n",
    "Let's take a look at the `Dish` table to see how we can use `HAVING`. Say we want to group dishes with a cost greater than 4 by `type` and only keep groups where the max cost is less than 10."
   ]
  },
  {
   "cell_type": "code",
   "execution_count": 12,
   "id": "df3c61b7",
   "metadata": {},
   "outputs": [],
   "source": [
    "%%sql\n",
    "SELECT type, COUNT(*)\n",
    "FROM Dish\n",
    "WHERE cost > 4\n",
    "GROUP BY type\n",
    "HAVING MAX(cost) <  10;"
   ]
  },
  {
   "cell_type": "markdown",
   "id": "7341a261",
   "metadata": {},
   "source": [
    "Here, we first use `WHERE` to filter for rows with a cost greater than 4. We then group our values by `type` before applying the `HAVING` operator. With `HAVING`, we can filter our groups based on if the max cost is less than 10.\n",
    "\n",
    "## Summary: SQL\n",
    "With this definition of `GROUP BY` and `HAVING` in hand, let's update our SQL order of operations. Remember: *every* SQL query must list clauses in this order. \n",
    "\n",
    "    SELECT <column expression list>\n",
    "    FROM <table>\n",
    "    [WHERE <predicate>]\n",
    "    [GROUP BY <column list>]\n",
    "    [HAVING <predicate>]\n",
    "    [ORDER BY <column list>]\n",
    "    [LIMIT <number of rows>]\n",
    "    [OFFSET <number of rows>];\n",
    "\n",
    "Note that we can use the `AS` keyword to rename columns during the selection process and that column expressions may include aggregation functions (`MAX`, `MIN`, etc.). `WHERE` is for rows, `HAVING` is for groups, and `WHERE` precedes `HAVING`.\n",
    "\n",
    "## EDA in SQL\n",
    "In the last lecture, we mostly worked under the assumption that our data had already been cleaned. However, as we saw in our first pass through the data science lifecycle, we're very unlikely to be given data that is free of formatting issues. With this in mind, we'll want to learn how to clean and transform data in SQL. \n",
    "\n",
    "Our typical workflow when working with \"big data\" is:\n",
    "\n",
    "1. Use SQL to query data from a database\n",
    "2. Use Python (with `pandas`) to analyze this data in detail\n",
    "\n",
    "We can, however, still perform simple data cleaning and re-structuring using SQL directly. To do so, we'll use the `Title` table from the `imdb_duck` database, which contains information about movies and actors.\n",
    "\n",
    "Let's load in the `imdb_duck` database."
   ]
  },
  {
   "cell_type": "code",
   "execution_count": 13,
   "id": "59f0d125",
   "metadata": {},
   "outputs": [],
   "source": [
    "#| code-fold: true\n",
    "import os\n",
    "os.environ[\"TQDM_DISABLE\"] = \"1\"\n",
    "if os.path.exists(\"/home/jovyan/shared/sql/imdb_duck.db\"):\n",
    "    imdbpath = \"duckdb:////home/jovyan/shared/sql/imdb_duck.db\"\n",
    "elif os.path.exists(\"data/imdb_duck.db\"):\n",
    "    imdbpath =  \"duckdb:///data/imdb_duck.db\"\n",
    "else:\n",
    "    import gdown\n",
    "    url = 'https://drive.google.com/uc?id=10tKOHGLt9QoOgq5Ii-FhxpB9lDSQgl1O'\n",
    "    output_path = 'data/imdb_duck.db'\n",
    "    gdown.download(url, output_path, quiet=False)\n",
    "    imdbpath = \"duckdb:///data/imdb_duck.db\""
   ]
  },
  {
   "cell_type": "code",
   "execution_count": 14,
   "id": "b6b58e09",
   "metadata": {},
   "outputs": [],
   "source": [
    "from sqlalchemy import create_engine\n",
    "imdb_engine = create_engine(imdbpath, connect_args={'read_only': True})\n",
    "%sql imdb_engine --alias imdb"
   ]
  },
  {
   "cell_type": "markdown",
   "id": "697b7f2b",
   "metadata": {},
   "source": [
    "Since we'll be working with the `Title` table, let's take a quick look at what it contains. "
   ]
  },
  {
   "cell_type": "code",
   "execution_count": 15,
   "id": "b43e4d4f",
   "metadata": {},
   "outputs": [],
   "source": [
    "%%sql imdb \n",
    "    \n",
    "SELECT *\n",
    "FROM Title\n",
    "WHERE primaryTitle IN ('Ginny & Georgia', 'What If...?', 'Succession', 'Veep', 'Tenet')\n",
    "LIMIT 10;"
   ]
  },
  {
   "cell_type": "markdown",
   "id": "13b2e8ce",
   "metadata": {},
   "source": [
    "### Matching Text using `LIKE`\n",
    "\n",
    "One common task we encountered in our first look at EDA was needing to match string data. For example, we might want to remove entries beginning with the same prefix as part of the data cleaning process.\n",
    "\n",
    "In SQL, we use the `LIKE` operator to (you guessed it) look for strings that are *like* a given string pattern. "
   ]
  },
  {
   "cell_type": "code",
   "execution_count": 16,
   "id": "7481ff79",
   "metadata": {},
   "outputs": [],
   "source": [
    "%%sql\n",
    "SELECT titleType, primaryTitle\n",
    "FROM Title\n",
    "WHERE primaryTitle LIKE 'Star Wars: Episode I - The Phantom Menace'"
   ]
  },
  {
   "cell_type": "markdown",
   "id": "304bae40",
   "metadata": {},
   "source": [
    "What if we wanted to find *all* Star Wars movies? `%` is the wildcard operator, it means \"look for any character, any number of times\". This makes it helpful for identifying strings that are similar to our desired pattern, even when we don't know the full text of what we aim to extract."
   ]
  },
  {
   "cell_type": "code",
   "execution_count": 17,
   "id": "688043cc",
   "metadata": {},
   "outputs": [],
   "source": [
    "%%sql\n",
    "SELECT titleType, primaryTitle\n",
    "FROM Title\n",
    "WHERE primaryTitle LIKE '%Star Wars%'\n",
    "LIMIT 10;"
   ]
  },
  {
   "cell_type": "markdown",
   "id": "e5abef60",
   "metadata": {},
   "source": [
    "Alternatively, we can use RegEx! DuckDB and most real DBMSs allow for this. Note that here, we have to use the `SIMILAR TO` operater rather than `LIKE`."
   ]
  },
  {
   "cell_type": "code",
   "execution_count": 18,
   "id": "ca591d2b",
   "metadata": {},
   "outputs": [],
   "source": [
    "%%sql\n",
    "SELECT titleType, primaryTitle\n",
    "FROM Title\n",
    "WHERE primaryTitle SIMILAR TO '.*Star Wars.*'\n",
    "LIMIT 10;"
   ]
  },
  {
   "cell_type": "markdown",
   "id": "19c5bdb6",
   "metadata": {},
   "source": [
    "### `CAST`ing Data Types\n",
    "\n",
    "A common data cleaning task is converting data to the correct variable type. The `CAST` keyword is used to generate a new output column. Each entry in this output column is the result of converting the data in an existing column to a new data type. For example, we may wish to convert numeric data stored as a string to an integer."
   ]
  },
  {
   "cell_type": "code",
   "execution_count": 19,
   "id": "78f4f71b",
   "metadata": {},
   "outputs": [],
   "source": [
    "%%sql\n",
    "SELECT primaryTitle, CAST(runtimeMinutes AS INT)\n",
    "FROM Title;"
   ]
  },
  {
   "cell_type": "markdown",
   "id": "301c5dbc",
   "metadata": {},
   "source": [
    "We use `CAST` when `SELECT`ing colunns for our output table. In the example above, we want to `SELECT` the columns of integer year and runtime data that is created by the `CAST`. \n",
    "\n",
    "SQL will automatically name a new column according to the command used to `SELECT` it, which can lead to unwieldy column names. We can rename the `CAST`ed column using the `AS` keyword."
   ]
  },
  {
   "cell_type": "code",
   "execution_count": 20,
   "id": "cb18d383",
   "metadata": {},
   "outputs": [],
   "source": [
    "%%sql\n",
    "SELECT primaryTitle AS title, CAST(runtimeMinutes AS INT) AS minutes, CAST(startYear AS INT) AS year\n",
    "FROM Title\n",
    "LIMIT 5;"
   ]
  },
  {
   "cell_type": "markdown",
   "id": "b6711ed0",
   "metadata": {},
   "source": [
    "### Using Conditional Statements with `CASE`\n",
    "\n",
    "When working with `pandas`, we often ran into situations where we wanted to generate new columns using some form of conditional statement. For example, say we wanted to describe a film title as \"old,\" \"mid-aged,\" or \"new,\" depending on the year of its release.\n",
    "\n",
    "In SQL, conditional operations are performed using a `CASE` clause. Conceptually, `CASE` behaves much like the `CAST` operation: it creates a new column that we can then `SELECT` to appear in the output. The syntax for a `CASE` clause is as follows:\n",
    "\n",
    "    CASE WHEN <condition> THEN <value>\n",
    "         WHEN <other condition> THEN <other value>\n",
    "         ...\n",
    "         ELSE <yet another value>\n",
    "         END\n",
    "\n",
    "Scanning through the skeleton code above, you can see that the logic is similar to that of an `if` statement in Python. The conditional statement is first opened by calling `CASE`. Each new condition is specified by `WHEN`, with `THEN` indicating what value should be filled if the condition is met. `ELSE` specifies the value that should be filled if no other conditions are met. Lastly, `END` indicates the end of the conditional statement; once `END` has been called, SQL will continue evaluating the query as usual. \n",
    "\n",
    "Let's see this in action. In the example below, we give the new column created by the `CASE` statement the name `movie_age`."
   ]
  },
  {
   "cell_type": "code",
   "execution_count": 21,
   "id": "ebd3973b",
   "metadata": {},
   "outputs": [],
   "source": [
    "%%sql\n",
    "/* If a movie was filmed before 1950, it is \"old\"\n",
    "Otherwise, if a movie was filmed before 2000, it is \"mid-aged\"\n",
    "Else, a movie is \"new\" */\n",
    "\n",
    "SELECT titleType, startYear,\n",
    "CASE WHEN startYear < 1950 THEN 'old'\n",
    "     WHEN startYear < 2000 THEN 'mid-aged'\n",
    "     ELSE 'new'\n",
    "     END AS movie_age\n",
    "FROM Title;"
   ]
  },
  {
   "cell_type": "markdown",
   "id": "dbb96b15",
   "metadata": {},
   "source": [
    "## `JOIN`ing Tables\n",
    "\n",
    "At this point, we're well-versed in using SQL as a tool to clean, manipulate, and transform data in a table. Notice that this sentence referred to one *table*, specifically. What happens if the data we need is distributed across multiple tables? This is an important consideration when using SQL — recall that we first introduced SQL as a language to query from databases. Databases often store data in a multidimensional structure. In other words, information is stored across several tables, with each table containing a small subset of all the data housed by the database. \n",
    "\n",
    "A common way of organizing a database is by using a **star schema**. A star schema is composed of two types of tables. A **fact table** is the central table of the database — it contains the information needed to link entries across several **dimension tables**, which contain more detailed information about the data. \n",
    "\n",
    "Say we were working with a database about boba offerings in Berkeley. The dimension tables of the database might contain information about tea varieties and boba toppings. The fact table would be used to link this information across the various dimension tables.\n",
    "\n",
    "<div style=\"text-align: center;\">\n",
    "<img src=\"images/multidimensional.png\" alt='multidimensional' width='850'>\n",
    "</div> \n",
    "\n",
    "If we explicitly mark the relationships between tables, we start to see the star-like structure of the star schema.\n",
    "\n",
    "<div style=\"text-align: center;\">\n",
    "<img src=\"images/star.png\" alt='star' width='650'>\n",
    "</div> \n",
    "\n",
    "To join data across multiple tables, we'll use the (creatively named) `JOIN` keyword. We'll make things easier for now by first considering the simpler `cats` dataset, which consists of the tables `s` and `t`.\n",
    "\n",
    "<div style=\"text-align: center;\">\n",
    "<img src=\"images/cats.png\" alt='cats' width='500'>\n",
    "</div> \n",
    "\n",
    "To perform a join, we amend the `FROM` clause. You can think of this as saying, \"`SELECT` my data `FROM` tables that have  been `JOIN`ed together.\" \n",
    "\n",
    "Remember: SQL does not consider newlines or whitespace when interpreting queries. The indentation given in the example below is to help improve readability. If you wish, you can write code that does not follow this formatting.\n",
    "\n",
    "    SELECT <column list>\n",
    "    FROM table_1 \n",
    "        JOIN table_2 \n",
    "        ON key_1 = key_2;\n",
    "\n",
    "We also need to specify what column from each table should be used to determine matching entries. By defining these keys, we provide SQL with the information it needs to pair rows of data together.\n",
    "\n",
    "\n",
    "The most commonly used type of SQL `JOIN` is the **inner join**. It turns out you're already familiar with what an inner join does, and how it works – this is the type of join we've been using in `pandas` all along! In an inner join, we combine every row in our first table with its matching entry in the second table. If a row from either table does not have a match in the other table, it is omitted from the output. \n",
    "\n",
    "<div style=\"text-align: center;\">\n",
    "<img src=\"images/inner.png\" alt='inner' width='800'>\n",
    "</div> \n",
    "\n",
    "In a **cross join**, *all* possible combinations of rows appear in the output table, regardless of whether or not rows share a matching key. Because all rows are joined, even if there is no matching key, it is not necessary to specify what keys to consider in an `ON` statement. A cross join is also known as a cartesian product.\n",
    "\n",
    "<div style=\"text-align: center;\">\n",
    "<img src=\"images/cross.png\" alt='cross' width='800'>\n",
    "</div> \n",
    "\n",
    "Conceptually, we can interpret an inner join as a cross join, followed by removing all rows that do not share a matching key. Notice that the output of the inner join above contains all rows of the cross join example that contain a single color across the entire row.\n",
    "\n",
    "In a **left outer join** (or just **left join**), *all* rows in the left table are kept in the output table. If a row in the right table shares a match with the left table, this row will be kept; otherwise, the rows in the right table are omitted from the output. We can fill in any missing values with `NULL`. Using `LEFT OUTER JOIN` or `LEFT JOIN` would achieve the same result.\n",
    "\n",
    "<div style=\"text-align: center;\">\n",
    "<img src=\"images/left.png\" alt='left' width='800'>\n",
    "</div> \n",
    "\n",
    "A **right outer join** (or just **right join**) keeps all rows in the right table. Rows in the left table are only kept if they share a match in the right table. Again, we can fill in any missing values with `NULL`. Using `RIGHT OUTER JOIN` or `RIGHT JOIN` would achieve the same result.\n",
    "\n",
    "<div style=\"text-align: center;\">\n",
    "<img src=\"images/right.png\" alt='right' width='800'>\n",
    "</div> \n",
    "\n",
    "In a **full outer join**, all rows that have a match between the two tables are joined together. If a row has no match in the second table, then the values of the columns for that second table are filled with `NULL`. In other words, a full outer join performs an inner join *while still keeping* rows that have no match in the other table. This is best understood visually:\n",
    "\n",
    "<div style=\"text-align: center;\">\n",
    "<img src=\"images/full.png\" alt='full' width='800'>\n",
    "</div> \n",
    "\n",
    "Using `FULL OUTER JOIN` or `FULL JOIN` would achieve the same result. We have kept the same output achieved using an inner join, with the addition of partially null rows for entries in `s` and `t` that had no match in the second table. \n",
    "\n",
    "### Aliasing in `JOIN`s\n",
    "\n",
    "When joining tables, we often create aliases for table names (similarly to what we did with column names in the last lecture). We do this as it is typically easier to refer to aliases, especially when we are working with long table names. We can even reference columns using aliased table names!\n",
    "\n",
    "Let's say we want to determine the average rating of various movies. We'll need to `JOIN` the `Title` and `Rating` tables and can create aliases for both tables."
   ]
  },
  {
   "cell_type": "code",
   "execution_count": 22,
   "id": "2f7c2952",
   "metadata": {},
   "outputs": [],
   "source": [
    "%%sql\n",
    "SELECT primaryTitle, averageRating\n",
    "FROM Title AS T INNER JOIN Rating AS R\n",
    "ON T.tconst = R.tconst;"
   ]
  },
  {
   "cell_type": "markdown",
   "id": "754ac36e",
   "metadata": {},
   "source": [
    "Note that the `AS` is actually optional! We can create aliases for our tables even without it, but we usually include it for clarity."
   ]
  },
  {
   "cell_type": "code",
   "execution_count": 23,
   "id": "e66fd0cc",
   "metadata": {},
   "outputs": [],
   "source": [
    "%%sql\n",
    "SELECT primaryTitle, averageRating\n",
    "FROM Title T INNER JOIN Rating R\n",
    "ON T.tconst = R.tconst;"
   ]
  },
  {
   "cell_type": "markdown",
   "id": "70fd6aec",
   "metadata": {},
   "source": [
    "### Common Table Expressions\n",
    "\n",
    "For more sophisticated data problems, the queries can become very complex. Common table expressions (CTEs) allow us to break down these complex queries into more manageable parts. To do so, we create temporary tables corresponding to different aspects of the problem and then reference them in the final query: \n",
    "\n",
    "    WITH \n",
    "    table_name1 AS ( \n",
    "        SELECT ...\n",
    "    ),\n",
    "    table_name2 AS ( \n",
    "        SELECT ...\n",
    "    )\n",
    "    SELECT ... \n",
    "    FROM \n",
    "    table_name1, \n",
    "    table_name2, ...\n",
    "\n",
    "Let's say we want to identify the top 10 action movies that are highly rated (with an average rating greater than 7) and popular (having more than 5000 votes), along with the primary actors who are the most popular. We can use CTEs to break this query down into separate problems. Initially, we can filter to find good action movies and prolific actors separately. This way, in our final join, we only need to change the order."
   ]
  },
  {
   "cell_type": "code",
   "execution_count": 24,
   "id": "32fbc63d",
   "metadata": {},
   "outputs": [],
   "source": [
    "%%sql\n",
    "WITH \n",
    "good_action_movies AS (\n",
    "    SELECT *\n",
    "    FROM Title T JOIN Rating R ON T.tconst = R.tconst  \n",
    "    WHERE genres LIKE '%Action%' AND averageRating > 7 AND numVotes > 5000\n",
    "),\n",
    "prolific_actors AS (\n",
    "    SELECT N.nconst, primaryName, COUNT(*) as numRoles\n",
    "    FROM Name N JOIN Principal P ON N.nconst = P.nconst\n",
    "    WHERE category = 'actor'\n",
    "    GROUP BY N.nconst, primaryName\n",
    ")\n",
    "SELECT primaryTitle, primaryName, numRoles, ROUND(averageRating) AS rating\n",
    "FROM good_action_movies m, prolific_actors a, principal p\n",
    "WHERE p.tconst = m.tconst AND p.nconst = a.nconst\n",
    "ORDER BY rating DESC, numRoles DESC\n",
    "LIMIT 10;"
   ]
  }
 ],
 "metadata": {
  "jupytext": {
   "text_representation": {
    "extension": ".qmd",
    "format_name": "quarto",
    "format_version": "1.0",
    "jupytext_version": "1.16.6"
   }
  },
  "kernelspec": {
   "display_name": "Python 3 (ipykernel)",
   "language": "python",
   "name": "python3"
  },
  "language_info": {
   "codemirror_mode": {
    "name": "ipython",
    "version": 3
   },
   "file_extension": ".py",
   "mimetype": "text/x-python",
   "name": "python",
   "nbconvert_exporter": "python",
   "pygments_lexer": "ipython3",
   "version": "3.12.1"
  }
 },
 "nbformat": 4,
 "nbformat_minor": 5
}
