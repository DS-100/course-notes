{
 "cells": [
  {
   "cell_type": "raw",
   "metadata": {},
   "source": [
    "---\n",
    "title: Pandas III\n",
    "execute:\n",
    "  echo: true\n",
    "format:\n",
    "  html:\n",
    "    code-fold: false\n",
    "    code-tools: true\n",
    "    toc: true\n",
    "    toc-title: Pandas III\n",
    "    page-layout: full\n",
    "    theme:\n",
    "      - cosmo\n",
    "      - cerulean\n",
    "    callout-icon: false\n",
    "---"
   ]
  },
  {
   "cell_type": "markdown",
   "metadata": {},
   "source": [
    "::: {.callout-note collapse=\"false\"}\n",
    "## Learning Outcomes\n",
    "* Perform advanced aggregation using `.groupby()`\n",
    "* Use the `pd.pivot_table` method to contruct a pivot table\n",
    "* Perform simple merges between DataFrames using `pd.merge()`\n",
    ":::\n",
    "\n",
    "Last time, we introduced the concept of aggregating data – we familiarized ourselves with `GroupBy` objects and used them as tools to consolidate and summarize a DataFrame. In this lecture, we will explore some advanced `.groupby` methods to show just how powerful of a resource they can be for understanding our data. We will also introduce other techniques for data aggregation to provide flexibility in how we manipulate our tables. \n",
    "\n",
    "## More on the `.agg()` Function\n",
    "\n",
    "Calling `.agg` has condensed each subframe back into a single row. This gives us our final output: a DataFrame that is now indexed by `\"Year\"`, with a single row for each unique year in the original `babynames` DataFrame.\n",
    "\n",
    "You may be wondering: where did the `\"State\"`, `\"Sex\"`, and `\"Name\"` columns go? Logically, it doesn't make sense to `sum` the string data in these columns (how would we add \"Mary\" + \"Ann\"?). Because of this, `pandas` will simply omit these columns when it performs the aggregation on the DataFrame. Since this happens implicitly, without the user specifying that these columns should be ignored, it's easy to run into troubling situations where columns are removed without the programmer noticing. It is better coding practice to select *only* the columns we care about before performing the aggregation."
   ]
  },
  {
   "cell_type": "code",
   "execution_count": null,
   "metadata": {},
   "outputs": [],
   "source": [
    "#| code-fold: false\n",
    "# Same result, but now we explicitly tell pandas to only consider the \"Count\" column when summing\n",
    "babynames.groupby(\"Year\")[[\"Count\"]].agg(sum).head(5)"
   ]
  },
  {
   "cell_type": "markdown",
   "metadata": {},
   "source": [
    "There are many different aggregations that can be applied to the grouped data. The primary requirement is that an aggregation function must:\n",
    "\n",
    "* Take in a `Series` of data (a single column of the grouped subframe)\n",
    "* Return a single value that aggregates this `Series`\n",
    "\n",
    "Because of this fairly broad requirement, `pandas` offers many ways of computing an aggregation.\n",
    "\n",
    "**In-built** Python operations – such as `sum`, `max`, and `min` – are automatically recognized by `pandas`."
   ]
  },
  {
   "cell_type": "code",
   "execution_count": null,
   "metadata": {},
   "outputs": [],
   "source": [
    "#| code-fold: false\n",
    "# What is the maximum count for each name in any year?\n",
    "babynames.groupby(\"Name\")[[\"Count\"]].agg(max).head()"
   ]
  },
  {
   "cell_type": "code",
   "execution_count": null,
   "metadata": {},
   "outputs": [],
   "source": [
    "# What is the minimum count for each name in any year?\n",
    "babynames.groupby(\"Name\")[[\"Count\"]].agg(min).head()"
   ]
  },
  {
   "cell_type": "markdown",
   "metadata": {},
   "source": [
    "As mentioned previously, functions from the **`NumPy` library**, such as `np.mean`, `np.max`, `np.min`, and `np.sum`, are also fair game in `pandas`."
   ]
  },
  {
   "cell_type": "code",
   "execution_count": null,
   "metadata": {},
   "outputs": [],
   "source": [
    "#| code-fold: false\n",
    "# What is the average count for each name across all years?\n",
    "babynames.groupby(\"Name\")[[\"Count\"]].agg(np.mean).head()"
   ]
  },
  {
   "cell_type": "markdown",
   "metadata": {},
   "source": [
    "`pandas` also offers a number of in-built functions. Functions that are native to `pandas` can be referenced using their string name within a call to `.agg`. Some examples include:\n",
    "\n",
    "* `.agg(\"sum\")`\n",
    "* `.agg(\"max\")`\n",
    "* `.agg(\"min\")`\n",
    "* `.agg(\"mean\")`\n",
    "* `.agg(\"first\")`\n",
    "* `.agg(\"last\")`\n",
    "\n",
    "The latter two entries in this list – `\"first\"` and `\"last\"` – are unique to `pandas`. They return the first or last entry in a subframe column. Why might this be useful? Consider a case where *multiple* columns in a group share identical information. To represent this information in the grouped output, we can simply grab the first or last entry, which we know will be identical to all other entries.\n",
    "\n",
    "Let's illustrate this with an example. Say we add a new column to `babynames` that contains the first letter of each name. "
   ]
  },
  {
   "cell_type": "code",
   "execution_count": null,
   "metadata": {},
   "outputs": [],
   "source": [
    "#| code-fold: false\n",
    "# Imagine we had an additional column, \"First Letter\". We'll explain this code next week\n",
    "babynames[\"First Letter\"] = babynames[\"Name\"].str[0]\n",
    "\n",
    "# We construct a simplified DataFrame containing just a subset of columns\n",
    "babynames_new = babynames[[\"Name\", \"First Letter\", \"Year\"]]\n",
    "babynames_new.head()"
   ]
  },
  {
   "cell_type": "markdown",
   "metadata": {},
   "source": [
    "If we form groups for each name in the dataset, `\"First Letter\"` will be the same for all members of the group. This means that if we simply select the first entry for `\"First Letter\"` in the group, we'll represent all data in that group. \n",
    "\n",
    "We can use a dictionary to apply different aggregation functions to each column during grouping.\n",
    "\n",
    "![Aggregating using \"first\"](images/first.png)"
   ]
  },
  {
   "cell_type": "code",
   "execution_count": null,
   "metadata": {},
   "outputs": [],
   "source": [
    "#| code-fold: false\n",
    "babynames_new.groupby(\"Name\").agg({\"First Letter\":\"first\", \"Year\":\"max\"}).head()"
   ]
  },
  {
   "cell_type": "markdown",
   "metadata": {},
   "source": [
    "Some aggregation functions are common enough that `pandas` allows them to be called directly, without the explicit use of `.agg`."
   ]
  },
  {
   "cell_type": "code",
   "execution_count": null,
   "metadata": {},
   "outputs": [],
   "source": [
    "#| code-fold: false\n",
    "babynames.groupby(\"Name\")[[\"Count\"]].mean().head()"
   ]
  },
  {
   "cell_type": "markdown",
   "metadata": {},
   "source": [
    "We can also define aggregation functions of our own! This can be done using either a `def` or `lambda` statement. Again, the condition for a custom aggregation function is that it must take in a `Series` and output a single scalar value."
   ]
  },
  {
   "cell_type": "code",
   "execution_count": null,
   "metadata": {},
   "outputs": [],
   "source": [
    "#| code-fold: false\n",
    "def ratio_to_peak(series):\n",
    "    return series.iloc[-1]/max(series)\n",
    "\n",
    "babynames.groupby(\"Name\")[[\"Year\", \"Count\"]].agg(ratio_to_peak)"
   ]
  },
  {
   "cell_type": "code",
   "execution_count": null,
   "metadata": {},
   "outputs": [],
   "source": [
    "#| code-fold: false\n",
    "# Alternatively, using lambda\n",
    "babynames.groupby(\"Name\")[[\"Year\", \"Count\"]].agg(lambda s: s.iloc[-1]/max(s))"
   ]
  },
  {
   "cell_type": "markdown",
   "metadata": {},
   "source": [
    "## `GroupBy()`, Continued\n",
    "\n",
    "As we learned last lecture, a `groupby` operation involves some combination of **splitting a DataFrame into grouped subframes**, **applying a function**, and **combining the results**. \n",
    "\n",
    "For some arbitrary DataFrame `df` below, the code `df.groupby(\"year\").agg(sum)` does the following:\n",
    "\n",
    "- Organizes all rows with the same year into a subframe for that year.\n",
    "- Creates a new DataFrame with one row representing each subframe year.\n",
    "- Combines all integer rows in each subframe using the `sum` function.\n",
    "\n",
    "<img src=\"images/groupby_demo.png\" alt='groupby_demo' width='600'>\n",
    "\n",
    "### Aggregation with `lambda` Functions\n",
    "\n",
    "Throughout this note, we'll work with the `elections` DataFrame."
   ]
  },
  {
   "cell_type": "code",
   "execution_count": null,
   "metadata": {},
   "outputs": [],
   "source": [
    "#| code-fold: true\n",
    "\n",
    "import pandas as pd\n",
    "\n",
    "elections = pd.read_csv(\"data/elections.csv\")\n",
    "elections.head(5)"
   ]
  },
  {
   "cell_type": "markdown",
   "metadata": {},
   "source": [
    "What if we wish to aggregate our DataFrame using a non-standard function – for example, a function of our own design? We can do so by combining `.agg` with `lambda` expressions.\n",
    "\n",
    "Let's first consider a puzzle to jog our memory. We will attempt to find the `Candidate` from each `Party` with the highest `%` of votes. \n",
    "\n",
    "A naive approach may be to group by the `Party` column and aggregate by the maximum."
   ]
  },
  {
   "cell_type": "code",
   "execution_count": null,
   "metadata": {},
   "outputs": [],
   "source": [
    "elections.groupby(\"Party\").agg(max).head(10)"
   ]
  },
  {
   "cell_type": "markdown",
   "metadata": {},
   "source": [
    "This approach is clearly wrong – the DataFrame claims that Woodrow Wilson won the presidency in 2020.\n",
    "\n",
    "Why is this happening? Here, the `max` aggregation function is taken over every column *independently*. Among Democrats, `max` is computing:\n",
    "\n",
    "- The most recent `Year` a Democratic candidate ran for president (2020)\n",
    "- The `Candidate` with the alphabetically \"largest\" name (\"Woodrow Wilson\")\n",
    "- The `Result` with the alphabetically \"largest\" outcome (\"win\")\n",
    "\n",
    "Instead, let's try a different approach. We will:\n",
    "\n",
    "1. Sort the DataFrame so that rows are in descending order of `%`\n",
    "2. Group by `Party` and select the first row of each groupby object\n",
    "\n",
    "While it may seem unintuitive, sorting `elections` by descending order of `%` is extremely helpful. If we then group by `Party`, the first row of each groupby object will contain information about the `Candidate` with the highest voter `%`."
   ]
  },
  {
   "cell_type": "code",
   "execution_count": null,
   "metadata": {},
   "outputs": [],
   "source": [
    "elections_sorted_by_percent = elections.sort_values(\"%\", ascending=False)\n",
    "elections_sorted_by_percent.head(5)"
   ]
  },
  {
   "cell_type": "code",
   "execution_count": null,
   "metadata": {},
   "outputs": [],
   "source": [
    "elections_sorted_by_percent.groupby(\"Party\").agg(lambda x : x.iloc[0]).head(10)\n",
    "\n",
    "# Equivalent to the below code\n",
    "# elections_sorted_by_percent.groupby(\"Party\").agg('first').head(10)"
   ]
  },
  {
   "cell_type": "markdown",
   "metadata": {},
   "source": [
    "Notice how our code correctly determines that Lyndon Johnson from the Democratic Party has the highest voter `%`.\n",
    "\n",
    "More generally, `lambda` functions are used to design custom aggregation functions that aren't pre-defined by Python. The input parameter `x` to the `lambda` function is a `GroupBy` object. Therefore, it should make sense why `lambda x : x.iloc[0]` selects the first row in each groupby object.\n",
    "\n",
    "\n",
    "In fact, there's a few different ways to approach this problem. Each approach has different tradeoffs in terms of readability, performance, memory consumption, complexity, etc. We've given a few examples below. \n",
    "\n",
    "**Note**: Understanding these alternative solutions is not required. They are given to demonstrate the vast number of problem-solving approaches in `pandas`."
   ]
  },
  {
   "cell_type": "code",
   "execution_count": null,
   "metadata": {},
   "outputs": [],
   "source": [
    "# Using the idxmax function\n",
    "best_per_party = elections.loc[elections.groupby('Party')['%'].idxmax()]\n",
    "best_per_party.head(5)"
   ]
  },
  {
   "cell_type": "code",
   "execution_count": null,
   "metadata": {},
   "outputs": [],
   "source": [
    "# Using the .drop_duplicates function\n",
    "best_per_party2 = elections.sort_values('%').drop_duplicates(['Party'], keep='last')\n",
    "best_per_party2.head(5)"
   ]
  },
  {
   "cell_type": "markdown",
   "metadata": {},
   "source": [
    "### Other `GroupBy` Features\n",
    "\n",
    "There are many aggregation methods we can use with `.agg`. Some useful options are:\n",
    "\n",
    "* [`.max`](https://pandas.pydata.org/pandas-docs/stable/reference/api/pandas.core.groupby.GroupBy.max.html): creates a new DataFrame with the maximum value of each group\n",
    "* [`.mean`](https://pandas.pydata.org/pandas-docs/stable/reference/api/pandas.core.groupby.GroupBy.mean.html): creates a new DataFrame with the mean value of each group\n",
    "* [`.size`](https://pandas.pydata.org/pandas-docs/stable/reference/api/pandas.core.groupby.GroupBy.size.html): creates a new Series with the number of entries in each group\n",
    "\n",
    "In fact, these (and other) aggregation functions are so common that `pandas` allows for writing shorthand. Instead of explicitly stating the use of `.agg`, we can call the function directly on the `GroupBy` object.\n",
    "\n",
    "For example, the following are equivalent:\n",
    "\n",
    "- `elections.groupby(\"Candidate\").agg(mean)` \n",
    "- `elections.groupby(\"Candidate\").mean()`\n",
    "\n",
    "### The `groupby.filter()` function\n",
    "\n",
    "Another common use for `GroupBy` objects is to filter data by group. \n",
    "\n",
    "`groupby.filter` takes an argument $\\text{f}$, where $\\text{f}$ is a function that:\n",
    "\n",
    "- Takes a `GroupBy` object as input\n",
    "- Returns a single `True` or `False` for the entire subframe\n",
    "\n",
    "`GroupBy` objects that correspond to `True` are returned in the final result, whereas those with a `False` value are not. Importantly, `groupby.filter` is different from `groupby.agg` in that the *entire* subframe is returned in the final DataFrame, not just a single row.\n",
    "\n",
    "To illustrate how this happens, consider the following `.filter` function applied on some arbitrary data. Say we want to identify \"tight\" election years – that is, we want to find all rows that correspond to elections years where all candidates in that year won a similar portion of the total vote. Specifically, let's find all rows corresponding to a year where no candidate won more than 45% of the total vote. \n",
    "\n",
    "An equivalent way of framing this goal is to say: \n",
    "\n",
    "- Find the years where the maximum `%` in that year is less than 45%\n",
    "- Return all DataFrame rows that correspond to these years\n",
    "\n",
    "For each year, we need to find the maximum `%` among *all* rows for that year. If this maximum `%` is lower than 45%, we will tell `pandas` to keep all rows corresponding to that year. "
   ]
  },
  {
   "cell_type": "code",
   "execution_count": null,
   "metadata": {},
   "outputs": [],
   "source": [
    "elections.groupby(\"Year\").filter(lambda sf: sf[\"%\"].max() < 45).head(9)"
   ]
  },
  {
   "cell_type": "markdown",
   "metadata": {},
   "source": [
    "What's going on here? In this example, we've defined our filtering function, $\\text{f}$, to be `lambda sf: sf[\"%\"].max() < 45`. This filtering function will find the maximum `\"%\"` value among all entries in the grouped subframe, which we call `sf`. If the maximum value is less than 45, then the filter function will return `True` and all rows in that grouped subframe will appear in the final output DataFrame. \n",
    "\n",
    "Examine the DataFrame above. Notice how, in this preview of the first 9 rows, all entries from the years 1860 and 1912 appear. This means that in 1860 and 1912, no candidate in that year won more than 45% of the total vote. \n",
    "\n",
    "You may ask: how is the `groupby.filter` procedure different to the boolean filtering we've seen previously? Boolean filtering considers *individual* rows when applying a boolean condition. For example, the code `elections[elections[\"%\"] < 45]` will check the `\"%\"` value of every single row in `elections`; if it is less than 45, then that row will be kept in the output. `groupby.filter`, in contrast, applies a boolean condition *across* all rows in a group. If not all rows in that group satisfy the condition specified by the filter, the entire group will be discarded in the output. \n",
    "\n",
    "\n",
    "## Aggregating Data with Pivot Tables\n",
    "\n",
    "We know now that `.groupby` gives us the ability to group and aggregate data across our DataFrame. The examples above formed groups using just one column in the DataFrame. It's possible to group by multiple columns at once by passing in a list of columns names to `.groupby`. \n",
    "\n",
    "Let's consider the `babynames` dataset from last lecture. In this problem, we will find the total number of baby names associated with each sex for each year. To do this, we'll group by *both* the `\"Year\"` and `\"Sex\"` columns."
   ]
  },
  {
   "cell_type": "code",
   "execution_count": null,
   "metadata": {},
   "outputs": [],
   "source": [
    "#| code-fold: true\n",
    "import urllib.request\n",
    "import os.path\n",
    "\n",
    "# Download data from the web directly\n",
    "data_url = \"https://www.ssa.gov/oact/babynames/names.zip\"\n",
    "local_filename = \"data/babynames.zip\"\n",
    "if not os.path.exists(local_filename): # if the data exists don't download again\n",
    "    with urllib.request.urlopen(data_url) as resp, open(local_filename, 'wb') as f:\n",
    "        f.write(resp.read())\n",
    "\n",
    "        \n",
    "# Load data without unzipping the file\n",
    "import zipfile\n",
    "babynames = [] \n",
    "with zipfile.ZipFile(local_filename, \"r\") as zf:\n",
    "    data_files = [f for f in zf.filelist if f.filename[-3:] == \"txt\"]\n",
    "    def extract_year_from_filename(fn):\n",
    "        return int(fn[3:7])\n",
    "    for f in data_files:\n",
    "        year = extract_year_from_filename(f.filename)\n",
    "        with zf.open(f) as fp:\n",
    "            df = pd.read_csv(fp, names=[\"Name\", \"Sex\", \"Count\"])\n",
    "            df[\"Year\"] = year\n",
    "            babynames.append(df)\n",
    "babynames = pd.concat(babynames)"
   ]
  },
  {
   "cell_type": "code",
   "execution_count": null,
   "metadata": {},
   "outputs": [],
   "source": [
    "babynames.head()"
   ]
  },
  {
   "cell_type": "code",
   "execution_count": null,
   "metadata": {},
   "outputs": [],
   "source": [
    "#| code-fold: false\n",
    "# Find the total number of baby names associated with each sex for each year in the data\n",
    "babynames.groupby([\"Year\", \"Sex\"])[[\"Count\"]].agg(sum).head(6)"
   ]
  },
  {
   "cell_type": "markdown",
   "metadata": {},
   "source": [
    "Notice that both `\"Year\"` and `\"Sex\"` serve as the index of the DataFrame (they are both rendered in bold). We've created a *multindex* where two different index values, the year and sex, are used to uniquely identify each row. \n",
    "\n",
    "This isn't the most intuitive way of representing this data – and, because multindexes have multiple dimensions in their index, they can often be difficult to use. \n",
    "\n",
    "Another strategy to aggregate across two columns is to create a pivot table. You saw these back in [Data 8](https://inferentialthinking.com/chapters/08/3/Cross-Classifying_by_More_than_One_Variable.html#pivot-tables-rearranging-the-output-of-group). One set of values is used to create the index of the table; another set is used to define the column names. The values contained in each cell of the table correspond to the aggregated data for each index-column pair.\n",
    "\n",
    "The best way to understand pivot tables is to see one in action. Let's return to our original goal of summing the total number of names associated with each combination of year and sex. We'll call the `pandas` [`.pivot_table`](https://pandas.pydata.org/pandas-docs/stable/reference/api/pandas.pivot_table.html) method to create a new table."
   ]
  },
  {
   "cell_type": "code",
   "execution_count": null,
   "metadata": {},
   "outputs": [],
   "source": [
    "#| code-fold: false\n",
    "# The `pivot_table` method is used to generate a Pandas pivot table\n",
    "import numpy as np\n",
    "babynames.pivot_table(index = \"Year\", columns = \"Sex\", values = \"Count\", aggfunc = np.sum).head(5)"
   ]
  },
  {
   "cell_type": "markdown",
   "metadata": {},
   "source": [
    "Looks a lot better! Now, our DataFrame is structured with clear index-column combinations. Each entry in the pivot table represents the summed count of names for a given combination of `\"Year\"` and `\"Sex\"`.\n",
    "\n",
    "Let's take a closer look at the code implemented above. \n",
    "\n",
    "* `index = \"Year\"` specifies the column name in the original DataFrame that should be used as the index of the pivot table\n",
    "* `columns = \"Sex\"` specifies the column name in the original DataFrame that should be used to generate the columns of the pivot table\n",
    "* `values = \"Count\"` indicates what values from the original DataFrame should be used to populate the entry for each index-column combination\n",
    "* `aggfunc = np.sum` tells `pandas` what function to use when aggregating the data specified by `values`. Here, we are `sum`ming the name counts for each pair of `\"Year\"` and `\"Sex\"`\n",
    "\n",
    "We can even include multiple values in the index or columns of our pivot tables."
   ]
  },
  {
   "cell_type": "code",
   "execution_count": null,
   "metadata": {},
   "outputs": [],
   "source": [
    "babynames_pivot = babynames.pivot_table(\n",
    "    index=\"Year\",     # the rows (turned into index)\n",
    "    columns=\"Sex\",    # the column values\n",
    "    values=[\"Count\", \"Name\"], \n",
    "    aggfunc=max,   # group operation\n",
    ")\n",
    "babynames_pivot.head(6)"
   ]
  },
  {
   "cell_type": "markdown",
   "metadata": {},
   "source": [
    "## Joining Tables \n",
    "\n",
    "When working on data science projects, we're unlikely to have absolutely all the data we want contained in a single DataFrame – a real-world data scientist needs to grapple with data coming from multiple sources. If we have access to multiple datasets with related information, we can join two or more tables into a single DataFrame. \n",
    "\n",
    "To put this into practice, we'll revisit the `elections` dataset."
   ]
  },
  {
   "cell_type": "code",
   "execution_count": null,
   "metadata": {},
   "outputs": [],
   "source": [
    "elections.head(5)"
   ]
  },
  {
   "cell_type": "markdown",
   "metadata": {},
   "source": [
    "Say we want to understand the 2020 popularity of the names of each presidential candidate. To do this, we'll need the combined data of `babynames` *and* `elections`. \n",
    "\n",
    "We'll start by creating a new column containing the first name of each presidential candidate. This will help us join each name in `elections` to the corresponding name data in `babynames`. "
   ]
  },
  {
   "cell_type": "code",
   "execution_count": null,
   "metadata": {},
   "outputs": [],
   "source": [
    "#| code-fold: false\n",
    "# This `str` operation splits each candidate's full name at each \n",
    "# blank space, then takes just the candidiate's first name\n",
    "elections[\"First Name\"] = elections[\"Candidate\"].str.split().str[0]\n",
    "elections.head(5)"
   ]
  },
  {
   "cell_type": "code",
   "execution_count": null,
   "metadata": {},
   "outputs": [],
   "source": [
    "# Here, we'll only consider `babynames` data from 2020\n",
    "babynames_2020 = babynames[babynames[\"Year\"]==2020]\n",
    "babynames_2020.head()"
   ]
  },
  {
   "cell_type": "markdown",
   "metadata": {},
   "source": [
    "Now, we're ready to join the two tables. [`pd.merge`](https://pandas.pydata.org/docs/reference/api/pandas.DataFrame.merge.html) is the `pandas` method used to join DataFrames together. The `left` and `right` parameters are used to specify the DataFrames to be joined. The `left_on` and `right_on` parameters are assigned to the string names of the columns to be used when performing the join. These two `on` parameters tell `pandas` what values should act as pairing keys to determine which rows to merge across the DataFrames. We'll talk more about this idea of a pairing key next lecture."
   ]
  },
  {
   "cell_type": "code",
   "execution_count": null,
   "metadata": {
    "tags": []
   },
   "outputs": [],
   "source": [
    "merged = pd.merge(left = elections, right = babynames_2020, \\\n",
    "                  left_on = \"First Name\", right_on = \"Name\")\n",
    "merged.head()\n",
    "# Notice that pandas automatically specifies `Year_x` and `Year_y` \n",
    "# when both merged DataFrames have the same column name to avoid confusion"
   ]
  }
 ],
 "metadata": {
  "kernelspec": {
   "display_name": "Python 3 (ipykernel)",
   "language": "python",
   "name": "python3"
  },
  "language_info": {
   "codemirror_mode": {
    "name": "ipython",
    "version": 3
   },
   "file_extension": ".py",
   "mimetype": "text/x-python",
   "name": "python",
   "nbconvert_exporter": "python",
   "pygments_lexer": "ipython3",
   "version": "3.9.16"
  }
 },
 "nbformat": 4,
 "nbformat_minor": 4
}
