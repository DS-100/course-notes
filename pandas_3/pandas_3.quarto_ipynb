{
  "cells": [
    {
      "cell_type": "markdown",
      "metadata": {},
      "source": [
        "---\n",
        "title: Pandas III\n",
        "execute:\n",
        "  echo: true\n",
        "  enabled: true\n",
        "format:\n",
        "  html:\n",
        "    code-fold: false\n",
        "    code-tools: true\n",
        "    toc: true\n",
        "    toc-title: Pandas III\n",
        "    page-layout: full\n",
        "    theme:\n",
        "      - cosmo\n",
        "      - cerulean\n",
        "    callout-icon: false\n",
        "jupyter:\n",
        "  jupytext:\n",
        "    text_representation:\n",
        "      extension: .qmd\n",
        "      format_name: quarto\n",
        "      format_version: '1.0'\n",
        "      jupytext_version: 1.16.1\n",
        "  kernelspec:\n",
        "    display_name: Python 3 (ipykernel)\n",
        "    language: python\n",
        "    name: python3\n",
        "---\n",
        "\n",
        "::: {.callout-note collapse=\"false\"}\n",
        "## Learning Outcomes\n",
        "\n",
        "* Perform advanced aggregation using `.groupby()`\n",
        "* Use the `pd.pivot_table` method to construct a pivot table\n",
        "* Perform simple merges between DataFrames using `pd.merge()`\n",
        ":::\n",
        "\n",
        "We will introduce the concept of aggregating data – we will familiarize ourselves with `GroupBy` objects and used them as tools to consolidate and summarize a`DataFrame`. In this lecture, we will explore working with the different aggregation functions and dive into some advanced `.groupby` methods to show just how powerful of a resource they can be for understanding our data. We will also introduce other techniques for data aggregation to provide flexibility in how we manipulate our tables. \n",
        "\n",
        "First, let's load `babynames` dataset."
      ],
      "id": "1c374cd2"
    },
    {
      "cell_type": "code",
      "metadata": {},
      "source": [
        "#| code-fold: true\n",
        "# This code pulls census data and loads it into a DataFrame\n",
        "# We won't cover it explicitly in this class, but you are welcome to explore it on your own\n",
        "import pandas as pd\n",
        "import numpy as np\n",
        "import urllib.request\n",
        "import os.path\n",
        "import zipfile\n",
        "\n",
        "data_url = \"https://www.ssa.gov/oact/babynames/state/namesbystate.zip\"\n",
        "local_filename = \"data/babynamesbystate.zip\"\n",
        "if not os.path.exists(local_filename): # If the data exists don't download again\n",
        "    with urllib.request.urlopen(data_url) as resp, open(local_filename, 'wb') as f:\n",
        "        f.write(resp.read())\n",
        "\n",
        "zf = zipfile.ZipFile(local_filename, 'r')\n",
        "\n",
        "ca_name = 'STATE.CA.TXT'\n",
        "field_names = ['State', 'Sex', 'Year', 'Name', 'Count']\n",
        "with zf.open(ca_name) as fh:\n",
        "    babynames = pd.read_csv(fh, header=None, names=field_names)\n",
        "\n",
        "babynames.head()"
      ],
      "id": "6c022d11",
      "execution_count": null,
      "outputs": []
    },
    {
      "cell_type": "markdown",
      "metadata": {},
      "source": [
        "## Aggregating Data with `.groupby`\n",
        "\n",
        "Up until this point, we have been working with individual rows of `DataFrame`s. As data scientists, we often wish to investigate trends across a larger *subset* of our data. For example, we may want to compute some summary statistic (the mean, median, sum, etc.) for a group of rows in our `DataFrame`. To do this, we'll use `pandas` `GroupBy` objects. Our goal is to group together rows that fall under the same category and perform an operation that aggregates across all rows in the category. \n",
        "\n",
        "Let's say we wanted to aggregate all rows in `babynames` for a given year. "
      ],
      "id": "fa57a6fe"
    },
    {
      "cell_type": "code",
      "metadata": {},
      "source": [
        "#| code-fold: false\n",
        "babynames.groupby(\"Year\")"
      ],
      "id": "e187e96d",
      "execution_count": null,
      "outputs": []
    },
    {
      "cell_type": "markdown",
      "metadata": {},
      "source": [
        "What does this strange output mean? Calling `.groupby` [(documentation)](https://pandas.pydata.org/pandas-docs/stable/reference/api/pandas.DataFrame.groupby.html) has generated a `GroupBy` object. You can imagine this as a set of \"mini\" sub-`DataFrame`s, where each subframe contains all of the rows from `babynames` that correspond to a particular year. \n",
        "\n",
        "The diagram below shows a simplified view of `babynames` to help illustrate this idea.\n",
        "\n",
        "<center><img src = \"images/gb.png\" width = \"600\"></img></a></center>\n",
        "\n",
        "We can't work with a `GroupBy` object directly – that is why you saw that strange output earlier rather than a standard view of a `DataFrame`. To actually manipulate values within these \"mini\" `DataFrame`s, we'll need to call an *aggregation method*. This is a method that tells `pandas` how to aggregate the values within the `GroupBy` object. Once the aggregation is applied, `pandas` will return a normal (now grouped) `DataFrame`.\n",
        "\n",
        "The first aggregation method we'll consider is `.agg`. The `.agg` method takes in a function as its argument; this function is then applied to each column of a \"mini\" grouped DataFrame. We end up with a new `DataFrame` with one aggregated row per subframe. Let's see this in action by finding the `sum` of all counts for each year in `babynames` – this is equivalent to finding the number of babies born in each year. "
      ],
      "id": "5a80b672"
    },
    {
      "cell_type": "code",
      "metadata": {},
      "source": [
        "#| code-fold: false\n",
        "babynames[[\"Year\", \"Count\"]].groupby(\"Year\").agg(\"sum\").head(5)"
      ],
      "id": "e8780ec9",
      "execution_count": null,
      "outputs": []
    },
    {
      "cell_type": "markdown",
      "metadata": {},
      "source": [
        "We can relate this back to the diagram we used above. Remember that the diagram uses a simplified version of `babynames`, which is why we see smaller values for the summed counts.\n",
        "\n",
        "![Performing an aggregation](images/agg.png)\n",
        "\n",
        "Calling `.agg` has condensed each subframe back into a single row. This gives us our final output: a `DataFrame` that is now indexed by `\"Year\"`, with a single row for each unique year in the original `babynames` DataFrame.\n",
        "\n",
        "There are many different aggregation functions we can use, all of which are useful in different applications."
      ],
      "id": "1a54d01c"
    },
    {
      "cell_type": "code",
      "metadata": {},
      "source": [
        "#| code-fold: false\n",
        "babynames[[\"Year\", \"Count\"]].groupby(\"Year\").agg(\"min\").head(5)"
      ],
      "id": "25b92905",
      "execution_count": null,
      "outputs": []
    },
    {
      "cell_type": "code",
      "metadata": {},
      "source": [
        "#| code-fold: false\n",
        "babynames[[\"Year\", \"Count\"]].groupby(\"Year\").agg(\"max\").head(5)"
      ],
      "id": "f7c3855c",
      "execution_count": null,
      "outputs": []
    },
    {
      "cell_type": "code",
      "metadata": {},
      "source": [
        "#| code-fold: false\n",
        "# Same result, but now we explicitly tell pandas to only consider the \"Count\" column when summing\n",
        "babynames.groupby(\"Year\")[[\"Count\"]].agg(\"sum\").head(5)"
      ],
      "id": "e05b2c5d",
      "execution_count": null,
      "outputs": []
    },
    {
      "cell_type": "markdown",
      "metadata": {},
      "source": [
        "There are many different aggregations that can be applied to the grouped data. The primary requirement is that an aggregation function must:\n",
        "\n",
        "* Take in a `Series` of data (a single column of the grouped subframe).\n",
        "* Return a single value that aggregates this `Series`.\n",
        "\n",
        "\n",
        "### Aggregation Functions\n",
        "\n",
        "Because of this fairly broad requirement, `pandas` offers many ways of computing an aggregation.\n",
        "\n",
        "**In-built** Python operations – such as `sum`, `max`, and `min` – are automatically recognized by `pandas`."
      ],
      "id": "aa3b57fe"
    },
    {
      "cell_type": "code",
      "metadata": {},
      "source": [
        "# What is the minimum count for each name in any year?\n",
        "babynames.groupby(\"Name\")[[\"Count\"]].agg(\"min\").head()"
      ],
      "id": "338eac04",
      "execution_count": null,
      "outputs": []
    },
    {
      "cell_type": "code",
      "metadata": {},
      "source": [
        "# What is the largest single-year count of each name?\n",
        "babynames.groupby(\"Name\")[[\"Count\"]].agg(\"max\").head()"
      ],
      "id": "c908f9c6",
      "execution_count": null,
      "outputs": []
    },
    {
      "cell_type": "markdown",
      "metadata": {},
      "source": [
        "As mentioned previously, functions from the `NumPy` library, such as `np.mean`, `np.max`, `np.min`, and `np.sum`, are also fair game in `pandas`."
      ],
      "id": "da687fca"
    },
    {
      "cell_type": "code",
      "metadata": {},
      "source": [
        "#| code-fold: false\n",
        "# What is the average count for each name across all years?\n",
        "babynames.groupby(\"Name\")[[\"Count\"]].agg(\"mean\").head()"
      ],
      "id": "e122604f",
      "execution_count": null,
      "outputs": []
    },
    {
      "cell_type": "markdown",
      "metadata": {},
      "source": [
        "`pandas` also offers a number of in-built functions. Functions that are native to `pandas` can be referenced using their string name within a call to `.agg`. Some examples include:\n",
        "\n",
        "* `.agg(\"sum\")`\n",
        "* `.agg(\"max\")`\n",
        "* `.agg(\"min\")`\n",
        "* `.agg(\"mean\")`\n",
        "* `.agg(\"first\")`\n",
        "* `.agg(\"last\")`\n",
        "\n",
        "The latter two entries in this list – `\"first\"` and `\"last\"` – are unique to `pandas`. They return the first or last entry in a subframe column. Why might this be useful? Consider a case where *multiple* columns in a group share identical information. To represent this information in the grouped output, we can simply grab the first or last entry, which we know will be identical to all other entries.\n",
        "\n",
        "Let's illustrate this with an example. Say we add a new column to `babynames` that contains the first letter of each name. "
      ],
      "id": "ecbd4a0e"
    },
    {
      "cell_type": "code",
      "metadata": {},
      "source": [
        "#| code-fold: false\n",
        "# Imagine we had an additional column, \"First Letter\". We'll explain this code next week\n",
        "babynames[\"First Letter\"] = babynames[\"Name\"].str[0]\n",
        "\n",
        "# We construct a simplified DataFrame containing just a subset of columns\n",
        "babynames_new = babynames[[\"Name\", \"First Letter\", \"Year\"]]\n",
        "babynames_new.head()"
      ],
      "id": "ecee9c63",
      "execution_count": null,
      "outputs": []
    },
    {
      "cell_type": "markdown",
      "metadata": {},
      "source": [
        "If we form groups for each name in the dataset, `\"First Letter\"` will be the same for all members of the group. This means that if we simply select the first entry for `\"First Letter\"` in the group, we'll represent all data in that group. \n",
        "\n",
        "We can use a dictionary to apply different aggregation functions to each column during grouping.\n",
        "\n",
        "![Aggregating using \"first\"](images/first.png)"
      ],
      "id": "d6c92101"
    },
    {
      "cell_type": "code",
      "metadata": {},
      "source": [
        "#| code-fold: false\n",
        "babynames_new.groupby(\"Name\").agg({\"First Letter\":\"first\", \"Year\":\"max\"}).head()"
      ],
      "id": "2c73530a",
      "execution_count": null,
      "outputs": []
    },
    {
      "cell_type": "markdown",
      "metadata": {},
      "source": [
        "### Plotting Birth Counts\n",
        "\n",
        "Let's use `.agg` to find the total number of babies born in each year. Recall that using `.agg` with `.groupby()` follows the format: `df.groupby(column_name).agg(aggregation_function)`. The line of code below gives us the total number of babies born in each year."
      ],
      "id": "4390397d"
    },
    {
      "cell_type": "code",
      "metadata": {},
      "source": [
        "#| code-fold: true\n",
        "babynames.groupby(\"Year\")[[\"Count\"]].agg(sum).head(5)\n",
        "# Alternative 1\n",
        "# babynames.groupby(\"Year\")[[\"Count\"]].sum()\n",
        "# Alternative 2\n",
        "# babynames.groupby(\"Year\").sum(numeric_only=True)"
      ],
      "id": "596386e6",
      "execution_count": null,
      "outputs": []
    },
    {
      "cell_type": "markdown",
      "metadata": {},
      "source": [
        "Here's an illustration of the process: \n",
        "\n",
        "<img src=\"images/aggregation.png\" alt='aggregation' width='600'>\n",
        "\n",
        "Plotting the `Dataframe` we obtain tells an interesting story."
      ],
      "id": "e488ee4a"
    },
    {
      "cell_type": "code",
      "metadata": {},
      "source": [
        "#| code-fold: true\n",
        "import plotly.express as px\n",
        "puzzle2 = babynames.groupby(\"Year\")[[\"Count\"]].agg(\"sum\")\n",
        "px.line(puzzle2, y = \"Count\")"
      ],
      "id": "40f4ab2c",
      "execution_count": null,
      "outputs": []
    },
    {
      "cell_type": "markdown",
      "metadata": {},
      "source": [
        "**A word of warning**: we made an enormous assumption when we decided to use this dataset to estimate birth rate. According to [this article from the Legistlative Analyst Office](https://lao.ca.gov/LAOEconTax/Article/Detail/691), the true number of babies born in California in 2020 was 421,275. However, our plot shows 362,882 babies —— what happened? \n",
        "\n",
        "### Summary of the `.groupby()` Function\n",
        "\n",
        "A `groupby` operation involves some combination of **splitting a `DataFrame` into grouped subframes**, **applying a function**, and **combining the results**. \n",
        "\n",
        "For some arbitrary `DataFrame` `df` below, the code `df.groupby(\"year\").agg(sum)` does the following:\n",
        "\n",
        "- **Splits** the `DataFrame` into sub-`DataFrame`s with rows belonging to the same year.\n",
        "- **Applies** the `sum` function to each column of each sub-`DataFrame`.\n",
        "- **Combines** the results of `sum` into a single `DataFrame`, indexed by `year`.\n",
        "\n",
        "<img src=\"images/groupby_demo.png\" alt='groupby_demo' width='600'>\n",
        "\n",
        "### Revisiting the `.agg()` Function\n",
        "\n",
        "`.agg()` can take in any function that aggregates several values into one summary value. Some commonly-used aggregation functions can even be called directly, without explicit use of `.agg()`. For example, we can call `.mean()` on `.groupby()`: \n",
        "    \n",
        "    babynames.groupby(\"Year\").mean().head()\n",
        "\n",
        "We can now put this all into practice. Say we want to find the baby name with sex \"F\" that has fallen in popularity the most in California. To calculate this, we can first create a metric: \"Ratio to Peak\" (RTP). The RTP is the ratio of babies born with a given name in 2022 to the *maximum* number of babies born with the name in *any* year. \n",
        "\n",
        "Let's start with calculating this for one baby, \"Jennifer\"."
      ],
      "id": "d9a6f875"
    },
    {
      "cell_type": "code",
      "metadata": {},
      "source": [
        "#| code-fold: false\n",
        "# We filter by babies with sex \"F\" and sort by \"Year\"\n",
        "f_babynames = babynames[babynames[\"Sex\"] == \"F\"]\n",
        "f_babynames = f_babynames.sort_values([\"Year\"])\n",
        "\n",
        "# Determine how many Jennifers were born in CA per year\n",
        "jenn_counts_series = f_babynames[f_babynames[\"Name\"] == \"Jennifer\"][\"Count\"]\n",
        "\n",
        "# Determine the max number of Jennifers born in a year and the number born in 2022 \n",
        "# to calculate RTP\n",
        "max_jenn = max(f_babynames[f_babynames[\"Name\"] == \"Jennifer\"][\"Count\"])\n",
        "curr_jenn = f_babynames[f_babynames[\"Name\"] == \"Jennifer\"][\"Count\"].iloc[-1]\n",
        "rtp = curr_jenn / max_jenn\n",
        "rtp"
      ],
      "id": "4d9b47b2",
      "execution_count": null,
      "outputs": []
    },
    {
      "cell_type": "markdown",
      "metadata": {},
      "source": [
        "By creating a function to calculate RTP and applying it to our `DataFrame` by using `.groupby()`, we can easily compute the RTP for all names at once! "
      ],
      "id": "59d99dfd"
    },
    {
      "cell_type": "code",
      "metadata": {},
      "source": [
        "#| code-fold: false\n",
        "def ratio_to_peak(series):\n",
        "    return series.iloc[-1] / max(series)\n",
        "\n",
        "#Using .groupby() to apply the function\n",
        "rtp_table = f_babynames.groupby(\"Name\")[[\"Year\", \"Count\"]].agg(ratio_to_peak)\n",
        "rtp_table.head()"
      ],
      "id": "1ddb8e95",
      "execution_count": null,
      "outputs": []
    },
    {
      "cell_type": "markdown",
      "metadata": {},
      "source": [
        "In the rows shown above, we can see that every row shown has a `Year` value of `1.0`.\n",
        "\n",
        "This is the \"**`pandas`**-ification\" of logic you saw in Data 8. Much of the logic you've learned in Data 8 will serve you well in Data 100.\n",
        "\n",
        "### Nuisance Columns\n",
        "\n",
        "Note that you must be careful with which columns you apply the `.agg()` function to. If we were to apply our function to the table as a whole by doing `f_babynames.groupby(\"Name\").agg(ratio_to_peak)`, executing our `.agg()` call would result in a `TypeError`.\n",
        "\n",
        "<img src=\"images/error.png\" alt='error' width='600'>\n",
        "\n",
        "We can avoid this issue (and prevent unintentional loss of data) by explicitly selecting column(s) we want to apply our aggregation function to **BEFORE** calling `.agg()`, \n",
        "\n",
        "### Renaming Columns After Grouping\n",
        "\n",
        "By default, `.groupby` will not rename any aggregated columns. As we can see in the table above, the aggregated column is still named `Count` even though it now represents the RTP. For better readability, we can rename `Count` to `Count RTP`"
      ],
      "id": "3147c9ff"
    },
    {
      "cell_type": "code",
      "metadata": {},
      "source": [
        "#| code-fold: false\n",
        "rtp_table = rtp_table.rename(columns = {\"Count\": \"Count RTP\"})\n",
        "rtp_table"
      ],
      "id": "fbfc806b",
      "execution_count": null,
      "outputs": []
    },
    {
      "cell_type": "markdown",
      "metadata": {},
      "source": [
        "### Some Data Science Payoff\n",
        "\n",
        "By sorting `rtp_table`, we can see the names whose popularity has decreased the most."
      ],
      "id": "e7220de8"
    },
    {
      "cell_type": "code",
      "metadata": {},
      "source": [
        "#| code-fold: false\n",
        "rtp_table = rtp_table.rename(columns = {\"Count\": \"Count RTP\"})\n",
        "rtp_table.sort_values(\"Count RTP\").head()"
      ],
      "id": "d37e4f67",
      "execution_count": null,
      "outputs": []
    },
    {
      "cell_type": "markdown",
      "metadata": {},
      "source": [
        "To visualize the above `DataFrame`, let's look at the line plot below:"
      ],
      "id": "aa0fd719"
    },
    {
      "cell_type": "code",
      "metadata": {},
      "source": [
        "#| code-fold: true\n",
        "import plotly.express as px\n",
        "px.line(f_babynames[f_babynames[\"Name\"] == \"Debra\"], x = \"Year\", y = \"Count\")"
      ],
      "id": "78b21a6b",
      "execution_count": null,
      "outputs": []
    },
    {
      "cell_type": "markdown",
      "metadata": {},
      "source": [
        "We can get the list of the top 10 names and then plot popularity with the following code:"
      ],
      "id": "8bc8fc4b"
    },
    {
      "cell_type": "code",
      "metadata": {},
      "source": [
        "#| code-fold: false\n",
        "top10 = rtp_table.sort_values(\"Count RTP\").head(10).index\n",
        "px.line(\n",
        "    f_babynames[f_babynames[\"Name\"].isin(top10)], \n",
        "    x = \"Year\", \n",
        "    y = \"Count\", \n",
        "    color = \"Name\"\n",
        ")"
      ],
      "id": "0720ece1",
      "execution_count": null,
      "outputs": []
    },
    {
      "cell_type": "markdown",
      "metadata": {},
      "source": [
        "As a quick exercise, consider what code would compute the total number of babies with each name. "
      ],
      "id": "f2267d4d"
    },
    {
      "cell_type": "code",
      "metadata": {},
      "source": [
        "#| code-fold: true\n",
        "babynames.groupby(\"Name\")[[\"Count\"]].agg(\"sum\").head()\n",
        "# alternative solution: \n",
        "# babynames.groupby(\"Name\")[[\"Count\"]].sum()"
      ],
      "id": "9086735b",
      "execution_count": null,
      "outputs": []
    },
    {
      "cell_type": "markdown",
      "metadata": {},
      "source": [
        "## `.groupby()`, Continued\n",
        "\n",
        "\n",
        "We'll work with the `elections` `DataFrame` again."
      ],
      "id": "2817c715"
    },
    {
      "cell_type": "code",
      "metadata": {},
      "source": [
        "#| code-fold: true\n",
        "\n",
        "import pandas as pd\n",
        "import numpy as np\n",
        "\n",
        "elections = pd.read_csv(\"data/elections.csv\")\n",
        "elections.head(5)"
      ],
      "id": "3746de6f",
      "execution_count": null,
      "outputs": []
    },
    {
      "cell_type": "markdown",
      "metadata": {},
      "source": [
        "### Raw `GroupBy` Objects\n",
        "\n",
        "The result of `groupby` applied to a `DataFrame` is a `DataFrameGroupBy` object, **not** a `DataFrame`."
      ],
      "id": "1e33b9bf"
    },
    {
      "cell_type": "code",
      "metadata": {},
      "source": [
        "#| code-fold: false\n",
        "grouped_by_year = elections.groupby(\"Year\")\n",
        "type(grouped_by_year)"
      ],
      "id": "0077f58f",
      "execution_count": null,
      "outputs": []
    },
    {
      "cell_type": "markdown",
      "metadata": {},
      "source": [
        "There are several ways to look into `DataFrameGroupBy` objects: "
      ],
      "id": "25761508"
    },
    {
      "cell_type": "code",
      "metadata": {},
      "source": [
        "grouped_by_party = elections.groupby(\"Party\")\n",
        "grouped_by_party.groups"
      ],
      "id": "58042d8f",
      "execution_count": null,
      "outputs": []
    },
    {
      "cell_type": "code",
      "metadata": {},
      "source": [
        "grouped_by_party.get_group(\"Socialist\")"
      ],
      "id": "5fa9bbc6",
      "execution_count": null,
      "outputs": []
    },
    {
      "cell_type": "markdown",
      "metadata": {},
      "source": [
        "### Other `GroupBy` Methods\n",
        "\n",
        "There are many aggregation methods we can use with `.agg`. Some useful options are:\n",
        "\n",
        "* [`.mean`](https://pandas.pydata.org/docs/reference/api/pandas.core.groupby.DataFrameGroupBy.mean.html#pandas.core.groupby.DataFrameGroupBy.mean): creates a new `DataFrame` with the mean value of each group\n",
        "* [`.sum`](https://pandas.pydata.org/docs/reference/api/pandas.core.groupby.DataFrameGroupBy.sum.html#pandas.core.groupby.DataFrameGroupBy.sum): creates a new `DataFrame` with the sum of each group\n",
        "* [`.max`](https://pandas.pydata.org/docs/reference/api/pandas.core.groupby.DataFrameGroupBy.max.html#pandas.core.groupby.DataFrameGroupBy.max) and [`.min`](https://pandas.pydata.org/docs/reference/api/pandas.core.groupby.DataFrameGroupBy.min.html#pandas.core.groupby.DataFrameGroupBy.min): creates a new `DataFrame` with the maximum/minimum value of each group\n",
        "* [`.first`](https://pandas.pydata.org/docs/reference/api/pandas.core.groupby.DataFrameGroupBy.first.html#pandas.core.groupby.DataFrameGroupBy.first) and [`.last`](https://pandas.pydata.org/docs/reference/api/pandas.core.groupby.DataFrameGroupBy.last.html#pandas.core.groupby.DataFrameGroupBy.last): creates a new `DataFrame` with the first/last row in each group\n",
        "* [`.size`](https://pandas.pydata.org/docs/reference/api/pandas.core.groupby.DataFrameGroupBy.size.html#pandas.core.groupby.DataFrameGroupBy.size): creates a new **`Series`** with the number of entries in each group\n",
        "* [`.count`](https://pandas.pydata.org/docs/reference/api/pandas.core.groupby.DataFrameGroupBy.count.html#pandas.core.groupby.DataFrameGroupBy.count): creates a new **`DataFrame`** with the number of entries, excluding missing values. \n",
        "\n",
        "Let's illustrate some examples by creating a `DataFrame` called `df`. "
      ],
      "id": "1bf8a76c"
    },
    {
      "cell_type": "code",
      "metadata": {},
      "source": [
        "df = pd.DataFrame({'letter':['A','A','B','C','C','C'], \n",
        "                   'num':[1,2,3,4,np.nan,4], \n",
        "                   'state':[np.nan, 'tx', 'fl', 'hi', np.nan, 'ak']})\n",
        "df"
      ],
      "id": "9fd49e8e",
      "execution_count": null,
      "outputs": []
    },
    {
      "cell_type": "markdown",
      "metadata": {},
      "source": [
        "Note the slight difference between `.size()` and `.count()`: while `.size()` returns a `Series` and counts the number of entries including the missing values, `.count()` returns a `DataFrame` and counts the number of entries in each column *excluding missing values*. "
      ],
      "id": "a232661a"
    },
    {
      "cell_type": "code",
      "metadata": {},
      "source": [
        "df.groupby(\"letter\").size()"
      ],
      "id": "c2e9add2",
      "execution_count": null,
      "outputs": []
    },
    {
      "cell_type": "code",
      "metadata": {},
      "source": [
        "df.groupby(\"letter\").count()"
      ],
      "id": "7c3b9c87",
      "execution_count": null,
      "outputs": []
    },
    {
      "cell_type": "markdown",
      "metadata": {},
      "source": [
        "You might recall that the `value_counts()` function in the previous note does something similar. It turns out `value_counts()` and `groupby.size()` are the same, except `value_counts()` sorts the resulting `Series` in descending order automatically."
      ],
      "id": "1283ed29"
    },
    {
      "cell_type": "code",
      "metadata": {},
      "source": [
        "df[\"letter\"].value_counts()"
      ],
      "id": "288f2761",
      "execution_count": null,
      "outputs": []
    },
    {
      "cell_type": "markdown",
      "metadata": {},
      "source": [
        "These (and other) aggregation functions are so common that `pandas` allows for writing shorthand. Instead of explicitly stating the use of `.agg`, we can call the function directly on the `GroupBy` object.\n",
        "\n",
        "For example, the following are equivalent:\n",
        "\n",
        "- `elections.groupby(\"Candidate\").agg(mean)` \n",
        "- `elections.groupby(\"Candidate\").mean()`\n",
        "\n",
        "There are many other methods that `pandas` supports. You can check them out on the [`pandas` documentation](https://pandas.pydata.org/docs/reference/groupby.html).\n",
        "\n",
        "\n",
        "### Filtering by Group\n",
        "\n",
        "Another common use for `GroupBy` objects is to filter data by group. \n",
        "\n",
        "`groupby.filter` takes an argument `func`, where `func` is a function that:\n",
        "\n",
        "- Takes a `DataFrame` object as input\n",
        "- Returns a single `True` or `False`.\n",
        "\n",
        "`groupby.filter` applies `func` to each group/sub-`DataFrame`:\n",
        "\n",
        "- If `func` returns `True` for a group, then all rows belonging to the group are preserved.\n",
        "- If `func` returns `False` for a group, then all rows belonging to that group are filtered out.\n",
        "\n",
        "In other words, sub-`DataFrame`s that correspond to `True` are returned in the final result, whereas those with a `False` value are not. Importantly, `groupby.filter` is different from `groupby.agg` in that an *entire* sub-`DataFrame` is returned in the final `DataFrame`, not just a single row. As a result, `groupby.filter` preserves the original indices and the column we grouped on does **NOT** become the index!\n",
        "\n",
        "<img src=\"images/filter_demo.png\" alt='groupby_demo' width='600'>\n",
        "\n",
        "To illustrate how this happens, let's go back to the `elections` dataset. Say we want to identify \"tight\" election years – that is, we want to find all rows that correspond to election years where all candidates in that year won a similar portion of the total vote. Specifically, let's find all rows corresponding to a year where no candidate won more than 45% of the total vote. \n",
        "\n",
        "In other words, we want to: \n",
        "\n",
        "- Find the years where the maximum `%` in that year is less than 45%\n",
        "- Return all `DataFrame` rows that correspond to these years\n",
        "\n",
        "For each year, we need to find the maximum `%` among *all* rows for that year. If this maximum `%` is lower than 45%, we will tell `pandas` to keep all rows corresponding to that year. "
      ],
      "id": "c6388216"
    },
    {
      "cell_type": "code",
      "metadata": {},
      "source": [
        "elections.groupby(\"Year\").filter(lambda sf: sf[\"%\"].max() < 45).head(9)"
      ],
      "id": "a4b6e600",
      "execution_count": null,
      "outputs": []
    },
    {
      "cell_type": "markdown",
      "metadata": {},
      "source": [
        "What's going on here? In this example, we've defined our filtering function, `func`, to be `lambda sf: sf[\"%\"].max() < 45`. This filtering function will find the maximum `\"%\"` value among all entries in the grouped sub-`DataFrame`, which we call `sf`. If the maximum value is less than 45, then the filter function will return `True` and all rows in that grouped sub-`DataFrame` will appear in the final output `DataFrame`. \n",
        "\n",
        "Examine the `DataFrame` above. Notice how, in this preview of the first 9 rows, all entries from the years 1860 and 1912 appear. This means that in 1860 and 1912, no candidate in that year won more than 45% of the total vote. \n",
        "\n",
        "You may ask: how is the `groupby.filter` procedure different to the boolean filtering we've seen previously? Boolean filtering considers *individual* rows when applying a boolean condition. For example, the code `elections[elections[\"%\"] < 45]` will check the `\"%\"` value of every single row in `elections`; if it is less than 45, then that row will be kept in the output. `groupby.filter`, in contrast, applies a boolean condition *across* all rows in a group. If not all rows in that group satisfy the condition specified by the filter, the entire group will be discarded in the output. \n",
        "\n",
        "### Aggregation with `lambda` Functions\n",
        "\n",
        "What if we wish to aggregate our `DataFrame` using a non-standard function – for example, a function of our own design? We can do so by combining `.agg` with `lambda` expressions.\n",
        "\n",
        "Let's first consider a puzzle to jog our memory. We will attempt to find the `Candidate` from each `Party` with the highest `%` of votes. \n",
        "\n",
        "A naive approach may be to group by the `Party` column and aggregate by the maximum."
      ],
      "id": "67e82cef"
    },
    {
      "cell_type": "code",
      "metadata": {},
      "source": [
        "elections.groupby(\"Party\").agg(max).head(10)"
      ],
      "id": "16f629bf",
      "execution_count": null,
      "outputs": []
    },
    {
      "cell_type": "markdown",
      "metadata": {},
      "source": [
        "This approach is clearly wrong – the `DataFrame` claims that Woodrow Wilson won the presidency in 2020.\n",
        "\n",
        "Why is this happening? Here, the `max` aggregation function is taken over every column *independently*. Among Democrats, `max` is computing:\n",
        "\n",
        "- The most recent `Year` a Democratic candidate ran for president (2020)\n",
        "- The `Candidate` with the alphabetically \"largest\" name (\"Woodrow Wilson\")\n",
        "- The `Result` with the alphabetically \"largest\" outcome (\"win\")\n",
        "\n",
        "Instead, let's try a different approach. We will:\n",
        "\n",
        "1. Sort the `DataFrame` so that rows are in descending order of `%`\n",
        "2. Group by `Party` and select the first row of each sub-`DataFrame`\n",
        "\n",
        "While it may seem unintuitive, sorting `elections` by descending order of `%` is extremely helpful. If we then group by `Party`, the first row of each `GroupBy` object will contain information about the `Candidate` with the highest voter `%`."
      ],
      "id": "dc2e0e3e"
    },
    {
      "cell_type": "code",
      "metadata": {},
      "source": [
        "elections_sorted_by_percent = elections.sort_values(\"%\", ascending=False)\n",
        "elections_sorted_by_percent.head(5)"
      ],
      "id": "bb452cda",
      "execution_count": null,
      "outputs": []
    },
    {
      "cell_type": "code",
      "metadata": {},
      "source": [
        "elections_sorted_by_percent.groupby(\"Party\").agg(lambda x : x.iloc[0]).head(10)\n",
        "\n",
        "# Equivalent to the below code\n",
        "# elections_sorted_by_percent.groupby(\"Party\").agg('first').head(10)"
      ],
      "id": "72138b8c",
      "execution_count": null,
      "outputs": []
    },
    {
      "cell_type": "markdown",
      "metadata": {},
      "source": [
        "Here's an illustration of the process:\n",
        "\n",
        "<img src=\"images/puzzle_demo.png\" alt='groupby_demo' width='600'>\n",
        "\n",
        "Notice how our code correctly determines that Lyndon Johnson from the Democratic Party has the highest voter `%`.\n",
        "\n",
        "More generally, `lambda` functions are used to design custom aggregation functions that aren't pre-defined by Python. The input parameter `x` to the `lambda` function is a `GroupBy` object. Therefore, it should make sense why `lambda x : x.iloc[0]` selects the first row in each groupby object.\n",
        "\n",
        "\n",
        "In fact, there's a few different ways to approach this problem. Each approach has different tradeoffs in terms of readability, performance, memory consumption, complexity, etc. We've given a few examples below. \n",
        "\n",
        "**Note**: Understanding these alternative solutions is not required. They are given to demonstrate the vast number of problem-solving approaches in `pandas`."
      ],
      "id": "a240ab14"
    },
    {
      "cell_type": "code",
      "metadata": {},
      "source": [
        "# Using the idxmax function\n",
        "best_per_party = elections.loc[elections.groupby('Party')['%'].idxmax()]\n",
        "best_per_party.head(5)"
      ],
      "id": "59dfbf87",
      "execution_count": null,
      "outputs": []
    },
    {
      "cell_type": "code",
      "metadata": {},
      "source": [
        "# Using the .drop_duplicates function\n",
        "best_per_party2 = elections.sort_values('%').drop_duplicates(['Party'], keep='last')\n",
        "best_per_party2.head(5)"
      ],
      "id": "bcbe31f8",
      "execution_count": null,
      "outputs": []
    },
    {
      "cell_type": "markdown",
      "metadata": {},
      "source": [
        "## Aggregating Data with Pivot Tables\n",
        "\n",
        "We know now that `.groupby` gives us the ability to group and aggregate data across our `DataFrame`. The examples above formed groups using just one column in the `DataFrame`. It's possible to group by multiple columns at once by passing in a list of column names to `.groupby`. \n",
        "\n",
        "Let's consider the `babynames` dataset again. In this problem, we will find the total number of baby names associated with each sex for each year. To do this, we'll group by *both* the `\"Year\"` and `\"Sex\"` columns."
      ],
      "id": "f94541ed"
    },
    {
      "cell_type": "code",
      "metadata": {},
      "source": [
        "babynames.head()"
      ],
      "id": "8756bf3d",
      "execution_count": null,
      "outputs": []
    },
    {
      "cell_type": "code",
      "metadata": {},
      "source": [
        "#| code-fold: false\n",
        "# Find the total number of baby names associated with each sex for each \n",
        "# year in the data\n",
        "babynames.groupby([\"Year\", \"Sex\"])[[\"Count\"]].agg(sum).head(6)"
      ],
      "id": "b268a5b0",
      "execution_count": null,
      "outputs": []
    },
    {
      "cell_type": "markdown",
      "metadata": {},
      "source": [
        "Notice that both `\"Year\"` and `\"Sex\"` serve as the index of the `DataFrame` (they are both rendered in bold). We've created a *multi-index* `DataFrame` where two different index values, the year and sex, are used to uniquely identify each row. \n",
        "\n",
        "This isn't the most intuitive way of representing this data – and, because multi-indexed DataFrames have multiple dimensions in their index, they can often be difficult to use. \n",
        "\n",
        "Another strategy to aggregate across two columns is to create a pivot table. You saw these back in [Data 8](https://inferentialthinking.com/chapters/08/3/Cross-Classifying_by_More_than_One_Variable.html#pivot-tables-rearranging-the-output-of-group). One set of values is used to create the index of the pivot table; another set is used to define the column names. The values contained in each cell of the table correspond to the aggregated data for each index-column pair.\n",
        "\n",
        "Here's an illustration of the process: \n",
        "\n",
        "<img src=\"images/pivot.png\" alt='groupby_demo' width='600'>\n",
        "\n",
        "\n",
        "The best way to understand pivot tables is to see one in action. Let's return to our original goal of summing the total number of names associated with each combination of year and sex. We'll call the `pandas` [`.pivot_table`](https://pandas.pydata.org/pandas-docs/stable/reference/api/pandas.pivot_table.html) method to create a new table."
      ],
      "id": "bede794a"
    },
    {
      "cell_type": "code",
      "metadata": {},
      "source": [
        "#| code-fold: false\n",
        "# The `pivot_table` method is used to generate a Pandas pivot table\n",
        "import numpy as np\n",
        "babynames.pivot_table(\n",
        "    index = \"Year\",\n",
        "    columns = \"Sex\",    \n",
        "    values = \"Count\", \n",
        "    aggfunc = \"sum\", \n",
        ").head(5)"
      ],
      "id": "228d8637",
      "execution_count": null,
      "outputs": []
    },
    {
      "cell_type": "markdown",
      "metadata": {},
      "source": [
        "Looks a lot better! Now, our `DataFrame` is structured with clear index-column combinations. Each entry in the pivot table represents the summed count of names for a given combination of `\"Year\"` and `\"Sex\"`.\n",
        "\n",
        "Let's take a closer look at the code implemented above. \n",
        "\n",
        "* `index = \"Year\"` specifies the column name in the original `DataFrame` that should be used as the index of the pivot table\n",
        "* `columns = \"Sex\"` specifies the column name in the original `DataFrame` that should be used to generate the columns of the pivot table\n",
        "* `values = \"Count\"` indicates what values from the original `DataFrame` should be used to populate the entry for each index-column combination\n",
        "* `aggfunc = np.sum` tells `pandas` what function to use when aggregating the data specified by `values`. Here, we are summing the name counts for each pair of `\"Year\"` and `\"Sex\"`\n",
        "\n",
        "We can even include multiple values in the index or columns of our pivot tables. "
      ],
      "id": "f2779478"
    },
    {
      "cell_type": "code",
      "metadata": {},
      "source": [
        "#| code-fold: false\n",
        "babynames_pivot = babynames.pivot_table(\n",
        "    index=\"Year\",     # the rows (turned into index)\n",
        "    columns=\"Sex\",    # the column values\n",
        "    values=[\"Count\", \"Name\"], \n",
        "    aggfunc=\"max\",      # group operation\n",
        ")\n",
        "babynames_pivot.head(6)"
      ],
      "id": "4f8bb6ea",
      "execution_count": null,
      "outputs": []
    },
    {
      "cell_type": "markdown",
      "metadata": {},
      "source": [
        "Note that each row provides the number of girls and number of boys having that year's most common name, and also lists the alphabetically largest girl name and boy name. The counts for number of girls/boys in the resulting `DataFrame` do not correspond to the names listed. For example, in 1910, the most popular girl name is given to 295 girls, but that name was likely not Yvonne. \n",
        "\n",
        "## Joining Tables \n",
        "\n",
        "When working on data science projects, we're unlikely to have absolutely all the data we want contained in a single `DataFrame` – a real-world data scientist needs to grapple with data coming from multiple sources. If we have access to multiple datasets with related information, we can join two or more tables into a single `DataFrame`. \n",
        "\n",
        "To put this into practice, we'll revisit the `elections` dataset."
      ],
      "id": "0708badd"
    },
    {
      "cell_type": "code",
      "metadata": {},
      "source": [
        "elections.head(5)"
      ],
      "id": "7d586d8c",
      "execution_count": null,
      "outputs": []
    },
    {
      "cell_type": "markdown",
      "metadata": {},
      "source": [
        "Say we want to understand the popularity of the names of each presidential candidate in 2022. To do this, we'll need the combined data of `babynames` *and* `elections`. \n",
        "\n",
        "We'll start by creating a new column containing the first name of each presidential candidate. This will help us join each name in `elections` to the corresponding name data in `babynames`. "
      ],
      "id": "17c8799e"
    },
    {
      "cell_type": "code",
      "metadata": {},
      "source": [
        "#| code-fold: false\n",
        "# This `str` operation splits each candidate's full name at each \n",
        "# blank space, then takes just the candidate's first name\n",
        "elections[\"First Name\"] = elections[\"Candidate\"].str.split().str[0]\n",
        "elections.head(5)"
      ],
      "id": "799a323d",
      "execution_count": null,
      "outputs": []
    },
    {
      "cell_type": "code",
      "metadata": {},
      "source": [
        "# Here, we'll only consider `babynames` data from 2022\n",
        "babynames_2022 = babynames[babynames[\"Year\"]==2022]\n",
        "babynames_2022.head()"
      ],
      "id": "c928a639",
      "execution_count": null,
      "outputs": []
    },
    {
      "cell_type": "markdown",
      "metadata": {},
      "source": [
        "Now, we're ready to join the two tables. [`pd.merge`](https://pandas.pydata.org/docs/reference/api/pandas.DataFrame.merge.html) is the `pandas` method used to join `DataFrame`s together."
      ],
      "id": "f373df7a"
    },
    {
      "cell_type": "code",
      "metadata": {},
      "source": [
        "merged = pd.merge(left = elections, right = babynames_2022, \\\n",
        "                  left_on = \"First Name\", right_on = \"Name\")\n",
        "merged.head()\n",
        "# Notice that pandas automatically specifies `Year_x` and `Year_y` \n",
        "# when both merged DataFrames have the same column name to avoid confusion\n",
        "\n",
        "# Second option\n",
        "# merged = elections.merge(right = babynames_2022, \\\n",
        "    # left_on = \"First Name\", right_on = \"Name\")"
      ],
      "id": "1de7d015",
      "execution_count": null,
      "outputs": []
    },
    {
      "cell_type": "markdown",
      "metadata": {},
      "source": [
        "Let's take a closer look at the parameters:\n",
        "\n",
        "* `left` and `right` parameters are used to specify the `DataFrame`s to be joined.\n",
        "* `left_on` and `right_on` parameters are assigned to the string names of the columns to be used when performing the join. These two `on` parameters tell `pandas` what values should act as pairing keys to determine which rows to merge across the `DataFrame`s. We'll talk more about this idea of a pairing key next lecture.\n",
        "\n",
        "\n",
        "## Parting Note\n",
        "\n",
        "Congratulations! We finally tackled `pandas`. Don't worry if you are still not feeling very comfortable with it—you will have plenty of chances to practice over the next few weeks.\n",
        "\n",
        "Next, we will get our hands dirty with some real-world datasets and use our `pandas` knowledge to conduct some exploratory data analysis.\n"
      ],
      "id": "abe85c2a"
    }
  ],
  "metadata": {
    "kernelspec": {
      "display_name": "Python 3 (ipykernel)",
      "language": "python",
      "name": "python3"
    },
    "jupytext": {
      "text_representation": {
        "extension": ".qmd",
        "format_name": "quarto",
        "format_version": "1.0",
        "jupytext_version": "1.16.1"
      }
    }
  },
  "nbformat": 4,
  "nbformat_minor": 5
}