{
 "cells": [
  {
   "cell_type": "raw",
   "metadata": {},
   "source": [
    "---\n",
    "title: \"Data Cleaning and EDA\"\n",
    "execute:\n",
    "    echo: true\n",
    "format: \n",
    "  html:\n",
    "    code-fold: true\n",
    "    code-tools: true\n",
    "    toc: true\n",
    "    toc-title: Data Cleaning and EDA\n",
    "    page-layout: full\n",
    "    theme: [cosmo, cerulean]\n",
    "jupyter: python3\n",
    "---"
   ]
  },
  {
   "cell_type": "markdown",
   "metadata": {},
   "source": [
    "In the past few lectures, we've learned that `pandas` is a toolkit to restructure, modify, and explore a dataset. What we haven't yet touched on is *how* to make these data transformation decisions. When we receive a new set of data from the \"real world,\" how do we know what processing we should do to convert this data into a usable form?\n",
    "\n",
    "**Data cleaning**, also called **data wrangling**, is the process of transforming raw data to facilitate subsequent analysis. It is often used to address issues like:\n",
    "\n",
    "* Unclear structure or formatting\n",
    "* Missing or corrupted values\n",
    "* Unit conversions\n",
    "* ...and so on\n",
    "\n",
    "**Exploratory data analysis (EDA)** is the process of understanding a new dataset. It is an open-ended, informal analysis that involves familiarizing ourselves with the variables present in the data, discovering potential hypotheses, and identifying potential issues with the data. This last point can often motivate further data cleaning to address any problems with the dataset's format; because of this, EDA and data cleaning are often thought of as an \"infinite loop,\" with each process driving the other.\n",
    "\n",
    "In this lecture, we will consider the key properties of data to consider when performing data cleaning and EDA. In doing so, we'll develop a \"checklist\" of sorts for you to consider when approaching a new dataset. Throughout this process, we'll build a deeper understanding of this early (but very important!) stage of the data science lifecycle."
   ]
  },
  {
   "cell_type": "markdown",
   "metadata": {},
   "source": [
    "## Structure\n",
    "\n",
    "### File Format\n",
    "In the past two `pandas` lectures, we briefly touched on the idea of file format: the way data is encoded in a file for storage. Specifically, our `elections` and `babynames` datasets were stored and loaded as CSVs:"
   ]
  },
  {
   "cell_type": "code",
   "execution_count": 10,
   "metadata": {},
   "outputs": [
    {
     "data": {
      "text/html": [
       "<div>\n",
       "<style scoped>\n",
       "    .dataframe tbody tr th:only-of-type {\n",
       "        vertical-align: middle;\n",
       "    }\n",
       "\n",
       "    .dataframe tbody tr th {\n",
       "        vertical-align: top;\n",
       "    }\n",
       "\n",
       "    .dataframe thead th {\n",
       "        text-align: right;\n",
       "    }\n",
       "</style>\n",
       "<table border=\"1\" class=\"dataframe\">\n",
       "  <thead>\n",
       "    <tr style=\"text-align: right;\">\n",
       "      <th></th>\n",
       "      <th>Year</th>\n",
       "      <th>Candidate</th>\n",
       "      <th>Party</th>\n",
       "      <th>Popular vote</th>\n",
       "      <th>Result</th>\n",
       "      <th>%</th>\n",
       "    </tr>\n",
       "  </thead>\n",
       "  <tbody>\n",
       "    <tr>\n",
       "      <th>0</th>\n",
       "      <td>1824</td>\n",
       "      <td>Andrew Jackson</td>\n",
       "      <td>Democratic-Republican</td>\n",
       "      <td>151271</td>\n",
       "      <td>loss</td>\n",
       "      <td>57.210122</td>\n",
       "    </tr>\n",
       "    <tr>\n",
       "      <th>1</th>\n",
       "      <td>1824</td>\n",
       "      <td>John Quincy Adams</td>\n",
       "      <td>Democratic-Republican</td>\n",
       "      <td>113142</td>\n",
       "      <td>win</td>\n",
       "      <td>42.789878</td>\n",
       "    </tr>\n",
       "    <tr>\n",
       "      <th>2</th>\n",
       "      <td>1828</td>\n",
       "      <td>Andrew Jackson</td>\n",
       "      <td>Democratic</td>\n",
       "      <td>642806</td>\n",
       "      <td>win</td>\n",
       "      <td>56.203927</td>\n",
       "    </tr>\n",
       "    <tr>\n",
       "      <th>3</th>\n",
       "      <td>1828</td>\n",
       "      <td>John Quincy Adams</td>\n",
       "      <td>National Republican</td>\n",
       "      <td>500897</td>\n",
       "      <td>loss</td>\n",
       "      <td>43.796073</td>\n",
       "    </tr>\n",
       "    <tr>\n",
       "      <th>4</th>\n",
       "      <td>1832</td>\n",
       "      <td>Andrew Jackson</td>\n",
       "      <td>Democratic</td>\n",
       "      <td>702735</td>\n",
       "      <td>win</td>\n",
       "      <td>54.574789</td>\n",
       "    </tr>\n",
       "  </tbody>\n",
       "</table>\n",
       "</div>"
      ],
      "text/plain": [
       "   Year          Candidate                  Party  Popular vote Result  \\\n",
       "0  1824     Andrew Jackson  Democratic-Republican        151271   loss   \n",
       "1  1824  John Quincy Adams  Democratic-Republican        113142    win   \n",
       "2  1828     Andrew Jackson             Democratic        642806    win   \n",
       "3  1828  John Quincy Adams    National Republican        500897   loss   \n",
       "4  1832     Andrew Jackson             Democratic        702735    win   \n",
       "\n",
       "           %  \n",
       "0  57.210122  \n",
       "1  42.789878  \n",
       "2  56.203927  \n",
       "3  43.796073  \n",
       "4  54.574789  "
      ]
     },
     "execution_count": 10,
     "metadata": {},
     "output_type": "execute_result"
    }
   ],
   "source": [
    "#| code-fold: False\n",
    "import pandas as pd\n",
    "pd.read_csv(\"data/elections.csv\").head(5)"
   ]
  },
  {
   "cell_type": "markdown",
   "metadata": {},
   "source": [
    "CSVs, which stand for **comma-separated values**, are a common tabular data format. To better understand the properties of a CSV, let's take a look at the raw data file to see what it looks like before being loaded into a DataFrame. "
   ]
  },
  {
   "cell_type": "code",
   "execution_count": 11,
   "metadata": {},
   "outputs": [
    {
     "name": "stdout",
     "output_type": "stream",
     "text": [
      "Year,Candidate,Party,Popular vote,Result,%\n",
      "\n",
      "1824,Andrew Jackson,Democratic-Republican,151271,loss,57.21012204\n",
      "\n",
      "1824,John Quincy Adams,Democratic-Republican,113142,win,42.78987796\n",
      "\n",
      "1828,Andrew Jackson,Democratic,642806,win,56.20392707\n",
      "\n"
     ]
    }
   ],
   "source": [
    "#| echo: False\n",
    "with open(\"data/elections.csv\", \"r\") as table:\n",
    "    i = 0\n",
    "    for row in table:\n",
    "        print(row)\n",
    "        i += 1\n",
    "        if i > 3:\n",
    "            break"
   ]
  },
  {
   "cell_type": "markdown",
   "metadata": {},
   "source": [
    "Each row, or **record**, in the data is delimited by a newline. Each column, or **field**, in the data is delimited by a comma (hence, comma-separated!). \n",
    "\n",
    "Another common file type is the **TSV (tab-separated values)**. In a TSV, records are still delimited by a newline, while fields are delimited by `\\t` tab character. A TSV can be loaded into `pandas` using `pd.read_csv()` with the `delimiter` parameter: `pd.read_csv(\"file_name.tsv\", delimiter=\"\\t\")`. A raw TSV file is shown below."
   ]
  },
  {
   "cell_type": "code",
   "execution_count": 12,
   "metadata": {},
   "outputs": [
    {
     "name": "stdout",
     "output_type": "stream",
     "text": [
      "﻿Year\tCandidate\tParty\tPopular vote\tResult\t%\n",
      "\n",
      "1824\tAndrew Jackson\tDemocratic-Republican\t151271\tloss\t57.21012204\n",
      "\n",
      "1824\tJohn Quincy Adams\tDemocratic-Republican\t113142\twin\t42.78987796\n",
      "\n",
      "1828\tAndrew Jackson\tDemocratic\t642806\twin\t56.20392707\n",
      "\n"
     ]
    }
   ],
   "source": [
    "#| echo: False\n",
    "with open(\"data/elections.txt\", \"r\") as table:\n",
    "    i = 0\n",
    "    for row in table:\n",
    "        print(row)\n",
    "        i += 1\n",
    "        if i > 3:\n",
    "            break"
   ]
  },
  {
   "cell_type": "markdown",
   "metadata": {},
   "source": [
    "**JSON (JavaScript Object Notation)** files behave similarly to Python dictionaries. They can be loaded into `pandas` using `pd.read_json`. A raw JSON is shown below."
   ]
  },
  {
   "cell_type": "code",
   "execution_count": 13,
   "metadata": {},
   "outputs": [
    {
     "name": "stdout",
     "output_type": "stream",
     "text": [
      "[\n",
      "\n",
      " {\n",
      "\n",
      "   \"Year\": 1824,\n",
      "\n",
      "   \"Candidate\": \"Andrew Jackson\",\n",
      "\n",
      "   \"Party\": \"Democratic-Republican\",\n",
      "\n",
      "   \"Popular vote\": 151271,\n",
      "\n",
      "   \"Result\": \"loss\",\n",
      "\n",
      "   \"%\": 57.21012204\n",
      "\n",
      " },\n",
      "\n"
     ]
    }
   ],
   "source": [
    "#| echo: False\n",
    "with open(\"data/elections.json\", \"r\") as table:\n",
    "    i = 0\n",
    "    for row in table:\n",
    "        print(row)\n",
    "        i += 1\n",
    "        if i > 8:\n",
    "            break"
   ]
  },
  {
   "cell_type": "markdown",
   "metadata": {},
   "source": [
    "### Variable Types\n",
    "\n",
    "After loading data into a file, it's a good idea to take the time to understand what pieces of information are encoded in the dataset. In particular, we want to identify what variable types are present in our data. Broadly speaking, we can categorize variables into one of two overarching types. \n",
    "\n",
    "**Quantitative variables** describe some numeric quantity or amount. We can sub-divide quantitative data into:\n",
    "\n",
    "* **Continuous quantitative variables**: numeric data that can be measured on a continuous scale to arbitrary precision. Continuous variables do not have a strict set of possible values – they can be recorded to any number of decimal places. For example, weights, GPA, or CO<sub>2</sub> concentrations\n",
    "* **Discrete quantitative variables**: numeric data that can only take on a finite set of possible values. For example, someone's age or number of siblings.\n",
    "\n",
    "**Qualitative variables**, also known as **categorical variables**, describe data that isn't measuring some quantity or amount. The sub-categories of categorical data are:\n",
    "\n",
    "* **Ordinal qualitative variables**: categories with ordered levels. Specifically, ordinal variables are those where the difference between levels has no consistent, quantifiable meaning. For example, a Yelp rating or set of income brackets. \n",
    "* **Nominal qualitative variables**: categories with no specific order. For example, someone's political affiliation or Cal ID number.\n",
    "\n",
    "<img src=\"images/variable.png\" alt='variable' width='600'>"
   ]
  },
  {
   "cell_type": "markdown",
   "metadata": {},
   "source": [
    "### Primary and Foreign Keys\n",
    "\n",
    "Last time, we introduced `.merge` as the `pandas` method for joining multiple DataFrames together. In our discussion of joins, we touched on the idea of using a \"key\" to determine what rows should be merged from each table. Let's take a moment to examine this idea more closely.\n",
    "\n",
    "The **primary key** is the column or set of columns in a table that determine the values of the remaining columns. It can be thought of as the unique identifier for each individual row in the table. For example, a table of Data 100 students might use each student's Cal ID as the primary key. "
   ]
  },
  {
   "cell_type": "code",
   "execution_count": 14,
   "metadata": {},
   "outputs": [
    {
     "data": {
      "text/html": [
       "<div>\n",
       "<style scoped>\n",
       "    .dataframe tbody tr th:only-of-type {\n",
       "        vertical-align: middle;\n",
       "    }\n",
       "\n",
       "    .dataframe tbody tr th {\n",
       "        vertical-align: top;\n",
       "    }\n",
       "\n",
       "    .dataframe thead th {\n",
       "        text-align: right;\n",
       "    }\n",
       "</style>\n",
       "<table border=\"1\" class=\"dataframe\">\n",
       "  <thead>\n",
       "    <tr style=\"text-align: right;\">\n",
       "      <th></th>\n",
       "      <th>Cal ID</th>\n",
       "      <th>Name</th>\n",
       "      <th>Major</th>\n",
       "    </tr>\n",
       "  </thead>\n",
       "  <tbody>\n",
       "    <tr>\n",
       "      <th>0</th>\n",
       "      <td>3034619471</td>\n",
       "      <td>Oski</td>\n",
       "      <td>Data Science</td>\n",
       "    </tr>\n",
       "    <tr>\n",
       "      <th>1</th>\n",
       "      <td>3035619472</td>\n",
       "      <td>Ollie</td>\n",
       "      <td>Computer Science</td>\n",
       "    </tr>\n",
       "    <tr>\n",
       "      <th>2</th>\n",
       "      <td>3025619473</td>\n",
       "      <td>Orrie</td>\n",
       "      <td>Data Science</td>\n",
       "    </tr>\n",
       "    <tr>\n",
       "      <th>3</th>\n",
       "      <td>3046789372</td>\n",
       "      <td>Ollie</td>\n",
       "      <td>Economics</td>\n",
       "    </tr>\n",
       "  </tbody>\n",
       "</table>\n",
       "</div>"
      ],
      "text/plain": [
       "       Cal ID   Name             Major\n",
       "0  3034619471   Oski      Data Science\n",
       "1  3035619472  Ollie  Computer Science\n",
       "2  3025619473  Orrie      Data Science\n",
       "3  3046789372  Ollie         Economics"
      ]
     },
     "execution_count": 14,
     "metadata": {},
     "output_type": "execute_result"
    }
   ],
   "source": [
    "#| echo: False\n",
    "pd.DataFrame({\"Cal ID\":[3034619471, 3035619472, 3025619473, 3046789372], \\\n",
    "             \"Name\":[\"Oski\", \"Ollie\", \"Orrie\", \"Ollie\"], \\\n",
    "             \"Major\":[\"Data Science\", \"Computer Science\", \"Data Science\", \"Economics\"]})"
   ]
  },
  {
   "cell_type": "markdown",
   "metadata": {},
   "source": [
    "The **foreign key** is the column or set of columns in a table that reference primary keys in other tables. Knowing a dataset's foreign keys can be useful when assigning the `left_on` and `right_on` parameters of `.merge`. In the table of office hour tickets below, `\"Cal ID\"` is a foreign key referencing the previous table."
   ]
  },
  {
   "cell_type": "code",
   "execution_count": 15,
   "metadata": {},
   "outputs": [
    {
     "data": {
      "text/html": [
       "<div>\n",
       "<style scoped>\n",
       "    .dataframe tbody tr th:only-of-type {\n",
       "        vertical-align: middle;\n",
       "    }\n",
       "\n",
       "    .dataframe tbody tr th {\n",
       "        vertical-align: top;\n",
       "    }\n",
       "\n",
       "    .dataframe thead th {\n",
       "        text-align: right;\n",
       "    }\n",
       "</style>\n",
       "<table border=\"1\" class=\"dataframe\">\n",
       "  <thead>\n",
       "    <tr style=\"text-align: right;\">\n",
       "      <th></th>\n",
       "      <th>OH Request #</th>\n",
       "      <th>Cal ID</th>\n",
       "      <th>Question</th>\n",
       "    </tr>\n",
       "  </thead>\n",
       "  <tbody>\n",
       "    <tr>\n",
       "      <th>0</th>\n",
       "      <td>1</td>\n",
       "      <td>3034619471</td>\n",
       "      <td>HW 2 Q1</td>\n",
       "    </tr>\n",
       "    <tr>\n",
       "      <th>1</th>\n",
       "      <td>2</td>\n",
       "      <td>3035619472</td>\n",
       "      <td>HW 2 Q3</td>\n",
       "    </tr>\n",
       "    <tr>\n",
       "      <th>2</th>\n",
       "      <td>3</td>\n",
       "      <td>3025619473</td>\n",
       "      <td>Lab 3 Q4</td>\n",
       "    </tr>\n",
       "    <tr>\n",
       "      <th>3</th>\n",
       "      <td>4</td>\n",
       "      <td>3035619472</td>\n",
       "      <td>HW 2 Q7</td>\n",
       "    </tr>\n",
       "  </tbody>\n",
       "</table>\n",
       "</div>"
      ],
      "text/plain": [
       "   OH Request #      Cal ID  Question\n",
       "0             1  3034619471   HW 2 Q1\n",
       "1             2  3035619472   HW 2 Q3\n",
       "2             3  3025619473  Lab 3 Q4\n",
       "3             4  3035619472   HW 2 Q7"
      ]
     },
     "execution_count": 15,
     "metadata": {},
     "output_type": "execute_result"
    }
   ],
   "source": [
    "#| echo: False\n",
    "pd.DataFrame({\"OH Request #\":[1, 2, 3, 4], \\\n",
    "             \"Cal ID\":[3034619471, 3035619472, 3025619473, 3035619472], \\\n",
    "             \"Question\":[\"HW 2 Q1\", \"HW 2 Q3\", \"Lab 3 Q4\", \"HW 2 Q7\"]})"
   ]
  },
  {
   "cell_type": "markdown",
   "metadata": {},
   "source": [
    "## Granularity, Scope, and Temporality\n",
    "\n",
    "After understanding the structure of the dataset, the next task is to determine what exactly the data represents. We'll do so by considering the data's granularity, scope, and temporality.\n",
    "\n",
    "The **granularity** of a dataset is the level of detail included in the data. To determine the data's granularity, ask: what does each row in the dataset represent? Fine-grained data contains a high level of detail, with a single row representing a small individual unit. For example, each record may represent one person. Coarse-grained data is encoded such that a single row represents a large individual unit – for example, each record may represent a group of people.\n",
    "\n",
    "The **scope** of a dataset is the subset of the population covered by the data. If we were investigating student performance in Data Science courses, a dataset with narrow scope might encompass all students enrolled in Data 100; a dataset with expansive scope might encompass all students in California. \n",
    "\n",
    "The **temporality** of a dataset describes the time period over which the data was collected. To fully understand the temporality of the data, it may be necessary to standardize timezones or inspect recurring time-based trends in the data (Do patterns recur in 24-hour patterns? Over the course of a month? Seasonally?)."
   ]
  },
  {
   "cell_type": "markdown",
   "metadata": {},
   "source": [
    "## Faithfulness\n",
    "\n",
    "At this stage in our data wangling and EDA workflow, we've achieved quite a lot: we've identified how our data is structured, come to terms with what information it encodes, and gained insight as to how it was generated. Throughout this process, we should always recall the original intent of our work in Data Science – to use data to better understand and model the real world. To achieve this goal, we need to ensure that the data we use is faithful to reality; that is, that our data accurately captures the \"real world.\"\n",
    "\n",
    "Data used in research or industry is often \"messy\" – there may be errors or inaccuracies that impact the faithfulness of the dataset. Signs that data may not be faithful include:\n",
    "\n",
    "* Unrealistic or \"incorrect\" values, such as negative counts, locations that don't exist, or dates set in the future\n",
    "* Violations of obvious dependencies, like an age that does not match a birthday\n",
    "* Clear signs that data was entered by hand, which can lead to spelling errors or fields that are incorrectly shifted\n",
    "* Signs of data falsification, such as fake email addresses or repeated use of the same names\n",
    "* Duplicated records or fields containing the same information\n",
    "\n",
    "A common issue encountered with real-world datasets is that of missing data. One strategy to resolve this is to simply drop any records with missing values from the dataset. This does, however, introduce the risk of inducing biases – it is possible that the missing or corrupt records may be systemically related to some feature of interest in the data.\n",
    "\n",
    "Another method to address missing data is to perform **imputation**: infer the missing values using other data available in the dataset. There is a wide variety of imputation techniques that can be implemented; some of the most common are listed below.\n",
    "\n",
    "* Average imputation: replace missing values with the average value for that field\n",
    "* Hot deck imputation: replace missing values with some random value\n",
    "* Regression imputation: develop a model to predict missing values\n",
    "* Multiple imputation: replace missing values with multiple random values\n",
    "\n",
    "Regardless of the strategy used to deal with missing data, we should think carefully about *why* particular records or fields may be missing – this can help inform whether or not the absence of these values is signficant in some meaningful way."
   ]
  }
 ],
 "metadata": {
  "kernelspec": {
   "display_name": "Python 3",
   "language": "python",
   "name": "python3"
  },
  "language_info": {
   "codemirror_mode": {
    "name": "ipython",
    "version": 3
   },
   "file_extension": ".py",
   "mimetype": "text/x-python",
   "name": "python",
   "nbconvert_exporter": "python",
   "pygments_lexer": "ipython3",
   "version": "3.8.5"
  }
 },
 "nbformat": 4,
 "nbformat_minor": 5
}
