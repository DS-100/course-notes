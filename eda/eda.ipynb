{
 "cells": [
  {
   "cell_type": "markdown",
   "metadata": {},
   "source": [
    "---\n",
    "title: Data Cleaning and EDA\n",
    "execute:\n",
    "  echo: true\n",
    "format:\n",
    "  html:\n",
    "    code-fold: true\n",
    "    code-tools: true\n",
    "    toc: true\n",
    "    toc-title: Data Cleaning and EDA\n",
    "    page-layout: full\n",
    "    theme:\n",
    "      - cosmo\n",
    "      - cerulean\n",
    "    callout-icon: false\n",
    "jupyter:\n",
    "  jupytext:\n",
    "    text_representation:\n",
    "      extension: .qmd\n",
    "      format_name: quarto\n",
    "      format_version: '1.0'\n",
    "      jupytext_version: 1.17.2\n",
    "  kernelspec:\n",
    "    display_name: Python 3 (ipykernel)\n",
    "    language: python\n",
    "    name: python3\n",
    "---\n"
   ]
  },
  {
   "cell_type": "code",
   "execution_count": null,
   "metadata": {},
   "outputs": [],
   "source": [
    "#| code-fold: true\n",
    "import numpy as np\n",
    "import pandas as pd\n",
    "\n",
    "import matplotlib.pyplot as plt\n",
    "import seaborn as sns\n",
    "#%matplotlib inline\n",
    "plt.rcParams['figure.figsize'] = (12, 9)\n",
    "\n",
    "sns.set()\n",
    "sns.set_context('talk')\n",
    "np.set_printoptions(threshold=20, precision=2, suppress=True)\n",
    "pd.set_option('display.max_rows', 30)\n",
    "pd.set_option('display.max_columns', None)\n",
    "pd.set_option('display.precision', 2)\n",
    "# This option stops scientific notation for pandas\n",
    "pd.set_option('display.float_format', '{:.2f}'.format)\n",
    "\n",
    "# Silence some spurious seaborn warnings\n",
    "import warnings\n",
    "warnings.filterwarnings(\"ignore\", category=FutureWarning)\n",
    "warnings.filterwarnings(\"ignore\", category=UserWarning)"
   ]
  },
  {
   "cell_type": "markdown",
   "metadata": {},
   "source": [
    "::: {.callout-note collapse=\"false\"}\n",
    "## Learning Outcomes\n",
    "* Recognize common file formats\n",
    "* Categorize data by its variable type\n",
    "* Build awareness of issues with data faithfulness and develop targeted solutions\n",
    ":::\n",
    "\n",
    "In the past few lectures, we've learned that `pandas` is a toolkit to restructure, modify, and explore a dataset. What we haven't yet touched on is *how* to make these data transformation decisions. When we receive a new set of data from the \"real world,\" how do we know what processing we should do to convert this data into a usable form?\n",
    "\n",
    "**Data cleaning**, also called **data wrangling**, is the process of transforming raw data to facilitate subsequent analysis. It is often used to address issues like:\n",
    "\n",
    "* Unclear structure or formatting\n",
    "* Missing or corrupted values\n",
    "* Unit conversions\n",
    "* ...and so on\n",
    "\n",
    "**Exploratory Data Analysis (EDA)** is the process of understanding a new dataset. It is an open-ended, informal analysis that involves familiarizing ourselves with the variables present in the data, discovering potential hypotheses, and identifying possible issues with the data. This last point can often motivate further data cleaning to address any problems with the dataset's format; because of this, EDA and data cleaning are often thought of as an \"infinite loop,\" with each process driving the other.\n",
    "\n",
    "In this lecture, we will consider the key properties of data to consider when performing data cleaning and EDA. In doing so, we'll develop a \"checklist\" of sorts for you to consider when approaching a new dataset. Throughout this process, we'll build a deeper understanding of this early (but very important!) stage of the data science lifecycle.\n",
    "\n",
    "## Structure\n",
    "We often prefer rectangular data for data analysis. Rectangular structures are easy to manipulate and analyze. A key element of data cleaning is about transforming data to be more rectangular. \n",
    "\n",
    "There are two kinds of rectangular data: tables and matrices. Tables have named columns with different data types and are manipulated using data transformation languages. Matrices contain numeric data of the same type and are manipulated using linear algebra.\n",
    "\n",
    "### File Formats\n",
    "There are many file types for storing structured data: TSV, JSON, XML, ASCII, SAS, etc. We'll only cover CSV, TSV, and JSON in lecture, but you'll likely encounter other formats as you work with different datasets. Reading documentation is your best bet for understanding how to process the multitude of different file types. \n",
    "\n",
    "#### CSV\n",
    "CSVs, which stand for **Comma-Separated Values**, are a common tabular data format. \n",
    "In the past two `pandas` lectures, we briefly touched on the idea of file format: the way data is encoded in a file for storage. Specifically, our `elections` and `babynames` datasets were stored and loaded as CSVs:"
   ]
  },
  {
   "cell_type": "code",
   "execution_count": null,
   "metadata": {},
   "outputs": [],
   "source": [
    "#| code-fold: false\n",
    "pd.read_csv(\"data/elections.csv\").head(5)"
   ]
  },
  {
   "cell_type": "markdown",
   "metadata": {},
   "source": [
    "To better understand the properties of a CSV, let's take a look at the first few rows of the raw data file to see what it looks like before being loaded into a `DataFrame`. We'll use the `repr()` function to return the raw string with its special characters: "
   ]
  },
  {
   "cell_type": "code",
   "execution_count": null,
   "metadata": {},
   "outputs": [],
   "source": [
    "#| code-fold: false\n",
    "with open(\"data/elections.csv\", \"r\") as table:\n",
    "    i = 0\n",
    "    for row in table:\n",
    "        print(repr(row))\n",
    "        i += 1\n",
    "        if i > 3:\n",
    "            break"
   ]
  },
  {
   "cell_type": "markdown",
   "metadata": {},
   "source": [
    "Each row, or **record**, in the data is delimited by a newline `\\n`. Each column, or **field**, in the data is delimited by a comma `,` (hence, comma-separated!). \n",
    "\n",
    "#### TSV\n",
    "\n",
    "Another common file type is **TSV (Tab-Separated Values)**. In a TSV, records are still delimited by a newline `\\n`, while fields are delimited by `\\t` tab character. \n",
    "\n",
    "Let's check out the first few rows of the raw TSV file. Again, we'll use the `repr()` function so that `print` shows the special characters."
   ]
  },
  {
   "cell_type": "code",
   "execution_count": null,
   "metadata": {},
   "outputs": [],
   "source": [
    "#| code-fold: false\n",
    "with open(\"data/elections.txt\", \"r\") as table:\n",
    "    i = 0\n",
    "    for row in table:\n",
    "        print(repr(row))\n",
    "        i += 1\n",
    "        if i > 3:\n",
    "            break"
   ]
  },
  {
   "cell_type": "markdown",
   "metadata": {},
   "source": [
    "TSVs can be loaded into `pandas` using `pd.read_csv`. We'll need to specify the **delimiter** with parameter` sep='\\t'` [(documentation)](https://pandas.pydata.org/docs/reference/api/pandas.read_csv.html)."
   ]
  },
  {
   "cell_type": "code",
   "execution_count": null,
   "metadata": {},
   "outputs": [],
   "source": [
    "#| code-fold: false\n",
    "pd.read_csv(\"data/elections.txt\", sep='\\t').head(3)"
   ]
  },
  {
   "cell_type": "markdown",
   "metadata": {},
   "source": [
    "An issue with CSVs and TSVs comes up whenever there are commas or tabs within the records. How does `pandas` differentiate between a comma delimiter vs. a comma within the field itself, for example `8,900`? To remedy this, check out the [`quotechar` parameter](https://pandas.pydata.org/docs/reference/api/pandas.read_csv.html). \n",
    "\n",
    "#### JSON\n",
    "**JSON (JavaScript Object Notation)** files behave similarly to Python dictionaries. A raw JSON is shown below."
   ]
  },
  {
   "cell_type": "code",
   "execution_count": null,
   "metadata": {},
   "outputs": [],
   "source": [
    "#| code-fold: false\n",
    "with open(\"data/elections.json\", \"r\") as table:\n",
    "    i = 0\n",
    "    for row in table:\n",
    "        print(row)\n",
    "        i += 1\n",
    "        if i > 8:\n",
    "            break"
   ]
  },
  {
   "cell_type": "markdown",
   "metadata": {},
   "source": [
    "JSON files can be loaded into `pandas` using `pd.read_json`. "
   ]
  },
  {
   "cell_type": "code",
   "execution_count": null,
   "metadata": {},
   "outputs": [],
   "source": [
    "#| code-fold: false\n",
    "pd.read_json('data/elections.json').head(3)"
   ]
  },
  {
   "cell_type": "markdown",
   "metadata": {},
   "source": [
    "##### EDA with JSON: United States Congress Data\n",
    "The congress.gov API (Application Programming Interface) provides data about the activities and members of the United States Congress (i.e., the House of Representatives and the Senate). \n",
    "<br>\n",
    "\n",
    "To get a JSON file containing information about the current members of Congress from California, you could use the following **API call**:\n",
    "\n",
    "- `https://api.congress.gov/v3/member/CA?api_key=[INSERT_KEY]&limit=250&format=json&currentMember=True`\n",
    "\n",
    "- You can instantly sign up for a congress.gov **API key** [here](https://gpo.congress.gov/sign-up/). Once you have your key, replace `[INSERT_KEY]` above with your key, and enter the API call as a URL in your browser. What happens? \n",
    "\n",
    "- Once the JSON from the API call is visible in your browser, you can click `File` --> `Save Page As` to save the JSON file to your coputer.\n",
    "\n",
    "- Coarsely, API keys are used to track how much a given user engages with the API. There might be limits to the number of API calls (e.g., congress.gov API limits to 5,000 calls per hour), or a cost for API calls (e.g., using the OpenAI API for programmatically using ChatGPT).\n",
    "\n",
    "<br>\n",
    "\n",
    "After following these steps, we save this JSON file as `data/ca-congress-members.json`. \n",
    "\n",
    "###### File Contents\n",
    "Let's examine this file using Python. We can programmatically view the first couple lines of the file using the same functions we used with CSVs:"
   ]
  },
  {
   "cell_type": "code",
   "execution_count": null,
   "metadata": {},
   "outputs": [],
   "source": [
    "#| code-fold: false\n",
    "congress_file = \"data/ca-congress-members.json\"\n",
    "\n",
    "# Inspect the first five lines of the file\n",
    "with open(congress_file, \"r\") as f:\n",
    "    for i, row in enumerate(f):\n",
    "        print(row)\n",
    "        if i >= 4: break"
   ]
  },
  {
   "cell_type": "markdown",
   "metadata": {},
   "source": [
    "###### EDA: Digging into JSON with Python\n",
    "\n",
    "JSON data closely matches the internal Python object model.  \n",
    "\n",
    "- In the following cell, we import the entire JSON datafile into a Python dictionary using the `json` package."
   ]
  },
  {
   "cell_type": "code",
   "execution_count": null,
   "metadata": {},
   "outputs": [],
   "source": [
    "#| code-fold: false\n",
    "import json\n",
    "\n",
    "# Import the JSON file into Python as a dictionary\n",
    "with open(congress_file, \"rb\") as f:\n",
    "    congress_json = json.load(f)\n",
    "\n",
    "type(congress_json)"
   ]
  },
  {
   "cell_type": "markdown",
   "metadata": {},
   "source": [
    "The `congress_json` variable is a dictionary encoding the data in the JSON file.\n",
    "\n",
    "Below, we access the first element of the `members` element of the `congress_json` dictionary.\n",
    "\n",
    "- This first element is also a dictionary (and there are more dictionaries inside of it!)"
   ]
  },
  {
   "cell_type": "code",
   "execution_count": null,
   "metadata": {},
   "outputs": [],
   "source": [
    "#| code-fold: false\n",
    "# Grab the list corresponding to the `members` key in the JSON dictionary, \n",
    "# and then grab the first element of this list.\n",
    "# In a moment, we'll see how we knew to use the key `members`, and that\n",
    "# the resulting object is a list.\n",
    "congress_json['members'][0]"
   ]
  },
  {
   "cell_type": "markdown",
   "metadata": {},
   "source": [
    "How should we probe a nested dictionary like `congress_json`?\n",
    "\n",
    "We can start by identifying the top-level **keys** of the dictionary:"
   ]
  },
  {
   "cell_type": "code",
   "execution_count": null,
   "metadata": {},
   "outputs": [],
   "source": [
    "#| code-fold: false\n",
    "# Grab the top-level keys of the JSON dictionary\n",
    "congress_json.keys()"
   ]
  },
  {
   "cell_type": "markdown",
   "metadata": {},
   "source": [
    "Looks like we have three top-level keys: `members`, `pagination`, and `request`.\n",
    "\n",
    "> You'll often see a top-level `meta` key in JSON files. This does not refer to Meta (formerly Facebook). Instead, it typically refers to metadata (data about the data).  Metadata are often maintained alongside the data.\n",
    "\n",
    "Let's check the type of the `members` element:"
   ]
  },
  {
   "cell_type": "code",
   "execution_count": null,
   "metadata": {},
   "outputs": [],
   "source": [
    "#| code-fold: false\n",
    "type(congress_json['members'])"
   ]
  },
  {
   "cell_type": "markdown",
   "metadata": {},
   "source": [
    "Looks like a list! What are the first two elements?"
   ]
  },
  {
   "cell_type": "code",
   "execution_count": null,
   "metadata": {},
   "outputs": [],
   "source": [
    "#| code-fold: false\n",
    "congress_json['members'][:2]"
   ]
  },
  {
   "cell_type": "markdown",
   "metadata": {},
   "source": [
    "More dictionaries! You can repeat the process above to traverse the nested dictionary.\n",
    "\n",
    "You'll notice that each record of `congress_json['members']` looks like it could be a column of a DataFrame.\n",
    "\n",
    "- The keys look a lot like column names, and the values could be the entries in each row.\n",
    "\n",
    "<br> \n",
    "\n",
    "But, the two other elements of `congress_json` don't have the same structure as `congress_json['members']`.\n",
    "\n",
    "- So, they probably don't belong in a DataFrame containing the members of Congress from CA.\n",
    "\n",
    "- We'll see the implications of this inconsistency in the next section."
   ]
  },
  {
   "cell_type": "code",
   "execution_count": null,
   "metadata": {},
   "outputs": [],
   "source": [
    "#| code-fold: false\n",
    "print(congress_json['pagination'])\n",
    "print(congress_json['request'])"
   ]
  },
  {
   "cell_type": "markdown",
   "metadata": {},
   "source": [
    "###### JSON with pandas\n",
    "\n",
    "`pandas` has a built in function called `pd.read_json` for reading in JSON files. In order to read in this JSON file, you might want to try something like the code in the cell below. However, if we tried to run this code, it would error."
   ]
  },
  {
   "cell_type": "code",
   "execution_count": null,
   "metadata": {},
   "outputs": [],
   "source": [
    "#| code-fold: false\n",
    "#pd.read_json(congress_file)"
   ]
  },
  {
   "cell_type": "markdown",
   "metadata": {},
   "source": [
    "- The code above tries to import the entire JSON file located at `congress_file` (`congress_json`), including `congress_json['pagination']` and `congress_json['request']`.\n",
    "\n",
    "- We only want to make a DataFrame out of `congress_json['members']`.\n",
    "\n",
    "Instead, let's try converting the `members` element of `congress_json` to a DataFrame by using `pd.DataFrame`:"
   ]
  },
  {
   "cell_type": "code",
   "execution_count": null,
   "metadata": {},
   "outputs": [],
   "source": [
    "#| code-fold: false\n",
    "# Convert dictionary to DataFrame\n",
    "congress_df = pd.DataFrame(congress_json['members'])\n",
    "congress_df.head()"
   ]
  },
  {
   "cell_type": "markdown",
   "metadata": {},
   "source": [
    "We've successfully begun to rectangularize our JSON data!\n",
    "\n",
    " \n",
    "\n",
    "### Other Data Formats\n",
    "\n",
    "So far, we've looked at text data that comes in a quite nice format. Although some data cleaning might be necessary, it has still had all of the components of a rectangular dataset. However, not all data comes like this, and there are also different kinds of data we can use. Some examples include:\n",
    "\n",
    "* **Image Data**: Used for medical diagnosis\n",
    "* **Audio Data**: Used for speech recognition, sentiment analysis\n",
    "* **Video Data**: Used for object tracking, facial recognition\n",
    "* **Text**: Used for LLMs, document review\n",
    "\n",
    "Even though this may not look tabular at first, all of these formats can be represented in tabular/matrix form! So by learning how to work with tabular data, you are well equipped to deal with other kinds of data as well.\n",
    "\n",
    "### Variable Types\n",
    "\n",
    "Variables are columns. A variable is a measurement of a particular concept. Variables have two common properties: data type/storage type and variable type/feature type. The data type of a variable indicates how each variable value is stored in memory (integer, floating point, boolean, etc.) and affects which `pandas` functions are used. The variable type is a conceptualized measurement of information (and therefore indicates what values a variable can take on). Variable type is identified through expert knowledge, exploring the data itself, or consulting the data codebook. The variable type affects how one visualizes and inteprets the data. In this class, \"variable types\" are conceptual.\n",
    "\n",
    "After loading data into a file, it's a good idea to take the time to understand what pieces of information are encoded in the dataset. In particular, we want to identify what variable types are present in our data. Broadly speaking, we can categorize variables into one of two overarching types. \n",
    "\n",
    "**Quantitative variables** describe some numeric quantity or amount. Some examples include weights, GPA, CO<sub>2</sub> concentrations, someone's age, or the number of siblings they have.\n",
    "\n",
    "**Qualitative variables**, also known as **categorical variables**, describe data that isn't measuring some quantity or amount. The sub-categories of categorical data are:\n",
    "\n",
    "* **Ordinal qualitative variables**: categories with ordered levels. Specifically, ordinal variables are those where the difference between levels has no consistent, quantifiable meaning. Some examples include levels of education (high school, undergrad, grad, etc.), income bracket (low, medium, high), or Yelp rating. \n",
    "* **Nominal qualitative variables**: categories with no specific order. For example, someone's political affiliation or Cal ID number.\n",
    "\n",
    "![Classification of variable types](images/variable_types.png)\n",
    "\n",
    "Note that many variables don't sit neatly in just one of these categories. Qualitative variables could have numeric levels, and conversely, quantitative variables could be stored as strings. \n",
    "\n",
    "## Granularity and Temporality\n",
    "\n",
    "After understanding the structure of the dataset, the next task is to determine what exactly the data represents. We'll do so by considering the data's granularity and temporality.\n",
    "\n",
    "### Granularity\n",
    "The **granularity** of a dataset is what a single row represents. You can also think of it as the level of detail included in the data. To determine the data's granularity, ask: what does each row in the dataset represent? Fine-grained data contains a high level of detail, with a single row representing a small individual unit. For example, each record may represent one person. Coarse-grained data is encoded such that a single row represents a large individual unit – for example, each record may represent a group of people.\n",
    "\n",
    "### Temporality\n",
    "The **temporality** of a dataset describes the periodicity over which the data was collected as well as when the data was most recently collected or updated. \n",
    "\n",
    "Time and date fields of a dataset could represent a few things:\n",
    "\n",
    "1. when the \"event\" happened\n",
    "2. when the data was collected, or when it was entered into the system\n",
    "3. when the data was copied into the database \n",
    "\n",
    "To fully understand the temporality of the data, it also may be necessary to standardize time zones or inspect recurring time-based trends in the data (do patterns recur in 24-hour periods? Over the course of a month? Seasonally?). The convention for standardizing time is the Coordinated Universal Time (UTC), an international time standard measured at 0 degrees latitude that stays consistent throughout the year (no daylight savings). We can represent Berkeley's time zone, Pacific Standard Time (PST), as UTC-7 (with daylight savings). \n",
    "\n",
    "#### Temporality with `pandas`' `dt` accessors \n",
    "Let's briefly look at how we can use `pandas`' `dt` accessors to work with dates/times in a dataset using the dataset you'll see in Lab 3: the Berkeley PD Calls for Service dataset."
   ]
  },
  {
   "cell_type": "code",
   "execution_count": null,
   "metadata": {},
   "outputs": [],
   "source": [
    "#| code-fold: true\n",
    "calls = pd.read_csv(\"data/Berkeley_PD_-_Calls_for_Service.csv\")\n",
    "calls.head()"
   ]
  },
  {
   "cell_type": "markdown",
   "metadata": {},
   "source": [
    "Looks like there are three columns with dates/times: `EVENTDT`, `EVENTTM`, and `InDbDate`. \n",
    "\n",
    "Most likely, `EVENTDT` stands for the date when the event took place, `EVENTTM` stands for the time of day the event took place (in 24-hr format), and `InDbDate` is the date this call is recorded onto the database.\n",
    "\n",
    "If we check the data type of these columns, we will see they are stored as strings. We can convert them to `datetime` objects using pandas `to_datetime` function."
   ]
  },
  {
   "cell_type": "code",
   "execution_count": null,
   "metadata": {},
   "outputs": [],
   "source": [
    "#| code-fold: false\n",
    "calls[\"EVENTDT\"] = pd.to_datetime(calls[\"EVENTDT\"])\n",
    "calls.head()"
   ]
  },
  {
   "cell_type": "markdown",
   "metadata": {},
   "source": [
    "Now, we can use the `dt` accessor on this column.\n",
    "\n",
    "We can get the month: "
   ]
  },
  {
   "cell_type": "code",
   "execution_count": null,
   "metadata": {},
   "outputs": [],
   "source": [
    "#| code-fold: false\n",
    "calls[\"EVENTDT\"].dt.month.head()"
   ]
  },
  {
   "cell_type": "markdown",
   "metadata": {},
   "source": [
    "Which day of the week the date is on:"
   ]
  },
  {
   "cell_type": "code",
   "execution_count": null,
   "metadata": {},
   "outputs": [],
   "source": [
    "#| code-fold: false\n",
    "calls[\"EVENTDT\"].dt.dayofweek.head()"
   ]
  },
  {
   "cell_type": "markdown",
   "metadata": {},
   "source": [
    "Check the mimimum values to see if there are any suspicious-looking, 70s dates:"
   ]
  },
  {
   "cell_type": "code",
   "execution_count": null,
   "metadata": {},
   "outputs": [],
   "source": [
    "#| code-fold: false\n",
    "calls.sort_values(\"EVENTDT\").head()"
   ]
  },
  {
   "cell_type": "markdown",
   "metadata": {},
   "source": [
    "Doesn't look like it! We are good!\n",
    "\n",
    "\n",
    "We can also do many things with the `dt` accessor like switching time zones and converting time back to UNIX/POSIX time. Check out the documentation on [`.dt` accessor](https://pandas.pydata.org/docs/user_guide/basics.html#basics-dt-accessors) and [time series/date functionality](https://pandas.pydata.org/docs/user_guide/timeseries.html#).\n",
    "\n",
    "## Faithfulness\n",
    "\n",
    "At this stage in our data cleaning and EDA workflow, we've achieved quite a lot: we've identified how our data is structured, come to terms with what information it encodes, and gained insight as to how it was generated. Throughout this process, we should always recall the original intent of our work in Data Science – to use data to better understand and model the real world. To achieve this goal, we need to ensure that the data we use is faithful to reality; that is, that our data accurately captures the \"real world.\"\n",
    "\n",
    "Data used in research or industry is often \"messy\" – there may be errors or inaccuracies that impact the faithfulness of the dataset. Signs that data may not be faithful include:\n",
    "\n",
    "* Unrealistic or \"incorrect\" values, such as negative counts, locations that don't exist, or dates set in the future\n",
    "* Violations of obvious dependencies, like an age that does not match a birthday\n",
    "* Clear signs that data was entered by hand, which can lead to spelling errors or fields that are incorrectly shifted\n",
    "* Signs of data falsification, such as fake email addresses or repeated use of the same names\n",
    "* Duplicated records or fields containing the same information\n",
    "* Truncated data, e.g. Microsoft Excel would limit the number of rows to 655536 and the number of columns to 255\n",
    "\n",
    "We often solve some of these more common issues in the following ways: \n",
    "\n",
    "* Spelling errors: apply corrections or drop records that aren't in a dictionary\n",
    "* Time zone inconsistencies: convert to a common time zone (e.g. UTC) \n",
    "* Duplicated records or fields: identify and eliminate duplicates (using primary keys)\n",
    "* Unspecified or inconsistent units: infer the units and check that values are in reasonable ranges in the data\n",
    "\n",
    "### Missing Values\n",
    "Another common issue encountered with real-world datasets is that of missing data. One strategy to resolve this is to simply drop any records with missing values from the dataset. This does, however, introduce the risk of inducing biases – it is possible that the missing or corrupt records may be systemically related to some feature of interest in the data. Another solution is to keep the data as `NaN` values. \n",
    "\n",
    "A third method to address missing data is to perform **imputation**: infer the missing values using other data available in the dataset. There is a wide variety of imputation techniques that can be implemented; some of the most common are listed below.\n",
    "\n",
    "* Average imputation: replace missing values with the average value for that field\n",
    "* Hot deck imputation: replace missing values with some random value\n",
    "* Regression imputation: develop a model to predict missing values and replace with the predicted value from the model.\n",
    "* Multiple imputation: replace missing values with multiple random values\n",
    "\n",
    "Regardless of the strategy used to deal with missing data, we should think carefully about *why* particular records or fields may be missing – this can help inform whether or not the absence of these values is significant or meaningful.\n",
    "\n",
    "## EDA Demo 1: Tuberculosis in the United States\n",
    "\n",
    "Now, let's walk through the data-cleaning and EDA workflow to see what can we learn about the presence of Tuberculosis in the United States!\n",
    "\n",
    "We will examine the data included in the [original CDC article](https://www.cdc.gov/mmwr/volumes/71/wr/mm7112a1.htm?s_cid=mm7112a1_w#T1_down) published in 2021.\n",
    "\n",
    "\n",
    "### CSVs and Field Names\n",
    "Suppose Table 1 was saved as a CSV file located in `data/cdc_tuberculosis.csv`.\n",
    "\n",
    "We can then explore the CSV (which is a text file, and does not contain binary-encoded data) in many ways:\n",
    "1. Using a text editor like emacs, vim, VSCode, etc.\n",
    "2. Opening the CSV directly in DataHub (read-only), Excel, Google Sheets, etc.\n",
    "3. The `Python` file object\n",
    "4. `pandas`, using `pd.read_csv()`\n",
    "\n",
    "To try out options 1 and 2, you can view or download the Tuberculosis from the [lecture demo notebook](https://data100.datahub.berkeley.edu/hub/user-redirect/git-pull?repo=https%3A%2F%2Fgithub.com%2FDS-100%2Fsp25-student&urlpath=lab%2Ftree%2Fsp25-student%2Flecture%2Flec05%2Flec05-part-1-eda-tuberculosis.ipynb&branch=main) under the `data` folder in the left hand menu. Notice how the CSV file is a type of **rectangular data (i.e., tabular data) stored as comma-separated values**.\n",
    "\n",
    "Next, let's try out option 3 using the `Python` file object. We'll look at the first four lines:"
   ]
  },
  {
   "cell_type": "code",
   "execution_count": null,
   "metadata": {},
   "outputs": [],
   "source": [
    "#| code-fold: true\n",
    "with open(\"data/cdc_tuberculosis.csv\", \"r\") as f:\n",
    "    i = 0\n",
    "    for row in f:\n",
    "        print(row)\n",
    "        i += 1\n",
    "        if i > 3:\n",
    "            break"
   ]
  },
  {
   "cell_type": "markdown",
   "metadata": {},
   "source": [
    "Whoa, why are there blank lines interspaced between the lines of the CSV?\n",
    "\n",
    "You may recall that all line breaks in text files are encoded as the special newline character `\\n`. Python's `print()` prints each string (including the newline), and an additional newline on top of that.\n",
    "\n",
    "If you're curious, we can use the `repr()` function to return the raw string with all special characters:"
   ]
  },
  {
   "cell_type": "code",
   "execution_count": null,
   "metadata": {},
   "outputs": [],
   "source": [
    "#| code-fold: true\n",
    "with open(\"data/cdc_tuberculosis.csv\", \"r\") as f:\n",
    "    i = 0\n",
    "    for row in f:\n",
    "        print(repr(row)) # print raw strings\n",
    "        i += 1\n",
    "        if i > 3:\n",
    "            break"
   ]
  },
  {
   "cell_type": "markdown",
   "metadata": {},
   "source": [
    "Finally, let's try option 4 and use the tried-and-true Data 100 approach: `pandas`."
   ]
  },
  {
   "cell_type": "code",
   "execution_count": null,
   "metadata": {},
   "outputs": [],
   "source": [
    "#| code-fold: false\n",
    "tb_df = pd.read_csv(\"data/cdc_tuberculosis.csv\")\n",
    "tb_df.head()"
   ]
  },
  {
   "cell_type": "markdown",
   "metadata": {},
   "source": [
    "You may notice some strange things about this table: what's up with the \"Unnamed\" column names and the first row? \n",
    "\n",
    "Congratulations — you're ready to wrangle your data! Because of how things are stored, we'll need to clean the data a bit to name our columns better.\n",
    "\n",
    "A reasonable first step is to identify the row with the right header. The `pd.read_csv()` function ([documentation](https://pandas.pydata.org/docs/reference/api/pandas.read_csv.html)) has the convenient `header` parameter that we can set to use the elements in row 1 as the appropriate columns:"
   ]
  },
  {
   "cell_type": "code",
   "execution_count": null,
   "metadata": {},
   "outputs": [],
   "source": [
    "#| code-fold: false\n",
    "tb_df = pd.read_csv(\"data/cdc_tuberculosis.csv\", header=1) # row index\n",
    "tb_df.head(5)"
   ]
  },
  {
   "cell_type": "markdown",
   "metadata": {},
   "source": [
    "### Record Granularity\n",
    "\n",
    "You might already be wondering: what's up with that first record?\n",
    "\n",
    "Row 0 is what we call a **rollup record**, or summary record. It's often useful when displaying tables to humans. The **granularity** of record 0 (Totals) vs the rest of the records (States) is different.\n",
    "\n",
    "Okay, EDA step two. How was the rollup record aggregated?\n",
    "\n",
    "Let's check if Total TB cases is the sum of all state TB cases. If we sum over all rows, we should get **2x** the total cases in each of our TB cases by year (why do you think this is?)."
   ]
  },
  {
   "cell_type": "code",
   "execution_count": null,
   "metadata": {},
   "outputs": [],
   "source": [
    "#| code-fold: true\n",
    "tb_df.sum(axis=0)"
   ]
  },
  {
   "cell_type": "markdown",
   "metadata": {},
   "source": [
    "Whoa, what's going on with the TB cases in 2019, 2020, and 2021? Check out the column types:"
   ]
  },
  {
   "cell_type": "code",
   "execution_count": null,
   "metadata": {},
   "outputs": [],
   "source": [
    "#| code-fold: true\n",
    "tb_df.dtypes"
   ]
  },
  {
   "cell_type": "markdown",
   "metadata": {},
   "source": [
    "Since there are commas in the values for TB cases, the numbers are read as the `object` datatype, or **storage type** (close to the `Python` string datatype), so `pandas` is concatenating strings instead of adding integers (recall that Python can \"sum\", or concatenate, strings together: `\"data\" + \"100\"` evaluates to `\"data100\"`). \n",
    "\n",
    "\n",
    "Fortunately `read_csv` also has a `thousands` parameter ([documentation](https://pandas.pydata.org/docs/reference/api/pandas.read_csv.html)):"
   ]
  },
  {
   "cell_type": "code",
   "execution_count": null,
   "metadata": {},
   "outputs": [],
   "source": [
    "#| code-fold: false\n",
    "# improve readability: chaining method calls with outer parentheses/line breaks\n",
    "tb_df = (\n",
    "    pd.read_csv(\"data/cdc_tuberculosis.csv\", header=1, thousands=',')\n",
    ")\n",
    "tb_df.head(5)"
   ]
  },
  {
   "cell_type": "code",
   "execution_count": null,
   "metadata": {},
   "outputs": [],
   "source": [
    "#| code-fold: false\n",
    "tb_df.sum()"
   ]
  },
  {
   "cell_type": "markdown",
   "metadata": {},
   "source": [
    "The total TB cases look right. Phew!\n",
    "\n",
    "Let's just look at the records with **state-level granularity**:"
   ]
  },
  {
   "cell_type": "code",
   "execution_count": null,
   "metadata": {},
   "outputs": [],
   "source": [
    "#| code-fold: true\n",
    "state_tb_df = tb_df[1:]\n",
    "state_tb_df.head(5)"
   ]
  },
  {
   "cell_type": "markdown",
   "metadata": {},
   "source": [
    "### Gather Census Data\n",
    "\n",
    "U.S. Census population estimates [source](https://www.census.gov/data/tables/time-series/demo/popest/2010s-state-total.html) (2019), [source](https://www.census.gov/data/tables/time-series/demo/popest/2020s-state-total.html) (2020-2024).\n",
    "\n",
    "Running the below cells cleans the data.\n",
    "There are a few new methods here:\n",
    "\n",
    "* `df.convert_dtypes()` ([documentation](https://pandas.pydata.org/docs/reference/api/pandas.DataFrame.convert_dtypes.html)) conveniently converts all float dtypes into ints and is out of scope for the class.\n",
    "* `df.drop_na()` ([documentation](https://pandas.pydata.org/docs/reference/api/pandas.DataFrame.dropna.html)) will be explained in more detail next time."
   ]
  },
  {
   "cell_type": "code",
   "execution_count": null,
   "metadata": {},
   "outputs": [],
   "source": [
    "#| code-fold: true\n",
    "# 2010s census data\n",
    "census_2010s_df = pd.read_csv(\"data/nst-est2019-01.csv\", header=3, thousands=\",\")\n",
    "census_2010s_df = (\n",
    "    census_2010s_df\n",
    "    .rename(columns={\"Unnamed: 0\": \"Geographic Area\"})\n",
    "    .drop(columns=[\"Census\", \"Estimates Base\"])\n",
    "    .convert_dtypes() # \"smart\" converting of columns to int, use at your own risk\n",
    "    .dropna()  # we'll introduce this very soon\n",
    ")\n",
    "census_2010s_df['Geographic Area'] = census_2010s_df['Geographic Area'].str.strip('.')\n",
    "\n",
    "# with pd.option_context('display.min_rows', 30): # shows more rows\n",
    "#     display(census_2010s_df)\n",
    "    \n",
    "census_2010s_df.head(5)"
   ]
  },
  {
   "cell_type": "markdown",
   "metadata": {},
   "source": [
    "Occasionally, you will want to modify code that you have imported.  To reimport those modifications you can either use `python`'s `importlib` library:\n",
    "\n",
    "```python\n",
    "from importlib import reload\n",
    "reload(utils)\n",
    "```\n",
    "\n",
    "or use `iPython` magic which will intelligently import code when files change:\n",
    "\n",
    "```python\n",
    "%load_ext autoreload\n",
    "%autoreload 2\n",
    "```"
   ]
  },
  {
   "cell_type": "code",
   "execution_count": null,
   "metadata": {},
   "outputs": [],
   "source": [
    "#| code-fold: true\n",
    "# census 2020s data\n",
    "census_2020s_df = pd.read_csv(\"data/NST-EST2024-POP.csv\", header=3, thousands=\",\")\n",
    "census_2020s_df = (\n",
    "    census_2020s_df\n",
    "    .drop(columns=[\"Unnamed: 1\"])\n",
    "    .rename(columns={\"Unnamed: 0\": \"Geographic Area\"})\n",
    "    .loc[:, \"Geographic Area\":\"2024\"] # ignore all the blank extra columns\n",
    "    .convert_dtypes()                 # \"smart\" converting of columns, use at your own risk\n",
    "    .dropna()                         # we'll introduce this next ti\n",
    ")\n",
    "census_2020s_df['Geographic Area'] = census_2020s_df['Geographic Area'].str.strip('.')\n",
    "\n",
    "census_2020s_df.head(5)"
   ]
  },
  {
   "cell_type": "markdown",
   "metadata": {},
   "source": [
    "### Joining Data (Merging `DataFrame`s)\n",
    "\n",
    "Time to `merge`! Here we use the `DataFrame` method `df1.merge(right=df2, ...)` on `DataFrame` `df1` ([documentation](https://pandas.pydata.org/docs/reference/api/pandas.DataFrame.merge.html)). Contrast this with the function `pd.merge(left=df1, right=df2, ...)` ([documentation](https://pandas.pydata.org/docs/reference/api/pandas.merge.html?highlight=pandas%20merge#pandas.merge)). Feel free to use either."
   ]
  },
  {
   "cell_type": "code",
   "execution_count": null,
   "metadata": {},
   "outputs": [],
   "source": [
    "#| code-fold: false\n",
    "# merge TB DataFrame with two US census DataFrames\n",
    "tb_census_df = (\n",
    "    tb_df\n",
    "    .merge(right=census_2010s_df,\n",
    "           left_on=\"U.S. jurisdiction\", right_on=\"Geographic Area\")\n",
    "    .merge(right=census_2020s_df,\n",
    "           left_on=\"U.S. jurisdiction\", right_on=\"Geographic Area\")\n",
    ")\n",
    "tb_census_df.head(5)"
   ]
  },
  {
   "cell_type": "markdown",
   "metadata": {},
   "source": [
    "We're only interested in the population for the years 2019, 2020, and 2021, so let's select just those columns:"
   ]
  },
  {
   "cell_type": "code",
   "execution_count": null,
   "metadata": {},
   "outputs": [],
   "source": [
    "#| code-fold: false\n",
    "census_2019_df = census_2010s_df[['Geographic Area', '2019']]\n",
    "census_2020_2021_df = census_2020s_df[['Geographic Area', '2020', '2021']]\n",
    "\n",
    "display(tb_df.tail(2))\n",
    "display(census_2019_df.tail(2))\n",
    "display(census_2020_2021_df.tail(2))"
   ]
  },
  {
   "cell_type": "markdown",
   "metadata": {},
   "source": [
    "All three dataframes have a column containing U.S. states, along with some other geographic areas. These columns are our **join keys**.\n",
    "\n",
    "* Below, we use `df1.merge(right=df2, ...)` to carry out the merge ([documentation](https://pandas.pydata.org/docs/reference/api/pandas.DataFrame.merge.html)).\n",
    "\n",
    "* We could have alternatively used the function `pd.merge(left=df1, right=df2, ...)` ([documentation](https://pandas.pydata.org/docs/reference/api/pandas.merge.html#pandas.merge))."
   ]
  },
  {
   "cell_type": "code",
   "execution_count": null,
   "metadata": {},
   "outputs": [],
   "source": [
    "#| code-fold: false\n",
    "# merge TB dataframe with two US census dataframes\n",
    "tb_census_df = (\n",
    "    tb_df\n",
    "    .merge(right=census_2019_df,\n",
    "           left_on=\"U.S. jurisdiction\", right_on=\"Geographic Area\")\n",
    "    .merge(right=census_2020_2021_df,\n",
    "           left_on=\"U.S. jurisdiction\", right_on=\"Geographic Area\")\n",
    ")\n",
    "tb_census_df.tail(2)"
   ]
  },
  {
   "cell_type": "markdown",
   "metadata": {},
   "source": [
    "To see what's going on with the duplicate columns, and the `_x` and `_y`, let's do the just the first merge:"
   ]
  },
  {
   "cell_type": "code",
   "execution_count": null,
   "metadata": {},
   "outputs": [],
   "source": [
    "#| code-fold: false\n",
    "tb_df.merge(right=census_2019_df, \n",
    "            left_on=\"U.S. jurisdiction\", \n",
    "            right_on=\"Geographic Area\").head()"
   ]
  },
  {
   "cell_type": "markdown",
   "metadata": {},
   "source": [
    "Notice that the columns containing the **join keys** have all been retained, and all contain the same values.\n",
    "\n",
    "* Furthermore, notice that the duplicated columns are appended with `_x` and `_y` to keep the column names unique.\n",
    "\n",
    "* In the TB case count data, column `2019` represents the number of TB cases in 2019, but in the Census data, column `2019` represents the U.S. population.\n",
    "\n",
    "We can use the `suffixes` argument to modify the `_x` and `_y` defaults to our liking ([documentation](https://pandas.pydata.org/docs/reference/api/pandas.merge.html#pandas.merge))."
   ]
  },
  {
   "cell_type": "code",
   "execution_count": null,
   "metadata": {},
   "outputs": [],
   "source": [
    "#| code-fold: false\n",
    "# Specify the suffixes to use for duplicated column names\n",
    "tb_df.merge(right=census_2019_df,\n",
    "           left_on=\"U.S. jurisdiction\", \n",
    "           right_on=\"Geographic Area\",\n",
    "           suffixes=('_cases', '_population')).head()"
   ]
  },
  {
   "cell_type": "markdown",
   "metadata": {},
   "source": [
    "Notice the `_x` and `_y` have changed to `_cases` and `_population`, just like we specified.\n",
    "\n",
    "Putting it all together, and dropping the duplicated `Geographic Area` columns:"
   ]
  },
  {
   "cell_type": "code",
   "execution_count": null,
   "metadata": {},
   "outputs": [],
   "source": [
    "#| code-fold: false\n",
    "# Redux: merge TB dataframe with two US census dataframes\n",
    "tb_census_df = (\n",
    "    tb_df\n",
    "    \n",
    "    .merge(right=census_2019_df,\n",
    "           left_on=\"U.S. jurisdiction\", right_on=\"Geographic Area\",\n",
    "           suffixes=('_cases', '_population'))\n",
    "    .drop(columns=\"Geographic Area\")\n",
    "\n",
    "    .merge(right=census_2020_2021_df,\n",
    "           left_on=\"U.S. jurisdiction\", right_on=\"Geographic Area\",\n",
    "           suffixes=('_cases', '_population'))\n",
    "    .drop(columns=\"Geographic Area\")\n",
    "    \n",
    ")\n",
    "tb_census_df.tail(2)"
   ]
  },
  {
   "cell_type": "markdown",
   "metadata": {},
   "source": [
    "### Reproducing Data: Compute Incidence\n",
    "\n",
    "Let's see if we can reproduce the original CDC numbers from our augmented dataset of TB case counts and state populations.\n",
    "\n",
    "- Recall that the nationwide TB incidence was **2.7 in 2019**, **2.2 in 2020**, and **2.4 in 2021**.\n",
    "\n",
    "- Along the way, we'll also compute state-level incidence.\n",
    "\n",
    "From the [CDC report](https://www.cdc.gov/mmwr/volumes/71/wr/mm7112a1.htm?s_cid=mm7112a1_w#T1_down): TB incidence is computed as “Cases per 100,000 persons using mid-year population estimates from the U.S. Census Bureau.”\n",
    "\n",
    "Let's start with a simpler question: What is the per person incidence? \n",
    "\n",
    "- In other words, what is the probability that a randomly selected person in the population had TB within a given year?\n",
    "\n",
    "$$\\text{TB incidence per person} = \\frac{\\text{\\# TB cases in population}}{\\text{Total population size}}$$\n",
    "\n",
    "Let's calculate per person incidence for 2019:"
   ]
  },
  {
   "cell_type": "code",
   "execution_count": null,
   "metadata": {},
   "outputs": [],
   "source": [
    "#| code-fold: false\n",
    "# Calculate per person incidence for 2019\n",
    "tb_census_df[\"per person incidence 2019\"] = (\n",
    "    tb_census_df[\"2019_cases\"]/tb_census_df[\"2019_population\"]\n",
    ")\n",
    "tb_census_df"
   ]
  },
  {
   "cell_type": "markdown",
   "metadata": {},
   "source": [
    "TB is really rare in the United States, so per person TB incidence is really low, as expected.\n",
    "\n",
    "- But, if we were to consider 100,000 people, the probability of seeing a TB case is higher.\n",
    "\n",
    "- In fact, it would be 100,000 times higher!\n",
    "\n",
    "$$\\text{TB incidence per 100,000} = \\text{100,000} * \\text{TB incidence per person}$$"
   ]
  },
  {
   "cell_type": "code",
   "execution_count": null,
   "metadata": {},
   "outputs": [],
   "source": [
    "#| code-fold: false\n",
    "# To help read bigger numbers in Python, you can use _ to separate thousands,\n",
    "# akin to using commas. 100_000 is the same as writing 100000, but more readable.\n",
    "tb_census_df[\"per 100k incidence 2019\"] = (\n",
    "    100_000 * tb_census_df[\"per person incidence 2019\"] \n",
    ")\n",
    "tb_census_df"
   ]
  },
  {
   "cell_type": "markdown",
   "metadata": {},
   "source": [
    "Now we're seeing more human-readable values.\n",
    "\n",
    "- For example, there 5.3 tuberculosis cases for every 100,000 California residents in 2019.\n",
    "\n",
    "To wrap up this exercise, let's calculate the nationwide incidence of TB in 2019."
   ]
  },
  {
   "cell_type": "code",
   "execution_count": null,
   "metadata": {},
   "outputs": [],
   "source": [
    "#| code-fold: false\n",
    "# Recall that the CDC reported an incidence of 2.7 per 100,000 in 2019.\n",
    "tot_tb_cases_50_states = tb_census_df[\"2019_cases\"].sum()\n",
    "tot_pop_50_states = tb_census_df[\"2019_population\"].sum()\n",
    "tb_per_100k_50_states = 100_000 * tot_tb_cases_50_states / tot_pop_50_states\n",
    "tb_per_100k_50_states"
   ]
  },
  {
   "cell_type": "markdown",
   "metadata": {},
   "source": [
    "We can use a `for` loop to compute the incidence for 2019, 2020, and 2021.\n",
    "\n",
    "- You'll notice that we get the same numbers reported by the CDC!"
   ]
  },
  {
   "cell_type": "code",
   "execution_count": null,
   "metadata": {},
   "outputs": [],
   "source": [
    "#| code-fold: false\n",
    "# f strings (f\"...\") are a handy way to pass in variables to strings.\n",
    "for year in [2019, 2020, 2021]:\n",
    "  tot_tb_cases_50_states = tb_census_df[f\"{year}_cases\"].sum()\n",
    "  tot_pop_50_states = tb_census_df[f\"{year}_population\"].sum()\n",
    "  tb_per_100k_50_states = 100_000 * tot_tb_cases_50_states / tot_pop_50_states\n",
    "  print(tb_per_100k_50_states)"
   ]
  },
  {
   "cell_type": "markdown",
   "metadata": {},
   "source": [
    "## Summary\n",
    "We went over a lot of content this lecture; let's summarize the most important points: \n",
    "\n",
    "### Dealing with Missing Values\n",
    "There are a few options we can take to deal with missing data:\n",
    "\n",
    "* Drop missing records\n",
    "* Keep `NaN` missing values\n",
    "* Impute using an interpolated column\n",
    "\n",
    "### EDA and Data Wrangling\n",
    "There are several ways to approach EDA and Data Wrangling: \n",
    "\n",
    "* Examine the **data and metadata**: what is the date, size, organization, and structure of the data? \n",
    "* Examine each **field/attribute/dimension** individually.\n",
    "* Examine pairs of related dimensions (e.g. breaking down grades by major).\n",
    "* Along the way, we can:\n",
    "    * **Visualize** or summarize the data.\n",
    "    * **Validate assumptions** about data and its collection process. Pay particular attention to when the data was collected. \n",
    "    * Identify and **address anomalies**.\n",
    "    * Apply data transformations and corrections (we'll cover this in the upcoming lecture).\n",
    "    * **Record everything you do!** Developing in Jupyter Notebook promotes *reproducibility* of your own work!\n",
    "\n",
    "## [BONUS] EDA Demo 2: Mauna Loa CO<sub>2</sub> Data -- A Lesson in Data Faithfulness\n",
    "\n",
    "We no longer cover the following demo in lecture, but we provide the following section in the course notes for interested students.\n",
    "\n",
    "[Mauna Loa Observatory](https://gml.noaa.gov/ccgg/trends/data.html) has been monitoring CO<sub>2</sub> concentrations since 1958."
   ]
  },
  {
   "cell_type": "code",
   "execution_count": null,
   "metadata": {},
   "outputs": [],
   "source": [
    "#| code-fold: false\n",
    "co2_file = \"data/co2_mm_mlo.txt\""
   ]
  },
  {
   "cell_type": "markdown",
   "metadata": {},
   "source": [
    "Let's do some **EDA**!!\n",
    "\n",
    "### Reading this file into `Pandas`?\n",
    "Let's instead check out this `.txt` file. Some questions to keep in mind: Do we trust this file extension? What structure is it? \n",
    "\n",
    "Lines 71-78 (inclusive) are shown below: \n",
    "\n",
    "    line number |                            file contents\n",
    "    \n",
    "    71          |   #            decimal     average   interpolated    trend    #days\n",
    "    72          |   #             date                             (season corr)\n",
    "    73          |   1958   3    1958.208      315.71      315.71      314.62     -1\n",
    "    74          |   1958   4    1958.292      317.45      317.45      315.29     -1\n",
    "    75          |   1958   5    1958.375      317.50      317.50      314.71     -1\n",
    "    76          |   1958   6    1958.458      -99.99      317.10      314.85     -1\n",
    "    77          |   1958   7    1958.542      315.86      315.86      314.98     -1\n",
    "    78          |   1958   8    1958.625      314.93      314.93      315.94     -1\n",
    "\n",
    "\n",
    "Notice how: \n",
    "\n",
    "- The values are separated by white space, possibly tabs.\n",
    "- The data line up down the rows. For example, the month appears in 7th to 8th position of each line.\n",
    "- The 71st and 72nd lines in the file contain column headings split over two lines.\n",
    "\n",
    "We can use `read_csv` to read the data into a `pandas` `DataFrame`, and we provide several arguments to specify that the separators are white space, there is no header (**we will set our own column names**), and to skip the first 72 rows of the file."
   ]
  },
  {
   "cell_type": "code",
   "execution_count": null,
   "metadata": {},
   "outputs": [],
   "source": [
    "#| code-fold: false\n",
    "co2 = pd.read_csv(\n",
    "    co2_file, header = None, skiprows = 72,\n",
    "    sep = r'\\s+'       #delimiter for continuous whitespace (stay tuned for regex next lecture))\n",
    ")\n",
    "co2.head()"
   ]
  },
  {
   "cell_type": "markdown",
   "metadata": {},
   "source": [
    "Congratulations! You've wrangled the data!\n",
    "\n",
    "<br/>\n",
    "\n",
    "...But our columns aren't named.\n",
    "**We need to do more EDA.**\n",
    "\n",
    "### Exploring Variable Feature Types\n",
    "\n",
    "The NOAA [webpage](https://gml.noaa.gov/ccgg/trends/) might have some useful tidbits (in this case it doesn't).\n",
    "\n",
    "Using this information, we'll rerun `pd.read_csv`, but this time with some **custom column names.**"
   ]
  },
  {
   "cell_type": "code",
   "execution_count": null,
   "metadata": {},
   "outputs": [],
   "source": [
    "#| code-fold: false\n",
    "co2 = pd.read_csv(\n",
    "    co2_file, header = None, skiprows = 72,\n",
    "    sep = r'\\s+', #regex for continuous whitespace (next lecture)\n",
    "    names = ['Yr', 'Mo', 'DecDate', 'Avg', 'Int', 'Trend', 'Days']\n",
    ")\n",
    "co2.head()"
   ]
  },
  {
   "cell_type": "markdown",
   "metadata": {},
   "source": [
    "### Visualizing CO<sub>2</sub>\n",
    "Scientific studies tend to have very clean data, right...? Let's jump right in and make a time series plot of CO<sub>2</sub> monthly averages."
   ]
  },
  {
   "cell_type": "code",
   "execution_count": null,
   "metadata": {},
   "outputs": [],
   "source": [
    "#| code-fold: true\n",
    "sns.lineplot(x='DecDate', y='Avg', data=co2);"
   ]
  },
  {
   "cell_type": "markdown",
   "metadata": {},
   "source": [
    "The code above uses the `seaborn` plotting library (abbreviated `sns`). We will cover this in the Visualization lecture, but now you don't need to worry about how it works!\n",
    "\n",
    "Yikes! Plotting the data uncovered a problem. The sharp vertical lines suggest that we have some **missing values**. What happened here?"
   ]
  },
  {
   "cell_type": "code",
   "execution_count": null,
   "metadata": {},
   "outputs": [],
   "source": [
    "#| code-fold: false\n",
    "co2.head()"
   ]
  },
  {
   "cell_type": "code",
   "execution_count": null,
   "metadata": {},
   "outputs": [],
   "source": [
    "#| code-fold: false\n",
    "co2.tail()"
   ]
  },
  {
   "cell_type": "markdown",
   "metadata": {},
   "source": [
    "Some data have unusual values like -1 and -99.99.\n",
    "\n",
    "Let's check the description at the top of the file again.\n",
    "\n",
    "* -1 signifies a missing value for the number of days `Days` the equipment was in operation that month.\n",
    "* -99.99 denotes a missing monthly average `Avg`\n",
    "\n",
    "How can we fix this? First, let's explore other aspects of our data. Understanding our data will help us decide what to do with the missing values.\n",
    "\n",
    "<br/>\n",
    "\n",
    "\n",
    "### Sanity Checks: Reasoning about the data\n",
    "First, we consider the shape of the data. How many rows should we have?\n",
    "\n",
    "* If chronological order, we should have one record per month.\n",
    "* Data from March 1958 to August 2019.\n",
    "* We should have $ 12 \\times (2019-1957) - 2 - 4 = 738 $ records."
   ]
  },
  {
   "cell_type": "code",
   "execution_count": null,
   "metadata": {},
   "outputs": [],
   "source": [
    "#| code-fold: false\n",
    "co2.shape"
   ]
  },
  {
   "cell_type": "markdown",
   "metadata": {},
   "source": [
    "Nice!! The number of rows (i.e. records) match our expectations.\n",
    "\n",
    "\n",
    "Let's now check the quality of each feature.\n",
    "\n",
    "### Understanding Missing Value 1: `Days`\n",
    "`Days` is a time field, so let's analyze other time fields to see if there is an explanation for missing values of days of operation.\n",
    "\n",
    "Let's start with **months**, `Mo`.\n",
    "\n",
    "Are we missing any records? The number of months should have 62 or 61 instances (March 1957-August 2019)."
   ]
  },
  {
   "cell_type": "code",
   "execution_count": null,
   "metadata": {},
   "outputs": [],
   "source": [
    "#| code-fold: false\n",
    "co2[\"Mo\"].value_counts().sort_index()"
   ]
  },
  {
   "cell_type": "markdown",
   "metadata": {},
   "source": [
    "As expected Jan, Feb, Sep, Oct, Nov, and Dec have 61 occurrences and the rest 62.\n",
    "\n",
    "<br/>\n",
    "\n",
    "Next let's explore **days** `Days` itself, which is the number of days that the measurement equipment worked."
   ]
  },
  {
   "cell_type": "code",
   "execution_count": null,
   "metadata": {},
   "outputs": [],
   "source": [
    "#| code-fold: true\n",
    "sns.displot(co2['Days']);\n",
    "plt.title(\"Distribution of days feature\"); # suppresses unneeded plotting output"
   ]
  },
  {
   "cell_type": "markdown",
   "metadata": {},
   "source": [
    "In terms of data quality, a handful of months have averages based on measurements taken on fewer than half the days. In addition, there are nearly 200 missing values--**that's about 27% of the data**!\n",
    "\n",
    "<br/>\n",
    "\n",
    "Finally, let's check the last time feature, **year** `Yr`.\n",
    "\n",
    "Let's check to see if there is any connection between missing-ness and the year of the recording."
   ]
  },
  {
   "cell_type": "code",
   "execution_count": null,
   "metadata": {},
   "outputs": [],
   "source": [
    "#| code-fold: true\n",
    "sns.scatterplot(x=\"Yr\", y=\"Days\", data=co2);\n",
    "plt.title(\"Day field by Year\"); # the ; suppresses output"
   ]
  },
  {
   "cell_type": "markdown",
   "metadata": {},
   "source": [
    "**Observations**:\n",
    "\n",
    "* All of the missing data are in the early years of operation.\n",
    "* It appears there may have been problems with equipment in the mid to late 80s.\n",
    "\n",
    "**Potential Next Steps**:\n",
    "\n",
    "* Confirm these explanations through documentation about the historical readings.\n",
    "* Maybe drop the earliest recordings? However, we would want to delay such action until after we have examined the time trends and assess whether there are any potential problems.\n",
    "\n",
    "<br/>\n",
    "\n",
    "### Understanding Missing Value 2: `Avg`\n",
    "Next, let's return to the -99.99 values in `Avg` to analyze the overall quality of the CO<sub>2</sub> measurements. We'll plot a histogram of the average CO<sub>2</sub> measurements"
   ]
  },
  {
   "cell_type": "code",
   "execution_count": null,
   "metadata": {},
   "outputs": [],
   "source": [
    "#| code-fold: true\n",
    "# Histograms of average CO2 measurements\n",
    "sns.displot(co2['Avg']);"
   ]
  },
  {
   "cell_type": "markdown",
   "metadata": {},
   "source": [
    "The non-missing values are in the 300-400 range (a regular range of CO<sub>2</sub> levels).\n",
    "\n",
    "We also see that there are only a few missing `Avg` values (**<1% of values**). Let's examine all of them:"
   ]
  },
  {
   "cell_type": "code",
   "execution_count": null,
   "metadata": {},
   "outputs": [],
   "source": [
    "#| code-fold: false\n",
    "co2[co2[\"Avg\"] < 0]"
   ]
  },
  {
   "cell_type": "markdown",
   "metadata": {},
   "source": [
    "There doesn't seem to be a pattern to these values, other than that most records also were missing `Days` data.\n",
    "\n",
    "### Drop, `NaN`, or Impute Missing `Avg` Data?\n",
    "\n",
    "How should we address the invalid `Avg` data?\n",
    "\n",
    "1. Drop records\n",
    "2. Set to NaN\n",
    "3. Impute using some strategy\n",
    "\n",
    "Remember we want to fix the following plot:"
   ]
  },
  {
   "cell_type": "code",
   "execution_count": null,
   "metadata": {},
   "outputs": [],
   "source": [
    "#| code-fold: true\n",
    "sns.lineplot(x='DecDate', y='Avg', data=co2)\n",
    "plt.title(\"CO2 Average By Month\");"
   ]
  },
  {
   "cell_type": "markdown",
   "metadata": {},
   "source": [
    "Since we are plotting `Avg` vs `DecDate`, we should just focus on dealing with missing values for `Avg`.\n",
    "\n",
    "\n",
    "Let's consider a few options:\n",
    "1. Drop those records\n",
    "2. Replace -99.99 with NaN\n",
    "3. Substitute it with a likely value for the average CO<sub>2</sub>?\n",
    "\n",
    "What do you think are the pros and cons of each possible action?\n",
    "\n",
    "Let's examine each of these three options."
   ]
  },
  {
   "cell_type": "code",
   "execution_count": null,
   "metadata": {},
   "outputs": [],
   "source": [
    "#| code-fold: false\n",
    "# 1. Drop missing values\n",
    "co2_drop = co2[co2['Avg'] > 0]\n",
    "co2_drop.head()"
   ]
  },
  {
   "cell_type": "code",
   "execution_count": null,
   "metadata": {},
   "outputs": [],
   "source": [
    "#| code-fold: false\n",
    "# 2. Replace NaN with -99.99\n",
    "co2_NA = co2.replace(-99.99, np.nan)\n",
    "co2_NA.head()"
   ]
  },
  {
   "cell_type": "markdown",
   "metadata": {},
   "source": [
    "We'll also use a third version of the data.\n",
    "\n",
    "First, we note that the dataset already comes with a **substitute value** for the -99.99.\n",
    "\n",
    "From the file description:\n",
    "\n",
    ">  The `interpolated` column includes average values from the preceding column (`average`)\n",
    "and **interpolated values** where data are missing.  Interpolated values are\n",
    "computed in two steps...\n",
    "\n",
    "The `Int` feature has values that exactly match those in `Avg`, except when `Avg` is -99.99, and then a **reasonable** estimate is used instead.\n",
    "\n",
    "So, the third version of our data will use the `Int` feature instead of `Avg`."
   ]
  },
  {
   "cell_type": "code",
   "execution_count": null,
   "metadata": {},
   "outputs": [],
   "source": [
    "#| code-fold: false\n",
    "# 3. Use interpolated column which estimates missing Avg values\n",
    "co2_impute = co2.copy()\n",
    "co2_impute['Avg'] = co2['Int']\n",
    "co2_impute.head()"
   ]
  },
  {
   "cell_type": "markdown",
   "metadata": {},
   "source": [
    "What's a **reasonable** estimate?\n",
    "\n",
    "To answer this question, let's zoom in on a short time period, say the measurements in 1958 (where we know we have two missing values)."
   ]
  },
  {
   "cell_type": "code",
   "execution_count": null,
   "metadata": {},
   "outputs": [],
   "source": [
    "#| code-fold: true\n",
    "# results of plotting data in 1958\n",
    "\n",
    "def line_and_points(data, ax, title):\n",
    "    # assumes single year, hence Mo\n",
    "    ax.plot('Mo', 'Avg', data=data)\n",
    "    ax.scatter('Mo', 'Avg', data=data)\n",
    "    ax.set_xlim(2, 13)\n",
    "    ax.set_title(title)\n",
    "    ax.set_xticks(np.arange(3, 13))\n",
    "\n",
    "def data_year(data, year):\n",
    "    return data[data[\"Yr\"] == 1958]\n",
    "    \n",
    "# uses matplotlib subplots\n",
    "# you may see more next week; focus on output for now\n",
    "fig, axes = plt.subplots(ncols = 3, figsize=(12, 4), sharey=True)\n",
    "\n",
    "year = 1958\n",
    "line_and_points(data_year(co2_drop, year), axes[0], title=\"1. Drop Missing\")\n",
    "line_and_points(data_year(co2_NA, year), axes[1], title=\"2. Missing Set to NaN\")\n",
    "line_and_points(data_year(co2_impute, year), axes[2], title=\"3. Missing Interpolated\")\n",
    "\n",
    "fig.suptitle(f\"Monthly Averages for {year}\")\n",
    "plt.tight_layout()"
   ]
  },
  {
   "cell_type": "markdown",
   "metadata": {},
   "source": [
    "In the big picture since there are only 7 `Avg` values missing (**<1%** of 738 months), any of these approaches would work.\n",
    "\n",
    "However there is some appeal to **option C, Imputing**:\n",
    "\n",
    "* Shows seasonal trends for CO<sub>2</sub>\n",
    "* We are plotting all months in our data as a line plot\n",
    "\n",
    "\n",
    "Let's replot our original figure with option 3:"
   ]
  },
  {
   "cell_type": "code",
   "execution_count": null,
   "metadata": {},
   "outputs": [],
   "source": [
    "#| code-fold: true\n",
    "sns.lineplot(x='DecDate', y='Avg', data=co2_impute)\n",
    "plt.title(\"CO2 Average By Month, Imputed\");"
   ]
  },
  {
   "cell_type": "markdown",
   "metadata": {},
   "source": [
    "Looks pretty close to what we see on the NOAA [website](https://gml.noaa.gov/ccgg/trends/)!\n",
    "\n",
    "### Presenting the Data: A Discussion on Data Granularity\n",
    "\n",
    "From the description:\n",
    "\n",
    "* Monthly measurements are averages of average day measurements.\n",
    "* The NOAA GML website has datasets for daily/hourly measurements too.\n",
    "\n",
    "The data you present depends on your research question.\n",
    "\n",
    "**How do CO<sub>2</sub> levels vary by season?**\n",
    "\n",
    "* You might want to keep average monthly data.\n",
    "\n",
    "**Are CO<sub>2</sub> levels rising over the past 50+ years, consistent with global warming predictions?**\n",
    "\n",
    "* You might be happier with a **coarser granularity** of average year data!"
   ]
  },
  {
   "cell_type": "code",
   "execution_count": null,
   "metadata": {},
   "outputs": [],
   "source": [
    "#| code-fold: true\n",
    "co2_year = co2_impute.groupby('Yr').mean()\n",
    "sns.lineplot(x='Yr', y='Avg', data=co2_year)\n",
    "plt.title(\"CO2 Average By Year\");"
   ]
  },
  {
   "cell_type": "markdown",
   "metadata": {},
   "source": [
    "Indeed, we see a rise by nearly 100 ppm of CO<sub>2</sub> since Mauna Loa began recording in 1958.\n"
   ]
  }
 ],
 "metadata": {
  "kernelspec": {
   "display_name": "Python 3 (ipykernel)",
   "language": "python",
   "name": "python3"
  },
  "language_info": {
   "codemirror_mode": {
    "name": "ipython",
    "version": 3
   },
   "file_extension": ".py",
   "mimetype": "text/x-python",
   "name": "python",
   "nbconvert_exporter": "python",
   "pygments_lexer": "ipython3",
   "version": "3.11.9"
  }
 },
 "nbformat": 4,
 "nbformat_minor": 4
}
