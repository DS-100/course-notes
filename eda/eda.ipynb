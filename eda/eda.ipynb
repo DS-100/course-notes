{
  "cells": [
    {
      "cell_type": "raw",
      "metadata": {},
      "source": [
        "---\n",
        "title: Data Cleaning and EDA\n",
        "execute:\n",
        "  echo: true\n",
        "format:\n",
        "  html:\n",
        "    code-fold: true\n",
        "    code-tools: true\n",
        "    toc: true\n",
        "    toc-title: Data Cleaning and EDA\n",
        "    page-layout: full\n",
        "    theme:\n",
        "      - cosmo\n",
        "      - cerulean\n",
        "    callout-icon: false\n",
        "---"
      ]
    },
    {
      "cell_type": "markdown",
      "metadata": {},
      "source": [
        "::: {.callout-note collapse=\"false\"}\n",
        "## Learning Outcomes\n",
        "* Recognize common file formats\n",
        "* Categorize data by its variable type\n",
        "* Build awareness of issues with data faithfulness and develop targeted solutions\n",
        ":::\n",
        "\n",
        "**Lecture 5 covers the content till Faithfulness, the rest of EDA is covered in Lecture 6 (RegEx)**\n",
        "\n",
        "In the past few lectures, we've learned that `pandas` is a toolkit to restructure, modify, and explore a dataset. What we haven't yet touched on is *how* to make these data transformation decisions. When we receive a new set of data from the \"real world,\" how do we know what processing we should do to convert this data into a usable form?\n",
        "\n",
        "**Data cleaning**, also called **data wrangling**, is the process of transforming raw data to facilitate subsequent analysis. It is often used to address issues like:\n",
        "\n",
        "* Unclear structure or formatting\n",
        "* Missing or corrupted values\n",
        "* Unit conversions\n",
        "* ...and so on\n",
        "\n",
        "**Exploratory Data Analysis (EDA)** is the process of understanding a new dataset. It is an open-ended, informal analysis that involves familiarizing ourselves with the variables present in the data, discovering potential hypotheses, and identifying possible issues with the data. This last point can often motivate further data cleaning to address any problems with the dataset's format; because of this, EDA and data cleaning are often thought of as an \"infinite loop,\" with each process driving the other.\n",
        "\n",
        "In this lecture, we will consider the key properties of data to consider when performing data cleaning and EDA. In doing so, we'll develop a \"checklist\" of sorts for you to consider when approaching a new dataset. Throughout this process, we'll build a deeper understanding of this early (but very important!) stage of the data science lifecycle.\n",
        "\n",
        "## Structure\n",
        "\n",
        "### File Formats\n",
        "There are many file types for storing structured data: TSV, JSON, XML, ASCII, SAS, etc. We'll only cover CSV, TSV, and JSON in lecture, but you'll likely encounter other formats as you work with different datasets. Reading documentation is your best bet for understanding how to process the multitude of different file types. \n",
        "\n",
        "#### CSV\n",
        "CSVs, which stand for **Comma-Separated Values**, are a common tabular data format. \n",
        "In the past two `pandas` lectures, we briefly touched on the idea of file format: the way data is encoded in a file for storage. Specifically, our `elections` and `babynames` datasets were stored and loaded as CSVs:"
      ]
    },
    {
      "cell_type": "code",
      "execution_count": null,
      "metadata": {
        "vscode": {
          "languageId": "python"
        }
      },
      "outputs": [],
      "source": [
        "#| code-fold: false\n",
        "import pandas as pd\n",
        "pd.read_csv(\"data/elections.csv\").head(5)"
      ]
    },
    {
      "cell_type": "markdown",
      "metadata": {},
      "source": [
        "To better understand the properties of a CSV, let's take a look at the first few rows of the raw data file to see what it looks like before being loaded into a `DataFrame`. We'll use the `repr()` function to return the raw string with its special characters: "
      ]
    },
    {
      "cell_type": "code",
      "execution_count": null,
      "metadata": {
        "vscode": {
          "languageId": "python"
        }
      },
      "outputs": [],
      "source": [
        "#| code-fold: false\n",
        "with open(\"data/elections.csv\", \"r\") as table:\n",
        "    i = 0\n",
        "    for row in table:\n",
        "        print(repr(row))\n",
        "        i += 1\n",
        "        if i > 3:\n",
        "            break"
      ]
    },
    {
      "cell_type": "markdown",
      "metadata": {},
      "source": [
        "Each row, or **record**, in the data is delimited by a newline `\\n`. Each column, or **field**, in the data is delimited by a comma `,` (hence, comma-separated!). \n",
        "\n",
        "#### TSV\n",
        "\n",
        "Another common file type is **TSV (Tab-Separated Values)**. In a TSV, records are still delimited by a newline `\\n`, while fields are delimited by `\\t` tab character. \n",
        "\n",
        "Let's check out the first few rows of the raw TSV file. Again, we'll use the `repr()` function so that `print` shows the special characters."
      ]
    },
    {
      "cell_type": "code",
      "execution_count": null,
      "metadata": {
        "vscode": {
          "languageId": "python"
        }
      },
      "outputs": [],
      "source": [
        "#| code-fold: false\n",
        "with open(\"data/elections.txt\", \"r\") as table:\n",
        "    i = 0\n",
        "    for row in table:\n",
        "        print(repr(row))\n",
        "        i += 1\n",
        "        if i > 3:\n",
        "            break"
      ]
    },
    {
      "cell_type": "markdown",
      "metadata": {},
      "source": [
        "TSVs can be loaded into `pandas` using `pd.read_csv`. We'll need to specify the **delimiter** with parameter` sep='\\t'` [(documentation)](https://pandas.pydata.org/docs/reference/api/pandas.read_csv.html)."
      ]
    },
    {
      "cell_type": "code",
      "execution_count": null,
      "metadata": {
        "vscode": {
          "languageId": "python"
        }
      },
      "outputs": [],
      "source": [
        "#| code-fold: false\n",
        "pd.read_csv(\"data/elections.txt\", sep='\\t').head(3)"
      ]
    },
    {
      "cell_type": "markdown",
      "metadata": {},
      "source": [
        "An issue with CSVs and TSVs comes up whenever there are commas or tabs within the records. How does `pandas` differentiate between a comma delimiter vs. a comma within the field itself, for example `8,900`? To remedy this, check out the [`quotechar` parameter](https://pandas.pydata.org/docs/reference/api/pandas.read_csv.html). \n",
        "\n",
        "#### JSON\n",
        "**JSON (JavaScript Object Notation)** files behave similarly to Python dictionaries. A raw JSON is shown below."
      ]
    },
    {
      "cell_type": "code",
      "execution_count": null,
      "metadata": {
        "vscode": {
          "languageId": "python"
        }
      },
      "outputs": [],
      "source": [
        "#| code-fold: false\n",
        "with open(\"data/elections.json\", \"r\") as table:\n",
        "    i = 0\n",
        "    for row in table:\n",
        "        print(row)\n",
        "        i += 1\n",
        "        if i > 8:\n",
        "            break"
      ]
    },
    {
      "cell_type": "markdown",
      "metadata": {},
      "source": [
        "JSON files can be loaded into `pandas` using `pd.read_json`. "
      ]
    },
    {
      "cell_type": "code",
      "execution_count": null,
      "metadata": {
        "vscode": {
          "languageId": "python"
        }
      },
      "outputs": [],
      "source": [
        "#| code-fold: false\n",
        "pd.read_json('data/elections.json').head(3)"
      ]
    },
    {
      "cell_type": "markdown",
      "metadata": {},
      "source": [
        "##### EDA with JSON: Berkeley COVID-19 Data\n",
        "The City of Berkeley Open Data [website](https://data.cityofberkeley.info/Health/COVID-19-Confirmed-Cases/xn6j-b766) has a dataset with COVID-19 Confirmed Cases among Berkeley residents by date. Let's download the file and save it as a JSON (note the source URL file type is also a JSON). In the interest of reproducible data science, we will download the data programatically. We have defined some helper functions in the [`ds100_utils.py`](https://ds100.org/fa23/resources/assets/lectures/lec05/lec05-eda.html) file that we can reuse these helper functions in many different notebooks."
      ]
    },
    {
      "cell_type": "code",
      "execution_count": null,
      "metadata": {
        "vscode": {
          "languageId": "python"
        }
      },
      "outputs": [],
      "source": [
        "#| code-fold: false\n",
        "from ds100_utils import fetch_and_cache\n",
        "\n",
        "covid_file = fetch_and_cache(\n",
        "    \"https://data.cityofberkeley.info/api/views/xn6j-b766/rows.json?accessType=DOWNLOAD\",\n",
        "    \"confirmed-cases.json\",\n",
        "    force=False)\n",
        "covid_file          # a file path wrapper object"
      ]
    },
    {
      "cell_type": "markdown",
      "metadata": {},
      "source": [
        "###### File Size\n",
        "Let's start our analysis by getting a rough estimate of the size of the dataset to inform the tools we use to view the data. For relatively small datasets, we can use a text editor or spreadsheet. For larger datasets, more programmatic exploration or distributed computing tools may be more fitting. Here we will use `Python` tools to probe the file.\n",
        "\n",
        "Since there seem to be text files, let's investigate the number of lines, which often corresponds to the number of records"
      ]
    },
    {
      "cell_type": "code",
      "execution_count": null,
      "metadata": {
        "vscode": {
          "languageId": "python"
        }
      },
      "outputs": [],
      "source": [
        "#| code-fold: false\n",
        "import os\n",
        "\n",
        "print(covid_file, \"is\", os.path.getsize(covid_file) / 1e6, \"MB\")\n",
        "\n",
        "with open(covid_file, \"r\") as f:\n",
        "    print(covid_file, \"is\", sum(1 for l in f), \"lines.\")"
      ]
    },
    {
      "cell_type": "markdown",
      "metadata": {},
      "source": [
        "###### Unix Commands\n",
        "As part of the EDA workflow, Unix commands can come in very handy. In fact, there's an entire book called [\"Data Science at the Command Line\"](https://datascienceatthecommandline.com/) that explores this idea in depth! \n",
        "In Jupyter/IPython, you can prefix lines with `!` to execute arbitrary Unix commands, and within those lines, you can refer to `Python` variables and expressions with the syntax `{expr}`.\n",
        "\n",
        "Here, we use the ls command to list files, using the `-lh` flags, which request \"long format with information in human-readable form\". We also use the `wc` command for \"word count\", but with the `-l` flag, which asks for line counts instead of words.\n",
        "\n",
        "These two give us the same information as the code above, albeit in a slightly different form:"
      ]
    },
    {
      "cell_type": "code",
      "execution_count": null,
      "metadata": {
        "vscode": {
          "languageId": "python"
        }
      },
      "outputs": [],
      "source": [
        "#| code-fold: false\n",
        "!ls -lh {covid_file}\n",
        "!wc -l {covid_file}"
      ]
    },
    {
      "cell_type": "markdown",
      "metadata": {},
      "source": [
        "###### File Contents\n",
        "Let's explore the data format using `Python`> "
      ]
    },
    {
      "cell_type": "code",
      "execution_count": null,
      "metadata": {
        "vscode": {
          "languageId": "python"
        }
      },
      "outputs": [],
      "source": [
        "#| code-fold: false\n",
        "with open(covid_file, \"r\") as f:\n",
        "    for i, row in enumerate(f):\n",
        "        print(repr(row)) # print raw strings\n",
        "        if i >= 4: break"
      ]
    },
    {
      "cell_type": "markdown",
      "metadata": {},
      "source": [
        "We can use the `head` Unix command (which is where `pandas`' `head` method comes from!) to see the first few lines of the file:"
      ]
    },
    {
      "cell_type": "code",
      "execution_count": null,
      "metadata": {
        "vscode": {
          "languageId": "python"
        }
      },
      "outputs": [],
      "source": [
        "#| code-fold: false\n",
        "!head -5 {covid_file}"
      ]
    },
    {
      "cell_type": "markdown",
      "metadata": {},
      "source": [
        "In order to load the JSON file into `pandas`, Let's first do some EDA with `Python`'s `json` package to understand the particular structure of this JSON file so that we can decide what (if anything) to load into `pandas`. `Python` has relatively good support for JSON data since it closely matches the internal python object model. In the following cell we import the entire JSON datafile into a python dictionary using the `json` package."
      ]
    },
    {
      "cell_type": "code",
      "execution_count": null,
      "metadata": {
        "vscode": {
          "languageId": "python"
        }
      },
      "outputs": [],
      "source": [
        "#| code-fold: false\n",
        "import json\n",
        "\n",
        "with open(covid_file, \"rb\") as f:\n",
        "    covid_json = json.load(f)"
      ]
    },
    {
      "cell_type": "markdown",
      "metadata": {},
      "source": [
        "The `covid_json` variable is now a dictionary encoding the data in the file:"
      ]
    },
    {
      "cell_type": "code",
      "execution_count": null,
      "metadata": {
        "vscode": {
          "languageId": "python"
        }
      },
      "outputs": [],
      "source": [
        "#| code-fold: false\n",
        "type(covid_json)"
      ]
    },
    {
      "cell_type": "markdown",
      "metadata": {},
      "source": [
        "We can examine what keys are in the top level json object by listing out the keys. "
      ]
    },
    {
      "cell_type": "code",
      "execution_count": null,
      "metadata": {
        "vscode": {
          "languageId": "python"
        }
      },
      "outputs": [],
      "source": [
        "#| code-fold: false\n",
        "covid_json.keys()"
      ]
    },
    {
      "cell_type": "markdown",
      "metadata": {},
      "source": [
        "**Observation**: The JSON dictionary contains a `meta` key which likely refers to meta data (data about the data).  Meta data often maintained with the data and can be a good source of additional information.\n",
        "\n",
        "\n",
        "We can investigate the meta data further by examining the keys associated with the metadata."
      ]
    },
    {
      "cell_type": "code",
      "execution_count": null,
      "metadata": {
        "vscode": {
          "languageId": "python"
        }
      },
      "outputs": [],
      "source": [
        "#| code-fold: false\n",
        "covid_json['meta'].keys()"
      ]
    },
    {
      "cell_type": "markdown",
      "metadata": {},
      "source": [
        "The `meta` key contains another dictionary called `view`.  This likely refers to meta-data about a particular \"view\" of some underlying database.  We will learn more about views when we study SQL later in the class.    "
      ]
    },
    {
      "cell_type": "code",
      "execution_count": null,
      "metadata": {
        "vscode": {
          "languageId": "python"
        }
      },
      "outputs": [],
      "source": [
        "#| code-fold: false\n",
        "covid_json['meta']['view'].keys()"
      ]
    },
    {
      "cell_type": "markdown",
      "metadata": {},
      "source": [
        "Notice that this a nested/recursive data structure.  As we dig deeper we reveal more and more keys and the corresponding data:\n",
        "\n",
        "```\n",
        "meta\n",
        "|-> data\n",
        "    | ... (haven't explored yet)\n",
        "|-> view\n",
        "    | -> id\n",
        "    | -> name\n",
        "    | -> attribution \n",
        "    ...\n",
        "    | -> description\n",
        "    ...\n",
        "    | -> columns\n",
        "    ...\n",
        "```\n",
        "\n",
        "\n",
        "There is a key called description in the view sub dictionary.  This likely contains a description of the data:"
      ]
    },
    {
      "cell_type": "code",
      "execution_count": null,
      "metadata": {
        "vscode": {
          "languageId": "python"
        }
      },
      "outputs": [],
      "source": [
        "#| code-fold: false\n",
        "print(covid_json['meta']['view']['description'])"
      ]
    },
    {
      "cell_type": "markdown",
      "metadata": {},
      "source": [
        "###### Examining the Data Field for Records\n",
        "\n",
        "We can look at a few entries in the `data` field. This is what we'll load into `pandas`."
      ]
    },
    {
      "cell_type": "code",
      "execution_count": null,
      "metadata": {
        "vscode": {
          "languageId": "python"
        }
      },
      "outputs": [],
      "source": [
        "#| code-fold: false\n",
        "for i in range(3):\n",
        "    print(f\"{i:03} | {covid_json['data'][i]}\")"
      ]
    },
    {
      "cell_type": "markdown",
      "metadata": {},
      "source": [
        "Observations:\n",
        "* These look like equal-length records, so maybe `data` is a table!\n",
        "* But what do each of values in the record mean? Where can we find column headers?\n",
        "\n",
        "For that, we'l need the `columns` key in the metadata dictionary. This returns a list: "
      ]
    },
    {
      "cell_type": "code",
      "execution_count": null,
      "metadata": {
        "vscode": {
          "languageId": "python"
        }
      },
      "outputs": [],
      "source": [
        "#| code-fold: false\n",
        "type(covid_json['meta']['view']['columns'])"
      ]
    },
    {
      "cell_type": "markdown",
      "metadata": {},
      "source": [
        "###### Summary of exploring the JSON file\n",
        "\n",
        "1. The above **metadata** tells us a lot about the columns in the data including column names, potential data anomalies, and a basic statistic. \n",
        "1. Because of its non-tabular structure, JSON makes it easier (than CSV) to create **self-documenting data**, meaning that information about the data is stored in the same file as the data.\n",
        "1. Self documenting data can be helpful since it maintains its own description and these descriptions are more likely to be updated as data changes. \n",
        "\n",
        "###### Loading COVID Data into `pandas`\n",
        "Finally, le'ts load the data (not the metadata) into a `pandas` `DatFrame`. In the following block of code we:\n",
        "\n",
        "1. Translate the JSON records into a dataframe:\n",
        "\n",
        "    * fields: `covid_json['meta']['view']['columns']`\n",
        "    * records: `covid_json['data']`\n",
        "    \n",
        "1. Remove columns that have no metadata description.  This would be a bad idea in general but here we remove these columns since the above analysis suggests that they are unlikely to contain useful information.\n",
        "1. Examine the `tail` of the table."
      ]
    },
    {
      "cell_type": "code",
      "execution_count": null,
      "metadata": {
        "vscode": {
          "languageId": "python"
        }
      },
      "outputs": [],
      "source": [
        "#| code-fold: false\n",
        "# Load the data from JSON and assign column titles\n",
        "covid = pd.DataFrame(\n",
        "    covid_json['data'],\n",
        "    columns=[c['name'] for c in covid_json['meta']['view']['columns']])\n",
        "\n",
        "covid.tail()"
      ]
    },
    {
      "cell_type": "markdown",
      "metadata": {},
      "source": [
        "### Variable Types\n",
        "\n",
        "After loading data into a file, it's a good idea to take the time to understand what pieces of information are encoded in the dataset. In particular, we want to identify what variable types are present in our data. Broadly speaking, we can categorize variables into one of two overarching types. \n",
        "\n",
        "**Quantitative variables** describe some numeric quantity or amount. We can divide quantitative data further into:\n",
        "\n",
        "* **Continuous quantitative variables**: numeric data that can be measured on a continuous scale to arbitrary precision. Continuous variables do not have a strict set of possible values – they can be recorded to any number of decimal places. For example, weights, GPA, or CO<sub>2</sub> concentrations.\n",
        "* **Discrete quantitative variables**: numeric data that can only take on a finite set of possible values. For example, someone's age or the number of siblings they have.\n",
        "\n",
        "**Qualitative variables**, also known as **categorical variables**, describe data that isn't measuring some quantity or amount. The sub-categories of categorical data are:\n",
        "\n",
        "* **Ordinal qualitative variables**: categories with ordered levels. Specifically, ordinal variables are those where the difference between levels has no consistent, quantifiable meaning. Some examples include levels of education (high school, undergrad, grad, etc.), income bracket (low, medium, high), or Yelp rating. \n",
        "* **Nominal qualitative variables**: categories with no specific order. For example, someone's political affiliation or Cal ID number.\n",
        "\n",
        "![Classification of variable types](images/variable.png)\n",
        "\n",
        "Note that many variables don't sit neatly in just one of these categories. Qualitative variables could have numeric levels, and conversely, quantitative variables could be stored as strings. \n",
        "\n",
        "### Primary and Foreign Keys\n",
        "\n",
        "Last time, we introduced `.merge` as the `pandas` method for joining multiple `DataFrames` together. In our discussion of joins, we touched on the idea of using a \"key\" to determine what rows should be merged from each table. Let's take a moment to examine this idea more closely.\n",
        "\n",
        "The **primary key** is the column or set of columns in a table that *uniquely* determine the values of the remaining columns. It can be thought of as the unique identifier for each individual row in the table. For example, a table of Data 100 students might use each student's Cal ID as the primary key. "
      ]
    },
    {
      "cell_type": "code",
      "execution_count": null,
      "metadata": {
        "vscode": {
          "languageId": "python"
        }
      },
      "outputs": [],
      "source": [
        "#| echo: false\n",
        "pd.DataFrame({\"Cal ID\":[3034619471, 3035619472, 3025619473, 3046789372], \\\n",
        "             \"Name\":[\"Oski\", \"Ollie\", \"Orrie\", \"Ollie\"], \\\n",
        "             \"Major\":[\"Data Science\", \"Computer Science\", \"Data Science\", \"Economics\"]})"
      ]
    },
    {
      "cell_type": "markdown",
      "metadata": {},
      "source": [
        "The **foreign key** is the column or set of columns in a table that reference primary keys in other tables. Knowing a dataset's foreign keys can be useful when assigning the `left_on` and `right_on` parameters of `.merge`. In the table of office hour tickets below, `\"Cal ID\"` is a foreign key referencing the previous table."
      ]
    },
    {
      "cell_type": "code",
      "execution_count": null,
      "metadata": {
        "vscode": {
          "languageId": "python"
        }
      },
      "outputs": [],
      "source": [
        "#| echo: false\n",
        "pd.DataFrame({\"OH Request\":[1, 2, 3, 4], \\\n",
        "             \"Cal ID\":[3034619471, 3035619472, 3025619473, 3035619472], \\\n",
        "             \"Question\":[\"HW 2 Q1\", \"HW 2 Q3\", \"Lab 3 Q4\", \"HW 2 Q7\"]})"
      ]
    },
    {
      "cell_type": "markdown",
      "metadata": {},
      "source": [
        "## Granularity, Scope, and Temporality\n",
        "\n",
        "After understanding the structure of the dataset, the next task is to determine what exactly the data represents. We'll do so by considering the data's granularity, scope, and temporality.\n",
        "\n",
        "### Granularity\n",
        "The **granularity** of a dataset is what a single row represents. You can also think of it as the level of detail included in the data. To determine the data's granularity, ask: what does each row in the dataset represent? Fine-grained data contains a high level of detail, with a single row representing a small individual unit. For example, each record may represent one person. Coarse-grained data is encoded such that a single row represents a large individual unit – for example, each record may represent a group of people.\n",
        "\n",
        "### Scope\n",
        "The **scope** of a dataset is the subset of the population covered by the data. If we were investigating student performance in Data Science courses, a dataset with a narrow scope might encompass all students enrolled in Data 100; a dataset with an expansive scope might encompass all students in California. \n",
        "\n",
        "### Temporality\n",
        "The **temporality** of a dataset describes the periodicity over which the data was collected as well as when the data was most recently collected or updated. \n",
        "\n",
        "Time and date fields of a dataset could represent a few things:\n",
        "\n",
        "1. when the \"event\" happened\n",
        "2. when the data was collected, or when it was entered into the system\n",
        "3. when the data was copied into the database \n",
        "\n",
        "To fully understand the temporality of the data, it also may be necessary to standardize time zones or inspect recurring time-based trends in the data (do patterns recur in 24-hour periods? Over the course of a month? Seasonally?). The convention for standardizing time is the Coordinated Universal Time (UTC), an international time standard measured at 0 degrees latitude that stays consistent throughout the year (no daylight savings). We can represent Berkeley's time zone, Pacific Standard Time (PST), as UTC-7 (with daylight savings). \n",
        "\n",
        "#### Temporality with `pandas`' `dt` accessors \n",
        "Let's briefly look at how we can use `pandas`' `dt` accessors to work with dates/times in a dataset using the dataset you'll see in Lab 3: the Berkeley PD Calls for Service dataset."
      ]
    },
    {
      "cell_type": "code",
      "execution_count": null,
      "metadata": {
        "vscode": {
          "languageId": "python"
        }
      },
      "outputs": [],
      "source": [
        "#| code-fold: true\n",
        "calls = pd.read_csv(\"data/Berkeley_PD_-_Calls_for_Service.csv\")\n",
        "calls.head()"
      ]
    },
    {
      "cell_type": "markdown",
      "metadata": {},
      "source": [
        "Looks like there are three columns with dates/times: `EVENTDT`, `EVENTTM`, and `InDbDate`. \n",
        "\n",
        "Most likely, `EVENTDT` stands for the date when the event took place, `EVENTTM` stands for the time of day the event took place (in 24-hr format), and `InDbDate` is the date this call is recorded onto the database.\n",
        "\n",
        "If we check the data type of these columns, we will see they are stored as strings. We can convert them to `datetime` objects using pandas `to_datetime` function."
      ]
    },
    {
      "cell_type": "code",
      "execution_count": null,
      "metadata": {
        "vscode": {
          "languageId": "python"
        }
      },
      "outputs": [],
      "source": [
        "#| code-fold: false\n",
        "calls[\"EVENTDT\"] = pd.to_datetime(calls[\"EVENTDT\"])\n",
        "calls.head()"
      ]
    },
    {
      "cell_type": "markdown",
      "metadata": {},
      "source": [
        "Now, we can use the `dt` accessor on this column.\n",
        "\n",
        "We can get the month: "
      ]
    },
    {
      "cell_type": "code",
      "execution_count": null,
      "metadata": {
        "vscode": {
          "languageId": "python"
        }
      },
      "outputs": [],
      "source": [
        "#| code-fold: false\n",
        "calls[\"EVENTDT\"].dt.month.head()"
      ]
    },
    {
      "cell_type": "markdown",
      "metadata": {},
      "source": [
        "Which day of the week the date is on:"
      ]
    },
    {
      "cell_type": "code",
      "execution_count": null,
      "metadata": {
        "vscode": {
          "languageId": "python"
        }
      },
      "outputs": [],
      "source": [
        "#| code-fold: false\n",
        "calls[\"EVENTDT\"].dt.dayofweek.head()"
      ]
    },
    {
      "cell_type": "markdown",
      "metadata": {},
      "source": [
        "Check the mimimum values to see if there are any suspicious-looking, 70s dates:"
      ]
    },
    {
      "cell_type": "code",
      "execution_count": null,
      "metadata": {
        "vscode": {
          "languageId": "python"
        }
      },
      "outputs": [],
      "source": [
        "#| code-fold: false\n",
        "calls.sort_values(\"EVENTDT\").head()"
      ]
    },
    {
      "cell_type": "markdown",
      "metadata": {},
      "source": [
        "Doesn't look like it! We are good!\n",
        "\n",
        "\n",
        "We can also do many things with the `dt` accessor like switching time zones and converting time back to UNIX/POSIX time. Check out the documentation on [`.dt` accessor](https://pandas.pydata.org/docs/user_guide/basics.html#basics-dt-accessors) and [time series/date functionality](https://pandas.pydata.org/docs/user_guide/timeseries.html#).\n",
        "\n",
        "## Faithfulness\n",
        "\n",
        "At this stage in our data cleaning and EDA workflow, we've achieved quite a lot: we've identified how our data is structured, come to terms with what information it encodes, and gained insight as to how it was generated. Throughout this process, we should always recall the original intent of our work in Data Science – to use data to better understand and model the real world. To achieve this goal, we need to ensure that the data we use is faithful to reality; that is, that our data accurately captures the \"real world.\"\n",
        "\n",
        "Data used in research or industry is often \"messy\" – there may be errors or inaccuracies that impact the faithfulness of the dataset. Signs that data may not be faithful include:\n",
        "\n",
        "* Unrealistic or \"incorrect\" values, such as negative counts, locations that don't exist, or dates set in the future\n",
        "* Violations of obvious dependencies, like an age that does not match a birthday\n",
        "* Clear signs that data was entered by hand, which can lead to spelling errors or fields that are incorrectly shifted\n",
        "* Signs of data falsification, such as fake email addresses or repeated use of the same names\n",
        "* Duplicated records or fields containing the same information\n",
        "* Truncated data, e.g. Microsoft Excel would limit the number of rows to 655536 and the number of columns to 255\n",
        "\n",
        "We often solve some of these more common issues in the following ways: \n",
        "\n",
        "* Spelling errors: apply corrections or drop records that aren't in a dictionary\n",
        "* Time zone inconsistencies: convert to a common time zone (e.g. UTC) \n",
        "* Duplicated records or fields: identify and eliminate duplicates (using primary keys)\n",
        "* Unspecified or inconsistent units: infer the units and check that values are in reasonable ranges in the data\n",
        "\n",
        "### Missing Values\n",
        "Another common issue encountered with real-world datasets is that of missing data. One strategy to resolve this is to simply drop any records with missing values from the dataset. This does, however, introduce the risk of inducing biases – it is possible that the missing or corrupt records may be systemically related to some feature of interest in the data. Another solution is to keep the data as `NaN` values. \n",
        "\n",
        "A third method to address missing data is to perform **imputation**: infer the missing values using other data available in the dataset. There is a wide variety of imputation techniques that can be implemented; some of the most common are listed below.\n",
        "\n",
        "* Average imputation: replace missing values with the average value for that field\n",
        "* Hot deck imputation: replace missing values with some random value\n",
        "* Regression imputation: develop a model to predict missing values\n",
        "* Multiple imputation: replace missing values with multiple random values\n",
        "\n",
        "Regardless of the strategy used to deal with missing data, we should think carefully about *why* particular records or fields may be missing – this can help inform whether or not the absence of these values is significant or meaningful.\n",
        "\n",
        "# EDA Demo: Tuberculosis in the United States\n",
        "\n",
        "Now, let's walk through the data-cleaning and EDA workflow to see what can we learn about the presence of Tuberculosis in the United States!\n",
        "\n",
        "We will examine the data included in the [original CDC article](https://www.cdc.gov/mmwr/volumes/71/wr/mm7112a1.htm?s_cid=mm7112a1_w#T1_down) published in 2021.\n",
        "\n",
        "\n",
        "## CSVs and Field Names\n",
        "Suppose Table 1 was saved as a CSV file located in `data/cdc_tuberculosis.csv`.\n",
        "\n",
        "We can then explore the CSV (which is a text file, and does not contain binary-encoded data) in many ways:\n",
        "1. Using a text editor like emacs, vim, VSCode, etc.\n",
        "2. Opening the CSV directly in DataHub (read-only), Excel, Google Sheets, etc.\n",
        "3. The `Python` file object\n",
        "4. `pandas`, using `pd.read_csv()`\n",
        "\n",
        "To try out options 1 and 2, you can view or download the Tuberculosis from the [lecture demo notebook](https://data100.datahub.berkeley.edu/hub/user-redirect/git-pull?repo=https%3A%2F%2Fgithub.com%2FDS-100%2Ffa23-student&urlpath=lab%2Ftree%2Ffa23-student%2Flecture%2Flec05%2Flec04-eda.ipynb&branch=main) under the `data` folder in the left hand menu. Notice how the CSV file is a type of **rectangular data (i.e., tabular data) stored as comma-separated values**.\n",
        "\n",
        "Next, let's try out option 3 using the `Python` file object. We'll look at the first four lines:"
      ]
    },
    {
      "cell_type": "code",
      "execution_count": null,
      "metadata": {
        "vscode": {
          "languageId": "python"
        }
      },
      "outputs": [],
      "source": [
        "#| code-fold: true\n",
        "with open(\"data/cdc_tuberculosis.csv\", \"r\") as f:\n",
        "    i = 0\n",
        "    for row in f:\n",
        "        print(row)\n",
        "        i += 1\n",
        "        if i > 3:\n",
        "            break"
      ]
    },
    {
      "cell_type": "markdown",
      "metadata": {},
      "source": [
        "Whoa, why are there blank lines interspaced between the lines of the CSV?\n",
        "\n",
        "You may recall that all line breaks in text files are encoded as the special newline character `\\n`. Python's `print()` prints each string (including the newline), and an additional newline on top of that.\n",
        "\n",
        "If you're curious, we can use the `repr()` function to return the raw string with all special characters:"
      ]
    },
    {
      "cell_type": "code",
      "execution_count": null,
      "metadata": {
        "vscode": {
          "languageId": "python"
        }
      },
      "outputs": [],
      "source": [
        "#| code-fold: true\n",
        "with open(\"data/cdc_tuberculosis.csv\", \"r\") as f:\n",
        "    i = 0\n",
        "    for row in f:\n",
        "        print(repr(row)) # print raw strings\n",
        "        i += 1\n",
        "        if i > 3:\n",
        "            break"
      ]
    },
    {
      "cell_type": "markdown",
      "metadata": {},
      "source": [
        "Finally, let's try option 4 and use the tried-and-true Data 100 approach: `pandas`."
      ]
    },
    {
      "cell_type": "code",
      "execution_count": null,
      "metadata": {
        "vscode": {
          "languageId": "python"
        }
      },
      "outputs": [],
      "source": [
        "#| code-fold: false\n",
        "tb_df = pd.read_csv(\"data/cdc_tuberculosis.csv\")\n",
        "tb_df.head()"
      ]
    },
    {
      "cell_type": "markdown",
      "metadata": {},
      "source": [
        "You may notice some strange things about this table: what's up with the \"Unnamed\" column names and the first row? \n",
        "\n",
        "Congratulations — you're ready to wrangle your data. Because of how things are stored, we'll need to clean the data a bit to name our columns better.\n",
        "\n",
        "A reasonable first step is to identify the row with the right header. The `pd.read_csv()` function ([documentation](https://pandas.pydata.org/docs/reference/api/pandas.read_csv.html)) has the convenient `header` parameter that we can set to use the elements in row 1 as the appropriate columns:"
      ]
    },
    {
      "cell_type": "code",
      "execution_count": null,
      "metadata": {
        "vscode": {
          "languageId": "python"
        }
      },
      "outputs": [],
      "source": [
        "#| code-fold: false\n",
        "tb_df = pd.read_csv(\"data/cdc_tuberculosis.csv\", header=1) # row index\n",
        "tb_df.head(5)"
      ]
    },
    {
      "cell_type": "markdown",
      "metadata": {},
      "source": [
        "Wait...but now we can't differentiate betwen the \"Number of TB cases\" and \"TB incidence\" year columns. `pandas` has tried to make our lives easier by automatically adding \".1\" to the latter columns, but this doesn't help us, as humans, understand the data.\n",
        "\n",
        "We can do this manually with `df.rename()` ([documentation](https://pandas.pydata.org/docs/reference/api/pandas.DataFrame.rename.html?highlight=rename#pandas.DataFrame.rename)):"
      ]
    },
    {
      "cell_type": "code",
      "execution_count": null,
      "metadata": {
        "vscode": {
          "languageId": "python"
        }
      },
      "outputs": [],
      "source": [
        "#| code-fold: false\n",
        "rename_dict = {'2019': 'TB cases 2019',\n",
        "               '2020': 'TB cases 2020',\n",
        "               '2021': 'TB cases 2021',\n",
        "               '2019.1': 'TB incidence 2019',\n",
        "               '2020.1': 'TB incidence 2020',\n",
        "               '2021.1': 'TB incidence 2021'}\n",
        "tb_df = tb_df.rename(columns=rename_dict)\n",
        "tb_df.head(5)"
      ]
    },
    {
      "cell_type": "markdown",
      "metadata": {},
      "source": [
        "## Record Granularity\n",
        "\n",
        "You might already be wondering: What's up with that first record?\n",
        "\n",
        "Row 0 is what we call a **rollup record**, or summary record. It's often useful when displaying tables to humans. The **granularity** of record 0 (Totals) vs the rest of the records (States) is different.\n",
        "\n",
        "Okay, EDA step two. How was the rollup record aggregated?\n",
        "\n",
        "Let's check if Total TB cases is the sum of all state TB cases. If we sum over all rows, we should get **2x** the total cases in each of our TB cases by year (why do you think this is?)."
      ]
    },
    {
      "cell_type": "code",
      "execution_count": null,
      "metadata": {
        "vscode": {
          "languageId": "python"
        }
      },
      "outputs": [],
      "source": [
        "#| code-fold: true\n",
        "tb_df.sum(axis=0)"
      ]
    },
    {
      "cell_type": "markdown",
      "metadata": {},
      "source": [
        "Whoa, what's going on with the TB cases in 2019, 2020, and 2021? Check out the column types:"
      ]
    },
    {
      "cell_type": "code",
      "execution_count": null,
      "metadata": {
        "vscode": {
          "languageId": "python"
        }
      },
      "outputs": [],
      "source": [
        "#| code-fold: true\n",
        "tb_df.dtypes"
      ]
    },
    {
      "cell_type": "markdown",
      "metadata": {},
      "source": [
        "Since there are commas in the values for TB cases, the numbers are read as the `object` datatype, or **storage type** (close to the `Python` string datatype), so `pandas` is concatenating strings instead of adding integers (recall that `Python` can \"sum\", or concatenate, strings together: `\"data\" + \"100\"` evaluates to `\"data100\"`). \n",
        "\n",
        "\n",
        "Fortunately `read_csv` also has a `thousands` parameter ([documentation](https://pandas.pydata.org/docs/reference/api/pandas.read_csv.html)):"
      ]
    },
    {
      "cell_type": "code",
      "execution_count": null,
      "metadata": {
        "vscode": {
          "languageId": "python"
        }
      },
      "outputs": [],
      "source": [
        "#| code-fold: false\n",
        "# improve readability: chaining method calls with outer parentheses/line breaks\n",
        "tb_df = (\n",
        "    pd.read_csv(\"data/cdc_tuberculosis.csv\", header=1, thousands=',')\n",
        "    .rename(columns=rename_dict)\n",
        ")\n",
        "tb_df.head(5)"
      ]
    },
    {
      "cell_type": "code",
      "execution_count": null,
      "metadata": {
        "vscode": {
          "languageId": "python"
        }
      },
      "outputs": [],
      "source": [
        "#| code-fold: false\n",
        "tb_df.sum()"
      ]
    },
    {
      "cell_type": "markdown",
      "metadata": {},
      "source": [
        "The Total TB cases look right. Phew!\n",
        "\n",
        "Let's just look at the records with **state-level granularity**:"
      ]
    },
    {
      "cell_type": "code",
      "execution_count": null,
      "metadata": {
        "vscode": {
          "languageId": "python"
        }
      },
      "outputs": [],
      "source": [
        "#| code-fold: true\n",
        "state_tb_df = tb_df[1:]\n",
        "state_tb_df.head(5)"
      ]
    },
    {
      "cell_type": "markdown",
      "metadata": {},
      "source": [
        "## Gather Census Data\n",
        "\n",
        "U.S. Census population estimates [source](https://www.census.gov/data/tables/time-series/demo/popest/2010s-state-total.html) (2019), [source](https://www.census.gov/data/tables/time-series/demo/popest/2020s-state-total.html) (2020-2021).\n",
        "\n",
        "Running the below cells cleans the data.\n",
        "There are a few new methods here:\n",
        "* `df.convert_dtypes()` ([documentation](https://pandas.pydata.org/docs/reference/api/pandas.DataFrame.convert_dtypes.html)) conveniently converts all float dtypes into ints and is out of scope for the class.\n",
        "* `df.drop_na()` ([documentation](https://pandas.pydata.org/docs/reference/api/pandas.DataFrame.dropna.html)) will be explained in more detail next time."
      ]
    },
    {
      "cell_type": "code",
      "execution_count": null,
      "metadata": {
        "vscode": {
          "languageId": "python"
        }
      },
      "outputs": [],
      "source": [
        "#| code-fold: true\n",
        "# 2010s census data\n",
        "census_2010s_df = pd.read_csv(\"data/nst-est2019-01.csv\", header=3, thousands=\",\")\n",
        "census_2010s_df = (\n",
        "    census_2010s_df\n",
        "    .reset_index()\n",
        "    .drop(columns=[\"index\", \"Census\", \"Estimates Base\"])\n",
        "    .rename(columns={\"Unnamed: 0\": \"Geographic Area\"})\n",
        "    .convert_dtypes()                 # \"smart\" converting of columns, use at your own risk\n",
        "    .dropna()                         # we'll introduce this next time\n",
        ")\n",
        "census_2010s_df['Geographic Area'] = census_2010s_df['Geographic Area'].str.strip('.')\n",
        "\n",
        "# with pd.option_context('display.min_rows', 30): # shows more rows\n",
        "#     display(census_2010s_df)\n",
        "    \n",
        "census_2010s_df.head(5)"
      ]
    },
    {
      "cell_type": "markdown",
      "metadata": {},
      "source": [
        "Occasionally, you will want to modify code that you have imported.  To reimport those modifications you can either use `python`'s `importlib` library:\n",
        "\n",
        "```python\n",
        "from importlib import reload\n",
        "reload(utils)\n",
        "```\n",
        "\n",
        "or use `iPython` magic which will intelligently import code when files change:\n",
        "\n",
        "```python\n",
        "%load_ext autoreload\n",
        "%autoreload 2\n",
        "```"
      ]
    },
    {
      "cell_type": "code",
      "execution_count": null,
      "metadata": {
        "vscode": {
          "languageId": "python"
        }
      },
      "outputs": [],
      "source": [
        "#| code-fold: true\n",
        "# census 2020s data\n",
        "census_2020s_df = pd.read_csv(\"data/NST-EST2022-POP.csv\", header=3, thousands=\",\")\n",
        "census_2020s_df = (\n",
        "    census_2020s_df\n",
        "    .reset_index()\n",
        "    .drop(columns=[\"index\", \"Unnamed: 1\"])\n",
        "    .rename(columns={\"Unnamed: 0\": \"Geographic Area\"})\n",
        "    .convert_dtypes()                 # \"smart\" converting of columns, use at your own risk\n",
        "    .dropna()                         # we'll introduce this next time\n",
        ")\n",
        "census_2020s_df['Geographic Area'] = census_2020s_df['Geographic Area'].str.strip('.')\n",
        "\n",
        "census_2020s_df.head(5)"
      ]
    },
    {
      "cell_type": "markdown",
      "metadata": {},
      "source": [
        "## Joining Data (Merging `DataFrames`)\n",
        "\n",
        "Time to `merge`! Here we use the `DataFrame` method `df1.merge(right=df2, ...)` on `DataFrame` `df1` ([documentation](https://pandas.pydata.org/docs/reference/api/pandas.DataFrame.merge.html)). Contrast this with the function `pd.merge(left=df1, right=df2, ...)` ([documentation](https://pandas.pydata.org/docs/reference/api/pandas.merge.html?highlight=pandas%20merge#pandas.merge)). Feel free to use either."
      ]
    },
    {
      "cell_type": "code",
      "execution_count": null,
      "metadata": {
        "vscode": {
          "languageId": "python"
        }
      },
      "outputs": [],
      "source": [
        "#| code-fold: false\n",
        "# merge TB DataFrame with two US census DataFrames\n",
        "tb_census_df = (\n",
        "    tb_df\n",
        "    .merge(right=census_2010s_df,\n",
        "           left_on=\"U.S. jurisdiction\", right_on=\"Geographic Area\")\n",
        "    .merge(right=census_2020s_df,\n",
        "           left_on=\"U.S. jurisdiction\", right_on=\"Geographic Area\")\n",
        ")\n",
        "tb_census_df.head(5)"
      ]
    },
    {
      "cell_type": "markdown",
      "metadata": {},
      "source": [
        "Having all of these columns is a little unwieldy. We could either drop the unneeded columns now, or just merge on smaller census `DataFrame`s. Let's do the latter."
      ]
    },
    {
      "cell_type": "code",
      "execution_count": null,
      "metadata": {
        "vscode": {
          "languageId": "python"
        }
      },
      "outputs": [],
      "source": [
        "#| code-fold: false\n",
        "# try merging again, but cleaner this time\n",
        "tb_census_df = (\n",
        "    tb_df\n",
        "    .merge(right=census_2010s_df[[\"Geographic Area\", \"2019\"]],\n",
        "           left_on=\"U.S. jurisdiction\", right_on=\"Geographic Area\")\n",
        "    .drop(columns=\"Geographic Area\")\n",
        "    .merge(right=census_2020s_df[[\"Geographic Area\", \"2020\", \"2021\"]],\n",
        "           left_on=\"U.S. jurisdiction\", right_on=\"Geographic Area\")\n",
        "    .drop(columns=\"Geographic Area\")\n",
        ")\n",
        "tb_census_df.head(5)"
      ]
    },
    {
      "cell_type": "markdown",
      "metadata": {},
      "source": [
        "## Reproducing Data: Compute Incidence\n",
        "\n",
        "Let's recompute incidence to make sure we know where the original CDC numbers came from.\n",
        "\n",
        "From the [CDC report](https://www.cdc.gov/mmwr/volumes/71/wr/mm7112a1.htm?s_cid=mm7112a1_w#T1_down): TB incidence is computed as “Cases per 100,000 persons using mid-year population estimates from the U.S. Census Bureau.”\n",
        "\n",
        "If we define a group as 100,000 people, then we can compute the TB incidence for a given state population as\n",
        "\n",
        "$$\\text{TB incidence} = \\frac{\\text{TB cases in population}}{\\text{groups in population}} = \\frac{\\text{TB cases in population}}{\\text{population}/100000} $$\n",
        "\n",
        "$$= \\frac{\\text{TB cases in population}}{\\text{population}} \\times 100000$$\n",
        "\n",
        "Let's try this for 2019:"
      ]
    },
    {
      "cell_type": "code",
      "execution_count": null,
      "metadata": {
        "vscode": {
          "languageId": "python"
        }
      },
      "outputs": [],
      "source": [
        "#| code-fold: false\n",
        "tb_census_df[\"recompute incidence 2019\"] = tb_census_df[\"TB cases 2019\"]/tb_census_df[\"2019\"]*100000\n",
        "tb_census_df.head(5)"
      ]
    },
    {
      "cell_type": "markdown",
      "metadata": {},
      "source": [
        "Awesome!!!\n",
        "\n",
        "Let's use a for-loop and `Python` format strings to compute TB incidence for all years. `Python` f-strings are just used for the purposes of this demo, but they're handy to know when you explore data beyond this course ([documentation](https://docs.python.org/3/tutorial/inputoutput.html))."
      ]
    },
    {
      "cell_type": "code",
      "execution_count": null,
      "metadata": {
        "vscode": {
          "languageId": "python"
        }
      },
      "outputs": [],
      "source": [
        "#| code-fold: false\n",
        "# recompute incidence for all years\n",
        "for year in [2019, 2020, 2021]:\n",
        "    tb_census_df[f\"recompute incidence {year}\"] = tb_census_df[f\"TB cases {year}\"]/tb_census_df[f\"{year}\"]*100000\n",
        "tb_census_df.head(5)"
      ]
    },
    {
      "cell_type": "markdown",
      "metadata": {},
      "source": [
        "These numbers look pretty close!!! There are a few errors in the hundredths place, particularly in 2021. It may be useful to further explore reasons behind this discrepancy. "
      ]
    },
    {
      "cell_type": "code",
      "execution_count": null,
      "metadata": {
        "vscode": {
          "languageId": "python"
        }
      },
      "outputs": [],
      "source": [
        "#| code-fold: false\n",
        "tb_census_df.describe()"
      ]
    },
    {
      "cell_type": "markdown",
      "metadata": {},
      "source": [
        "## Bonus EDA: Reproducing the Reported Statistic\n",
        "\n",
        "\n",
        "**How do we reproduce that reported statistic in the original [CDC report](https://www.cdc.gov/mmwr/volumes/71/wr/mm7112a1.htm?s_cid=mm7112a1_w)?**\n",
        "\n",
        "> Reported TB incidence (cases per 100,000 persons) increased **9.4%**, from **2.2** during 2020 to **2.4** during 2021 but was lower than incidence during 2019 (2.7). Increases occurred among both U.S.-born and non–U.S.-born persons.\n",
        "\n",
        "This is TB incidence computed across the entire U.S. population! How do we reproduce this?\n",
        "* We need to reproduce the \"Total\" TB incidences in our rolled record.\n",
        "* But our current `tb_census_df` only has 51 entries (50 states plus Washington, D.C.). There is no rolled record.\n",
        "* What happened...?\n",
        "\n",
        "Let's get exploring!\n",
        "\n",
        "Before we keep exploring, we'll set all indexes to more meaningful values, instead of just numbers that pertain to some row at some point. This will make our cleaning slightly easier."
      ]
    },
    {
      "cell_type": "code",
      "execution_count": null,
      "metadata": {
        "vscode": {
          "languageId": "python"
        }
      },
      "outputs": [],
      "source": [
        "#| code-fold: true\n",
        "tb_df = tb_df.set_index(\"U.S. jurisdiction\")\n",
        "tb_df.head(5)"
      ]
    },
    {
      "cell_type": "code",
      "execution_count": null,
      "metadata": {
        "vscode": {
          "languageId": "python"
        }
      },
      "outputs": [],
      "source": [
        "#| code-fold: false\n",
        "census_2010s_df = census_2010s_df.set_index(\"Geographic Area\")\n",
        "census_2010s_df.head(5)"
      ]
    },
    {
      "cell_type": "code",
      "execution_count": null,
      "metadata": {
        "vscode": {
          "languageId": "python"
        }
      },
      "outputs": [],
      "source": [
        "#| code-fold: false\n",
        "census_2020s_df = census_2020s_df.set_index(\"Geographic Area\")\n",
        "census_2020s_df.head(5)"
      ]
    },
    {
      "cell_type": "markdown",
      "metadata": {},
      "source": [
        "It turns out that our merge above only kept state records, even though our original `tb_df` had the \"Total\" rolled record:"
      ]
    },
    {
      "cell_type": "code",
      "execution_count": null,
      "metadata": {
        "vscode": {
          "languageId": "python"
        }
      },
      "outputs": [],
      "source": [
        "#| code-fold: false\n",
        "tb_df.head()"
      ]
    },
    {
      "cell_type": "markdown",
      "metadata": {},
      "source": [
        "Recall that `merge` by default does an **inner** merge by default, meaning that it only preserves keys that are present in **both** `DataFrame`s.\n",
        "\n",
        "The rolled records in our census `DataFrame` have different `Geographic Area` fields, which was the key we merged on:"
      ]
    },
    {
      "cell_type": "code",
      "execution_count": null,
      "metadata": {
        "vscode": {
          "languageId": "python"
        }
      },
      "outputs": [],
      "source": [
        "#| code-fold: false\n",
        "census_2010s_df.head(5)"
      ]
    },
    {
      "cell_type": "markdown",
      "metadata": {},
      "source": [
        "The Census `DataFrame` has several rolled records. The aggregate record we are looking for actually has the Geographic Area named \"United States\".\n",
        "\n",
        "One straightforward way to get the right merge is to rename the value itself. Because we now have the Geographic Area index, we'll use `df.rename()` ([documentation](https://pandas.pydata.org/docs/reference/api/pandas.DataFrame.rename.html)):"
      ]
    },
    {
      "cell_type": "code",
      "execution_count": null,
      "metadata": {
        "vscode": {
          "languageId": "python"
        }
      },
      "outputs": [],
      "source": [
        "#| code-fold: false\n",
        "# rename rolled record for 2010s\n",
        "census_2010s_df.rename(index={'United States':'Total'}, inplace=True)\n",
        "census_2010s_df.head(5)"
      ]
    },
    {
      "cell_type": "code",
      "execution_count": null,
      "metadata": {
        "vscode": {
          "languageId": "python"
        }
      },
      "outputs": [],
      "source": [
        "#| code-fold: false\n",
        "# same, but for 2020s rename rolled record\n",
        "census_2020s_df.rename(index={'United States':'Total'}, inplace=True)\n",
        "census_2020s_df.head(5)"
      ]
    },
    {
      "cell_type": "markdown",
      "metadata": {},
      "source": [
        "<br/>\n",
        "\n",
        "Next let's rerun our merge. Note the different chaining, because we are now merging on indexes (`df.merge()` [documentation](https://pandas.pydata.org/docs/reference/api/pandas.DataFrame.merge.html))."
      ]
    },
    {
      "cell_type": "code",
      "execution_count": null,
      "metadata": {
        "vscode": {
          "languageId": "python"
        }
      },
      "outputs": [],
      "source": [
        "#| code-fold: false\n",
        "tb_census_df = (\n",
        "    tb_df\n",
        "    .merge(right=census_2010s_df[[\"2019\"]],\n",
        "           left_index=True, right_index=True)\n",
        "    .merge(right=census_2020s_df[[\"2020\", \"2021\"]],\n",
        "           left_index=True, right_index=True)\n",
        ")\n",
        "tb_census_df.head(5)"
      ]
    },
    {
      "cell_type": "markdown",
      "metadata": {},
      "source": [
        "<br/>\n",
        "\n",
        "Finally, let's recompute our incidences:"
      ]
    },
    {
      "cell_type": "code",
      "execution_count": null,
      "metadata": {
        "vscode": {
          "languageId": "python"
        }
      },
      "outputs": [],
      "source": [
        "#| code-fold: false\n",
        "# recompute incidence for all years\n",
        "for year in [2019, 2020, 2021]:\n",
        "    tb_census_df[f\"recompute incidence {year}\"] = tb_census_df[f\"TB cases {year}\"]/tb_census_df[f\"{year}\"]*100000\n",
        "tb_census_df.head(5)"
      ]
    },
    {
      "cell_type": "markdown",
      "metadata": {},
      "source": [
        "We reproduced the total U.S. incidences correctly!\n",
        "\n",
        "We're almost there. Let's revisit the quote:\n",
        "\n",
        "> Reported TB incidence (cases per 100,000 persons) increased **9.4%**, from **2.2** during 2020 to **2.4** during 2021 but was lower than incidence during 2019 (2.7). Increases occurred among both U.S.-born and non–U.S.-born persons.\n",
        "\n",
        "Recall that percent change from $A$ to $B$ is computed as\n",
        "$\\text{percent change} = \\frac{B - A}{A} \\times 100$."
      ]
    },
    {
      "cell_type": "code",
      "execution_count": null,
      "metadata": {
        "tags": [],
        "vscode": {
          "languageId": "python"
        }
      },
      "outputs": [],
      "source": [
        "#| code-fold: false\n",
        "incidence_2020 = tb_census_df.loc['Total', 'recompute incidence 2020']\n",
        "incidence_2020"
      ]
    },
    {
      "cell_type": "code",
      "execution_count": null,
      "metadata": {
        "tags": [],
        "vscode": {
          "languageId": "python"
        }
      },
      "outputs": [],
      "source": [
        "#| code-fold: false\n",
        "incidence_2021 = tb_census_df.loc['Total', 'recompute incidence 2021']\n",
        "incidence_2021"
      ]
    },
    {
      "cell_type": "code",
      "execution_count": null,
      "metadata": {
        "tags": [],
        "vscode": {
          "languageId": "python"
        }
      },
      "outputs": [],
      "source": [
        "#| code-fold: false\n",
        "difference = (incidence_2021 - incidence_2020)/incidence_2020 * 100\n",
        "difference"
      ]
    },
    {
      "cell_type": "markdown",
      "metadata": {},
      "source": [
        "# Summary\n",
        "We went over a lot of content this lecture; let's summarize the most important points: \n",
        "\n",
        "## Dealing with Missing Values\n",
        "There are a few options we can take to deal with missing data:\n",
        "\n",
        "* Drop missing records\n",
        "* Keep `NaN` missing values\n",
        "* Impute using an interpolated column\n",
        "\n",
        "## EDA and Data Wrangling\n",
        "There are several ways to approach EDA and Data Wrangling: \n",
        "\n",
        "* Examine the **data and metadata**: what is the date, size, organization, and structure of the data? \n",
        "* Examine each **field/attribute/dimension** individually.\n",
        "* Examine pairs of related dimensions (e.g. breaking down grades by major).\n",
        "* Along the way, we can \n",
        "    * **Visualize** or summarize the data.\n",
        "    * **Validate assumptions** about data and its collection process. Pay particular attention to when the data was collected. \n",
        "    * Identify and **address anomalies**.\n",
        "    * Apply data transformations and corrections (we'll cover this in the upcoming lecture).\n",
        "    * **Record everything you do!** Developing in Jupyter Notebook promotes *reproducibility* of your own work!\n"
      ]
    }
  ],
  "metadata": {
    "kernelspec": {
      "display_name": "Python 3 (ipykernel)",
      "language": "python",
      "name": "python3"
    }
  },
  "nbformat": 4,
  "nbformat_minor": 4
}
