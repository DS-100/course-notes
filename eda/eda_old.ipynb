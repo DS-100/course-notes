{
 "cells": [
  {
   "cell_type": "raw",
   "metadata": {},
   "source": [
    "---\n",
    "title: Data Cleaning and EDA\n",
    "execute:\n",
    "  echo: true\n",
    "format:\n",
    "  html:\n",
    "    code-fold: true\n",
    "    code-tools: true\n",
    "    toc: true\n",
    "    toc-title: Data Cleaning and EDA\n",
    "    page-layout: full\n",
    "    theme:\n",
    "      - cosmo\n",
    "      - cerulean\n",
    "    callout-icon: false\n",
    "---"
   ]
  },
  {
   "cell_type": "markdown",
   "metadata": {},
   "source": [
    "::: {.callout-note collapse=\"true\"}\n",
    "## Learning Outcomes\n",
    "* Recognize common file formats\n",
    "* Categorize data by its variable type\n",
    "* Build awareness of issues with data faithfulness and develop targeted solutions\n",
    ":::\n",
    "\n",
    "In the past few lectures, we've learned that `pandas` is a toolkit to restructure, modify, and explore a dataset. What we haven't yet touched on is *how* to make these data transformation decisions. When we receive a new set of data from the \"real world,\" how do we know what processing we should do to convert this data into a usable form?\n",
    "\n",
    "**Data cleaning**, also called **data wrangling**, is the process of transforming raw data to facilitate subsequent analysis. It is often used to address issues like:\n",
    "\n",
    "* Unclear structure or formatting\n",
    "* Missing or corrupted values\n",
    "* Unit conversions\n",
    "* ...and so on\n",
    "\n",
    "**Exploratory Data Analysis (EDA)** is the process of understanding a new dataset. It is an open-ended, informal analysis that involves familiarizing ourselves with the variables present in the data, discovering potential hypotheses, and identifying potential issues with the data. This last point can often motivate further data cleaning to address any problems with the dataset's format; because of this, EDA and data cleaning are often thought of as an \"infinite loop,\" with each process driving the other.\n",
    "\n",
    "In this lecture, we will consider the key properties of data to consider when performing data cleaning and EDA. In doing so, we'll develop a \"checklist\" of sorts for you to consider when approaching a new dataset. Throughout this process, we'll build a deeper understanding of this early (but very important!) stage of the data science lifecycle.\n",
    "\n",
    "## Structure\n",
    "\n",
    "### File Format\n",
    "In the past two `pandas` lectures, we briefly touched on the idea of file format: the way data is encoded in a file for storage. Specifically, our `elections` and `babynames` datasets were stored and loaded as CSVs:"
   ]
  },
  {
   "cell_type": "code",
   "execution_count": null,
   "metadata": {},
   "outputs": [],
   "source": [
    "#| code-fold: false\n",
    "import pandas as pd\n",
    "pd.read_csv(\"data/elections.csv\").head(5)"
   ]
  },
  {
   "cell_type": "markdown",
   "metadata": {},
   "source": [
    "CSVs, which stand for **Comma-Separated Values**, are a common tabular data format. To better understand the properties of a CSV, let's take a look at the first few rows of the raw data file to see what it looks like before being loaded into a DataFrame. "
   ]
  },
  {
   "cell_type": "code",
   "execution_count": null,
   "metadata": {},
   "outputs": [],
   "source": [
    "#| echo: false\n",
    "with open(\"data/elections.csv\", \"r\") as table:\n",
    "    i = 0\n",
    "    for row in table:\n",
    "        print(row)\n",
    "        i += 1\n",
    "        if i > 3:\n",
    "            break"
   ]
  },
  {
   "cell_type": "markdown",
   "metadata": {},
   "source": [
    "Each row, or **record**, in the data is delimited by a newline. Each column, or **field**, in the data is delimited by a comma (hence, comma-separated!). \n",
    "\n",
    "Another common file type is the **TSV (Tab-Separated Values)**. In a TSV, records are still delimited by a newline, while fields are delimited by `\\t` tab character. A TSV can be loaded into `pandas` using `pd.read_csv()` with the `delimiter` parameter: `pd.read_csv(\"file_name.tsv\", delimiter=\"\\t\")`. A raw TSV file is shown below."
   ]
  },
  {
   "cell_type": "code",
   "execution_count": null,
   "metadata": {},
   "outputs": [],
   "source": [
    "#| echo: false\n",
    "with open(\"data/elections.txt\", \"r\") as table:\n",
    "    i = 0\n",
    "    for row in table:\n",
    "        print(row)\n",
    "        i += 1\n",
    "        if i > 3:\n",
    "            break"
   ]
  },
  {
   "cell_type": "markdown",
   "metadata": {},
   "source": [
    "**JSON (JavaScript Object Notation)** files behave similarly to Python dictionaries. They can be loaded into `pandas` using `pd.read_json`. A raw JSON is shown below."
   ]
  },
  {
   "cell_type": "code",
   "execution_count": null,
   "metadata": {},
   "outputs": [],
   "source": [
    "#| echo: false\n",
    "with open(\"data/elections.json\", \"r\") as table:\n",
    "    i = 0\n",
    "    for row in table:\n",
    "        print(row)\n",
    "        i += 1\n",
    "        if i > 8:\n",
    "            break"
   ]
  },
  {
   "cell_type": "markdown",
   "metadata": {},
   "source": [
    "### Variable Types\n",
    "\n",
    "After loading data into a file, it's a good idea to take the time to understand what pieces of information are encoded in the dataset. In particular, we want to identify what variable types are present in our data. Broadly speaking, we can categorize variables into one of two overarching types. \n",
    "\n",
    "**Quantitative variables** describe some numeric quantity or amount. We can sub-divide quantitative data into:\n",
    "\n",
    "* **Continuous quantitative variables**: numeric data that can be measured on a continuous scale to arbitrary precision. Continuous variables do not have a strict set of possible values – they can be recorded to any number of decimal places. For example, weights, GPA, or CO<sub>2</sub> concentrations\n",
    "* **Discrete quantitative variables**: numeric data that can only take on a finite set of possible values. For example, someone's age or number of siblings.\n",
    "\n",
    "**Qualitative variables**, also known as **categorical variables**, describe data that isn't measuring some quantity or amount. The sub-categories of categorical data are:\n",
    "\n",
    "* **Ordinal qualitative variables**: categories with ordered levels. Specifically, ordinal variables are those where the difference between levels has no consistent, quantifiable meaning. For example, a Yelp rating or set of income brackets. \n",
    "* **Nominal qualitative variables**: categories with no specific order. For example, someone's political affiliation or Cal ID number.\n",
    "\n",
    "![Classification of variable types](images/variable.png)\n",
    "\n",
    "### Primary and Foreign Keys\n",
    "\n",
    "Last time, we introduced `.merge` as the `pandas` method for joining multiple DataFrames together. In our discussion of joins, we touched on the idea of using a \"key\" to determine what rows should be merged from each table. Let's take a moment to examine this idea more closely.\n",
    "\n",
    "The **primary key** is the column or set of columns in a table that determine the values of the remaining columns. It can be thought of as the unique identifier for each individual row in the table. For example, a table of Data 100 students might use each student's Cal ID as the primary key. "
   ]
  },
  {
   "cell_type": "code",
   "execution_count": null,
   "metadata": {},
   "outputs": [],
   "source": [
    "#| echo: false\n",
    "pd.DataFrame({\"Cal ID\":[3034619471, 3035619472, 3025619473, 3046789372], \\\n",
    "             \"Name\":[\"Oski\", \"Ollie\", \"Orrie\", \"Ollie\"], \\\n",
    "             \"Major\":[\"Data Science\", \"Computer Science\", \"Data Science\", \"Economics\"]})"
   ]
  },
  {
   "cell_type": "markdown",
   "metadata": {},
   "source": [
    "The **foreign key** is the column or set of columns in a table that reference primary keys in other tables. Knowing a dataset's foreign keys can be useful when assigning the `left_on` and `right_on` parameters of `.merge`. In the table of office hour tickets below, `\"Cal ID\"` is a foreign key referencing the previous table."
   ]
  },
  {
   "cell_type": "code",
   "execution_count": null,
   "metadata": {},
   "outputs": [],
   "source": [
    "#| echo: false\n",
    "pd.DataFrame({\"OH Request\":[1, 2, 3, 4], \\\n",
    "             \"Cal ID\":[3034619471, 3035619472, 3025619473, 3035619472], \\\n",
    "             \"Question\":[\"HW 2 Q1\", \"HW 2 Q3\", \"Lab 3 Q4\", \"HW 2 Q7\"]})"
   ]
  },
  {
   "cell_type": "markdown",
   "metadata": {},
   "source": [
    "## Granularity, Scope, and Temporality\n",
    "\n",
    "After understanding the structure of the dataset, the next task is to determine what exactly the data represents. We'll do so by considering the data's granularity, scope, and temporality.\n",
    "\n",
    "The **granularity** of a dataset is the level of detail included in the data. To determine the data's granularity, ask: what does each row in the dataset represent? Fine-grained data contains a high level of detail, with a single row representing a small individual unit. For example, each record may represent one person. Coarse-grained data is encoded such that a single row represents a large individual unit – for example, each record may represent a group of people.\n",
    "\n",
    "The **scope** of a dataset is the subset of the population covered by the data. If we were investigating student performance in Data Science courses, a dataset with narrow scope might encompass all students enrolled in Data 100; a dataset with expansive scope might encompass all students in California. \n",
    "\n",
    "The **temporality** of a dataset describes the time period over which the data was collected. To fully understand the temporality of the data, it may be necessary to standardize timezones or inspect recurring time-based trends in the data (Do patterns recur in 24-hour patterns? Over the course of a month? Seasonally?).\n",
    "\n",
    "## Faithfulness\n",
    "\n",
    "At this stage in our data cleaning and EDA workflow, we've achieved quite a lot: we've identified how our data is structured, come to terms with what information it encodes, and gained insight as to how it was generated. Throughout this process, we should always recall the original intent of our work in Data Science – to use data to better understand and model the real world. To achieve this goal, we need to ensure that the data we use is faithful to reality; that is, that our data accurately captures the \"real world.\"\n",
    "\n",
    "Data used in research or industry is often \"messy\" – there may be errors or inaccuracies that impact the faithfulness of the dataset. Signs that data may not be faithful include:\n",
    "\n",
    "* Unrealistic or \"incorrect\" values, such as negative counts, locations that don't exist, or dates set in the future\n",
    "* Violations of obvious dependencies, like an age that does not match a birthday\n",
    "* Clear signs that data was entered by hand, which can lead to spelling errors or fields that are incorrectly shifted\n",
    "* Signs of data falsification, such as fake email addresses or repeated use of the same names\n",
    "* Duplicated records or fields containing the same information\n",
    "\n",
    "A common issue encountered with real-world datasets is that of missing data. One strategy to resolve this is to simply drop any records with missing values from the dataset. This does, however, introduce the risk of inducing biases – it is possible that the missing or corrupt records may be systemically related to some feature of interest in the data.\n",
    "\n",
    "Another method to address missing data is to perform **imputation**: infer the missing values using other data available in the dataset. There is a wide variety of imputation techniques that can be implemented; some of the most common are listed below.\n",
    "\n",
    "* Average imputation: replace missing values with the average value for that field\n",
    "* Hot deck imputation: replace missing values with some random value\n",
    "* Regression imputation: develop a model to predict missing values\n",
    "* Multiple imputation: replace missing values with multiple random values\n",
    "\n",
    "Regardless of the strategy used to deal with missing data, we should think carefully about *why* particular records or fields may be missing – this can help inform whether or not the absence of these values is signficant in some meaningful way.\n",
    "\n",
    "# EDA Demo: Tuberculosis in the United States\n",
    "\n",
    "Now, let's follow this data-cleaning and EDA workflow to see what can we say about the presence of Tuberculosis in the United States!\n",
    "\n",
    "We will examine the data included in the [original CDC article](https://www.cdc.gov/mmwr/volumes/71/wr/mm7112a1.htm?s_cid=mm7112a1_w#T1_down) published in 2021.\n",
    "\n",
    "\n",
    "## CSVs and Field Names\n",
    "Suppose Table 1 was saved as a CSV file located in `data/cdc_tuberculosis.csv`.\n",
    "\n",
    "We can then explore the CSV (which is a text file, and does not contain binary-encoded data) in many ways:\n",
    "1. Using a text editor like emacs, vim, VSCode, etc.\n",
    "2. Opening the CSV directly in DataHub (read-only), Excel, Google Sheets, etc.\n",
    "3. The Python file object\n",
    "4. pandas, using `pd.read_csv()`\n",
    "\n",
    "1, 2. Let's start with the first two so we really solidify the idea of a CSV as **rectangular data (i.e., tabular data) stored as comma-separated values**.\n",
    "\n",
    "3. Next, let's try using the Python file object. Let's check out the first three lines:"
   ]
  },
  {
   "cell_type": "code",
   "execution_count": null,
   "metadata": {},
   "outputs": [],
   "source": [
    "with open(\"data/cdc_tuberculosis.csv\", \"r\") as f:\n",
    "    i = 0\n",
    "    for row in f:\n",
    "        print(row)\n",
    "        i += 1\n",
    "        if i > 3:\n",
    "            break"
   ]
  },
  {
   "cell_type": "markdown",
   "metadata": {},
   "source": [
    "Whoa, why are there blank lines interspaced between the lines of the CSV?\n",
    "\n",
    "You may recall that all line breaks in text files are encoded as the special newline character `\\n`. Python's `print()` prints each string (including the newline), and an additional newline on top of that.\n",
    "\n",
    "If you're curious, we can use the `repr()` function to return the raw string with all special characters:"
   ]
  },
  {
   "cell_type": "code",
   "execution_count": null,
   "metadata": {},
   "outputs": [],
   "source": [
    "with open(\"data/cdc_tuberculosis.csv\", \"r\") as f:\n",
    "    i = 0\n",
    "    for row in f:\n",
    "        print(repr(row)) # print raw strings\n",
    "        i += 1\n",
    "        if i > 3:\n",
    "            break"
   ]
  },
  {
   "cell_type": "markdown",
   "metadata": {},
   "source": [
    "4. Finally, let's see the tried-and-true Data 100 approach: pandas."
   ]
  },
  {
   "cell_type": "code",
   "execution_count": null,
   "metadata": {},
   "outputs": [],
   "source": [
    "tb_df = pd.read_csv(\"data/cdc_tuberculosis.csv\")\n",
    "tb_df"
   ]
  },
  {
   "cell_type": "markdown",
   "metadata": {},
   "source": [
    "Wait, what's up with the \"Unnamed\" column names? And the first row, for that matter?\n",
    "\n",
    "Congratulations -- you're ready to wrangle your data. Because of how things are stored, we'll need to clean the data a bit to name our columns better.\n",
    "\n",
    "\n",
    "A reasonable first step is to identify the row with the right header. The `pd.read_csv()` function ([documentation](https://pandas.pydata.org/docs/reference/api/pandas.read_csv.html)) has the convenient `header` parameter:"
   ]
  },
  {
   "cell_type": "code",
   "execution_count": null,
   "metadata": {},
   "outputs": [],
   "source": [
    "tb_df = pd.read_csv(\"data/cdc_tuberculosis.csv\", header=1) # row index\n",
    "tb_df.head(5)"
   ]
  },
  {
   "cell_type": "markdown",
   "metadata": {},
   "source": [
    "Wait...but now we can't differentiate betwen the \"Number of TB cases\" and \"TB incidence\" year columns. pandas has tried to make our lives easier by automatically adding \".1\" to the latter columns, but this doesn't help us as humans understand the data.\n",
    "\n",
    "We can do this manually with `df.rename()` ([documentation](https://pandas.pydata.org/docs/reference/api/pandas.DataFrame.rename.html?highlight=rename#pandas.DataFrame.rename)):"
   ]
  },
  {
   "cell_type": "code",
   "execution_count": null,
   "metadata": {},
   "outputs": [],
   "source": [
    "rename_dict = {'2019': 'TB cases 2019',\n",
    "               '2020': 'TB cases 2020',\n",
    "               '2021': 'TB cases 2021',\n",
    "               '2019.1': 'TB incidence 2019',\n",
    "               '2020.1': 'TB incidence 2020',\n",
    "               '2021.1': 'TB incidence 2021'}\n",
    "tb_df = tb_df.rename(columns=rename_dict)\n",
    "tb_df.head(5)"
   ]
  },
  {
   "cell_type": "markdown",
   "metadata": {},
   "source": [
    "## Record Granularity\n",
    "\n",
    "You might already be wondering: What's up with that first record?\n",
    "\n",
    "Row 0 is what we call a **rollup record**, or summary record. It's often useful when displaying tables to humans. The **granularity** of record 0 (Totals) vs the rest of the records (States) is different.\n",
    "\n",
    "Okay, EDA step two. How was the rollup record aggregated?\n",
    "\n",
    "Let's check if Total TB cases is the sum of all state TB cases. If we sum over all rows, we should get **2x** the total cases in each of our TB cases by year (why?)."
   ]
  },
  {
   "cell_type": "code",
   "execution_count": null,
   "metadata": {},
   "outputs": [],
   "source": [
    "tb_df.sum(axis=0)"
   ]
  },
  {
   "cell_type": "markdown",
   "metadata": {},
   "source": [
    "Whoa, what's going on? Check out the column types:"
   ]
  },
  {
   "cell_type": "code",
   "execution_count": null,
   "metadata": {},
   "outputs": [],
   "source": [
    "tb_df.dtypes"
   ]
  },
  {
   "cell_type": "markdown",
   "metadata": {},
   "source": [
    "Looks like those commas are causing all TB cases to be read as the `object` datatype, or **storage type** (close to the Python string datatype), so pandas is concatenating strings instead of adding integers.\n",
    "\n",
    "\n",
    "Fortunately `read_csv` also has a `thousands` parameter (https://pandas.pydata.org/docs/reference/api/pandas.read_csv.html):"
   ]
  },
  {
   "cell_type": "code",
   "execution_count": null,
   "metadata": {},
   "outputs": [],
   "source": [
    "# improve readability: chaining method calls with outer parentheses/line breaks\n",
    "tb_df = (\n",
    "    pd.read_csv(\"data/cdc_tuberculosis.csv\", header=1, thousands=',')\n",
    "    .rename(columns=rename_dict)\n",
    ")\n",
    "tb_df.head(5)"
   ]
  },
  {
   "cell_type": "code",
   "execution_count": null,
   "metadata": {},
   "outputs": [],
   "source": [
    "tb_df.sum()"
   ]
  },
  {
   "cell_type": "markdown",
   "metadata": {},
   "source": [
    "The Total TB cases look right. Phew!\n",
    "\n",
    "Let's just look at the records with **state-level granularity**:"
   ]
  },
  {
   "cell_type": "code",
   "execution_count": null,
   "metadata": {},
   "outputs": [],
   "source": [
    "state_tb_df = tb_df[1:]\n",
    "state_tb_df.head(5)"
   ]
  },
  {
   "cell_type": "markdown",
   "metadata": {},
   "source": [
    "## Gather More Data: Census\n",
    "\n",
    "U.S. Census population estimates [source](https://www.census.gov/data/tables/time-series/demo/popest/2010s-state-total.html) (2019), [source](https://www.census.gov/data/tables/time-series/demo/popest/2020s-state-total.html) (2020-2021).\n",
    "\n",
    "Running the below cells cleans the data.\n",
    "There are a few new methods here:\n",
    "* `df.convert_dtypes()` ([documentation](https://pandas.pydata.org/docs/reference/api/pandas.DataFrame.convert_dtypes.html)) conveniently converts all float dtypes into ints and is out of scope for the class.\n",
    "* `df.drop_na()` ([documentation](https://pandas.pydata.org/docs/reference/api/pandas.DataFrame.dropna.html)) will be explained in more detail next time."
   ]
  },
  {
   "cell_type": "code",
   "execution_count": null,
   "metadata": {},
   "outputs": [],
   "source": [
    "# 2010s census data\n",
    "census_2010s_df = pd.read_csv(\"data/nst-est2019-01.csv\", header=3, thousands=\",\")\n",
    "census_2010s_df = (\n",
    "    census_2010s_df\n",
    "    .reset_index()\n",
    "    .drop(columns=[\"index\", \"Census\", \"Estimates Base\"])\n",
    "    .rename(columns={\"Unnamed: 0\": \"Geographic Area\"})\n",
    "    .convert_dtypes()                 # \"smart\" converting of columns, use at your own risk\n",
    "    .dropna()                         # we'll introduce this next time\n",
    ")\n",
    "census_2010s_df['Geographic Area'] = census_2010s_df['Geographic Area'].str.strip('.')\n",
    "\n",
    "# with pd.option_context('display.min_rows', 30): # shows more rows\n",
    "#     display(census_2010s_df)\n",
    "    \n",
    "census_2010s_df.head(5)"
   ]
  },
  {
   "cell_type": "markdown",
   "metadata": {},
   "source": [
    "Occasionally, you will want to modify code that you have imported.  To reimport those modifications you can either use the python importlib library:\n",
    "\n",
    "```python\n",
    "from importlib import reload\n",
    "reload(utils)\n",
    "```\n",
    "\n",
    "or use iPython magic which will intelligently import code when files change:\n",
    "\n",
    "```python\n",
    "%load_ext autoreload\n",
    "%autoreload 2\n",
    "```"
   ]
  },
  {
   "cell_type": "code",
   "execution_count": null,
   "metadata": {},
   "outputs": [],
   "source": [
    "# census 2020s data\n",
    "census_2020s_df = pd.read_csv(\"data/NST-EST2022-POP.csv\", header=3, thousands=\",\")\n",
    "census_2020s_df = (\n",
    "    census_2020s_df\n",
    "    .reset_index()\n",
    "    .drop(columns=[\"index\", \"Unnamed: 1\"])\n",
    "    .rename(columns={\"Unnamed: 0\": \"Geographic Area\"})\n",
    "    .convert_dtypes()                 # \"smart\" converting of columns, use at your own risk\n",
    "    .dropna()                         # we'll introduce this next time\n",
    ")\n",
    "census_2020s_df['Geographic Area'] = census_2020s_df['Geographic Area'].str.strip('.')\n",
    "\n",
    "census_2020s_df.head(5)"
   ]
  },
  {
   "cell_type": "markdown",
   "metadata": {},
   "source": [
    "## Joining Data on Primary Keys\n",
    "\n",
    "Time to `merge`! Here we use the DataFrame method `df1.merge(right=df2, ...)` on DataFrame `df1` ([documentation](https://pandas.pydata.org/docs/reference/api/pandas.DataFrame.merge.html)). Contrast this with the function `pd.merge(left=df1, right=df2, ...)` ([documentation](https://pandas.pydata.org/docs/reference/api/pandas.merge.html?highlight=pandas%20merge#pandas.merge)). Feel free to use either."
   ]
  },
  {
   "cell_type": "code",
   "execution_count": null,
   "metadata": {},
   "outputs": [],
   "source": [
    "# merge TB dataframe with two US census dataframes\n",
    "tb_census_df = (\n",
    "    tb_df\n",
    "    .merge(right=census_2010s_df,\n",
    "           left_on=\"U.S. jurisdiction\", right_on=\"Geographic Area\")\n",
    "    .merge(right=census_2020s_df,\n",
    "           left_on=\"U.S. jurisdiction\", right_on=\"Geographic Area\")\n",
    ")\n",
    "tb_census_df.head(5)"
   ]
  },
  {
   "cell_type": "markdown",
   "metadata": {},
   "source": [
    "This is a little unwieldy. We could either drop the unneeded columns now, or just merge on smaller census DataFrames. Let's do the latter."
   ]
  },
  {
   "cell_type": "code",
   "execution_count": null,
   "metadata": {},
   "outputs": [],
   "source": [
    "# try merging again, but cleaner this time\n",
    "tb_census_df = (\n",
    "    tb_df\n",
    "    .merge(right=census_2010s_df[[\"Geographic Area\", \"2019\"]],\n",
    "           left_on=\"U.S. jurisdiction\", right_on=\"Geographic Area\")\n",
    "    .drop(columns=\"Geographic Area\")\n",
    "    .merge(right=census_2020s_df[[\"Geographic Area\", \"2020\", \"2021\"]],\n",
    "           left_on=\"U.S. jurisdiction\", right_on=\"Geographic Area\")\n",
    "    .drop(columns=\"Geographic Area\")\n",
    ")\n",
    "tb_census_df.head(5)"
   ]
  },
  {
   "cell_type": "markdown",
   "metadata": {},
   "source": [
    "## Reproducing Data: Compute Incidence\n",
    "\n",
    "Let's recompute incidence to make sure we know where the original CDC numbers came from.\n",
    "\n",
    "From the [CDC report](https://www.cdc.gov/mmwr/volumes/71/wr/mm7112a1.htm?s_cid=mm7112a1_w#T1_down): TB incidence is computed as “Cases per 100,000 persons using mid-year population estimates from the U.S. Census Bureau.”\n",
    "\n",
    "If we define a group as 100,000 people, then we can compute the TB incidence for a given state population as\n",
    "\n",
    "$$\\text{TB incidence} = \\frac{\\text{TB cases in population}}{\\text{groups in population}} = \\frac{\\text{TB cases in population}}{\\text{population}/100000} $$\n",
    "\n",
    "$$= \\frac{\\text{TB cases in population}}{\\text{population}} \\times 100000$$\n",
    "\n",
    "Let's try this for 2019:"
   ]
  },
  {
   "cell_type": "code",
   "execution_count": null,
   "metadata": {},
   "outputs": [],
   "source": [
    "tb_census_df[\"recompute incidence 2019\"] = tb_census_df[\"TB cases 2019\"]/tb_census_df[\"2019\"]*100000\n",
    "tb_census_df.head(5)"
   ]
  },
  {
   "cell_type": "markdown",
   "metadata": {},
   "source": [
    "Awesome!!!\n",
    "\n",
    "Let's use a for-loop and Python format strings to compute TB incidence for all years. Python f-strings are just used for the purposes of this demo, but they're handy to know when you explore data beyond this course ([Python documentation](https://docs.python.org/3/tutorial/inputoutput.html))."
   ]
  },
  {
   "cell_type": "code",
   "execution_count": null,
   "metadata": {},
   "outputs": [],
   "source": [
    "# recompute incidence for all years\n",
    "for year in [2019, 2020, 2021]:\n",
    "    tb_census_df[f\"recompute incidence {year}\"] = tb_census_df[f\"TB cases {year}\"]/tb_census_df[f\"{year}\"]*100000\n",
    "tb_census_df.head(5)"
   ]
  },
  {
   "cell_type": "markdown",
   "metadata": {},
   "source": [
    "These numbers look pretty close!!! There are a few errors in the hundredths place, particularly in 2021. It may be useful to further explore reasons behind this discrepancy. "
   ]
  },
  {
   "cell_type": "code",
   "execution_count": null,
   "metadata": {},
   "outputs": [],
   "source": [
    "tb_census_df.describe()"
   ]
  },
  {
   "cell_type": "markdown",
   "metadata": {},
   "source": [
    "## Bonus EDA: Reproducing the reported statistic\n",
    "\n",
    "\n",
    "**How do we reproduce that reported statistic in the original [CDC report](https://www.cdc.gov/mmwr/volumes/71/wr/mm7112a1.htm?s_cid=mm7112a1_w)?**\n",
    "\n",
    "> Reported TB incidence (cases per 100,000 persons) increased **9.4%**, from **2.2** during 2020 to **2.4** during 2021 but was lower than incidence during 2019 (2.7). Increases occurred among both U.S.-born and non–U.S.-born persons.\n",
    "\n",
    "This is TB incidence computed across the entire U.S. population! How do we reproduce this\n",
    "* We need to reproduce the \"Total\" TB incidences in our rolled record.\n",
    "* But our current `tb_census_df` only has 51 entries (50 states plus Washington, D.C.). There is no rolled record.\n",
    "* What happened...?\n",
    "\n",
    "Let's get exploring!\n",
    "\n",
    "Before we keep exploring, we'll set all indexes to more meaningful values, instead of just numbers that pertained to some row at some point. This will make our cleaning slightly easier."
   ]
  },
  {
   "cell_type": "code",
   "execution_count": null,
   "metadata": {},
   "outputs": [],
   "source": [
    "tb_df = tb_df.set_index(\"U.S. jurisdiction\")\n",
    "tb_df.head(5)"
   ]
  },
  {
   "cell_type": "code",
   "execution_count": null,
   "metadata": {},
   "outputs": [],
   "source": [
    "census_2010s_df = census_2010s_df.set_index(\"Geographic Area\")\n",
    "census_2010s_df.head(5)"
   ]
  },
  {
   "cell_type": "code",
   "execution_count": null,
   "metadata": {},
   "outputs": [],
   "source": [
    "census_2020s_df = census_2020s_df.set_index(\"Geographic Area\")\n",
    "census_2020s_df.head(5)"
   ]
  },
  {
   "cell_type": "markdown",
   "metadata": {},
   "source": [
    "It turns out that our merge above only kept state records, even though our original `tb_df` had the \"Total\" rolled record:"
   ]
  },
  {
   "cell_type": "code",
   "execution_count": null,
   "metadata": {},
   "outputs": [],
   "source": [
    "tb_df.head()"
   ]
  },
  {
   "cell_type": "markdown",
   "metadata": {},
   "source": [
    "Recall that merge by default does an **inner** merge by default, meaning that it only preserves keys that are present in **both** DataFrames.\n",
    "\n",
    "The rolled records in our census dataframes have different `Geographic Area` fields, which was the key we merged on:"
   ]
  },
  {
   "cell_type": "code",
   "execution_count": null,
   "metadata": {},
   "outputs": [],
   "source": [
    "census_2010s_df.head(5)"
   ]
  },
  {
   "cell_type": "markdown",
   "metadata": {},
   "source": [
    "The Census DataFrame has several rolled records. The aggregate record we are looking for actually has the Geographic Area named \"United States\".\n",
    "\n",
    "One straightforward way to get the right merge is to rename the value itself. Because we now have the Geographic Area index, we'll use `df.rename()` ([documentation](https://pandas.pydata.org/docs/reference/api/pandas.DataFrame.rename.html)):"
   ]
  },
  {
   "cell_type": "code",
   "execution_count": null,
   "metadata": {},
   "outputs": [],
   "source": [
    "# rename rolled record for 2010s\n",
    "census_2010s_df.rename(index={'United States':'Total'}, inplace=True)\n",
    "census_2010s_df.head(5)"
   ]
  },
  {
   "cell_type": "code",
   "execution_count": null,
   "metadata": {},
   "outputs": [],
   "source": [
    "# same, but for 2020s rename rolled record\n",
    "census_2020s_df.rename(index={'United States':'Total'}, inplace=True)\n",
    "census_2020s_df.head(5)"
   ]
  },
  {
   "cell_type": "markdown",
   "metadata": {},
   "source": [
    "<br/>\n",
    "\n",
    "Next let's rerun our merge. Note the different chaining, because we are now merging on indexes (`df.merge()` [documentation](https://pandas.pydata.org/docs/reference/api/pandas.DataFrame.merge.html))."
   ]
  },
  {
   "cell_type": "code",
   "execution_count": null,
   "metadata": {},
   "outputs": [],
   "source": [
    "tb_census_df = (\n",
    "    tb_df\n",
    "    .merge(right=census_2010s_df[[\"2019\"]],\n",
    "           left_index=True, right_index=True)\n",
    "    .merge(right=census_2020s_df[[\"2020\", \"2021\"]],\n",
    "           left_index=True, right_index=True)\n",
    ")\n",
    "tb_census_df.head(5)"
   ]
  },
  {
   "cell_type": "markdown",
   "metadata": {},
   "source": [
    "<br/>\n",
    "\n",
    "Finally, let's recompute our incidences:"
   ]
  },
  {
   "cell_type": "code",
   "execution_count": null,
   "metadata": {},
   "outputs": [],
   "source": [
    "# recompute incidence for all years\n",
    "for year in [2019, 2020, 2021]:\n",
    "    tb_census_df[f\"recompute incidence {year}\"] = tb_census_df[f\"TB cases {year}\"]/tb_census_df[f\"{year}\"]*100000\n",
    "tb_census_df.head(5)"
   ]
  },
  {
   "cell_type": "markdown",
   "metadata": {},
   "source": [
    "We reproduced the total U.S. incidences correctly!\n",
    "\n",
    "We're almost there. Let's revisit the quote:\n",
    "\n",
    "> Reported TB incidence (cases per 100,000 persons) increased **9.4%**, from **2.2** during 2020 to **2.4** during 2021 but was lower than incidence during 2019 (2.7). Increases occurred among both U.S.-born and non–U.S.-born persons.\n",
    "\n",
    "Recall that percent change from $A$ to $B$ is computed as\n",
    "$\\text{percent change} = \\frac{B - A}{A} \\times 100$."
   ]
  },
  {
   "cell_type": "code",
   "execution_count": null,
   "metadata": {
    "tags": []
   },
   "outputs": [],
   "source": [
    "incidence_2020 = tb_census_df.loc['Total', 'recompute incidence 2020']\n",
    "incidence_2020"
   ]
  },
  {
   "cell_type": "code",
   "execution_count": null,
   "metadata": {
    "tags": []
   },
   "outputs": [],
   "source": [
    "incidence_2021 = tb_census_df.loc['Total', 'recompute incidence 2021']\n",
    "incidence_2021"
   ]
  },
  {
   "cell_type": "code",
   "execution_count": null,
   "metadata": {
    "tags": []
   },
   "outputs": [],
   "source": [
    "difference = (incidence_2021 - incidence_2020)/incidence_2020 * 100\n",
    "difference"
   ]
  }
 ],
 "metadata": {
  "kernelspec": {
   "display_name": "Python 3",
   "language": "python",
   "name": "python3"
  },
  "language_info": {
   "codemirror_mode": {
    "name": "ipython",
    "version": 3
   },
   "file_extension": ".py",
   "mimetype": "text/x-python",
   "name": "python",
   "nbconvert_exporter": "python",
   "pygments_lexer": "ipython3",
   "version": "3.8.5"
  }
 },
 "nbformat": 4,
 "nbformat_minor": 4
}
