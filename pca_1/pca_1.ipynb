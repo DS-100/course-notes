{
  "cells": [
    {
      "cell_type": "raw",
      "metadata": {},
      "source": [
        "---\n",
        "title: PCA I\n",
        "format:\n",
        "  html:\n",
        "    toc: true\n",
        "    toc-depth: 5\n",
        "    toc-location: right\n",
        "    code-fold: false\n",
        "    theme:\n",
        "      - cosmo\n",
        "      - cerulean\n",
        "    callout-icon: false\n",
        "---"
      ]
    },
    {
      "cell_type": "markdown",
      "metadata": {},
      "source": [
        "::: {.callout-note}\n",
        "## Learning Outcomes TODO \n",
        "- Define and carry out procedure of PCA\n",
        "- Understand connection between PCA and SVD\n",
        ":::\n",
        "\n",
        "## Dimensionality \n",
        "\n",
        "So far, we've used visualizations like rugplots or scatterplots to help us identify clusters in our dataset. Since we humans are 3D beings, we can’t visualize beyond three dimensions, but many datasets come with more than three features. In order to visualize multidimensional data, we can reduce the dataset to lower dimensions through **dimensionality reduction**. \n",
        "\n",
        "Previously, we have been working with data tables with rows and columns. These rows and columns corresponded to observations and attributes about said observations. Now, we have to be a bit more clear with our wording to follow the language of linear algebra. \n",
        "\n",
        "Suppose we have a dataset of:\n",
        "- N observations (data points/rows)\n",
        "- d attributes (features/columns).\n",
        "\n",
        "In Linear Algebra, we think of data being a collection of vectors. Vectors have a *dimension*, meaning they have some number of unique elements. Row and column now denotes the direction a vector is written (horizontally, like a row, or vertically, like a column):\n",
        "\n",
        "Linear Algebra views our data as a matrix:\n",
        "- N row vectors in a d-Dimensions, OR\n",
        "- d column vectors in an N-Dimensions.\n",
        "\n",
        "**Dimensionality** of data is a complex topic. Sometimes, it is clear from looking at the number of rows/columns, but other times it is not. \n",
        "\n",
        "<center><img src = \"images/dataset_dims.png\"></center>\n",
        "\n",
        "For example, the dataset below has 4 columns, but the `Weight (lbs)` column is actually just a linear transformation of the `Weight (kg)` column. Thus, no new information is captured, and the matrix of our dataset has a (column) rank of 3! Despite having 4 columns, we still say that this data is 3-dimensional.\n",
        "\n",
        "\n",
        "<center><img src = \"images/dataset4.png\"></center>\n",
        "\n",
        "Plotting the weight columns together reveals the key visual intuition. While the two columns visually span a 2-d space as a line, the data does not deviate at all from that singular line. This means that one of the weight columns are redundant! Even given the option to cover the whole 2d space, the data below does not. It might as well not have this dimension, which is why we still do not consider the data below to span more than 1 dimension.\n",
        "\n",
        "<center><img src = \"images/dataset3.png\" width=\"400vw\"></center>\n",
        "\n",
        "What happens when there are outliers? Below, we've added one outlier point to the dataset above, and just that is enough toi change the rank of the matrix from 1 to 2 dimensions. However, the data is still very much 1-dimensional. \n",
        "\n",
        "<center><img src = \"images/dataset3_outlier.png\" width=\"400vw\"></center>\n",
        "\n",
        "As such, dimensionality reduction is generally an *approximation* of the original data that's achieved through projecting the data onto a desired dimension. However, there are many ways to project a dataset onto a lower dimension. How do we choose the best one? \n",
        "\n",
        "<center><img src = \"images/diff_reductions.png\" width=\"1000vw\"></center>\n",
        "\n",
        "In general, we want the projection that is the best approximation for the original data (the graph on the right). In other words, we want the projection that capture the most variance of the original data. In the next section, we'll see how this is calculated."
      ]
    },
    {
      "cell_type": "markdown",
      "metadata": {},
      "source": [
        "## Matrix as Transformation\n",
        "\n",
        "Consider the matrix multiplication example below:\n",
        "\n",
        "<center><img src = \"images/matmul.png\"></center>\n",
        "\n",
        "* For table 1, each row of the fruits matrix represents one bowl of fruit; the first bowl/row has 2 apples, 2 lemons, and 2 melons.\n",
        "* For table 2, each column of the dollars matrix represents the cost of fruit at a store; the first store/column charges 2 dollars for an apple, 1 dollar for a lemon, and 4 dollars for a melon.\n",
        "* The output is the cost of each bowl at each store\n",
        "\n",
        "In general, there are two ways to interpret matrix multiplication:\n",
        "1. Row dot column to get each datapoint. In this view, we perform multiple linear operations on the data <center><img src = \"images/matmul2.png\"></center>\n",
        "2. Linear transformation of columns <center><img src = \"images/matmul3.png\"></center>\n",
        "\n",
        "## Principal Component Analysis (PCA) \n",
        "\n",
        "In PCA, our goal is to transform observations from high-dimensional data down to low dimensions (often 2, as most visualizations are 2D) through linear transformations. In other words, we want to find a linear transformation that creates a low-dimension representation which captures as much of the original data’s *total variance* as possible.\n",
        "\n",
        "<center><img src = \"images/PCA_1.png\"></center>\n",
        "\n",
        "We often perform PCA during the Exploratory Data Analysis (EDA) stage of our data science lifecycle when we don't know what model to use; it helps us with \n",
        "\n",
        "* Visually identifying clusters of similar observations in high dimensions.\n",
        "* Removing irrelevant dimensions if we suspect that the dataset is inherently low rank. For example, if the columns are collinear: there are many attributes but only a few mostly determine the rest through linear associations.\n",
        "* Finding a small basis for representing variations in complex things, e.g., images, genes.\n",
        "* Reducing the number of dimensions to make some computation cheaper.\n",
        "\n",
        "<center><img src = \"images/pca_example.png\"></center>\n",
        "\n",
        "\n",
        "### PCA Procedure (Overview)\n",
        "\n",
        "1. Center the data matrix by subtracting the mean of each attribute column.\n",
        "2. To find the $i$-th principal component $v_i$:\n",
        "    1. $v$ is a unit vector that linearly combines the attributes.\n",
        "    2. $v$ gives a one-dimensional projection of the data.\n",
        "    3. $v$ is chosen to minimize the sum of squared distances between each point and its projection onto $v$.\n",
        "    4. Choose $v$ such that it is orthogonal to all previous principal components.\n",
        "\n",
        "$k$ principal components capture the most variance of any $k$-dimensional reduction of the data matrix.\n",
        "\n",
        "In practice, however, we don’t carry out the procedures in step 2 because it takes too long to compute. Instead, we use singular value decomposition (SVD) to efficiently find all principal components."
      ]
    },
    {
      "cell_type": "markdown",
      "metadata": {},
      "source": [
        "## Singular Value Decomposition (SVD)\n",
        "\n",
        "Singular value decomposition (SVD) is an important concept in linear algebra. Since this class requires a linear algebra course (MATH 54, 56 or EECS 16A) as a pre/co-requisite, we assume you have taken (or are taking) a linear algebra course and will not explain SVD in its entirety. In particular, we will go over:\n",
        "\n",
        "- Why SVD is a valid decomposition of rectangular matrices\n",
        "- Why PCA is an application of SVD.\n",
        "\n",
        "We will not go much into the theory and details of SVD. Instead, we will only cover what is needed for a data science interpretation.\n",
        "\n",
        "::: {.callout-tip}\n",
        "### [Linear Algebra] Orthonormality\n",
        "\n",
        "Orthonormal is a combination of two words: orthogonal and normal.\n",
        "When we say the columns of a matrix are orthonormal, we say that (1) the columns are all orthogonal to each other (all pairs of columns have a dot product of zero) and (2) all columns are unit vectors (he length of each column vector is 1)\n",
        "<center><img src = \"images/orthonormal.png\"></center>\n",
        "\n",
        "\n",
        "Orthonormal matrices have a few important properties\n",
        "* **Orthonormal inverse**: If an $m \\times n$ matrix $Q$ has orthonormal columns,  $QQ^T= Iₘ$ and $Q^TQ=Iₙ$.\n",
        "* **Rotation of coordinates**: the linear transformation represented by an orthonormal matrix is often a rotation (and less often a reflection). We can imagine columns of the matrix as where the unit vectors of the original space will land.\n",
        ":::\n",
        "\n",
        "::: {.callout-tip}\n",
        "### [Linear Algebra] Diagnomal Matrices \n",
        "\n",
        "**Diagonal matrices** are square matrices with non-zero values on the diagonal axis and zero everywhere else.\n",
        "\n",
        "Right-multiplied diagonal matrices scale each column up or down by a constant factor. Geometrically, this transformation can be viewed as scaling the coordinate system.\n",
        "\n",
        "<center><img src = \"images/diag_matrix.png\"></center>\n",
        ":::\n",
        "\n",
        "Singular value decomposition (SVD) describes a matrix $X$'s decomposition into three matrices:\n",
        "$$ X = U \\Sigma V^T $$\n",
        "\n",
        "Let's break down each of these terms one-by-one\n",
        "\n",
        "### $U$\n",
        "\n",
        "* $U$ is an $n$ by $d$ matrix: $U \\in \\mathbb{R}^{n \\times d}$.\n",
        "* Its columns are **orthonormal**: $\\bar{u_i}^T\\bar{u_j} = 0$ for all pairs $i, j$, and all vectors $\\bar{u_i}$ are unit vectors with length = 1.\n",
        "* Columns of U are called the **left singular vectors**.\n",
        "* $UU^T = I_n$ and $U^TU = I_d$.\n",
        "* We can think of $U$ as a rotation. \n",
        "\n",
        "<center><img src = \"images/u.png\"></center>\n",
        "\n",
        "### $\\Sigma$\n",
        "\n",
        "* $\\Sigma$ is a $d$ by $d$ matrix: $\\Sigma \\in \\mathbb{R}^{d \\times d}$.\n",
        "* The majority of the matrix is zero\n",
        "* It has $r$ **non-zero** **singular values**, and $r$ is the rank of $X$\n",
        "* Diagonal values (**singular values** $\\sigma_1, \\sigma_2, ... \\sigma_r$), are ordered from greatest to least $\\sigma_1 > \\sigma_2 > ... > \\sigma_r$\n",
        "* We can think of $\\Sigma$ as a rotation. \n",
        "\n",
        "<center><img src = \"images/sigma.png\"></center>\n",
        "\n",
        "### $V^T$\n",
        "\n",
        "* $V^T$ is an $d$ by $d$ matrix: $U \\in \\mathbb{R}^{d \\times d}$.\n",
        "* Columns of $V$ are orthonormal, so the rows of $V^T$ are orthonormal\n",
        "* Columns of $V$ are called the **right singular vectors**. \n",
        "* $VV^T = V^TV = I_d$\n",
        "* WE can think of $V$ as a rotation. \n",
        "\n",
        "<center><img src = \"images/v.png\"></center>\n",
        "\n",
        "### SVD: Geometric Perspective \n",
        "\n",
        "<center><img src = \"images/svd.png\"></center>\n",
        "\n",
        "We’ve seen that $U$ and $V$ represent rotations, and $\\Sigma$ represents scaling. Therefore, SVD says that any matrix can be decomposed into a rotation, then a scaling, and another rotation.\n",
        "<center><img src = \"images/svd_geo.png\"></center>\n",
        "\n",
        "### SVD in `numpy`\n",
        "For this demo, we'll continue working with our rectangular dataset from before with $n=100$ rows and $d=4$ columns."
      ]
    },
    {
      "cell_type": "code",
      "execution_count": 1,
      "metadata": {},
      "outputs": [
        {
          "data": {
            "text/html": [
              "<div>\n",
              "<style scoped>\n",
              "    .dataframe tbody tr th:only-of-type {\n",
              "        vertical-align: middle;\n",
              "    }\n",
              "\n",
              "    .dataframe tbody tr th {\n",
              "        vertical-align: top;\n",
              "    }\n",
              "\n",
              "    .dataframe thead th {\n",
              "        text-align: right;\n",
              "    }\n",
              "</style>\n",
              "<table border=\"1\" class=\"dataframe\">\n",
              "  <thead>\n",
              "    <tr style=\"text-align: right;\">\n",
              "      <th></th>\n",
              "      <th>width</th>\n",
              "      <th>height</th>\n",
              "      <th>area</th>\n",
              "      <th>perimeter</th>\n",
              "    </tr>\n",
              "  </thead>\n",
              "  <tbody>\n",
              "    <tr>\n",
              "      <th>0</th>\n",
              "      <td>8</td>\n",
              "      <td>6</td>\n",
              "      <td>48</td>\n",
              "      <td>28</td>\n",
              "    </tr>\n",
              "    <tr>\n",
              "      <th>1</th>\n",
              "      <td>2</td>\n",
              "      <td>4</td>\n",
              "      <td>8</td>\n",
              "      <td>12</td>\n",
              "    </tr>\n",
              "    <tr>\n",
              "      <th>2</th>\n",
              "      <td>1</td>\n",
              "      <td>3</td>\n",
              "      <td>3</td>\n",
              "      <td>8</td>\n",
              "    </tr>\n",
              "    <tr>\n",
              "      <th>3</th>\n",
              "      <td>9</td>\n",
              "      <td>3</td>\n",
              "      <td>27</td>\n",
              "      <td>24</td>\n",
              "    </tr>\n",
              "    <tr>\n",
              "      <th>4</th>\n",
              "      <td>9</td>\n",
              "      <td>8</td>\n",
              "      <td>72</td>\n",
              "      <td>34</td>\n",
              "    </tr>\n",
              "  </tbody>\n",
              "</table>\n",
              "</div>"
            ],
            "text/plain": [
              "   width  height  area  perimeter\n",
              "0      8       6    48         28\n",
              "1      2       4     8         12\n",
              "2      1       3     3          8\n",
              "3      9       3    27         24\n",
              "4      9       8    72         34"
            ]
          },
          "execution_count": 1,
          "metadata": {},
          "output_type": "execute_result"
        }
      ],
      "source": [
        "#| code-fold: false\n",
        "import pandas as pd\n",
        "import seaborn as sns\n",
        "import matplotlib.pyplot as plt\n",
        "import numpy as np\n",
        "np.random.seed(23) #kallisti\n",
        "\n",
        "plt.rcParams['figure.figsize'] = (4, 4)\n",
        "plt.rcParams['figure.dpi'] = 150\n",
        "sns.set()\n",
        "\n",
        "rectangle = pd.read_csv(\"data/rectangle_data.csv\")\n",
        "rectangle.head(5)"
      ]
    },
    {
      "cell_type": "markdown",
      "metadata": {},
      "source": [
        "In `numpy`, the SVD algorith is already written and can be called with `np.linalg.svd` ([documentation](https://numpy.org/doc/stable/reference/generated/numpy.linalg.svd.html)). There are multiple versions of SVD; to get the version that we will follow, we need to set the `full_matrices` parameter to `False`."
      ]
    },
    {
      "cell_type": "code",
      "execution_count": 2,
      "metadata": {},
      "outputs": [],
      "source": [
        "U, S, Vt = np.linalg.svd(rectangle, full_matrices = False)"
      ]
    },
    {
      "cell_type": "markdown",
      "metadata": {},
      "source": [
        "First, let's examine `U`. As we can see, it's dimensions are $n \\times d$"
      ]
    },
    {
      "cell_type": "code",
      "execution_count": 3,
      "metadata": {},
      "outputs": [
        {
          "data": {
            "text/plain": [
              "(100, 4)"
            ]
          },
          "execution_count": 3,
          "metadata": {},
          "output_type": "execute_result"
        }
      ],
      "source": [
        "U.shape\n"
      ]
    },
    {
      "cell_type": "markdown",
      "metadata": {},
      "source": [
        "The first 5 rows of `U` are shown below"
      ]
    },
    {
      "cell_type": "code",
      "execution_count": 4,
      "metadata": {},
      "outputs": [
        {
          "data": {
            "text/html": [
              "<div>\n",
              "<style scoped>\n",
              "    .dataframe tbody tr th:only-of-type {\n",
              "        vertical-align: middle;\n",
              "    }\n",
              "\n",
              "    .dataframe tbody tr th {\n",
              "        vertical-align: top;\n",
              "    }\n",
              "\n",
              "    .dataframe thead th {\n",
              "        text-align: right;\n",
              "    }\n",
              "</style>\n",
              "<table border=\"1\" class=\"dataframe\">\n",
              "  <thead>\n",
              "    <tr style=\"text-align: right;\">\n",
              "      <th></th>\n",
              "      <th>0</th>\n",
              "      <th>1</th>\n",
              "      <th>2</th>\n",
              "      <th>3</th>\n",
              "    </tr>\n",
              "  </thead>\n",
              "  <tbody>\n",
              "    <tr>\n",
              "      <th>0</th>\n",
              "      <td>-0.155151</td>\n",
              "      <td>0.064830</td>\n",
              "      <td>-0.029935</td>\n",
              "      <td>0.383675</td>\n",
              "    </tr>\n",
              "    <tr>\n",
              "      <th>1</th>\n",
              "      <td>-0.038370</td>\n",
              "      <td>-0.089155</td>\n",
              "      <td>0.062019</td>\n",
              "      <td>-0.544421</td>\n",
              "    </tr>\n",
              "    <tr>\n",
              "      <th>2</th>\n",
              "      <td>-0.020357</td>\n",
              "      <td>-0.081138</td>\n",
              "      <td>0.058997</td>\n",
              "      <td>0.053418</td>\n",
              "    </tr>\n",
              "    <tr>\n",
              "      <th>3</th>\n",
              "      <td>-0.101519</td>\n",
              "      <td>-0.076203</td>\n",
              "      <td>-0.148160</td>\n",
              "      <td>-0.122119</td>\n",
              "    </tr>\n",
              "    <tr>\n",
              "      <th>4</th>\n",
              "      <td>-0.218973</td>\n",
              "      <td>0.206423</td>\n",
              "      <td>0.007274</td>\n",
              "      <td>-0.058722</td>\n",
              "    </tr>\n",
              "  </tbody>\n",
              "</table>\n",
              "</div>"
            ],
            "text/plain": [
              "          0         1         2         3\n",
              "0 -0.155151  0.064830 -0.029935  0.383675\n",
              "1 -0.038370 -0.089155  0.062019 -0.544421\n",
              "2 -0.020357 -0.081138  0.058997  0.053418\n",
              "3 -0.101519 -0.076203 -0.148160 -0.122119\n",
              "4 -0.218973  0.206423  0.007274 -0.058722"
            ]
          },
          "execution_count": 4,
          "metadata": {},
          "output_type": "execute_result"
        }
      ],
      "source": [
        "pd.DataFrame(U).head(5)"
      ]
    },
    {
      "cell_type": "markdown",
      "metadata": {},
      "source": [
        "$\\Sigma$ is a little different in `NumPy`. Since the only useful values in the diagonal matrix $\\Sigma$ are the singular values on the diagonal axis, only those values are returned and they are stored in an array.\n",
        "\n",
        "Our `rectangle_data` has a rank of $3$, so we should have 3 non-zero singular values, **sorted from largest to smallest**."
      ]
    },
    {
      "cell_type": "code",
      "execution_count": 5,
      "metadata": {},
      "outputs": [
        {
          "data": {
            "text/plain": [
              "array([3.62932568e+02, 6.29904732e+01, 2.56544651e+01, 2.86529477e-15])"
            ]
          },
          "execution_count": 5,
          "metadata": {},
          "output_type": "execute_result"
        }
      ],
      "source": [
        "S"
      ]
    },
    {
      "cell_type": "markdown",
      "metadata": {},
      "source": [
        "While none of the values are 0, notice that the last value is so small ($10^{-15}$) that it's practically $0$, and we can round the values. "
      ]
    },
    {
      "cell_type": "code",
      "execution_count": 6,
      "metadata": {},
      "outputs": [
        {
          "data": {
            "text/plain": [
              "array([363.,  63.,  26.,   0.])"
            ]
          },
          "execution_count": 6,
          "metadata": {},
          "output_type": "execute_result"
        }
      ],
      "source": [
        "np.round(S)"
      ]
    },
    {
      "cell_type": "markdown",
      "metadata": {},
      "source": [
        "To get `S` in matrix format, we use `np.diag`."
      ]
    },
    {
      "cell_type": "code",
      "execution_count": 7,
      "metadata": {},
      "outputs": [
        {
          "data": {
            "text/plain": [
              "array([[3.62932568e+02, 0.00000000e+00, 0.00000000e+00, 0.00000000e+00],\n",
              "       [0.00000000e+00, 6.29904732e+01, 0.00000000e+00, 0.00000000e+00],\n",
              "       [0.00000000e+00, 0.00000000e+00, 2.56544651e+01, 0.00000000e+00],\n",
              "       [0.00000000e+00, 0.00000000e+00, 0.00000000e+00, 2.86529477e-15]])"
            ]
          },
          "execution_count": 7,
          "metadata": {},
          "output_type": "execute_result"
        }
      ],
      "source": [
        "Sm = np.diag(S)\n",
        "Sm"
      ]
    },
    {
      "cell_type": "markdown",
      "metadata": {},
      "source": [
        "Finally, we can see that `Vt` is indeed a $d \\times d$ matrix"
      ]
    },
    {
      "cell_type": "code",
      "execution_count": 8,
      "metadata": {},
      "outputs": [
        {
          "data": {
            "text/plain": [
              "(4, 4)"
            ]
          },
          "execution_count": 8,
          "metadata": {},
          "output_type": "execute_result"
        }
      ],
      "source": [
        "Vt.shape"
      ]
    },
    {
      "cell_type": "code",
      "execution_count": 9,
      "metadata": {},
      "outputs": [
        {
          "data": {
            "text/html": [
              "<div>\n",
              "<style scoped>\n",
              "    .dataframe tbody tr th:only-of-type {\n",
              "        vertical-align: middle;\n",
              "    }\n",
              "\n",
              "    .dataframe tbody tr th {\n",
              "        vertical-align: top;\n",
              "    }\n",
              "\n",
              "    .dataframe thead th {\n",
              "        text-align: right;\n",
              "    }\n",
              "</style>\n",
              "<table border=\"1\" class=\"dataframe\">\n",
              "  <thead>\n",
              "    <tr style=\"text-align: right;\">\n",
              "      <th></th>\n",
              "      <th>0</th>\n",
              "      <th>1</th>\n",
              "      <th>2</th>\n",
              "      <th>3</th>\n",
              "    </tr>\n",
              "  </thead>\n",
              "  <tbody>\n",
              "    <tr>\n",
              "      <th>0</th>\n",
              "      <td>-0.146436</td>\n",
              "      <td>-0.129942</td>\n",
              "      <td>-8.100201e-01</td>\n",
              "      <td>-0.552756</td>\n",
              "    </tr>\n",
              "    <tr>\n",
              "      <th>1</th>\n",
              "      <td>-0.192736</td>\n",
              "      <td>-0.189128</td>\n",
              "      <td>5.863482e-01</td>\n",
              "      <td>-0.763727</td>\n",
              "    </tr>\n",
              "    <tr>\n",
              "      <th>2</th>\n",
              "      <td>-0.704957</td>\n",
              "      <td>0.709155</td>\n",
              "      <td>7.951614e-03</td>\n",
              "      <td>0.008396</td>\n",
              "    </tr>\n",
              "    <tr>\n",
              "      <th>3</th>\n",
              "      <td>0.666667</td>\n",
              "      <td>0.666667</td>\n",
              "      <td>-5.551115e-17</td>\n",
              "      <td>-0.333333</td>\n",
              "    </tr>\n",
              "  </tbody>\n",
              "</table>\n",
              "</div>"
            ],
            "text/plain": [
              "          0         1             2         3\n",
              "0 -0.146436 -0.129942 -8.100201e-01 -0.552756\n",
              "1 -0.192736 -0.189128  5.863482e-01 -0.763727\n",
              "2 -0.704957  0.709155  7.951614e-03  0.008396\n",
              "3  0.666667  0.666667 -5.551115e-17 -0.333333"
            ]
          },
          "execution_count": 9,
          "metadata": {},
          "output_type": "execute_result"
        }
      ],
      "source": [
        "pd.DataFrame(Vt)"
      ]
    },
    {
      "cell_type": "markdown",
      "metadata": {},
      "source": [
        "To check that this SVD is a valid decomposition, we can reverse it and see if it matches our original table (it does yay!)."
      ]
    },
    {
      "cell_type": "code",
      "execution_count": 10,
      "metadata": {},
      "outputs": [
        {
          "data": {
            "text/html": [
              "<div>\n",
              "<style scoped>\n",
              "    .dataframe tbody tr th:only-of-type {\n",
              "        vertical-align: middle;\n",
              "    }\n",
              "\n",
              "    .dataframe tbody tr th {\n",
              "        vertical-align: top;\n",
              "    }\n",
              "\n",
              "    .dataframe thead th {\n",
              "        text-align: right;\n",
              "    }\n",
              "</style>\n",
              "<table border=\"1\" class=\"dataframe\">\n",
              "  <thead>\n",
              "    <tr style=\"text-align: right;\">\n",
              "      <th></th>\n",
              "      <th>0</th>\n",
              "      <th>1</th>\n",
              "      <th>2</th>\n",
              "      <th>3</th>\n",
              "    </tr>\n",
              "  </thead>\n",
              "  <tbody>\n",
              "    <tr>\n",
              "      <th>0</th>\n",
              "      <td>8.0</td>\n",
              "      <td>6.0</td>\n",
              "      <td>48.0</td>\n",
              "      <td>28.0</td>\n",
              "    </tr>\n",
              "    <tr>\n",
              "      <th>1</th>\n",
              "      <td>2.0</td>\n",
              "      <td>4.0</td>\n",
              "      <td>8.0</td>\n",
              "      <td>12.0</td>\n",
              "    </tr>\n",
              "    <tr>\n",
              "      <th>2</th>\n",
              "      <td>1.0</td>\n",
              "      <td>3.0</td>\n",
              "      <td>3.0</td>\n",
              "      <td>8.0</td>\n",
              "    </tr>\n",
              "    <tr>\n",
              "      <th>3</th>\n",
              "      <td>9.0</td>\n",
              "      <td>3.0</td>\n",
              "      <td>27.0</td>\n",
              "      <td>24.0</td>\n",
              "    </tr>\n",
              "    <tr>\n",
              "      <th>4</th>\n",
              "      <td>9.0</td>\n",
              "      <td>8.0</td>\n",
              "      <td>72.0</td>\n",
              "      <td>34.0</td>\n",
              "    </tr>\n",
              "  </tbody>\n",
              "</table>\n",
              "</div>"
            ],
            "text/plain": [
              "     0    1     2     3\n",
              "0  8.0  6.0  48.0  28.0\n",
              "1  2.0  4.0   8.0  12.0\n",
              "2  1.0  3.0   3.0   8.0\n",
              "3  9.0  3.0  27.0  24.0\n",
              "4  9.0  8.0  72.0  34.0"
            ]
          },
          "execution_count": 10,
          "metadata": {},
          "output_type": "execute_result"
        }
      ],
      "source": [
        "pd.DataFrame(U @ Sm @ Vt).head(5)"
      ]
    },
    {
      "cell_type": "markdown",
      "metadata": {},
      "source": [
        "## PCA with SVD\n",
        "\n",
        "Principle Component Analysis PCA and Singular Value Decomposition can be easily mixed up, especially when you have to keep track of so many acronyms. Here is a quick summary:\n",
        "\n",
        "PCA: a data science procedure used for dimensionality reduction that uses SVD as one of the steps.\n",
        "\n",
        "SVD: a linear algebra algorithm that splits a matrix into 3 component parts."
      ]
    },
    {
      "cell_type": "markdown",
      "metadata": {},
      "source": []
    },
    {
      "cell_type": "markdown",
      "metadata": {},
      "source": []
    },
    {
      "cell_type": "markdown",
      "metadata": {},
      "source": [
        "\n",
        "### Limited by Rank\n",
        "\n",
        "One key fact to remember is that the decomposition are not arbitrary. The *rank* of a matrix limits how small our inner dimensions can be if we want to perfectly recreate our matrix. The proof for this is out of scope.\n",
        "\n",
        "### Automatic Factorization\n",
        "\n",
        "Even if we know we have to factorize our matrix using an inner dimension of R, that still leaves a large space of solutions to traverse. What if we have a procedure to automatically factorize a rank R matrix into an R dimensional representation with some transformation matrix?\n",
        "\n",
        "- Lower dimensional representation avoids redundant features.\n",
        "\n",
        "- Imagine a 1000 dimensional dataset: If the rank is only 5, it’s much easier to do EDA after this mystery procedure.\n",
        "\n",
        "What if we wanted a 2-D representation? Its valuable to compress all of the data that is relevant onto as few dimensions as possible in order to plot it efficiently. Some 2D matrices yield better approximations than others. How well can we do?\n",
        "\n",
        "### Capturing Total Variance\n",
        "\n",
        "Variability of the data is the most important aspect that we want to maintain. It is the bulk of what we care about when we conduct EDA and modeling. Thus, oversimplifying the data may lead to incorrect analyses. \n",
        "\n",
        "Variance for a matrix is defined as the sum of the variances of the columns of a matrix. \n",
        "\n",
        "<img src = \"images/variance.png\" width=\"700\">\n",
        "\n",
        "One approach is to simply keep the columns with the most variability. However, this leads to capturing of a small amount of variability present in our original dataset. Can we do better than just taking two columns from the original matrix?\n",
        "\n",
        "<img src=\"images/approach_1.png\" width=\"700\">\n",
        "\n",
        "It turns out that PCA does a better job at preserving our variances. This is one of the best techniques for dimensionality reductions when it comes to preserving variances. Let's dig into how it works!\n",
        "\n",
        "<img src=\"images/approach_2.png\" width=\"700\">\n",
        "\n",
        "\n",
        "### PCA vs. SVD\n",
        "\n",
        "Principle Component Analysis PCA and Singular Value Decomposition can be easily mixed up, especially when you have to keep track of so many acronyms. Here is a quick summary:\n",
        "\n",
        "PCA: a data science procedure used for dimensionality reduction that uses SVD as one of the steps.\n",
        "\n",
        "SVD: a linear algebra algorithm that splits a matrix into 3 component parts.\n",
        "\n",
        "### PCA Procedure\n",
        "\n",
        "1. Center the data matrix by subtracting the mean of each attribute column.\n",
        "\n",
        "2. Use SVD to find all $v_i \\in \\{1...k\\}$, the principal components, which fulfills the following criteria:\n",
        "    \n",
        "    - $v_i$ is a unit vector that linearly combines the attributes.\n",
        "    - $v_i$ gives a one-dimensional projection of the data.\n",
        "    - $v_i$ is chosen to minimize the sum of squared distances between each point and its projection onto v.\n",
        "    - $v_i$ is orthogonal to all previous principal components.\n",
        "\n",
        "references for SVD: [EECS 16B Note 14](https://eecs16b.org/notes/sp23/note14.pdf), [EECS 16B Note 15](https://eecs16b.org/notes/sp23/note15.pdf)\n",
        "\n",
        "### SVD\n",
        "\n",
        "Singular value decomposition (SVD) is an important concept in linear algebra.\n",
        "\n",
        "- We assume you have taken (or are taking) a linear algebra course.\n",
        "- We will not explain SVD in its entirety—in particular, we will not prove:\n",
        "    - Why SVD is a valid decomposition of rectangular matrices\n",
        "    - Why PCA is an application of SVD.\n",
        "- We know SVD is not covered in EECS 16A, nor Math 54 this semester.\n",
        "\n",
        "We will not go much into the theory and details of SVD. Instead, we will only cover what is needed for a data science interpretation.\n",
        "\n",
        "<img src=\"images/svd.png\" width=\"700\">\n",
        "\n",
        "In NumPy, this algorithm is already written and can be called with `np.linalg.svd`.\n",
        "\n",
        "\n",
        "\n",
        "\n",
        "\n",
        "\n",
        "\n",
        "\n",
        "\n",
        "## Data Variance and Centering\n",
        "\n",
        "Formally, the i-th singular value tells us the **component score**, i.e., how much of the data variance is captured by the ith principal component. Supposing the number of data points is $n$:\n",
        "\n",
        "$$\\text{i-th component score} = \\frac{(\\text{i-th singular value}^2)}{n}$$\n",
        "\n",
        "Summing up the component scores is equivalent to computing total variance.\n",
        "\n",
        "**Data Centering**: PCA has a data centering step that precedes any singular value decomposition, where if implemented defines the component score as above.\n",
        "\n",
        "## Proof of component score (out of scope)\n",
        "\n",
        "The proof defining component score out of scope for this class, but it is included below for your convenience.\n",
        "\n",
        "*Setup*: Consider the design matrix $X \\in \\mathbb{R}^{n \\times d}$, where the $j$-th column (corresponding to the $j$-th feature) is $x_j \\in \\mathbb{R}^n$ and the element in row $i$, column $j$ is $x_{ij}$. Further define $\\tilde{X}$ as the **centered** design matrix. The $j$-th column is $\\tilde{x}_j \\in \\mathbb{R}^n$ and the element in row $i$, column $j$ is $\\tilde{x}_{ij} = x_{ij} - \\bar{x_j}$, where $\\bar{x_j}$ is the mean of the $x_j$ column vector from the original $X$. \n",
        "\n",
        "*Variance*: Construct the **covariance matrix**: $\\frac{1}{n} \\tilde{X}^T \\tilde{X} \\in \\mathbb{R}^{d \\times d}$. The $j$-th element along the diagonal is the **variance** of the $j$-th column of the original design matrix $X$:\n",
        "\n",
        "$$\\left( \\frac{1}{n} \\tilde{X}^T \\tilde{X} \\right)_{jj} = \\frac{1}{n} \\tilde{x}_j ^T \\tilde{x}_j = \\frac{1}{n} \\sum_{i=i}^n (\\tilde{x}_{ij} )^2 = \\frac{1}{n} \\sum_{i=i}^n (x_{ij} - \\bar{x_j})^2$$\n",
        "\n",
        "\n",
        "*SVD*: Suppose singular value decomposition of the *centered* design matrix $\\tilde{X}$ yields $\\tilde{X} = U \\Sigma V^T$, where $U \\in \\mathbb{R}^{n \\times d}$ and $V \\in \\mathbb{R}^{d \\times d}$ are matrices with orthonormal columns, and $\\Sigma \\in \\mathbb{R}^{d \\times d}$ is a diagonal matrix with singular values of $\\tilde{X}$.\n",
        "\n",
        "$$\\begin{aligned}\n",
        "\\tilde{X}^T \\tilde{X} &= (U \\Sigma V^T )^T (U \\Sigma V^T) \\\\\n",
        "&= V \\Sigma U^T U \\Sigma V^T  & (\\Sigma^T = \\Sigma) \\\\\n",
        "&= V \\Sigma^2 V^T & (U^T U = I) \\\\\n",
        "\\frac{1}{n} \\tilde{X}^T \\tilde{X} &= \\frac{1}{n} V \\Sigma V^T =V \\left( \\frac{1}{n} \\Sigma \\right) V^T \\\\\n",
        "\\frac{1}{n} \\tilde{X}^T \\tilde{X} V &= V \\left( \\frac{1}{n} \\Sigma \\right) V^T V = V \\left( \\frac{1}{n} \\Sigma \\right) & \\text{(right multiply by }V \\rightarrow V^T V = I \\text{)} \\\\\n",
        "V^T \\frac{1}{n} \\tilde{X}^T \\tilde{X} V &= V^T V \\left( \\frac{1}{n} \\Sigma \\right) = \\frac{1}{n} \\Sigma & \\text{(left multiply by }V^T \\rightarrow V^T V = I \\text{)} \\\\\n",
        "\\left( \\frac{1}{n} \\tilde{X}^T \\tilde{X} \\right)_{jj} &= \\frac{1}{n}\\sigma_j^2  & \\text{(Define }\\sigma_j\\text{ as the} j\\text{-th singular value)} \\\\\n",
        "\\frac{1}{n} \\sigma_j^2 &= \\frac{1}{n} \\sum_{i=i}^n (x_{ij} - \\bar{x_j})^2\n",
        "\\end{aligned}$$\n",
        "\n",
        "The last line defines the $j$-th component score.\n"
      ]
    },
    {
      "cell_type": "markdown",
      "metadata": {},
      "source": []
    }
  ],
  "metadata": {
    "kernelspec": {
      "display_name": "Python 3 (ipykernel)",
      "language": "python",
      "name": "python3"
    },
    "language_info": {
      "codemirror_mode": {
        "name": "ipython",
        "version": 3
      },
      "file_extension": ".py",
      "mimetype": "text/x-python",
      "name": "python",
      "nbconvert_exporter": "python",
      "pygments_lexer": "ipython3",
      "version": "3.10.9"
    }
  },
  "nbformat": 4,
  "nbformat_minor": 4
}
