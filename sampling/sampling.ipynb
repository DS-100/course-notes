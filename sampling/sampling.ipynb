{
  "cells": [
    {
      "cell_type": "raw",
      "metadata": {},
      "source": [
        "---\n",
        "title: Sampling\n",
        "format:\n",
        "  html:\n",
        "    toc: true\n",
        "    toc-depth: 5\n",
        "    toc-location: right\n",
        "    code-fold: false\n",
        "    theme:\n",
        "      - cosmo\n",
        "      - cerulean\n",
        "    callout-icon: false\n",
        "---"
      ]
    },
    {
      "cell_type": "markdown",
      "metadata": {},
      "source": [
        "::: {.callout-note collapse=\"true\"}\n",
        "## Learning Outcomes\n",
        "\n",
        "- Understand how to appropriately collect data to help answer a question. \n",
        "\n",
        ":::\n",
        "\n",
        "In Data Science, understanding characteristics of a population starts with having quality data to investigate. While it is often impossible to collect all the data describing a population, we can overcome this by properly sampling from the population. In this note, we will discuss appropriate techniques for sampling from populations. \n",
        "\n",
        "![Lifecycle diagram](images/data_life_cycle_sampling.png)\n",
        "\n",
        "## Censuses and Surveys\n",
        "\n",
        "In general: a **census** is “an official count or survey of a **population**, typically recording various details of **individuals**.”\n",
        "An example is the U.S. Decennial Census that was held in April 2020. It counts *every person* living in all 50 states, DC, and US territories, not just citizens. Participation is required by law (it is mandated by the U.S. Constitution). Important uses include the allocation of Federal funds, congressional representation, and drawing congressional and state legislative districts. The census is composed of a **survey** mailed to different housing addresses in the United States.\n",
        "\n",
        "A **survey** is a set of questions. An example is workers sampling individuals and households. What is asked and how it is asked can affect how the respondent answers or even whether or not they answer in the first place.\n",
        "\n",
        "While censuses are great, it is often very difficult and expensive to survey everyone in a population. Imagine the amount of resources, money, time, and energy the U.S. spent on the 2020 Census. While this does give us more accurate information about the population, it's often infeasible to execute. Thus, we usually survey a subset of the population instead.\n",
        "\n",
        "A **sample** is (usually) a subset of the population that is often used to make inferences about the population. If our sample is a good representation of our population, then we can use it to glean useful information with a smaller cost. That being said, how the sample is drawn will affect the reliability of such inferences. Two common source of error in sampling are **chance error**, where random samples can vary from what is expected in any direction, and  **bias**, which is a a systematic error in one direction. Biases can be the result of many things, for example our sampling scheme or survey methods. \n",
        "\n",
        "Let's define some useful vocabulary:\n",
        "\n",
        "* **Population**: The group that you want to learn something about.\n",
        "    * **Individuals** in a population are not always people. Other populations include bacteria in your gut (sampled using DNA sequencing), trees of a certain species, small businesses receiving a microloan, or published results in an academic journal or field.\n",
        "* **Sampling Frame**: The list from which the sample is drawn. \n",
        "    * For example, if sampling people, then the sampling frame is the set of all people that could possibly end up in your sample.\n",
        "* **Sample**: Who you actually end up sampling. The sample is therefore a subset of your *sampling frame*.\n",
        "\n",
        "While ideally these three sets would be exactly the same, they usually aren't in practice. For example, there may be individuals in your sampling frame (and hence, your sample) that are not in your population. And generally, sample sizes are much smaller than population sizes.\n",
        "\n",
        "![Sampling_Frames](images/samplingframe.png)\n",
        "\n",
        "## Bias: A Case Study\n",
        "\n",
        "The following case study is adapted from *Statistics* by Freedman, Pisani, and Purves, W.W. Norton NY, 1978.\n",
        "\n",
        "In 1936, President Franklin D. Roosevelt (Democratic) went up for re-election against Alf Landon (Republican) . As is usual, **polls** were conducted in the months leading up to the election to try and predict the outcome. The *Literary Digest* was a magazine that had successfully predicted the outcome of 5 general elections coming into 1936. In their polling for the 1936 election, they sent out their survey to 10 million individuals who they found from phone books, lists of magazine subscribers, and lists of country club members. Of the roughly 2.4 million people who filled out the survey, only 43\\% reported they would vote for Roosevelt; thus the *Digest* predicted that Landon would win.\n",
        "\n",
        "On election day, Roosevelt won in a landslide, winning 61\\% of the popular vote of about 45 million voters. How could the *Digest* have been so wrong with their polling?\n",
        "\n",
        "It turns out that the *Literary Digest* sample was not representative of the population. Their sampling frame of people found in phone books, lists of magazine subscribers, and lists of country club members were more affluent and tended to vote Republican. As such, their sampling frame was inherently skewed in Landon's favor. The *Literary Digest* completely overlooked the lion's share of voters who were still suffering through the Great Depression. Furthermore, they had a dismal response rate (about 24\\%); who knows how the other non-respondents would have polled? The *Digest* folded just 18 months after this disaster.\n",
        "\n",
        "At the same time, George Gallup, a rising statistician, also made predictions about the 1936 elections. Despite having a smaller sample size of “only” 50,000 (this is still more than necessary; more when we cover the Central Limit Theorem), his estimate that 56\\% of voters would choose Roosevelt was much closer to the actual result (61\\%). Gallup also predicted the *Digest*'s prediction within 1\\% with a sample size of only 3000 people by anticipating the *Digest*'s affluent sampling frame and subsampling those individuals. \n",
        "\n",
        "So what's the moral of the story? Samples, while convenient, are subject to chance error and **bias**. Election polling, in particular, can involve many sources of bias. To name a few:\n",
        "\n",
        "* **Selection bias** systematically excludes (or favors) particular groups. \n",
        "    * Example: the Literary Digest poll excludes people not in phone books.\n",
        "    * How to avoid: Examine the sampling frame and the method of sampling.\n",
        "* **Response bias** occurs because people don't always respond truthfully. Survey designers pay special detail to the nature and wording of questions to avoid this type of bias.\n",
        "    * Example: illegal immigrants might not answer truthfully when asked citizenship questions on the census survey\n",
        "    * How to avoid: Examine the nature of questions and the method of surveying.\n",
        "* **Non-response bias** occurs because people don't always respond to survey requests, which can skew responses. \n",
        "    * Example: Only 2.4m out of 10m people responded to the *Literary Digest*'s poll.\n",
        "    * How to avoid: Keep surveys short, and be persistent.\n",
        "\n",
        "Today, the *Gallup Poll* is one of the leading polls for election results. The many sources of biases -- who responds to polls? Do voters tell the truth? How can we predict turnout? -- still remain, but the the *Gallup Poll* uses several tactics to mitigate them. Within their sampling frame of \"civilian, non-institutionalized population” of adults in telephone households in continental U.S., they use random digit dialing to include both listed/unlisted phone numbers and to avoid selection bias. Additionally, they use a within household selection process to randomly select households with one or more adults. If no one answers, re-call multiple times to avoid non-response bias.\n",
        "\n",
        "\n",
        "## Probability Samples\n",
        "\n",
        "When sampling, it is essential to focus on the quality of the sample rather than the quantity of the sample. A huge sample size does not fix a bad sampling method. Our main goal is to gather a sample that is representative of the population it came from. In this section, we'll explore the different types of sampling and their pros and cons. \n",
        "\n",
        "A **convenience sample** is whatever you can get ahold of; this type of sampling is *non-random*. Note that haphazard sampling is not necessarily random sampling; there are many potential sources of bias.\n",
        "\n",
        "In a **probability sample**, we provide the **chance** that any specified **set** of individuals wil be in the sample (individuals in the population can have different chances of being selected; they don't all have to be uniform), and we sample at random based off this known chance. For this reason, probability samples are also called **random samples**. The randomness provides a few benefits: \n",
        "\n",
        "* Because we know the source probabilities, we can **measure the errors**.\n",
        "* Sampling at random gives us a more representative sample of the population, which **reduces bias**. (Note: this is only the case when the probability distribution we're sampling from is accurate. Random samples using \"bad\" or inaccurate distributions can produce biased estimates of population quantities.)\n",
        "* Probability samples allow us to **estimate** the **bias** and **chance error**, which helps us **quantify uncertainty** (more in a future lecture).\n",
        "\n",
        "The real world is usually more complicated, and we often don't know the initial probabilities. For example, we do not generally know the probability that a given bacterium is in a microbiome sample or whether people will answer when Gallup calls landlines. That being said, still we try to model probability sampling to the best of our ability even when the sampling or measurement process is not fully under our control.\n",
        "    \n",
        "A few common random sampling schemes:\n",
        "\n",
        "* A **random sample with replacement** is a sample drawn **uniformly** at random **with** replacement.\n",
        "    * Random doesn’t always mean “uniformly at random,” but in this specific context, it does.\n",
        "    * Some individuals in the population might get picked more than once\n",
        "* A **simple random sample (SRS)** is a sample drawn **uniformly** at random **without** replacement.\n",
        "    * Every individual (and subset of individuals) has the same chance of being selected.\n",
        "    * Every pair has the same chance as every other pair.\n",
        "    * Every triple has the same chance as every other triple.\n",
        "    * And so on.\n",
        "* A **stratified random sample**, where random sampling is performed on strata (specific groups), and the groups together compose a sample.\n",
        "\n",
        "### Example Scheme 1: Probability Sample\n",
        "Suppose we have 3 TA's (**A**lan, **B**ennett, **C**eline):\n",
        "I decide to sample 2 of them as follows:\n",
        "\n",
        "* I choose A with probability 1.0\n",
        "* I choose either B or C, each with probability 0.5.\n",
        "\n",
        "We can list all the possible outcomes and their respective probabilities in a table: \n",
        "\n",
        "| Outcome | Probability |\n",
        "| --- | ----------- |\n",
        "| {A, B} | 0.5 |\n",
        "| {A, C} | 0.5 |\n",
        "| {B, C} | 0 |\n",
        " \n",
        "This is a **probability sample** (though not a great one). Of the 3 people in my population, I know the chance of getting each subset. Suppose I’m measuring the average distance TA’s live from campus.\n",
        "\n",
        "* This scheme does not see the entire population!\n",
        "* My estimate using the single sample I take has some chance error depending on if I see AB or AC.\n",
        "* This scheme biases towards A’s response\n",
        "\n",
        "### Example Scheme 2: Simple Random Sample\n",
        "Consider the following sampling scheme:\n",
        "\n",
        "* A class roster has 1100 students listed alphabetically.\n",
        "* Pick one of the first 10 students on the list at random (e.g. Student 8).\n",
        "* To create your sample, take that student and every 10th student listed after that (e.g. Students 8, 18, 28, 38, etc).\n"
      ]
    },
    {
      "cell_type": "markdown",
      "metadata": {},
      "source": [
        "<details>\n",
        "  <summary>1. Is this a probability sample?</summary>\n",
        "  Yes.For a sample [n, n + 10, n + 20, …, n + 1090], where 1 <= n <= 10, the probability of that sample is 1/10. \n",
        "    Otherwise, the probability is 0.\n",
        "    Only 10 possible samples!\n",
        "\n",
        "</details>"
      ]
    },
    {
      "cell_type": "markdown",
      "metadata": {},
      "source": [
        "<details>\n",
        "  <summary>2. Does each student have the same probability of being selected?</summary>\n",
        "  Yes.\n",
        "    Each student is chosen with probability 1/10.\n",
        "</details>"
      ]
    },
    {
      "cell_type": "markdown",
      "metadata": {},
      "source": [
        "<details>\n",
        "  <summary>3. Is this a simple random sample?</summary>\n",
        "  No. The chance of selecting (8, 18) is 1/10; the chance of selecting (8, 9) is 0.\n",
        "</details>"
      ]
    },
    {
      "cell_type": "markdown",
      "metadata": {},
      "source": [
        "### Demo: Barbie v. Oppenheimer\n",
        "We are trying to collect a sample from Berkeley residents to predict the which one of Barbie and Oppenheimer would perform better on their opening day, July 21st.\n",
        "\n",
        "First, let's grab a dataset that has every single residents in Berkeley (this is a fake dataset) and which movie they **actually** watched on July 21st.\n",
        "\n",
        "Let's load in the `movie.csv` table. We can assume that:\n",
        "\n",
        "* `is_male` is a boolean that indicates if a resident identifies as male.\n",
        "* There are only two movies they can watch on July 21st: Barbie and Oppenheimer.\n",
        "* Every resident watches a movie (either Barbie or Oppenheimer) on July 21st.\n"
      ]
    },
    {
      "cell_type": "code",
      "execution_count": 1,
      "metadata": {},
      "outputs": [],
      "source": [
        "#| code-fold: true\n",
        "import matplotlib.pyplot as plt\n",
        "import numpy as np\n",
        "import pandas as pd\n",
        "import seaborn as sns\n",
        "\n",
        "sns.set_theme(style='darkgrid', font_scale = 1.5,\n",
        "              rc={'figure.figsize':(7,5)})\n",
        "\n",
        "rng = np.random.default_rng()"
      ]
    },
    {
      "cell_type": "code",
      "execution_count": 4,
      "metadata": {},
      "outputs": [
        {
          "data": {
            "text/html": [
              "<div>\n",
              "<style scoped>\n",
              "    .dataframe tbody tr th:only-of-type {\n",
              "        vertical-align: middle;\n",
              "    }\n",
              "\n",
              "    .dataframe tbody tr th {\n",
              "        vertical-align: top;\n",
              "    }\n",
              "\n",
              "    .dataframe thead th {\n",
              "        text-align: right;\n",
              "    }\n",
              "</style>\n",
              "<table border=\"1\" class=\"dataframe\">\n",
              "  <thead>\n",
              "    <tr style=\"text-align: right;\">\n",
              "      <th></th>\n",
              "      <th>age</th>\n",
              "      <th>is_male</th>\n",
              "      <th>movie</th>\n",
              "      <th>barbie</th>\n",
              "    </tr>\n",
              "  </thead>\n",
              "  <tbody>\n",
              "    <tr>\n",
              "      <th>0</th>\n",
              "      <td>35</td>\n",
              "      <td>False</td>\n",
              "      <td>Barbie</td>\n",
              "      <td>1</td>\n",
              "    </tr>\n",
              "    <tr>\n",
              "      <th>1</th>\n",
              "      <td>42</td>\n",
              "      <td>True</td>\n",
              "      <td>Oppenheimer</td>\n",
              "      <td>0</td>\n",
              "    </tr>\n",
              "    <tr>\n",
              "      <th>2</th>\n",
              "      <td>55</td>\n",
              "      <td>False</td>\n",
              "      <td>Barbie</td>\n",
              "      <td>1</td>\n",
              "    </tr>\n",
              "    <tr>\n",
              "      <th>3</th>\n",
              "      <td>77</td>\n",
              "      <td>True</td>\n",
              "      <td>Oppenheimer</td>\n",
              "      <td>0</td>\n",
              "    </tr>\n",
              "    <tr>\n",
              "      <th>4</th>\n",
              "      <td>31</td>\n",
              "      <td>False</td>\n",
              "      <td>Barbie</td>\n",
              "      <td>1</td>\n",
              "    </tr>\n",
              "  </tbody>\n",
              "</table>\n",
              "</div>"
            ],
            "text/plain": [
              "   age  is_male        movie  barbie\n",
              "0   35    False       Barbie       1\n",
              "1   42     True  Oppenheimer       0\n",
              "2   55    False       Barbie       1\n",
              "3   77     True  Oppenheimer       0\n",
              "4   31    False       Barbie       1"
            ]
          },
          "execution_count": 4,
          "metadata": {},
          "output_type": "execute_result"
        }
      ],
      "source": [
        "movie = pd.read_csv(\"data/movie.csv\")\n",
        "\n",
        "# create a 1/0 int that indicates Barbie vote\n",
        "movie['barbie'] = (movie['movie'] == 'Barbie').astype(int)\n",
        "movie.head()"
      ]
    },
    {
      "cell_type": "markdown",
      "metadata": {},
      "source": [
        "What fraction of Berkeley residents chose Barbie?"
      ]
    },
    {
      "cell_type": "code",
      "execution_count": 5,
      "metadata": {},
      "outputs": [
        {
          "data": {
            "text/plain": [
              "0.5302792307692308"
            ]
          },
          "execution_count": 5,
          "metadata": {},
          "output_type": "execute_result"
        }
      ],
      "source": [
        "actual_barbie = np.mean(movie[\"barbie\"])\n",
        "actual_barbie"
      ]
    },
    {
      "cell_type": "markdown",
      "metadata": {},
      "source": [
        "This is the **actual outcome** of the competition. Based on this result, Barbie would win. How did our sample of retirees do?\n",
        "\n",
        "#### Convenience Sample: Retirees\n",
        "Let's take a convenience sample of people who have retired (>= 65 years old). What proportion of them went to see Barbie instead of Oppenheimer? "
      ]
    },
    {
      "cell_type": "code",
      "execution_count": 7,
      "metadata": {},
      "outputs": [
        {
          "data": {
            "text/plain": [
              "0.3744755089093924"
            ]
          },
          "execution_count": 7,
          "metadata": {},
          "output_type": "execute_result"
        }
      ],
      "source": [
        "convenience_sample = movie[movie['age'] >= 65] # take a convenience sample of retirees\n",
        "np.mean(convenience_sample[\"barbie\"]) # what proportion of them saw Barbie? "
      ]
    },
    {
      "cell_type": "markdown",
      "metadata": {},
      "source": [
        "Based on this result, we would have predicted that Oppenheimer would win! What happened? Is it possible that our sample is too small or noisy?"
      ]
    },
    {
      "cell_type": "code",
      "execution_count": 8,
      "metadata": {},
      "outputs": [
        {
          "data": {
            "text/plain": [
              "359396"
            ]
          },
          "execution_count": 8,
          "metadata": {},
          "output_type": "execute_result"
        }
      ],
      "source": [
        "# what's the size of our sample? \n",
        "len(convenience_sample)"
      ]
    },
    {
      "cell_type": "code",
      "execution_count": 9,
      "metadata": {},
      "outputs": [
        {
          "data": {
            "text/plain": [
              "0.27645846153846154"
            ]
          },
          "execution_count": 9,
          "metadata": {},
          "output_type": "execute_result"
        }
      ],
      "source": [
        "# what proportion of our data is in the convenience sample? \n",
        "len(convenience_sample)/len(movie)"
      ]
    },
    {
      "cell_type": "markdown",
      "metadata": {},
      "source": [
        "Seems like our sample is rather large (roughly 360,000 people), so the error is likely not due to solely to chance. \n",
        "\n",
        "#### Check for Bias\n",
        "Let us aggregate all choices by age and visualize the fraction of Barbie views, split by gender."
      ]
    },
    {
      "cell_type": "code",
      "execution_count": 11,
      "metadata": {},
      "outputs": [
        {
          "data": {
            "text/html": [
              "<div>\n",
              "<style scoped>\n",
              "    .dataframe tbody tr th:only-of-type {\n",
              "        vertical-align: middle;\n",
              "    }\n",
              "\n",
              "    .dataframe tbody tr th {\n",
              "        vertical-align: top;\n",
              "    }\n",
              "\n",
              "    .dataframe thead th {\n",
              "        text-align: right;\n",
              "    }\n",
              "</style>\n",
              "<table border=\"1\" class=\"dataframe\">\n",
              "  <thead>\n",
              "    <tr style=\"text-align: right;\">\n",
              "      <th></th>\n",
              "      <th>age</th>\n",
              "      <th>is_male</th>\n",
              "      <th>barbie</th>\n",
              "    </tr>\n",
              "  </thead>\n",
              "  <tbody>\n",
              "    <tr>\n",
              "      <th>0</th>\n",
              "      <td>18</td>\n",
              "      <td>False</td>\n",
              "      <td>0.819594</td>\n",
              "    </tr>\n",
              "    <tr>\n",
              "      <th>1</th>\n",
              "      <td>18</td>\n",
              "      <td>True</td>\n",
              "      <td>0.667001</td>\n",
              "    </tr>\n",
              "    <tr>\n",
              "      <th>2</th>\n",
              "      <td>19</td>\n",
              "      <td>False</td>\n",
              "      <td>0.812214</td>\n",
              "    </tr>\n",
              "    <tr>\n",
              "      <th>3</th>\n",
              "      <td>19</td>\n",
              "      <td>True</td>\n",
              "      <td>0.661252</td>\n",
              "    </tr>\n",
              "    <tr>\n",
              "      <th>4</th>\n",
              "      <td>20</td>\n",
              "      <td>False</td>\n",
              "      <td>0.805281</td>\n",
              "    </tr>\n",
              "  </tbody>\n",
              "</table>\n",
              "</div>"
            ],
            "text/plain": [
              "   age  is_male    barbie\n",
              "0   18    False  0.819594\n",
              "1   18     True  0.667001\n",
              "2   19    False  0.812214\n",
              "3   19     True  0.661252\n",
              "4   20    False  0.805281"
            ]
          },
          "execution_count": 11,
          "metadata": {},
          "output_type": "execute_result"
        }
      ],
      "source": [
        "votes_by_barbie = movie.groupby([\"age\",\"is_male\"]).agg(\"mean\", numeric_only=True).reset_index()\n",
        "votes_by_barbie.head()"
      ]
    },
    {
      "cell_type": "code",
      "execution_count": 12,
      "metadata": {},
      "outputs": [
        {
          "data": {
            "image/png": "[encoded data removed]",
            "text/plain": [
              "<Figure size 700x500 with 1 Axes>"
            ]
          },
          "metadata": {},
          "output_type": "display_data"
        }
      ],
      "source": [
        "#| code-fold: true\n",
        "# A common matplotlib/seaborn pattern: create the figure and axes object, pass ax\n",
        "# to seaborn for drawing into, and later fine-tune the figure via ax.\n",
        "fig, ax = plt.subplots();\n",
        "\n",
        "red_blue = [\"#bf1518\", \"#397eb7\"]\n",
        "with sns.color_palette(red_blue):\n",
        "    sns.pointplot(data=votes_by_barbie, x = \"age\", y = \"barbie\", hue = \"is_male\", ax=ax)\n",
        "\n",
        "new_ticks = [i.get_text() for i in ax.get_xticklabels()]\n",
        "ax.set_xticks(range(0, len(new_ticks), 10), new_ticks[::10])\n",
        "ax.set_title(\"Preferences by Demographics\");"
      ]
    },
    {
      "cell_type": "markdown",
      "metadata": {},
      "source": [
        "* We see that retirees (in Berkeley) tend to watch Oppenheimer.\n",
        "* We also see that residents who identify as non-male tend to prefer Barbie.\n",
        "\n",
        "#### Simple Random Sample\n",
        "Suppose we took a simple random sample (SRS) of the same size as our retiree sample:"
      ]
    },
    {
      "cell_type": "code",
      "execution_count": 13,
      "metadata": {},
      "outputs": [
        {
          "data": {
            "text/plain": [
              "0.5304705672851117"
            ]
          },
          "execution_count": 13,
          "metadata": {},
          "output_type": "execute_result"
        }
      ],
      "source": [
        "n = len(convenience_sample)\n",
        "random_sample = movie.sample(n, replace = False) ## By default, replace = False\n",
        "np.mean(random_sample[\"barbie\"])"
      ]
    },
    {
      "cell_type": "markdown",
      "metadata": {},
      "source": [
        "This is very close to the actual vote of 0.5302792307692308! \n",
        "\n",
        "It turns out that we can get similar results with a **much smaller sample size**, say, 800:"
      ]
    },
    {
      "cell_type": "code",
      "execution_count": 14,
      "metadata": {},
      "outputs": [
        {
          "data": {
            "text/markdown": [
              "**Actual** = 0.5303, **Sample** = 0.5225, **Err** = 1.47%."
            ],
            "text/plain": [
              "<IPython.core.display.Markdown object>"
            ]
          },
          "execution_count": 14,
          "metadata": {},
          "output_type": "execute_result"
        }
      ],
      "source": [
        "n = 800\n",
        "random_sample = movie.sample(n, replace = False)\n",
        "\n",
        "# Compute the sample average and the resulting relative error\n",
        "sample_barbie = np.mean(random_sample[\"barbie\"])\n",
        "err = abs(sample_barbie-actual_barbie)/actual_barbie\n",
        "\n",
        "# We can print output with Markdown formatting too...\n",
        "from IPython.display import Markdown\n",
        "Markdown(f\"**Actual** = {actual_barbie:.4f}, **Sample** = {sample_barbie:.4f}, \"\n",
        "         f\"**Err** = {100*err:.2f}%.\")"
      ]
    },
    {
      "cell_type": "markdown",
      "metadata": {},
      "source": [
        "We'll learn how to choose this number when we (re)learn the Central Limit Theorem later in the semester.\n",
        "\n",
        "#### Quantifying Chance Error\n",
        "In our SRS of size 800, what would be our chance error?\n",
        "\n",
        "Let's simulate 1000 versions of taking the 800-sized SRS from before:"
      ]
    },
    {
      "cell_type": "code",
      "execution_count": 15,
      "metadata": {},
      "outputs": [],
      "source": [
        "nrep = 1000   # number of simulations\n",
        "n = 800       # size of our sample\n",
        "poll_result = []\n",
        "for i in range(0, nrep):\n",
        "    random_sample = movie.sample(n, replace = False)\n",
        "    poll_result.append(np.mean(random_sample[\"barbie\"]))"
      ]
    },
    {
      "cell_type": "code",
      "execution_count": 16,
      "metadata": {},
      "outputs": [
        {
          "data": {
            "image/png": "[encoded data removed]",
            "text/plain": [
              "<Figure size 700x500 with 1 Axes>"
            ]
          },
          "metadata": {},
          "output_type": "display_data"
        }
      ],
      "source": [
        "#| code-fold: true\n",
        "fig, ax = plt.subplots()\n",
        "sns.histplot(poll_result, stat='density', ax=ax)\n",
        "ax.axvline(actual_barbie, color=\"orange\", lw=4);"
      ]
    },
    {
      "cell_type": "markdown",
      "metadata": {},
      "source": [
        "What fraction of these simulated samples would have predicted Barbie?"
      ]
    },
    {
      "cell_type": "code",
      "execution_count": 17,
      "metadata": {},
      "outputs": [
        {
          "data": {
            "text/plain": [
              "0.955"
            ]
          },
          "execution_count": 17,
          "metadata": {},
          "output_type": "execute_result"
        }
      ],
      "source": [
        "poll_result = pd.Series(poll_result)\n",
        "np.sum(poll_result > 0.5)/1000"
      ]
    },
    {
      "cell_type": "markdown",
      "metadata": {},
      "source": [
        "You can see the curve looks roughly Gaussian/normal. Using KDE:"
      ]
    },
    {
      "cell_type": "code",
      "execution_count": 18,
      "metadata": {},
      "outputs": [
        {
          "data": {
            "image/png": "[encoded data removed]",
            "text/plain": [
              "<Figure size 700x500 with 1 Axes>"
            ]
          },
          "metadata": {},
          "output_type": "display_data"
        }
      ],
      "source": [
        "#| code-fold: true\n",
        "sns.histplot(poll_result, stat='density', kde=True);"
      ]
    },
    {
      "cell_type": "markdown",
      "metadata": {},
      "source": [
        "### Multinomial Probabilities\n",
        "So far, we've obtained a sample from a population, and that gave us the ability to quantify error and bias. **Given the population distribution**, we can compute the probability of us getting a **particular sample**. (In the real world, we almost **never** know the population distribution, but this is a good start!). A special case called **Multinomial Probabilities** arises when we randomly sample with replacement of a **categorical** population.\n",
        "\n",
        "It's very common in data science to have an enormous population that we can only afford to sample a relatively small number of individuals from. If the population is *huge* compared to the sample, then random sampling *with* and *without* replacement are *pretty much the same*.\n",
        "\n",
        "For example, Suppose there are 10,000 people in a population. Exactly 7,500 of them like Reese's; the other 2,500 like Snickers.\n",
        "What is the probability that in a random sample of 20, all people like Reese's?\n",
        "\n",
        "* Random Sample Without Replacement (SRS): \n",
        "    $$ \n",
        "    \\frac{7500}{10000} * \\frac{7499}{99999} * ... * \\frac{7482}{9982} * \\frac{7481}{9981} \\\\\n",
        "     \\\\ \\approx 0.75 * 0.74997 * ... * 0.7495 * 0.7495\n",
        "     \\\\ \\approx 0.003151\n",
        "    $$\n",
        "* Random Sample With Replacement: \n",
        "    $$(\\frac{7500}{10000})^{20}  \\approx 0.00317$$\n",
        "    \n",
        "\n",
        "As you can see, probabilities of sampling with replacement are much easier to compute!\n",
        "\n",
        "Multinomial probabilities arise when we sample:\n",
        "\n",
        "* Uniformly at random, with replacement.\n",
        "* A fixed number (n) times.\n",
        "* From a categorical distribution.\n",
        "* If 2 categories, Binomial\n",
        "* If > 2 categories, Multinomial:\n",
        "\n",
        "\n",
        "#### Example: Marbles\n",
        "Say we have a bag of marbles where 60% are blue, 30% are gree, and 10% are red. We can use NumPy's `np.random.multinomial` to simulate random samples **with replacement**."
      ]
    },
    {
      "cell_type": "code",
      "execution_count": 19,
      "metadata": {},
      "outputs": [
        {
          "data": {
            "text/plain": [
              "array([58, 27, 15])"
            ]
          },
          "execution_count": 19,
          "metadata": {},
          "output_type": "execute_result"
        }
      ],
      "source": [
        "marble_probabilities = [0.60, 0.30, 0.10]\n",
        "# draw 100 marbels from this bag at random with replacement.\n",
        "np.random.multinomial(100, marble_probabilities)"
      ]
    },
    {
      "cell_type": "code",
      "execution_count": 21,
      "metadata": {},
      "outputs": [
        {
          "data": {
            "text/plain": [
              "array([[53, 33, 14],\n",
              "       [60, 32,  8],\n",
              "       [66, 27,  7],\n",
              "       [60, 27, 13],\n",
              "       [48, 39, 13]])"
            ]
          },
          "execution_count": 21,
          "metadata": {},
          "output_type": "execute_result"
        }
      ],
      "source": [
        "# We can repeat this simulation multiple times, say 5\n",
        "np.random.multinomial(100, [0.60, 0.30, 0.10], size=5)"
      ]
    },
    {
      "cell_type": "markdown",
      "metadata": {},
      "source": [
        "If we draw 7 marbles from this bag of marbles, how many of each color will we get?\n",
        "\n",
        "Suppose we get a sample of 4 blue marbles, 2 green marbles, and 1 red marble. What is the probability of getting this sample?"
      ]
    },
    {
      "cell_type": "markdown",
      "metadata": {},
      "source": [
        "<details>\n",
        "  <summary>What is P(bgbbbgr)?</summary>\n",
        "  \n",
        "  Use product rule to determine probability for a particular order:\n",
        "\n",
        "  $P(bgbbbgr) = 0.6 * 0.3 * 0.6 * 0.6 * 0.6 * 0.3 * 0.1 = (0.6)^4 (0.3)^2 (0.1)^1 $\n",
        "</details>"
      ]
    },
    {
      "cell_type": "markdown",
      "metadata": {},
      "source": [
        "<details>\n",
        "  <summary>What is P(4 blue, 2 green, 1 red?</summary>\n",
        "  \n",
        "  We use the addition rule and the multiplication rule: \n",
        "    * the first term is the # of ways to choose 4 of 7 places to write b, then choose 2 places to write g , (other 1 get filled with r)\n",
        "    * the second term is the probability of this ordered series of b‘s, g ‘s, and r’s for a particular outcome (say, Q1),\n",
        "\n",
        "\n",
        "  $$\\frac{7!}{4! 2! 1!} (0.6)^4 (0.3)^2 (0.1)^1 $$\n",
        "\n",
        "  This is a multinomial probability!\n",
        "</details>"
      ]
    },
    {
      "cell_type": "markdown",
      "metadata": {},
      "source": [
        "#### Multinomial Probabilities: Generalized\n",
        "If we are drawing at random with replacement n times, from a population broken into three separate categories (where p1 + p2 + p3 = 1):\n",
        "\n",
        "* Category 1, with proportion p1 of the individuals.\n",
        "* Category 2, with proportion p2 of the individuals.\n",
        "* Category 3, with proportion p3 of the individuals.\n",
        "\n",
        "Then, the multinomial probability of drawing k<sub>1</sub> individuals from Category 1, k<sub>2</sub> individuals from Category 2, and k3 individuals from Category 3 (where k<sub>1</sub> + k<sub>2</sub> + k<sub>3</sub> = n) is\n",
        "\n",
        "$$\\frac{n!}{k_1! k_2! k_3!} p_1 ^ {k_1} p_2 ^ {k_2} p_3 ^ {k_3} $$\n",
        "\n",
        "**At no point in this class will you be required to memorize this!** This is just for your own understanding."
      ]
    },
    {
      "cell_type": "markdown",
      "metadata": {},
      "source": [
        "## Comparing Convenience Sample and SRS\n",
        "\n",
        "Suppose that we are trying to run a poll to predict the mayoral election in Bearkeley City (an imaginary city that neighbors Berkeley). \n",
        "Suppose we took a sample to predict the election outcome by polling all retirees. Even if they answer truthfully, we have a **convenience sample**. How biased would this sample be in predicting the results? While we will not numerically quantify the bias, in this demo we'll visually show that because of the voter population distribution, any error in our prediction from a retiree sample cannot be simply due to chance:\n",
        "\n",
        "First, let's grab a data set that has every single voter in the Bearkeley (again, this is a fake dataset) and how they **actually** voted in the election. For the purposes of this example, assume:\n",
        "* \"high income\" indicates a voter is above the median household income, which is $97,834 (actual Berkeley number).\n",
        "* There are only two mayoral candidates: one Democrat and one Republican.\n",
        "* Every registered voter votes in the election for the candidate under their registered party (Dem or Rep)."
      ]
    },
    {
      "cell_type": "code",
      "execution_count": null,
      "metadata": {
        "tags": []
      },
      "outputs": [],
      "source": [
        "import pandas as pd\n",
        "import numpy as np\n",
        "bearkeley = pd.read_csv(\"data/bearkeley.csv\")\n",
        "\n",
        "# create a 1/0 int that indicates democratic vote\n",
        "bearkeley['vote.dem'] = (bearkeley['vote'] == 'Dem').astype(int)\n",
        "bearkeley.head()"
      ]
    },
    {
      "cell_type": "code",
      "execution_count": null,
      "metadata": {},
      "outputs": [],
      "source": [
        "bearkeley.shape"
      ]
    },
    {
      "cell_type": "code",
      "execution_count": null,
      "metadata": {},
      "outputs": [],
      "source": [
        "actual_vote = np.mean(bearkeley[\"vote.dem\"])\n",
        "actual_vote"
      ]
    },
    {
      "cell_type": "markdown",
      "metadata": {},
      "source": [
        "This is the **actual outcome** of the election. Based on this result, the Democratic candidate would win. However, if we were to only consider retiree voters (a retired person is anyone age 65 and up):"
      ]
    },
    {
      "cell_type": "code",
      "execution_count": null,
      "metadata": {},
      "outputs": [],
      "source": [
        "convenience_sample = bearkeley[bearkeley['age'] >= 65]\n",
        "np.mean(convenience_sample[\"vote.dem\"])"
      ]
    },
    {
      "cell_type": "markdown",
      "metadata": {},
      "source": [
        "Based on this result, we would have predicted that the Republican candidate would win! This error is not due to the sample being too small to yield accurate predictions, because there are 359,396 retirees (about 27\\% of the 1.3 million Bearkeley voters). Instead, there seems to be something larger happening. Let's visualize the voter preferences of the entire population to see how retirees trend:\n",
        "\n",
        "Let us aggregate all voters by age and visualize the fraction of Democratic voters, split by income."
      ]
    },
    {
      "cell_type": "code",
      "execution_count": null,
      "metadata": {},
      "outputs": [],
      "source": [
        "import seaborn as sns\n",
        "import matplotlib.pyplot as plt\n",
        "import matplotlib.ticker as ticker\n",
        "\n",
        "sns.set_theme(style='darkgrid', font_scale = 1.5,\n",
        "              rc={'figure.figsize':(7,5)})\n",
        "\n",
        "# aggregate all voters by age\n",
        "votes_by_demo = bearkeley.groupby([\"age\",\"high_income\"]).agg(\"mean\").reset_index()\n",
        "\n",
        "fig = plt.figure();\n",
        "red_blue = [\"#bf1518\", \"#397eb7\"]\n",
        "with sns.color_palette(sns.color_palette(red_blue)):\n",
        "    ax = sns.pointplot(data=votes_by_demo, x = \"age\", y = \"vote.dem\", hue = \"high_income\")\n",
        "\n",
        "ax.set_title(\"Voting preferences by demographics\")\n",
        "fig.canvas.draw()\n",
        "new_ticks = [i.get_text() for i in ax.get_xticklabels()];\n",
        "plt.xticks(range(0, len(new_ticks), 10), new_ticks[::10]);"
      ]
    },
    {
      "cell_type": "markdown",
      "metadata": {},
      "source": [
        "From the plot above, we see that retirees in the imaginary city of Bearkeley tend to vote less Democrat, which skewed our predictions from our sample. We also note that high-income voters tend to vote less Democrat (and more Republican).\n",
        "\n",
        "Let's compare our biased convenience sample to a simple random sample. Supposing we took an SRS the same size as our retiree sample, we see that we get a result very close to the actual vote:"
      ]
    },
    {
      "cell_type": "code",
      "execution_count": null,
      "metadata": {},
      "outputs": [],
      "source": [
        "## By default, replace = False\n",
        "n = len(convenience_sample)\n",
        "random_sample = bearkeley.sample(n, replace = False)\n",
        "\n",
        "np.mean(random_sample[\"vote.dem\"])"
      ]
    },
    {
      "cell_type": "markdown",
      "metadata": {},
      "source": [
        "This is very close to the actual vote!\n",
        "\n",
        "We could even get pretty close with a *much smaller sample size*, say 800:\n",
        "\n",
        "It turns out that we are pretty close, **much smaller sample size**, say, 800 (we'll learn how to choose this number when we introduce the Central Limit Theorem):"
      ]
    },
    {
      "cell_type": "code",
      "execution_count": null,
      "metadata": {},
      "outputs": [],
      "source": [
        "n = 800\n",
        "random_sample = bearkeley.sample(n, replace = False)\n",
        "np.mean(random_sample[\"vote.dem\"])"
      ]
    },
    {
      "cell_type": "markdown",
      "metadata": {},
      "source": [
        "To visualize the chance error in an SRS, let's simulate 1000 samples of the 800-size Simple Random Sample:"
      ]
    },
    {
      "cell_type": "code",
      "execution_count": null,
      "metadata": {},
      "outputs": [],
      "source": [
        "poll_result = []\n",
        "nrep = 1000   # number of simulations\n",
        "n = 800       # size of our sample\n",
        "for i in range(0,nrep):\n",
        "    random_sample = bearkeley.sample(n, replace = False)\n",
        "    poll_result.append(np.mean(random_sample[\"vote.dem\"]))\n",
        "sns.histplot(poll_result, stat='density', kde=True)\n",
        "\n",
        "# What fraction of these simulated samples would have predicted Democrat?\n",
        "poll_result = pd.Series(poll_result)\n",
        "np.sum(poll_result >= 0.5)/1000"
      ]
    },
    {
      "cell_type": "markdown",
      "metadata": {},
      "source": [
        "A few observations: First, the KDE looks roughly Gaussian. Second, supposing that we predicted a Democratic winner if 50\\% of our sample voted Democrat, then just about 4\\% of our simulated samples would have predicted the election result incorrectly. This visualization further justifies why our convenience sample had error that was not entirely just due to chance. We'll revisit this notion later in the course.\n",
        "\n",
        "\n",
        "## Summary\n",
        "\n",
        "Understanding the sampling process is what lets us go from describing the data to understanding the world. Without knowing / assuming something about how the data were collected, there is no connection between the sample and the population. Ultimately, the dataset doesn’t tell us about the world behind the data.\n"
      ]
    }
  ],
  "metadata": {
    "kernelspec": {
      "display_name": "Python 3 (ipykernel)",
      "language": "python",
      "name": "python3"
    },
    "language_info": {
      "codemirror_mode": {
        "name": "ipython",
        "version": 3
      },
      "file_extension": ".py",
      "mimetype": "text/x-python",
      "name": "python",
      "nbconvert_exporter": "python",
      "pygments_lexer": "ipython3",
      "version": "3.10.9"
    }
  },
  "nbformat": 4,
  "nbformat_minor": 4
}
